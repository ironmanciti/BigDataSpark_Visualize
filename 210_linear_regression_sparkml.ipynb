{
  "cells": [
    {
      "cell_type": "markdown",
      "source": [
        "# Sparl ML 을 이용한 선형 회귀\n",
        "\n",
        "캘리포니아 주택 데이터셋은 미국 1990년 인구조사를 기반으로 하며, 각 컬럼은 주택, 인구, 지역 등과 관련된 다양한 특성을 나타냅니다. 아래는 데이터셋의 각 컬럼에 대한 상세 설명입니다:\n",
        "\n",
        "    `MedInc` : 블록 그룹 내 중위 소득 (Median income in block group).  \n",
        "    `HouseAge` :  블록 그룹 내 중위 주택 연령 (Median house age in block group).  \n",
        "    `AveRooms`: 가구당 평균 방 개수 (Average number of rooms per household).  \n",
        "    `AveBedrms`: 가구당 평균 침실 개수 (Average number of bedrooms per household).  \n",
        "    `Population`: 블록 그룹 내 인구 수 (Population in block group).  \n",
        "    `AveOccup`: 가구당 평균 구성원 수 (Average number of household members).  \n",
        "    `Latitude`: 블록 그룹의 위도 (Block group latitude).  \n",
        "    `Longitude` : 블록 그룹의 경도 (Block group longitude).  \n",
        "    `MedHouseVal`: 블록 그룹의 중위 주택 가치 (Median house value for block group).  \n",
        "\n",
        "### 데이터셋 참고사항\n",
        "    블록 그룹: 인구조사에서 사용되는 최소 지리적 단위로, 600~3,000명의 인구를 포함.\n",
        "    가구: 한 주택 내에서 거주하는 사람들의 그룹.\n",
        "\n",
        "이 데이터는 캘리포니아 주택 가격을 예측하는 회귀 문제에 자주 사용되며, 특성 간의 상관관계와 데이터를 기반으로 다양한 패턴을 분석할 수 있습니다."
      ],
      "metadata": {
        "id": "F-QVa_-G0psW"
      },
      "id": "F-QVa_-G0psW"
    },
    {
      "cell_type": "code",
      "execution_count": 1,
      "id": "f24909b8",
      "metadata": {
        "id": "f24909b8"
      },
      "outputs": [],
      "source": [
        "from pyspark.sql import SparkSession\n",
        "\n",
        "spark = SparkSession.builder \\\n",
        "    .appName(\"LinearRegrssion\") \\\n",
        "    .config(\"spark.sql.repl.eagerEval.enabled\", True) \\\n",
        "    .getOrCreate()"
      ]
    },
    {
      "cell_type": "code",
      "source": [
        "from sklearn.datasets import fetch_california_housing\n",
        "import pandas as pd\n",
        "import numpy as np\n",
        "# PySpark 선형 회귀 모델\n",
        "from pyspark.ml.regression import LinearRegression\n",
        "# 문자열 데이터를 인덱스 번호로 변환\n",
        "from pyspark.ml.feature import StringIndexer\n",
        "# 피처를 벡터 형식으로 변환\n",
        "from pyspark.ml.feature import VectorAssembler\n",
        "import warnings\n",
        "warnings.filterwarnings('ignore')\n",
        "\n",
        "# 캘리포니아 주택 데이터셋 로드\n",
        "housing = fetch_california_housing()\n",
        "housing"
      ],
      "metadata": {
        "id": "YWhURBlGyVj5",
        "colab": {
          "base_uri": "https://localhost:8080/"
        },
        "outputId": "8b8dc051-3777-4188-d4e7-7a2d464c98f5"
      },
      "id": "YWhURBlGyVj5",
      "execution_count": 2,
      "outputs": [
        {
          "output_type": "execute_result",
          "data": {
            "text/plain": [
              "{'data': array([[   8.3252    ,   41.        ,    6.98412698, ...,    2.55555556,\n",
              "           37.88      , -122.23      ],\n",
              "        [   8.3014    ,   21.        ,    6.23813708, ...,    2.10984183,\n",
              "           37.86      , -122.22      ],\n",
              "        [   7.2574    ,   52.        ,    8.28813559, ...,    2.80225989,\n",
              "           37.85      , -122.24      ],\n",
              "        ...,\n",
              "        [   1.7       ,   17.        ,    5.20554273, ...,    2.3256351 ,\n",
              "           39.43      , -121.22      ],\n",
              "        [   1.8672    ,   18.        ,    5.32951289, ...,    2.12320917,\n",
              "           39.43      , -121.32      ],\n",
              "        [   2.3886    ,   16.        ,    5.25471698, ...,    2.61698113,\n",
              "           39.37      , -121.24      ]]),\n",
              " 'target': array([4.526, 3.585, 3.521, ..., 0.923, 0.847, 0.894]),\n",
              " 'frame': None,\n",
              " 'target_names': ['MedHouseVal'],\n",
              " 'feature_names': ['MedInc',\n",
              "  'HouseAge',\n",
              "  'AveRooms',\n",
              "  'AveBedrms',\n",
              "  'Population',\n",
              "  'AveOccup',\n",
              "  'Latitude',\n",
              "  'Longitude'],\n",
              " 'DESCR': '.. _california_housing_dataset:\\n\\nCalifornia Housing dataset\\n--------------------------\\n\\n**Data Set Characteristics:**\\n\\n:Number of Instances: 20640\\n\\n:Number of Attributes: 8 numeric, predictive attributes and the target\\n\\n:Attribute Information:\\n    - MedInc        median income in block group\\n    - HouseAge      median house age in block group\\n    - AveRooms      average number of rooms per household\\n    - AveBedrms     average number of bedrooms per household\\n    - Population    block group population\\n    - AveOccup      average number of household members\\n    - Latitude      block group latitude\\n    - Longitude     block group longitude\\n\\n:Missing Attribute Values: None\\n\\nThis dataset was obtained from the StatLib repository.\\nhttps://www.dcc.fc.up.pt/~ltorgo/Regression/cal_housing.html\\n\\nThe target variable is the median house value for California districts,\\nexpressed in hundreds of thousands of dollars ($100,000).\\n\\nThis dataset was derived from the 1990 U.S. census, using one row per census\\nblock group. A block group is the smallest geographical unit for which the U.S.\\nCensus Bureau publishes sample data (a block group typically has a population\\nof 600 to 3,000 people).\\n\\nA household is a group of people residing within a home. Since the average\\nnumber of rooms and bedrooms in this dataset are provided per household, these\\ncolumns may take surprisingly large values for block groups with few households\\nand many empty houses, such as vacation resorts.\\n\\nIt can be downloaded/loaded using the\\n:func:`sklearn.datasets.fetch_california_housing` function.\\n\\n.. rubric:: References\\n\\n- Pace, R. Kelley and Ronald Barry, Sparse Spatial Autoregressions,\\n  Statistics and Probability Letters, 33 (1997) 291-297\\n'}"
            ]
          },
          "metadata": {},
          "execution_count": 2
        }
      ]
    },
    {
      "cell_type": "code",
      "execution_count": 3,
      "id": "e6b4ce5e",
      "metadata": {
        "colab": {
          "base_uri": "https://localhost:8080/",
          "height": 206
        },
        "id": "e6b4ce5e",
        "outputId": "1468f3e3-0758-420e-f44a-c5f075c978e9"
      },
      "outputs": [
        {
          "output_type": "execute_result",
          "data": {
            "text/plain": [
              "   MedInc  HouseAge  AveRooms  AveBedrms  Population  AveOccup  Latitude  \\\n",
              "0  8.3252      41.0  6.984127   1.023810       322.0  2.555556     37.88   \n",
              "1  8.3014      21.0  6.238137   0.971880      2401.0  2.109842     37.86   \n",
              "2  7.2574      52.0  8.288136   1.073446       496.0  2.802260     37.85   \n",
              "3  5.6431      52.0  5.817352   1.073059       558.0  2.547945     37.85   \n",
              "4  3.8462      52.0  6.281853   1.081081       565.0  2.181467     37.85   \n",
              "\n",
              "   Longitude  \n",
              "0    -122.23  \n",
              "1    -122.22  \n",
              "2    -122.24  \n",
              "3    -122.25  \n",
              "4    -122.25  "
            ],
            "text/html": [
              "\n",
              "  <div id=\"df-7349b803-0a42-4308-8456-a67fd87992e7\" class=\"colab-df-container\">\n",
              "    <div>\n",
              "<style scoped>\n",
              "    .dataframe tbody tr th:only-of-type {\n",
              "        vertical-align: middle;\n",
              "    }\n",
              "\n",
              "    .dataframe tbody tr th {\n",
              "        vertical-align: top;\n",
              "    }\n",
              "\n",
              "    .dataframe thead th {\n",
              "        text-align: right;\n",
              "    }\n",
              "</style>\n",
              "<table border=\"1\" class=\"dataframe\">\n",
              "  <thead>\n",
              "    <tr style=\"text-align: right;\">\n",
              "      <th></th>\n",
              "      <th>MedInc</th>\n",
              "      <th>HouseAge</th>\n",
              "      <th>AveRooms</th>\n",
              "      <th>AveBedrms</th>\n",
              "      <th>Population</th>\n",
              "      <th>AveOccup</th>\n",
              "      <th>Latitude</th>\n",
              "      <th>Longitude</th>\n",
              "    </tr>\n",
              "  </thead>\n",
              "  <tbody>\n",
              "    <tr>\n",
              "      <th>0</th>\n",
              "      <td>8.3252</td>\n",
              "      <td>41.0</td>\n",
              "      <td>6.984127</td>\n",
              "      <td>1.023810</td>\n",
              "      <td>322.0</td>\n",
              "      <td>2.555556</td>\n",
              "      <td>37.88</td>\n",
              "      <td>-122.23</td>\n",
              "    </tr>\n",
              "    <tr>\n",
              "      <th>1</th>\n",
              "      <td>8.3014</td>\n",
              "      <td>21.0</td>\n",
              "      <td>6.238137</td>\n",
              "      <td>0.971880</td>\n",
              "      <td>2401.0</td>\n",
              "      <td>2.109842</td>\n",
              "      <td>37.86</td>\n",
              "      <td>-122.22</td>\n",
              "    </tr>\n",
              "    <tr>\n",
              "      <th>2</th>\n",
              "      <td>7.2574</td>\n",
              "      <td>52.0</td>\n",
              "      <td>8.288136</td>\n",
              "      <td>1.073446</td>\n",
              "      <td>496.0</td>\n",
              "      <td>2.802260</td>\n",
              "      <td>37.85</td>\n",
              "      <td>-122.24</td>\n",
              "    </tr>\n",
              "    <tr>\n",
              "      <th>3</th>\n",
              "      <td>5.6431</td>\n",
              "      <td>52.0</td>\n",
              "      <td>5.817352</td>\n",
              "      <td>1.073059</td>\n",
              "      <td>558.0</td>\n",
              "      <td>2.547945</td>\n",
              "      <td>37.85</td>\n",
              "      <td>-122.25</td>\n",
              "    </tr>\n",
              "    <tr>\n",
              "      <th>4</th>\n",
              "      <td>3.8462</td>\n",
              "      <td>52.0</td>\n",
              "      <td>6.281853</td>\n",
              "      <td>1.081081</td>\n",
              "      <td>565.0</td>\n",
              "      <td>2.181467</td>\n",
              "      <td>37.85</td>\n",
              "      <td>-122.25</td>\n",
              "    </tr>\n",
              "  </tbody>\n",
              "</table>\n",
              "</div>\n",
              "    <div class=\"colab-df-buttons\">\n",
              "\n",
              "  <div class=\"colab-df-container\">\n",
              "    <button class=\"colab-df-convert\" onclick=\"convertToInteractive('df-7349b803-0a42-4308-8456-a67fd87992e7')\"\n",
              "            title=\"Convert this dataframe to an interactive table.\"\n",
              "            style=\"display:none;\">\n",
              "\n",
              "  <svg xmlns=\"http://www.w3.org/2000/svg\" height=\"24px\" viewBox=\"0 -960 960 960\">\n",
              "    <path d=\"M120-120v-720h720v720H120Zm60-500h600v-160H180v160Zm220 220h160v-160H400v160Zm0 220h160v-160H400v160ZM180-400h160v-160H180v160Zm440 0h160v-160H620v160ZM180-180h160v-160H180v160Zm440 0h160v-160H620v160Z\"/>\n",
              "  </svg>\n",
              "    </button>\n",
              "\n",
              "  <style>\n",
              "    .colab-df-container {\n",
              "      display:flex;\n",
              "      gap: 12px;\n",
              "    }\n",
              "\n",
              "    .colab-df-convert {\n",
              "      background-color: #E8F0FE;\n",
              "      border: none;\n",
              "      border-radius: 50%;\n",
              "      cursor: pointer;\n",
              "      display: none;\n",
              "      fill: #1967D2;\n",
              "      height: 32px;\n",
              "      padding: 0 0 0 0;\n",
              "      width: 32px;\n",
              "    }\n",
              "\n",
              "    .colab-df-convert:hover {\n",
              "      background-color: #E2EBFA;\n",
              "      box-shadow: 0px 1px 2px rgba(60, 64, 67, 0.3), 0px 1px 3px 1px rgba(60, 64, 67, 0.15);\n",
              "      fill: #174EA6;\n",
              "    }\n",
              "\n",
              "    .colab-df-buttons div {\n",
              "      margin-bottom: 4px;\n",
              "    }\n",
              "\n",
              "    [theme=dark] .colab-df-convert {\n",
              "      background-color: #3B4455;\n",
              "      fill: #D2E3FC;\n",
              "    }\n",
              "\n",
              "    [theme=dark] .colab-df-convert:hover {\n",
              "      background-color: #434B5C;\n",
              "      box-shadow: 0px 1px 3px 1px rgba(0, 0, 0, 0.15);\n",
              "      filter: drop-shadow(0px 1px 2px rgba(0, 0, 0, 0.3));\n",
              "      fill: #FFFFFF;\n",
              "    }\n",
              "  </style>\n",
              "\n",
              "    <script>\n",
              "      const buttonEl =\n",
              "        document.querySelector('#df-7349b803-0a42-4308-8456-a67fd87992e7 button.colab-df-convert');\n",
              "      buttonEl.style.display =\n",
              "        google.colab.kernel.accessAllowed ? 'block' : 'none';\n",
              "\n",
              "      async function convertToInteractive(key) {\n",
              "        const element = document.querySelector('#df-7349b803-0a42-4308-8456-a67fd87992e7');\n",
              "        const dataTable =\n",
              "          await google.colab.kernel.invokeFunction('convertToInteractive',\n",
              "                                                    [key], {});\n",
              "        if (!dataTable) return;\n",
              "\n",
              "        const docLinkHtml = 'Like what you see? Visit the ' +\n",
              "          '<a target=\"_blank\" href=https://colab.research.google.com/notebooks/data_table.ipynb>data table notebook</a>'\n",
              "          + ' to learn more about interactive tables.';\n",
              "        element.innerHTML = '';\n",
              "        dataTable['output_type'] = 'display_data';\n",
              "        await google.colab.output.renderOutput(dataTable, element);\n",
              "        const docLink = document.createElement('div');\n",
              "        docLink.innerHTML = docLinkHtml;\n",
              "        element.appendChild(docLink);\n",
              "      }\n",
              "    </script>\n",
              "  </div>\n",
              "\n",
              "\n",
              "<div id=\"df-a5f1d855-45c5-4d9c-8197-1b7d60f7b715\">\n",
              "  <button class=\"colab-df-quickchart\" onclick=\"quickchart('df-a5f1d855-45c5-4d9c-8197-1b7d60f7b715')\"\n",
              "            title=\"Suggest charts\"\n",
              "            style=\"display:none;\">\n",
              "\n",
              "<svg xmlns=\"http://www.w3.org/2000/svg\" height=\"24px\"viewBox=\"0 0 24 24\"\n",
              "     width=\"24px\">\n",
              "    <g>\n",
              "        <path d=\"M19 3H5c-1.1 0-2 .9-2 2v14c0 1.1.9 2 2 2h14c1.1 0 2-.9 2-2V5c0-1.1-.9-2-2-2zM9 17H7v-7h2v7zm4 0h-2V7h2v10zm4 0h-2v-4h2v4z\"/>\n",
              "    </g>\n",
              "</svg>\n",
              "  </button>\n",
              "\n",
              "<style>\n",
              "  .colab-df-quickchart {\n",
              "      --bg-color: #E8F0FE;\n",
              "      --fill-color: #1967D2;\n",
              "      --hover-bg-color: #E2EBFA;\n",
              "      --hover-fill-color: #174EA6;\n",
              "      --disabled-fill-color: #AAA;\n",
              "      --disabled-bg-color: #DDD;\n",
              "  }\n",
              "\n",
              "  [theme=dark] .colab-df-quickchart {\n",
              "      --bg-color: #3B4455;\n",
              "      --fill-color: #D2E3FC;\n",
              "      --hover-bg-color: #434B5C;\n",
              "      --hover-fill-color: #FFFFFF;\n",
              "      --disabled-bg-color: #3B4455;\n",
              "      --disabled-fill-color: #666;\n",
              "  }\n",
              "\n",
              "  .colab-df-quickchart {\n",
              "    background-color: var(--bg-color);\n",
              "    border: none;\n",
              "    border-radius: 50%;\n",
              "    cursor: pointer;\n",
              "    display: none;\n",
              "    fill: var(--fill-color);\n",
              "    height: 32px;\n",
              "    padding: 0;\n",
              "    width: 32px;\n",
              "  }\n",
              "\n",
              "  .colab-df-quickchart:hover {\n",
              "    background-color: var(--hover-bg-color);\n",
              "    box-shadow: 0 1px 2px rgba(60, 64, 67, 0.3), 0 1px 3px 1px rgba(60, 64, 67, 0.15);\n",
              "    fill: var(--button-hover-fill-color);\n",
              "  }\n",
              "\n",
              "  .colab-df-quickchart-complete:disabled,\n",
              "  .colab-df-quickchart-complete:disabled:hover {\n",
              "    background-color: var(--disabled-bg-color);\n",
              "    fill: var(--disabled-fill-color);\n",
              "    box-shadow: none;\n",
              "  }\n",
              "\n",
              "  .colab-df-spinner {\n",
              "    border: 2px solid var(--fill-color);\n",
              "    border-color: transparent;\n",
              "    border-bottom-color: var(--fill-color);\n",
              "    animation:\n",
              "      spin 1s steps(1) infinite;\n",
              "  }\n",
              "\n",
              "  @keyframes spin {\n",
              "    0% {\n",
              "      border-color: transparent;\n",
              "      border-bottom-color: var(--fill-color);\n",
              "      border-left-color: var(--fill-color);\n",
              "    }\n",
              "    20% {\n",
              "      border-color: transparent;\n",
              "      border-left-color: var(--fill-color);\n",
              "      border-top-color: var(--fill-color);\n",
              "    }\n",
              "    30% {\n",
              "      border-color: transparent;\n",
              "      border-left-color: var(--fill-color);\n",
              "      border-top-color: var(--fill-color);\n",
              "      border-right-color: var(--fill-color);\n",
              "    }\n",
              "    40% {\n",
              "      border-color: transparent;\n",
              "      border-right-color: var(--fill-color);\n",
              "      border-top-color: var(--fill-color);\n",
              "    }\n",
              "    60% {\n",
              "      border-color: transparent;\n",
              "      border-right-color: var(--fill-color);\n",
              "    }\n",
              "    80% {\n",
              "      border-color: transparent;\n",
              "      border-right-color: var(--fill-color);\n",
              "      border-bottom-color: var(--fill-color);\n",
              "    }\n",
              "    90% {\n",
              "      border-color: transparent;\n",
              "      border-bottom-color: var(--fill-color);\n",
              "    }\n",
              "  }\n",
              "</style>\n",
              "\n",
              "  <script>\n",
              "    async function quickchart(key) {\n",
              "      const quickchartButtonEl =\n",
              "        document.querySelector('#' + key + ' button');\n",
              "      quickchartButtonEl.disabled = true;  // To prevent multiple clicks.\n",
              "      quickchartButtonEl.classList.add('colab-df-spinner');\n",
              "      try {\n",
              "        const charts = await google.colab.kernel.invokeFunction(\n",
              "            'suggestCharts', [key], {});\n",
              "      } catch (error) {\n",
              "        console.error('Error during call to suggestCharts:', error);\n",
              "      }\n",
              "      quickchartButtonEl.classList.remove('colab-df-spinner');\n",
              "      quickchartButtonEl.classList.add('colab-df-quickchart-complete');\n",
              "    }\n",
              "    (() => {\n",
              "      let quickchartButtonEl =\n",
              "        document.querySelector('#df-a5f1d855-45c5-4d9c-8197-1b7d60f7b715 button');\n",
              "      quickchartButtonEl.style.display =\n",
              "        google.colab.kernel.accessAllowed ? 'block' : 'none';\n",
              "    })();\n",
              "  </script>\n",
              "</div>\n",
              "\n",
              "    </div>\n",
              "  </div>\n"
            ],
            "application/vnd.google.colaboratory.intrinsic+json": {
              "type": "dataframe",
              "variable_name": "df",
              "summary": "{\n  \"name\": \"df\",\n  \"rows\": 20640,\n  \"fields\": [\n    {\n      \"column\": \"MedInc\",\n      \"properties\": {\n        \"dtype\": \"number\",\n        \"std\": 1.8998217179452732,\n        \"min\": 0.4999,\n        \"max\": 15.0001,\n        \"num_unique_values\": 12928,\n        \"samples\": [\n          5.0286,\n          2.0433,\n          6.1228\n        ],\n        \"semantic_type\": \"\",\n        \"description\": \"\"\n      }\n    },\n    {\n      \"column\": \"HouseAge\",\n      \"properties\": {\n        \"dtype\": \"number\",\n        \"std\": 12.585557612111637,\n        \"min\": 1.0,\n        \"max\": 52.0,\n        \"num_unique_values\": 52,\n        \"samples\": [\n          35.0,\n          25.0,\n          7.0\n        ],\n        \"semantic_type\": \"\",\n        \"description\": \"\"\n      }\n    },\n    {\n      \"column\": \"AveRooms\",\n      \"properties\": {\n        \"dtype\": \"number\",\n        \"std\": 2.4741731394243205,\n        \"min\": 0.8461538461538461,\n        \"max\": 141.9090909090909,\n        \"num_unique_values\": 19392,\n        \"samples\": [\n          6.111269614835948,\n          5.912820512820513,\n          5.7924528301886795\n        ],\n        \"semantic_type\": \"\",\n        \"description\": \"\"\n      }\n    },\n    {\n      \"column\": \"AveBedrms\",\n      \"properties\": {\n        \"dtype\": \"number\",\n        \"std\": 0.47391085679546435,\n        \"min\": 0.3333333333333333,\n        \"max\": 34.06666666666667,\n        \"num_unique_values\": 14233,\n        \"samples\": [\n          0.9906542056074766,\n          1.112099644128114,\n          1.0398230088495575\n        ],\n        \"semantic_type\": \"\",\n        \"description\": \"\"\n      }\n    },\n    {\n      \"column\": \"Population\",\n      \"properties\": {\n        \"dtype\": \"number\",\n        \"std\": 1132.4621217653375,\n        \"min\": 3.0,\n        \"max\": 35682.0,\n        \"num_unique_values\": 3888,\n        \"samples\": [\n          4169.0,\n          636.0,\n          3367.0\n        ],\n        \"semantic_type\": \"\",\n        \"description\": \"\"\n      }\n    },\n    {\n      \"column\": \"AveOccup\",\n      \"properties\": {\n        \"dtype\": \"number\",\n        \"std\": 10.386049562213591,\n        \"min\": 0.6923076923076923,\n        \"max\": 1243.3333333333333,\n        \"num_unique_values\": 18841,\n        \"samples\": [\n          2.6939799331103678,\n          3.559375,\n          3.297082228116711\n        ],\n        \"semantic_type\": \"\",\n        \"description\": \"\"\n      }\n    },\n    {\n      \"column\": \"Latitude\",\n      \"properties\": {\n        \"dtype\": \"number\",\n        \"std\": 2.1359523974571117,\n        \"min\": 32.54,\n        \"max\": 41.95,\n        \"num_unique_values\": 862,\n        \"samples\": [\n          33.7,\n          34.41,\n          38.24\n        ],\n        \"semantic_type\": \"\",\n        \"description\": \"\"\n      }\n    },\n    {\n      \"column\": \"Longitude\",\n      \"properties\": {\n        \"dtype\": \"number\",\n        \"std\": 2.003531723502581,\n        \"min\": -124.35,\n        \"max\": -114.31,\n        \"num_unique_values\": 844,\n        \"samples\": [\n          -118.63,\n          -119.86,\n          -121.26\n        ],\n        \"semantic_type\": \"\",\n        \"description\": \"\"\n      }\n    }\n  ]\n}"
            }
          },
          "metadata": {},
          "execution_count": 3
        }
      ],
      "source": [
        "# 캘리포니아 주택 데이터를 Pandas 데이터프레임으로 변환\n",
        "df = pd.DataFrame(\n",
        "    data=housing.data,           # 입력 데이터 (특성값)\n",
        "    columns=housing.feature_names       # 컬럼 이름 (특성 이름)\n",
        ")\n",
        "\n",
        "df.head()"
      ]
    },
    {
      "cell_type": "code",
      "execution_count": 4,
      "id": "e7d9a4b7",
      "metadata": {
        "colab": {
          "base_uri": "https://localhost:8080/",
          "height": 206
        },
        "id": "e7d9a4b7",
        "outputId": "c3d3f4a8-bf77-41f7-98a2-f34acd82113e"
      },
      "outputs": [
        {
          "output_type": "execute_result",
          "data": {
            "text/plain": [
              "   MedInc  HouseAge  AveRooms  AveBedrms  Population  AveOccup  Latitude  \\\n",
              "0  8.3252      41.0  6.984127   1.023810       322.0  2.555556     37.88   \n",
              "1  8.3014      21.0  6.238137   0.971880      2401.0  2.109842     37.86   \n",
              "2  7.2574      52.0  8.288136   1.073446       496.0  2.802260     37.85   \n",
              "3  5.6431      52.0  5.817352   1.073059       558.0  2.547945     37.85   \n",
              "4  3.8462      52.0  6.281853   1.081081       565.0  2.181467     37.85   \n",
              "\n",
              "   Longitude  PRICE  \n",
              "0    -122.23  4.526  \n",
              "1    -122.22  3.585  \n",
              "2    -122.24  3.521  \n",
              "3    -122.25  3.413  \n",
              "4    -122.25  3.422  "
            ],
            "text/html": [
              "\n",
              "  <div id=\"df-9b3b5a99-5576-443f-8301-9a3c274a9be7\" class=\"colab-df-container\">\n",
              "    <div>\n",
              "<style scoped>\n",
              "    .dataframe tbody tr th:only-of-type {\n",
              "        vertical-align: middle;\n",
              "    }\n",
              "\n",
              "    .dataframe tbody tr th {\n",
              "        vertical-align: top;\n",
              "    }\n",
              "\n",
              "    .dataframe thead th {\n",
              "        text-align: right;\n",
              "    }\n",
              "</style>\n",
              "<table border=\"1\" class=\"dataframe\">\n",
              "  <thead>\n",
              "    <tr style=\"text-align: right;\">\n",
              "      <th></th>\n",
              "      <th>MedInc</th>\n",
              "      <th>HouseAge</th>\n",
              "      <th>AveRooms</th>\n",
              "      <th>AveBedrms</th>\n",
              "      <th>Population</th>\n",
              "      <th>AveOccup</th>\n",
              "      <th>Latitude</th>\n",
              "      <th>Longitude</th>\n",
              "      <th>PRICE</th>\n",
              "    </tr>\n",
              "  </thead>\n",
              "  <tbody>\n",
              "    <tr>\n",
              "      <th>0</th>\n",
              "      <td>8.3252</td>\n",
              "      <td>41.0</td>\n",
              "      <td>6.984127</td>\n",
              "      <td>1.023810</td>\n",
              "      <td>322.0</td>\n",
              "      <td>2.555556</td>\n",
              "      <td>37.88</td>\n",
              "      <td>-122.23</td>\n",
              "      <td>4.526</td>\n",
              "    </tr>\n",
              "    <tr>\n",
              "      <th>1</th>\n",
              "      <td>8.3014</td>\n",
              "      <td>21.0</td>\n",
              "      <td>6.238137</td>\n",
              "      <td>0.971880</td>\n",
              "      <td>2401.0</td>\n",
              "      <td>2.109842</td>\n",
              "      <td>37.86</td>\n",
              "      <td>-122.22</td>\n",
              "      <td>3.585</td>\n",
              "    </tr>\n",
              "    <tr>\n",
              "      <th>2</th>\n",
              "      <td>7.2574</td>\n",
              "      <td>52.0</td>\n",
              "      <td>8.288136</td>\n",
              "      <td>1.073446</td>\n",
              "      <td>496.0</td>\n",
              "      <td>2.802260</td>\n",
              "      <td>37.85</td>\n",
              "      <td>-122.24</td>\n",
              "      <td>3.521</td>\n",
              "    </tr>\n",
              "    <tr>\n",
              "      <th>3</th>\n",
              "      <td>5.6431</td>\n",
              "      <td>52.0</td>\n",
              "      <td>5.817352</td>\n",
              "      <td>1.073059</td>\n",
              "      <td>558.0</td>\n",
              "      <td>2.547945</td>\n",
              "      <td>37.85</td>\n",
              "      <td>-122.25</td>\n",
              "      <td>3.413</td>\n",
              "    </tr>\n",
              "    <tr>\n",
              "      <th>4</th>\n",
              "      <td>3.8462</td>\n",
              "      <td>52.0</td>\n",
              "      <td>6.281853</td>\n",
              "      <td>1.081081</td>\n",
              "      <td>565.0</td>\n",
              "      <td>2.181467</td>\n",
              "      <td>37.85</td>\n",
              "      <td>-122.25</td>\n",
              "      <td>3.422</td>\n",
              "    </tr>\n",
              "  </tbody>\n",
              "</table>\n",
              "</div>\n",
              "    <div class=\"colab-df-buttons\">\n",
              "\n",
              "  <div class=\"colab-df-container\">\n",
              "    <button class=\"colab-df-convert\" onclick=\"convertToInteractive('df-9b3b5a99-5576-443f-8301-9a3c274a9be7')\"\n",
              "            title=\"Convert this dataframe to an interactive table.\"\n",
              "            style=\"display:none;\">\n",
              "\n",
              "  <svg xmlns=\"http://www.w3.org/2000/svg\" height=\"24px\" viewBox=\"0 -960 960 960\">\n",
              "    <path d=\"M120-120v-720h720v720H120Zm60-500h600v-160H180v160Zm220 220h160v-160H400v160Zm0 220h160v-160H400v160ZM180-400h160v-160H180v160Zm440 0h160v-160H620v160ZM180-180h160v-160H180v160Zm440 0h160v-160H620v160Z\"/>\n",
              "  </svg>\n",
              "    </button>\n",
              "\n",
              "  <style>\n",
              "    .colab-df-container {\n",
              "      display:flex;\n",
              "      gap: 12px;\n",
              "    }\n",
              "\n",
              "    .colab-df-convert {\n",
              "      background-color: #E8F0FE;\n",
              "      border: none;\n",
              "      border-radius: 50%;\n",
              "      cursor: pointer;\n",
              "      display: none;\n",
              "      fill: #1967D2;\n",
              "      height: 32px;\n",
              "      padding: 0 0 0 0;\n",
              "      width: 32px;\n",
              "    }\n",
              "\n",
              "    .colab-df-convert:hover {\n",
              "      background-color: #E2EBFA;\n",
              "      box-shadow: 0px 1px 2px rgba(60, 64, 67, 0.3), 0px 1px 3px 1px rgba(60, 64, 67, 0.15);\n",
              "      fill: #174EA6;\n",
              "    }\n",
              "\n",
              "    .colab-df-buttons div {\n",
              "      margin-bottom: 4px;\n",
              "    }\n",
              "\n",
              "    [theme=dark] .colab-df-convert {\n",
              "      background-color: #3B4455;\n",
              "      fill: #D2E3FC;\n",
              "    }\n",
              "\n",
              "    [theme=dark] .colab-df-convert:hover {\n",
              "      background-color: #434B5C;\n",
              "      box-shadow: 0px 1px 3px 1px rgba(0, 0, 0, 0.15);\n",
              "      filter: drop-shadow(0px 1px 2px rgba(0, 0, 0, 0.3));\n",
              "      fill: #FFFFFF;\n",
              "    }\n",
              "  </style>\n",
              "\n",
              "    <script>\n",
              "      const buttonEl =\n",
              "        document.querySelector('#df-9b3b5a99-5576-443f-8301-9a3c274a9be7 button.colab-df-convert');\n",
              "      buttonEl.style.display =\n",
              "        google.colab.kernel.accessAllowed ? 'block' : 'none';\n",
              "\n",
              "      async function convertToInteractive(key) {\n",
              "        const element = document.querySelector('#df-9b3b5a99-5576-443f-8301-9a3c274a9be7');\n",
              "        const dataTable =\n",
              "          await google.colab.kernel.invokeFunction('convertToInteractive',\n",
              "                                                    [key], {});\n",
              "        if (!dataTable) return;\n",
              "\n",
              "        const docLinkHtml = 'Like what you see? Visit the ' +\n",
              "          '<a target=\"_blank\" href=https://colab.research.google.com/notebooks/data_table.ipynb>data table notebook</a>'\n",
              "          + ' to learn more about interactive tables.';\n",
              "        element.innerHTML = '';\n",
              "        dataTable['output_type'] = 'display_data';\n",
              "        await google.colab.output.renderOutput(dataTable, element);\n",
              "        const docLink = document.createElement('div');\n",
              "        docLink.innerHTML = docLinkHtml;\n",
              "        element.appendChild(docLink);\n",
              "      }\n",
              "    </script>\n",
              "  </div>\n",
              "\n",
              "\n",
              "<div id=\"df-2ab23dd1-547f-4760-aada-8b37ccf9201f\">\n",
              "  <button class=\"colab-df-quickchart\" onclick=\"quickchart('df-2ab23dd1-547f-4760-aada-8b37ccf9201f')\"\n",
              "            title=\"Suggest charts\"\n",
              "            style=\"display:none;\">\n",
              "\n",
              "<svg xmlns=\"http://www.w3.org/2000/svg\" height=\"24px\"viewBox=\"0 0 24 24\"\n",
              "     width=\"24px\">\n",
              "    <g>\n",
              "        <path d=\"M19 3H5c-1.1 0-2 .9-2 2v14c0 1.1.9 2 2 2h14c1.1 0 2-.9 2-2V5c0-1.1-.9-2-2-2zM9 17H7v-7h2v7zm4 0h-2V7h2v10zm4 0h-2v-4h2v4z\"/>\n",
              "    </g>\n",
              "</svg>\n",
              "  </button>\n",
              "\n",
              "<style>\n",
              "  .colab-df-quickchart {\n",
              "      --bg-color: #E8F0FE;\n",
              "      --fill-color: #1967D2;\n",
              "      --hover-bg-color: #E2EBFA;\n",
              "      --hover-fill-color: #174EA6;\n",
              "      --disabled-fill-color: #AAA;\n",
              "      --disabled-bg-color: #DDD;\n",
              "  }\n",
              "\n",
              "  [theme=dark] .colab-df-quickchart {\n",
              "      --bg-color: #3B4455;\n",
              "      --fill-color: #D2E3FC;\n",
              "      --hover-bg-color: #434B5C;\n",
              "      --hover-fill-color: #FFFFFF;\n",
              "      --disabled-bg-color: #3B4455;\n",
              "      --disabled-fill-color: #666;\n",
              "  }\n",
              "\n",
              "  .colab-df-quickchart {\n",
              "    background-color: var(--bg-color);\n",
              "    border: none;\n",
              "    border-radius: 50%;\n",
              "    cursor: pointer;\n",
              "    display: none;\n",
              "    fill: var(--fill-color);\n",
              "    height: 32px;\n",
              "    padding: 0;\n",
              "    width: 32px;\n",
              "  }\n",
              "\n",
              "  .colab-df-quickchart:hover {\n",
              "    background-color: var(--hover-bg-color);\n",
              "    box-shadow: 0 1px 2px rgba(60, 64, 67, 0.3), 0 1px 3px 1px rgba(60, 64, 67, 0.15);\n",
              "    fill: var(--button-hover-fill-color);\n",
              "  }\n",
              "\n",
              "  .colab-df-quickchart-complete:disabled,\n",
              "  .colab-df-quickchart-complete:disabled:hover {\n",
              "    background-color: var(--disabled-bg-color);\n",
              "    fill: var(--disabled-fill-color);\n",
              "    box-shadow: none;\n",
              "  }\n",
              "\n",
              "  .colab-df-spinner {\n",
              "    border: 2px solid var(--fill-color);\n",
              "    border-color: transparent;\n",
              "    border-bottom-color: var(--fill-color);\n",
              "    animation:\n",
              "      spin 1s steps(1) infinite;\n",
              "  }\n",
              "\n",
              "  @keyframes spin {\n",
              "    0% {\n",
              "      border-color: transparent;\n",
              "      border-bottom-color: var(--fill-color);\n",
              "      border-left-color: var(--fill-color);\n",
              "    }\n",
              "    20% {\n",
              "      border-color: transparent;\n",
              "      border-left-color: var(--fill-color);\n",
              "      border-top-color: var(--fill-color);\n",
              "    }\n",
              "    30% {\n",
              "      border-color: transparent;\n",
              "      border-left-color: var(--fill-color);\n",
              "      border-top-color: var(--fill-color);\n",
              "      border-right-color: var(--fill-color);\n",
              "    }\n",
              "    40% {\n",
              "      border-color: transparent;\n",
              "      border-right-color: var(--fill-color);\n",
              "      border-top-color: var(--fill-color);\n",
              "    }\n",
              "    60% {\n",
              "      border-color: transparent;\n",
              "      border-right-color: var(--fill-color);\n",
              "    }\n",
              "    80% {\n",
              "      border-color: transparent;\n",
              "      border-right-color: var(--fill-color);\n",
              "      border-bottom-color: var(--fill-color);\n",
              "    }\n",
              "    90% {\n",
              "      border-color: transparent;\n",
              "      border-bottom-color: var(--fill-color);\n",
              "    }\n",
              "  }\n",
              "</style>\n",
              "\n",
              "  <script>\n",
              "    async function quickchart(key) {\n",
              "      const quickchartButtonEl =\n",
              "        document.querySelector('#' + key + ' button');\n",
              "      quickchartButtonEl.disabled = true;  // To prevent multiple clicks.\n",
              "      quickchartButtonEl.classList.add('colab-df-spinner');\n",
              "      try {\n",
              "        const charts = await google.colab.kernel.invokeFunction(\n",
              "            'suggestCharts', [key], {});\n",
              "      } catch (error) {\n",
              "        console.error('Error during call to suggestCharts:', error);\n",
              "      }\n",
              "      quickchartButtonEl.classList.remove('colab-df-spinner');\n",
              "      quickchartButtonEl.classList.add('colab-df-quickchart-complete');\n",
              "    }\n",
              "    (() => {\n",
              "      let quickchartButtonEl =\n",
              "        document.querySelector('#df-2ab23dd1-547f-4760-aada-8b37ccf9201f button');\n",
              "      quickchartButtonEl.style.display =\n",
              "        google.colab.kernel.accessAllowed ? 'block' : 'none';\n",
              "    })();\n",
              "  </script>\n",
              "</div>\n",
              "\n",
              "    </div>\n",
              "  </div>\n"
            ],
            "application/vnd.google.colaboratory.intrinsic+json": {
              "type": "dataframe",
              "variable_name": "df",
              "summary": "{\n  \"name\": \"df\",\n  \"rows\": 20640,\n  \"fields\": [\n    {\n      \"column\": \"MedInc\",\n      \"properties\": {\n        \"dtype\": \"number\",\n        \"std\": 1.8998217179452732,\n        \"min\": 0.4999,\n        \"max\": 15.0001,\n        \"num_unique_values\": 12928,\n        \"samples\": [\n          5.0286,\n          2.0433,\n          6.1228\n        ],\n        \"semantic_type\": \"\",\n        \"description\": \"\"\n      }\n    },\n    {\n      \"column\": \"HouseAge\",\n      \"properties\": {\n        \"dtype\": \"number\",\n        \"std\": 12.585557612111637,\n        \"min\": 1.0,\n        \"max\": 52.0,\n        \"num_unique_values\": 52,\n        \"samples\": [\n          35.0,\n          25.0,\n          7.0\n        ],\n        \"semantic_type\": \"\",\n        \"description\": \"\"\n      }\n    },\n    {\n      \"column\": \"AveRooms\",\n      \"properties\": {\n        \"dtype\": \"number\",\n        \"std\": 2.4741731394243205,\n        \"min\": 0.8461538461538461,\n        \"max\": 141.9090909090909,\n        \"num_unique_values\": 19392,\n        \"samples\": [\n          6.111269614835948,\n          5.912820512820513,\n          5.7924528301886795\n        ],\n        \"semantic_type\": \"\",\n        \"description\": \"\"\n      }\n    },\n    {\n      \"column\": \"AveBedrms\",\n      \"properties\": {\n        \"dtype\": \"number\",\n        \"std\": 0.47391085679546435,\n        \"min\": 0.3333333333333333,\n        \"max\": 34.06666666666667,\n        \"num_unique_values\": 14233,\n        \"samples\": [\n          0.9906542056074766,\n          1.112099644128114,\n          1.0398230088495575\n        ],\n        \"semantic_type\": \"\",\n        \"description\": \"\"\n      }\n    },\n    {\n      \"column\": \"Population\",\n      \"properties\": {\n        \"dtype\": \"number\",\n        \"std\": 1132.4621217653375,\n        \"min\": 3.0,\n        \"max\": 35682.0,\n        \"num_unique_values\": 3888,\n        \"samples\": [\n          4169.0,\n          636.0,\n          3367.0\n        ],\n        \"semantic_type\": \"\",\n        \"description\": \"\"\n      }\n    },\n    {\n      \"column\": \"AveOccup\",\n      \"properties\": {\n        \"dtype\": \"number\",\n        \"std\": 10.386049562213591,\n        \"min\": 0.6923076923076923,\n        \"max\": 1243.3333333333333,\n        \"num_unique_values\": 18841,\n        \"samples\": [\n          2.6939799331103678,\n          3.559375,\n          3.297082228116711\n        ],\n        \"semantic_type\": \"\",\n        \"description\": \"\"\n      }\n    },\n    {\n      \"column\": \"Latitude\",\n      \"properties\": {\n        \"dtype\": \"number\",\n        \"std\": 2.1359523974571117,\n        \"min\": 32.54,\n        \"max\": 41.95,\n        \"num_unique_values\": 862,\n        \"samples\": [\n          33.7,\n          34.41,\n          38.24\n        ],\n        \"semantic_type\": \"\",\n        \"description\": \"\"\n      }\n    },\n    {\n      \"column\": \"Longitude\",\n      \"properties\": {\n        \"dtype\": \"number\",\n        \"std\": 2.003531723502581,\n        \"min\": -124.35,\n        \"max\": -114.31,\n        \"num_unique_values\": 844,\n        \"samples\": [\n          -118.63,\n          -119.86,\n          -121.26\n        ],\n        \"semantic_type\": \"\",\n        \"description\": \"\"\n      }\n    },\n    {\n      \"column\": \"PRICE\",\n      \"properties\": {\n        \"dtype\": \"number\",\n        \"std\": 1.1539561587441483,\n        \"min\": 0.14999,\n        \"max\": 5.00001,\n        \"num_unique_values\": 3842,\n        \"samples\": [\n          1.943,\n          3.79,\n          2.301\n        ],\n        \"semantic_type\": \"\",\n        \"description\": \"\"\n      }\n    }\n  ]\n}"
            }
          },
          "metadata": {},
          "execution_count": 4
        }
      ],
      "source": [
        "# 타겟 변수(주택 가격)를 데이터프레임에 새로운 열로 추가\n",
        "df['PRICE'] = housing.target\n",
        "\n",
        "df.head()"
      ]
    },
    {
      "cell_type": "code",
      "execution_count": 5,
      "id": "68a8fe74",
      "metadata": {
        "colab": {
          "base_uri": "https://localhost:8080/",
          "height": 156
        },
        "id": "68a8fe74",
        "outputId": "30e435f4-1c93-4859-b9c8-56625357b9be"
      },
      "outputs": [
        {
          "output_type": "execute_result",
          "data": {
            "text/plain": [
              "+------+--------+------------------+------------------+----------+------------------+--------+---------+-----+\n",
              "|MedInc|HouseAge|          AveRooms|         AveBedrms|Population|          AveOccup|Latitude|Longitude|PRICE|\n",
              "+------+--------+------------------+------------------+----------+------------------+--------+---------+-----+\n",
              "|8.3252|    41.0| 6.984126984126984|1.0238095238095237|     322.0|2.5555555555555554|   37.88|  -122.23|4.526|\n",
              "|8.3014|    21.0| 6.238137082601054|0.9718804920913884|    2401.0| 2.109841827768014|   37.86|  -122.22|3.585|\n",
              "|7.2574|    52.0| 8.288135593220339| 1.073446327683616|     496.0|2.8022598870056497|   37.85|  -122.24|3.521|\n",
              "|5.6431|    52.0|5.8173515981735155|1.0730593607305936|     558.0| 2.547945205479452|   37.85|  -122.25|3.413|\n",
              "|3.8462|    52.0| 6.281853281853282|1.0810810810810811|     565.0|2.1814671814671813|   37.85|  -122.25|3.422|\n",
              "+------+--------+------------------+------------------+----------+------------------+--------+---------+-----+"
            ],
            "text/html": [
              "<table border='1'>\n",
              "<tr><th>MedInc</th><th>HouseAge</th><th>AveRooms</th><th>AveBedrms</th><th>Population</th><th>AveOccup</th><th>Latitude</th><th>Longitude</th><th>PRICE</th></tr>\n",
              "<tr><td>8.3252</td><td>41.0</td><td>6.984126984126984</td><td>1.0238095238095237</td><td>322.0</td><td>2.5555555555555554</td><td>37.88</td><td>-122.23</td><td>4.526</td></tr>\n",
              "<tr><td>8.3014</td><td>21.0</td><td>6.238137082601054</td><td>0.9718804920913884</td><td>2401.0</td><td>2.109841827768014</td><td>37.86</td><td>-122.22</td><td>3.585</td></tr>\n",
              "<tr><td>7.2574</td><td>52.0</td><td>8.288135593220339</td><td>1.073446327683616</td><td>496.0</td><td>2.8022598870056497</td><td>37.85</td><td>-122.24</td><td>3.521</td></tr>\n",
              "<tr><td>5.6431</td><td>52.0</td><td>5.8173515981735155</td><td>1.0730593607305936</td><td>558.0</td><td>2.547945205479452</td><td>37.85</td><td>-122.25</td><td>3.413</td></tr>\n",
              "<tr><td>3.8462</td><td>52.0</td><td>6.281853281853282</td><td>1.0810810810810811</td><td>565.0</td><td>2.1814671814671813</td><td>37.85</td><td>-122.25</td><td>3.422</td></tr>\n",
              "</table>\n"
            ]
          },
          "metadata": {},
          "execution_count": 5
        }
      ],
      "source": [
        "# Pandas DataFrame을 Spark DataFrame으로 변환\n",
        "spark_df = spark.createDataFrame(df)\n",
        "spark_df.limit(5)"
      ]
    },
    {
      "cell_type": "code",
      "execution_count": 6,
      "id": "e64401b2",
      "metadata": {
        "colab": {
          "base_uri": "https://localhost:8080/"
        },
        "id": "e64401b2",
        "outputId": "7c7f1e12-dc4e-4c43-d724-ccea844fb738"
      },
      "outputs": [
        {
          "output_type": "stream",
          "name": "stdout",
          "text": [
            "['MedInc', 'HouseAge', 'AveRooms', 'AveBedrms', 'Population', 'AveOccup', 'Latitude', 'Longitude']\n"
          ]
        }
      ],
      "source": [
        "print(spark_df.columns[:-1])"
      ]
    },
    {
      "cell_type": "markdown",
      "source": [
        "### PySpark 데이터프레임에서 머신러닝 모델에 사용할 피처를 벡터화\n",
        "- VectorAssembler: 다수의 열을 단일 벡터 형식으로 결합하여 머신러닝 모델에 입력으로 사용  \n",
        "\n",
        "    - transform() - VectorAssembler를 사용해 지정한 컬럼들을 변환합니다. 기존 데이터프레임에 \"features\"라는 새 컬럼이 추가됩니다.\n"
      ],
      "metadata": {
        "id": "LpxXcGK25GJj"
      },
      "id": "LpxXcGK25GJj"
    },
    {
      "cell_type": "code",
      "execution_count": 7,
      "id": "cc2c9720",
      "metadata": {
        "colab": {
          "base_uri": "https://localhost:8080/",
          "height": 156
        },
        "id": "cc2c9720",
        "outputId": "98a74fbf-2430-4d82-91d4-afee40aab847"
      },
      "outputs": [
        {
          "output_type": "execute_result",
          "data": {
            "text/plain": [
              "+------+--------+------------------+------------------+----------+------------------+--------+---------+-----+--------------------+\n",
              "|MedInc|HouseAge|          AveRooms|         AveBedrms|Population|          AveOccup|Latitude|Longitude|PRICE|            features|\n",
              "+------+--------+------------------+------------------+----------+------------------+--------+---------+-----+--------------------+\n",
              "|8.3252|    41.0| 6.984126984126984|1.0238095238095237|     322.0|2.5555555555555554|   37.88|  -122.23|4.526|[8.3252,41.0,6.98...|\n",
              "|8.3014|    21.0| 6.238137082601054|0.9718804920913884|    2401.0| 2.109841827768014|   37.86|  -122.22|3.585|[8.3014,21.0,6.23...|\n",
              "|7.2574|    52.0| 8.288135593220339| 1.073446327683616|     496.0|2.8022598870056497|   37.85|  -122.24|3.521|[7.2574,52.0,8.28...|\n",
              "|5.6431|    52.0|5.8173515981735155|1.0730593607305936|     558.0| 2.547945205479452|   37.85|  -122.25|3.413|[5.6431,52.0,5.81...|\n",
              "|3.8462|    52.0| 6.281853281853282|1.0810810810810811|     565.0|2.1814671814671813|   37.85|  -122.25|3.422|[3.8462,52.0,6.28...|\n",
              "+------+--------+------------------+------------------+----------+------------------+--------+---------+-----+--------------------+"
            ],
            "text/html": [
              "<table border='1'>\n",
              "<tr><th>MedInc</th><th>HouseAge</th><th>AveRooms</th><th>AveBedrms</th><th>Population</th><th>AveOccup</th><th>Latitude</th><th>Longitude</th><th>PRICE</th><th>features</th></tr>\n",
              "<tr><td>8.3252</td><td>41.0</td><td>6.984126984126984</td><td>1.0238095238095237</td><td>322.0</td><td>2.5555555555555554</td><td>37.88</td><td>-122.23</td><td>4.526</td><td>[8.3252,41.0,6.98...</td></tr>\n",
              "<tr><td>8.3014</td><td>21.0</td><td>6.238137082601054</td><td>0.9718804920913884</td><td>2401.0</td><td>2.109841827768014</td><td>37.86</td><td>-122.22</td><td>3.585</td><td>[8.3014,21.0,6.23...</td></tr>\n",
              "<tr><td>7.2574</td><td>52.0</td><td>8.288135593220339</td><td>1.073446327683616</td><td>496.0</td><td>2.8022598870056497</td><td>37.85</td><td>-122.24</td><td>3.521</td><td>[7.2574,52.0,8.28...</td></tr>\n",
              "<tr><td>5.6431</td><td>52.0</td><td>5.8173515981735155</td><td>1.0730593607305936</td><td>558.0</td><td>2.547945205479452</td><td>37.85</td><td>-122.25</td><td>3.413</td><td>[5.6431,52.0,5.81...</td></tr>\n",
              "<tr><td>3.8462</td><td>52.0</td><td>6.281853281853282</td><td>1.0810810810810811</td><td>565.0</td><td>2.1814671814671813</td><td>37.85</td><td>-122.25</td><td>3.422</td><td>[3.8462,52.0,6.28...</td></tr>\n",
              "</table>\n"
            ]
          },
          "metadata": {},
          "execution_count": 7
        }
      ],
      "source": [
        "# Spark ML의 VectorAssembler를 사용하여 피처 벡터 생성\n",
        "# - inputCols: 입력으로 사용할 컬럼들 지정 (PRICE를 제외한 모든 컬럼)\n",
        "# - outputCol: 벡터화된 피처가 저장될 새로운 컬럼 이름 (\"features\")\n",
        "featureAssembler = VectorAssembler(\n",
        "    inputCols=spark_df.columns[:-1],\n",
        "    outputCol=\"features\"\n",
        ")\n",
        "\n",
        "# 데이터프레임에 변환 적용하여 \"features\" 열 추가\n",
        "transformed_df = featureAssembler.transform(spark_df)\n",
        "\n",
        "# 결과 데이터프레임에서 상위 5개 행 확인\n",
        "transformed_df.limit(5)"
      ]
    },
    {
      "cell_type": "code",
      "source": [
        "transformed_df.select('features').first()"
      ],
      "metadata": {
        "colab": {
          "base_uri": "https://localhost:8080/"
        },
        "id": "1UtQwLvQ539k",
        "outputId": "ee6ff049-a590-405f-f0e1-d57027b4b95f"
      },
      "id": "1UtQwLvQ539k",
      "execution_count": 8,
      "outputs": [
        {
          "output_type": "execute_result",
          "data": {
            "text/plain": [
              "Row(features=DenseVector([8.3252, 41.0, 6.9841, 1.0238, 322.0, 2.5556, 37.88, -122.23]))"
            ]
          },
          "metadata": {},
          "execution_count": 8
        }
      ]
    },
    {
      "cell_type": "code",
      "execution_count": 9,
      "id": "bd8af592",
      "metadata": {
        "colab": {
          "base_uri": "https://localhost:8080/",
          "height": 176
        },
        "id": "bd8af592",
        "outputId": "35b4fcc0-97fa-4c01-b08f-144e35e5dcda"
      },
      "outputs": [
        {
          "output_type": "execute_result",
          "data": {
            "text/plain": [
              "+------+--------+------------------+------------------+----------+------------------+--------+---------+-----+--------------------+--------------------+\n",
              "|MedInc|HouseAge|          AveRooms|         AveBedrms|Population|          AveOccup|Latitude|Longitude|PRICE|            features|        standardized|\n",
              "+------+--------+------------------+------------------+----------+------------------+--------+---------+-----+--------------------+--------------------+\n",
              "|8.3252|    41.0| 6.984126984126984|1.0238095238095237|     322.0|2.5555555555555554|   37.88|  -122.23|4.526|[8.3252,41.0,6.98...|[4.38209539419521...|\n",
              "|8.3014|    21.0| 6.238137082601054|0.9718804920913884|    2401.0| 2.109841827768014|   37.86|  -122.22|3.585|[8.3014,21.0,6.23...|[4.36956790291791...|\n",
              "|7.2574|    52.0| 8.288135593220339| 1.073446327683616|     496.0|2.8022598870056497|   37.85|  -122.24|3.521|[7.2574,52.0,8.28...|[3.82004265529144...|\n",
              "|5.6431|    52.0|5.8173515981735155|1.0730593607305936|     558.0| 2.547945205479452|   37.85|  -122.25|3.413|[5.6431,52.0,5.81...|[2.97033134567133...|\n",
              "|3.8462|    52.0| 6.281853281853282|1.0810810810810811|     565.0|2.1814671814671813|   37.85|  -122.25|3.422|[3.8462,52.0,6.28...|[2.02450575423457...|\n",
              "+------+--------+------------------+------------------+----------+------------------+--------+---------+-----+--------------------+--------------------+"
            ],
            "text/html": [
              "<table border='1'>\n",
              "<tr><th>MedInc</th><th>HouseAge</th><th>AveRooms</th><th>AveBedrms</th><th>Population</th><th>AveOccup</th><th>Latitude</th><th>Longitude</th><th>PRICE</th><th>features</th><th>standardized</th></tr>\n",
              "<tr><td>8.3252</td><td>41.0</td><td>6.984126984126984</td><td>1.0238095238095237</td><td>322.0</td><td>2.5555555555555554</td><td>37.88</td><td>-122.23</td><td>4.526</td><td>[8.3252,41.0,6.98...</td><td>[4.38209539419521...</td></tr>\n",
              "<tr><td>8.3014</td><td>21.0</td><td>6.238137082601054</td><td>0.9718804920913884</td><td>2401.0</td><td>2.109841827768014</td><td>37.86</td><td>-122.22</td><td>3.585</td><td>[8.3014,21.0,6.23...</td><td>[4.36956790291791...</td></tr>\n",
              "<tr><td>7.2574</td><td>52.0</td><td>8.288135593220339</td><td>1.073446327683616</td><td>496.0</td><td>2.8022598870056497</td><td>37.85</td><td>-122.24</td><td>3.521</td><td>[7.2574,52.0,8.28...</td><td>[3.82004265529144...</td></tr>\n",
              "<tr><td>5.6431</td><td>52.0</td><td>5.8173515981735155</td><td>1.0730593607305936</td><td>558.0</td><td>2.547945205479452</td><td>37.85</td><td>-122.25</td><td>3.413</td><td>[5.6431,52.0,5.81...</td><td>[2.97033134567133...</td></tr>\n",
              "<tr><td>3.8462</td><td>52.0</td><td>6.281853281853282</td><td>1.0810810810810811</td><td>565.0</td><td>2.1814671814671813</td><td>37.85</td><td>-122.25</td><td>3.422</td><td>[3.8462,52.0,6.28...</td><td>[2.02450575423457...</td></tr>\n",
              "</table>\n"
            ]
          },
          "metadata": {},
          "execution_count": 9
        }
      ],
      "source": [
        "# PySpark ML의 StandardScaler를 사용하여 피처 스케일링 (표준화)\n",
        "from pyspark.ml.feature import StandardScaler\n",
        "\n",
        "# StandardScaler 객체 생성\n",
        "# - inputCol: 표준화를 적용할 입력 벡터 컬럼(\"features\")\n",
        "# - outputCol: 표준화된 데이터를 저장할 출력 벡터 컬럼(\"standardized\")\n",
        "scaler = StandardScaler(\n",
        "    inputCol=\"features\",\n",
        "    outputCol=\"standardized\"\n",
        ")\n",
        "\n",
        "# StandardScaler 모델 학습 및 데이터 변환\n",
        "data_scaled = scaler.fit(transformed_df).transform(transformed_df)\n",
        "\n",
        "data_scaled.limit(5)"
      ]
    },
    {
      "cell_type": "code",
      "source": [
        "print(data_scaled.select('features').first())\n",
        "print(data_scaled.select('standardized').first())"
      ],
      "metadata": {
        "colab": {
          "base_uri": "https://localhost:8080/"
        },
        "id": "QvyL6ZIy_s0z",
        "outputId": "1702af3c-d80f-455a-a3b3-b9e0f56df5f5"
      },
      "id": "QvyL6ZIy_s0z",
      "execution_count": 10,
      "outputs": [
        {
          "output_type": "stream",
          "name": "stdout",
          "text": [
            "Row(features=DenseVector([8.3252, 41.0, 6.9841, 1.0238, 322.0, 2.5556, 37.88, -122.23]))\n",
            "Row(standardized=DenseVector([4.3821, 3.2577, 2.8228, 2.1603, 0.2843, 0.2461, 17.7345, -61.0073]))\n"
          ]
        }
      ]
    },
    {
      "cell_type": "code",
      "execution_count": 11,
      "id": "393bdf9c",
      "metadata": {
        "colab": {
          "base_uri": "https://localhost:8080/"
        },
        "id": "393bdf9c",
        "outputId": "2a54a802-d16c-4eaa-f768-4eca6fcb6dee"
      },
      "outputs": [
        {
          "output_type": "stream",
          "name": "stdout",
          "text": [
            "+---------------------------------------------------------------------------------------------------------------------------------------------------------+-----+\n",
            "|standardized                                                                                                                                             |PRICE|\n",
            "+---------------------------------------------------------------------------------------------------------------------------------------------------------+-----+\n",
            "|[4.382095394195218,3.257702301608306,2.8228125480951616,2.1603419907541483,0.28433622088661975,0.2460565530953312,17.734477624640157,-61.007269596069534]|4.526|\n",
            "|[4.36956790291791,1.6685792276530347,2.5213017566153453,2.0507664641049517,2.1201592122632733,0.20314189867185037,17.72511412008649,-61.00227840981444]  |3.585|\n",
            "|[3.8200426552914495,4.131719992283705,3.3498607923408183,2.265080684038642,0.4379837439744205,0.26980998600283923,17.72043236780966,-61.01226078232463]  |3.521|\n",
            "|[2.9703313456713394,4.131719992283705,2.3512306012371713,2.2642641444986134,0.49273171197122306,0.24532380576628018,17.72043236780966,-61.01725196857973]|3.413|\n",
            "|[2.024505754234571,4.131719992283705,2.5389707703782216,2.2811907884770393,0.49891293416441046,0.21003820253311384,17.72043236780966,-61.01725196857973] |3.422|\n",
            "+---------------------------------------------------------------------------------------------------------------------------------------------------------+-----+\n",
            "only showing top 5 rows\n",
            "\n"
          ]
        }
      ],
      "source": [
        "# 최종 데이터 준비\n",
        "# - 표준화된 피처(\"standardized\")와 타겟 변수(\"PRICE\")만 선택하여 최종 데이터 생성\n",
        "ml_data = data_scaled.select(\"standardized\", \"PRICE\")\n",
        "\n",
        "# 최종 데이터프레임의 상위 5개 행 출력 (값을 잘리지 않도록 설정: truncate=False)\n",
        "ml_data.show(5, truncate=False)"
      ]
    },
    {
      "cell_type": "code",
      "execution_count": 12,
      "id": "35ae2b92",
      "metadata": {
        "colab": {
          "base_uri": "https://localhost:8080/"
        },
        "id": "35ae2b92",
        "outputId": "a321f71b-56a3-4abd-a99b-da3fb8db6f27"
      },
      "outputs": [
        {
          "output_type": "execute_result",
          "data": {
            "text/plain": [
              "(15520, 5120)"
            ]
          },
          "metadata": {},
          "execution_count": 12
        }
      ],
      "source": [
        "# 데이터를 학습용(train)과 테스트용(test)으로 분할\n",
        "# randomSplit 함수는 지정된 비율에 따라 데이터를 랜덤하게 분할\n",
        "# 75%를 학습 데이터로, 25%를 테스트 데이터로 분할\n",
        "train_data, test_data = ml_data.randomSplit([0.75, 0.25])\n",
        "\n",
        "train_data.count(), test_data.count()"
      ]
    },
    {
      "cell_type": "code",
      "execution_count": 13,
      "id": "d1f63938",
      "metadata": {
        "id": "d1f63938"
      },
      "outputs": [],
      "source": [
        "# pyspark.ml 라이브러리를 사용하여 선형 회귀 모델을 생성\n",
        "#  \"standardized\" 컬럼을 특징으로, \"PRICE\" 컬럼을 라벨로 사용\n",
        "# fit 메서드를 호출하여 학습 데이터를 기반으로 선형 회귀 모델을 학습\n",
        "regressor = LinearRegression(featuresCol=\"standardized\", labelCol='PRICE')\n",
        "model = regressor.fit(train_data)"
      ]
    },
    {
      "cell_type": "code",
      "execution_count": 14,
      "id": "65e8ac1d",
      "metadata": {
        "colab": {
          "base_uri": "https://localhost:8080/"
        },
        "id": "65e8ac1d",
        "outputId": "430bf9d9-5492-4488-a1de-1742a09d4587"
      },
      "outputs": [
        {
          "output_type": "stream",
          "name": "stdout",
          "text": [
            "Coefficients: [0.8247763075101192,0.12196681508179726,-0.24124745498301975,0.27862885338042465,-0.005270282764335624,-0.04754754684103922,-0.9030766680949593,-0.8740091078488724]\n",
            "Intercept: -37.075780320972264\n",
            "R-squared: 0.6086164175461264\n",
            "Mean Squared Error: 0.5266628502828017\n",
            "Root Mean Squared Error: 0.7257154058463977\n"
          ]
        }
      ],
      "source": [
        "# 모델의 계수와 절편 출력\n",
        "print(f\"Coefficients: {model.coefficients}\")\n",
        "print(f\"Intercept: {model.intercept}\")\n",
        "\n",
        "# 모델 요약 정보 확인\n",
        "summary = model.summary\n",
        "print(f\"R-squared: {summary.r2}\")\n",
        "print(f\"Mean Squared Error: {summary.meanSquaredError}\")\n",
        "print(f\"Root Mean Squared Error: {summary.rootMeanSquaredError}\")"
      ]
    },
    {
      "cell_type": "code",
      "execution_count": 15,
      "id": "26e8a9f1",
      "metadata": {
        "colab": {
          "base_uri": "https://localhost:8080/",
          "height": 156
        },
        "id": "26e8a9f1",
        "outputId": "8798ccfe-d5ed-44f4-b8d2-8a595cb96bf5"
      },
      "outputs": [
        {
          "output_type": "execute_result",
          "data": {
            "text/plain": [
              "+--------------------+-------+------------------+\n",
              "|        standardized|  PRICE|        prediction|\n",
              "+--------------------+-------+------------------+\n",
              "|[0.26312995334144...|  0.735| 1.650431204986397|\n",
              "|[0.26312995334144...|5.00001|0.8143525708178956|\n",
              "|[0.26312995334144...|5.00001|0.9562436997920045|\n",
              "|[0.28213173632929...|  0.875|0.4824574808765263|\n",
              "|[0.35661240925950...|    3.5|1.4355919037893656|\n",
              "+--------------------+-------+------------------+"
            ],
            "text/html": [
              "<table border='1'>\n",
              "<tr><th>standardized</th><th>PRICE</th><th>prediction</th></tr>\n",
              "<tr><td>[0.26312995334144...</td><td>0.735</td><td>1.650431204986397</td></tr>\n",
              "<tr><td>[0.26312995334144...</td><td>5.00001</td><td>0.8143525708178956</td></tr>\n",
              "<tr><td>[0.26312995334144...</td><td>5.00001</td><td>0.9562436997920045</td></tr>\n",
              "<tr><td>[0.28213173632929...</td><td>0.875</td><td>0.4824574808765263</td></tr>\n",
              "<tr><td>[0.35661240925950...</td><td>3.5</td><td>1.4355919037893656</td></tr>\n",
              "</table>\n"
            ]
          },
          "metadata": {},
          "execution_count": 15
        }
      ],
      "source": [
        "# 학습된 선형 회귀 모델을 사용하여 테스트 데이터에 대한 예측 수행\n",
        "# transform 메서드는 테스트 데이터셋(test_data)을 입력으로 받아 각 샘플의 예측값을 계산\n",
        "pred = model.transform(test_data)\n",
        "pred.limit(5)"
      ]
    },
    {
      "cell_type": "code",
      "execution_count": 16,
      "id": "ccf73c37",
      "metadata": {
        "id": "ccf73c37"
      },
      "outputs": [],
      "source": [
        "## spark DataFrame을 numpy array로 변경\n",
        "y_test = np.array(test_data.select('PRICE').collect())\n",
        "y_pred = np.array(pred.select('prediction').collect())"
      ]
    },
    {
      "cell_type": "code",
      "execution_count": 17,
      "id": "c0a3c41a",
      "metadata": {
        "colab": {
          "base_uri": "https://localhost:8080/"
        },
        "id": "c0a3c41a",
        "outputId": "db1361d9-2351-4ef1-cfef-b3608a6385a4"
      },
      "outputs": [
        {
          "output_type": "stream",
          "name": "stdout",
          "text": [
            "결정계수: 0.60\n"
          ]
        }
      ],
      "source": [
        "from sklearn.metrics import r2_score\n",
        "# R2 계산\n",
        "print(\"결정계수: {:.2f}\".format(r2_score(y_test, y_pred)))"
      ]
    },
    {
      "cell_type": "markdown",
      "id": "9553436d",
      "metadata": {
        "id": "9553436d"
      },
      "source": [
        "## 2. Linear Regression - Tip 금액 예측"
      ]
    },
    {
      "cell_type": "code",
      "execution_count": 18,
      "id": "ea4d4d27",
      "metadata": {
        "colab": {
          "base_uri": "https://localhost:8080/",
          "height": 206
        },
        "id": "ea4d4d27",
        "outputId": "bc4b2818-0892-4634-8ce5-5eb45442ea35"
      },
      "outputs": [
        {
          "output_type": "execute_result",
          "data": {
            "text/plain": [
              "   total_bill   tip     sex smoker  day    time  size\n",
              "0       16.99  1.01  Female     No  Sun  Dinner     2\n",
              "1       10.34  1.66    Male     No  Sun  Dinner     3\n",
              "2       21.01  3.50    Male     No  Sun  Dinner     3\n",
              "3       23.68  3.31    Male     No  Sun  Dinner     2\n",
              "4       24.59  3.61  Female     No  Sun  Dinner     4"
            ],
            "text/html": [
              "\n",
              "  <div id=\"df-71f3756f-5c09-4130-95c0-b74dbed17cb2\" class=\"colab-df-container\">\n",
              "    <div>\n",
              "<style scoped>\n",
              "    .dataframe tbody tr th:only-of-type {\n",
              "        vertical-align: middle;\n",
              "    }\n",
              "\n",
              "    .dataframe tbody tr th {\n",
              "        vertical-align: top;\n",
              "    }\n",
              "\n",
              "    .dataframe thead th {\n",
              "        text-align: right;\n",
              "    }\n",
              "</style>\n",
              "<table border=\"1\" class=\"dataframe\">\n",
              "  <thead>\n",
              "    <tr style=\"text-align: right;\">\n",
              "      <th></th>\n",
              "      <th>total_bill</th>\n",
              "      <th>tip</th>\n",
              "      <th>sex</th>\n",
              "      <th>smoker</th>\n",
              "      <th>day</th>\n",
              "      <th>time</th>\n",
              "      <th>size</th>\n",
              "    </tr>\n",
              "  </thead>\n",
              "  <tbody>\n",
              "    <tr>\n",
              "      <th>0</th>\n",
              "      <td>16.99</td>\n",
              "      <td>1.01</td>\n",
              "      <td>Female</td>\n",
              "      <td>No</td>\n",
              "      <td>Sun</td>\n",
              "      <td>Dinner</td>\n",
              "      <td>2</td>\n",
              "    </tr>\n",
              "    <tr>\n",
              "      <th>1</th>\n",
              "      <td>10.34</td>\n",
              "      <td>1.66</td>\n",
              "      <td>Male</td>\n",
              "      <td>No</td>\n",
              "      <td>Sun</td>\n",
              "      <td>Dinner</td>\n",
              "      <td>3</td>\n",
              "    </tr>\n",
              "    <tr>\n",
              "      <th>2</th>\n",
              "      <td>21.01</td>\n",
              "      <td>3.50</td>\n",
              "      <td>Male</td>\n",
              "      <td>No</td>\n",
              "      <td>Sun</td>\n",
              "      <td>Dinner</td>\n",
              "      <td>3</td>\n",
              "    </tr>\n",
              "    <tr>\n",
              "      <th>3</th>\n",
              "      <td>23.68</td>\n",
              "      <td>3.31</td>\n",
              "      <td>Male</td>\n",
              "      <td>No</td>\n",
              "      <td>Sun</td>\n",
              "      <td>Dinner</td>\n",
              "      <td>2</td>\n",
              "    </tr>\n",
              "    <tr>\n",
              "      <th>4</th>\n",
              "      <td>24.59</td>\n",
              "      <td>3.61</td>\n",
              "      <td>Female</td>\n",
              "      <td>No</td>\n",
              "      <td>Sun</td>\n",
              "      <td>Dinner</td>\n",
              "      <td>4</td>\n",
              "    </tr>\n",
              "  </tbody>\n",
              "</table>\n",
              "</div>\n",
              "    <div class=\"colab-df-buttons\">\n",
              "\n",
              "  <div class=\"colab-df-container\">\n",
              "    <button class=\"colab-df-convert\" onclick=\"convertToInteractive('df-71f3756f-5c09-4130-95c0-b74dbed17cb2')\"\n",
              "            title=\"Convert this dataframe to an interactive table.\"\n",
              "            style=\"display:none;\">\n",
              "\n",
              "  <svg xmlns=\"http://www.w3.org/2000/svg\" height=\"24px\" viewBox=\"0 -960 960 960\">\n",
              "    <path d=\"M120-120v-720h720v720H120Zm60-500h600v-160H180v160Zm220 220h160v-160H400v160Zm0 220h160v-160H400v160ZM180-400h160v-160H180v160Zm440 0h160v-160H620v160ZM180-180h160v-160H180v160Zm440 0h160v-160H620v160Z\"/>\n",
              "  </svg>\n",
              "    </button>\n",
              "\n",
              "  <style>\n",
              "    .colab-df-container {\n",
              "      display:flex;\n",
              "      gap: 12px;\n",
              "    }\n",
              "\n",
              "    .colab-df-convert {\n",
              "      background-color: #E8F0FE;\n",
              "      border: none;\n",
              "      border-radius: 50%;\n",
              "      cursor: pointer;\n",
              "      display: none;\n",
              "      fill: #1967D2;\n",
              "      height: 32px;\n",
              "      padding: 0 0 0 0;\n",
              "      width: 32px;\n",
              "    }\n",
              "\n",
              "    .colab-df-convert:hover {\n",
              "      background-color: #E2EBFA;\n",
              "      box-shadow: 0px 1px 2px rgba(60, 64, 67, 0.3), 0px 1px 3px 1px rgba(60, 64, 67, 0.15);\n",
              "      fill: #174EA6;\n",
              "    }\n",
              "\n",
              "    .colab-df-buttons div {\n",
              "      margin-bottom: 4px;\n",
              "    }\n",
              "\n",
              "    [theme=dark] .colab-df-convert {\n",
              "      background-color: #3B4455;\n",
              "      fill: #D2E3FC;\n",
              "    }\n",
              "\n",
              "    [theme=dark] .colab-df-convert:hover {\n",
              "      background-color: #434B5C;\n",
              "      box-shadow: 0px 1px 3px 1px rgba(0, 0, 0, 0.15);\n",
              "      filter: drop-shadow(0px 1px 2px rgba(0, 0, 0, 0.3));\n",
              "      fill: #FFFFFF;\n",
              "    }\n",
              "  </style>\n",
              "\n",
              "    <script>\n",
              "      const buttonEl =\n",
              "        document.querySelector('#df-71f3756f-5c09-4130-95c0-b74dbed17cb2 button.colab-df-convert');\n",
              "      buttonEl.style.display =\n",
              "        google.colab.kernel.accessAllowed ? 'block' : 'none';\n",
              "\n",
              "      async function convertToInteractive(key) {\n",
              "        const element = document.querySelector('#df-71f3756f-5c09-4130-95c0-b74dbed17cb2');\n",
              "        const dataTable =\n",
              "          await google.colab.kernel.invokeFunction('convertToInteractive',\n",
              "                                                    [key], {});\n",
              "        if (!dataTable) return;\n",
              "\n",
              "        const docLinkHtml = 'Like what you see? Visit the ' +\n",
              "          '<a target=\"_blank\" href=https://colab.research.google.com/notebooks/data_table.ipynb>data table notebook</a>'\n",
              "          + ' to learn more about interactive tables.';\n",
              "        element.innerHTML = '';\n",
              "        dataTable['output_type'] = 'display_data';\n",
              "        await google.colab.output.renderOutput(dataTable, element);\n",
              "        const docLink = document.createElement('div');\n",
              "        docLink.innerHTML = docLinkHtml;\n",
              "        element.appendChild(docLink);\n",
              "      }\n",
              "    </script>\n",
              "  </div>\n",
              "\n",
              "\n",
              "<div id=\"df-02d1fc01-63e7-42cd-ad88-2867b725b0c6\">\n",
              "  <button class=\"colab-df-quickchart\" onclick=\"quickchart('df-02d1fc01-63e7-42cd-ad88-2867b725b0c6')\"\n",
              "            title=\"Suggest charts\"\n",
              "            style=\"display:none;\">\n",
              "\n",
              "<svg xmlns=\"http://www.w3.org/2000/svg\" height=\"24px\"viewBox=\"0 0 24 24\"\n",
              "     width=\"24px\">\n",
              "    <g>\n",
              "        <path d=\"M19 3H5c-1.1 0-2 .9-2 2v14c0 1.1.9 2 2 2h14c1.1 0 2-.9 2-2V5c0-1.1-.9-2-2-2zM9 17H7v-7h2v7zm4 0h-2V7h2v10zm4 0h-2v-4h2v4z\"/>\n",
              "    </g>\n",
              "</svg>\n",
              "  </button>\n",
              "\n",
              "<style>\n",
              "  .colab-df-quickchart {\n",
              "      --bg-color: #E8F0FE;\n",
              "      --fill-color: #1967D2;\n",
              "      --hover-bg-color: #E2EBFA;\n",
              "      --hover-fill-color: #174EA6;\n",
              "      --disabled-fill-color: #AAA;\n",
              "      --disabled-bg-color: #DDD;\n",
              "  }\n",
              "\n",
              "  [theme=dark] .colab-df-quickchart {\n",
              "      --bg-color: #3B4455;\n",
              "      --fill-color: #D2E3FC;\n",
              "      --hover-bg-color: #434B5C;\n",
              "      --hover-fill-color: #FFFFFF;\n",
              "      --disabled-bg-color: #3B4455;\n",
              "      --disabled-fill-color: #666;\n",
              "  }\n",
              "\n",
              "  .colab-df-quickchart {\n",
              "    background-color: var(--bg-color);\n",
              "    border: none;\n",
              "    border-radius: 50%;\n",
              "    cursor: pointer;\n",
              "    display: none;\n",
              "    fill: var(--fill-color);\n",
              "    height: 32px;\n",
              "    padding: 0;\n",
              "    width: 32px;\n",
              "  }\n",
              "\n",
              "  .colab-df-quickchart:hover {\n",
              "    background-color: var(--hover-bg-color);\n",
              "    box-shadow: 0 1px 2px rgba(60, 64, 67, 0.3), 0 1px 3px 1px rgba(60, 64, 67, 0.15);\n",
              "    fill: var(--button-hover-fill-color);\n",
              "  }\n",
              "\n",
              "  .colab-df-quickchart-complete:disabled,\n",
              "  .colab-df-quickchart-complete:disabled:hover {\n",
              "    background-color: var(--disabled-bg-color);\n",
              "    fill: var(--disabled-fill-color);\n",
              "    box-shadow: none;\n",
              "  }\n",
              "\n",
              "  .colab-df-spinner {\n",
              "    border: 2px solid var(--fill-color);\n",
              "    border-color: transparent;\n",
              "    border-bottom-color: var(--fill-color);\n",
              "    animation:\n",
              "      spin 1s steps(1) infinite;\n",
              "  }\n",
              "\n",
              "  @keyframes spin {\n",
              "    0% {\n",
              "      border-color: transparent;\n",
              "      border-bottom-color: var(--fill-color);\n",
              "      border-left-color: var(--fill-color);\n",
              "    }\n",
              "    20% {\n",
              "      border-color: transparent;\n",
              "      border-left-color: var(--fill-color);\n",
              "      border-top-color: var(--fill-color);\n",
              "    }\n",
              "    30% {\n",
              "      border-color: transparent;\n",
              "      border-left-color: var(--fill-color);\n",
              "      border-top-color: var(--fill-color);\n",
              "      border-right-color: var(--fill-color);\n",
              "    }\n",
              "    40% {\n",
              "      border-color: transparent;\n",
              "      border-right-color: var(--fill-color);\n",
              "      border-top-color: var(--fill-color);\n",
              "    }\n",
              "    60% {\n",
              "      border-color: transparent;\n",
              "      border-right-color: var(--fill-color);\n",
              "    }\n",
              "    80% {\n",
              "      border-color: transparent;\n",
              "      border-right-color: var(--fill-color);\n",
              "      border-bottom-color: var(--fill-color);\n",
              "    }\n",
              "    90% {\n",
              "      border-color: transparent;\n",
              "      border-bottom-color: var(--fill-color);\n",
              "    }\n",
              "  }\n",
              "</style>\n",
              "\n",
              "  <script>\n",
              "    async function quickchart(key) {\n",
              "      const quickchartButtonEl =\n",
              "        document.querySelector('#' + key + ' button');\n",
              "      quickchartButtonEl.disabled = true;  // To prevent multiple clicks.\n",
              "      quickchartButtonEl.classList.add('colab-df-spinner');\n",
              "      try {\n",
              "        const charts = await google.colab.kernel.invokeFunction(\n",
              "            'suggestCharts', [key], {});\n",
              "      } catch (error) {\n",
              "        console.error('Error during call to suggestCharts:', error);\n",
              "      }\n",
              "      quickchartButtonEl.classList.remove('colab-df-spinner');\n",
              "      quickchartButtonEl.classList.add('colab-df-quickchart-complete');\n",
              "    }\n",
              "    (() => {\n",
              "      let quickchartButtonEl =\n",
              "        document.querySelector('#df-02d1fc01-63e7-42cd-ad88-2867b725b0c6 button');\n",
              "      quickchartButtonEl.style.display =\n",
              "        google.colab.kernel.accessAllowed ? 'block' : 'none';\n",
              "    })();\n",
              "  </script>\n",
              "</div>\n",
              "\n",
              "    </div>\n",
              "  </div>\n"
            ],
            "application/vnd.google.colaboratory.intrinsic+json": {
              "type": "dataframe",
              "variable_name": "tips",
              "summary": "{\n  \"name\": \"tips\",\n  \"rows\": 244,\n  \"fields\": [\n    {\n      \"column\": \"total_bill\",\n      \"properties\": {\n        \"dtype\": \"number\",\n        \"std\": 8.902411954856856,\n        \"min\": 3.07,\n        \"max\": 50.81,\n        \"num_unique_values\": 229,\n        \"samples\": [\n          22.12,\n          20.23,\n          14.78\n        ],\n        \"semantic_type\": \"\",\n        \"description\": \"\"\n      }\n    },\n    {\n      \"column\": \"tip\",\n      \"properties\": {\n        \"dtype\": \"number\",\n        \"std\": 1.3836381890011826,\n        \"min\": 1.0,\n        \"max\": 10.0,\n        \"num_unique_values\": 123,\n        \"samples\": [\n          3.35,\n          1.5,\n          6.73\n        ],\n        \"semantic_type\": \"\",\n        \"description\": \"\"\n      }\n    },\n    {\n      \"column\": \"sex\",\n      \"properties\": {\n        \"dtype\": \"category\",\n        \"num_unique_values\": 2,\n        \"samples\": [\n          \"Male\",\n          \"Female\"\n        ],\n        \"semantic_type\": \"\",\n        \"description\": \"\"\n      }\n    },\n    {\n      \"column\": \"smoker\",\n      \"properties\": {\n        \"dtype\": \"category\",\n        \"num_unique_values\": 2,\n        \"samples\": [\n          \"Yes\",\n          \"No\"\n        ],\n        \"semantic_type\": \"\",\n        \"description\": \"\"\n      }\n    },\n    {\n      \"column\": \"day\",\n      \"properties\": {\n        \"dtype\": \"category\",\n        \"num_unique_values\": 4,\n        \"samples\": [\n          \"Sat\",\n          \"Fri\"\n        ],\n        \"semantic_type\": \"\",\n        \"description\": \"\"\n      }\n    },\n    {\n      \"column\": \"time\",\n      \"properties\": {\n        \"dtype\": \"category\",\n        \"num_unique_values\": 2,\n        \"samples\": [\n          \"Lunch\",\n          \"Dinner\"\n        ],\n        \"semantic_type\": \"\",\n        \"description\": \"\"\n      }\n    },\n    {\n      \"column\": \"size\",\n      \"properties\": {\n        \"dtype\": \"number\",\n        \"std\": 0,\n        \"min\": 1,\n        \"max\": 6,\n        \"num_unique_values\": 6,\n        \"samples\": [\n          2,\n          3\n        ],\n        \"semantic_type\": \"\",\n        \"description\": \"\"\n      }\n    }\n  ]\n}"
            }
          },
          "metadata": {},
          "execution_count": 18
        }
      ],
      "source": [
        "import seaborn as sns\n",
        "\n",
        "# tips 데이터셋은 식사 팁과 관련된 정보를 포함한 예제 데이터셋\n",
        "# load_dataset 메서드를 사용하여 \"tips\"라는 이름의 내장 데이터셋 로드\n",
        "tips = sns.load_dataset(\"tips\")\n",
        "tips.head()"
      ]
    },
    {
      "cell_type": "code",
      "execution_count": 19,
      "id": "5772de52",
      "metadata": {
        "colab": {
          "base_uri": "https://localhost:8080/",
          "height": 156
        },
        "id": "5772de52",
        "outputId": "835f41b7-6a49-4d2b-c6a8-0efb8bd45289"
      },
      "outputs": [
        {
          "output_type": "execute_result",
          "data": {
            "text/plain": [
              "+----------+----+------+------+---+------+----+\n",
              "|total_bill| tip|   sex|smoker|day|  time|size|\n",
              "+----------+----+------+------+---+------+----+\n",
              "|     16.99|1.01|Female|    No|Sun|Dinner|   2|\n",
              "|     10.34|1.66|  Male|    No|Sun|Dinner|   3|\n",
              "|     21.01| 3.5|  Male|    No|Sun|Dinner|   3|\n",
              "|     23.68|3.31|  Male|    No|Sun|Dinner|   2|\n",
              "|     24.59|3.61|Female|    No|Sun|Dinner|   4|\n",
              "+----------+----+------+------+---+------+----+"
            ],
            "text/html": [
              "<table border='1'>\n",
              "<tr><th>total_bill</th><th>tip</th><th>sex</th><th>smoker</th><th>day</th><th>time</th><th>size</th></tr>\n",
              "<tr><td>16.99</td><td>1.01</td><td>Female</td><td>No</td><td>Sun</td><td>Dinner</td><td>2</td></tr>\n",
              "<tr><td>10.34</td><td>1.66</td><td>Male</td><td>No</td><td>Sun</td><td>Dinner</td><td>3</td></tr>\n",
              "<tr><td>21.01</td><td>3.5</td><td>Male</td><td>No</td><td>Sun</td><td>Dinner</td><td>3</td></tr>\n",
              "<tr><td>23.68</td><td>3.31</td><td>Male</td><td>No</td><td>Sun</td><td>Dinner</td><td>2</td></tr>\n",
              "<tr><td>24.59</td><td>3.61</td><td>Female</td><td>No</td><td>Sun</td><td>Dinner</td><td>4</td></tr>\n",
              "</table>\n"
            ]
          },
          "metadata": {},
          "execution_count": 19
        }
      ],
      "source": [
        "## spark dataframe으로 변환\n",
        "df = spark.createDataFrame(tips)\n",
        "df.limit(5)"
      ]
    },
    {
      "cell_type": "code",
      "execution_count": 20,
      "id": "23d908f1",
      "metadata": {
        "colab": {
          "base_uri": "https://localhost:8080/"
        },
        "id": "23d908f1",
        "outputId": "72b4e5f3-8a97-4fb1-ff17-7eadbdbf852c"
      },
      "outputs": [
        {
          "output_type": "stream",
          "name": "stdout",
          "text": [
            "+------+-----+\n",
            "|  time|count|\n",
            "+------+-----+\n",
            "| Lunch|   68|\n",
            "|Dinner|  176|\n",
            "+------+-----+\n",
            "\n",
            "+------+-----+\n",
            "|smoker|count|\n",
            "+------+-----+\n",
            "|    No|  151|\n",
            "|   Yes|   93|\n",
            "+------+-----+\n",
            "\n",
            "+----+-----+\n",
            "| day|count|\n",
            "+----+-----+\n",
            "|Thur|   62|\n",
            "| Sun|   76|\n",
            "| Sat|   87|\n",
            "| Fri|   19|\n",
            "+----+-----+\n",
            "\n"
          ]
        }
      ],
      "source": [
        "# 'time' 컬럼을 기준으로 그룹화한 후, 각 그룹의 개수를 계산하고 출력\n",
        "# 어떤 시간대의 데이터가 더 많은지 알 수 있음.\n",
        "df.groupBy('time').count().show()\n",
        "\n",
        "# 'smoker' 컬럼을 기준으로 그룹화한 후, 각 그룹의 개수를 계산하고 출력\n",
        "# 흡연자와 비흡연자의 비율을 확인\n",
        "df.groupBy('smoker').count().show()\n",
        "\n",
        "#  'day' 컬럼을 기준으로 그룹화한 후, 각 그룹의 개수를 계산하고 출력\n",
        "# 특정 요일에 데이터가 더 집중되어 있는지 확인\n",
        "df.groupBy('day').count().show()"
      ]
    },
    {
      "cell_type": "markdown",
      "id": "cc9b21e5",
      "metadata": {
        "id": "cc9b21e5"
      },
      "source": [
        "### Categorical Feature를 One-Hot 벡터로 변환\n",
        "\n",
        "One-Hot Encoding은 **범주형 데이터(Categorical Data)**를 숫자 데이터로 변환하는 기법. 각 고유한 범주(category)를 **이진 벡터(binary vector)**로 표현.\n",
        "\n",
        "예) `['red', 'green', 'blue']` 라는 범주형 데이터\n",
        "```\n",
        "red → [1, 0, 0]\n",
        "green → [0, 1, 0]\n",
        "blue → [0, 0, 1]\n",
        "```\n",
        "\n",
        "- StringIndexer는 문자열 데이터를 숫자형 데이터로 변환: 여러 개의 문자열형 컬럼을 한 번에 숫자형(index)로 변환\n",
        "- OneHotEncoder는 숫자형 데이터를 벡터 형태로 변환하여 머신러닝 모델에서 사용할 수 있도록 합니다."
      ]
    },
    {
      "cell_type": "code",
      "execution_count": 21,
      "id": "182d1389",
      "metadata": {
        "scrolled": true,
        "colab": {
          "base_uri": "https://localhost:8080/",
          "height": 156
        },
        "id": "182d1389",
        "outputId": "bf603196-aa54-43b6-a336-70b2568ce9a7"
      },
      "outputs": [
        {
          "output_type": "execute_result",
          "data": {
            "text/plain": [
              "+----------+----+------+------+---+------+----+----+-------+----+-----+\n",
              "|total_bill| tip|   sex|smoker|day|  time|size|sex_|smoker_|day_|time_|\n",
              "+----------+----+------+------+---+------+----+----+-------+----+-----+\n",
              "|     16.99|1.01|Female|    No|Sun|Dinner|   2| 1.0|    0.0| 1.0|  0.0|\n",
              "|     10.34|1.66|  Male|    No|Sun|Dinner|   3| 0.0|    0.0| 1.0|  0.0|\n",
              "|     21.01| 3.5|  Male|    No|Sun|Dinner|   3| 0.0|    0.0| 1.0|  0.0|\n",
              "|     23.68|3.31|  Male|    No|Sun|Dinner|   2| 0.0|    0.0| 1.0|  0.0|\n",
              "|     24.59|3.61|Female|    No|Sun|Dinner|   4| 1.0|    0.0| 1.0|  0.0|\n",
              "+----------+----+------+------+---+------+----+----+-------+----+-----+"
            ],
            "text/html": [
              "<table border='1'>\n",
              "<tr><th>total_bill</th><th>tip</th><th>sex</th><th>smoker</th><th>day</th><th>time</th><th>size</th><th>sex_</th><th>smoker_</th><th>day_</th><th>time_</th></tr>\n",
              "<tr><td>16.99</td><td>1.01</td><td>Female</td><td>No</td><td>Sun</td><td>Dinner</td><td>2</td><td>1.0</td><td>0.0</td><td>1.0</td><td>0.0</td></tr>\n",
              "<tr><td>10.34</td><td>1.66</td><td>Male</td><td>No</td><td>Sun</td><td>Dinner</td><td>3</td><td>0.0</td><td>0.0</td><td>1.0</td><td>0.0</td></tr>\n",
              "<tr><td>21.01</td><td>3.5</td><td>Male</td><td>No</td><td>Sun</td><td>Dinner</td><td>3</td><td>0.0</td><td>0.0</td><td>1.0</td><td>0.0</td></tr>\n",
              "<tr><td>23.68</td><td>3.31</td><td>Male</td><td>No</td><td>Sun</td><td>Dinner</td><td>2</td><td>0.0</td><td>0.0</td><td>1.0</td><td>0.0</td></tr>\n",
              "<tr><td>24.59</td><td>3.61</td><td>Female</td><td>No</td><td>Sun</td><td>Dinner</td><td>4</td><td>1.0</td><td>0.0</td><td>1.0</td><td>0.0</td></tr>\n",
              "</table>\n"
            ]
          },
          "metadata": {},
          "execution_count": 21
        }
      ],
      "source": [
        "# inputCols: 변환할 문자열 컬럼들의 리스트 (여기서는 'sex', 'smoker', 'day', 'time' 컬럼).\n",
        "# outputCols: 변환된 값을 저장할 새 컬럼들의 리스트 (여기서는 'sex_', 'smoker_', 'day_', 'time_' 컬럼).\n",
        "# fit 메서드를 호출하여 데이터프레임(df)에 기반한 변환 모델을 학습\n",
        "indexer = StringIndexer(inputCols=['sex', 'smoker', 'day', 'time'], outputCols=['sex_', 'smoker_', 'day_', 'time_']).fit(df)\n",
        "\n",
        "# 학습된 StringIndexer 모델을 사용하여 원본 데이터프레임(df)에 변환을 적용\n",
        "# 변환된 데이터는 df_r 변수에 저장되며, 새로 추가된 컬럼들이 포함\n",
        "df_r = indexer.transform(df)\n",
        "\n",
        "# 변환된 데이터프레임(df_r)의 상위 100개 행을 출력하여 변환 결과 확인\n",
        "df_r.limit(5)"
      ]
    },
    {
      "cell_type": "code",
      "execution_count": 22,
      "id": "2cae001e",
      "metadata": {
        "colab": {
          "base_uri": "https://localhost:8080/"
        },
        "id": "2cae001e",
        "outputId": "b682ad06-b039-4107-e0ac-80bd6e384210"
      },
      "outputs": [
        {
          "output_type": "stream",
          "name": "stdout",
          "text": [
            "+----+\n",
            "|sex_|\n",
            "+----+\n",
            "| 0.0|\n",
            "| 1.0|\n",
            "+----+\n",
            "\n",
            "+-------+\n",
            "|smoker_|\n",
            "+-------+\n",
            "|    0.0|\n",
            "|    1.0|\n",
            "+-------+\n",
            "\n",
            "+----+\n",
            "|day_|\n",
            "+----+\n",
            "| 0.0|\n",
            "| 1.0|\n",
            "| 3.0|\n",
            "| 2.0|\n",
            "+----+\n",
            "\n",
            "+-----+\n",
            "|time_|\n",
            "+-----+\n",
            "|  0.0|\n",
            "|  1.0|\n",
            "+-----+\n",
            "\n"
          ]
        }
      ],
      "source": [
        "df_r.select(['sex_']).distinct().show()\n",
        "df_r.select(['smoker_']).distinct().show()\n",
        "df_r.select(['day_']).distinct().show()\n",
        "df_r.select(['time_']).distinct().show()"
      ]
    },
    {
      "cell_type": "code",
      "execution_count": 23,
      "id": "a6902688",
      "metadata": {
        "colab": {
          "base_uri": "https://localhost:8080/",
          "height": 268
        },
        "id": "a6902688",
        "outputId": "4e484d4f-b766-499c-a0b9-d2f8f142e6e9"
      },
      "outputs": [
        {
          "output_type": "execute_result",
          "data": {
            "text/plain": [
              "+----------+----+------+------+---+------+----+----+-------+----+-----+-------------+-------------+-------------+-------------+\n",
              "|total_bill| tip|   sex|smoker|day|  time|size|sex_|smoker_|day_|time_|      sex_ohe|   smoker_ohe|      day_ohe|     time_ohe|\n",
              "+----------+----+------+------+---+------+----+----+-------+----+-----+-------------+-------------+-------------+-------------+\n",
              "|     16.99|1.01|Female|    No|Sun|Dinner|   2| 1.0|    0.0| 1.0|  0.0|    (1,[],[])|(1,[0],[1.0])|(3,[1],[1.0])|(1,[0],[1.0])|\n",
              "|     10.34|1.66|  Male|    No|Sun|Dinner|   3| 0.0|    0.0| 1.0|  0.0|(1,[0],[1.0])|(1,[0],[1.0])|(3,[1],[1.0])|(1,[0],[1.0])|\n",
              "|     21.01| 3.5|  Male|    No|Sun|Dinner|   3| 0.0|    0.0| 1.0|  0.0|(1,[0],[1.0])|(1,[0],[1.0])|(3,[1],[1.0])|(1,[0],[1.0])|\n",
              "|     23.68|3.31|  Male|    No|Sun|Dinner|   2| 0.0|    0.0| 1.0|  0.0|(1,[0],[1.0])|(1,[0],[1.0])|(3,[1],[1.0])|(1,[0],[1.0])|\n",
              "|     24.59|3.61|Female|    No|Sun|Dinner|   4| 1.0|    0.0| 1.0|  0.0|    (1,[],[])|(1,[0],[1.0])|(3,[1],[1.0])|(1,[0],[1.0])|\n",
              "|     25.29|4.71|  Male|    No|Sun|Dinner|   4| 0.0|    0.0| 1.0|  0.0|(1,[0],[1.0])|(1,[0],[1.0])|(3,[1],[1.0])|(1,[0],[1.0])|\n",
              "|      8.77| 2.0|  Male|    No|Sun|Dinner|   2| 0.0|    0.0| 1.0|  0.0|(1,[0],[1.0])|(1,[0],[1.0])|(3,[1],[1.0])|(1,[0],[1.0])|\n",
              "|     26.88|3.12|  Male|    No|Sun|Dinner|   4| 0.0|    0.0| 1.0|  0.0|(1,[0],[1.0])|(1,[0],[1.0])|(3,[1],[1.0])|(1,[0],[1.0])|\n",
              "|     15.04|1.96|  Male|    No|Sun|Dinner|   2| 0.0|    0.0| 1.0|  0.0|(1,[0],[1.0])|(1,[0],[1.0])|(3,[1],[1.0])|(1,[0],[1.0])|\n",
              "|     14.78|3.23|  Male|    No|Sun|Dinner|   2| 0.0|    0.0| 1.0|  0.0|(1,[0],[1.0])|(1,[0],[1.0])|(3,[1],[1.0])|(1,[0],[1.0])|\n",
              "+----------+----+------+------+---+------+----+----+-------+----+-----+-------------+-------------+-------------+-------------+"
            ],
            "text/html": [
              "<table border='1'>\n",
              "<tr><th>total_bill</th><th>tip</th><th>sex</th><th>smoker</th><th>day</th><th>time</th><th>size</th><th>sex_</th><th>smoker_</th><th>day_</th><th>time_</th><th>sex_ohe</th><th>smoker_ohe</th><th>day_ohe</th><th>time_ohe</th></tr>\n",
              "<tr><td>16.99</td><td>1.01</td><td>Female</td><td>No</td><td>Sun</td><td>Dinner</td><td>2</td><td>1.0</td><td>0.0</td><td>1.0</td><td>0.0</td><td>(1,[],[])</td><td>(1,[0],[1.0])</td><td>(3,[1],[1.0])</td><td>(1,[0],[1.0])</td></tr>\n",
              "<tr><td>10.34</td><td>1.66</td><td>Male</td><td>No</td><td>Sun</td><td>Dinner</td><td>3</td><td>0.0</td><td>0.0</td><td>1.0</td><td>0.0</td><td>(1,[0],[1.0])</td><td>(1,[0],[1.0])</td><td>(3,[1],[1.0])</td><td>(1,[0],[1.0])</td></tr>\n",
              "<tr><td>21.01</td><td>3.5</td><td>Male</td><td>No</td><td>Sun</td><td>Dinner</td><td>3</td><td>0.0</td><td>0.0</td><td>1.0</td><td>0.0</td><td>(1,[0],[1.0])</td><td>(1,[0],[1.0])</td><td>(3,[1],[1.0])</td><td>(1,[0],[1.0])</td></tr>\n",
              "<tr><td>23.68</td><td>3.31</td><td>Male</td><td>No</td><td>Sun</td><td>Dinner</td><td>2</td><td>0.0</td><td>0.0</td><td>1.0</td><td>0.0</td><td>(1,[0],[1.0])</td><td>(1,[0],[1.0])</td><td>(3,[1],[1.0])</td><td>(1,[0],[1.0])</td></tr>\n",
              "<tr><td>24.59</td><td>3.61</td><td>Female</td><td>No</td><td>Sun</td><td>Dinner</td><td>4</td><td>1.0</td><td>0.0</td><td>1.0</td><td>0.0</td><td>(1,[],[])</td><td>(1,[0],[1.0])</td><td>(3,[1],[1.0])</td><td>(1,[0],[1.0])</td></tr>\n",
              "<tr><td>25.29</td><td>4.71</td><td>Male</td><td>No</td><td>Sun</td><td>Dinner</td><td>4</td><td>0.0</td><td>0.0</td><td>1.0</td><td>0.0</td><td>(1,[0],[1.0])</td><td>(1,[0],[1.0])</td><td>(3,[1],[1.0])</td><td>(1,[0],[1.0])</td></tr>\n",
              "<tr><td>8.77</td><td>2.0</td><td>Male</td><td>No</td><td>Sun</td><td>Dinner</td><td>2</td><td>0.0</td><td>0.0</td><td>1.0</td><td>0.0</td><td>(1,[0],[1.0])</td><td>(1,[0],[1.0])</td><td>(3,[1],[1.0])</td><td>(1,[0],[1.0])</td></tr>\n",
              "<tr><td>26.88</td><td>3.12</td><td>Male</td><td>No</td><td>Sun</td><td>Dinner</td><td>4</td><td>0.0</td><td>0.0</td><td>1.0</td><td>0.0</td><td>(1,[0],[1.0])</td><td>(1,[0],[1.0])</td><td>(3,[1],[1.0])</td><td>(1,[0],[1.0])</td></tr>\n",
              "<tr><td>15.04</td><td>1.96</td><td>Male</td><td>No</td><td>Sun</td><td>Dinner</td><td>2</td><td>0.0</td><td>0.0</td><td>1.0</td><td>0.0</td><td>(1,[0],[1.0])</td><td>(1,[0],[1.0])</td><td>(3,[1],[1.0])</td><td>(1,[0],[1.0])</td></tr>\n",
              "<tr><td>14.78</td><td>3.23</td><td>Male</td><td>No</td><td>Sun</td><td>Dinner</td><td>2</td><td>0.0</td><td>0.0</td><td>1.0</td><td>0.0</td><td>(1,[0],[1.0])</td><td>(1,[0],[1.0])</td><td>(3,[1],[1.0])</td><td>(1,[0],[1.0])</td></tr>\n",
              "</table>\n"
            ]
          },
          "metadata": {},
          "execution_count": 23
        }
      ],
      "source": [
        "from pyspark.ml.feature import OneHotEncoder\n",
        "\n",
        "# 문자열 데이터를 숫자형으로 변환한 컬럼(sex_, smoker_, day_, time_)을\n",
        "# 원-핫 인코딩(One-Hot Encoding)으로 변환\n",
        "# inputCols: 원-핫 인코딩을 적용할 입력 컬럼들의 리스트\n",
        "# outputCols: 변환된 원-핫 인코딩 결과를 저장할 컬럼들의 리스트\n",
        "# fit 메서드를 호출하여 데이터프레임(df_r)에 기반한 변환 모델을 학습\n",
        "ohe_encoder = OneHotEncoder(\n",
        "    inputCols=['sex_', 'smoker_', 'day_', 'time_'],\n",
        "    outputCols=['sex_ohe', 'smoker_ohe', 'day_ohe', 'time_ohe']\n",
        ").fit(df_r)\n",
        "\n",
        "# 학습된 OneHotEncoder 모델을 사용하여 원-핫 인코딩을 데이터프레임(df_r)에 적용합니다.\n",
        "# 변환된 데이터는 df_ohe 변수에 저장되며, 새로 추가된 원-핫 인코딩 컬럼들이 포함됩니다.\n",
        "df_ohe = ohe_encoder.transform(df_r)\n",
        "\n",
        "df_ohe.limit(10)"
      ]
    },
    {
      "cell_type": "code",
      "execution_count": 24,
      "id": "1fbf3158",
      "metadata": {
        "colab": {
          "base_uri": "https://localhost:8080/",
          "height": 156
        },
        "id": "1fbf3158",
        "outputId": "0f46bf2a-b447-4b60-ea6c-8caea9873d9f"
      },
      "outputs": [
        {
          "output_type": "execute_result",
          "data": {
            "text/plain": [
              "+----------+----+------+------+---+------+----+----+-------+----+-----+-------------+-------------+-------------+-------------+--------------------+\n",
              "|total_bill| tip|   sex|smoker|day|  time|size|sex_|smoker_|day_|time_|      sex_ohe|   smoker_ohe|      day_ohe|     time_ohe|            features|\n",
              "+----------+----+------+------+---+------+----+----+-------+----+-----+-------------+-------------+-------------+-------------+--------------------+\n",
              "|     16.99|1.01|Female|    No|Sun|Dinner|   2| 1.0|    0.0| 1.0|  0.0|    (1,[],[])|(1,[0],[1.0])|(3,[1],[1.0])|(1,[0],[1.0])|[16.99,2.0,0.0,1....|\n",
              "|     10.34|1.66|  Male|    No|Sun|Dinner|   3| 0.0|    0.0| 1.0|  0.0|(1,[0],[1.0])|(1,[0],[1.0])|(3,[1],[1.0])|(1,[0],[1.0])|[10.34,3.0,1.0,1....|\n",
              "|     21.01| 3.5|  Male|    No|Sun|Dinner|   3| 0.0|    0.0| 1.0|  0.0|(1,[0],[1.0])|(1,[0],[1.0])|(3,[1],[1.0])|(1,[0],[1.0])|[21.01,3.0,1.0,1....|\n",
              "|     23.68|3.31|  Male|    No|Sun|Dinner|   2| 0.0|    0.0| 1.0|  0.0|(1,[0],[1.0])|(1,[0],[1.0])|(3,[1],[1.0])|(1,[0],[1.0])|[23.68,2.0,1.0,1....|\n",
              "|     24.59|3.61|Female|    No|Sun|Dinner|   4| 1.0|    0.0| 1.0|  0.0|    (1,[],[])|(1,[0],[1.0])|(3,[1],[1.0])|(1,[0],[1.0])|[24.59,4.0,0.0,1....|\n",
              "+----------+----+------+------+---+------+----+----+-------+----+-----+-------------+-------------+-------------+-------------+--------------------+"
            ],
            "text/html": [
              "<table border='1'>\n",
              "<tr><th>total_bill</th><th>tip</th><th>sex</th><th>smoker</th><th>day</th><th>time</th><th>size</th><th>sex_</th><th>smoker_</th><th>day_</th><th>time_</th><th>sex_ohe</th><th>smoker_ohe</th><th>day_ohe</th><th>time_ohe</th><th>features</th></tr>\n",
              "<tr><td>16.99</td><td>1.01</td><td>Female</td><td>No</td><td>Sun</td><td>Dinner</td><td>2</td><td>1.0</td><td>0.0</td><td>1.0</td><td>0.0</td><td>(1,[],[])</td><td>(1,[0],[1.0])</td><td>(3,[1],[1.0])</td><td>(1,[0],[1.0])</td><td>[16.99,2.0,0.0,1....</td></tr>\n",
              "<tr><td>10.34</td><td>1.66</td><td>Male</td><td>No</td><td>Sun</td><td>Dinner</td><td>3</td><td>0.0</td><td>0.0</td><td>1.0</td><td>0.0</td><td>(1,[0],[1.0])</td><td>(1,[0],[1.0])</td><td>(3,[1],[1.0])</td><td>(1,[0],[1.0])</td><td>[10.34,3.0,1.0,1....</td></tr>\n",
              "<tr><td>21.01</td><td>3.5</td><td>Male</td><td>No</td><td>Sun</td><td>Dinner</td><td>3</td><td>0.0</td><td>0.0</td><td>1.0</td><td>0.0</td><td>(1,[0],[1.0])</td><td>(1,[0],[1.0])</td><td>(3,[1],[1.0])</td><td>(1,[0],[1.0])</td><td>[21.01,3.0,1.0,1....</td></tr>\n",
              "<tr><td>23.68</td><td>3.31</td><td>Male</td><td>No</td><td>Sun</td><td>Dinner</td><td>2</td><td>0.0</td><td>0.0</td><td>1.0</td><td>0.0</td><td>(1,[0],[1.0])</td><td>(1,[0],[1.0])</td><td>(3,[1],[1.0])</td><td>(1,[0],[1.0])</td><td>[23.68,2.0,1.0,1....</td></tr>\n",
              "<tr><td>24.59</td><td>3.61</td><td>Female</td><td>No</td><td>Sun</td><td>Dinner</td><td>4</td><td>1.0</td><td>0.0</td><td>1.0</td><td>0.0</td><td>(1,[],[])</td><td>(1,[0],[1.0])</td><td>(3,[1],[1.0])</td><td>(1,[0],[1.0])</td><td>[24.59,4.0,0.0,1....</td></tr>\n",
              "</table>\n"
            ]
          },
          "metadata": {},
          "execution_count": 24
        }
      ],
      "source": [
        "# 여러 개의 입력 컬럼을 하나의 벡터로 결합하여 머신러닝 모델에 사용할 수 있도록 변환하는 코드입니다.\n",
        "# VectorAssembler는 여러 개의 숫자형 컬럼을 단일 feature 벡터로 병합합니다.\n",
        "# inputCols: 벡터로 결합할 입력 컬럼들의 리스트.\n",
        "# outputCol: 결합된 벡터를 저장할 출력 컬럼의 이름.\n",
        "feature_Assembler = VectorAssembler(\n",
        "    inputCols=['total_bill', 'size', 'sex_ohe', 'smoker_ohe', 'day_ohe', 'time_ohe'],\n",
        "    outputCol='features'\n",
        ")\n",
        "\n",
        "# 학습된 VectorAssembler를 사용하여 데이터프레임(df_ohe)에 변환을 적용\n",
        "# 입력 컬럼의 데이터를 결합한 결과는 새로운 컬럼 'features'에 저장됩니다.\n",
        "transformed_ohe = feature_Assembler.transform(df_ohe)\n",
        "\n",
        "# 변환된 데이터프레임(output)의 상위 행을 출력하여 결과를 확인\n",
        "transformed_ohe.limit(5)"
      ]
    },
    {
      "cell_type": "code",
      "execution_count": 25,
      "id": "2b368898",
      "metadata": {
        "colab": {
          "base_uri": "https://localhost:8080/",
          "height": 156
        },
        "id": "2b368898",
        "outputId": "64b265fa-d659-4f2a-ddb8-ec1f57f933e3"
      },
      "outputs": [
        {
          "output_type": "execute_result",
          "data": {
            "text/plain": [
              "+----------+----+------+------+---+------+----+----+-------+----+-----+-------------+-------------+-------------+-------------+--------------------+--------------------+\n",
              "|total_bill| tip|   sex|smoker|day|  time|size|sex_|smoker_|day_|time_|      sex_ohe|   smoker_ohe|      day_ohe|     time_ohe|            features|        standardized|\n",
              "+----------+----+------+------+---+------+----+----+-------+----+-----+-------------+-------------+-------------+-------------+--------------------+--------------------+\n",
              "|     16.99|1.01|Female|    No|Sun|Dinner|   2| 1.0|    0.0| 1.0|  0.0|    (1,[],[])|(1,[0],[1.0])|(3,[1],[1.0])|(1,[0],[1.0])|[16.99,2.0,0.0,1....|[1.90847155648990...|\n",
              "|     10.34|1.66|  Male|    No|Sun|Dinner|   3| 0.0|    0.0| 1.0|  0.0|(1,[0],[1.0])|(1,[0],[1.0])|(3,[1],[1.0])|(1,[0],[1.0])|[10.34,3.0,1.0,1....|[1.16148298376136...|\n",
              "|     21.01| 3.5|  Male|    No|Sun|Dinner|   3| 0.0|    0.0| 1.0|  0.0|(1,[0],[1.0])|(1,[0],[1.0])|(3,[1],[1.0])|(1,[0],[1.0])|[21.01,3.0,1.0,1....|[2.36003457338745...|\n",
              "|     23.68|3.31|  Male|    No|Sun|Dinner|   2| 0.0|    0.0| 1.0|  0.0|(1,[0],[1.0])|(1,[0],[1.0])|(3,[1],[1.0])|(1,[0],[1.0])|[23.68,2.0,1.0,1....|[2.65995329356568...|\n",
              "|     24.59|3.61|Female|    No|Sun|Dinner|   4| 1.0|    0.0| 1.0|  0.0|    (1,[],[])|(1,[0],[1.0])|(3,[1],[1.0])|(1,[0],[1.0])|[24.59,4.0,0.0,1....|[2.76217278246537...|\n",
              "+----------+----+------+------+---+------+----+----+-------+----+-----+-------------+-------------+-------------+-------------+--------------------+--------------------+"
            ],
            "text/html": [
              "<table border='1'>\n",
              "<tr><th>total_bill</th><th>tip</th><th>sex</th><th>smoker</th><th>day</th><th>time</th><th>size</th><th>sex_</th><th>smoker_</th><th>day_</th><th>time_</th><th>sex_ohe</th><th>smoker_ohe</th><th>day_ohe</th><th>time_ohe</th><th>features</th><th>standardized</th></tr>\n",
              "<tr><td>16.99</td><td>1.01</td><td>Female</td><td>No</td><td>Sun</td><td>Dinner</td><td>2</td><td>1.0</td><td>0.0</td><td>1.0</td><td>0.0</td><td>(1,[],[])</td><td>(1,[0],[1.0])</td><td>(3,[1],[1.0])</td><td>(1,[0],[1.0])</td><td>[16.99,2.0,0.0,1....</td><td>[1.90847155648990...</td></tr>\n",
              "<tr><td>10.34</td><td>1.66</td><td>Male</td><td>No</td><td>Sun</td><td>Dinner</td><td>3</td><td>0.0</td><td>0.0</td><td>1.0</td><td>0.0</td><td>(1,[0],[1.0])</td><td>(1,[0],[1.0])</td><td>(3,[1],[1.0])</td><td>(1,[0],[1.0])</td><td>[10.34,3.0,1.0,1....</td><td>[1.16148298376136...</td></tr>\n",
              "<tr><td>21.01</td><td>3.5</td><td>Male</td><td>No</td><td>Sun</td><td>Dinner</td><td>3</td><td>0.0</td><td>0.0</td><td>1.0</td><td>0.0</td><td>(1,[0],[1.0])</td><td>(1,[0],[1.0])</td><td>(3,[1],[1.0])</td><td>(1,[0],[1.0])</td><td>[21.01,3.0,1.0,1....</td><td>[2.36003457338745...</td></tr>\n",
              "<tr><td>23.68</td><td>3.31</td><td>Male</td><td>No</td><td>Sun</td><td>Dinner</td><td>2</td><td>0.0</td><td>0.0</td><td>1.0</td><td>0.0</td><td>(1,[0],[1.0])</td><td>(1,[0],[1.0])</td><td>(3,[1],[1.0])</td><td>(1,[0],[1.0])</td><td>[23.68,2.0,1.0,1....</td><td>[2.65995329356568...</td></tr>\n",
              "<tr><td>24.59</td><td>3.61</td><td>Female</td><td>No</td><td>Sun</td><td>Dinner</td><td>4</td><td>1.0</td><td>0.0</td><td>1.0</td><td>0.0</td><td>(1,[],[])</td><td>(1,[0],[1.0])</td><td>(3,[1],[1.0])</td><td>(1,[0],[1.0])</td><td>[24.59,4.0,0.0,1....</td><td>[2.76217278246537...</td></tr>\n",
              "</table>\n"
            ]
          },
          "metadata": {},
          "execution_count": 25
        }
      ],
      "source": [
        "# 피처 스케일링(feature scaling)을 수행하여 데이터를 표준화(Standardization)\n",
        "scaler = StandardScaler(inputCol=\"features\", outputCol=\"standardized\")\n",
        "\n",
        "# 학습 데이터(output)를 기반으로 스케일링 모델을 학습(fit)합니다.\n",
        "data_scaled = scaler.fit(transformed_ohe).transform(transformed_ohe)\n",
        "\n",
        "data_scaled.limit(5)"
      ]
    },
    {
      "cell_type": "code",
      "source": [
        "print(data_scaled.select('features').first())\n",
        "print(data_scaled.select('standardized').first())"
      ],
      "metadata": {
        "colab": {
          "base_uri": "https://localhost:8080/"
        },
        "id": "gr3uxzXhp-tj",
        "outputId": "6faa9913-4064-4197-923c-3b60565a8969"
      },
      "id": "gr3uxzXhp-tj",
      "execution_count": 26,
      "outputs": [
        {
          "output_type": "stream",
          "name": "stdout",
          "text": [
            "Row(features=DenseVector([16.99, 2.0, 0.0, 1.0, 0.0, 1.0, 0.0, 1.0]))\n",
            "Row(standardized=DenseVector([1.9085, 2.1028, 0.0, 2.0548, 0.0, 2.1549, 0.0, 2.2258]))\n"
          ]
        }
      ]
    },
    {
      "cell_type": "code",
      "execution_count": 27,
      "id": "2326c425",
      "metadata": {
        "colab": {
          "base_uri": "https://localhost:8080/"
        },
        "id": "2326c425",
        "outputId": "0edb017d-09bf-4cf0-c96d-7219f7fb8f65"
      },
      "outputs": [
        {
          "output_type": "stream",
          "name": "stdout",
          "text": [
            "+-------------------------------------------------------------------------------------------------------------------------+----+\n",
            "|standardized                                                                                                             |tip |\n",
            "+-------------------------------------------------------------------------------------------------------------------------+----+\n",
            "|[1.9084715564899044,2.1028287357950464,0.0,2.0547931158599058,0.0,2.1549470973741336,0.0,2.225805748475487]              |1.01|\n",
            "|[1.1614829837613663,3.1542431036925693,2.083476457489454,2.0547931158599058,0.0,2.1549470973741336,0.0,2.225805748475487]|1.66|\n",
            "|[2.3600345733874573,3.1542431036925693,2.083476457489454,2.0547931158599058,0.0,2.1549470973741336,0.0,2.225805748475487]|3.5 |\n",
            "|[2.659953293565682,2.1028287357950464,2.083476457489454,2.0547931158599058,0.0,2.1549470973741336,0.0,2.225805748475487] |3.31|\n",
            "|[2.762172782465377,4.205657471590093,0.0,2.0547931158599058,0.0,2.1549470973741336,0.0,2.225805748475487]                |3.61|\n",
            "+-------------------------------------------------------------------------------------------------------------------------+----+\n",
            "only showing top 5 rows\n",
            "\n"
          ]
        }
      ],
      "source": [
        "# \"standardized\" 컬럼(표준화된 특징 벡터)과 \"tip\" 컬럼(타겟 변수)을 선택\n",
        "data = data_scaled.select(\"standardized\", \"tip\")\n",
        "\n",
        "data.show(5, truncate=False)"
      ]
    },
    {
      "cell_type": "code",
      "execution_count": 28,
      "id": "96ab96bc",
      "metadata": {
        "colab": {
          "base_uri": "https://localhost:8080/"
        },
        "id": "96ab96bc",
        "outputId": "897bed58-c016-45d7-b5c5-32ddcdff24bc"
      },
      "outputs": [
        {
          "output_type": "execute_result",
          "data": {
            "text/plain": [
              "(188, 56)"
            ]
          },
          "metadata": {},
          "execution_count": 28
        }
      ],
      "source": [
        "# 전체 데이터의 75%는 학습 데이터로, 25%는 테스트 데이터로 사용\n",
        "train_data, test_data = data.randomSplit([0.75, 0.25])\n",
        "\n",
        "# 분할된 학습 데이터와 테스트 데이터의 개수를 출력\n",
        "train_data.count(), test_data.count()"
      ]
    },
    {
      "cell_type": "code",
      "execution_count": 29,
      "id": "e591d184",
      "metadata": {
        "id": "e591d184"
      },
      "outputs": [],
      "source": [
        "# 선형 회귀(Linear Regression) 모델을 생성하고 학습\n",
        "# featuresCol: 독립 변수(특징 벡터)가 저장된 컬럼\n",
        "# labelCol: 종속 변수(타겟 값)가 저장된 컬럼\n",
        "regressor = LinearRegression(featuresCol=\"standardized\", labelCol='tip')\n",
        "\n",
        "# 선형 회귀 모델을 학습(fit). 학습 결과는 model 변수에 저장\n",
        "model = regressor.fit(train_data)"
      ]
    },
    {
      "cell_type": "code",
      "execution_count": 30,
      "id": "57241de0",
      "metadata": {
        "colab": {
          "base_uri": "https://localhost:8080/"
        },
        "id": "57241de0",
        "outputId": "b06a315b-72e2-4a92-815f-e6519077171c"
      },
      "outputs": [
        {
          "output_type": "stream",
          "name": "stdout",
          "text": [
            "Coefficients: [0.8687387826918134,0.17781445137889068,-0.016987525524174988,0.01854760111561413,-0.01973038500753532,-0.07006087827670157,-0.026598149365583162,-0.041285448282551034]\n",
            "Intercept: 0.7033006655721113\n",
            "R-squared: 0.5137228806966799\n",
            "Mean Squared Error: 0.9349797263968816\n",
            "Root Mean Squared Error: 0.9669434970032539\n"
          ]
        }
      ],
      "source": [
        "# 모델의 계수와 절편 출력\n",
        "print(f\"Coefficients: {model.coefficients}\")\n",
        "print(f\"Intercept: {model.intercept}\")\n",
        "\n",
        "# 모델 요약 정보 확인\n",
        "summary = model.summary\n",
        "print(f\"R-squared: {summary.r2}\")\n",
        "print(f\"Mean Squared Error: {summary.meanSquaredError}\")\n",
        "print(f\"Root Mean Squared Error: {summary.rootMeanSquaredError}\")"
      ]
    },
    {
      "cell_type": "code",
      "execution_count": 31,
      "id": "b1c39582",
      "metadata": {
        "colab": {
          "base_uri": "https://localhost:8080/",
          "height": 156
        },
        "id": "b1c39582",
        "outputId": "0318948e-36ad-422a-e995-6d13f714ccd8"
      },
      "outputs": [
        {
          "output_type": "execute_result",
          "data": {
            "text/plain": [
              "+--------------------+----+------------------+\n",
              "|        standardized| tip|        prediction|\n",
              "+--------------------+----+------------------+\n",
              "|(8,[0,1,2,7],[3.0...| 4.0|3.6120368435152406|\n",
              "|(8,[0,1,3,6],[1.1...| 1.5|2.0936317987433664|\n",
              "|(8,[0,1,3,7],[2.5...|3.25|3.2434829573961665|\n",
              "|(8,[0,1,4,7],[1.6...| 4.0|  2.34064920917669|\n",
              "|(8,[0,1,4,7],[2.5...|3.48| 3.132060746112681|\n",
              "+--------------------+----+------------------+"
            ],
            "text/html": [
              "<table border='1'>\n",
              "<tr><th>standardized</th><th>tip</th><th>prediction</th></tr>\n",
              "<tr><td>(8,[0,1,2,7],[3.0...</td><td>4.0</td><td>3.6120368435152406</td></tr>\n",
              "<tr><td>(8,[0,1,3,6],[1.1...</td><td>1.5</td><td>2.0936317987433664</td></tr>\n",
              "<tr><td>(8,[0,1,3,7],[2.5...</td><td>3.25</td><td>3.2434829573961665</td></tr>\n",
              "<tr><td>(8,[0,1,4,7],[1.6...</td><td>4.0</td><td>2.34064920917669</td></tr>\n",
              "<tr><td>(8,[0,1,4,7],[2.5...</td><td>3.48</td><td>3.132060746112681</td></tr>\n",
              "</table>\n"
            ]
          },
          "metadata": {},
          "execution_count": 31
        }
      ],
      "source": [
        "# 학습된 선형 회귀 모델을 사용하여 테스트 데이터에 대한 예측을 수행\n",
        "# transform 메서드는 테스트 데이터셋(test_data)을 입력으로 받아 각 샘플의 예측값을 계산\n",
        "# 결과는 pred 변수에 저장되며, 원본 데이터와 예측값이 포함된 새로운 데이터프레임 생성\n",
        "pred = model.transform(test_data)\n",
        "pred.limit(5)"
      ]
    },
    {
      "cell_type": "code",
      "source": [],
      "metadata": {
        "id": "i-HkY2YcZ7mJ"
      },
      "id": "i-HkY2YcZ7mJ",
      "execution_count": null,
      "outputs": []
    }
  ],
  "metadata": {
    "kernelspec": {
      "display_name": "Python 3 (ipykernel)",
      "language": "python",
      "name": "python3"
    },
    "language_info": {
      "codemirror_mode": {
        "name": "ipython",
        "version": 3
      },
      "file_extension": ".py",
      "mimetype": "text/x-python",
      "name": "python",
      "nbconvert_exporter": "python",
      "pygments_lexer": "ipython3",
      "version": "3.9.16"
    },
    "colab": {
      "provenance": []
    }
  },
  "nbformat": 4,
  "nbformat_minor": 5
}