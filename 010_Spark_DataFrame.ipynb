{
  "cells": [
    {
      "cell_type": "markdown",
      "id": "54abee10",
      "metadata": {
        "id": "54abee10"
      },
      "source": [
        "# PySpark DataFrame 소개\n",
        "\n",
        "`config(\"spark.sql.repl.eagerEval.enabled\", True)`  :   \n",
        "\n",
        "DataFrame을 바로 출력하도록 설정하는 옵션. 기본적으로 PySpark에서는 df.show()를 호출해야 출력되지만, 이 옵션을 True로 설정하면, Jupyter/Colab 등 REPL 환경에서 변수를 실행하면 자동으로 DataFrame 내용이 보여집니다."
      ]
    },
    {
      "cell_type": "code",
      "execution_count": 1,
      "id": "-nSLjvb_r1HD",
      "metadata": {
        "colab": {
          "base_uri": "https://localhost:8080/",
          "height": 224
        },
        "id": "-nSLjvb_r1HD",
        "outputId": "1fdd29e4-f8e5-47f5-9f1c-175f575c5e47"
      },
      "outputs": [
        {
          "output_type": "execute_result",
          "data": {
            "text/plain": [
              "<pyspark.sql.session.SparkSession at 0x7cacca394c50>"
            ],
            "text/html": [
              "\n",
              "            <div>\n",
              "                <p><b>SparkSession - in-memory</b></p>\n",
              "                \n",
              "        <div>\n",
              "            <p><b>SparkContext</b></p>\n",
              "\n",
              "            <p><a href=\"http://c38d696af4d5:4040\">Spark UI</a></p>\n",
              "\n",
              "            <dl>\n",
              "              <dt>Version</dt>\n",
              "                <dd><code>v3.5.5</code></dd>\n",
              "              <dt>Master</dt>\n",
              "                <dd><code>local[*]</code></dd>\n",
              "              <dt>AppName</dt>\n",
              "                <dd><code>DataFrame_Practice</code></dd>\n",
              "            </dl>\n",
              "        </div>\n",
              "        \n",
              "            </div>\n",
              "        "
            ]
          },
          "metadata": {},
          "execution_count": 1
        }
      ],
      "source": [
        "from pyspark.sql import SparkSession\n",
        "\n",
        "# SparkSession은 PySpark 애플리케이션의 진입점으로,\n",
        "# 데이터프레임 생성, 데이터 읽기/쓰기, SQL 작업 등을 수행할 수 있게 해줍니다.\n",
        "spark = SparkSession.builder \\\n",
        "    .appName(\"DataFrame_Practice\") \\\n",
        "    .config(\"spark.sql.repl.eagerEval.enabled\", True) \\\n",
        "    .getOrCreate()\n",
        "\n",
        "spark"
      ]
    },
    {
      "cell_type": "markdown",
      "id": "4841a395",
      "metadata": {
        "id": "4841a395"
      },
      "source": [
        "### 데이터셋 읽기"
      ]
    },
    {
      "cell_type": "code",
      "execution_count": 2,
      "id": "0b56980f",
      "metadata": {
        "colab": {
          "base_uri": "https://localhost:8080/",
          "height": 156
        },
        "id": "0b56980f",
        "outputId": "47fcd518-3c12-4d59-b813-54dab87bb642"
      },
      "outputs": [
        {
          "output_type": "execute_result",
          "data": {
            "text/plain": [
              "+-----------+--------+------+--------------------+------+----+-----+-----+----------------+-------+-----+--------+\n",
              "|PassengerId|Survived|Pclass|                Name|   Sex| Age|SibSp|Parch|          Ticket|   Fare|Cabin|Embarked|\n",
              "+-----------+--------+------+--------------------+------+----+-----+-----+----------------+-------+-----+--------+\n",
              "|          1|       0|     3|Braund, Mr. Owen ...|  male|22.0|    1|    0|       A/5 21171|   7.25| NULL|       S|\n",
              "|          2|       1|     1|Cumings, Mrs. Joh...|female|38.0|    1|    0|        PC 17599|71.2833|  C85|       C|\n",
              "|          3|       1|     3|Heikkinen, Miss. ...|female|26.0|    0|    0|STON/O2. 3101282|  7.925| NULL|       S|\n",
              "|          4|       1|     1|Futrelle, Mrs. Ja...|female|35.0|    1|    0|          113803|   53.1| C123|       S|\n",
              "|          5|       0|     3|Allen, Mr. Willia...|  male|35.0|    0|    0|          373450|   8.05| NULL|       S|\n",
              "+-----------+--------+------+--------------------+------+----+-----+-----+----------------+-------+-----+--------+"
            ],
            "text/html": [
              "<table border='1'>\n",
              "<tr><th>PassengerId</th><th>Survived</th><th>Pclass</th><th>Name</th><th>Sex</th><th>Age</th><th>SibSp</th><th>Parch</th><th>Ticket</th><th>Fare</th><th>Cabin</th><th>Embarked</th></tr>\n",
              "<tr><td>1</td><td>0</td><td>3</td><td>Braund, Mr. Owen ...</td><td>male</td><td>22.0</td><td>1</td><td>0</td><td>A/5 21171</td><td>7.25</td><td>NULL</td><td>S</td></tr>\n",
              "<tr><td>2</td><td>1</td><td>1</td><td>Cumings, Mrs. Joh...</td><td>female</td><td>38.0</td><td>1</td><td>0</td><td>PC 17599</td><td>71.2833</td><td>C85</td><td>C</td></tr>\n",
              "<tr><td>3</td><td>1</td><td>3</td><td>Heikkinen, Miss. ...</td><td>female</td><td>26.0</td><td>0</td><td>0</td><td>STON/O2. 3101282</td><td>7.925</td><td>NULL</td><td>S</td></tr>\n",
              "<tr><td>4</td><td>1</td><td>1</td><td>Futrelle, Mrs. Ja...</td><td>female</td><td>35.0</td><td>1</td><td>0</td><td>113803</td><td>53.1</td><td>C123</td><td>S</td></tr>\n",
              "<tr><td>5</td><td>0</td><td>3</td><td>Allen, Mr. Willia...</td><td>male</td><td>35.0</td><td>0</td><td>0</td><td>373450</td><td>8.05</td><td>NULL</td><td>S</td></tr>\n",
              "</table>\n"
            ]
          },
          "metadata": {},
          "execution_count": 2
        }
      ],
      "source": [
        " # Titanic 데이터셋 CSV 파일 경로\n",
        "file_location = \"/content/titanic.csv\"\n",
        "file_type = \"csv\"  # 파일 형식을 CSV로 지정\n",
        "\n",
        "# 지정한 옵션을 사용하여 CSV 파일을 읽어 DataFrame 생성\n",
        "# schema 자동 추론, 첫 번째 행을 헤더로 간주\n",
        "df = spark.read.format(file_type) \\\n",
        "  .option(\"inferSchema\", \"true\") \\\n",
        "  .option(\"header\", \"true\") \\\n",
        "  .option(\"sep\", \",\") \\\n",
        "  .load(file_location)\n",
        "\n",
        "df.limit(5)"
      ]
    },
    {
      "cell_type": "code",
      "execution_count": 3,
      "id": "a3545748",
      "metadata": {
        "colab": {
          "base_uri": "https://localhost:8080/"
        },
        "id": "a3545748",
        "outputId": "ec744422-22b4-464f-9233-a82c3fe6398b"
      },
      "outputs": [
        {
          "output_type": "stream",
          "name": "stdout",
          "text": [
            "root\n",
            " |-- PassengerId: integer (nullable = true)\n",
            " |-- Survived: integer (nullable = true)\n",
            " |-- Pclass: integer (nullable = true)\n",
            " |-- Name: string (nullable = true)\n",
            " |-- Sex: string (nullable = true)\n",
            " |-- Age: double (nullable = true)\n",
            " |-- SibSp: integer (nullable = true)\n",
            " |-- Parch: integer (nullable = true)\n",
            " |-- Ticket: string (nullable = true)\n",
            " |-- Fare: double (nullable = true)\n",
            " |-- Cabin: string (nullable = true)\n",
            " |-- Embarked: string (nullable = true)\n",
            "\n"
          ]
        }
      ],
      "source": [
        "# 스키마 확인\n",
        "df.printSchema()"
      ]
    },
    {
      "cell_type": "code",
      "execution_count": 4,
      "id": "7be4a992",
      "metadata": {
        "colab": {
          "base_uri": "https://localhost:8080/",
          "height": 186
        },
        "id": "7be4a992",
        "outputId": "c24f4bfe-4f13-4bef-c803-9eaa8dd8fbe0"
      },
      "outputs": [
        {
          "output_type": "execute_result",
          "data": {
            "text/plain": [
              "pyspark.sql.dataframe.DataFrame"
            ],
            "text/html": [
              "<div style=\"max-width:800px; border: 1px solid var(--colab-border-color);\"><style>\n",
              "      pre.function-repr-contents {\n",
              "        overflow-x: auto;\n",
              "        padding: 8px 12px;\n",
              "        max-height: 500px;\n",
              "      }\n",
              "\n",
              "      pre.function-repr-contents.function-repr-contents-collapsed {\n",
              "        cursor: pointer;\n",
              "        max-height: 100px;\n",
              "      }\n",
              "    </style>\n",
              "    <pre style=\"white-space: initial; background:\n",
              "         var(--colab-secondary-surface-color); padding: 8px 12px;\n",
              "         border-bottom: 1px solid var(--colab-border-color);\"><b>pyspark.sql.dataframe.DataFrame</b><br/>def __init__(jdf: JavaObject, sql_ctx: Union[&#x27;SQLContext&#x27;, &#x27;SparkSession&#x27;])</pre><pre class=\"function-repr-contents function-repr-contents-collapsed\" style=\"\"><a class=\"filepath\" style=\"display:none\" href=\"#\">/usr/local/lib/python3.11/dist-packages/pyspark/sql/dataframe.py</a>A distributed collection of data grouped into named columns.\n",
              "\n",
              ".. versionadded:: 1.3.0\n",
              "\n",
              ".. versionchanged:: 3.4.0\n",
              "    Supports Spark Connect.\n",
              "\n",
              "Examples\n",
              "--------\n",
              "A :class:`DataFrame` is equivalent to a relational table in Spark SQL,\n",
              "and can be created using various functions in :class:`SparkSession`:\n",
              "\n",
              "&gt;&gt;&gt; people = spark.createDataFrame([\n",
              "...     {&quot;deptId&quot;: 1, &quot;age&quot;: 40, &quot;name&quot;: &quot;Hyukjin Kwon&quot;, &quot;gender&quot;: &quot;M&quot;, &quot;salary&quot;: 50},\n",
              "...     {&quot;deptId&quot;: 1, &quot;age&quot;: 50, &quot;name&quot;: &quot;Takuya Ueshin&quot;, &quot;gender&quot;: &quot;M&quot;, &quot;salary&quot;: 100},\n",
              "...     {&quot;deptId&quot;: 2, &quot;age&quot;: 60, &quot;name&quot;: &quot;Xinrong Meng&quot;, &quot;gender&quot;: &quot;F&quot;, &quot;salary&quot;: 150},\n",
              "...     {&quot;deptId&quot;: 3, &quot;age&quot;: 20, &quot;name&quot;: &quot;Haejoon Lee&quot;, &quot;gender&quot;: &quot;M&quot;, &quot;salary&quot;: 200}\n",
              "... ])\n",
              "\n",
              "Once created, it can be manipulated using the various domain-specific-language\n",
              "(DSL) functions defined in: :class:`DataFrame`, :class:`Column`.\n",
              "\n",
              "To select a column from the :class:`DataFrame`, use the apply method:\n",
              "\n",
              "&gt;&gt;&gt; age_col = people.age\n",
              "\n",
              "A more concrete example:\n",
              "\n",
              "&gt;&gt;&gt; # To create DataFrame using SparkSession\n",
              "... department = spark.createDataFrame([\n",
              "...     {&quot;id&quot;: 1, &quot;name&quot;: &quot;PySpark&quot;},\n",
              "...     {&quot;id&quot;: 2, &quot;name&quot;: &quot;ML&quot;},\n",
              "...     {&quot;id&quot;: 3, &quot;name&quot;: &quot;Spark SQL&quot;}\n",
              "... ])\n",
              "\n",
              "&gt;&gt;&gt; people.filter(people.age &gt; 30).join(\n",
              "...     department, people.deptId == department.id).groupBy(\n",
              "...     department.name, &quot;gender&quot;).agg({&quot;salary&quot;: &quot;avg&quot;, &quot;age&quot;: &quot;max&quot;}).show()\n",
              "+-------+------+-----------+--------+\n",
              "|   name|gender|avg(salary)|max(age)|\n",
              "+-------+------+-----------+--------+\n",
              "|     ML|     F|      150.0|      60|\n",
              "|PySpark|     M|       75.0|      50|\n",
              "+-------+------+-----------+--------+\n",
              "\n",
              "Notes\n",
              "-----\n",
              "A DataFrame should only be created as described above. It should not be directly\n",
              "created via using the constructor.</pre>\n",
              "      <script>\n",
              "      if (google.colab.kernel.accessAllowed && google.colab.files && google.colab.files.view) {\n",
              "        for (const element of document.querySelectorAll('.filepath')) {\n",
              "          element.style.display = 'block'\n",
              "          element.onclick = (event) => {\n",
              "            event.preventDefault();\n",
              "            event.stopPropagation();\n",
              "            google.colab.files.view(element.textContent, 80);\n",
              "          };\n",
              "        }\n",
              "      }\n",
              "      for (const element of document.querySelectorAll('.function-repr-contents')) {\n",
              "        element.onclick = (event) => {\n",
              "          event.preventDefault();\n",
              "          event.stopPropagation();\n",
              "          element.classList.toggle('function-repr-contents-collapsed');\n",
              "        };\n",
              "      }\n",
              "      </script>\n",
              "      </div>"
            ]
          },
          "metadata": {},
          "execution_count": 4
        }
      ],
      "source": [
        "type(df)"
      ]
    },
    {
      "cell_type": "code",
      "source": [
        "# 데이터프레임(df)이 비어 있는지 여부를 확인\n",
        "df.isEmpty()"
      ],
      "metadata": {
        "colab": {
          "base_uri": "https://localhost:8080/"
        },
        "id": "92LVZ7VhoBa8",
        "outputId": "6843e37e-a713-418a-95cf-e0691279114d"
      },
      "id": "92LVZ7VhoBa8",
      "execution_count": 5,
      "outputs": [
        {
          "output_type": "execute_result",
          "data": {
            "text/plain": [
              "False"
            ]
          },
          "metadata": {},
          "execution_count": 5
        }
      ]
    },
    {
      "cell_type": "code",
      "execution_count": 6,
      "id": "db0e3e93",
      "metadata": {
        "colab": {
          "base_uri": "https://localhost:8080/"
        },
        "id": "db0e3e93",
        "outputId": "49504bb6-097f-45d3-f155-812c79d8b4bc"
      },
      "outputs": [
        {
          "output_type": "stream",
          "name": "stdout",
          "text": [
            "['PassengerId', 'Survived', 'Pclass', 'Name', 'Sex', 'Age', 'SibSp', 'Parch', 'Ticket', 'Fare', 'Cabin', 'Embarked']\n"
          ]
        }
      ],
      "source": [
        "# DataFrame의 컬럼 이름 출력\n",
        "print(df.columns)"
      ]
    },
    {
      "cell_type": "code",
      "source": [
        "df.count()"
      ],
      "metadata": {
        "colab": {
          "base_uri": "https://localhost:8080/"
        },
        "id": "lB03XgKJoRLY",
        "outputId": "083e312f-44bc-4be8-d8e9-161ac930885f"
      },
      "id": "lB03XgKJoRLY",
      "execution_count": 7,
      "outputs": [
        {
          "output_type": "execute_result",
          "data": {
            "text/plain": [
              "891"
            ]
          },
          "metadata": {},
          "execution_count": 7
        }
      ]
    },
    {
      "cell_type": "markdown",
      "source": [
        "#### `Row` 객체 리스트 용도  \n",
        "\n",
        "- **데이터 미리보기 및 디버깅:**  \n",
        "  데이터를 처음 불러왔을 때, 상위 몇 개의 행을 확인하여 데이터의 구조나 내용이 예상대로 로드되었는지 검증  \n",
        "\n",
        "- **개별 행의 데이터 추출:**  \n",
        "  반환된 `Row` 객체에서 특정 컬럼의 값을 쉽게 추출. 예를 들어, `rows = df.head(3)` 후 `rows[0]['name']` 또는 `rows[0].name`과 같이 사용.  \n",
        "\n",
        "- **로컬 처리:**  \n",
        "  소량의 데이터를 로컬 메모리에서 빠르게 처리하거나 확인할 때 유용. (분산 처리 없이 빠른 접근이 필요할 때)"
      ],
      "metadata": {
        "id": "WDAVENvT5s-k"
      },
      "id": "WDAVENvT5s-k"
    },
    {
      "cell_type": "code",
      "execution_count": 9,
      "id": "1d2e783d",
      "metadata": {
        "colab": {
          "base_uri": "https://localhost:8080/"
        },
        "id": "1d2e783d",
        "outputId": "f78f64a4-2493-4745-88ea-fdba6bc2e81d"
      },
      "outputs": [
        {
          "output_type": "execute_result",
          "data": {
            "text/plain": [
              "[Row(PassengerId=1, Survived=0, Pclass=3, Name='Braund, Mr. Owen Harris', Sex='male', Age=22.0, SibSp=1, Parch=0, Ticket='A/5 21171', Fare=7.25, Cabin=None, Embarked='S'),\n",
              " Row(PassengerId=2, Survived=1, Pclass=1, Name='Cumings, Mrs. John Bradley (Florence Briggs Thayer)', Sex='female', Age=38.0, SibSp=1, Parch=0, Ticket='PC 17599', Fare=71.2833, Cabin='C85', Embarked='C'),\n",
              " Row(PassengerId=3, Survived=1, Pclass=3, Name='Heikkinen, Miss. Laina', Sex='female', Age=26.0, SibSp=0, Parch=0, Ticket='STON/O2. 3101282', Fare=7.925, Cabin=None, Embarked='S')]"
            ]
          },
          "metadata": {},
          "execution_count": 9
        }
      ],
      "source": [
        "# DataFrame의 상위 3개 행을 Row 객체 리스트로 반환\n",
        "df.head(3)"
      ]
    },
    {
      "cell_type": "code",
      "execution_count": 17,
      "id": "f7800727",
      "metadata": {
        "colab": {
          "base_uri": "https://localhost:8080/"
        },
        "id": "f7800727",
        "outputId": "8b42c121-8eba-4a09-9ec0-c0967ff08394"
      },
      "outputs": [
        {
          "output_type": "stream",
          "name": "stdout",
          "text": [
            "+-----------+--------+------+--------------------+------+----+-----+-----+----------------+-------+-----+--------+\n",
            "|PassengerId|Survived|Pclass|                Name|   Sex| Age|SibSp|Parch|          Ticket|   Fare|Cabin|Embarked|\n",
            "+-----------+--------+------+--------------------+------+----+-----+-----+----------------+-------+-----+--------+\n",
            "|          1|       0|     3|Braund, Mr. Owen ...|  male|22.0|    1|    0|       A/5 21171|   7.25| NULL|       S|\n",
            "|          2|       1|     1|Cumings, Mrs. Joh...|female|38.0|    1|    0|        PC 17599|71.2833|  C85|       C|\n",
            "|          3|       1|     3|Heikkinen, Miss. ...|female|26.0|    0|    0|STON/O2. 3101282|  7.925| NULL|       S|\n",
            "+-----------+--------+------+--------------------+------+----+-----+-----+----------------+-------+-----+--------+\n",
            "only showing top 3 rows\n",
            "\n"
          ]
        }
      ],
      "source": [
        "# DataFrame의 상위 3개 행을 표 형태로 출력\n",
        "df.show(3)"
      ]
    },
    {
      "cell_type": "code",
      "source": [
        "# DataFrame의 상위 3개 행을 Pandas DataFrame 형태로 출력\n",
        "df.toPandas().head(3)"
      ],
      "metadata": {
        "colab": {
          "base_uri": "https://localhost:8080/",
          "height": 178
        },
        "id": "YSvgBoJH6S6W",
        "outputId": "e82c3370-e2cd-4713-e021-6e9d0f863d90"
      },
      "id": "YSvgBoJH6S6W",
      "execution_count": 18,
      "outputs": [
        {
          "output_type": "execute_result",
          "data": {
            "text/plain": [
              "   PassengerId  Survived  Pclass  \\\n",
              "0            1         0       3   \n",
              "1            2         1       1   \n",
              "2            3         1       3   \n",
              "\n",
              "                                                Name     Sex   Age  SibSp  \\\n",
              "0                            Braund, Mr. Owen Harris    male  22.0      1   \n",
              "1  Cumings, Mrs. John Bradley (Florence Briggs Th...  female  38.0      1   \n",
              "2                             Heikkinen, Miss. Laina  female  26.0      0   \n",
              "\n",
              "   Parch            Ticket     Fare Cabin Embarked  \n",
              "0      0         A/5 21171   7.2500  None        S  \n",
              "1      0          PC 17599  71.2833   C85        C  \n",
              "2      0  STON/O2. 3101282   7.9250  None        S  "
            ],
            "text/html": [
              "\n",
              "  <div id=\"df-e339d1e5-2329-4337-9869-d36aef5987b3\" class=\"colab-df-container\">\n",
              "    <div>\n",
              "<style scoped>\n",
              "    .dataframe tbody tr th:only-of-type {\n",
              "        vertical-align: middle;\n",
              "    }\n",
              "\n",
              "    .dataframe tbody tr th {\n",
              "        vertical-align: top;\n",
              "    }\n",
              "\n",
              "    .dataframe thead th {\n",
              "        text-align: right;\n",
              "    }\n",
              "</style>\n",
              "<table border=\"1\" class=\"dataframe\">\n",
              "  <thead>\n",
              "    <tr style=\"text-align: right;\">\n",
              "      <th></th>\n",
              "      <th>PassengerId</th>\n",
              "      <th>Survived</th>\n",
              "      <th>Pclass</th>\n",
              "      <th>Name</th>\n",
              "      <th>Sex</th>\n",
              "      <th>Age</th>\n",
              "      <th>SibSp</th>\n",
              "      <th>Parch</th>\n",
              "      <th>Ticket</th>\n",
              "      <th>Fare</th>\n",
              "      <th>Cabin</th>\n",
              "      <th>Embarked</th>\n",
              "    </tr>\n",
              "  </thead>\n",
              "  <tbody>\n",
              "    <tr>\n",
              "      <th>0</th>\n",
              "      <td>1</td>\n",
              "      <td>0</td>\n",
              "      <td>3</td>\n",
              "      <td>Braund, Mr. Owen Harris</td>\n",
              "      <td>male</td>\n",
              "      <td>22.0</td>\n",
              "      <td>1</td>\n",
              "      <td>0</td>\n",
              "      <td>A/5 21171</td>\n",
              "      <td>7.2500</td>\n",
              "      <td>None</td>\n",
              "      <td>S</td>\n",
              "    </tr>\n",
              "    <tr>\n",
              "      <th>1</th>\n",
              "      <td>2</td>\n",
              "      <td>1</td>\n",
              "      <td>1</td>\n",
              "      <td>Cumings, Mrs. John Bradley (Florence Briggs Th...</td>\n",
              "      <td>female</td>\n",
              "      <td>38.0</td>\n",
              "      <td>1</td>\n",
              "      <td>0</td>\n",
              "      <td>PC 17599</td>\n",
              "      <td>71.2833</td>\n",
              "      <td>C85</td>\n",
              "      <td>C</td>\n",
              "    </tr>\n",
              "    <tr>\n",
              "      <th>2</th>\n",
              "      <td>3</td>\n",
              "      <td>1</td>\n",
              "      <td>3</td>\n",
              "      <td>Heikkinen, Miss. Laina</td>\n",
              "      <td>female</td>\n",
              "      <td>26.0</td>\n",
              "      <td>0</td>\n",
              "      <td>0</td>\n",
              "      <td>STON/O2. 3101282</td>\n",
              "      <td>7.9250</td>\n",
              "      <td>None</td>\n",
              "      <td>S</td>\n",
              "    </tr>\n",
              "  </tbody>\n",
              "</table>\n",
              "</div>\n",
              "    <div class=\"colab-df-buttons\">\n",
              "\n",
              "  <div class=\"colab-df-container\">\n",
              "    <button class=\"colab-df-convert\" onclick=\"convertToInteractive('df-e339d1e5-2329-4337-9869-d36aef5987b3')\"\n",
              "            title=\"Convert this dataframe to an interactive table.\"\n",
              "            style=\"display:none;\">\n",
              "\n",
              "  <svg xmlns=\"http://www.w3.org/2000/svg\" height=\"24px\" viewBox=\"0 -960 960 960\">\n",
              "    <path d=\"M120-120v-720h720v720H120Zm60-500h600v-160H180v160Zm220 220h160v-160H400v160Zm0 220h160v-160H400v160ZM180-400h160v-160H180v160Zm440 0h160v-160H620v160ZM180-180h160v-160H180v160Zm440 0h160v-160H620v160Z\"/>\n",
              "  </svg>\n",
              "    </button>\n",
              "\n",
              "  <style>\n",
              "    .colab-df-container {\n",
              "      display:flex;\n",
              "      gap: 12px;\n",
              "    }\n",
              "\n",
              "    .colab-df-convert {\n",
              "      background-color: #E8F0FE;\n",
              "      border: none;\n",
              "      border-radius: 50%;\n",
              "      cursor: pointer;\n",
              "      display: none;\n",
              "      fill: #1967D2;\n",
              "      height: 32px;\n",
              "      padding: 0 0 0 0;\n",
              "      width: 32px;\n",
              "    }\n",
              "\n",
              "    .colab-df-convert:hover {\n",
              "      background-color: #E2EBFA;\n",
              "      box-shadow: 0px 1px 2px rgba(60, 64, 67, 0.3), 0px 1px 3px 1px rgba(60, 64, 67, 0.15);\n",
              "      fill: #174EA6;\n",
              "    }\n",
              "\n",
              "    .colab-df-buttons div {\n",
              "      margin-bottom: 4px;\n",
              "    }\n",
              "\n",
              "    [theme=dark] .colab-df-convert {\n",
              "      background-color: #3B4455;\n",
              "      fill: #D2E3FC;\n",
              "    }\n",
              "\n",
              "    [theme=dark] .colab-df-convert:hover {\n",
              "      background-color: #434B5C;\n",
              "      box-shadow: 0px 1px 3px 1px rgba(0, 0, 0, 0.15);\n",
              "      filter: drop-shadow(0px 1px 2px rgba(0, 0, 0, 0.3));\n",
              "      fill: #FFFFFF;\n",
              "    }\n",
              "  </style>\n",
              "\n",
              "    <script>\n",
              "      const buttonEl =\n",
              "        document.querySelector('#df-e339d1e5-2329-4337-9869-d36aef5987b3 button.colab-df-convert');\n",
              "      buttonEl.style.display =\n",
              "        google.colab.kernel.accessAllowed ? 'block' : 'none';\n",
              "\n",
              "      async function convertToInteractive(key) {\n",
              "        const element = document.querySelector('#df-e339d1e5-2329-4337-9869-d36aef5987b3');\n",
              "        const dataTable =\n",
              "          await google.colab.kernel.invokeFunction('convertToInteractive',\n",
              "                                                    [key], {});\n",
              "        if (!dataTable) return;\n",
              "\n",
              "        const docLinkHtml = 'Like what you see? Visit the ' +\n",
              "          '<a target=\"_blank\" href=https://colab.research.google.com/notebooks/data_table.ipynb>data table notebook</a>'\n",
              "          + ' to learn more about interactive tables.';\n",
              "        element.innerHTML = '';\n",
              "        dataTable['output_type'] = 'display_data';\n",
              "        await google.colab.output.renderOutput(dataTable, element);\n",
              "        const docLink = document.createElement('div');\n",
              "        docLink.innerHTML = docLinkHtml;\n",
              "        element.appendChild(docLink);\n",
              "      }\n",
              "    </script>\n",
              "  </div>\n",
              "\n",
              "\n",
              "<div id=\"df-0e679d59-71a4-4365-99b8-e9679d1ceec2\">\n",
              "  <button class=\"colab-df-quickchart\" onclick=\"quickchart('df-0e679d59-71a4-4365-99b8-e9679d1ceec2')\"\n",
              "            title=\"Suggest charts\"\n",
              "            style=\"display:none;\">\n",
              "\n",
              "<svg xmlns=\"http://www.w3.org/2000/svg\" height=\"24px\"viewBox=\"0 0 24 24\"\n",
              "     width=\"24px\">\n",
              "    <g>\n",
              "        <path d=\"M19 3H5c-1.1 0-2 .9-2 2v14c0 1.1.9 2 2 2h14c1.1 0 2-.9 2-2V5c0-1.1-.9-2-2-2zM9 17H7v-7h2v7zm4 0h-2V7h2v10zm4 0h-2v-4h2v4z\"/>\n",
              "    </g>\n",
              "</svg>\n",
              "  </button>\n",
              "\n",
              "<style>\n",
              "  .colab-df-quickchart {\n",
              "      --bg-color: #E8F0FE;\n",
              "      --fill-color: #1967D2;\n",
              "      --hover-bg-color: #E2EBFA;\n",
              "      --hover-fill-color: #174EA6;\n",
              "      --disabled-fill-color: #AAA;\n",
              "      --disabled-bg-color: #DDD;\n",
              "  }\n",
              "\n",
              "  [theme=dark] .colab-df-quickchart {\n",
              "      --bg-color: #3B4455;\n",
              "      --fill-color: #D2E3FC;\n",
              "      --hover-bg-color: #434B5C;\n",
              "      --hover-fill-color: #FFFFFF;\n",
              "      --disabled-bg-color: #3B4455;\n",
              "      --disabled-fill-color: #666;\n",
              "  }\n",
              "\n",
              "  .colab-df-quickchart {\n",
              "    background-color: var(--bg-color);\n",
              "    border: none;\n",
              "    border-radius: 50%;\n",
              "    cursor: pointer;\n",
              "    display: none;\n",
              "    fill: var(--fill-color);\n",
              "    height: 32px;\n",
              "    padding: 0;\n",
              "    width: 32px;\n",
              "  }\n",
              "\n",
              "  .colab-df-quickchart:hover {\n",
              "    background-color: var(--hover-bg-color);\n",
              "    box-shadow: 0 1px 2px rgba(60, 64, 67, 0.3), 0 1px 3px 1px rgba(60, 64, 67, 0.15);\n",
              "    fill: var(--button-hover-fill-color);\n",
              "  }\n",
              "\n",
              "  .colab-df-quickchart-complete:disabled,\n",
              "  .colab-df-quickchart-complete:disabled:hover {\n",
              "    background-color: var(--disabled-bg-color);\n",
              "    fill: var(--disabled-fill-color);\n",
              "    box-shadow: none;\n",
              "  }\n",
              "\n",
              "  .colab-df-spinner {\n",
              "    border: 2px solid var(--fill-color);\n",
              "    border-color: transparent;\n",
              "    border-bottom-color: var(--fill-color);\n",
              "    animation:\n",
              "      spin 1s steps(1) infinite;\n",
              "  }\n",
              "\n",
              "  @keyframes spin {\n",
              "    0% {\n",
              "      border-color: transparent;\n",
              "      border-bottom-color: var(--fill-color);\n",
              "      border-left-color: var(--fill-color);\n",
              "    }\n",
              "    20% {\n",
              "      border-color: transparent;\n",
              "      border-left-color: var(--fill-color);\n",
              "      border-top-color: var(--fill-color);\n",
              "    }\n",
              "    30% {\n",
              "      border-color: transparent;\n",
              "      border-left-color: var(--fill-color);\n",
              "      border-top-color: var(--fill-color);\n",
              "      border-right-color: var(--fill-color);\n",
              "    }\n",
              "    40% {\n",
              "      border-color: transparent;\n",
              "      border-right-color: var(--fill-color);\n",
              "      border-top-color: var(--fill-color);\n",
              "    }\n",
              "    60% {\n",
              "      border-color: transparent;\n",
              "      border-right-color: var(--fill-color);\n",
              "    }\n",
              "    80% {\n",
              "      border-color: transparent;\n",
              "      border-right-color: var(--fill-color);\n",
              "      border-bottom-color: var(--fill-color);\n",
              "    }\n",
              "    90% {\n",
              "      border-color: transparent;\n",
              "      border-bottom-color: var(--fill-color);\n",
              "    }\n",
              "  }\n",
              "</style>\n",
              "\n",
              "  <script>\n",
              "    async function quickchart(key) {\n",
              "      const quickchartButtonEl =\n",
              "        document.querySelector('#' + key + ' button');\n",
              "      quickchartButtonEl.disabled = true;  // To prevent multiple clicks.\n",
              "      quickchartButtonEl.classList.add('colab-df-spinner');\n",
              "      try {\n",
              "        const charts = await google.colab.kernel.invokeFunction(\n",
              "            'suggestCharts', [key], {});\n",
              "      } catch (error) {\n",
              "        console.error('Error during call to suggestCharts:', error);\n",
              "      }\n",
              "      quickchartButtonEl.classList.remove('colab-df-spinner');\n",
              "      quickchartButtonEl.classList.add('colab-df-quickchart-complete');\n",
              "    }\n",
              "    (() => {\n",
              "      let quickchartButtonEl =\n",
              "        document.querySelector('#df-0e679d59-71a4-4365-99b8-e9679d1ceec2 button');\n",
              "      quickchartButtonEl.style.display =\n",
              "        google.colab.kernel.accessAllowed ? 'block' : 'none';\n",
              "    })();\n",
              "  </script>\n",
              "</div>\n",
              "\n",
              "    </div>\n",
              "  </div>\n"
            ],
            "application/vnd.google.colaboratory.intrinsic+json": {
              "type": "dataframe",
              "summary": "{\n  \"name\": \"df\",\n  \"rows\": 3,\n  \"fields\": [\n    {\n      \"column\": \"PassengerId\",\n      \"properties\": {\n        \"dtype\": \"int32\",\n        \"num_unique_values\": 3,\n        \"samples\": [\n          1,\n          2,\n          3\n        ],\n        \"semantic_type\": \"\",\n        \"description\": \"\"\n      }\n    },\n    {\n      \"column\": \"Survived\",\n      \"properties\": {\n        \"dtype\": \"int32\",\n        \"num_unique_values\": 2,\n        \"samples\": [\n          1,\n          0\n        ],\n        \"semantic_type\": \"\",\n        \"description\": \"\"\n      }\n    },\n    {\n      \"column\": \"Pclass\",\n      \"properties\": {\n        \"dtype\": \"int32\",\n        \"num_unique_values\": 2,\n        \"samples\": [\n          1,\n          3\n        ],\n        \"semantic_type\": \"\",\n        \"description\": \"\"\n      }\n    },\n    {\n      \"column\": \"Name\",\n      \"properties\": {\n        \"dtype\": \"string\",\n        \"num_unique_values\": 3,\n        \"samples\": [\n          \"Braund, Mr. Owen Harris\",\n          \"Cumings, Mrs. John Bradley (Florence Briggs Thayer)\"\n        ],\n        \"semantic_type\": \"\",\n        \"description\": \"\"\n      }\n    },\n    {\n      \"column\": \"Sex\",\n      \"properties\": {\n        \"dtype\": \"string\",\n        \"num_unique_values\": 2,\n        \"samples\": [\n          \"female\",\n          \"male\"\n        ],\n        \"semantic_type\": \"\",\n        \"description\": \"\"\n      }\n    },\n    {\n      \"column\": \"Age\",\n      \"properties\": {\n        \"dtype\": \"number\",\n        \"std\": 8.32666399786453,\n        \"min\": 22.0,\n        \"max\": 38.0,\n        \"num_unique_values\": 3,\n        \"samples\": [\n          22.0,\n          38.0\n        ],\n        \"semantic_type\": \"\",\n        \"description\": \"\"\n      }\n    },\n    {\n      \"column\": \"SibSp\",\n      \"properties\": {\n        \"dtype\": \"int32\",\n        \"num_unique_values\": 2,\n        \"samples\": [\n          0,\n          1\n        ],\n        \"semantic_type\": \"\",\n        \"description\": \"\"\n      }\n    },\n    {\n      \"column\": \"Parch\",\n      \"properties\": {\n        \"dtype\": \"int32\",\n        \"num_unique_values\": 1,\n        \"samples\": [\n          0\n        ],\n        \"semantic_type\": \"\",\n        \"description\": \"\"\n      }\n    },\n    {\n      \"column\": \"Ticket\",\n      \"properties\": {\n        \"dtype\": \"string\",\n        \"num_unique_values\": 3,\n        \"samples\": [\n          \"A/5 21171\"\n        ],\n        \"semantic_type\": \"\",\n        \"description\": \"\"\n      }\n    },\n    {\n      \"column\": \"Fare\",\n      \"properties\": {\n        \"dtype\": \"number\",\n        \"std\": 36.77633594396447,\n        \"min\": 7.25,\n        \"max\": 71.2833,\n        \"num_unique_values\": 3,\n        \"samples\": [\n          7.25\n        ],\n        \"semantic_type\": \"\",\n        \"description\": \"\"\n      }\n    },\n    {\n      \"column\": \"Cabin\",\n      \"properties\": {\n        \"dtype\": \"category\",\n        \"num_unique_values\": 1,\n        \"samples\": [\n          \"C85\"\n        ],\n        \"semantic_type\": \"\",\n        \"description\": \"\"\n      }\n    },\n    {\n      \"column\": \"Embarked\",\n      \"properties\": {\n        \"dtype\": \"string\",\n        \"num_unique_values\": 2,\n        \"samples\": [\n          \"C\"\n        ],\n        \"semantic_type\": \"\",\n        \"description\": \"\"\n      }\n    }\n  ]\n}"
            }
          },
          "metadata": {},
          "execution_count": 18
        }
      ]
    },
    {
      "cell_type": "code",
      "execution_count": 19,
      "id": "0342cf82",
      "metadata": {
        "colab": {
          "base_uri": "https://localhost:8080/",
          "height": 156
        },
        "id": "0342cf82",
        "outputId": "ff44ae63-dce1-47e5-f01d-1d16e14b4c4a"
      },
      "outputs": [
        {
          "output_type": "execute_result",
          "data": {
            "text/plain": [
              "+--------------------+\n",
              "|                Name|\n",
              "+--------------------+\n",
              "|Braund, Mr. Owen ...|\n",
              "|Cumings, Mrs. Joh...|\n",
              "|Heikkinen, Miss. ...|\n",
              "|Futrelle, Mrs. Ja...|\n",
              "|Allen, Mr. Willia...|\n",
              "+--------------------+"
            ],
            "text/html": [
              "<table border='1'>\n",
              "<tr><th>Name</th></tr>\n",
              "<tr><td>Braund, Mr. Owen ...</td></tr>\n",
              "<tr><td>Cumings, Mrs. Joh...</td></tr>\n",
              "<tr><td>Heikkinen, Miss. ...</td></tr>\n",
              "<tr><td>Futrelle, Mrs. Ja...</td></tr>\n",
              "<tr><td>Allen, Mr. Willia...</td></tr>\n",
              "</table>\n"
            ]
          },
          "metadata": {},
          "execution_count": 19
        }
      ],
      "source": [
        "# 'Name' 컬럼만 선택하여 상위 5개 행을 가져오기\n",
        "df.select('Name').limit(5)"
      ]
    },
    {
      "cell_type": "code",
      "execution_count": 20,
      "id": "673e6f22",
      "metadata": {
        "colab": {
          "base_uri": "https://localhost:8080/",
          "height": 156
        },
        "id": "673e6f22",
        "outputId": "1d989416-dd56-48bb-8d7d-be0c10aa4b36"
      },
      "outputs": [
        {
          "output_type": "execute_result",
          "data": {
            "text/plain": [
              "+--------------------+----+\n",
              "|                Name| Age|\n",
              "+--------------------+----+\n",
              "|Braund, Mr. Owen ...|22.0|\n",
              "|Cumings, Mrs. Joh...|38.0|\n",
              "|Heikkinen, Miss. ...|26.0|\n",
              "|Futrelle, Mrs. Ja...|35.0|\n",
              "|Allen, Mr. Willia...|35.0|\n",
              "+--------------------+----+"
            ],
            "text/html": [
              "<table border='1'>\n",
              "<tr><th>Name</th><th>Age</th></tr>\n",
              "<tr><td>Braund, Mr. Owen ...</td><td>22.0</td></tr>\n",
              "<tr><td>Cumings, Mrs. Joh...</td><td>38.0</td></tr>\n",
              "<tr><td>Heikkinen, Miss. ...</td><td>26.0</td></tr>\n",
              "<tr><td>Futrelle, Mrs. Ja...</td><td>35.0</td></tr>\n",
              "<tr><td>Allen, Mr. Willia...</td><td>35.0</td></tr>\n",
              "</table>\n"
            ]
          },
          "metadata": {},
          "execution_count": 20
        }
      ],
      "source": [
        "# 'Name'과 'Age' 컬럼을 선택하여 상위 5개 행을 가져오기\n",
        "df.select(['Name', 'Age']).limit(5)"
      ]
    },
    {
      "cell_type": "code",
      "source": [
        "# 데이터프레임(df)에서 상위 2개의 행을 가져오는 코드입니다.\n",
        "# - take(2): 데이터프레임의 첫 번째 2개의 행을 리스트 형식으로 반환.\n",
        "first_two_rows = df.take(2)\n",
        "\n",
        "# 가져온 행 데이터를 반복문을 사용하여 출력\n",
        "# - row: 데이터프레임의 각 행(Row 객체).\n",
        "for row in first_two_rows:\n",
        "    print(row)  # 각 행(Row 객체)의 내용을 출력"
      ],
      "metadata": {
        "colab": {
          "base_uri": "https://localhost:8080/"
        },
        "id": "hrxeXF2xoZVN",
        "outputId": "da593af7-8940-408c-b96f-2057aaf27383"
      },
      "id": "hrxeXF2xoZVN",
      "execution_count": 21,
      "outputs": [
        {
          "output_type": "stream",
          "name": "stdout",
          "text": [
            "Row(PassengerId=1, Survived=0, Pclass=3, Name='Braund, Mr. Owen Harris', Sex='male', Age=22.0, SibSp=1, Parch=0, Ticket='A/5 21171', Fare=7.25, Cabin=None, Embarked='S')\n",
            "Row(PassengerId=2, Survived=1, Pclass=1, Name='Cumings, Mrs. John Bradley (Florence Briggs Thayer)', Sex='female', Age=38.0, SibSp=1, Parch=0, Ticket='PC 17599', Fare=71.2833, Cabin='C85', Embarked='C')\n"
          ]
        }
      ]
    },
    {
      "cell_type": "code",
      "execution_count": 22,
      "id": "83160562",
      "metadata": {
        "colab": {
          "base_uri": "https://localhost:8080/"
        },
        "id": "83160562",
        "outputId": "4d33016a-a494-4d97-eaf0-608724c7f240"
      },
      "outputs": [
        {
          "output_type": "execute_result",
          "data": {
            "text/plain": [
              "[('PassengerId', 'int'),\n",
              " ('Survived', 'int'),\n",
              " ('Pclass', 'int'),\n",
              " ('Name', 'string'),\n",
              " ('Sex', 'string'),\n",
              " ('Age', 'double'),\n",
              " ('SibSp', 'int'),\n",
              " ('Parch', 'int'),\n",
              " ('Ticket', 'string'),\n",
              " ('Fare', 'double'),\n",
              " ('Cabin', 'string'),\n",
              " ('Embarked', 'string')]"
            ]
          },
          "metadata": {},
          "execution_count": 22
        }
      ],
      "source": [
        "# DataFrame의 모든 컬럼 이름과 해당 데이터 타입을 튜플의 리스트 형태로 반환\n",
        "df.dtypes"
      ]
    },
    {
      "cell_type": "code",
      "execution_count": 23,
      "id": "739e6f0c",
      "metadata": {
        "colab": {
          "base_uri": "https://localhost:8080/",
          "height": 228
        },
        "id": "739e6f0c",
        "outputId": "3ccfe383-bc1a-44af-c675-e8db7fe257d6"
      },
      "outputs": [
        {
          "output_type": "execute_result",
          "data": {
            "text/plain": [
              "+-------+-----------------+-------------------+------------------+--------------------+------+------------------+------------------+-------------------+------------------+-----------------+-----+--------+\n",
              "|summary|      PassengerId|           Survived|            Pclass|                Name|   Sex|               Age|             SibSp|              Parch|            Ticket|             Fare|Cabin|Embarked|\n",
              "+-------+-----------------+-------------------+------------------+--------------------+------+------------------+------------------+-------------------+------------------+-----------------+-----+--------+\n",
              "|  count|              891|                891|               891|                 891|   891|               714|               891|                891|               891|              891|  204|     889|\n",
              "|   mean|            446.0| 0.3838383838383838| 2.308641975308642|                NULL|  NULL| 29.69911764705882|0.5230078563411896|0.38159371492704824|260318.54916792738| 32.2042079685746| NULL|    NULL|\n",
              "| stddev|257.3538420152301|0.48659245426485753|0.8360712409770491|                NULL|  NULL|14.526497332334035|1.1027434322934315| 0.8060572211299488|471609.26868834975|49.69342859718089| NULL|    NULL|\n",
              "|    min|                1|                  0|                 1|\"Andersson, Mr. A...|female|              0.42|                 0|                  0|            110152|              0.0|  A10|       C|\n",
              "|    max|              891|                  1|                 3|van Melkebeke, Mr...|  male|              80.0|                 8|                  6|         WE/P 5735|         512.3292|    T|       S|\n",
              "+-------+-----------------+-------------------+------------------+--------------------+------+------------------+------------------+-------------------+------------------+-----------------+-----+--------+"
            ],
            "text/html": [
              "<table border='1'>\n",
              "<tr><th>summary</th><th>PassengerId</th><th>Survived</th><th>Pclass</th><th>Name</th><th>Sex</th><th>Age</th><th>SibSp</th><th>Parch</th><th>Ticket</th><th>Fare</th><th>Cabin</th><th>Embarked</th></tr>\n",
              "<tr><td>count</td><td>891</td><td>891</td><td>891</td><td>891</td><td>891</td><td>714</td><td>891</td><td>891</td><td>891</td><td>891</td><td>204</td><td>889</td></tr>\n",
              "<tr><td>mean</td><td>446.0</td><td>0.3838383838383838</td><td>2.308641975308642</td><td>NULL</td><td>NULL</td><td>29.69911764705882</td><td>0.5230078563411896</td><td>0.38159371492704824</td><td>260318.54916792738</td><td>32.2042079685746</td><td>NULL</td><td>NULL</td></tr>\n",
              "<tr><td>stddev</td><td>257.3538420152301</td><td>0.48659245426485753</td><td>0.8360712409770491</td><td>NULL</td><td>NULL</td><td>14.526497332334035</td><td>1.1027434322934315</td><td>0.8060572211299488</td><td>471609.26868834975</td><td>49.69342859718089</td><td>NULL</td><td>NULL</td></tr>\n",
              "<tr><td>min</td><td>1</td><td>0</td><td>1</td><td>&quot;Andersson, Mr. A...</td><td>female</td><td>0.42</td><td>0</td><td>0</td><td>110152</td><td>0.0</td><td>A10</td><td>C</td></tr>\n",
              "<tr><td>max</td><td>891</td><td>1</td><td>3</td><td>van Melkebeke, Mr...</td><td>male</td><td>80.0</td><td>8</td><td>6</td><td>WE/P 5735</td><td>512.3292</td><td>T</td><td>S</td></tr>\n",
              "</table>\n"
            ]
          },
          "metadata": {},
          "execution_count": 23
        }
      ],
      "source": [
        "# DataFrame의 수치형 컬럼에 대해 기초 통계 정보를 계산\n",
        "df.describe()"
      ]
    },
    {
      "cell_type": "markdown",
      "source": [
        "- DataFrame.withColumn(colName, col)\n",
        "\n",
        "PySpark에서 DataFrame에 새로운 컬럼을 추가하거나 기존 컬럼을 업데이트할 때 사용하는 메서드  \n",
        "\n",
        "| 파라미터  | 설명                                                                 |\n",
        "|-----------|----------------------------------------------------------------------|\n",
        "| `colName` | 새로 만들 컬럼의 이름 (문자열)                                       |\n",
        "| `col`     | 추가하거나 업데이트할 컬럼의 값. 이것은 Expression 또는 Column 객체 여야 함 |\n"
      ],
      "metadata": {
        "id": "I4amk5O47Xjw"
      },
      "id": "I4amk5O47Xjw"
    },
    {
      "cell_type": "code",
      "execution_count": 27,
      "id": "1220f59a",
      "metadata": {
        "colab": {
          "base_uri": "https://localhost:8080/",
          "height": 156
        },
        "id": "1220f59a",
        "outputId": "f5e7f761-5214-4696-d05e-5809e7246fc9"
      },
      "outputs": [
        {
          "output_type": "execute_result",
          "data": {
            "text/plain": [
              "+-----------+--------+------+--------------------+------+----+-----+-----+----------------+-------+-----+--------+-----------+\n",
              "|PassengerId|Survived|Pclass|                Name|   Sex| Age|SibSp|Parch|          Ticket|   Fare|Cabin|Embarked|Age Over 30|\n",
              "+-----------+--------+------+--------------------+------+----+-----+-----+----------------+-------+-----+--------+-----------+\n",
              "|          1|       0|     3|Braund, Mr. Owen ...|  male|22.0|    1|    0|       A/5 21171|   7.25| NULL|       S|      false|\n",
              "|          2|       1|     1|Cumings, Mrs. Joh...|female|38.0|    1|    0|        PC 17599|71.2833|  C85|       C|       true|\n",
              "|          3|       1|     3|Heikkinen, Miss. ...|female|26.0|    0|    0|STON/O2. 3101282|  7.925| NULL|       S|      false|\n",
              "|          4|       1|     1|Futrelle, Mrs. Ja...|female|35.0|    1|    0|          113803|   53.1| C123|       S|       true|\n",
              "|          5|       0|     3|Allen, Mr. Willia...|  male|35.0|    0|    0|          373450|   8.05| NULL|       S|       true|\n",
              "+-----------+--------+------+--------------------+------+----+-----+-----+----------------+-------+-----+--------+-----------+"
            ],
            "text/html": [
              "<table border='1'>\n",
              "<tr><th>PassengerId</th><th>Survived</th><th>Pclass</th><th>Name</th><th>Sex</th><th>Age</th><th>SibSp</th><th>Parch</th><th>Ticket</th><th>Fare</th><th>Cabin</th><th>Embarked</th><th>Age Over 30</th></tr>\n",
              "<tr><td>1</td><td>0</td><td>3</td><td>Braund, Mr. Owen ...</td><td>male</td><td>22.0</td><td>1</td><td>0</td><td>A/5 21171</td><td>7.25</td><td>NULL</td><td>S</td><td>false</td></tr>\n",
              "<tr><td>2</td><td>1</td><td>1</td><td>Cumings, Mrs. Joh...</td><td>female</td><td>38.0</td><td>1</td><td>0</td><td>PC 17599</td><td>71.2833</td><td>C85</td><td>C</td><td>true</td></tr>\n",
              "<tr><td>3</td><td>1</td><td>3</td><td>Heikkinen, Miss. ...</td><td>female</td><td>26.0</td><td>0</td><td>0</td><td>STON/O2. 3101282</td><td>7.925</td><td>NULL</td><td>S</td><td>false</td></tr>\n",
              "<tr><td>4</td><td>1</td><td>1</td><td>Futrelle, Mrs. Ja...</td><td>female</td><td>35.0</td><td>1</td><td>0</td><td>113803</td><td>53.1</td><td>C123</td><td>S</td><td>true</td></tr>\n",
              "<tr><td>5</td><td>0</td><td>3</td><td>Allen, Mr. Willia...</td><td>male</td><td>35.0</td><td>0</td><td>0</td><td>373450</td><td>8.05</td><td>NULL</td><td>S</td><td>true</td></tr>\n",
              "</table>\n"
            ]
          },
          "metadata": {},
          "execution_count": 27
        }
      ],
      "source": [
        "# 'Age' 컬럼의 값이 30보다 큰지(True/False) 여부를 나타내는 새로운 컬럼 'Age Over 30'을 DataFrame에 추가\n",
        "df = df.withColumn('Age Over 30', df['Age'] > 30)  # 새로운 DataFrame으로 업데이트\n",
        "\n",
        "df.limit(5)"
      ]
    },
    {
      "cell_type": "code",
      "execution_count": 28,
      "id": "a89443c3",
      "metadata": {
        "colab": {
          "base_uri": "https://localhost:8080/",
          "height": 156
        },
        "id": "a89443c3",
        "outputId": "44b63e18-0e5e-44ce-9158-04675113451b"
      },
      "outputs": [
        {
          "output_type": "execute_result",
          "data": {
            "text/plain": [
              "+-----------+--------+------+--------------------+------+----+-----+-----+----------------+-------+-----+--------+\n",
              "|PassengerId|Survived|Pclass|                Name|   Sex| Age|SibSp|Parch|          Ticket|   Fare|Cabin|Embarked|\n",
              "+-----------+--------+------+--------------------+------+----+-----+-----+----------------+-------+-----+--------+\n",
              "|          1|       0|     3|Braund, Mr. Owen ...|  male|22.0|    1|    0|       A/5 21171|   7.25| NULL|       S|\n",
              "|          2|       1|     1|Cumings, Mrs. Joh...|female|38.0|    1|    0|        PC 17599|71.2833|  C85|       C|\n",
              "|          3|       1|     3|Heikkinen, Miss. ...|female|26.0|    0|    0|STON/O2. 3101282|  7.925| NULL|       S|\n",
              "|          4|       1|     1|Futrelle, Mrs. Ja...|female|35.0|    1|    0|          113803|   53.1| C123|       S|\n",
              "|          5|       0|     3|Allen, Mr. Willia...|  male|35.0|    0|    0|          373450|   8.05| NULL|       S|\n",
              "+-----------+--------+------+--------------------+------+----+-----+-----+----------------+-------+-----+--------+"
            ],
            "text/html": [
              "<table border='1'>\n",
              "<tr><th>PassengerId</th><th>Survived</th><th>Pclass</th><th>Name</th><th>Sex</th><th>Age</th><th>SibSp</th><th>Parch</th><th>Ticket</th><th>Fare</th><th>Cabin</th><th>Embarked</th></tr>\n",
              "<tr><td>1</td><td>0</td><td>3</td><td>Braund, Mr. Owen ...</td><td>male</td><td>22.0</td><td>1</td><td>0</td><td>A/5 21171</td><td>7.25</td><td>NULL</td><td>S</td></tr>\n",
              "<tr><td>2</td><td>1</td><td>1</td><td>Cumings, Mrs. Joh...</td><td>female</td><td>38.0</td><td>1</td><td>0</td><td>PC 17599</td><td>71.2833</td><td>C85</td><td>C</td></tr>\n",
              "<tr><td>3</td><td>1</td><td>3</td><td>Heikkinen, Miss. ...</td><td>female</td><td>26.0</td><td>0</td><td>0</td><td>STON/O2. 3101282</td><td>7.925</td><td>NULL</td><td>S</td></tr>\n",
              "<tr><td>4</td><td>1</td><td>1</td><td>Futrelle, Mrs. Ja...</td><td>female</td><td>35.0</td><td>1</td><td>0</td><td>113803</td><td>53.1</td><td>C123</td><td>S</td></tr>\n",
              "<tr><td>5</td><td>0</td><td>3</td><td>Allen, Mr. Willia...</td><td>male</td><td>35.0</td><td>0</td><td>0</td><td>373450</td><td>8.05</td><td>NULL</td><td>S</td></tr>\n",
              "</table>\n"
            ]
          },
          "metadata": {},
          "execution_count": 28
        }
      ],
      "source": [
        "# Column 삭제\n",
        "df = df.drop(\"Age Over 30\")\n",
        "df.limit(5)"
      ]
    },
    {
      "cell_type": "code",
      "execution_count": 29,
      "id": "05997343",
      "metadata": {
        "colab": {
          "base_uri": "https://localhost:8080/",
          "height": 156
        },
        "id": "05997343",
        "outputId": "c8ca8d01-bf6a-4a21-80e6-6f77eedb979b"
      },
      "outputs": [
        {
          "output_type": "execute_result",
          "data": {
            "text/plain": [
              "+-----------+--------+------+--------------------+------+----+-----+-----+----------------+-------+-----+----+\n",
              "|PassengerId|Survived|Pclass|                Name|   Sex| Age|SibSp|Parch|          Ticket|   Fare|Cabin|Port|\n",
              "+-----------+--------+------+--------------------+------+----+-----+-----+----------------+-------+-----+----+\n",
              "|          1|       0|     3|Braund, Mr. Owen ...|  male|22.0|    1|    0|       A/5 21171|   7.25| NULL|   S|\n",
              "|          2|       1|     1|Cumings, Mrs. Joh...|female|38.0|    1|    0|        PC 17599|71.2833|  C85|   C|\n",
              "|          3|       1|     3|Heikkinen, Miss. ...|female|26.0|    0|    0|STON/O2. 3101282|  7.925| NULL|   S|\n",
              "|          4|       1|     1|Futrelle, Mrs. Ja...|female|35.0|    1|    0|          113803|   53.1| C123|   S|\n",
              "|          5|       0|     3|Allen, Mr. Willia...|  male|35.0|    0|    0|          373450|   8.05| NULL|   S|\n",
              "+-----------+--------+------+--------------------+------+----+-----+-----+----------------+-------+-----+----+"
            ],
            "text/html": [
              "<table border='1'>\n",
              "<tr><th>PassengerId</th><th>Survived</th><th>Pclass</th><th>Name</th><th>Sex</th><th>Age</th><th>SibSp</th><th>Parch</th><th>Ticket</th><th>Fare</th><th>Cabin</th><th>Port</th></tr>\n",
              "<tr><td>1</td><td>0</td><td>3</td><td>Braund, Mr. Owen ...</td><td>male</td><td>22.0</td><td>1</td><td>0</td><td>A/5 21171</td><td>7.25</td><td>NULL</td><td>S</td></tr>\n",
              "<tr><td>2</td><td>1</td><td>1</td><td>Cumings, Mrs. Joh...</td><td>female</td><td>38.0</td><td>1</td><td>0</td><td>PC 17599</td><td>71.2833</td><td>C85</td><td>C</td></tr>\n",
              "<tr><td>3</td><td>1</td><td>3</td><td>Heikkinen, Miss. ...</td><td>female</td><td>26.0</td><td>0</td><td>0</td><td>STON/O2. 3101282</td><td>7.925</td><td>NULL</td><td>S</td></tr>\n",
              "<tr><td>4</td><td>1</td><td>1</td><td>Futrelle, Mrs. Ja...</td><td>female</td><td>35.0</td><td>1</td><td>0</td><td>113803</td><td>53.1</td><td>C123</td><td>S</td></tr>\n",
              "<tr><td>5</td><td>0</td><td>3</td><td>Allen, Mr. Willia...</td><td>male</td><td>35.0</td><td>0</td><td>0</td><td>373450</td><td>8.05</td><td>NULL</td><td>S</td></tr>\n",
              "</table>\n"
            ]
          },
          "metadata": {},
          "execution_count": 29
        }
      ],
      "source": [
        "## 컬럼명 변경\n",
        "df = df.withColumnRenamed('Embarked', 'Port')\n",
        "df.limit(5)"
      ]
    },
    {
      "cell_type": "markdown",
      "id": "zphKzIGmF9_n",
      "metadata": {
        "id": "zphKzIGmF9_n"
      },
      "source": [
        "### Missing Value 처리"
      ]
    },
    {
      "cell_type": "code",
      "execution_count": 30,
      "id": "nIGwa-IIkzRJ",
      "metadata": {
        "colab": {
          "base_uri": "https://localhost:8080/",
          "height": 65
        },
        "id": "nIGwa-IIkzRJ",
        "outputId": "e22cdb14-5649-4ffc-f2f5-72134657bf1d"
      },
      "outputs": [
        {
          "output_type": "execute_result",
          "data": {
            "text/plain": [
              "+-----------+--------+------+----+---+---+-----+-----+------+----+-----+----+\n",
              "|PassengerId|Survived|Pclass|Name|Sex|Age|SibSp|Parch|Ticket|Fare|Cabin|Port|\n",
              "+-----------+--------+------+----+---+---+-----+-----+------+----+-----+----+\n",
              "|          0|       0|     0|   0|  0|177|    0|    0|     0|   0|  687|   2|\n",
              "+-----------+--------+------+----+---+---+-----+-----+------+----+-----+----+"
            ],
            "text/html": [
              "<table border='1'>\n",
              "<tr><th>PassengerId</th><th>Survived</th><th>Pclass</th><th>Name</th><th>Sex</th><th>Age</th><th>SibSp</th><th>Parch</th><th>Ticket</th><th>Fare</th><th>Cabin</th><th>Port</th></tr>\n",
              "<tr><td>0</td><td>0</td><td>0</td><td>0</td><td>0</td><td>177</td><td>0</td><td>0</td><td>0</td><td>0</td><td>687</td><td>2</td></tr>\n",
              "</table>\n"
            ]
          },
          "metadata": {},
          "execution_count": 30
        }
      ],
      "source": [
        "from pyspark.sql.functions import col, sum\n",
        "\n",
        "# 각 컬럼의 null 값 개수 확인\n",
        "df.select([sum(col(c).isNull().cast(\"int\")).alias(c) for c in df.columns])"
      ]
    },
    {
      "cell_type": "markdown",
      "source": [
        "col(c) : 문자열 컬럼 이름 c를 Column 객체로 바꿔줌 (PySpark에서 컬럼을 참조할 때 필요)  \n",
        "col(c).isNull() : 컬럼의 각 값이 null인지 여부를 Boolean 값으로 반환.  \n",
        "cast(\"int\") : True/False를 1/0으로 바꿈  \n",
        "sum(...) : 컬럼에 대해 null인 값(1인 값)의 총합을 계산  \n",
        "alias(c) : 이 컬럼의 이름을 원래 컬럼 이름으로 설정  \n",
        "df.select([...]) : 각 컬럼의 null 개수를 계산한 컬럼들만 선택해서 보여줌."
      ],
      "metadata": {
        "id": "dDkvy2qC8sDN"
      },
      "id": "dDkvy2qC8sDN"
    },
    {
      "cell_type": "code",
      "source": [
        "[col(c).isNull().cast(\"int\") for c in df.columns]"
      ],
      "metadata": {
        "colab": {
          "base_uri": "https://localhost:8080/"
        },
        "id": "OWlC9W898Z4s",
        "outputId": "4e4e7501-7265-43aa-9b14-c39e31c6269c"
      },
      "id": "OWlC9W898Z4s",
      "execution_count": 35,
      "outputs": [
        {
          "output_type": "execute_result",
          "data": {
            "text/plain": [
              "[Column<'CAST((PassengerId IS NULL) AS INT)'>,\n",
              " Column<'CAST((Survived IS NULL) AS INT)'>,\n",
              " Column<'CAST((Pclass IS NULL) AS INT)'>,\n",
              " Column<'CAST((Name IS NULL) AS INT)'>,\n",
              " Column<'CAST((Sex IS NULL) AS INT)'>,\n",
              " Column<'CAST((Age IS NULL) AS INT)'>,\n",
              " Column<'CAST((SibSp IS NULL) AS INT)'>,\n",
              " Column<'CAST((Parch IS NULL) AS INT)'>,\n",
              " Column<'CAST((Ticket IS NULL) AS INT)'>,\n",
              " Column<'CAST((Fare IS NULL) AS INT)'>,\n",
              " Column<'CAST((Cabin IS NULL) AS INT)'>,\n",
              " Column<'CAST((Port IS NULL) AS INT)'>]"
            ]
          },
          "metadata": {},
          "execution_count": 35
        }
      ]
    },
    {
      "cell_type": "markdown",
      "source": [
        "Imputer 함수:\n",
        "\n",
        "| 파라미터      | 설명                                                                 |\n",
        "|---------------|----------------------------------------------------------------------|\n",
        "| `inputCols`   | 결측값(null)을 처리할 입력 컬럼 이름 리스트                          |\n",
        "| `outputCols`  | 처리 결과를 저장할 출력 컬럼 이름 리스트                              |\n",
        "| `strategy`    | 어떤 방식으로 결측값을 채울지 설정 (`mean`, `median`, `mode` 중 선택) |\n"
      ],
      "metadata": {
        "id": "Xb64RCzk-BoV"
      },
      "id": "Xb64RCzk-BoV"
    },
    {
      "cell_type": "code",
      "execution_count": 36,
      "id": "AKPsxZIJpjEC",
      "metadata": {
        "id": "AKPsxZIJpjEC"
      },
      "outputs": [],
      "source": [
        "from pyspark.ml.feature import Imputer\n",
        "\n",
        "# Age가 null인 경우 평균으로 채움\n",
        "imputer = Imputer(\n",
        "  inputCols = ['Age'],\n",
        "  outputCols = ['Age_imputed']\n",
        ").setStrategy('mean')"
      ]
    },
    {
      "cell_type": "code",
      "execution_count": 37,
      "id": "G9YPQrkgqHpl",
      "metadata": {
        "colab": {
          "base_uri": "https://localhost:8080/",
          "height": 156
        },
        "id": "G9YPQrkgqHpl",
        "outputId": "2dc5fe69-7061-49dc-f56b-0dd913fd963c"
      },
      "outputs": [
        {
          "output_type": "execute_result",
          "data": {
            "text/plain": [
              "+-----------+--------+------+--------------------+------+----+-----+-----+----------------+-------+-----+----+-----------+\n",
              "|PassengerId|Survived|Pclass|                Name|   Sex| Age|SibSp|Parch|          Ticket|   Fare|Cabin|Port|Age_imputed|\n",
              "+-----------+--------+------+--------------------+------+----+-----+-----+----------------+-------+-----+----+-----------+\n",
              "|          1|       0|     3|Braund, Mr. Owen ...|  male|22.0|    1|    0|       A/5 21171|   7.25| NULL|   S|       22.0|\n",
              "|          2|       1|     1|Cumings, Mrs. Joh...|female|38.0|    1|    0|        PC 17599|71.2833|  C85|   C|       38.0|\n",
              "|          3|       1|     3|Heikkinen, Miss. ...|female|26.0|    0|    0|STON/O2. 3101282|  7.925| NULL|   S|       26.0|\n",
              "|          4|       1|     1|Futrelle, Mrs. Ja...|female|35.0|    1|    0|          113803|   53.1| C123|   S|       35.0|\n",
              "|          5|       0|     3|Allen, Mr. Willia...|  male|35.0|    0|    0|          373450|   8.05| NULL|   S|       35.0|\n",
              "+-----------+--------+------+--------------------+------+----+-----+-----+----------------+-------+-----+----+-----------+"
            ],
            "text/html": [
              "<table border='1'>\n",
              "<tr><th>PassengerId</th><th>Survived</th><th>Pclass</th><th>Name</th><th>Sex</th><th>Age</th><th>SibSp</th><th>Parch</th><th>Ticket</th><th>Fare</th><th>Cabin</th><th>Port</th><th>Age_imputed</th></tr>\n",
              "<tr><td>1</td><td>0</td><td>3</td><td>Braund, Mr. Owen ...</td><td>male</td><td>22.0</td><td>1</td><td>0</td><td>A/5 21171</td><td>7.25</td><td>NULL</td><td>S</td><td>22.0</td></tr>\n",
              "<tr><td>2</td><td>1</td><td>1</td><td>Cumings, Mrs. Joh...</td><td>female</td><td>38.0</td><td>1</td><td>0</td><td>PC 17599</td><td>71.2833</td><td>C85</td><td>C</td><td>38.0</td></tr>\n",
              "<tr><td>3</td><td>1</td><td>3</td><td>Heikkinen, Miss. ...</td><td>female</td><td>26.0</td><td>0</td><td>0</td><td>STON/O2. 3101282</td><td>7.925</td><td>NULL</td><td>S</td><td>26.0</td></tr>\n",
              "<tr><td>4</td><td>1</td><td>1</td><td>Futrelle, Mrs. Ja...</td><td>female</td><td>35.0</td><td>1</td><td>0</td><td>113803</td><td>53.1</td><td>C123</td><td>S</td><td>35.0</td></tr>\n",
              "<tr><td>5</td><td>0</td><td>3</td><td>Allen, Mr. Willia...</td><td>male</td><td>35.0</td><td>0</td><td>0</td><td>373450</td><td>8.05</td><td>NULL</td><td>S</td><td>35.0</td></tr>\n",
              "</table>\n"
            ]
          },
          "metadata": {},
          "execution_count": 37
        }
      ],
      "source": [
        "df = imputer.fit(df).transform(df)\n",
        "df.limit(5)"
      ]
    },
    {
      "cell_type": "markdown",
      "id": "fQXdoszXGOab",
      "metadata": {
        "id": "fQXdoszXGOab"
      },
      "source": [
        "## Filtering"
      ]
    },
    {
      "cell_type": "markdown",
      "id": "c2v3M_VNHKgt",
      "metadata": {
        "id": "c2v3M_VNHKgt"
      },
      "source": [
        "- SQL 스타일의 문자열 표현식으로 조건을 지정합니다.\n",
        "\"Age < 30\"는 SQL 쿼리의 WHERE 절처럼 동작"
      ]
    },
    {
      "cell_type": "code",
      "execution_count": 38,
      "id": "OQzWzPdYq5Tx",
      "metadata": {
        "colab": {
          "base_uri": "https://localhost:8080/",
          "height": 156
        },
        "id": "OQzWzPdYq5Tx",
        "outputId": "b6b0b686-75b0-4299-9e7c-7737c07c502e"
      },
      "outputs": [
        {
          "output_type": "execute_result",
          "data": {
            "text/plain": [
              "+-----------+--------+------+--------------------+------+----+-----+-----+----------------+-------+-----+----+-----------+\n",
              "|PassengerId|Survived|Pclass|                Name|   Sex| Age|SibSp|Parch|          Ticket|   Fare|Cabin|Port|Age_imputed|\n",
              "+-----------+--------+------+--------------------+------+----+-----+-----+----------------+-------+-----+----+-----------+\n",
              "|          1|       0|     3|Braund, Mr. Owen ...|  male|22.0|    1|    0|       A/5 21171|   7.25| NULL|   S|       22.0|\n",
              "|          3|       1|     3|Heikkinen, Miss. ...|female|26.0|    0|    0|STON/O2. 3101282|  7.925| NULL|   S|       26.0|\n",
              "|          8|       0|     3|Palsson, Master. ...|  male| 2.0|    3|    1|          349909| 21.075| NULL|   S|        2.0|\n",
              "|          9|       1|     3|Johnson, Mrs. Osc...|female|27.0|    0|    2|          347742|11.1333| NULL|   S|       27.0|\n",
              "|         10|       1|     2|Nasser, Mrs. Nich...|female|14.0|    1|    0|          237736|30.0708| NULL|   C|       14.0|\n",
              "+-----------+--------+------+--------------------+------+----+-----+-----+----------------+-------+-----+----+-----------+"
            ],
            "text/html": [
              "<table border='1'>\n",
              "<tr><th>PassengerId</th><th>Survived</th><th>Pclass</th><th>Name</th><th>Sex</th><th>Age</th><th>SibSp</th><th>Parch</th><th>Ticket</th><th>Fare</th><th>Cabin</th><th>Port</th><th>Age_imputed</th></tr>\n",
              "<tr><td>1</td><td>0</td><td>3</td><td>Braund, Mr. Owen ...</td><td>male</td><td>22.0</td><td>1</td><td>0</td><td>A/5 21171</td><td>7.25</td><td>NULL</td><td>S</td><td>22.0</td></tr>\n",
              "<tr><td>3</td><td>1</td><td>3</td><td>Heikkinen, Miss. ...</td><td>female</td><td>26.0</td><td>0</td><td>0</td><td>STON/O2. 3101282</td><td>7.925</td><td>NULL</td><td>S</td><td>26.0</td></tr>\n",
              "<tr><td>8</td><td>0</td><td>3</td><td>Palsson, Master. ...</td><td>male</td><td>2.0</td><td>3</td><td>1</td><td>349909</td><td>21.075</td><td>NULL</td><td>S</td><td>2.0</td></tr>\n",
              "<tr><td>9</td><td>1</td><td>3</td><td>Johnson, Mrs. Osc...</td><td>female</td><td>27.0</td><td>0</td><td>2</td><td>347742</td><td>11.1333</td><td>NULL</td><td>S</td><td>27.0</td></tr>\n",
              "<tr><td>10</td><td>1</td><td>2</td><td>Nasser, Mrs. Nich...</td><td>female</td><td>14.0</td><td>1</td><td>0</td><td>237736</td><td>30.0708</td><td>NULL</td><td>C</td><td>14.0</td></tr>\n",
              "</table>\n"
            ]
          },
          "metadata": {},
          "execution_count": 38
        }
      ],
      "source": [
        "## Age 가 30 아래인 사람만 filtering\n",
        "df.filter(\"Age < 30\").limit(5)"
      ]
    },
    {
      "cell_type": "markdown",
      "id": "s1TTWE30HUOp",
      "metadata": {
        "id": "s1TTWE30HUOp"
      },
      "source": [
        "- PySpark의 DataFrame API를 사용하여 조건을 지정합니다.\n",
        "df[\"Age\"] < 30은 PySpark의 컬럼 객체를 사용해 조건을 작성"
      ]
    },
    {
      "cell_type": "code",
      "execution_count": 39,
      "id": "R_GoRuG0GWBo",
      "metadata": {
        "colab": {
          "base_uri": "https://localhost:8080/",
          "height": 156
        },
        "id": "R_GoRuG0GWBo",
        "outputId": "fc8e675c-4c84-4df8-b3ab-ddde6a128bf9"
      },
      "outputs": [
        {
          "output_type": "execute_result",
          "data": {
            "text/plain": [
              "+-----------+--------+------+--------------------+------+----+-----+-----+----------------+-------+-----+----+-----------+\n",
              "|PassengerId|Survived|Pclass|                Name|   Sex| Age|SibSp|Parch|          Ticket|   Fare|Cabin|Port|Age_imputed|\n",
              "+-----------+--------+------+--------------------+------+----+-----+-----+----------------+-------+-----+----+-----------+\n",
              "|          1|       0|     3|Braund, Mr. Owen ...|  male|22.0|    1|    0|       A/5 21171|   7.25| NULL|   S|       22.0|\n",
              "|          3|       1|     3|Heikkinen, Miss. ...|female|26.0|    0|    0|STON/O2. 3101282|  7.925| NULL|   S|       26.0|\n",
              "|          8|       0|     3|Palsson, Master. ...|  male| 2.0|    3|    1|          349909| 21.075| NULL|   S|        2.0|\n",
              "|          9|       1|     3|Johnson, Mrs. Osc...|female|27.0|    0|    2|          347742|11.1333| NULL|   S|       27.0|\n",
              "|         10|       1|     2|Nasser, Mrs. Nich...|female|14.0|    1|    0|          237736|30.0708| NULL|   C|       14.0|\n",
              "+-----------+--------+------+--------------------+------+----+-----+-----+----------------+-------+-----+----+-----------+"
            ],
            "text/html": [
              "<table border='1'>\n",
              "<tr><th>PassengerId</th><th>Survived</th><th>Pclass</th><th>Name</th><th>Sex</th><th>Age</th><th>SibSp</th><th>Parch</th><th>Ticket</th><th>Fare</th><th>Cabin</th><th>Port</th><th>Age_imputed</th></tr>\n",
              "<tr><td>1</td><td>0</td><td>3</td><td>Braund, Mr. Owen ...</td><td>male</td><td>22.0</td><td>1</td><td>0</td><td>A/5 21171</td><td>7.25</td><td>NULL</td><td>S</td><td>22.0</td></tr>\n",
              "<tr><td>3</td><td>1</td><td>3</td><td>Heikkinen, Miss. ...</td><td>female</td><td>26.0</td><td>0</td><td>0</td><td>STON/O2. 3101282</td><td>7.925</td><td>NULL</td><td>S</td><td>26.0</td></tr>\n",
              "<tr><td>8</td><td>0</td><td>3</td><td>Palsson, Master. ...</td><td>male</td><td>2.0</td><td>3</td><td>1</td><td>349909</td><td>21.075</td><td>NULL</td><td>S</td><td>2.0</td></tr>\n",
              "<tr><td>9</td><td>1</td><td>3</td><td>Johnson, Mrs. Osc...</td><td>female</td><td>27.0</td><td>0</td><td>2</td><td>347742</td><td>11.1333</td><td>NULL</td><td>S</td><td>27.0</td></tr>\n",
              "<tr><td>10</td><td>1</td><td>2</td><td>Nasser, Mrs. Nich...</td><td>female</td><td>14.0</td><td>1</td><td>0</td><td>237736</td><td>30.0708</td><td>NULL</td><td>C</td><td>14.0</td></tr>\n",
              "</table>\n"
            ]
          },
          "metadata": {},
          "execution_count": 39
        }
      ],
      "source": [
        "df.filter(df[\"Age\"] < 30).limit(5)"
      ]
    },
    {
      "cell_type": "code",
      "execution_count": 40,
      "id": "XLA1VJxwG18t",
      "metadata": {
        "colab": {
          "base_uri": "https://localhost:8080/",
          "height": 156
        },
        "id": "XLA1VJxwG18t",
        "outputId": "c22d7693-b38e-4020-fd17-bccf666fa6e9"
      },
      "outputs": [
        {
          "output_type": "execute_result",
          "data": {
            "text/plain": [
              "+------+--------------------+----+\n",
              "|Pclass|                Name| Age|\n",
              "+------+--------------------+----+\n",
              "|     3|Braund, Mr. Owen ...|22.0|\n",
              "|     3|Heikkinen, Miss. ...|26.0|\n",
              "|     3|Palsson, Master. ...| 2.0|\n",
              "|     3|Johnson, Mrs. Osc...|27.0|\n",
              "|     2|Nasser, Mrs. Nich...|14.0|\n",
              "+------+--------------------+----+"
            ],
            "text/html": [
              "<table border='1'>\n",
              "<tr><th>Pclass</th><th>Name</th><th>Age</th></tr>\n",
              "<tr><td>3</td><td>Braund, Mr. Owen ...</td><td>22.0</td></tr>\n",
              "<tr><td>3</td><td>Heikkinen, Miss. ...</td><td>26.0</td></tr>\n",
              "<tr><td>3</td><td>Palsson, Master. ...</td><td>2.0</td></tr>\n",
              "<tr><td>3</td><td>Johnson, Mrs. Osc...</td><td>27.0</td></tr>\n",
              "<tr><td>2</td><td>Nasser, Mrs. Nich...</td><td>14.0</td></tr>\n",
              "</table>\n"
            ]
          },
          "metadata": {},
          "execution_count": 40
        }
      ],
      "source": [
        "## 특정 column 만 filtering\n",
        "df.filter(\"Age < 30\").select([\"Pclass\", \"Name\", \"Age\"]).limit(5)"
      ]
    },
    {
      "cell_type": "code",
      "execution_count": 41,
      "id": "HGYlTlfwHiyW",
      "metadata": {
        "colab": {
          "base_uri": "https://localhost:8080/",
          "height": 156
        },
        "id": "HGYlTlfwHiyW",
        "outputId": "a41d76ba-788f-40c0-a9b6-a6021015aa28"
      },
      "outputs": [
        {
          "output_type": "execute_result",
          "data": {
            "text/plain": [
              "+-----------+--------+------+--------------------+----+----+-----+-----+----------+-------+-----------+----+-----------+\n",
              "|PassengerId|Survived|Pclass|                Name| Sex| Age|SibSp|Parch|    Ticket|   Fare|      Cabin|Port|Age_imputed|\n",
              "+-----------+--------+------+--------------------+----+----+-----+-----+----------+-------+-----------+----+-----------+\n",
              "|          8|       0|     3|Palsson, Master. ...|male| 2.0|    3|    1|    349909| 21.075|       NULL|   S|        2.0|\n",
              "|         17|       0|     3|Rice, Master. Eugene|male| 2.0|    4|    1|    382652| 29.125|       NULL|   Q|        2.0|\n",
              "|         28|       0|     1|Fortune, Mr. Char...|male|19.0|    3|    2|     19950|  263.0|C23 C25 C27|   S|       19.0|\n",
              "|         34|       0|     2|Wheadon, Mr. Edwa...|male|66.0|    0|    0|C.A. 24579|   10.5|       NULL|   S|       66.0|\n",
              "|         51|       0|     3|Panula, Master. J...|male| 7.0|    4|    1|   3101295|39.6875|       NULL|   S|        7.0|\n",
              "+-----------+--------+------+--------------------+----+----+-----+-----+----------+-------+-----------+----+-----------+"
            ],
            "text/html": [
              "<table border='1'>\n",
              "<tr><th>PassengerId</th><th>Survived</th><th>Pclass</th><th>Name</th><th>Sex</th><th>Age</th><th>SibSp</th><th>Parch</th><th>Ticket</th><th>Fare</th><th>Cabin</th><th>Port</th><th>Age_imputed</th></tr>\n",
              "<tr><td>8</td><td>0</td><td>3</td><td>Palsson, Master. ...</td><td>male</td><td>2.0</td><td>3</td><td>1</td><td>349909</td><td>21.075</td><td>NULL</td><td>S</td><td>2.0</td></tr>\n",
              "<tr><td>17</td><td>0</td><td>3</td><td>Rice, Master. Eugene</td><td>male</td><td>2.0</td><td>4</td><td>1</td><td>382652</td><td>29.125</td><td>NULL</td><td>Q</td><td>2.0</td></tr>\n",
              "<tr><td>28</td><td>0</td><td>1</td><td>Fortune, Mr. Char...</td><td>male</td><td>19.0</td><td>3</td><td>2</td><td>19950</td><td>263.0</td><td>C23 C25 C27</td><td>S</td><td>19.0</td></tr>\n",
              "<tr><td>34</td><td>0</td><td>2</td><td>Wheadon, Mr. Edwa...</td><td>male</td><td>66.0</td><td>0</td><td>0</td><td>C.A. 24579</td><td>10.5</td><td>NULL</td><td>S</td><td>66.0</td></tr>\n",
              "<tr><td>51</td><td>0</td><td>3</td><td>Panula, Master. J...</td><td>male</td><td>7.0</td><td>4</td><td>1</td><td>3101295</td><td>39.6875</td><td>NULL</td><td>S</td><td>7.0</td></tr>\n",
              "</table>\n"
            ]
          },
          "metadata": {},
          "execution_count": 41
        }
      ],
      "source": [
        "## AND, OR 조건 추가 - 나이가 20보다 어리거나 60보다 크면서 남성인 사람\n",
        "df.filter(((df['Age'] < 20) | (df['Age'] > 60)) & (df['Sex'] == 'male')).limit(5)"
      ]
    },
    {
      "cell_type": "code",
      "execution_count": 42,
      "id": "cZe46G9-HoVd",
      "metadata": {
        "colab": {
          "base_uri": "https://localhost:8080/",
          "height": 156
        },
        "id": "cZe46G9-HoVd",
        "outputId": "ade0e115-b928-4b2d-941c-557e77911e58"
      },
      "outputs": [
        {
          "output_type": "execute_result",
          "data": {
            "text/plain": [
              "+-----------+--------+------+--------------------+----+----+-----+-----+----------+-------+-----+----+-----------+\n",
              "|PassengerId|Survived|Pclass|                Name| Sex| Age|SibSp|Parch|    Ticket|   Fare|Cabin|Port|Age_imputed|\n",
              "+-----------+--------+------+--------------------+----+----+-----+-----+----------+-------+-----+----+-----------+\n",
              "|         34|       0|     2|Wheadon, Mr. Edwa...|male|66.0|    0|    0|C.A. 24579|   10.5| NULL|   S|       66.0|\n",
              "|         55|       0|     1|Ostby, Mr. Engelh...|male|65.0|    0|    1|    113509|61.9792|  B30|   C|       65.0|\n",
              "|         97|       0|     1|Goldschmidt, Mr. ...|male|71.0|    0|    0|  PC 17754|34.6542|   A5|   C|       71.0|\n",
              "|        117|       0|     3|Connors, Mr. Patrick|male|70.5|    0|    0|    370369|   7.75| NULL|   Q|       70.5|\n",
              "|        171|       0|     1|Van der hoef, Mr....|male|61.0|    0|    0|    111240|   33.5|  B19|   S|       61.0|\n",
              "+-----------+--------+------+--------------------+----+----+-----+-----+----------+-------+-----+----+-----------+"
            ],
            "text/html": [
              "<table border='1'>\n",
              "<tr><th>PassengerId</th><th>Survived</th><th>Pclass</th><th>Name</th><th>Sex</th><th>Age</th><th>SibSp</th><th>Parch</th><th>Ticket</th><th>Fare</th><th>Cabin</th><th>Port</th><th>Age_imputed</th></tr>\n",
              "<tr><td>34</td><td>0</td><td>2</td><td>Wheadon, Mr. Edwa...</td><td>male</td><td>66.0</td><td>0</td><td>0</td><td>C.A. 24579</td><td>10.5</td><td>NULL</td><td>S</td><td>66.0</td></tr>\n",
              "<tr><td>55</td><td>0</td><td>1</td><td>Ostby, Mr. Engelh...</td><td>male</td><td>65.0</td><td>0</td><td>1</td><td>113509</td><td>61.9792</td><td>B30</td><td>C</td><td>65.0</td></tr>\n",
              "<tr><td>97</td><td>0</td><td>1</td><td>Goldschmidt, Mr. ...</td><td>male</td><td>71.0</td><td>0</td><td>0</td><td>PC 17754</td><td>34.6542</td><td>A5</td><td>C</td><td>71.0</td></tr>\n",
              "<tr><td>117</td><td>0</td><td>3</td><td>Connors, Mr. Patrick</td><td>male</td><td>70.5</td><td>0</td><td>0</td><td>370369</td><td>7.75</td><td>NULL</td><td>Q</td><td>70.5</td></tr>\n",
              "<tr><td>171</td><td>0</td><td>1</td><td>Van der hoef, Mr....</td><td>male</td><td>61.0</td><td>0</td><td>0</td><td>111240</td><td>33.5</td><td>B19</td><td>S</td><td>61.0</td></tr>\n",
              "</table>\n"
            ]
          },
          "metadata": {},
          "execution_count": 42
        }
      ],
      "source": [
        "## Not condition\n",
        "df.filter(~(df['Age'] < 60)).limit(5)"
      ]
    },
    {
      "cell_type": "markdown",
      "id": "1MLWZXg3Hwu2",
      "metadata": {
        "id": "1MLWZXg3Hwu2"
      },
      "source": [
        "## GroupBy 와 Aggregation Function (집합 함수)"
      ]
    },
    {
      "cell_type": "code",
      "execution_count": 43,
      "id": "28Wm7TIZHsyg",
      "metadata": {
        "colab": {
          "base_uri": "https://localhost:8080/",
          "height": 88
        },
        "id": "28Wm7TIZHsyg",
        "outputId": "ece744f5-e9b0-4209-e0f4-5411dbcdca97"
      },
      "outputs": [
        {
          "output_type": "execute_result",
          "data": {
            "text/plain": [
              "+------+------------------+\n",
              "|   Sex|          avg(Age)|\n",
              "+------+------------------+\n",
              "|female|27.915708812260537|\n",
              "|  male| 30.72664459161148|\n",
              "+------+------------------+"
            ],
            "text/html": [
              "<table border='1'>\n",
              "<tr><th>Sex</th><th>avg(Age)</th></tr>\n",
              "<tr><td>female</td><td>27.915708812260537</td></tr>\n",
              "<tr><td>male</td><td>30.72664459161148</td></tr>\n",
              "</table>\n"
            ]
          },
          "metadata": {},
          "execution_count": 43
        }
      ],
      "source": [
        "# 'Sex' 컬럼을 기준으로 그룹화 후, 각 그룹에서 모든 수치형 컬럼의 평균 계산\n",
        "# 특정 column 만 선택\n",
        "df.groupBy('Sex').mean().select(['Sex', 'avg(Age)'])"
      ]
    },
    {
      "cell_type": "code",
      "execution_count": 45,
      "id": "yKxxGMjVH0O4",
      "metadata": {
        "colab": {
          "base_uri": "https://localhost:8080/",
          "height": 88
        },
        "id": "yKxxGMjVH0O4",
        "outputId": "0e9fd87d-803c-4e91-b7d2-55edf1073c76"
      },
      "outputs": [
        {
          "output_type": "execute_result",
          "data": {
            "text/plain": [
              "+------+------------------+\n",
              "|   Sex|          avg(Age)|\n",
              "+------+------------------+\n",
              "|female|27.915708812260537|\n",
              "|  male| 30.72664459161148|\n",
              "+------+------------------+"
            ],
            "text/html": [
              "<table border='1'>\n",
              "<tr><th>Sex</th><th>avg(Age)</th></tr>\n",
              "<tr><td>female</td><td>27.915708812260537</td></tr>\n",
              "<tr><td>male</td><td>30.72664459161148</td></tr>\n",
              "</table>\n"
            ]
          },
          "metadata": {},
          "execution_count": 45
        }
      ],
      "source": [
        "# 특정 컬럼만 선택 후 그룹화\n",
        "df[['Sex', 'Age']].groupBy('Sex').mean()"
      ]
    },
    {
      "cell_type": "code",
      "execution_count": 46,
      "id": "YeYGPxhXIdrQ",
      "metadata": {
        "colab": {
          "base_uri": "https://localhost:8080/",
          "height": 88
        },
        "id": "YeYGPxhXIdrQ",
        "outputId": "5731e4d3-38b4-4408-bf5b-b6078a631a9a"
      },
      "outputs": [
        {
          "output_type": "execute_result",
          "data": {
            "text/plain": [
              "+------+--------+\n",
              "|   Sex|max(Age)|\n",
              "+------+--------+\n",
              "|female|    63.0|\n",
              "|  male|    80.0|\n",
              "+------+--------+"
            ],
            "text/html": [
              "<table border='1'>\n",
              "<tr><th>Sex</th><th>max(Age)</th></tr>\n",
              "<tr><td>female</td><td>63.0</td></tr>\n",
              "<tr><td>male</td><td>80.0</td></tr>\n",
              "</table>\n"
            ]
          },
          "metadata": {},
          "execution_count": 46
        }
      ],
      "source": [
        "# 성별 최고령자\n",
        "df[['Sex', 'Age']].groupBy('Sex').max()"
      ]
    },
    {
      "cell_type": "code",
      "execution_count": 47,
      "id": "KEKjgbhgLov_",
      "metadata": {
        "colab": {
          "base_uri": "https://localhost:8080/",
          "height": 133
        },
        "id": "KEKjgbhgLov_",
        "outputId": "8f701116-0d01-4f80-c34d-1ccc7db053ec"
      },
      "outputs": [
        {
          "output_type": "execute_result",
          "data": {
            "text/plain": [
              "+----+-----+\n",
              "|Port|count|\n",
              "+----+-----+\n",
              "|   Q|   77|\n",
              "|NULL|    2|\n",
              "|   C|  168|\n",
              "|   S|  644|\n",
              "+----+-----+"
            ],
            "text/html": [
              "<table border='1'>\n",
              "<tr><th>Port</th><th>count</th></tr>\n",
              "<tr><td>Q</td><td>77</td></tr>\n",
              "<tr><td>NULL</td><td>2</td></tr>\n",
              "<tr><td>C</td><td>168</td></tr>\n",
              "<tr><td>S</td><td>644</td></tr>\n",
              "</table>\n"
            ]
          },
          "metadata": {},
          "execution_count": 47
        }
      ],
      "source": [
        "# 출항 항구별 탑승객 수\n",
        "df.groupBy('Port').count()"
      ]
    },
    {
      "cell_type": "markdown",
      "id": "GWi4VCm6MJxF",
      "metadata": {
        "id": "GWi4VCm6MJxF"
      },
      "source": [
        "- PySpark DataFrame의 여러 컬럼에 대해 집계(aggregation) 연산을 동시에 수행"
      ]
    },
    {
      "cell_type": "code",
      "execution_count": 48,
      "id": "RMQXqOkBLtZS",
      "metadata": {
        "colab": {
          "base_uri": "https://localhost:8080/",
          "height": 65
        },
        "id": "RMQXqOkBLtZS",
        "outputId": "2eb0ffb5-58c8-4627-9e98-14101f26faa3"
      },
      "outputs": [
        {
          "output_type": "execute_result",
          "data": {
            "text/plain": [
              "+----------+-----------------+---------+\n",
              "|max(SibSp)|         avg(Age)|max(Fare)|\n",
              "+----------+-----------------+---------+\n",
              "|         8|29.69911764705882| 512.3292|\n",
              "+----------+-----------------+---------+"
            ],
            "text/html": [
              "<table border='1'>\n",
              "<tr><th>max(SibSp)</th><th>avg(Age)</th><th>max(Fare)</th></tr>\n",
              "<tr><td>8</td><td>29.69911764705882</td><td>512.3292</td></tr>\n",
              "</table>\n"
            ]
          },
          "metadata": {},
          "execution_count": 48
        }
      ],
      "source": [
        "# agg 함수 이용 (group by 내포)\n",
        "df.agg({\"Age\": \"mean\", \"Fare\": \"max\", \"SibSp\": \"max\"})"
      ]
    },
    {
      "cell_type": "markdown",
      "id": "ZlXZINEbaXcw",
      "metadata": {
        "id": "ZlXZINEbaXcw"
      },
      "source": [
        "### Parquet 데이터셋 읽기\n",
        "Parquet는 Apache Hadoop에서 널리 사용되는 컬럼 기반 저장 포맷으로, 대규모 데이터를 효율적으로 저장하고 분석하기 위해 설계되었습니다."
      ]
    },
    {
      "cell_type": "code",
      "execution_count": 49,
      "id": "g9gnOynEYw5i",
      "metadata": {
        "id": "g9gnOynEYw5i"
      },
      "outputs": [],
      "source": [
        "# Parquet 파일 경로 지정\n",
        "# Python 관련 질문과 답변을 포함한 작은 parqeut 파일\n",
        "file_path = \"/content/0000.parquet\"\n",
        "\n",
        "# Parquet 파일 로드\n",
        "df = spark.read.parquet(file_path)"
      ]
    },
    {
      "cell_type": "code",
      "execution_count": 51,
      "id": "VX8d5M73Y0Kf",
      "metadata": {
        "colab": {
          "base_uri": "https://localhost:8080/",
          "height": 156
        },
        "id": "VX8d5M73Y0Kf",
        "outputId": "0bb4ac61-c1eb-4f1a-f6b0-516369ba75cb"
      },
      "outputs": [
        {
          "output_type": "execute_result",
          "data": {
            "text/plain": [
              "+--------------------+--------------------+--------------------+--------------------+\n",
              "|              output|                text|               input|         instruction|\n",
              "+--------------------+--------------------+--------------------+--------------------+\n",
              "|```python\\ntasks ...|Help me set up my...|Setting up your d...|Help me set up my...|\n",
              "|```python\\nshoppi...|Create a shopping...|Creating a shoppi...|Create a shopping...|\n",
              "|```python\\ntotal_...|Calculate how muc...|Calculating weekl...|Calculate how muc...|\n",
              "|```python\\ntotal_...|Help me split the...|Splitting the bil...|Help me split the...|\n",
              "|```python\\nmovie_...|Organize my movie...|Organizing your m...|Organize my movie...|\n",
              "+--------------------+--------------------+--------------------+--------------------+"
            ],
            "text/html": [
              "<table border='1'>\n",
              "<tr><th>output</th><th>text</th><th>input</th><th>instruction</th></tr>\n",
              "<tr><td>```python\\ntasks ...</td><td>Help me set up my...</td><td>Setting up your d...</td><td>Help me set up my...</td></tr>\n",
              "<tr><td>```python\\nshoppi...</td><td>Create a shopping...</td><td>Creating a shoppi...</td><td>Create a shopping...</td></tr>\n",
              "<tr><td>```python\\ntotal_...</td><td>Calculate how muc...</td><td>Calculating weekl...</td><td>Calculate how muc...</td></tr>\n",
              "<tr><td>```python\\ntotal_...</td><td>Help me split the...</td><td>Splitting the bil...</td><td>Help me split the...</td></tr>\n",
              "<tr><td>```python\\nmovie_...</td><td>Organize my movie...</td><td>Organizing your m...</td><td>Organize my movie...</td></tr>\n",
              "</table>\n"
            ]
          },
          "metadata": {},
          "execution_count": 51
        }
      ],
      "source": [
        "# 데이터 확인\n",
        "df.limit(5)  # 상위 5개 행 출력"
      ]
    },
    {
      "cell_type": "code",
      "execution_count": 52,
      "id": "GN3JECCeL87x",
      "metadata": {
        "colab": {
          "base_uri": "https://localhost:8080/"
        },
        "id": "GN3JECCeL87x",
        "outputId": "b551d084-3fbe-4eb1-b15e-9c0fe4783fa4"
      },
      "outputs": [
        {
          "output_type": "stream",
          "name": "stdout",
          "text": [
            "root\n",
            " |-- output: string (nullable = true)\n",
            " |-- text: string (nullable = true)\n",
            " |-- input: string (nullable = true)\n",
            " |-- instruction: string (nullable = true)\n",
            "\n"
          ]
        }
      ],
      "source": [
        "df.printSchema()  # 데이터 스키마 출력"
      ]
    },
    {
      "cell_type": "code",
      "execution_count": 55,
      "id": "m3J9KRfDZaWe",
      "metadata": {
        "colab": {
          "base_uri": "https://localhost:8080/"
        },
        "id": "m3J9KRfDZaWe",
        "outputId": "7dfdd757-fac5-46c7-d073-33f0e4c95fe4"
      },
      "outputs": [
        {
          "output_type": "stream",
          "name": "stdout",
          "text": [
            "instruction: Help me set up my daily to-do list!\n",
            "input: Setting up your daily to-do list...\n",
            "output: ```python\n",
            "tasks = []\n",
            "while True:\n",
            "    task = input('Enter a task or type 'done' to finish: ')\n",
            "    if task == 'done': break\n",
            "    tasks.append(task)\n",
            "print(f'Your to-do list for today: {tasks}')\n",
            "```\n"
          ]
        }
      ],
      "source": [
        "# 첫 번째 행 가져오기\n",
        "first_row = df.first()\n",
        "\n",
        "# 각 컬럼의 값 출력\n",
        "print(\"instruction:\", first_row.instruction)\n",
        "print(\"input:\", first_row.input)\n",
        "print(\"output:\", first_row.output)"
      ]
    },
    {
      "cell_type": "markdown",
      "source": [
        "## JOIN\n",
        "기능: 두 데이터프레임 간에 공통 열(키)을 기준으로 행을 결합  \n",
        "조건: 반드시 두 데이터프레임에 공통 열이 있어야 하며, 이를 기준으로 매칭을 수행  \n",
        "\n",
        "형태:  \n",
        "\n",
        "    - INNER JOIN (기본값): 공통 열의 값이 매칭되는 행만 반환.  \n",
        "    - LEFT JOIN: 왼쪽 데이터프레임의 모든 행과, 매칭되는 오른쪽 데이터프레임의 행을 반환. 매칭되지 않으면 오른쪽 값은 null로 표시.  \n",
        "    - RIGHT JOIN: 오른쪽 데이터프레임의 모든 행과, 매칭되는 왼쪽 데이터프레임의 행을 반환.  \n",
        "    - FULL JOIN: 양쪽 데이터프레임의 모든 행을 포함하며, 매칭되지 않는 값은 null로 표시.\n",
        "\n",
        "<img src=\"https://i.imgur.com/MfGEduu.png\"  width=300 />"
      ],
      "metadata": {
        "id": "jRvBN69xekpV"
      },
      "id": "jRvBN69xekpV"
    },
    {
      "cell_type": "code",
      "execution_count": 56,
      "id": "TYfDZ0zVZbk-",
      "metadata": {
        "id": "TYfDZ0zVZbk-",
        "colab": {
          "base_uri": "https://localhost:8080/",
          "height": 110
        },
        "outputId": "12c59462-671f-44d3-90bc-3fba81cc5386"
      },
      "outputs": [
        {
          "output_type": "execute_result",
          "data": {
            "text/plain": [
              "+-------+---+--------------+-----------+\n",
              "|   Name|Age|Marital Status|       City|\n",
              "+-------+---+--------------+-----------+\n",
              "|  Alice| 34|        Single|   New York|\n",
              "|    Bob| 28|       Married|Los Angeles|\n",
              "|Charlie| 31|      Divorced|    Chigaco|\n",
              "+-------+---+--------------+-----------+"
            ],
            "text/html": [
              "<table border='1'>\n",
              "<tr><th>Name</th><th>Age</th><th>Marital Status</th><th>City</th></tr>\n",
              "<tr><td>Alice</td><td>34</td><td>Single</td><td>New York</td></tr>\n",
              "<tr><td>Bob</td><td>28</td><td>Married</td><td>Los Angeles</td></tr>\n",
              "<tr><td>Charlie</td><td>31</td><td>Divorced</td><td>Chigaco</td></tr>\n",
              "</table>\n"
            ]
          },
          "metadata": {},
          "execution_count": 56
        }
      ],
      "source": [
        "# 첫 번째 데이터셋 생성: 이름(Name), 나이(Age), 결혼 상태(Marital Status)를 포함한 데이터\n",
        "data1 = [\n",
        "    (\"Alice\", 34, \"Single\"),\n",
        "    (\"Bob\", 28, \"Married\"),\n",
        "    (\"Charlie\", 31, \"Divorced\"),\n",
        "    (\"Ronald\", 51, \"Divorced\"),\n",
        "]\n",
        "\n",
        "# 첫 번째 데이터셋의 열 이름 정의\n",
        "columns1 = [\"Name\", \"Age\", \"Marital Status\"]\n",
        "\n",
        "# PySpark 데이터프레임 생성 (df1)\n",
        "df1 = spark.createDataFrame(data1, columns1)\n",
        "\n",
        "# 두 번째 데이터셋 생성: 이름(Name)과 도시(City)를 포함한 데이터\n",
        "data2 = [\n",
        "    (\"Alice\",  \"New York\"),\n",
        "    (\"Bob\", \"Los Angeles\"),\n",
        "    (\"Charlie\", \"Chigaco\"),\n",
        "    (\"Trump\", \"San Francisco\")\n",
        "]\n",
        "\n",
        "# 두 번째 데이터셋의 열 이름 정의\n",
        "columns2 = [\"Name\", \"City\"]\n",
        "\n",
        "# PySpark 데이터프레임 생성 (df2)\n",
        "df2 = spark.createDataFrame(data2, columns2)\n",
        "\n",
        "# 두 데이터프레임(df1, df2)을 공통 열(Name)을 기준으로 내부 조인(inner join) 수행\n",
        "joined_df = df1.join(df2, on=\"Name\", how=\"inner\")\n",
        "joined_df"
      ]
    },
    {
      "cell_type": "code",
      "source": [
        "joined_df = df1.join(df2, on=\"Name\", how=\"left\")\n",
        "joined_df"
      ],
      "metadata": {
        "colab": {
          "base_uri": "https://localhost:8080/",
          "height": 133
        },
        "id": "AiPIuKgFhzoS",
        "outputId": "088d401a-0bdc-44f8-f127-cce1be82074b"
      },
      "id": "AiPIuKgFhzoS",
      "execution_count": 57,
      "outputs": [
        {
          "output_type": "execute_result",
          "data": {
            "text/plain": [
              "+-------+---+--------------+-----------+\n",
              "|   Name|Age|Marital Status|       City|\n",
              "+-------+---+--------------+-----------+\n",
              "|    Bob| 28|       Married|Los Angeles|\n",
              "|  Alice| 34|        Single|   New York|\n",
              "| Ronald| 51|      Divorced|       NULL|\n",
              "|Charlie| 31|      Divorced|    Chigaco|\n",
              "+-------+---+--------------+-----------+"
            ],
            "text/html": [
              "<table border='1'>\n",
              "<tr><th>Name</th><th>Age</th><th>Marital Status</th><th>City</th></tr>\n",
              "<tr><td>Bob</td><td>28</td><td>Married</td><td>Los Angeles</td></tr>\n",
              "<tr><td>Alice</td><td>34</td><td>Single</td><td>New York</td></tr>\n",
              "<tr><td>Ronald</td><td>51</td><td>Divorced</td><td>NULL</td></tr>\n",
              "<tr><td>Charlie</td><td>31</td><td>Divorced</td><td>Chigaco</td></tr>\n",
              "</table>\n"
            ]
          },
          "metadata": {},
          "execution_count": 57
        }
      ]
    },
    {
      "cell_type": "code",
      "source": [
        "joined_df = df1.join(df2, on=\"Name\", how=\"right\")\n",
        "joined_df"
      ],
      "metadata": {
        "colab": {
          "base_uri": "https://localhost:8080/",
          "height": 133
        },
        "id": "IddGoeuJh3kP",
        "outputId": "1334173a-b5f4-468a-8dde-be6333fd6401"
      },
      "id": "IddGoeuJh3kP",
      "execution_count": 58,
      "outputs": [
        {
          "output_type": "execute_result",
          "data": {
            "text/plain": [
              "+-------+----+--------------+-------------+\n",
              "|   Name| Age|Marital Status|         City|\n",
              "+-------+----+--------------+-------------+\n",
              "|    Bob|  28|       Married|  Los Angeles|\n",
              "|  Alice|  34|        Single|     New York|\n",
              "|  Trump|NULL|          NULL|San Francisco|\n",
              "|Charlie|  31|      Divorced|      Chigaco|\n",
              "+-------+----+--------------+-------------+"
            ],
            "text/html": [
              "<table border='1'>\n",
              "<tr><th>Name</th><th>Age</th><th>Marital Status</th><th>City</th></tr>\n",
              "<tr><td>Bob</td><td>28</td><td>Married</td><td>Los Angeles</td></tr>\n",
              "<tr><td>Alice</td><td>34</td><td>Single</td><td>New York</td></tr>\n",
              "<tr><td>Trump</td><td>NULL</td><td>NULL</td><td>San Francisco</td></tr>\n",
              "<tr><td>Charlie</td><td>31</td><td>Divorced</td><td>Chigaco</td></tr>\n",
              "</table>\n"
            ]
          },
          "metadata": {},
          "execution_count": 58
        }
      ]
    },
    {
      "cell_type": "code",
      "source": [
        "joined_df = df1.join(df2, on=\"Name\", how=\"full\")\n",
        "joined_df"
      ],
      "metadata": {
        "colab": {
          "base_uri": "https://localhost:8080/",
          "height": 156
        },
        "id": "g86M2xeYiBBP",
        "outputId": "4a37790b-293f-4903-c8f8-62911f93eb6e"
      },
      "id": "g86M2xeYiBBP",
      "execution_count": 59,
      "outputs": [
        {
          "output_type": "execute_result",
          "data": {
            "text/plain": [
              "+-------+----+--------------+-------------+\n",
              "|   Name| Age|Marital Status|         City|\n",
              "+-------+----+--------------+-------------+\n",
              "|  Alice|  34|        Single|     New York|\n",
              "|    Bob|  28|       Married|  Los Angeles|\n",
              "|Charlie|  31|      Divorced|      Chigaco|\n",
              "| Ronald|  51|      Divorced|         NULL|\n",
              "|  Trump|NULL|          NULL|San Francisco|\n",
              "+-------+----+--------------+-------------+"
            ],
            "text/html": [
              "<table border='1'>\n",
              "<tr><th>Name</th><th>Age</th><th>Marital Status</th><th>City</th></tr>\n",
              "<tr><td>Alice</td><td>34</td><td>Single</td><td>New York</td></tr>\n",
              "<tr><td>Bob</td><td>28</td><td>Married</td><td>Los Angeles</td></tr>\n",
              "<tr><td>Charlie</td><td>31</td><td>Divorced</td><td>Chigaco</td></tr>\n",
              "<tr><td>Ronald</td><td>51</td><td>Divorced</td><td>NULL</td></tr>\n",
              "<tr><td>Trump</td><td>NULL</td><td>NULL</td><td>San Francisco</td></tr>\n",
              "</table>\n"
            ]
          },
          "metadata": {},
          "execution_count": 59
        }
      ]
    },
    {
      "cell_type": "code",
      "source": [],
      "metadata": {
        "id": "jdyOVY3ofdA-"
      },
      "id": "jdyOVY3ofdA-",
      "execution_count": null,
      "outputs": []
    }
  ],
  "metadata": {
    "colab": {
      "provenance": []
    },
    "kernelspec": {
      "display_name": "Python 3 (ipykernel)",
      "language": "python",
      "name": "python3"
    },
    "language_info": {
      "codemirror_mode": {
        "name": "ipython",
        "version": 3
      },
      "file_extension": ".py",
      "mimetype": "text/x-python",
      "name": "python",
      "nbconvert_exporter": "python",
      "pygments_lexer": "ipython3",
      "version": "3.9.16"
    }
  },
  "nbformat": 4,
  "nbformat_minor": 5
}