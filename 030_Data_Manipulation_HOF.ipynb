{
  "cells": [
    {
      "cell_type": "markdown",
      "metadata": {
        "id": "4DS9tY_cliPp"
      },
      "source": [
        "## 데이터 조작 / 고차 함수 (High Order Function)\n",
        "\n",
        "이 노트북에서는 온라인 소매 판매 데이터로 작업하게 됩니다. `NULL` 값과 비표준 날짜 형식을 포함하는 데이터 열로 작업합니다.\n",
        "\n",
        "다음 쿼리를 실행하여 Spark SQL에서 null 값 및 타임스탬프를 사용하고 관리하는 방법에 대해 알아봅니다. 다음을 수행합니다.\n",
        "\n",
        "* 테이블 샘플\n",
        "* 배열에서 개별 값에 액세스\n",
        "* 월, 일 또는 연도와 같은 `DateType` 값의 일부에 액세스"
      ]
    },
    {
      "cell_type": "code",
      "execution_count": 3,
      "metadata": {
        "id": "fHuvynuZlYmk",
        "colab": {
          "base_uri": "https://localhost:8080/",
          "height": 224
        },
        "outputId": "e05dcf7e-fccb-4aa3-d4e8-0b011cfc1d3a"
      },
      "outputs": [
        {
          "output_type": "execute_result",
          "data": {
            "text/plain": [
              "<pyspark.sql.session.SparkSession at 0x78666fa32c10>"
            ],
            "text/html": [
              "\n",
              "            <div>\n",
              "                <p><b>SparkSession - in-memory</b></p>\n",
              "                \n",
              "        <div>\n",
              "            <p><b>SparkContext</b></p>\n",
              "\n",
              "            <p><a href=\"http://83b1b07d4e2e:4040\">Spark UI</a></p>\n",
              "\n",
              "            <dl>\n",
              "              <dt>Version</dt>\n",
              "                <dd><code>v3.5.5</code></dd>\n",
              "              <dt>Master</dt>\n",
              "                <dd><code>local[*]</code></dd>\n",
              "              <dt>AppName</dt>\n",
              "                <dd><code>DataManipulation</code></dd>\n",
              "            </dl>\n",
              "        </div>\n",
              "        \n",
              "            </div>\n",
              "        "
            ]
          },
          "metadata": {},
          "execution_count": 3
        }
      ],
      "source": [
        "from pyspark.sql import SparkSession\n",
        "\n",
        "spark = SparkSession.builder \\\n",
        "    .appName(\"DataManipulation\") \\\n",
        "    .config(\"spark.sql.repl.eagerEval.enabled\", True) \\\n",
        "    .getOrCreate()\n",
        "\n",
        "spark"
      ]
    },
    {
      "cell_type": "markdown",
      "metadata": {
        "id": "FR5ttozirWuq"
      },
      "source": [
        "### table 생성\n",
        "\n",
        "`OnlineRetail.csv`로 부터 `outdoorProductsRaw` Table을 생성합니다."
      ]
    },
    {
      "cell_type": "code",
      "execution_count": 4,
      "metadata": {
        "colab": {
          "base_uri": "https://localhost:8080/",
          "height": 25
        },
        "id": "c-pverYFrOiC",
        "outputId": "20bf605a-5852-4115-8d95-0ac4e8b9fbb1"
      },
      "outputs": [
        {
          "output_type": "execute_result",
          "data": {
            "text/plain": [
              "++\n",
              "||\n",
              "++\n",
              "++"
            ],
            "text/html": [
              "<table border='1'>\n",
              "<tr><th></th></tr>\n",
              "</table>\n"
            ]
          },
          "metadata": {},
          "execution_count": 4
        }
      ],
      "source": [
        "spark.sql(\"\"\"\n",
        "DROP TABLE IF EXISTS outdoorProductsRaw;\n",
        "\"\"\")\n",
        "\n",
        "spark.sql(\"\"\"\n",
        "CREATE TABLE outdoorProductsRaw USING csv OPTIONS (\n",
        "  path '/content/OnlineRetail.csv',\n",
        "  header \"true\"\n",
        ")\n",
        "\"\"\")"
      ]
    },
    {
      "cell_type": "code",
      "execution_count": 5,
      "metadata": {
        "colab": {
          "base_uri": "https://localhost:8080/",
          "height": 223
        },
        "id": "k9-HoIgorzS7",
        "outputId": "bd2c6939-dc98-446a-aaad-3ed65e3544bd"
      },
      "outputs": [
        {
          "output_type": "execute_result",
          "data": {
            "text/plain": [
              "+-----------+---------+-------+\n",
              "|   col_name|data_type|comment|\n",
              "+-----------+---------+-------+\n",
              "|  InvoiceNo|   string|   NULL|\n",
              "|  StockCode|   string|   NULL|\n",
              "|Description|   string|   NULL|\n",
              "|   Quantity|   string|   NULL|\n",
              "|InvoiceDate|   string|   NULL|\n",
              "|  UnitPrice|   string|   NULL|\n",
              "| CustomerID|   string|   NULL|\n",
              "|    Country|   string|   NULL|\n",
              "+-----------+---------+-------+"
            ],
            "text/html": [
              "<table border='1'>\n",
              "<tr><th>col_name</th><th>data_type</th><th>comment</th></tr>\n",
              "<tr><td>InvoiceNo</td><td>string</td><td>NULL</td></tr>\n",
              "<tr><td>StockCode</td><td>string</td><td>NULL</td></tr>\n",
              "<tr><td>Description</td><td>string</td><td>NULL</td></tr>\n",
              "<tr><td>Quantity</td><td>string</td><td>NULL</td></tr>\n",
              "<tr><td>InvoiceDate</td><td>string</td><td>NULL</td></tr>\n",
              "<tr><td>UnitPrice</td><td>string</td><td>NULL</td></tr>\n",
              "<tr><td>CustomerID</td><td>string</td><td>NULL</td></tr>\n",
              "<tr><td>Country</td><td>string</td><td>NULL</td></tr>\n",
              "</table>\n"
            ]
          },
          "metadata": {},
          "execution_count": 5
        }
      ],
      "source": [
        "spark.sql(\"DESCRIBE outdoorProductsRaw\")"
      ]
    },
    {
      "cell_type": "code",
      "execution_count": 6,
      "metadata": {
        "colab": {
          "base_uri": "https://localhost:8080/",
          "height": 156
        },
        "id": "W66NTPNur75T",
        "outputId": "82e82c26-7a6f-46f5-fcb7-1e2c4874810a"
      },
      "outputs": [
        {
          "output_type": "execute_result",
          "data": {
            "text/plain": [
              "+---------+---------+--------------------+--------+--------------+---------+----------+--------------+\n",
              "|InvoiceNo|StockCode|         Description|Quantity|   InvoiceDate|UnitPrice|CustomerID|       Country|\n",
              "+---------+---------+--------------------+--------+--------------+---------+----------+--------------+\n",
              "|   536365|   85123A|WHITE HANGING HEA...|       6|12/1/2010 8:26|     2.55|     17850|United Kingdom|\n",
              "|   536365|    71053| WHITE METAL LANTERN|       6|12/1/2010 8:26|     3.39|     17850|United Kingdom|\n",
              "|   536365|   84406B|CREAM CUPID HEART...|       8|12/1/2010 8:26|     2.75|     17850|United Kingdom|\n",
              "|   536365|   84029G|KNITTED UNION FLA...|       6|12/1/2010 8:26|     3.39|     17850|United Kingdom|\n",
              "|   536365|   84029E|RED WOOLLY HOTTIE...|       6|12/1/2010 8:26|     3.39|     17850|United Kingdom|\n",
              "+---------+---------+--------------------+--------+--------------+---------+----------+--------------+"
            ],
            "text/html": [
              "<table border='1'>\n",
              "<tr><th>InvoiceNo</th><th>StockCode</th><th>Description</th><th>Quantity</th><th>InvoiceDate</th><th>UnitPrice</th><th>CustomerID</th><th>Country</th></tr>\n",
              "<tr><td>536365</td><td>85123A</td><td>WHITE HANGING HEA...</td><td>6</td><td>12/1/2010 8:26</td><td>2.55</td><td>17850</td><td>United Kingdom</td></tr>\n",
              "<tr><td>536365</td><td>71053</td><td>WHITE METAL LANTERN</td><td>6</td><td>12/1/2010 8:26</td><td>3.39</td><td>17850</td><td>United Kingdom</td></tr>\n",
              "<tr><td>536365</td><td>84406B</td><td>CREAM CUPID HEART...</td><td>8</td><td>12/1/2010 8:26</td><td>2.75</td><td>17850</td><td>United Kingdom</td></tr>\n",
              "<tr><td>536365</td><td>84029G</td><td>KNITTED UNION FLA...</td><td>6</td><td>12/1/2010 8:26</td><td>3.39</td><td>17850</td><td>United Kingdom</td></tr>\n",
              "<tr><td>536365</td><td>84029E</td><td>RED WOOLLY HOTTIE...</td><td>6</td><td>12/1/2010 8:26</td><td>3.39</td><td>17850</td><td>United Kingdom</td></tr>\n",
              "</table>\n"
            ]
          },
          "metadata": {},
          "execution_count": 6
        }
      ],
      "source": [
        "spark.sql(\"SELECT * FROM outdoorProductsRaw\").limit(5)"
      ]
    },
    {
      "cell_type": "markdown",
      "metadata": {
        "id": "dtKXX4_5smNJ"
      },
      "source": [
        "### 테이블 샘플링\n",
        "SQL 언어로 샘플을 무작위 검색하는 일반적인 방법 `RAND()` 함수와 `LIMIT` 키워드를 사용하는 것 이지만 Spark SQL에는 대신 사용할 수 있는 `TABLESAMPLE`  내장 함수가 포함되어 있습니다.\n",
        "\n",
        "`TABLESAMPLE` 함수를 사용하면 여러 행 또는 데이터의 특정 비율을 반환할 수 있습니다.\n",
        "\n",
        "다음 셀에서 주어진 데이터 비율에 액세스하는 데 사용할 수 있음을 보여줍니다. 그러나 테이블 표시는 1,000행으로 제한됩니다. 요청한 데이터의 백분율이 1,000개 이상의 행을 반환하는 경우 처음 1,000개만 표시됩니다. 테이블의 2%를 표시하는 샘플을 'InvoiceDate'로 정렬합니다."
      ]
    },
    {
      "cell_type": "code",
      "execution_count": 7,
      "metadata": {
        "colab": {
          "base_uri": "https://localhost:8080/",
          "height": 156
        },
        "id": "-W1ieandsKKJ",
        "outputId": "b09bd5ba-2a9e-40da-cc6f-293ae0dfc6f7"
      },
      "outputs": [
        {
          "output_type": "execute_result",
          "data": {
            "text/plain": [
              "+---------+---------+--------------------+--------+---------------+---------+----------+--------------+\n",
              "|InvoiceNo|StockCode|         Description|Quantity|    InvoiceDate|UnitPrice|CustomerID|       Country|\n",
              "+---------+---------+--------------------+--------+---------------+---------+----------+--------------+\n",
              "|   547050|    22334|DINOSAUR PARTY BA...|       6|3/20/2011 12:02|     1.65|     17795|United Kingdom|\n",
              "|   543592|    84836|ZINC METAL HEART ...|      24|2/10/2011 11:57|     1.25|     17243|United Kingdom|\n",
              "|   566221|    22703|       PINK CAT BOWL|       3| 9/9/2011 16:13|     1.63|      NULL|United Kingdom|\n",
              "|  C553479|    23174|REGENCY SUGAR BOW...|      -2|5/17/2011 11:50|     4.15|     13098|United Kingdom|\n",
              "|   562417|    84637|KITCHEN FLOWER PO...|       1| 8/4/2011 16:32|     4.96|      NULL|United Kingdom|\n",
              "+---------+---------+--------------------+--------+---------------+---------+----------+--------------+"
            ],
            "text/html": [
              "<table border='1'>\n",
              "<tr><th>InvoiceNo</th><th>StockCode</th><th>Description</th><th>Quantity</th><th>InvoiceDate</th><th>UnitPrice</th><th>CustomerID</th><th>Country</th></tr>\n",
              "<tr><td>547050</td><td>22334</td><td>DINOSAUR PARTY BA...</td><td>6</td><td>3/20/2011 12:02</td><td>1.65</td><td>17795</td><td>United Kingdom</td></tr>\n",
              "<tr><td>543592</td><td>84836</td><td>ZINC METAL HEART ...</td><td>24</td><td>2/10/2011 11:57</td><td>1.25</td><td>17243</td><td>United Kingdom</td></tr>\n",
              "<tr><td>566221</td><td>22703</td><td>PINK CAT BOWL</td><td>3</td><td>9/9/2011 16:13</td><td>1.63</td><td>NULL</td><td>United Kingdom</td></tr>\n",
              "<tr><td>C553479</td><td>23174</td><td>REGENCY SUGAR BOW...</td><td>-2</td><td>5/17/2011 11:50</td><td>4.15</td><td>13098</td><td>United Kingdom</td></tr>\n",
              "<tr><td>562417</td><td>84637</td><td>KITCHEN FLOWER PO...</td><td>1</td><td>8/4/2011 16:32</td><td>4.96</td><td>NULL</td><td>United Kingdom</td></tr>\n",
              "</table>\n"
            ]
          },
          "metadata": {},
          "execution_count": 7
        }
      ],
      "source": [
        "# 일반적인 표준 SQL을 이용한 random sampling - 생성된 난수를 기준으로 데이터 정렬\n",
        "spark.sql(\"SELECT * FROM outdoorProductsRaw ORDER BY RAND() LIMIT 5;\")"
      ]
    },
    {
      "cell_type": "code",
      "execution_count": 8,
      "metadata": {
        "colab": {
          "base_uri": "https://localhost:8080/",
          "height": 156
        },
        "id": "ORavnLuvtWxI",
        "outputId": "ba0d46cf-1f19-402d-fee8-b1868c14f623"
      },
      "outputs": [
        {
          "output_type": "execute_result",
          "data": {
            "text/plain": [
              "+---------+---------+--------------------+--------+--------------+---------+----------+--------------+\n",
              "|InvoiceNo|StockCode|         Description|Quantity|   InvoiceDate|UnitPrice|CustomerID|       Country|\n",
              "+---------+---------+--------------------+--------+--------------+---------+----------+--------------+\n",
              "|   536365|   85123A|WHITE HANGING HEA...|       6|12/1/2010 8:26|     2.55|     17850|United Kingdom|\n",
              "|   536365|    71053| WHITE METAL LANTERN|       6|12/1/2010 8:26|     3.39|     17850|United Kingdom|\n",
              "|   536365|   84406B|CREAM CUPID HEART...|       8|12/1/2010 8:26|     2.75|     17850|United Kingdom|\n",
              "|   536365|   84029G|KNITTED UNION FLA...|       6|12/1/2010 8:26|     3.39|     17850|United Kingdom|\n",
              "|   536365|   84029E|RED WOOLLY HOTTIE...|       6|12/1/2010 8:26|     3.39|     17850|United Kingdom|\n",
              "+---------+---------+--------------------+--------+--------------+---------+----------+--------------+"
            ],
            "text/html": [
              "<table border='1'>\n",
              "<tr><th>InvoiceNo</th><th>StockCode</th><th>Description</th><th>Quantity</th><th>InvoiceDate</th><th>UnitPrice</th><th>CustomerID</th><th>Country</th></tr>\n",
              "<tr><td>536365</td><td>85123A</td><td>WHITE HANGING HEA...</td><td>6</td><td>12/1/2010 8:26</td><td>2.55</td><td>17850</td><td>United Kingdom</td></tr>\n",
              "<tr><td>536365</td><td>71053</td><td>WHITE METAL LANTERN</td><td>6</td><td>12/1/2010 8:26</td><td>3.39</td><td>17850</td><td>United Kingdom</td></tr>\n",
              "<tr><td>536365</td><td>84406B</td><td>CREAM CUPID HEART...</td><td>8</td><td>12/1/2010 8:26</td><td>2.75</td><td>17850</td><td>United Kingdom</td></tr>\n",
              "<tr><td>536365</td><td>84029G</td><td>KNITTED UNION FLA...</td><td>6</td><td>12/1/2010 8:26</td><td>3.39</td><td>17850</td><td>United Kingdom</td></tr>\n",
              "<tr><td>536365</td><td>84029E</td><td>RED WOOLLY HOTTIE...</td><td>6</td><td>12/1/2010 8:26</td><td>3.39</td><td>17850</td><td>United Kingdom</td></tr>\n",
              "</table>\n"
            ]
          },
          "metadata": {},
          "execution_count": 8
        }
      ],
      "source": [
        "# TABLESAMPLE 내장함수 사용 - sample 갯수 지정\n",
        "spark.sql(\"SELECT * FROM outdoorProductsRaw TABLESAMPLE (5 ROWS);\")"
      ]
    },
    {
      "cell_type": "code",
      "execution_count": 9,
      "metadata": {
        "colab": {
          "base_uri": "https://localhost:8080/",
          "height": 511
        },
        "id": "rjF9Pmcdt2uV",
        "outputId": "f3cbd64b-6af7-4c04-f4f3-53398b7f1e72"
      },
      "outputs": [
        {
          "output_type": "execute_result",
          "data": {
            "text/plain": [
              "+---------+---------+--------------------+--------+---------------+---------+----------+--------------+\n",
              "|InvoiceNo|StockCode|         Description|Quantity|    InvoiceDate|UnitPrice|CustomerID|       Country|\n",
              "+---------+---------+--------------------+--------+---------------+---------+----------+--------------+\n",
              "|   540564|    22617|mouldy, thrown away.|   -2600|1/10/2011 10:36|        0|      NULL|United Kingdom|\n",
              "|   540566|    22148|EASTER CRAFT 4 CH...|       2|1/10/2011 10:58|     1.95|     17811|United Kingdom|\n",
              "|   540604|    84879|ASSORTED COLOUR B...|      16|1/10/2011 11:38|     1.69|     15326|United Kingdom|\n",
              "|   540604|    21871| SAVE THE PLANET MUG|      12|1/10/2011 11:38|     1.25|     15326|United Kingdom|\n",
              "|   540630|    37500|TEA TIME TEAPOT I...|       2|1/10/2011 11:59|     9.95|     17849|United Kingdom|\n",
              "|   540638|   72038P|             damages|    -990|1/10/2011 12:14|        0|      NULL|United Kingdom|\n",
              "|   540639|    21787|RAIN PONCHO RETRO...|      24|1/10/2011 12:28|     0.85|     13107|United Kingdom|\n",
              "|   540639|    21877| HOME SWEET HOME MUG|      12|1/10/2011 12:28|     1.25|     13107|United Kingdom|\n",
              "|   540642|    22977|DOLLY GIRL CHILDR...|      24|1/10/2011 13:22|     1.25|     12681|        France|\n",
              "|   540642|    22423|REGENCY CAKESTAND...|       1|1/10/2011 13:22|    12.75|     12681|        France|\n",
              "|   540642|    22551|PLASTERS IN TIN S...|      24|1/10/2011 13:22|     1.65|     12681|        France|\n",
              "|   540644|   85099B|JUMBO BAG RED RET...|      30|1/10/2011 14:16|     1.95|     16303|United Kingdom|\n",
              "|   540644|    22569|FELTCRAFT CUSHION...|       4|1/10/2011 14:16|     3.75|     16303|United Kingdom|\n",
              "|   540646|   85049E|SCANDINAVIAN REDS...|       2|1/10/2011 14:32|     2.51|      NULL|United Kingdom|\n",
              "|   540646|    22322|BIRD DECORATION G...|       8|1/10/2011 14:32|     0.81|      NULL|United Kingdom|\n",
              "|   540646|    21992|VINTAGE PAISLEY S...|       7|1/10/2011 14:32|     2.51|      NULL|United Kingdom|\n",
              "|   540646|    22343|PARTY PIZZA DISH ...|       5|1/10/2011 14:32|     0.43|      NULL|United Kingdom|\n",
              "|   540646|    21700|BIG DOUGHNUT FRID...|       1|1/10/2011 14:32|     8.47|      NULL|United Kingdom|\n",
              "|   540646|    20733|GOLD MINI TAPE ME...|       2|1/10/2011 14:32|     0.85|      NULL|United Kingdom|\n",
              "|   540646|   47594A|CAROUSEL DESIGN W...|       2|1/10/2011 14:32|     1.66|      NULL|United Kingdom|\n",
              "+---------+---------+--------------------+--------+---------------+---------+----------+--------------+\n",
              "only showing top 20 rows"
            ],
            "text/html": [
              "<table border='1'>\n",
              "<tr><th>InvoiceNo</th><th>StockCode</th><th>Description</th><th>Quantity</th><th>InvoiceDate</th><th>UnitPrice</th><th>CustomerID</th><th>Country</th></tr>\n",
              "<tr><td>540564</td><td>22617</td><td>mouldy, thrown away.</td><td>-2600</td><td>1/10/2011 10:36</td><td>0</td><td>NULL</td><td>United Kingdom</td></tr>\n",
              "<tr><td>540566</td><td>22148</td><td>EASTER CRAFT 4 CH...</td><td>2</td><td>1/10/2011 10:58</td><td>1.95</td><td>17811</td><td>United Kingdom</td></tr>\n",
              "<tr><td>540604</td><td>84879</td><td>ASSORTED COLOUR B...</td><td>16</td><td>1/10/2011 11:38</td><td>1.69</td><td>15326</td><td>United Kingdom</td></tr>\n",
              "<tr><td>540604</td><td>21871</td><td>SAVE THE PLANET MUG</td><td>12</td><td>1/10/2011 11:38</td><td>1.25</td><td>15326</td><td>United Kingdom</td></tr>\n",
              "<tr><td>540630</td><td>37500</td><td>TEA TIME TEAPOT I...</td><td>2</td><td>1/10/2011 11:59</td><td>9.95</td><td>17849</td><td>United Kingdom</td></tr>\n",
              "<tr><td>540638</td><td>72038P</td><td>damages</td><td>-990</td><td>1/10/2011 12:14</td><td>0</td><td>NULL</td><td>United Kingdom</td></tr>\n",
              "<tr><td>540639</td><td>21787</td><td>RAIN PONCHO RETRO...</td><td>24</td><td>1/10/2011 12:28</td><td>0.85</td><td>13107</td><td>United Kingdom</td></tr>\n",
              "<tr><td>540639</td><td>21877</td><td>HOME SWEET HOME MUG</td><td>12</td><td>1/10/2011 12:28</td><td>1.25</td><td>13107</td><td>United Kingdom</td></tr>\n",
              "<tr><td>540642</td><td>22977</td><td>DOLLY GIRL CHILDR...</td><td>24</td><td>1/10/2011 13:22</td><td>1.25</td><td>12681</td><td>France</td></tr>\n",
              "<tr><td>540642</td><td>22423</td><td>REGENCY CAKESTAND...</td><td>1</td><td>1/10/2011 13:22</td><td>12.75</td><td>12681</td><td>France</td></tr>\n",
              "<tr><td>540642</td><td>22551</td><td>PLASTERS IN TIN S...</td><td>24</td><td>1/10/2011 13:22</td><td>1.65</td><td>12681</td><td>France</td></tr>\n",
              "<tr><td>540644</td><td>85099B</td><td>JUMBO BAG RED RET...</td><td>30</td><td>1/10/2011 14:16</td><td>1.95</td><td>16303</td><td>United Kingdom</td></tr>\n",
              "<tr><td>540644</td><td>22569</td><td>FELTCRAFT CUSHION...</td><td>4</td><td>1/10/2011 14:16</td><td>3.75</td><td>16303</td><td>United Kingdom</td></tr>\n",
              "<tr><td>540646</td><td>85049E</td><td>SCANDINAVIAN REDS...</td><td>2</td><td>1/10/2011 14:32</td><td>2.51</td><td>NULL</td><td>United Kingdom</td></tr>\n",
              "<tr><td>540646</td><td>22322</td><td>BIRD DECORATION G...</td><td>8</td><td>1/10/2011 14:32</td><td>0.81</td><td>NULL</td><td>United Kingdom</td></tr>\n",
              "<tr><td>540646</td><td>21992</td><td>VINTAGE PAISLEY S...</td><td>7</td><td>1/10/2011 14:32</td><td>2.51</td><td>NULL</td><td>United Kingdom</td></tr>\n",
              "<tr><td>540646</td><td>22343</td><td>PARTY PIZZA DISH ...</td><td>5</td><td>1/10/2011 14:32</td><td>0.43</td><td>NULL</td><td>United Kingdom</td></tr>\n",
              "<tr><td>540646</td><td>21700</td><td>BIG DOUGHNUT FRID...</td><td>1</td><td>1/10/2011 14:32</td><td>8.47</td><td>NULL</td><td>United Kingdom</td></tr>\n",
              "<tr><td>540646</td><td>20733</td><td>GOLD MINI TAPE ME...</td><td>2</td><td>1/10/2011 14:32</td><td>0.85</td><td>NULL</td><td>United Kingdom</td></tr>\n",
              "<tr><td>540646</td><td>47594A</td><td>CAROUSEL DESIGN W...</td><td>2</td><td>1/10/2011 14:32</td><td>1.66</td><td>NULL</td><td>United Kingdom</td></tr>\n",
              "</table>\n",
              "only showing top 20 rows\n"
            ]
          },
          "metadata": {},
          "execution_count": 9
        }
      ],
      "source": [
        "#  TABLESAMPLE 내장함수 사용 - sample 비율 지정\n",
        "spark.sql(\"SELECT * FROM outdoorProductsRaw TABLESAMPLE (2 PERCENT) ORDER BY  InvoiceDate;\")"
      ]
    },
    {
      "cell_type": "markdown",
      "metadata": {
        "id": "6rG9NMmyuN_s"
      },
      "source": [
        "### null value Check\n",
        "\n",
        "이 셀을 실행하여 테이블의 `Description` 열에 있는 `NULL` 값의 수를 확인합니다."
      ]
    },
    {
      "cell_type": "code",
      "execution_count": 10,
      "metadata": {
        "colab": {
          "base_uri": "https://localhost:8080/",
          "height": 65
        },
        "id": "1kG1WIPDuGVz",
        "outputId": "2d49404b-f146-471c-dea7-69228db09b58"
      },
      "outputs": [
        {
          "output_type": "execute_result",
          "data": {
            "text/plain": [
              "+--------+\n",
              "|count(1)|\n",
              "+--------+\n",
              "|    1454|\n",
              "+--------+"
            ],
            "text/html": [
              "<table border='1'>\n",
              "<tr><th>count(1)</th></tr>\n",
              "<tr><td>1454</td></tr>\n",
              "</table>\n"
            ]
          },
          "metadata": {},
          "execution_count": 10
        }
      ],
      "source": [
        "# Spark SQL을 사용하여 outdoorProductsRaw 테이블에서 Description 컬럼에 NULL 값이 있는 행의 개수를 계산\n",
        "spark.sql(\"SELECT COUNT(*) FROM outdoorProductsRaw WHERE Description IS NULL;\")"
      ]
    },
    {
      "cell_type": "markdown",
      "metadata": {
        "id": "_SRFyxm-uhsW"
      },
      "source": [
        "### temporary view 생성\n",
        "\n",
        "다음 셀은 temporary view인 `outdoorProducts`를 만들면서 Null 값을 가진 Description 을 '기타' 로 채워 넣습니다.\n",
        "\n",
        "**COALESCE**  \n",
        "`COALESCE`는 입력된 값들을 왼쪽에서부터 순서대로 확인하며 첫 번째로 Null이 아닌 값을 반환합니다. 모든 값이 Null인 경우, 최종 결과는 Null이 됩니다.  \n",
        "따라서  `COALESCE(Description, \"기타\")`는  `Description` 열의 모든 `NULL` 값을 `\"기타\"`로 교체합니다."
      ]
    },
    {
      "cell_type": "code",
      "execution_count": 11,
      "metadata": {
        "colab": {
          "base_uri": "https://localhost:8080/",
          "height": 65
        },
        "id": "1_gKNO5e1ViD",
        "outputId": "ca821815-0ba8-492a-cab0-3d822b47fc54"
      },
      "outputs": [
        {
          "output_type": "execute_result",
          "data": {
            "text/plain": [
              "+------+\n",
              "|result|\n",
              "+------+\n",
              "|     A|\n",
              "+------+"
            ],
            "text/html": [
              "<table border='1'>\n",
              "<tr><th>result</th></tr>\n",
              "<tr><td>A</td></tr>\n",
              "</table>\n"
            ]
          },
          "metadata": {},
          "execution_count": 11
        }
      ],
      "source": [
        "# COALESCE 함수로 첫 번째 NULL이 아닌 값을 반환\n",
        "spark.sql(\"SELECT COALESCE(NULL, NULL, 'A', 'B') AS result;\")"
      ]
    },
    {
      "cell_type": "code",
      "execution_count": 12,
      "metadata": {
        "colab": {
          "base_uri": "https://localhost:8080/",
          "height": 156
        },
        "id": "eVnHBmNRvEsC",
        "outputId": "d9233d09-626f-402f-c6a1-1c5477180faf"
      },
      "outputs": [
        {
          "output_type": "execute_result",
          "data": {
            "text/plain": [
              "+---------+---------+-----------+--------+---------------+\n",
              "|InvoiceNo|StockCode|Description|Quantity|    InvoiceDate|\n",
              "+---------+---------+-----------+--------+---------------+\n",
              "|   536414|    22139|       기타|      56|12/1/2010 11:52|\n",
              "|   536545|    21134|       기타|       1|12/1/2010 14:32|\n",
              "|   536546|    22145|       기타|       1|12/1/2010 14:33|\n",
              "|   536547|    37509|       기타|       1|12/1/2010 14:33|\n",
              "|   536549|   85226A|       기타|       1|12/1/2010 14:34|\n",
              "+---------+---------+-----------+--------+---------------+"
            ],
            "text/html": [
              "<table border='1'>\n",
              "<tr><th>InvoiceNo</th><th>StockCode</th><th>Description</th><th>Quantity</th><th>InvoiceDate</th></tr>\n",
              "<tr><td>536414</td><td>22139</td><td>기타</td><td>56</td><td>12/1/2010 11:52</td></tr>\n",
              "<tr><td>536545</td><td>21134</td><td>기타</td><td>1</td><td>12/1/2010 14:32</td></tr>\n",
              "<tr><td>536546</td><td>22145</td><td>기타</td><td>1</td><td>12/1/2010 14:33</td></tr>\n",
              "<tr><td>536547</td><td>37509</td><td>기타</td><td>1</td><td>12/1/2010 14:33</td></tr>\n",
              "<tr><td>536549</td><td>85226A</td><td>기타</td><td>1</td><td>12/1/2010 14:34</td></tr>\n",
              "</table>\n"
            ]
          },
          "metadata": {},
          "execution_count": 12
        }
      ],
      "source": [
        "spark.sql(\"\"\"\n",
        "CREATE OR REPLACE TEMPORARY VIEW outdoorProducts AS\n",
        "SELECT\n",
        "  InvoiceNo,\n",
        "  StockCode,\n",
        "  COALESCE(Description, \"기타\") AS Description,  --  Description 컬럼에 NULL 값이 있는 경우 \"기타\"로 대체\n",
        "  Quantity,\n",
        "  InvoiceDate\n",
        "FROM outdoorProductsRaw;\n",
        "\"\"\")\n",
        "\n",
        "spark.sql(\"SELECT * FROM outdoorProducts WHERE Description = '기타' LIMIT 5;\")"
      ]
    },
    {
      "cell_type": "markdown",
      "metadata": {
        "id": "wrrSc6TV1x_1"
      },
      "source": [
        "날짜에는 월 및 연도에 대한 표준 자릿수가 없습니다. 예를 들어 '12/1/11'에는 두 자리 월과 한 자리 일이 있고 '1/10/11'에는 한 자리 월과 두 자리 일이 있습니다. 문자열을 날짜로 변환하는 형식을 지정하는 것은 쉽지만 형식은 테이블 전체에서 일관되어야 합니다. 날짜의 모든 구성 요소를 분리하고 시간 값을 완전히 삭제하여 이 문제에 대한 수정을 시도할 것입니다.\n",
        "\n",
        "**`SPLIT`**\n",
        "\n",
        "이 명령은 지정된 컬럼의 문자열 값을 분할하고 **배열**을 반환합니다.  배열의 첫 번째 값은 월입니다. 첫 번째 값을 월로 가져오고 싶기 때문에 `SPLIT(InvoiceDate, \"/\")[0]`과 같이 값을 표시하고 **`month`** 열의 이름을 바꿉니다. 요일은 두 번째 값이고 인덱스는 1입니다.  \n",
        "\n",
        "`split(InvoiceDate, /, -1)` : `/` - 구분자, `-1` - 개수 제한 없이 분리"
      ]
    },
    {
      "cell_type": "code",
      "execution_count": 13,
      "metadata": {
        "colab": {
          "base_uri": "https://localhost:8080/",
          "height": 156
        },
        "id": "4k8MlJpBvUe5",
        "outputId": "19e51554-8931-4f7e-b98b-74d7073d7cb1"
      },
      "outputs": [
        {
          "output_type": "execute_result",
          "data": {
            "text/plain": [
              "+---------+---------+--------------------+--------+-------------------------+\n",
              "|InvoiceNo|StockCode|         Description|Quantity|split(InvoiceDate, /, -1)|\n",
              "+---------+---------+--------------------+--------+-------------------------+\n",
              "|   536365|   85123A|WHITE HANGING HEA...|       6|       [12, 1, 2010 8:26]|\n",
              "|   536365|    71053| WHITE METAL LANTERN|       6|       [12, 1, 2010 8:26]|\n",
              "|   536365|   84406B|CREAM CUPID HEART...|       8|       [12, 1, 2010 8:26]|\n",
              "|   536365|   84029G|KNITTED UNION FLA...|       6|       [12, 1, 2010 8:26]|\n",
              "|   536365|   84029E|RED WOOLLY HOTTIE...|       6|       [12, 1, 2010 8:26]|\n",
              "+---------+---------+--------------------+--------+-------------------------+"
            ],
            "text/html": [
              "<table border='1'>\n",
              "<tr><th>InvoiceNo</th><th>StockCode</th><th>Description</th><th>Quantity</th><th>split(InvoiceDate, /, -1)</th></tr>\n",
              "<tr><td>536365</td><td>85123A</td><td>WHITE HANGING HEA...</td><td>6</td><td>[12, 1, 2010 8:26]</td></tr>\n",
              "<tr><td>536365</td><td>71053</td><td>WHITE METAL LANTERN</td><td>6</td><td>[12, 1, 2010 8:26]</td></tr>\n",
              "<tr><td>536365</td><td>84406B</td><td>CREAM CUPID HEART...</td><td>8</td><td>[12, 1, 2010 8:26]</td></tr>\n",
              "<tr><td>536365</td><td>84029G</td><td>KNITTED UNION FLA...</td><td>6</td><td>[12, 1, 2010 8:26]</td></tr>\n",
              "<tr><td>536365</td><td>84029E</td><td>RED WOOLLY HOTTIE...</td><td>6</td><td>[12, 1, 2010 8:26]</td></tr>\n",
              "</table>\n"
            ]
          },
          "metadata": {},
          "execution_count": 13
        }
      ],
      "source": [
        "# InvoiceDate 를 배열로 분리\n",
        "spark.sql(\"\"\"\n",
        "CREATE OR REPLACE TEMPORARY VIEW outdoorProducts AS\n",
        "SELECT\n",
        "  InvoiceNo,\n",
        "  StockCode,\n",
        "  COALESCE(Description, \"기타\") AS Description,\n",
        "  Quantity,\n",
        "  SPLIT(InvoiceDate, \"/\")\n",
        "FROM outdoorProductsRaw;\n",
        "\"\"\")\n",
        "\n",
        "spark.sql(\"SELECT * FROM outdoorProducts LIMIT 5;\")"
      ]
    },
    {
      "cell_type": "code",
      "execution_count": 14,
      "metadata": {
        "colab": {
          "base_uri": "https://localhost:8080/",
          "height": 156
        },
        "id": "NzdK2yUWvwpC",
        "outputId": "3a1135dc-d81a-4721-8021-a2c7015c44bc"
      },
      "outputs": [
        {
          "output_type": "execute_result",
          "data": {
            "text/plain": [
              "+---------+---------+--------------------+--------+-----+---+---------+\n",
              "|InvoiceNo|StockCode|         Description|Quantity|month|day|     year|\n",
              "+---------+---------+--------------------+--------+-----+---+---------+\n",
              "|   536365|   85123A|WHITE HANGING HEA...|       6|   12|  1|2010 8:26|\n",
              "|   536365|    71053| WHITE METAL LANTERN|       6|   12|  1|2010 8:26|\n",
              "|   536365|   84406B|CREAM CUPID HEART...|       8|   12|  1|2010 8:26|\n",
              "|   536365|   84029G|KNITTED UNION FLA...|       6|   12|  1|2010 8:26|\n",
              "|   536365|   84029E|RED WOOLLY HOTTIE...|       6|   12|  1|2010 8:26|\n",
              "+---------+---------+--------------------+--------+-----+---+---------+"
            ],
            "text/html": [
              "<table border='1'>\n",
              "<tr><th>InvoiceNo</th><th>StockCode</th><th>Description</th><th>Quantity</th><th>month</th><th>day</th><th>year</th></tr>\n",
              "<tr><td>536365</td><td>85123A</td><td>WHITE HANGING HEA...</td><td>6</td><td>12</td><td>1</td><td>2010 8:26</td></tr>\n",
              "<tr><td>536365</td><td>71053</td><td>WHITE METAL LANTERN</td><td>6</td><td>12</td><td>1</td><td>2010 8:26</td></tr>\n",
              "<tr><td>536365</td><td>84406B</td><td>CREAM CUPID HEART...</td><td>8</td><td>12</td><td>1</td><td>2010 8:26</td></tr>\n",
              "<tr><td>536365</td><td>84029G</td><td>KNITTED UNION FLA...</td><td>6</td><td>12</td><td>1</td><td>2010 8:26</td></tr>\n",
              "<tr><td>536365</td><td>84029E</td><td>RED WOOLLY HOTTIE...</td><td>6</td><td>12</td><td>1</td><td>2010 8:26</td></tr>\n",
              "</table>\n"
            ]
          },
          "metadata": {},
          "execution_count": 14
        }
      ],
      "source": [
        "# invoiceDate를 월, 일, 연으로 분리\n",
        "spark.sql(\"\"\"\n",
        "CREATE OR REPLACE TEMPORARY VIEW outdoorProducts AS\n",
        "SELECT\n",
        "  InvoiceNo,\n",
        "  StockCode,\n",
        "  COALESCE(Description, \"Misc\") AS Description,\n",
        "  Quantity,\n",
        "  SPLIT(InvoiceDate, \"/\")[0] month,\n",
        "  SPLIT(InvoiceDate, \"/\")[1] day,\n",
        "  SPLIT(InvoiceDate, \"/\")[2] year\n",
        "FROM\n",
        "  outdoorProductsRaw;\n",
        "\"\"\")\n",
        "\n",
        "spark.sql(\"SELECT * FROM outdoorProducts LIMIT 5;\")"
      ]
    },
    {
      "cell_type": "markdown",
      "metadata": {
        "id": "k_jUGZne5NdA"
      },
      "source": [
        "`InvoiceDate` 열은 날짜와 시간을 포함하는 문자열이므로, 날짜의 각 부분은 슬래시로 구분되지만 날짜와 시간 사이에는 공백만 있습니다. 공백 구분 기호에서 문자열을 분할하는 **nested** `SPLIT` 함수를 포함시켜 연도를 시간으로부터 분리합니다.\n"
      ]
    },
    {
      "cell_type": "code",
      "execution_count": 15,
      "metadata": {
        "colab": {
          "base_uri": "https://localhost:8080/",
          "height": 156
        },
        "id": "DqLaH-PMwFcT",
        "outputId": "da612b21-f59c-4a53-b2fd-2a05ba277a6b"
      },
      "outputs": [
        {
          "output_type": "execute_result",
          "data": {
            "text/plain": [
              "+---------+---------+--------------------+--------+-----+---+----+\n",
              "|InvoiceNo|StockCode|         Description|Quantity|month|day|year|\n",
              "+---------+---------+--------------------+--------+-----+---+----+\n",
              "|   536365|   85123A|WHITE HANGING HEA...|       6|   12|  1|2010|\n",
              "|   536365|    71053| WHITE METAL LANTERN|       6|   12|  1|2010|\n",
              "|   536365|   84406B|CREAM CUPID HEART...|       8|   12|  1|2010|\n",
              "|   536365|   84029G|KNITTED UNION FLA...|       6|   12|  1|2010|\n",
              "|   536365|   84029E|RED WOOLLY HOTTIE...|       6|   12|  1|2010|\n",
              "+---------+---------+--------------------+--------+-----+---+----+"
            ],
            "text/html": [
              "<table border='1'>\n",
              "<tr><th>InvoiceNo</th><th>StockCode</th><th>Description</th><th>Quantity</th><th>month</th><th>day</th><th>year</th></tr>\n",
              "<tr><td>536365</td><td>85123A</td><td>WHITE HANGING HEA...</td><td>6</td><td>12</td><td>1</td><td>2010</td></tr>\n",
              "<tr><td>536365</td><td>71053</td><td>WHITE METAL LANTERN</td><td>6</td><td>12</td><td>1</td><td>2010</td></tr>\n",
              "<tr><td>536365</td><td>84406B</td><td>CREAM CUPID HEART...</td><td>8</td><td>12</td><td>1</td><td>2010</td></tr>\n",
              "<tr><td>536365</td><td>84029G</td><td>KNITTED UNION FLA...</td><td>6</td><td>12</td><td>1</td><td>2010</td></tr>\n",
              "<tr><td>536365</td><td>84029E</td><td>RED WOOLLY HOTTIE...</td><td>6</td><td>12</td><td>1</td><td>2010</td></tr>\n",
              "</table>\n"
            ]
          },
          "metadata": {},
          "execution_count": 15
        }
      ],
      "source": [
        "# invoiceDate를 월, 일, 연으로 구분 - 시간 분리\n",
        "spark.sql(\"\"\"\n",
        "CREATE OR REPLACE TEMPORARY VIEW outdoorProducts AS\n",
        "SELECT\n",
        "  InvoiceNo,\n",
        "  StockCode,\n",
        "  COALESCE(Description, \"Misc\") AS Description,\n",
        "  Quantity,\n",
        "  SPLIT(InvoiceDate, \"/\")[0] month,\n",
        "  SPLIT(InvoiceDate, \"/\")[1] day,\n",
        "  SPLIT(SPLIT(InvoiceDate, \"/\")[2], \" \")[0] year\n",
        "FROM\n",
        "  outdoorProductsRaw;\n",
        "\"\"\")\n",
        "\n",
        "spark.sql(\"SELECT * FROM outdoorProducts LIMIT 5;\")"
      ]
    },
    {
      "cell_type": "markdown",
      "metadata": {
        "id": "WU3Ewba99Erd"
      },
      "source": [
        "## Higher-order functions (고차 함수) - TEXT\n",
        "\n",
        "Spark SQL의 고차 함수를 사용하면 복잡한 데이터 유형으로 직접 작업할 수 있습니다. 계층적 데이터(hierarchical data)로 작업할 때 레코드는 배열 또는 맵 유형 개체로 자주 저장됩니다.  \n",
        "\n",
        "이 노트북에서는 고차 함수(`TRANSFORM`, `FILTER`, `EXISTS`)를 문자열 배열에 적용합니다."
      ]
    },
    {
      "cell_type": "markdown",
      "metadata": {
        "id": "0dM5PDTq9NCQ"
      },
      "source": [
        "### Filter\n",
        "\n",
        "[Filter](https://spark.apache.org/docs/latest/api/sql/#filter)를 사용하면 배열의 값이 특정 조건을 충족하는지 여부에 따라 새 열을 만들 수 있습니다.\n",
        "\n",
        "다음의 예는 InvoiceDate에서 특정 연도(2011)가 포함된 데이터를 필터링합니다.\n",
        "이를 통해 연도 조건에 따라 데이터를 분리하고 가공할 수 있습니다.  \n",
        "\n",
        "`FILTER(SPLIT(InvoiceDate, \"/\"), part -> part LIKE '%2011%') AS FilteredYear`\n",
        "\n",
        "- `SPLIT(InvoiceDate, \"/\")` : 입력 배열 <br>\n",
        "- `part` : 반복자 변수의 이름. 이 이름을 선택한 다음 람다 함수에서 사용. 배열을 반복하면서 각 값을 한 번에 하나씩 함수로 순환.<br>\n",
        "- *`->` :  함수의 시작. <br>\n",
        "- `part LIKE '%2011%` : 이것이 함수입니다. 각 값에 `\"2011\"` 이 **포함되어 있는지** 확인하고 참이면 새 열 `FilteredYear`로 필터링됩니다."
      ]
    },
    {
      "cell_type": "code",
      "execution_count": 16,
      "metadata": {
        "colab": {
          "base_uri": "https://localhost:8080/",
          "height": 156
        },
        "id": "Wl5iwLJx9exa",
        "outputId": "e4fee4d8-e34b-4d22-dc56-d4ccf7373cb6"
      },
      "outputs": [
        {
          "output_type": "execute_result",
          "data": {
            "text/plain": [
              "+---------+---------+--------------------+--------+------------------+------------+\n",
              "|InvoiceNo|StockCode|         Description|Quantity|  InvoiceDateArray|FilteredYear|\n",
              "+---------+---------+--------------------+--------+------------------+------------+\n",
              "|   539993|    22386|JUMBO BAG PINK PO...|      10|[1, 4, 2011 10:00]|[2011 10:00]|\n",
              "|   539993|    21499|  BLUE POLKADOT WRAP|      25|[1, 4, 2011 10:00]|[2011 10:00]|\n",
              "|   539993|    21498| RED RETROSPOT WRAP |      25|[1, 4, 2011 10:00]|[2011 10:00]|\n",
              "|   539993|    22379|RECYCLING BAG RET...|       5|[1, 4, 2011 10:00]|[2011 10:00]|\n",
              "|   539993|    20718|RED RETROSPOT SHO...|      10|[1, 4, 2011 10:00]|[2011 10:00]|\n",
              "+---------+---------+--------------------+--------+------------------+------------+"
            ],
            "text/html": [
              "<table border='1'>\n",
              "<tr><th>InvoiceNo</th><th>StockCode</th><th>Description</th><th>Quantity</th><th>InvoiceDateArray</th><th>FilteredYear</th></tr>\n",
              "<tr><td>539993</td><td>22386</td><td>JUMBO BAG PINK PO...</td><td>10</td><td>[1, 4, 2011 10:00]</td><td>[2011 10:00]</td></tr>\n",
              "<tr><td>539993</td><td>21499</td><td>BLUE POLKADOT WRAP</td><td>25</td><td>[1, 4, 2011 10:00]</td><td>[2011 10:00]</td></tr>\n",
              "<tr><td>539993</td><td>21498</td><td>RED RETROSPOT WRAP </td><td>25</td><td>[1, 4, 2011 10:00]</td><td>[2011 10:00]</td></tr>\n",
              "<tr><td>539993</td><td>22379</td><td>RECYCLING BAG RET...</td><td>5</td><td>[1, 4, 2011 10:00]</td><td>[2011 10:00]</td></tr>\n",
              "<tr><td>539993</td><td>20718</td><td>RED RETROSPOT SHO...</td><td>10</td><td>[1, 4, 2011 10:00]</td><td>[2011 10:00]</td></tr>\n",
              "</table>\n"
            ]
          },
          "metadata": {},
          "execution_count": 16
        }
      ],
      "source": [
        "# outdoorProducts 뷰 생성: MONTH가 11인 데이터만 필터링\n",
        "spark.sql(\"\"\"\n",
        "CREATE OR REPLACE TEMPORARY VIEW outdoorProducts AS\n",
        "SELECT\n",
        "  InvoiceNo,\n",
        "  StockCode,\n",
        "  COALESCE(Description, \"기타\") AS Description,\n",
        "  Quantity,\n",
        "  SPLIT(InvoiceDate, \"/\") AS InvoiceDateArray,\n",
        "  -- FILTER를 사용하여 배열에서 YEAR 포함 여부 확인\n",
        "  FILTER(SPLIT(InvoiceDate, \"/\"), part -> part LIKE '%2011%') AS FilteredYear\n",
        "FROM outdoorProductsRaw\n",
        "WHERE InvoiceDate LIKE '%2011%';\n",
        "\"\"\")\n",
        "\n",
        "# 필터링된 결과 출력\n",
        "spark.sql(\"SELECT * FROM outdoorProducts\").limit(5)"
      ]
    },
    {
      "cell_type": "markdown",
      "metadata": {
        "id": "fFd450tfFkW4"
      },
      "source": [
        "### SUB-QUERY:\n",
        "\n",
        "SQL의 **하위 쿼리**는 쿼리 내의 쿼리입니다. 여러 단계로 작업을 수행하는 데 유용합니다.\n",
        "\n",
        "내부 쿼리에서 데이터를 처리하고 필요한 값을 계산한 뒤, 외부 쿼리에서 추가 조건으로 필터링을 수행합니다.  \n",
        "\n",
        "size(FilteredYear) > 0 : FilteredYear 배열의 크기가 0보다 큰 데이터만 반환합니다.\n",
        "즉, \"2011\"을 포함한 행만 유지됩니다."
      ]
    },
    {
      "cell_type": "code",
      "execution_count": 17,
      "metadata": {
        "colab": {
          "base_uri": "https://localhost:8080/",
          "height": 511
        },
        "id": "M_kh8FuZ_gPz",
        "outputId": "df2a7c01-660c-4f7f-cbe0-ec86b26fad92"
      },
      "outputs": [
        {
          "output_type": "execute_result",
          "data": {
            "text/plain": [
              "+---------+---------+--------------------+--------+------------------+------------+\n",
              "|InvoiceNo|StockCode|         Description|Quantity|  InvoiceDateArray|FilteredYear|\n",
              "+---------+---------+--------------------+--------+------------------+------------+\n",
              "|   539993|    22386|JUMBO BAG PINK PO...|      10|[1, 4, 2011 10:00]|[2011 10:00]|\n",
              "|   539993|    21499|  BLUE POLKADOT WRAP|      25|[1, 4, 2011 10:00]|[2011 10:00]|\n",
              "|   539993|    21498| RED RETROSPOT WRAP |      25|[1, 4, 2011 10:00]|[2011 10:00]|\n",
              "|   539993|    22379|RECYCLING BAG RET...|       5|[1, 4, 2011 10:00]|[2011 10:00]|\n",
              "|   539993|    20718|RED RETROSPOT SHO...|      10|[1, 4, 2011 10:00]|[2011 10:00]|\n",
              "|   539993|   85099B|JUMBO BAG RED RET...|      10|[1, 4, 2011 10:00]|[2011 10:00]|\n",
              "|   539993|    20682|RED RETROSPOT CHI...|       6|[1, 4, 2011 10:00]|[2011 10:00]|\n",
              "|   539993|    22961|JAM MAKING SET PR...|      12|[1, 4, 2011 10:00]|[2011 10:00]|\n",
              "|   539993|    22667|RECIPE BOX RETROS...|       6|[1, 4, 2011 10:00]|[2011 10:00]|\n",
              "|   539993|    22898|CHILDRENS APRON A...|       8|[1, 4, 2011 10:00]|[2011 10:00]|\n",
              "|   539993|    22896|PEG BAG APPLES DE...|       6|[1, 4, 2011 10:00]|[2011 10:00]|\n",
              "|   539993|    22303|COFFEE MUG APPLES...|       6|[1, 4, 2011 10:00]|[2011 10:00]|\n",
              "|   539993|    22302|COFFEE MUG PEARS ...|       6|[1, 4, 2011 10:00]|[2011 10:00]|\n",
              "|   539993|   85123A|WHITE HANGING HEA...|      12|[1, 4, 2011 10:00]|[2011 10:00]|\n",
              "|   539993|    22808|SET OF 6 T-LIGHTS...|      12|[1, 4, 2011 10:00]|[2011 10:00]|\n",
              "|   539993|    22458|CAST IRON HOOK GA...|       8|[1, 4, 2011 10:00]|[2011 10:00]|\n",
              "|   539993|    22862|LOVE HEART NAPKIN...|       4|[1, 4, 2011 10:00]|[2011 10:00]|\n",
              "|   539994|    22830|                기타|      -1|[1, 4, 2011 10:09]|[2011 10:09]|\n",
              "|   539995|    85064|                기타|     -12|[1, 4, 2011 10:12]|[2011 10:12]|\n",
              "|   539996|    21784|                기타|     -10|[1, 4, 2011 10:12]|[2011 10:12]|\n",
              "+---------+---------+--------------------+--------+------------------+------------+\n",
              "only showing top 20 rows"
            ],
            "text/html": [
              "<table border='1'>\n",
              "<tr><th>InvoiceNo</th><th>StockCode</th><th>Description</th><th>Quantity</th><th>InvoiceDateArray</th><th>FilteredYear</th></tr>\n",
              "<tr><td>539993</td><td>22386</td><td>JUMBO BAG PINK PO...</td><td>10</td><td>[1, 4, 2011 10:00]</td><td>[2011 10:00]</td></tr>\n",
              "<tr><td>539993</td><td>21499</td><td>BLUE POLKADOT WRAP</td><td>25</td><td>[1, 4, 2011 10:00]</td><td>[2011 10:00]</td></tr>\n",
              "<tr><td>539993</td><td>21498</td><td>RED RETROSPOT WRAP </td><td>25</td><td>[1, 4, 2011 10:00]</td><td>[2011 10:00]</td></tr>\n",
              "<tr><td>539993</td><td>22379</td><td>RECYCLING BAG RET...</td><td>5</td><td>[1, 4, 2011 10:00]</td><td>[2011 10:00]</td></tr>\n",
              "<tr><td>539993</td><td>20718</td><td>RED RETROSPOT SHO...</td><td>10</td><td>[1, 4, 2011 10:00]</td><td>[2011 10:00]</td></tr>\n",
              "<tr><td>539993</td><td>85099B</td><td>JUMBO BAG RED RET...</td><td>10</td><td>[1, 4, 2011 10:00]</td><td>[2011 10:00]</td></tr>\n",
              "<tr><td>539993</td><td>20682</td><td>RED RETROSPOT CHI...</td><td>6</td><td>[1, 4, 2011 10:00]</td><td>[2011 10:00]</td></tr>\n",
              "<tr><td>539993</td><td>22961</td><td>JAM MAKING SET PR...</td><td>12</td><td>[1, 4, 2011 10:00]</td><td>[2011 10:00]</td></tr>\n",
              "<tr><td>539993</td><td>22667</td><td>RECIPE BOX RETROS...</td><td>6</td><td>[1, 4, 2011 10:00]</td><td>[2011 10:00]</td></tr>\n",
              "<tr><td>539993</td><td>22898</td><td>CHILDRENS APRON A...</td><td>8</td><td>[1, 4, 2011 10:00]</td><td>[2011 10:00]</td></tr>\n",
              "<tr><td>539993</td><td>22896</td><td>PEG BAG APPLES DE...</td><td>6</td><td>[1, 4, 2011 10:00]</td><td>[2011 10:00]</td></tr>\n",
              "<tr><td>539993</td><td>22303</td><td>COFFEE MUG APPLES...</td><td>6</td><td>[1, 4, 2011 10:00]</td><td>[2011 10:00]</td></tr>\n",
              "<tr><td>539993</td><td>22302</td><td>COFFEE MUG PEARS ...</td><td>6</td><td>[1, 4, 2011 10:00]</td><td>[2011 10:00]</td></tr>\n",
              "<tr><td>539993</td><td>85123A</td><td>WHITE HANGING HEA...</td><td>12</td><td>[1, 4, 2011 10:00]</td><td>[2011 10:00]</td></tr>\n",
              "<tr><td>539993</td><td>22808</td><td>SET OF 6 T-LIGHTS...</td><td>12</td><td>[1, 4, 2011 10:00]</td><td>[2011 10:00]</td></tr>\n",
              "<tr><td>539993</td><td>22458</td><td>CAST IRON HOOK GA...</td><td>8</td><td>[1, 4, 2011 10:00]</td><td>[2011 10:00]</td></tr>\n",
              "<tr><td>539993</td><td>22862</td><td>LOVE HEART NAPKIN...</td><td>4</td><td>[1, 4, 2011 10:00]</td><td>[2011 10:00]</td></tr>\n",
              "<tr><td>539994</td><td>22830</td><td>기타</td><td>-1</td><td>[1, 4, 2011 10:09]</td><td>[2011 10:09]</td></tr>\n",
              "<tr><td>539995</td><td>85064</td><td>기타</td><td>-12</td><td>[1, 4, 2011 10:12]</td><td>[2011 10:12]</td></tr>\n",
              "<tr><td>539996</td><td>21784</td><td>기타</td><td>-10</td><td>[1, 4, 2011 10:12]</td><td>[2011 10:12]</td></tr>\n",
              "</table>\n",
              "only showing top 20 rows\n"
            ]
          },
          "metadata": {},
          "execution_count": 17
        }
      ],
      "source": [
        "spark.sql(\"\"\"\n",
        "SELECT\n",
        "  *\n",
        "FROM\n",
        "  (\n",
        "    SELECT\n",
        "      InvoiceNo,\n",
        "      StockCode,\n",
        "      COALESCE(Description, \"기타\") AS Description,\n",
        "      Quantity,\n",
        "      SPLIT(InvoiceDate, \"/\") AS InvoiceDateArray,\n",
        "      -- FILTER를 사용하여 배열에서 \"2011\"을 포함한 값만 추출\n",
        "      FILTER(SPLIT(InvoiceDate, \"/\"), part -> part LIKE '%2011%') AS FilteredYear\n",
        "    FROM\n",
        "      outdoorProductsRaw\n",
        "  )\n",
        "WHERE\n",
        "  size(FilteredYear) > 0;\n",
        "\"\"\")"
      ]
    },
    {
      "cell_type": "markdown",
      "metadata": {
        "id": "Wo99bWSHIyjl"
      },
      "source": [
        "### Exists\n",
        "\n",
        "[Exists](https://spark.apache.org/docs/latest/api/sql/#exists)는 배열에 있는 하나 이상의 요소에 대해 조건이 참인지 여부를 테스트합니다.\n",
        "\n",
        "함수를 더 잘 이해하기 위해 이 코드 줄을 분석해 보겠습니다.\n",
        "\n",
        "`EXISTS(DescriptionArray, desc -> desc = '기타') Misc`\n",
        "\n",
        "- DescriptionArray : 입력 배열의 이름 <br>\n",
        "- desc : 반복자 변수의 이름. 이 이름을 선택한 다음 람다 함수에서 사용합니다. 배열을 반복하면서 각 값을 한 번에 하나씩 함수로 순환시킵니다.\n",
        "- `->` :  함수의 시작을 나타냅니다. <br>\n",
        "- desc = '기타' :  각 값이 `\"기타\"` 값과 **동일한지** 검사합니다. 새 열인 `Misc`에 플래그(true/false)가 지정됩니다."
      ]
    },
    {
      "cell_type": "code",
      "execution_count": 18,
      "metadata": {
        "colab": {
          "base_uri": "https://localhost:8080/",
          "height": 110
        },
        "id": "zAqFZ_cQFgWG",
        "outputId": "36cd9572-3adc-4e16-aac9-f3da8b2471e2"
      },
      "outputs": [
        {
          "output_type": "execute_result",
          "data": {
            "text/plain": [
              "+---------+----------------+--------+-------+\n",
              "|InvoiceNo|DescriptionArray|Quantity|hasMisc|\n",
              "+---------+----------------+--------+-------+\n",
              "|     1001|[기타, 전자제품]|      10|   true|\n",
              "|     1002|[가구, 주방용품]|       5|  false|\n",
              "|     1003|[기타, 생활용품]|      20|   true|\n",
              "+---------+----------------+--------+-------+"
            ],
            "text/html": [
              "<table border='1'>\n",
              "<tr><th>InvoiceNo</th><th>DescriptionArray</th><th>Quantity</th><th>hasMisc</th></tr>\n",
              "<tr><td>1001</td><td>[기타, 전자제품]</td><td>10</td><td>true</td></tr>\n",
              "<tr><td>1002</td><td>[가구, 주방용품]</td><td>5</td><td>false</td></tr>\n",
              "<tr><td>1003</td><td>[기타, 생활용품]</td><td>20</td><td>true</td></tr>\n",
              "</table>\n"
            ]
          },
          "metadata": {},
          "execution_count": 18
        }
      ],
      "source": [
        "# SQL 표현식을 문자열로 작성하고 이를 DataFrame API에서 사용할 수 있도록 하는 함수\n",
        "from pyspark.sql.functions import expr\n",
        "\n",
        "data = [\n",
        "    (\"1001\", [\"기타\", \"전자제품\"], 10),\n",
        "    (\"1002\", [\"가구\", \"주방용품\"], 5),\n",
        "    (\"1003\", [\"기타\", \"생활용품\"], 20)\n",
        "]\n",
        "\n",
        "columns = [\"InvoiceNo\", \"DescriptionArray\", \"Quantity\"]\n",
        "df = spark.createDataFrame(data, columns)\n",
        "\n",
        "# EXISTS 함수 사용\n",
        "# withColumn - 기존 컬럼을 수정하거나 새 컬럼을 추가\n",
        "df = df.withColumn(\"hasMisc\", expr(\"EXISTS(DescriptionArray, desc -> desc = '기타')\"))\n",
        "df"
      ]
    },
    {
      "cell_type": "markdown",
      "metadata": {
        "id": "cr5604OaZa9T"
      },
      "source": [
        "`outdoorProductsRaw` table 에서 \"2011\"을 포함한 행만 유지"
      ]
    },
    {
      "cell_type": "code",
      "execution_count": 19,
      "metadata": {
        "colab": {
          "base_uri": "https://localhost:8080/",
          "height": 511
        },
        "id": "GtPcOWvBY6hg",
        "outputId": "17ec12e2-7d53-47bc-e7cf-6f36aa32a918"
      },
      "outputs": [
        {
          "output_type": "execute_result",
          "data": {
            "text/plain": [
              "+---------+---------+--------------------+--------+------------------+----------------+\n",
              "|InvoiceNo|StockCode|         Description|Quantity|  InvoiceDateArray|ContainsYear2011|\n",
              "+---------+---------+--------------------+--------+------------------+----------------+\n",
              "|   539993|    22386|JUMBO BAG PINK PO...|      10|[1, 4, 2011 10:00]|            true|\n",
              "|   539993|    21499|  BLUE POLKADOT WRAP|      25|[1, 4, 2011 10:00]|            true|\n",
              "|   539993|    21498| RED RETROSPOT WRAP |      25|[1, 4, 2011 10:00]|            true|\n",
              "|   539993|    22379|RECYCLING BAG RET...|       5|[1, 4, 2011 10:00]|            true|\n",
              "|   539993|    20718|RED RETROSPOT SHO...|      10|[1, 4, 2011 10:00]|            true|\n",
              "|   539993|   85099B|JUMBO BAG RED RET...|      10|[1, 4, 2011 10:00]|            true|\n",
              "|   539993|    20682|RED RETROSPOT CHI...|       6|[1, 4, 2011 10:00]|            true|\n",
              "|   539993|    22961|JAM MAKING SET PR...|      12|[1, 4, 2011 10:00]|            true|\n",
              "|   539993|    22667|RECIPE BOX RETROS...|       6|[1, 4, 2011 10:00]|            true|\n",
              "|   539993|    22898|CHILDRENS APRON A...|       8|[1, 4, 2011 10:00]|            true|\n",
              "|   539993|    22896|PEG BAG APPLES DE...|       6|[1, 4, 2011 10:00]|            true|\n",
              "|   539993|    22303|COFFEE MUG APPLES...|       6|[1, 4, 2011 10:00]|            true|\n",
              "|   539993|    22302|COFFEE MUG PEARS ...|       6|[1, 4, 2011 10:00]|            true|\n",
              "|   539993|   85123A|WHITE HANGING HEA...|      12|[1, 4, 2011 10:00]|            true|\n",
              "|   539993|    22808|SET OF 6 T-LIGHTS...|      12|[1, 4, 2011 10:00]|            true|\n",
              "|   539993|    22458|CAST IRON HOOK GA...|       8|[1, 4, 2011 10:00]|            true|\n",
              "|   539993|    22862|LOVE HEART NAPKIN...|       4|[1, 4, 2011 10:00]|            true|\n",
              "|   539994|    22830|                기타|      -1|[1, 4, 2011 10:09]|            true|\n",
              "|   539995|    85064|                기타|     -12|[1, 4, 2011 10:12]|            true|\n",
              "|   539996|    21784|                기타|     -10|[1, 4, 2011 10:12]|            true|\n",
              "+---------+---------+--------------------+--------+------------------+----------------+\n",
              "only showing top 20 rows"
            ],
            "text/html": [
              "<table border='1'>\n",
              "<tr><th>InvoiceNo</th><th>StockCode</th><th>Description</th><th>Quantity</th><th>InvoiceDateArray</th><th>ContainsYear2011</th></tr>\n",
              "<tr><td>539993</td><td>22386</td><td>JUMBO BAG PINK PO...</td><td>10</td><td>[1, 4, 2011 10:00]</td><td>true</td></tr>\n",
              "<tr><td>539993</td><td>21499</td><td>BLUE POLKADOT WRAP</td><td>25</td><td>[1, 4, 2011 10:00]</td><td>true</td></tr>\n",
              "<tr><td>539993</td><td>21498</td><td>RED RETROSPOT WRAP </td><td>25</td><td>[1, 4, 2011 10:00]</td><td>true</td></tr>\n",
              "<tr><td>539993</td><td>22379</td><td>RECYCLING BAG RET...</td><td>5</td><td>[1, 4, 2011 10:00]</td><td>true</td></tr>\n",
              "<tr><td>539993</td><td>20718</td><td>RED RETROSPOT SHO...</td><td>10</td><td>[1, 4, 2011 10:00]</td><td>true</td></tr>\n",
              "<tr><td>539993</td><td>85099B</td><td>JUMBO BAG RED RET...</td><td>10</td><td>[1, 4, 2011 10:00]</td><td>true</td></tr>\n",
              "<tr><td>539993</td><td>20682</td><td>RED RETROSPOT CHI...</td><td>6</td><td>[1, 4, 2011 10:00]</td><td>true</td></tr>\n",
              "<tr><td>539993</td><td>22961</td><td>JAM MAKING SET PR...</td><td>12</td><td>[1, 4, 2011 10:00]</td><td>true</td></tr>\n",
              "<tr><td>539993</td><td>22667</td><td>RECIPE BOX RETROS...</td><td>6</td><td>[1, 4, 2011 10:00]</td><td>true</td></tr>\n",
              "<tr><td>539993</td><td>22898</td><td>CHILDRENS APRON A...</td><td>8</td><td>[1, 4, 2011 10:00]</td><td>true</td></tr>\n",
              "<tr><td>539993</td><td>22896</td><td>PEG BAG APPLES DE...</td><td>6</td><td>[1, 4, 2011 10:00]</td><td>true</td></tr>\n",
              "<tr><td>539993</td><td>22303</td><td>COFFEE MUG APPLES...</td><td>6</td><td>[1, 4, 2011 10:00]</td><td>true</td></tr>\n",
              "<tr><td>539993</td><td>22302</td><td>COFFEE MUG PEARS ...</td><td>6</td><td>[1, 4, 2011 10:00]</td><td>true</td></tr>\n",
              "<tr><td>539993</td><td>85123A</td><td>WHITE HANGING HEA...</td><td>12</td><td>[1, 4, 2011 10:00]</td><td>true</td></tr>\n",
              "<tr><td>539993</td><td>22808</td><td>SET OF 6 T-LIGHTS...</td><td>12</td><td>[1, 4, 2011 10:00]</td><td>true</td></tr>\n",
              "<tr><td>539993</td><td>22458</td><td>CAST IRON HOOK GA...</td><td>8</td><td>[1, 4, 2011 10:00]</td><td>true</td></tr>\n",
              "<tr><td>539993</td><td>22862</td><td>LOVE HEART NAPKIN...</td><td>4</td><td>[1, 4, 2011 10:00]</td><td>true</td></tr>\n",
              "<tr><td>539994</td><td>22830</td><td>기타</td><td>-1</td><td>[1, 4, 2011 10:09]</td><td>true</td></tr>\n",
              "<tr><td>539995</td><td>85064</td><td>기타</td><td>-12</td><td>[1, 4, 2011 10:12]</td><td>true</td></tr>\n",
              "<tr><td>539996</td><td>21784</td><td>기타</td><td>-10</td><td>[1, 4, 2011 10:12]</td><td>true</td></tr>\n",
              "</table>\n",
              "only showing top 20 rows\n"
            ]
          },
          "metadata": {},
          "execution_count": 19
        }
      ],
      "source": [
        "spark.sql(\"\"\"\n",
        "SELECT\n",
        "  *\n",
        "FROM\n",
        "  (\n",
        "    SELECT\n",
        "      InvoiceNo,\n",
        "      StockCode,\n",
        "      COALESCE(Description, \"기타\") AS Description,\n",
        "      Quantity,\n",
        "      SPLIT(InvoiceDate, \"/\") AS InvoiceDateArray,\n",
        "      -- EXISTS를 사용하여 배열에서 \"2011\"을 포함한 요소가 있는지 확인\n",
        "      EXISTS(SPLIT(InvoiceDate, \"/\"), part -> part LIKE '%2011%') AS ContainsYear2011\n",
        "    FROM\n",
        "      outdoorProductsRaw\n",
        "  )\n",
        "WHERE\n",
        "  ContainsYear2011 = TRUE;\n",
        "\"\"\")"
      ]
    },
    {
      "cell_type": "markdown",
      "metadata": {
        "id": "rVKfvlVXPCc6"
      },
      "source": [
        "### Transform\n",
        "\n",
        "[Transform](https://spark.apache.org/docs/latest/api/sql/#transform)은 제공된 함수를 사용하여 배열의 모든 요소를 변환합니다. SQL의 기본 제공 함수는 셀 내의 단순한 단일 데이터 유형에서 작동하도록 설계되었기 때문에 배열 값을 처리할 수 없습니다. Transform은 배열의 각 요소에 기존 함수를 적용하려는 경우에 특히 유용할 수 있습니다. 이 경우에는 `categories` 열의 모든 이름을 소문자로 다시 작성하려고 합니다.\n",
        "\n",
        "함수를 더 잘 이해하기 위해 이 코드 줄을 분석해 보겠습니다.\n",
        "\n",
        "`TRANSFORM(categories, cat -> LOWER(cat)) lwrCategories`\n",
        "\n",
        "- `categories` : 입력 배열의 이름 <br>\n",
        "- `cat` : 반복자 변수의 이름.<br>\n",
        "- `->` :  함수의 시작 <br>\n",
        "- `LOWER(cat)` : 입력 배열의 각 값에 대해 내장 함수 `LOWER()`가 적용되어 단어를 소문자로 변환"
      ]
    },
    {
      "cell_type": "code",
      "execution_count": 20,
      "metadata": {
        "colab": {
          "base_uri": "https://localhost:8080/",
          "height": 110
        },
        "id": "S4dJ74MWJJ2m",
        "outputId": "1b94af1d-64a6-4dd3-fd54-22958231630a"
      },
      "outputs": [
        {
          "output_type": "execute_result",
          "data": {
            "text/plain": [
              "+---------+--------------------+--------+\n",
              "|InvoiceNo|          categories|Quantity|\n",
              "+---------+--------------------+--------+\n",
              "|     1001|[Electronics, Hom...|      10|\n",
              "|     1002|[Books, Stationer...|       5|\n",
              "|     1003|[Gardening, Kitch...|      20|\n",
              "+---------+--------------------+--------+"
            ],
            "text/html": [
              "<table border='1'>\n",
              "<tr><th>InvoiceNo</th><th>categories</th><th>Quantity</th></tr>\n",
              "<tr><td>1001</td><td>[Electronics, Hom...</td><td>10</td></tr>\n",
              "<tr><td>1002</td><td>[Books, Stationer...</td><td>5</td></tr>\n",
              "<tr><td>1003</td><td>[Gardening, Kitch...</td><td>20</td></tr>\n",
              "</table>\n"
            ]
          },
          "metadata": {},
          "execution_count": 20
        }
      ],
      "source": [
        "spark.sql(\"\"\"\n",
        "CREATE OR REPLACE TEMPORARY VIEW testProducts AS\n",
        "SELECT\n",
        "  \"1001\" AS InvoiceNo,\n",
        "  ARRAY(\"Electronics\", \"Home Appliance\", \"Toys\") AS categories,\n",
        "  10 AS Quantity\n",
        "UNION ALL\n",
        "SELECT\n",
        "  \"1002\" AS InvoiceNo,\n",
        "  ARRAY(\"Books\", \"Stationery\", \"Furniture\") AS categories,\n",
        "  5 AS Quantity\n",
        "UNION ALL\n",
        "SELECT\n",
        "  \"1003\" AS InvoiceNo,\n",
        "  ARRAY(\"Gardening\", \"Kitchenware\", \"Outdoor\") AS categories,\n",
        "  20 AS Quantity;\n",
        "\"\"\")\n",
        "\n",
        "spark.sql(\"SELECT * FROM testProducts\")"
      ]
    },
    {
      "cell_type": "code",
      "execution_count": 21,
      "metadata": {
        "colab": {
          "base_uri": "https://localhost:8080/",
          "height": 110
        },
        "id": "xUMmnd2RPj22",
        "outputId": "1782b9e0-a000-4248-9d88-625f6176e19f"
      },
      "outputs": [
        {
          "output_type": "execute_result",
          "data": {
            "text/plain": [
              "+---------+--------------------+--------------------+\n",
              "|InvoiceNo|          categories|       lwrCategories|\n",
              "+---------+--------------------+--------------------+\n",
              "|     1001|[Electronics, Hom...|[electronics, hom...|\n",
              "|     1002|[Books, Stationer...|[books, stationer...|\n",
              "|     1003|[Gardening, Kitch...|[gardening, kitch...|\n",
              "+---------+--------------------+--------------------+"
            ],
            "text/html": [
              "<table border='1'>\n",
              "<tr><th>InvoiceNo</th><th>categories</th><th>lwrCategories</th></tr>\n",
              "<tr><td>1001</td><td>[Electronics, Hom...</td><td>[electronics, hom...</td></tr>\n",
              "<tr><td>1002</td><td>[Books, Stationer...</td><td>[books, stationer...</td></tr>\n",
              "<tr><td>1003</td><td>[Gardening, Kitch...</td><td>[gardening, kitch...</td></tr>\n",
              "</table>\n"
            ]
          },
          "metadata": {},
          "execution_count": 21
        }
      ],
      "source": [
        "# categories 배열의 모든 요소를 소문자로 변환하여 새로운 column으로 저장\n",
        "spark.sql(\"\"\"\n",
        "SELECT\n",
        "  InvoiceNo,\n",
        "  categories,\n",
        "  TRANSFORM(categories, cat -> LOWER(cat)) AS lwrCategories\n",
        "FROM\n",
        "  testProducts;\n",
        "\"\"\")"
      ]
    },
    {
      "cell_type": "code",
      "execution_count": null,
      "metadata": {
        "id": "2Mgq-x2gPwI-"
      },
      "outputs": [],
      "source": []
    }
  ],
  "metadata": {
    "colab": {
      "provenance": []
    },
    "kernelspec": {
      "display_name": "Python 3 (ipykernel)",
      "language": "python",
      "name": "python3"
    },
    "language_info": {
      "codemirror_mode": {
        "name": "ipython",
        "version": 3
      },
      "file_extension": ".py",
      "mimetype": "text/x-python",
      "name": "python",
      "nbconvert_exporter": "python",
      "pygments_lexer": "ipython3",
      "version": "3.9.16"
    }
  },
  "nbformat": 4,
  "nbformat_minor": 0
}