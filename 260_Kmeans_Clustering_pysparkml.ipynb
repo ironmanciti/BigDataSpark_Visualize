{
  "cells": [
    {
      "cell_type": "markdown",
      "id": "7d3e291f",
      "metadata": {
        "id": "7d3e291f"
      },
      "source": [
        "# Kmeans Clustering using Spark.ml\n",
        "Python 및 sklearn을 사용하여 K-means 클러스터링을 수행"
      ]
    },
    {
      "cell_type": "code",
      "execution_count": 1,
      "id": "ec5f2e9c",
      "metadata": {
        "id": "ec5f2e9c"
      },
      "outputs": [],
      "source": [
        "from pyspark.sql import SparkSession\n",
        "\n",
        "spark = SparkSession.builder.appName(\"SparkML\").config(\"spark.sql.repl.eagerEval.enabled\", True).getOrCreate()"
      ]
    },
    {
      "cell_type": "code",
      "execution_count": 2,
      "id": "9ae370a1",
      "metadata": {
        "colab": {
          "base_uri": "https://localhost:8080/",
          "height": 206
        },
        "id": "9ae370a1",
        "outputId": "b723aecf-6d9c-47ff-c955-ba9376451900"
      },
      "outputs": [
        {
          "output_type": "execute_result",
          "data": {
            "text/plain": [
              "   sepal length (cm)  sepal width (cm)  petal length (cm)  petal width (cm)\n",
              "0                5.1               3.5                1.4               0.2\n",
              "1                4.9               3.0                1.4               0.2\n",
              "2                4.7               3.2                1.3               0.2\n",
              "3                4.6               3.1                1.5               0.2\n",
              "4                5.0               3.6                1.4               0.2"
            ],
            "text/html": [
              "\n",
              "  <div id=\"df-f3040061-3b1f-4c22-865c-2a62bb37c824\" class=\"colab-df-container\">\n",
              "    <div>\n",
              "<style scoped>\n",
              "    .dataframe tbody tr th:only-of-type {\n",
              "        vertical-align: middle;\n",
              "    }\n",
              "\n",
              "    .dataframe tbody tr th {\n",
              "        vertical-align: top;\n",
              "    }\n",
              "\n",
              "    .dataframe thead th {\n",
              "        text-align: right;\n",
              "    }\n",
              "</style>\n",
              "<table border=\"1\" class=\"dataframe\">\n",
              "  <thead>\n",
              "    <tr style=\"text-align: right;\">\n",
              "      <th></th>\n",
              "      <th>sepal length (cm)</th>\n",
              "      <th>sepal width (cm)</th>\n",
              "      <th>petal length (cm)</th>\n",
              "      <th>petal width (cm)</th>\n",
              "    </tr>\n",
              "  </thead>\n",
              "  <tbody>\n",
              "    <tr>\n",
              "      <th>0</th>\n",
              "      <td>5.1</td>\n",
              "      <td>3.5</td>\n",
              "      <td>1.4</td>\n",
              "      <td>0.2</td>\n",
              "    </tr>\n",
              "    <tr>\n",
              "      <th>1</th>\n",
              "      <td>4.9</td>\n",
              "      <td>3.0</td>\n",
              "      <td>1.4</td>\n",
              "      <td>0.2</td>\n",
              "    </tr>\n",
              "    <tr>\n",
              "      <th>2</th>\n",
              "      <td>4.7</td>\n",
              "      <td>3.2</td>\n",
              "      <td>1.3</td>\n",
              "      <td>0.2</td>\n",
              "    </tr>\n",
              "    <tr>\n",
              "      <th>3</th>\n",
              "      <td>4.6</td>\n",
              "      <td>3.1</td>\n",
              "      <td>1.5</td>\n",
              "      <td>0.2</td>\n",
              "    </tr>\n",
              "    <tr>\n",
              "      <th>4</th>\n",
              "      <td>5.0</td>\n",
              "      <td>3.6</td>\n",
              "      <td>1.4</td>\n",
              "      <td>0.2</td>\n",
              "    </tr>\n",
              "  </tbody>\n",
              "</table>\n",
              "</div>\n",
              "    <div class=\"colab-df-buttons\">\n",
              "\n",
              "  <div class=\"colab-df-container\">\n",
              "    <button class=\"colab-df-convert\" onclick=\"convertToInteractive('df-f3040061-3b1f-4c22-865c-2a62bb37c824')\"\n",
              "            title=\"Convert this dataframe to an interactive table.\"\n",
              "            style=\"display:none;\">\n",
              "\n",
              "  <svg xmlns=\"http://www.w3.org/2000/svg\" height=\"24px\" viewBox=\"0 -960 960 960\">\n",
              "    <path d=\"M120-120v-720h720v720H120Zm60-500h600v-160H180v160Zm220 220h160v-160H400v160Zm0 220h160v-160H400v160ZM180-400h160v-160H180v160Zm440 0h160v-160H620v160ZM180-180h160v-160H180v160Zm440 0h160v-160H620v160Z\"/>\n",
              "  </svg>\n",
              "    </button>\n",
              "\n",
              "  <style>\n",
              "    .colab-df-container {\n",
              "      display:flex;\n",
              "      gap: 12px;\n",
              "    }\n",
              "\n",
              "    .colab-df-convert {\n",
              "      background-color: #E8F0FE;\n",
              "      border: none;\n",
              "      border-radius: 50%;\n",
              "      cursor: pointer;\n",
              "      display: none;\n",
              "      fill: #1967D2;\n",
              "      height: 32px;\n",
              "      padding: 0 0 0 0;\n",
              "      width: 32px;\n",
              "    }\n",
              "\n",
              "    .colab-df-convert:hover {\n",
              "      background-color: #E2EBFA;\n",
              "      box-shadow: 0px 1px 2px rgba(60, 64, 67, 0.3), 0px 1px 3px 1px rgba(60, 64, 67, 0.15);\n",
              "      fill: #174EA6;\n",
              "    }\n",
              "\n",
              "    .colab-df-buttons div {\n",
              "      margin-bottom: 4px;\n",
              "    }\n",
              "\n",
              "    [theme=dark] .colab-df-convert {\n",
              "      background-color: #3B4455;\n",
              "      fill: #D2E3FC;\n",
              "    }\n",
              "\n",
              "    [theme=dark] .colab-df-convert:hover {\n",
              "      background-color: #434B5C;\n",
              "      box-shadow: 0px 1px 3px 1px rgba(0, 0, 0, 0.15);\n",
              "      filter: drop-shadow(0px 1px 2px rgba(0, 0, 0, 0.3));\n",
              "      fill: #FFFFFF;\n",
              "    }\n",
              "  </style>\n",
              "\n",
              "    <script>\n",
              "      const buttonEl =\n",
              "        document.querySelector('#df-f3040061-3b1f-4c22-865c-2a62bb37c824 button.colab-df-convert');\n",
              "      buttonEl.style.display =\n",
              "        google.colab.kernel.accessAllowed ? 'block' : 'none';\n",
              "\n",
              "      async function convertToInteractive(key) {\n",
              "        const element = document.querySelector('#df-f3040061-3b1f-4c22-865c-2a62bb37c824');\n",
              "        const dataTable =\n",
              "          await google.colab.kernel.invokeFunction('convertToInteractive',\n",
              "                                                    [key], {});\n",
              "        if (!dataTable) return;\n",
              "\n",
              "        const docLinkHtml = 'Like what you see? Visit the ' +\n",
              "          '<a target=\"_blank\" href=https://colab.research.google.com/notebooks/data_table.ipynb>data table notebook</a>'\n",
              "          + ' to learn more about interactive tables.';\n",
              "        element.innerHTML = '';\n",
              "        dataTable['output_type'] = 'display_data';\n",
              "        await google.colab.output.renderOutput(dataTable, element);\n",
              "        const docLink = document.createElement('div');\n",
              "        docLink.innerHTML = docLinkHtml;\n",
              "        element.appendChild(docLink);\n",
              "      }\n",
              "    </script>\n",
              "  </div>\n",
              "\n",
              "\n",
              "<div id=\"df-c8e6512a-9564-4240-9499-3351c6fa5e71\">\n",
              "  <button class=\"colab-df-quickchart\" onclick=\"quickchart('df-c8e6512a-9564-4240-9499-3351c6fa5e71')\"\n",
              "            title=\"Suggest charts\"\n",
              "            style=\"display:none;\">\n",
              "\n",
              "<svg xmlns=\"http://www.w3.org/2000/svg\" height=\"24px\"viewBox=\"0 0 24 24\"\n",
              "     width=\"24px\">\n",
              "    <g>\n",
              "        <path d=\"M19 3H5c-1.1 0-2 .9-2 2v14c0 1.1.9 2 2 2h14c1.1 0 2-.9 2-2V5c0-1.1-.9-2-2-2zM9 17H7v-7h2v7zm4 0h-2V7h2v10zm4 0h-2v-4h2v4z\"/>\n",
              "    </g>\n",
              "</svg>\n",
              "  </button>\n",
              "\n",
              "<style>\n",
              "  .colab-df-quickchart {\n",
              "      --bg-color: #E8F0FE;\n",
              "      --fill-color: #1967D2;\n",
              "      --hover-bg-color: #E2EBFA;\n",
              "      --hover-fill-color: #174EA6;\n",
              "      --disabled-fill-color: #AAA;\n",
              "      --disabled-bg-color: #DDD;\n",
              "  }\n",
              "\n",
              "  [theme=dark] .colab-df-quickchart {\n",
              "      --bg-color: #3B4455;\n",
              "      --fill-color: #D2E3FC;\n",
              "      --hover-bg-color: #434B5C;\n",
              "      --hover-fill-color: #FFFFFF;\n",
              "      --disabled-bg-color: #3B4455;\n",
              "      --disabled-fill-color: #666;\n",
              "  }\n",
              "\n",
              "  .colab-df-quickchart {\n",
              "    background-color: var(--bg-color);\n",
              "    border: none;\n",
              "    border-radius: 50%;\n",
              "    cursor: pointer;\n",
              "    display: none;\n",
              "    fill: var(--fill-color);\n",
              "    height: 32px;\n",
              "    padding: 0;\n",
              "    width: 32px;\n",
              "  }\n",
              "\n",
              "  .colab-df-quickchart:hover {\n",
              "    background-color: var(--hover-bg-color);\n",
              "    box-shadow: 0 1px 2px rgba(60, 64, 67, 0.3), 0 1px 3px 1px rgba(60, 64, 67, 0.15);\n",
              "    fill: var(--button-hover-fill-color);\n",
              "  }\n",
              "\n",
              "  .colab-df-quickchart-complete:disabled,\n",
              "  .colab-df-quickchart-complete:disabled:hover {\n",
              "    background-color: var(--disabled-bg-color);\n",
              "    fill: var(--disabled-fill-color);\n",
              "    box-shadow: none;\n",
              "  }\n",
              "\n",
              "  .colab-df-spinner {\n",
              "    border: 2px solid var(--fill-color);\n",
              "    border-color: transparent;\n",
              "    border-bottom-color: var(--fill-color);\n",
              "    animation:\n",
              "      spin 1s steps(1) infinite;\n",
              "  }\n",
              "\n",
              "  @keyframes spin {\n",
              "    0% {\n",
              "      border-color: transparent;\n",
              "      border-bottom-color: var(--fill-color);\n",
              "      border-left-color: var(--fill-color);\n",
              "    }\n",
              "    20% {\n",
              "      border-color: transparent;\n",
              "      border-left-color: var(--fill-color);\n",
              "      border-top-color: var(--fill-color);\n",
              "    }\n",
              "    30% {\n",
              "      border-color: transparent;\n",
              "      border-left-color: var(--fill-color);\n",
              "      border-top-color: var(--fill-color);\n",
              "      border-right-color: var(--fill-color);\n",
              "    }\n",
              "    40% {\n",
              "      border-color: transparent;\n",
              "      border-right-color: var(--fill-color);\n",
              "      border-top-color: var(--fill-color);\n",
              "    }\n",
              "    60% {\n",
              "      border-color: transparent;\n",
              "      border-right-color: var(--fill-color);\n",
              "    }\n",
              "    80% {\n",
              "      border-color: transparent;\n",
              "      border-right-color: var(--fill-color);\n",
              "      border-bottom-color: var(--fill-color);\n",
              "    }\n",
              "    90% {\n",
              "      border-color: transparent;\n",
              "      border-bottom-color: var(--fill-color);\n",
              "    }\n",
              "  }\n",
              "</style>\n",
              "\n",
              "  <script>\n",
              "    async function quickchart(key) {\n",
              "      const quickchartButtonEl =\n",
              "        document.querySelector('#' + key + ' button');\n",
              "      quickchartButtonEl.disabled = true;  // To prevent multiple clicks.\n",
              "      quickchartButtonEl.classList.add('colab-df-spinner');\n",
              "      try {\n",
              "        const charts = await google.colab.kernel.invokeFunction(\n",
              "            'suggestCharts', [key], {});\n",
              "      } catch (error) {\n",
              "        console.error('Error during call to suggestCharts:', error);\n",
              "      }\n",
              "      quickchartButtonEl.classList.remove('colab-df-spinner');\n",
              "      quickchartButtonEl.classList.add('colab-df-quickchart-complete');\n",
              "    }\n",
              "    (() => {\n",
              "      let quickchartButtonEl =\n",
              "        document.querySelector('#df-c8e6512a-9564-4240-9499-3351c6fa5e71 button');\n",
              "      quickchartButtonEl.style.display =\n",
              "        google.colab.kernel.accessAllowed ? 'block' : 'none';\n",
              "    })();\n",
              "  </script>\n",
              "</div>\n",
              "\n",
              "    </div>\n",
              "  </div>\n"
            ],
            "application/vnd.google.colaboratory.intrinsic+json": {
              "type": "dataframe",
              "variable_name": "df_iris",
              "summary": "{\n  \"name\": \"df_iris\",\n  \"rows\": 150,\n  \"fields\": [\n    {\n      \"column\": \"sepal length (cm)\",\n      \"properties\": {\n        \"dtype\": \"number\",\n        \"std\": 0.8280661279778629,\n        \"min\": 4.3,\n        \"max\": 7.9,\n        \"num_unique_values\": 35,\n        \"samples\": [\n          6.2,\n          4.5,\n          5.6\n        ],\n        \"semantic_type\": \"\",\n        \"description\": \"\"\n      }\n    },\n    {\n      \"column\": \"sepal width (cm)\",\n      \"properties\": {\n        \"dtype\": \"number\",\n        \"std\": 0.435866284936698,\n        \"min\": 2.0,\n        \"max\": 4.4,\n        \"num_unique_values\": 23,\n        \"samples\": [\n          2.3,\n          4.0,\n          3.5\n        ],\n        \"semantic_type\": \"\",\n        \"description\": \"\"\n      }\n    },\n    {\n      \"column\": \"petal length (cm)\",\n      \"properties\": {\n        \"dtype\": \"number\",\n        \"std\": 1.7652982332594667,\n        \"min\": 1.0,\n        \"max\": 6.9,\n        \"num_unique_values\": 43,\n        \"samples\": [\n          6.7,\n          3.8,\n          3.7\n        ],\n        \"semantic_type\": \"\",\n        \"description\": \"\"\n      }\n    },\n    {\n      \"column\": \"petal width (cm)\",\n      \"properties\": {\n        \"dtype\": \"number\",\n        \"std\": 0.7622376689603465,\n        \"min\": 0.1,\n        \"max\": 2.5,\n        \"num_unique_values\": 22,\n        \"samples\": [\n          0.2,\n          1.2,\n          1.3\n        ],\n        \"semantic_type\": \"\",\n        \"description\": \"\"\n      }\n    }\n  ]\n}"
            }
          },
          "metadata": {},
          "execution_count": 2
        }
      ],
      "source": [
        "from sklearn.datasets import load_iris\n",
        "import pandas as pd\n",
        "from pyspark.ml.classification import DecisionTreeClassifier\n",
        "import warnings\n",
        "warnings.filterwarnings('ignore')\n",
        "\n",
        "# 사이킷런(Sklearn)에서 제공하는 Iris 데이터셋 로드\n",
        "iris = load_iris()\n",
        "\n",
        "# Iris 데이터셋을 Pandas 데이터프레임으로 변환.\n",
        "df_iris = pd.DataFrame(data=iris.data, columns=iris.feature_names)\n",
        "df_iris.head()"
      ]
    },
    {
      "cell_type": "code",
      "execution_count": 3,
      "id": "67254537",
      "metadata": {
        "colab": {
          "base_uri": "https://localhost:8080/",
          "height": 206
        },
        "id": "67254537",
        "outputId": "a677f99b-37be-45cf-9e52-c120fbe56d23"
      },
      "outputs": [
        {
          "output_type": "execute_result",
          "data": {
            "text/plain": [
              "   sepal length (cm)  sepal width (cm)  petal length (cm)  petal width (cm)  \\\n",
              "0                5.1               3.5                1.4               0.2   \n",
              "1                4.9               3.0                1.4               0.2   \n",
              "2                4.7               3.2                1.3               0.2   \n",
              "3                4.6               3.1                1.5               0.2   \n",
              "4                5.0               3.6                1.4               0.2   \n",
              "\n",
              "   Species  \n",
              "0        0  \n",
              "1        0  \n",
              "2        0  \n",
              "3        0  \n",
              "4        0  "
            ],
            "text/html": [
              "\n",
              "  <div id=\"df-435cd652-5017-49c7-bb31-93fe58f60520\" class=\"colab-df-container\">\n",
              "    <div>\n",
              "<style scoped>\n",
              "    .dataframe tbody tr th:only-of-type {\n",
              "        vertical-align: middle;\n",
              "    }\n",
              "\n",
              "    .dataframe tbody tr th {\n",
              "        vertical-align: top;\n",
              "    }\n",
              "\n",
              "    .dataframe thead th {\n",
              "        text-align: right;\n",
              "    }\n",
              "</style>\n",
              "<table border=\"1\" class=\"dataframe\">\n",
              "  <thead>\n",
              "    <tr style=\"text-align: right;\">\n",
              "      <th></th>\n",
              "      <th>sepal length (cm)</th>\n",
              "      <th>sepal width (cm)</th>\n",
              "      <th>petal length (cm)</th>\n",
              "      <th>petal width (cm)</th>\n",
              "      <th>Species</th>\n",
              "    </tr>\n",
              "  </thead>\n",
              "  <tbody>\n",
              "    <tr>\n",
              "      <th>0</th>\n",
              "      <td>5.1</td>\n",
              "      <td>3.5</td>\n",
              "      <td>1.4</td>\n",
              "      <td>0.2</td>\n",
              "      <td>0</td>\n",
              "    </tr>\n",
              "    <tr>\n",
              "      <th>1</th>\n",
              "      <td>4.9</td>\n",
              "      <td>3.0</td>\n",
              "      <td>1.4</td>\n",
              "      <td>0.2</td>\n",
              "      <td>0</td>\n",
              "    </tr>\n",
              "    <tr>\n",
              "      <th>2</th>\n",
              "      <td>4.7</td>\n",
              "      <td>3.2</td>\n",
              "      <td>1.3</td>\n",
              "      <td>0.2</td>\n",
              "      <td>0</td>\n",
              "    </tr>\n",
              "    <tr>\n",
              "      <th>3</th>\n",
              "      <td>4.6</td>\n",
              "      <td>3.1</td>\n",
              "      <td>1.5</td>\n",
              "      <td>0.2</td>\n",
              "      <td>0</td>\n",
              "    </tr>\n",
              "    <tr>\n",
              "      <th>4</th>\n",
              "      <td>5.0</td>\n",
              "      <td>3.6</td>\n",
              "      <td>1.4</td>\n",
              "      <td>0.2</td>\n",
              "      <td>0</td>\n",
              "    </tr>\n",
              "  </tbody>\n",
              "</table>\n",
              "</div>\n",
              "    <div class=\"colab-df-buttons\">\n",
              "\n",
              "  <div class=\"colab-df-container\">\n",
              "    <button class=\"colab-df-convert\" onclick=\"convertToInteractive('df-435cd652-5017-49c7-bb31-93fe58f60520')\"\n",
              "            title=\"Convert this dataframe to an interactive table.\"\n",
              "            style=\"display:none;\">\n",
              "\n",
              "  <svg xmlns=\"http://www.w3.org/2000/svg\" height=\"24px\" viewBox=\"0 -960 960 960\">\n",
              "    <path d=\"M120-120v-720h720v720H120Zm60-500h600v-160H180v160Zm220 220h160v-160H400v160Zm0 220h160v-160H400v160ZM180-400h160v-160H180v160Zm440 0h160v-160H620v160ZM180-180h160v-160H180v160Zm440 0h160v-160H620v160Z\"/>\n",
              "  </svg>\n",
              "    </button>\n",
              "\n",
              "  <style>\n",
              "    .colab-df-container {\n",
              "      display:flex;\n",
              "      gap: 12px;\n",
              "    }\n",
              "\n",
              "    .colab-df-convert {\n",
              "      background-color: #E8F0FE;\n",
              "      border: none;\n",
              "      border-radius: 50%;\n",
              "      cursor: pointer;\n",
              "      display: none;\n",
              "      fill: #1967D2;\n",
              "      height: 32px;\n",
              "      padding: 0 0 0 0;\n",
              "      width: 32px;\n",
              "    }\n",
              "\n",
              "    .colab-df-convert:hover {\n",
              "      background-color: #E2EBFA;\n",
              "      box-shadow: 0px 1px 2px rgba(60, 64, 67, 0.3), 0px 1px 3px 1px rgba(60, 64, 67, 0.15);\n",
              "      fill: #174EA6;\n",
              "    }\n",
              "\n",
              "    .colab-df-buttons div {\n",
              "      margin-bottom: 4px;\n",
              "    }\n",
              "\n",
              "    [theme=dark] .colab-df-convert {\n",
              "      background-color: #3B4455;\n",
              "      fill: #D2E3FC;\n",
              "    }\n",
              "\n",
              "    [theme=dark] .colab-df-convert:hover {\n",
              "      background-color: #434B5C;\n",
              "      box-shadow: 0px 1px 3px 1px rgba(0, 0, 0, 0.15);\n",
              "      filter: drop-shadow(0px 1px 2px rgba(0, 0, 0, 0.3));\n",
              "      fill: #FFFFFF;\n",
              "    }\n",
              "  </style>\n",
              "\n",
              "    <script>\n",
              "      const buttonEl =\n",
              "        document.querySelector('#df-435cd652-5017-49c7-bb31-93fe58f60520 button.colab-df-convert');\n",
              "      buttonEl.style.display =\n",
              "        google.colab.kernel.accessAllowed ? 'block' : 'none';\n",
              "\n",
              "      async function convertToInteractive(key) {\n",
              "        const element = document.querySelector('#df-435cd652-5017-49c7-bb31-93fe58f60520');\n",
              "        const dataTable =\n",
              "          await google.colab.kernel.invokeFunction('convertToInteractive',\n",
              "                                                    [key], {});\n",
              "        if (!dataTable) return;\n",
              "\n",
              "        const docLinkHtml = 'Like what you see? Visit the ' +\n",
              "          '<a target=\"_blank\" href=https://colab.research.google.com/notebooks/data_table.ipynb>data table notebook</a>'\n",
              "          + ' to learn more about interactive tables.';\n",
              "        element.innerHTML = '';\n",
              "        dataTable['output_type'] = 'display_data';\n",
              "        await google.colab.output.renderOutput(dataTable, element);\n",
              "        const docLink = document.createElement('div');\n",
              "        docLink.innerHTML = docLinkHtml;\n",
              "        element.appendChild(docLink);\n",
              "      }\n",
              "    </script>\n",
              "  </div>\n",
              "\n",
              "\n",
              "<div id=\"df-a34f9e56-0ac7-4000-ba30-950b2d6f8962\">\n",
              "  <button class=\"colab-df-quickchart\" onclick=\"quickchart('df-a34f9e56-0ac7-4000-ba30-950b2d6f8962')\"\n",
              "            title=\"Suggest charts\"\n",
              "            style=\"display:none;\">\n",
              "\n",
              "<svg xmlns=\"http://www.w3.org/2000/svg\" height=\"24px\"viewBox=\"0 0 24 24\"\n",
              "     width=\"24px\">\n",
              "    <g>\n",
              "        <path d=\"M19 3H5c-1.1 0-2 .9-2 2v14c0 1.1.9 2 2 2h14c1.1 0 2-.9 2-2V5c0-1.1-.9-2-2-2zM9 17H7v-7h2v7zm4 0h-2V7h2v10zm4 0h-2v-4h2v4z\"/>\n",
              "    </g>\n",
              "</svg>\n",
              "  </button>\n",
              "\n",
              "<style>\n",
              "  .colab-df-quickchart {\n",
              "      --bg-color: #E8F0FE;\n",
              "      --fill-color: #1967D2;\n",
              "      --hover-bg-color: #E2EBFA;\n",
              "      --hover-fill-color: #174EA6;\n",
              "      --disabled-fill-color: #AAA;\n",
              "      --disabled-bg-color: #DDD;\n",
              "  }\n",
              "\n",
              "  [theme=dark] .colab-df-quickchart {\n",
              "      --bg-color: #3B4455;\n",
              "      --fill-color: #D2E3FC;\n",
              "      --hover-bg-color: #434B5C;\n",
              "      --hover-fill-color: #FFFFFF;\n",
              "      --disabled-bg-color: #3B4455;\n",
              "      --disabled-fill-color: #666;\n",
              "  }\n",
              "\n",
              "  .colab-df-quickchart {\n",
              "    background-color: var(--bg-color);\n",
              "    border: none;\n",
              "    border-radius: 50%;\n",
              "    cursor: pointer;\n",
              "    display: none;\n",
              "    fill: var(--fill-color);\n",
              "    height: 32px;\n",
              "    padding: 0;\n",
              "    width: 32px;\n",
              "  }\n",
              "\n",
              "  .colab-df-quickchart:hover {\n",
              "    background-color: var(--hover-bg-color);\n",
              "    box-shadow: 0 1px 2px rgba(60, 64, 67, 0.3), 0 1px 3px 1px rgba(60, 64, 67, 0.15);\n",
              "    fill: var(--button-hover-fill-color);\n",
              "  }\n",
              "\n",
              "  .colab-df-quickchart-complete:disabled,\n",
              "  .colab-df-quickchart-complete:disabled:hover {\n",
              "    background-color: var(--disabled-bg-color);\n",
              "    fill: var(--disabled-fill-color);\n",
              "    box-shadow: none;\n",
              "  }\n",
              "\n",
              "  .colab-df-spinner {\n",
              "    border: 2px solid var(--fill-color);\n",
              "    border-color: transparent;\n",
              "    border-bottom-color: var(--fill-color);\n",
              "    animation:\n",
              "      spin 1s steps(1) infinite;\n",
              "  }\n",
              "\n",
              "  @keyframes spin {\n",
              "    0% {\n",
              "      border-color: transparent;\n",
              "      border-bottom-color: var(--fill-color);\n",
              "      border-left-color: var(--fill-color);\n",
              "    }\n",
              "    20% {\n",
              "      border-color: transparent;\n",
              "      border-left-color: var(--fill-color);\n",
              "      border-top-color: var(--fill-color);\n",
              "    }\n",
              "    30% {\n",
              "      border-color: transparent;\n",
              "      border-left-color: var(--fill-color);\n",
              "      border-top-color: var(--fill-color);\n",
              "      border-right-color: var(--fill-color);\n",
              "    }\n",
              "    40% {\n",
              "      border-color: transparent;\n",
              "      border-right-color: var(--fill-color);\n",
              "      border-top-color: var(--fill-color);\n",
              "    }\n",
              "    60% {\n",
              "      border-color: transparent;\n",
              "      border-right-color: var(--fill-color);\n",
              "    }\n",
              "    80% {\n",
              "      border-color: transparent;\n",
              "      border-right-color: var(--fill-color);\n",
              "      border-bottom-color: var(--fill-color);\n",
              "    }\n",
              "    90% {\n",
              "      border-color: transparent;\n",
              "      border-bottom-color: var(--fill-color);\n",
              "    }\n",
              "  }\n",
              "</style>\n",
              "\n",
              "  <script>\n",
              "    async function quickchart(key) {\n",
              "      const quickchartButtonEl =\n",
              "        document.querySelector('#' + key + ' button');\n",
              "      quickchartButtonEl.disabled = true;  // To prevent multiple clicks.\n",
              "      quickchartButtonEl.classList.add('colab-df-spinner');\n",
              "      try {\n",
              "        const charts = await google.colab.kernel.invokeFunction(\n",
              "            'suggestCharts', [key], {});\n",
              "      } catch (error) {\n",
              "        console.error('Error during call to suggestCharts:', error);\n",
              "      }\n",
              "      quickchartButtonEl.classList.remove('colab-df-spinner');\n",
              "      quickchartButtonEl.classList.add('colab-df-quickchart-complete');\n",
              "    }\n",
              "    (() => {\n",
              "      let quickchartButtonEl =\n",
              "        document.querySelector('#df-a34f9e56-0ac7-4000-ba30-950b2d6f8962 button');\n",
              "      quickchartButtonEl.style.display =\n",
              "        google.colab.kernel.accessAllowed ? 'block' : 'none';\n",
              "    })();\n",
              "  </script>\n",
              "</div>\n",
              "\n",
              "    </div>\n",
              "  </div>\n"
            ],
            "application/vnd.google.colaboratory.intrinsic+json": {
              "type": "dataframe",
              "variable_name": "df_iris",
              "summary": "{\n  \"name\": \"df_iris\",\n  \"rows\": 150,\n  \"fields\": [\n    {\n      \"column\": \"sepal length (cm)\",\n      \"properties\": {\n        \"dtype\": \"number\",\n        \"std\": 0.8280661279778629,\n        \"min\": 4.3,\n        \"max\": 7.9,\n        \"num_unique_values\": 35,\n        \"samples\": [\n          6.2,\n          4.5,\n          5.6\n        ],\n        \"semantic_type\": \"\",\n        \"description\": \"\"\n      }\n    },\n    {\n      \"column\": \"sepal width (cm)\",\n      \"properties\": {\n        \"dtype\": \"number\",\n        \"std\": 0.435866284936698,\n        \"min\": 2.0,\n        \"max\": 4.4,\n        \"num_unique_values\": 23,\n        \"samples\": [\n          2.3,\n          4.0,\n          3.5\n        ],\n        \"semantic_type\": \"\",\n        \"description\": \"\"\n      }\n    },\n    {\n      \"column\": \"petal length (cm)\",\n      \"properties\": {\n        \"dtype\": \"number\",\n        \"std\": 1.7652982332594667,\n        \"min\": 1.0,\n        \"max\": 6.9,\n        \"num_unique_values\": 43,\n        \"samples\": [\n          6.7,\n          3.8,\n          3.7\n        ],\n        \"semantic_type\": \"\",\n        \"description\": \"\"\n      }\n    },\n    {\n      \"column\": \"petal width (cm)\",\n      \"properties\": {\n        \"dtype\": \"number\",\n        \"std\": 0.7622376689603465,\n        \"min\": 0.1,\n        \"max\": 2.5,\n        \"num_unique_values\": 22,\n        \"samples\": [\n          0.2,\n          1.2,\n          1.3\n        ],\n        \"semantic_type\": \"\",\n        \"description\": \"\"\n      }\n    },\n    {\n      \"column\": \"Species\",\n      \"properties\": {\n        \"dtype\": \"number\",\n        \"std\": 0,\n        \"min\": 0,\n        \"max\": 2,\n        \"num_unique_values\": 3,\n        \"samples\": [\n          0,\n          1,\n          2\n        ],\n        \"semantic_type\": \"\",\n        \"description\": \"\"\n      }\n    }\n  ]\n}"
            }
          },
          "metadata": {},
          "execution_count": 3
        }
      ],
      "source": [
        "# Iris 데이터셋의 타겟값(target)을 데이터프레임(df_iris)에 새로운 열로 추가\n",
        "df_iris['Species'] = iris.target\n",
        "\n",
        "df_iris.head()"
      ]
    },
    {
      "cell_type": "code",
      "execution_count": 4,
      "id": "c0ef4c61",
      "metadata": {
        "colab": {
          "base_uri": "https://localhost:8080/",
          "height": 159
        },
        "id": "c0ef4c61",
        "outputId": "65c4e5f4-7c7a-453b-aaf2-95e02198026b"
      },
      "outputs": [
        {
          "output_type": "execute_result",
          "data": {
            "text/plain": [
              "+-----------------+----------------+-----------------+----------------+-------+\n",
              "|sepal length (cm)|sepal width (cm)|petal length (cm)|petal width (cm)|Species|\n",
              "+-----------------+----------------+-----------------+----------------+-------+\n",
              "|              5.1|             3.5|              1.4|             0.2|      0|\n",
              "|              4.9|             3.0|              1.4|             0.2|      0|\n",
              "|              4.7|             3.2|              1.3|             0.2|      0|\n",
              "|              4.6|             3.1|              1.5|             0.2|      0|\n",
              "|              5.0|             3.6|              1.4|             0.2|      0|\n",
              "+-----------------+----------------+-----------------+----------------+-------+"
            ],
            "text/html": [
              "<table border='1'>\n",
              "<tr><th>sepal length (cm)</th><th>sepal width (cm)</th><th>petal length (cm)</th><th>petal width (cm)</th><th>Species</th></tr>\n",
              "<tr><td>5.1</td><td>3.5</td><td>1.4</td><td>0.2</td><td>0</td></tr>\n",
              "<tr><td>4.9</td><td>3.0</td><td>1.4</td><td>0.2</td><td>0</td></tr>\n",
              "<tr><td>4.7</td><td>3.2</td><td>1.3</td><td>0.2</td><td>0</td></tr>\n",
              "<tr><td>4.6</td><td>3.1</td><td>1.5</td><td>0.2</td><td>0</td></tr>\n",
              "<tr><td>5.0</td><td>3.6</td><td>1.4</td><td>0.2</td><td>0</td></tr>\n",
              "</table>\n"
            ]
          },
          "metadata": {},
          "execution_count": 4
        }
      ],
      "source": [
        "# Pandas 데이터프레임(df_iris)을 PySpark 데이터프레임으로 변환\n",
        "df_iris = spark.createDataFrame(df_iris)\n",
        "\n",
        "df_iris.limit(5)"
      ]
    },
    {
      "cell_type": "code",
      "execution_count": 5,
      "id": "7cd3424d",
      "metadata": {
        "colab": {
          "base_uri": "https://localhost:8080/"
        },
        "id": "7cd3424d",
        "outputId": "2bba1a96-7e8d-402a-a918-66cf2746e4a2"
      },
      "outputs": [
        {
          "output_type": "execute_result",
          "data": {
            "text/plain": [
              "150"
            ]
          },
          "metadata": {},
          "execution_count": 5
        }
      ],
      "source": [
        "df_iris.count()"
      ]
    },
    {
      "cell_type": "code",
      "execution_count": 6,
      "id": "85943811",
      "metadata": {
        "colab": {
          "base_uri": "https://localhost:8080/",
          "height": 159
        },
        "id": "85943811",
        "outputId": "f856a3ef-d5fc-47e9-96a8-4d7481655b81"
      },
      "outputs": [
        {
          "output_type": "execute_result",
          "data": {
            "text/plain": [
              "+------------+-----------+------------+-----------+-------+\n",
              "|sepal_length|sepal_width|petal_length|petal_width|Species|\n",
              "+------------+-----------+------------+-----------+-------+\n",
              "|         5.1|        3.5|         1.4|        0.2|      0|\n",
              "|         4.9|        3.0|         1.4|        0.2|      0|\n",
              "|         4.7|        3.2|         1.3|        0.2|      0|\n",
              "|         4.6|        3.1|         1.5|        0.2|      0|\n",
              "|         5.0|        3.6|         1.4|        0.2|      0|\n",
              "+------------+-----------+------------+-----------+-------+"
            ],
            "text/html": [
              "<table border='1'>\n",
              "<tr><th>sepal_length</th><th>sepal_width</th><th>petal_length</th><th>petal_width</th><th>Species</th></tr>\n",
              "<tr><td>5.1</td><td>3.5</td><td>1.4</td><td>0.2</td><td>0</td></tr>\n",
              "<tr><td>4.9</td><td>3.0</td><td>1.4</td><td>0.2</td><td>0</td></tr>\n",
              "<tr><td>4.7</td><td>3.2</td><td>1.3</td><td>0.2</td><td>0</td></tr>\n",
              "<tr><td>4.6</td><td>3.1</td><td>1.5</td><td>0.2</td><td>0</td></tr>\n",
              "<tr><td>5.0</td><td>3.6</td><td>1.4</td><td>0.2</td><td>0</td></tr>\n",
              "</table>\n"
            ]
          },
          "metadata": {},
          "execution_count": 6
        }
      ],
      "source": [
        "from pyspark.sql.functions import col\n",
        "\n",
        "# 특성 컬럼의 이름을 변경\n",
        "df = df_iris.select(\n",
        "    col(\"sepal length (cm)\").alias(\"sepal_length\"),  # \"sepal length (cm)\" → \"sepal_length\"\n",
        "    col(\"sepal width (cm)\").alias(\"sepal_width\"),     # \"sepal width (cm)\" → \"sepal_width\"\n",
        "    col(\"petal length (cm)\").alias(\"petal_length\"),    # \"petal length (cm)\" → \"petal_length\"\n",
        "    col(\"petal width (cm)\").alias(\"petal_width\"),      # \"petal width (cm)\" → \"petal_width\"\n",
        "    \"Species\"                                       # \"Species\" 컬럼은 이름 변경 없이 그대로 선택\n",
        ")\n",
        "\n",
        "df.limit(5)"
      ]
    },
    {
      "cell_type": "code",
      "execution_count": 7,
      "id": "91aefa7b",
      "metadata": {
        "colab": {
          "base_uri": "https://localhost:8080/"
        },
        "id": "91aefa7b",
        "outputId": "b912109c-7775-4f0f-c1de-fb1eb72f18a7"
      },
      "outputs": [
        {
          "output_type": "stream",
          "name": "stdout",
          "text": [
            "root\n",
            " |-- sepal_length: double (nullable = true)\n",
            " |-- sepal_width: double (nullable = true)\n",
            " |-- petal_length: double (nullable = true)\n",
            " |-- petal_width: double (nullable = true)\n",
            " |-- Species: long (nullable = true)\n",
            "\n"
          ]
        }
      ],
      "source": [
        "df.printSchema()"
      ]
    },
    {
      "cell_type": "code",
      "execution_count": 8,
      "id": "f9f90daa",
      "metadata": {
        "colab": {
          "base_uri": "https://localhost:8080/",
          "height": 159
        },
        "id": "f9f90daa",
        "outputId": "db8e5db8-4c30-4c97-9ebc-19ae7e7f327e"
      },
      "outputs": [
        {
          "output_type": "execute_result",
          "data": {
            "text/plain": [
              "+-------+------------------+------------------+------------------+------------------+------------------+\n",
              "|summary|      sepal_length|       sepal_width|      petal_length|       petal_width|           Species|\n",
              "+-------+------------------+------------------+------------------+------------------+------------------+\n",
              "|  count|               150|               150|               150|               150|               150|\n",
              "|   mean| 5.843333333333332|3.0573333333333337| 3.758000000000001|1.1993333333333331|               1.0|\n",
              "| stddev|0.8280661279778628|0.4358662849366982|1.7652982332594664|0.7622376689603467|0.8192319205190403|\n",
              "|    min|               4.3|               2.0|               1.0|               0.1|                 0|\n",
              "|    max|               7.9|               4.4|               6.9|               2.5|                 2|\n",
              "+-------+------------------+------------------+------------------+------------------+------------------+"
            ],
            "text/html": [
              "<table border='1'>\n",
              "<tr><th>summary</th><th>sepal_length</th><th>sepal_width</th><th>petal_length</th><th>petal_width</th><th>Species</th></tr>\n",
              "<tr><td>count</td><td>150</td><td>150</td><td>150</td><td>150</td><td>150</td></tr>\n",
              "<tr><td>mean</td><td>5.843333333333332</td><td>3.0573333333333337</td><td>3.758000000000001</td><td>1.1993333333333331</td><td>1.0</td></tr>\n",
              "<tr><td>stddev</td><td>0.8280661279778628</td><td>0.4358662849366982</td><td>1.7652982332594664</td><td>0.7622376689603467</td><td>0.8192319205190403</td></tr>\n",
              "<tr><td>min</td><td>4.3</td><td>2.0</td><td>1.0</td><td>0.1</td><td>0</td></tr>\n",
              "<tr><td>max</td><td>7.9</td><td>4.4</td><td>6.9</td><td>2.5</td><td>2</td></tr>\n",
              "</table>\n"
            ]
          },
          "metadata": {},
          "execution_count": 8
        }
      ],
      "source": [
        "df.describe()"
      ]
    },
    {
      "cell_type": "code",
      "execution_count": 9,
      "id": "509e65d2",
      "metadata": {
        "colab": {
          "base_uri": "https://localhost:8080/",
          "height": 113
        },
        "id": "509e65d2",
        "outputId": "dce750b0-dcff-4686-d7fa-2103c89654d8"
      },
      "outputs": [
        {
          "output_type": "execute_result",
          "data": {
            "text/plain": [
              "+-------+-----+\n",
              "|Species|count|\n",
              "+-------+-----+\n",
              "|      0|   50|\n",
              "|      1|   50|\n",
              "|      2|   50|\n",
              "+-------+-----+"
            ],
            "text/html": [
              "<table border='1'>\n",
              "<tr><th>Species</th><th>count</th></tr>\n",
              "<tr><td>0</td><td>50</td></tr>\n",
              "<tr><td>1</td><td>50</td></tr>\n",
              "<tr><td>2</td><td>50</td></tr>\n",
              "</table>\n"
            ]
          },
          "metadata": {},
          "execution_count": 9
        }
      ],
      "source": [
        "# Species 컬럼을 기준으로 그룹화하여 각 클래스별 데이터 개수를 계산\n",
        "df.groupBy(\"Species\").count()"
      ]
    },
    {
      "cell_type": "code",
      "execution_count": 10,
      "id": "6b58eaf1",
      "metadata": {
        "colab": {
          "base_uri": "https://localhost:8080/",
          "height": 159
        },
        "id": "6b58eaf1",
        "outputId": "f8d001ee-8652-49ab-8489-b2e5232ec6c4"
      },
      "outputs": [
        {
          "output_type": "execute_result",
          "data": {
            "text/plain": [
              "+------------+-----------+------------+-----------+-------+-----------------+\n",
              "|sepal_length|sepal_width|petal_length|petal_width|Species|         features|\n",
              "+------------+-----------+------------+-----------+-------+-----------------+\n",
              "|         5.1|        3.5|         1.4|        0.2|      0|[5.1,3.5,1.4,0.2]|\n",
              "|         4.9|        3.0|         1.4|        0.2|      0|[4.9,3.0,1.4,0.2]|\n",
              "|         4.7|        3.2|         1.3|        0.2|      0|[4.7,3.2,1.3,0.2]|\n",
              "|         4.6|        3.1|         1.5|        0.2|      0|[4.6,3.1,1.5,0.2]|\n",
              "|         5.0|        3.6|         1.4|        0.2|      0|[5.0,3.6,1.4,0.2]|\n",
              "+------------+-----------+------------+-----------+-------+-----------------+"
            ],
            "text/html": [
              "<table border='1'>\n",
              "<tr><th>sepal_length</th><th>sepal_width</th><th>petal_length</th><th>petal_width</th><th>Species</th><th>features</th></tr>\n",
              "<tr><td>5.1</td><td>3.5</td><td>1.4</td><td>0.2</td><td>0</td><td>[5.1,3.5,1.4,0.2]</td></tr>\n",
              "<tr><td>4.9</td><td>3.0</td><td>1.4</td><td>0.2</td><td>0</td><td>[4.9,3.0,1.4,0.2]</td></tr>\n",
              "<tr><td>4.7</td><td>3.2</td><td>1.3</td><td>0.2</td><td>0</td><td>[4.7,3.2,1.3,0.2]</td></tr>\n",
              "<tr><td>4.6</td><td>3.1</td><td>1.5</td><td>0.2</td><td>0</td><td>[4.6,3.1,1.5,0.2]</td></tr>\n",
              "<tr><td>5.0</td><td>3.6</td><td>1.4</td><td>0.2</td><td>0</td><td>[5.0,3.6,1.4,0.2]</td></tr>\n",
              "</table>\n"
            ]
          },
          "metadata": {},
          "execution_count": 10
        }
      ],
      "source": [
        "from pyspark.ml.feature import VectorAssembler\n",
        "\n",
        "# 여러 개의 입력 컬럼을 하나의 벡터로 결합하여 머신러닝 모델에서 사용할 수 있는 형식으로 변환\n",
        "assembler = VectorAssembler(\n",
        "    inputCols=df.columns[:-1],     # 'Species'를 제외한 나머지 컬럼 사용\n",
        "    outputCol=\"features\"             # 결합된 벡터를 'features'라는 이름으로 저장\n",
        ")\n",
        "\n",
        "# 학습된 VectorAssembler를 사용하여 df 에 변환을 적용\n",
        "data = assembler.transform(df)\n",
        "data.limit(5)"
      ]
    },
    {
      "cell_type": "code",
      "execution_count": 11,
      "id": "90a0cc62",
      "metadata": {
        "colab": {
          "base_uri": "https://localhost:8080/",
          "height": 159
        },
        "id": "90a0cc62",
        "outputId": "8a1823d3-14f8-40af-e585-e8487f1b719d"
      },
      "outputs": [
        {
          "output_type": "execute_result",
          "data": {
            "text/plain": [
              "+------------+-----------+------------+-----------+-------+-----------------+----------+\n",
              "|sepal_length|sepal_width|petal_length|petal_width|Species|         features|prediction|\n",
              "+------------+-----------+------------+-----------+-------+-----------------+----------+\n",
              "|         5.1|        3.5|         1.4|        0.2|      0|[5.1,3.5,1.4,0.2]|         1|\n",
              "|         4.9|        3.0|         1.4|        0.2|      0|[4.9,3.0,1.4,0.2]|         1|\n",
              "|         4.7|        3.2|         1.3|        0.2|      0|[4.7,3.2,1.3,0.2]|         1|\n",
              "|         4.6|        3.1|         1.5|        0.2|      0|[4.6,3.1,1.5,0.2]|         1|\n",
              "|         5.0|        3.6|         1.4|        0.2|      0|[5.0,3.6,1.4,0.2]|         1|\n",
              "+------------+-----------+------------+-----------+-------+-----------------+----------+"
            ],
            "text/html": [
              "<table border='1'>\n",
              "<tr><th>sepal_length</th><th>sepal_width</th><th>petal_length</th><th>petal_width</th><th>Species</th><th>features</th><th>prediction</th></tr>\n",
              "<tr><td>5.1</td><td>3.5</td><td>1.4</td><td>0.2</td><td>0</td><td>[5.1,3.5,1.4,0.2]</td><td>1</td></tr>\n",
              "<tr><td>4.9</td><td>3.0</td><td>1.4</td><td>0.2</td><td>0</td><td>[4.9,3.0,1.4,0.2]</td><td>1</td></tr>\n",
              "<tr><td>4.7</td><td>3.2</td><td>1.3</td><td>0.2</td><td>0</td><td>[4.7,3.2,1.3,0.2]</td><td>1</td></tr>\n",
              "<tr><td>4.6</td><td>3.1</td><td>1.5</td><td>0.2</td><td>0</td><td>[4.6,3.1,1.5,0.2]</td><td>1</td></tr>\n",
              "<tr><td>5.0</td><td>3.6</td><td>1.4</td><td>0.2</td><td>0</td><td>[5.0,3.6,1.4,0.2]</td><td>1</td></tr>\n",
              "</table>\n"
            ]
          },
          "metadata": {},
          "execution_count": 11
        }
      ],
      "source": [
        "from pyspark.ml.clustering import KMeans\n",
        "from pyspark.ml.evaluation import ClusteringEvaluator\n",
        "\n",
        "# K-평균(K-Means) 클러스터링 모델 생성 및 학습\n",
        "kmeans = KMeans(featuresCol=\"features\", k=3).fit(data)\n",
        "\n",
        "# 학습된 K-평균 모델을 사용하여 데이터프레임(data)에 클러스터링 결과를 적용\n",
        "result = kmeans.transform(data)\n",
        "result.limit(5)"
      ]
    },
    {
      "cell_type": "code",
      "execution_count": 12,
      "id": "c3fd9688",
      "metadata": {
        "colab": {
          "base_uri": "https://localhost:8080/"
        },
        "id": "c3fd9688",
        "outputId": "eb13ce03-d48d-4cb4-f2da-03eef7dbfb26"
      },
      "outputs": [
        {
          "output_type": "stream",
          "name": "stdout",
          "text": [
            "+-------+-----+\n",
            "|Species|count|\n",
            "+-------+-----+\n",
            "|      0|   50|\n",
            "|      1|   50|\n",
            "|      2|   50|\n",
            "+-------+-----+\n",
            "\n",
            "+----------+-----+\n",
            "|prediction|count|\n",
            "+----------+-----+\n",
            "|         1|   50|\n",
            "|         2|   61|\n",
            "|         0|   39|\n",
            "+----------+-----+\n",
            "\n"
          ]
        }
      ],
      "source": [
        "## 비지도학습이므로 Label이 없으므로 어떤 비율로 clustering 되었는지 점검\n",
        "result.groupBy(\"Species\").count().show()\n",
        "result.groupBy(\"prediction\").count().show()"
      ]
    },
    {
      "cell_type": "markdown",
      "id": "5ff7df91",
      "metadata": {
        "id": "5ff7df91"
      },
      "source": [
        "### Cluster 시각화"
      ]
    },
    {
      "cell_type": "code",
      "execution_count": 13,
      "id": "246be829",
      "metadata": {
        "colab": {
          "base_uri": "https://localhost:8080/"
        },
        "id": "246be829",
        "outputId": "420d79e4-9bab-4925-82c0-e8ccbd303e0c"
      },
      "outputs": [
        {
          "output_type": "execute_result",
          "data": {
            "text/plain": [
              "[array([6.85384615, 3.07692308, 5.71538462, 2.05384615]),\n",
              " array([5.006, 3.428, 1.462, 0.246]),\n",
              " array([5.88360656, 2.74098361, 4.38852459, 1.43442623])]"
            ]
          },
          "metadata": {},
          "execution_count": 13
        }
      ],
      "source": [
        "# 클러스터 중심(centroids)을 가져옵니다.\n",
        "centers = kmeans.clusterCenters()\n",
        "\n",
        "# 클러스터 중심 좌표 출력\n",
        "centers"
      ]
    },
    {
      "cell_type": "code",
      "execution_count": 14,
      "id": "e19707d1",
      "metadata": {
        "colab": {
          "base_uri": "https://localhost:8080/",
          "height": 433
        },
        "id": "e19707d1",
        "outputId": "4502993e-5c93-4895-c364-fe0080575eb0"
      },
      "outputs": [
        {
          "output_type": "display_data",
          "data": {
            "text/plain": [
              "<Figure size 640x480 with 1 Axes>"
            ],
            "image/png": "[encoded data removed]"
          },
          "metadata": {}
        }
      ],
      "source": [
        "import matplotlib.pyplot as plt\n",
        "\n",
        "# K-평균 클러스터링 결과를 시각화하는 코드입니다.\n",
        "# 클러스터링 결과를 클러스터별로 분리하여 산점도로 표시하고, 클러스터 중심(centroid)을 함께 표시합니다.\n",
        "\n",
        "for i in range(3):  # 총 3개의 클러스터(0, 1, 2)에 대해 반복\n",
        "    # 특정 클러스터(i)에 속하는 데이터만 선택\n",
        "    # - select(\"sepal_length\", \"sepal_width\"): 'sepal_length'와 'sepal_width' 컬럼만 선택.\n",
        "    # - where(f\"prediction = {i}\"): 클러스터 번호가 i인 데이터만 필터링.\n",
        "    # - toPandas(): PySpark 데이터프레임을 Pandas 데이터프레임으로 변환.\n",
        "    # - values: 선택된 데이터를 NumPy 배열 형식으로 변환.\n",
        "    X = result.select(\"sepal_length\", \"sepal_width\").where(f\"prediction = {i}\").toPandas().values\n",
        "\n",
        "    # 선택된 데이터를 산점도로 표시\n",
        "    # - X[:, 0]: 'sepal_length' 값.\n",
        "    # - X[:, 1]: 'sepal_width' 값.\n",
        "    # - marker='.': 데이터 포인트를 점 모양으로 표시.\n",
        "    plt.scatter(X[:, 0], X[:, 1], marker='.')\n",
        "\n",
        "    # 해당 클러스터의 중심(centroid)을 표시\n",
        "    # - centers[i][0]: 클러스터 i의 'sepal_length' 중심 좌표.\n",
        "    # - centers[i][1]: 클러스터 i의 'sepal_width' 중심 좌표.\n",
        "    # - marker='o': 중심점을 원 모양으로 표시.\n",
        "    # - markeredgecolor='k': 중심점 테두리 색상(검정).\n",
        "    # - markersize=20: 중심점의 크기를 20으로 설정.\n",
        "    plt.plot(centers[i][0], centers[i][1], marker='o', markeredgecolor='k', markersize=20)\n",
        "\n",
        "# 플롯을 화면에 표시\n",
        "plt.show()"
      ]
    },
    {
      "cell_type": "code",
      "execution_count": null,
      "id": "c370fbdf",
      "metadata": {
        "id": "c370fbdf"
      },
      "outputs": [],
      "source": []
    }
  ],
  "metadata": {
    "kernelspec": {
      "display_name": "Python 3 (ipykernel)",
      "language": "python",
      "name": "python3"
    },
    "language_info": {
      "codemirror_mode": {
        "name": "ipython",
        "version": 3
      },
      "file_extension": ".py",
      "mimetype": "text/x-python",
      "name": "python",
      "nbconvert_exporter": "python",
      "pygments_lexer": "ipython3",
      "version": "3.9.16"
    },
    "colab": {
      "provenance": []
    }
  },
  "nbformat": 4,
  "nbformat_minor": 5
}