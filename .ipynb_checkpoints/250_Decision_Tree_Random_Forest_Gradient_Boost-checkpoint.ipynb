{
  "cells": [
    {
      "cell_type": "markdown",
      "id": "81157b99",
      "metadata": {
        "id": "81157b99"
      },
      "source": [
        "# Decision Tree, Random Forest Classifier, Gradient Boost\n",
        "\n",
        "Titanic 데이터셋의을 이용하여 분류 모델을 작성합니다.\n",
        "\n",
        "---\n",
        "\n",
        "**컬럼 설명**\n",
        "\n",
        "    1. **`PassengerId`**: 승객 고유 식별할 수 있는 ID 번호.\n",
        "    2. **`Survived`**: 0 - 사망, 1 - 생존\n",
        "    3. **`Pclass`**:  승객의 좌석 등급(Class)\n",
        "    4. **`Name`**: 승객 이름\n",
        "    5. **`Sex`**: 성별\n",
        "    6. **`Age`**: 승객의 나이\n",
        "    7. **`SibSp`**: 함께 탑승한 **형제자매(Siblings)** 및 **배우자(Spouse)**의 수\n",
        "    8. **`Parch`**: 함께 탑승한 **부모(Parents)** 및 **자녀(Children)**의 수\n",
        "    9. **`Ticket`**:  티켓 고유 번호\n",
        "    10. **`Fare`**: 운임 요금\n",
        "    11. **`Cabin`**: 객실 번호.\n",
        "    12. **`Embarked`**: 탑승 항구"
      ]
    },
    {
      "cell_type": "code",
      "execution_count": 1,
      "id": "249080da",
      "metadata": {
        "id": "249080da"
      },
      "outputs": [],
      "source": [
        "from pyspark.sql import SparkSession\n",
        "\n",
        "spark = SparkSession.builder.appName(\"SparkML\").config(\"spark.sql.repl.eagerEval.enabled\", True).getOrCreate()"
      ]
    },
    {
      "cell_type": "code",
      "source": [
        "from google.colab import drive\n",
        "\n",
        "# Google Drive 마운트\n",
        "drive.mount('/content/drive')"
      ],
      "metadata": {
        "colab": {
          "base_uri": "https://localhost:8080/"
        },
        "id": "j2inIYF9CXDp",
        "outputId": "2e62b1ef-04da-4dcf-c04a-ab2f25438318"
      },
      "id": "j2inIYF9CXDp",
      "execution_count": 3,
      "outputs": [
        {
          "output_type": "stream",
          "name": "stdout",
          "text": [
            "Mounted at /content/drive\n"
          ]
        }
      ]
    },
    {
      "cell_type": "code",
      "execution_count": 4,
      "id": "393f2ef9",
      "metadata": {
        "id": "393f2ef9"
      },
      "outputs": [],
      "source": [
        "from pyspark.ml.classification import DecisionTreeClassifier, RandomForestClassifier, GBTClassifier\n",
        "from pyspark.ml.feature import StringIndexer\n",
        "from pyspark.ml.feature import OneHotEncoder\n",
        "from pyspark.ml.feature import VectorAssembler"
      ]
    },
    {
      "cell_type": "code",
      "execution_count": 6,
      "id": "c9902653",
      "metadata": {
        "colab": {
          "base_uri": "https://localhost:8080/",
          "height": 159
        },
        "id": "c9902653",
        "outputId": "d2cc6483-7831-47df-e61e-582828c6466b"
      },
      "outputs": [
        {
          "output_type": "execute_result",
          "data": {
            "text/plain": [
              "+-----------+--------+------+--------------------+------+----+-----+-----+----------------+-------+-----+--------+\n",
              "|PassengerId|Survived|Pclass|                Name|   Sex| Age|SibSp|Parch|          Ticket|   Fare|Cabin|Embarked|\n",
              "+-----------+--------+------+--------------------+------+----+-----+-----+----------------+-------+-----+--------+\n",
              "|          1|       0|     3|Braund, Mr. Owen ...|  male|22.0|    1|    0|       A/5 21171|   7.25| NULL|       S|\n",
              "|          2|       1|     1|Cumings, Mrs. Joh...|female|38.0|    1|    0|        PC 17599|71.2833|  C85|       C|\n",
              "|          3|       1|     3|Heikkinen, Miss. ...|female|26.0|    0|    0|STON/O2. 3101282|  7.925| NULL|       S|\n",
              "|          4|       1|     1|Futrelle, Mrs. Ja...|female|35.0|    1|    0|          113803|   53.1| C123|       S|\n",
              "|          5|       0|     3|Allen, Mr. Willia...|  male|35.0|    0|    0|          373450|   8.05| NULL|       S|\n",
              "+-----------+--------+------+--------------------+------+----+-----+-----+----------------+-------+-----+--------+"
            ],
            "text/html": [
              "<table border='1'>\n",
              "<tr><th>PassengerId</th><th>Survived</th><th>Pclass</th><th>Name</th><th>Sex</th><th>Age</th><th>SibSp</th><th>Parch</th><th>Ticket</th><th>Fare</th><th>Cabin</th><th>Embarked</th></tr>\n",
              "<tr><td>1</td><td>0</td><td>3</td><td>Braund, Mr. Owen ...</td><td>male</td><td>22.0</td><td>1</td><td>0</td><td>A/5 21171</td><td>7.25</td><td>NULL</td><td>S</td></tr>\n",
              "<tr><td>2</td><td>1</td><td>1</td><td>Cumings, Mrs. Joh...</td><td>female</td><td>38.0</td><td>1</td><td>0</td><td>PC 17599</td><td>71.2833</td><td>C85</td><td>C</td></tr>\n",
              "<tr><td>3</td><td>1</td><td>3</td><td>Heikkinen, Miss. ...</td><td>female</td><td>26.0</td><td>0</td><td>0</td><td>STON/O2. 3101282</td><td>7.925</td><td>NULL</td><td>S</td></tr>\n",
              "<tr><td>4</td><td>1</td><td>1</td><td>Futrelle, Mrs. Ja...</td><td>female</td><td>35.0</td><td>1</td><td>0</td><td>113803</td><td>53.1</td><td>C123</td><td>S</td></tr>\n",
              "<tr><td>5</td><td>0</td><td>3</td><td>Allen, Mr. Willia...</td><td>male</td><td>35.0</td><td>0</td><td>0</td><td>373450</td><td>8.05</td><td>NULL</td><td>S</td></tr>\n",
              "</table>\n"
            ]
          },
          "metadata": {},
          "execution_count": 6
        }
      ],
      "source": [
        "df = spark.read.csv(\"/content/drive/Othercomputers/내 컴퓨터/BigDataDatasets/titanic.csv\", header=\"true\", inferSchema=\"true\")\n",
        "df.limit(5)"
      ]
    },
    {
      "cell_type": "markdown",
      "id": "cc130bd4",
      "metadata": {
        "id": "cc130bd4"
      },
      "source": [
        "### Simple EDA"
      ]
    },
    {
      "cell_type": "code",
      "execution_count": 7,
      "id": "700f4ed3",
      "metadata": {
        "colab": {
          "base_uri": "https://localhost:8080/"
        },
        "id": "700f4ed3",
        "outputId": "8e0ce3de-7007-480d-8bf6-5494c5bcf0e9"
      },
      "outputs": [
        {
          "output_type": "execute_result",
          "data": {
            "text/plain": [
              "891"
            ]
          },
          "metadata": {},
          "execution_count": 7
        }
      ],
      "source": [
        "# df 의 전체 행(row) 개수\n",
        "df.count()"
      ]
    },
    {
      "cell_type": "code",
      "execution_count": 8,
      "id": "d3e0b869",
      "metadata": {
        "colab": {
          "base_uri": "https://localhost:8080/"
        },
        "id": "d3e0b869",
        "outputId": "14a1a31e-d24e-44e6-cf95-964bd9052e5d"
      },
      "outputs": [
        {
          "output_type": "stream",
          "name": "stdout",
          "text": [
            "root\n",
            " |-- PassengerId: integer (nullable = true)\n",
            " |-- Survived: integer (nullable = true)\n",
            " |-- Pclass: integer (nullable = true)\n",
            " |-- Name: string (nullable = true)\n",
            " |-- Sex: string (nullable = true)\n",
            " |-- Age: double (nullable = true)\n",
            " |-- SibSp: integer (nullable = true)\n",
            " |-- Parch: integer (nullable = true)\n",
            " |-- Ticket: string (nullable = true)\n",
            " |-- Fare: double (nullable = true)\n",
            " |-- Cabin: string (nullable = true)\n",
            " |-- Embarked: string (nullable = true)\n",
            "\n"
          ]
        }
      ],
      "source": [
        "df.printSchema()"
      ]
    },
    {
      "cell_type": "code",
      "execution_count": 9,
      "id": "7110b20c",
      "metadata": {
        "colab": {
          "base_uri": "https://localhost:8080/"
        },
        "id": "7110b20c",
        "outputId": "1c2c4f30-5c62-49ff-db05-32dd9df18c3f"
      },
      "outputs": [
        {
          "output_type": "stream",
          "name": "stdout",
          "text": [
            "+--------+------+------+----+-----+-----+-------+--------+\n",
            "|Survived|Pclass|   Sex| Age|SibSp|Parch|   Fare|Embarked|\n",
            "+--------+------+------+----+-----+-----+-------+--------+\n",
            "|       0|     3|  male|22.0|    1|    0|   7.25|       S|\n",
            "|       1|     1|female|38.0|    1|    0|71.2833|       C|\n",
            "|       1|     3|female|26.0|    0|    0|  7.925|       S|\n",
            "|       1|     1|female|35.0|    1|    0|   53.1|       S|\n",
            "|       0|     3|  male|35.0|    0|    0|   8.05|       S|\n",
            "+--------+------+------+----+-----+-----+-------+--------+\n",
            "only showing top 5 rows\n",
            "\n"
          ]
        }
      ],
      "source": [
        "## 불필요한 column 삭제\n",
        "df = df.drop(\"PassengerId\", \"Name\", \"Ticket\", \"Cabin\")\n",
        "df.show(5)"
      ]
    },
    {
      "cell_type": "markdown",
      "id": "23b96a2c",
      "metadata": {
        "id": "23b96a2c"
      },
      "source": [
        "### Missing Value 처리"
      ]
    },
    {
      "cell_type": "code",
      "execution_count": 10,
      "id": "43ce66c5",
      "metadata": {
        "colab": {
          "base_uri": "https://localhost:8080/",
          "height": 159
        },
        "id": "43ce66c5",
        "outputId": "1c310845-906f-4016-a60d-fe757afe9200"
      },
      "outputs": [
        {
          "output_type": "execute_result",
          "data": {
            "text/plain": [
              "+-------+-------------------+------------------+------+------------------+------------------+-------------------+-----------------+--------+\n",
              "|summary|           Survived|            Pclass|   Sex|               Age|             SibSp|              Parch|             Fare|Embarked|\n",
              "+-------+-------------------+------------------+------+------------------+------------------+-------------------+-----------------+--------+\n",
              "|  count|                891|               891|   891|               714|               891|                891|              891|     889|\n",
              "|   mean| 0.3838383838383838| 2.308641975308642|  NULL| 29.69911764705882|0.5230078563411896|0.38159371492704824| 32.2042079685746|    NULL|\n",
              "| stddev|0.48659245426485753|0.8360712409770491|  NULL|14.526497332334035|1.1027434322934315| 0.8060572211299488|49.69342859718089|    NULL|\n",
              "|    min|                  0|                 1|female|              0.42|                 0|                  0|              0.0|       C|\n",
              "|    max|                  1|                 3|  male|              80.0|                 8|                  6|         512.3292|       S|\n",
              "+-------+-------------------+------------------+------+------------------+------------------+-------------------+-----------------+--------+"
            ],
            "text/html": [
              "<table border='1'>\n",
              "<tr><th>summary</th><th>Survived</th><th>Pclass</th><th>Sex</th><th>Age</th><th>SibSp</th><th>Parch</th><th>Fare</th><th>Embarked</th></tr>\n",
              "<tr><td>count</td><td>891</td><td>891</td><td>891</td><td>714</td><td>891</td><td>891</td><td>891</td><td>889</td></tr>\n",
              "<tr><td>mean</td><td>0.3838383838383838</td><td>2.308641975308642</td><td>NULL</td><td>29.69911764705882</td><td>0.5230078563411896</td><td>0.38159371492704824</td><td>32.2042079685746</td><td>NULL</td></tr>\n",
              "<tr><td>stddev</td><td>0.48659245426485753</td><td>0.8360712409770491</td><td>NULL</td><td>14.526497332334035</td><td>1.1027434322934315</td><td>0.8060572211299488</td><td>49.69342859718089</td><td>NULL</td></tr>\n",
              "<tr><td>min</td><td>0</td><td>1</td><td>female</td><td>0.42</td><td>0</td><td>0</td><td>0.0</td><td>C</td></tr>\n",
              "<tr><td>max</td><td>1</td><td>3</td><td>male</td><td>80.0</td><td>8</td><td>6</td><td>512.3292</td><td>S</td></tr>\n",
              "</table>\n"
            ]
          },
          "metadata": {},
          "execution_count": 10
        }
      ],
      "source": [
        "df.describe()"
      ]
    },
    {
      "cell_type": "code",
      "execution_count": 12,
      "id": "561a354d",
      "metadata": {
        "colab": {
          "base_uri": "https://localhost:8080/",
          "height": 67
        },
        "id": "561a354d",
        "outputId": "430b7877-771a-4e87-88bc-976c6dbd9c50"
      },
      "outputs": [
        {
          "output_type": "execute_result",
          "data": {
            "text/plain": [
              "+---------------+-------------+----------+----------+------------+------------+-----------+---------------+\n",
              "|count(Survived)|count(Pclass)|count(Sex)|count(Age)|count(SibSp)|count(Parch)|count(Fare)|count(Embarked)|\n",
              "+---------------+-------------+----------+----------+------------+------------+-----------+---------------+\n",
              "|            891|          891|       891|       714|         891|         891|        891|            889|\n",
              "+---------------+-------------+----------+----------+------------+------------+-----------+---------------+"
            ],
            "text/html": [
              "<table border='1'>\n",
              "<tr><th>count(Survived)</th><th>count(Pclass)</th><th>count(Sex)</th><th>count(Age)</th><th>count(SibSp)</th><th>count(Parch)</th><th>count(Fare)</th><th>count(Embarked)</th></tr>\n",
              "<tr><td>891</td><td>891</td><td>891</td><td>714</td><td>891</td><td>891</td><td>891</td><td>889</td></tr>\n",
              "</table>\n"
            ]
          },
          "metadata": {},
          "execution_count": 12
        }
      ],
      "source": [
        "from pyspark.sql.functions import count\n",
        "\n",
        "# 데이터프레임에서 각 컬럼의 데이터 개수를 계산하여 출력\n",
        "# - count(c): 각 컬럼(c)에 대해 데이터 개수를 계산 (결측값은 제외)\n",
        "# df.select([...])는 데이터프레임의 특정 컬럼 또는 계산 결과를 선택\n",
        "df.select([count(c) for c in df.columns])"
      ]
    },
    {
      "cell_type": "code",
      "source": [
        "from pyspark.sql.functions import col, count, when\n",
        "\n",
        "# 각 컬럼의 결측값(null) 개수를 계산\n",
        "# 전체 row 수df.cout() 와 column의 데이터 개수 차이\n",
        "null_counts = df.select([\n",
        "    (df.count() - count(c)).alias(f\"null_{c}\") for c in df.columns\n",
        "])\n",
        "\n",
        "null_counts"
      ],
      "metadata": {
        "colab": {
          "base_uri": "https://localhost:8080/",
          "height": 67
        },
        "id": "ww_bEyScOLQA",
        "outputId": "c0e6dbd0-70fc-446f-e3b5-a021eea17c80"
      },
      "id": "ww_bEyScOLQA",
      "execution_count": 15,
      "outputs": [
        {
          "output_type": "execute_result",
          "data": {
            "text/plain": [
              "+-------------+-----------+--------+--------+----------+----------+---------+-------------+\n",
              "|null_Survived|null_Pclass|null_Sex|null_Age|null_SibSp|null_Parch|null_Fare|null_Embarked|\n",
              "+-------------+-----------+--------+--------+----------+----------+---------+-------------+\n",
              "|            0|          0|       0|     177|         0|         0|        0|            2|\n",
              "+-------------+-----------+--------+--------+----------+----------+---------+-------------+"
            ],
            "text/html": [
              "<table border='1'>\n",
              "<tr><th>null_Survived</th><th>null_Pclass</th><th>null_Sex</th><th>null_Age</th><th>null_SibSp</th><th>null_Parch</th><th>null_Fare</th><th>null_Embarked</th></tr>\n",
              "<tr><td>0</td><td>0</td><td>0</td><td>177</td><td>0</td><td>0</td><td>0</td><td>2</td></tr>\n",
              "</table>\n"
            ]
          },
          "metadata": {},
          "execution_count": 15
        }
      ]
    },
    {
      "cell_type": "markdown",
      "source": [
        "`Age`는 결측값이 많으므로 평균으로 채워넣고 `Embarked`는 2 개 뿐이므로 drop 시킵니다."
      ],
      "metadata": {
        "id": "bkEmSnbqPX0n"
      },
      "id": "bkEmSnbqPX0n"
    },
    {
      "cell_type": "code",
      "execution_count": 13,
      "id": "a576bd70",
      "metadata": {
        "colab": {
          "base_uri": "https://localhost:8080/",
          "height": 159
        },
        "id": "a576bd70",
        "outputId": "454f1349-58c2-42da-fe10-5ccf00681f20"
      },
      "outputs": [
        {
          "output_type": "execute_result",
          "data": {
            "text/plain": [
              "+--------+------+------+----+-----+-----+-------+--------+\n",
              "|Survived|Pclass|   Sex| Age|SibSp|Parch|   Fare|Embarked|\n",
              "+--------+------+------+----+-----+-----+-------+--------+\n",
              "|       0|     3|  male|22.0|    1|    0|   7.25|       S|\n",
              "|       1|     1|female|38.0|    1|    0|71.2833|       C|\n",
              "|       1|     3|female|26.0|    0|    0|  7.925|       S|\n",
              "|       1|     1|female|35.0|    1|    0|   53.1|       S|\n",
              "|       0|     3|  male|35.0|    0|    0|   8.05|       S|\n",
              "+--------+------+------+----+-----+-----+-------+--------+"
            ],
            "text/html": [
              "<table border='1'>\n",
              "<tr><th>Survived</th><th>Pclass</th><th>Sex</th><th>Age</th><th>SibSp</th><th>Parch</th><th>Fare</th><th>Embarked</th></tr>\n",
              "<tr><td>0</td><td>3</td><td>male</td><td>22.0</td><td>1</td><td>0</td><td>7.25</td><td>S</td></tr>\n",
              "<tr><td>1</td><td>1</td><td>female</td><td>38.0</td><td>1</td><td>0</td><td>71.2833</td><td>C</td></tr>\n",
              "<tr><td>1</td><td>3</td><td>female</td><td>26.0</td><td>0</td><td>0</td><td>7.925</td><td>S</td></tr>\n",
              "<tr><td>1</td><td>1</td><td>female</td><td>35.0</td><td>1</td><td>0</td><td>53.1</td><td>S</td></tr>\n",
              "<tr><td>0</td><td>3</td><td>male</td><td>35.0</td><td>0</td><td>0</td><td>8.05</td><td>S</td></tr>\n",
              "</table>\n"
            ]
          },
          "metadata": {},
          "execution_count": 13
        }
      ],
      "source": [
        "from pyspark.ml.feature import Imputer\n",
        "\n",
        "# 결측값(null)을 평균으로 대체하는 Imputer 생성\n",
        "# - setStrategy('mean'): 결측값을 대체하는 전략을 'mean'(평균)으로 설정\n",
        "imputer = Imputer(inputCols=['Age'], outputCols=['Age']).setStrategy('mean')\n",
        "\n",
        "# Imputer 모델을 학습하고 데이터프레임(df)에 적용하여 결측값을 대체\n",
        "df_cleaned = imputer.fit(df).transform(df)\n",
        "\n",
        "df_cleaned.limit(5)"
      ]
    },
    {
      "cell_type": "code",
      "execution_count": 16,
      "id": "000fc28f",
      "metadata": {
        "colab": {
          "base_uri": "https://localhost:8080/",
          "height": 159
        },
        "id": "000fc28f",
        "outputId": "74ce5fb7-4eac-4640-f018-7db32f84fc07"
      },
      "outputs": [
        {
          "output_type": "execute_result",
          "data": {
            "text/plain": [
              "+--------+------+------+----+-----+-----+-------+--------+\n",
              "|Survived|Pclass|   Sex| Age|SibSp|Parch|   Fare|Embarked|\n",
              "+--------+------+------+----+-----+-----+-------+--------+\n",
              "|       0|     3|  male|22.0|    1|    0|   7.25|       S|\n",
              "|       1|     1|female|38.0|    1|    0|71.2833|       C|\n",
              "|       1|     3|female|26.0|    0|    0|  7.925|       S|\n",
              "|       1|     1|female|35.0|    1|    0|   53.1|       S|\n",
              "|       0|     3|  male|35.0|    0|    0|   8.05|       S|\n",
              "+--------+------+------+----+-----+-----+-------+--------+"
            ],
            "text/html": [
              "<table border='1'>\n",
              "<tr><th>Survived</th><th>Pclass</th><th>Sex</th><th>Age</th><th>SibSp</th><th>Parch</th><th>Fare</th><th>Embarked</th></tr>\n",
              "<tr><td>0</td><td>3</td><td>male</td><td>22.0</td><td>1</td><td>0</td><td>7.25</td><td>S</td></tr>\n",
              "<tr><td>1</td><td>1</td><td>female</td><td>38.0</td><td>1</td><td>0</td><td>71.2833</td><td>C</td></tr>\n",
              "<tr><td>1</td><td>3</td><td>female</td><td>26.0</td><td>0</td><td>0</td><td>7.925</td><td>S</td></tr>\n",
              "<tr><td>1</td><td>1</td><td>female</td><td>35.0</td><td>1</td><td>0</td><td>53.1</td><td>S</td></tr>\n",
              "<tr><td>0</td><td>3</td><td>male</td><td>35.0</td><td>0</td><td>0</td><td>8.05</td><td>S</td></tr>\n",
              "</table>\n"
            ]
          },
          "metadata": {},
          "execution_count": 16
        }
      ],
      "source": [
        "# Embarked는 2개 밖에 안되므로 drop\n",
        "# - na.drop(how='any'): 결측값이 하나라도 있는 행을 제거\n",
        "df_cleaned = df_cleaned.na.drop(how='any')\n",
        "df_cleaned.limit(5)"
      ]
    },
    {
      "cell_type": "code",
      "source": [
        "# df_cleaned에서 결측치가 모두 제거되 것을 확인\n",
        "df_cleaned.select([\n",
        "    (df_cleaned.count() - count(c)).alias(f\"null_{c}\") for c in df_cleaned.columns\n",
        "])"
      ],
      "metadata": {
        "colab": {
          "base_uri": "https://localhost:8080/",
          "height": 67
        },
        "id": "46jn9mFHP3SA",
        "outputId": "9e19b9c6-699e-42b7-d582-ffe055704419"
      },
      "id": "46jn9mFHP3SA",
      "execution_count": 20,
      "outputs": [
        {
          "output_type": "execute_result",
          "data": {
            "text/plain": [
              "+-------------+-----------+--------+--------+----------+----------+---------+-------------+\n",
              "|null_Survived|null_Pclass|null_Sex|null_Age|null_SibSp|null_Parch|null_Fare|null_Embarked|\n",
              "+-------------+-----------+--------+--------+----------+----------+---------+-------------+\n",
              "|            0|          0|       0|       0|         0|         0|        0|            0|\n",
              "+-------------+-----------+--------+--------+----------+----------+---------+-------------+"
            ],
            "text/html": [
              "<table border='1'>\n",
              "<tr><th>null_Survived</th><th>null_Pclass</th><th>null_Sex</th><th>null_Age</th><th>null_SibSp</th><th>null_Parch</th><th>null_Fare</th><th>null_Embarked</th></tr>\n",
              "<tr><td>0</td><td>0</td><td>0</td><td>0</td><td>0</td><td>0</td><td>0</td><td>0</td></tr>\n",
              "</table>\n"
            ]
          },
          "metadata": {},
          "execution_count": 20
        }
      ]
    },
    {
      "cell_type": "code",
      "execution_count": 23,
      "id": "6ddf349a",
      "metadata": {
        "colab": {
          "base_uri": "https://localhost:8080/"
        },
        "id": "6ddf349a",
        "outputId": "272190da-43d3-48d7-8b0a-bed9b0739c99"
      },
      "outputs": [
        {
          "output_type": "stream",
          "name": "stdout",
          "text": [
            "+--------+-----+\n",
            "|Survived|count|\n",
            "+--------+-----+\n",
            "|       1|  340|\n",
            "|       0|  549|\n",
            "+--------+-----+\n",
            "\n",
            "+------+-----+\n",
            "|Pclass|count|\n",
            "+------+-----+\n",
            "|     1|  214|\n",
            "|     3|  491|\n",
            "|     2|  184|\n",
            "+------+-----+\n",
            "\n",
            "+------+-----+\n",
            "|   Sex|count|\n",
            "+------+-----+\n",
            "|female|  312|\n",
            "|  male|  577|\n",
            "+------+-----+\n",
            "\n",
            "+--------+-----+\n",
            "|Embarked|count|\n",
            "+--------+-----+\n",
            "|       Q|   77|\n",
            "|       C|  168|\n",
            "|       S|  644|\n",
            "+--------+-----+\n",
            "\n"
          ]
        }
      ],
      "source": [
        "# 주요 특성별로 데이터의 분포 분석\n",
        "df_cleaned.groupBy(\"Survived\").count().show()\n",
        "df_cleaned.groupBy(\"Pclass\").count().show()\n",
        "df_cleaned.groupBy(\"Sex\").count().show()\n",
        "df_cleaned.groupBy(\"Embarked\").count().show()"
      ]
    },
    {
      "cell_type": "markdown",
      "source": [
        "### 범주형 컬럼의 One Hot Encoding"
      ],
      "metadata": {
        "id": "eg-9LiHpUjz9"
      },
      "id": "eg-9LiHpUjz9"
    },
    {
      "cell_type": "code",
      "execution_count": 24,
      "id": "592b539c",
      "metadata": {
        "colab": {
          "base_uri": "https://localhost:8080/",
          "height": 159
        },
        "id": "592b539c",
        "outputId": "691c9825-61a4-4d0d-ef1c-f130270cd129"
      },
      "outputs": [
        {
          "output_type": "execute_result",
          "data": {
            "text/plain": [
              "+--------+------+------+----+-----+-----+-------+--------+-------+----+---------+\n",
              "|Survived|Pclass|   Sex| Age|SibSp|Parch|   Fare|Embarked|Pclass_|Sex_|Embarked_|\n",
              "+--------+------+------+----+-----+-----+-------+--------+-------+----+---------+\n",
              "|       0|     3|  male|22.0|    1|    0|   7.25|       S|    0.0| 0.0|      0.0|\n",
              "|       1|     1|female|38.0|    1|    0|71.2833|       C|    1.0| 1.0|      1.0|\n",
              "|       1|     3|female|26.0|    0|    0|  7.925|       S|    0.0| 1.0|      0.0|\n",
              "|       1|     1|female|35.0|    1|    0|   53.1|       S|    1.0| 1.0|      0.0|\n",
              "|       0|     3|  male|35.0|    0|    0|   8.05|       S|    0.0| 0.0|      0.0|\n",
              "+--------+------+------+----+-----+-----+-------+--------+-------+----+---------+"
            ],
            "text/html": [
              "<table border='1'>\n",
              "<tr><th>Survived</th><th>Pclass</th><th>Sex</th><th>Age</th><th>SibSp</th><th>Parch</th><th>Fare</th><th>Embarked</th><th>Pclass_</th><th>Sex_</th><th>Embarked_</th></tr>\n",
              "<tr><td>0</td><td>3</td><td>male</td><td>22.0</td><td>1</td><td>0</td><td>7.25</td><td>S</td><td>0.0</td><td>0.0</td><td>0.0</td></tr>\n",
              "<tr><td>1</td><td>1</td><td>female</td><td>38.0</td><td>1</td><td>0</td><td>71.2833</td><td>C</td><td>1.0</td><td>1.0</td><td>1.0</td></tr>\n",
              "<tr><td>1</td><td>3</td><td>female</td><td>26.0</td><td>0</td><td>0</td><td>7.925</td><td>S</td><td>0.0</td><td>1.0</td><td>0.0</td></tr>\n",
              "<tr><td>1</td><td>1</td><td>female</td><td>35.0</td><td>1</td><td>0</td><td>53.1</td><td>S</td><td>1.0</td><td>1.0</td><td>0.0</td></tr>\n",
              "<tr><td>0</td><td>3</td><td>male</td><td>35.0</td><td>0</td><td>0</td><td>8.05</td><td>S</td><td>0.0</td><td>0.0</td><td>0.0</td></tr>\n",
              "</table>\n"
            ]
          },
          "metadata": {},
          "execution_count": 24
        }
      ],
      "source": [
        "## 범주형(feature) 데이터 변환\n",
        "from pyspark.ml.feature import StringIndexer\n",
        "\n",
        "# - inputCols: 인덱싱할 입력 컬럼들의 리스트 (여기서는 'Pclass', 'Sex', 'Embarked')\n",
        "# - outputCols: 변환된 인덱스를 저장할 출력 컬럼들의 리스트 (여기서는 'Pclass_', 'Sex_', 'Embarked_')\n",
        "# - fit: 데이터프레임(df_cleaned)을 기반으로 StringIndexer 모델을 학습\n",
        "\n",
        "indexer = StringIndexer(\n",
        "    inputCols=['Pclass', 'Sex', 'Embarked'],\n",
        "    outputCols=['Pclass_', 'Sex_', 'Embarked_']\n",
        ").fit(df_cleaned)\n",
        "\n",
        "# 학습된 StringIndexer 모델을 사용하여 데이터프레임(df_cleaned)에 변환을 적용\n",
        "# 변환된 데이터는 새로운 컬럼('Pclass_', 'Sex_', 'Embarked_')이 추가된 데이터프레임(df_r)에 저장됩니다.\n",
        "df_r = indexer.transform(df_cleaned)\n",
        "df_r.limit(5)"
      ]
    },
    {
      "cell_type": "code",
      "execution_count": 25,
      "id": "bde55394",
      "metadata": {
        "colab": {
          "base_uri": "https://localhost:8080/",
          "height": 159
        },
        "id": "bde55394",
        "outputId": "6f825537-f8c3-4526-d519-b3be73d71619"
      },
      "outputs": [
        {
          "output_type": "execute_result",
          "data": {
            "text/plain": [
              "+--------+------+------+----+-----+-----+-------+--------+-------+----+---------+-------------+-------------+-------------+\n",
              "|Survived|Pclass|   Sex| Age|SibSp|Parch|   Fare|Embarked|Pclass_|Sex_|Embarked_|   Pclass_ohe|      Sex_ohe| Embarked_ohe|\n",
              "+--------+------+------+----+-----+-----+-------+--------+-------+----+---------+-------------+-------------+-------------+\n",
              "|       0|     3|  male|22.0|    1|    0|   7.25|       S|    0.0| 0.0|      0.0|(2,[0],[1.0])|(1,[0],[1.0])|(2,[0],[1.0])|\n",
              "|       1|     1|female|38.0|    1|    0|71.2833|       C|    1.0| 1.0|      1.0|(2,[1],[1.0])|    (1,[],[])|(2,[1],[1.0])|\n",
              "|       1|     3|female|26.0|    0|    0|  7.925|       S|    0.0| 1.0|      0.0|(2,[0],[1.0])|    (1,[],[])|(2,[0],[1.0])|\n",
              "|       1|     1|female|35.0|    1|    0|   53.1|       S|    1.0| 1.0|      0.0|(2,[1],[1.0])|    (1,[],[])|(2,[0],[1.0])|\n",
              "|       0|     3|  male|35.0|    0|    0|   8.05|       S|    0.0| 0.0|      0.0|(2,[0],[1.0])|(1,[0],[1.0])|(2,[0],[1.0])|\n",
              "+--------+------+------+----+-----+-----+-------+--------+-------+----+---------+-------------+-------------+-------------+"
            ],
            "text/html": [
              "<table border='1'>\n",
              "<tr><th>Survived</th><th>Pclass</th><th>Sex</th><th>Age</th><th>SibSp</th><th>Parch</th><th>Fare</th><th>Embarked</th><th>Pclass_</th><th>Sex_</th><th>Embarked_</th><th>Pclass_ohe</th><th>Sex_ohe</th><th>Embarked_ohe</th></tr>\n",
              "<tr><td>0</td><td>3</td><td>male</td><td>22.0</td><td>1</td><td>0</td><td>7.25</td><td>S</td><td>0.0</td><td>0.0</td><td>0.0</td><td>(2,[0],[1.0])</td><td>(1,[0],[1.0])</td><td>(2,[0],[1.0])</td></tr>\n",
              "<tr><td>1</td><td>1</td><td>female</td><td>38.0</td><td>1</td><td>0</td><td>71.2833</td><td>C</td><td>1.0</td><td>1.0</td><td>1.0</td><td>(2,[1],[1.0])</td><td>(1,[],[])</td><td>(2,[1],[1.0])</td></tr>\n",
              "<tr><td>1</td><td>3</td><td>female</td><td>26.0</td><td>0</td><td>0</td><td>7.925</td><td>S</td><td>0.0</td><td>1.0</td><td>0.0</td><td>(2,[0],[1.0])</td><td>(1,[],[])</td><td>(2,[0],[1.0])</td></tr>\n",
              "<tr><td>1</td><td>1</td><td>female</td><td>35.0</td><td>1</td><td>0</td><td>53.1</td><td>S</td><td>1.0</td><td>1.0</td><td>0.0</td><td>(2,[1],[1.0])</td><td>(1,[],[])</td><td>(2,[0],[1.0])</td></tr>\n",
              "<tr><td>0</td><td>3</td><td>male</td><td>35.0</td><td>0</td><td>0</td><td>8.05</td><td>S</td><td>0.0</td><td>0.0</td><td>0.0</td><td>(2,[0],[1.0])</td><td>(1,[0],[1.0])</td><td>(2,[0],[1.0])</td></tr>\n",
              "</table>\n"
            ]
          },
          "metadata": {},
          "execution_count": 25
        }
      ],
      "source": [
        "## 원-핫 인코딩(OneHot Encoding)\n",
        "from pyspark.ml.feature import OneHotEncoder\n",
        "\n",
        "# - inputCols: 원-핫 인코딩을 적용할 입력 컬럼들의 리스트 (여기서는 'Pclass_', 'Sex_', 'Embarked_').\n",
        "# - outputCols: 변환된 원-핫 벡터를 저장할 출력 컬럼들의 리스트 (여기서는 'Pclass_ohe', 'Sex_ohe', 'Embarked_ohe').\n",
        "ohe = OneHotEncoder(\n",
        "    inputCols=['Pclass_', 'Sex_', 'Embarked_'],\n",
        "    outputCols=['Pclass_ohe', 'Sex_ohe', 'Embarked_ohe']\n",
        ").fit(df_r)\n",
        "\n",
        "# 학습된 OneHotEncoder 모델을 사용하여 데이터프레임(df_r)에 변환을 적용\n",
        "# 변환된 데이터는 새로운 컬럼('Pclass_ohe', 'Sex_ohe', 'Embarked_ohe')이 추가된 데이터프레임(df_ohe)에 저장됩니다.\n",
        "df_ohe = ohe.transform(df_r)\n",
        "df_ohe.limit(5)"
      ]
    },
    {
      "cell_type": "code",
      "execution_count": 26,
      "id": "e5ec60b9",
      "metadata": {
        "colab": {
          "base_uri": "https://localhost:8080/",
          "height": 159
        },
        "id": "e5ec60b9",
        "outputId": "019967ea-3191-4072-8007-9a5d3cca942a"
      },
      "outputs": [
        {
          "output_type": "execute_result",
          "data": {
            "text/plain": [
              "+--------+------+------+----+-----+-----+-------+--------+-------+----+---------+-------------+-------------+-------------+--------------------+\n",
              "|Survived|Pclass|   Sex| Age|SibSp|Parch|   Fare|Embarked|Pclass_|Sex_|Embarked_|   Pclass_ohe|      Sex_ohe| Embarked_ohe|            features|\n",
              "+--------+------+------+----+-----+-----+-------+--------+-------+----+---------+-------------+-------------+-------------+--------------------+\n",
              "|       0|     3|  male|22.0|    1|    0|   7.25|       S|    0.0| 0.0|      0.0|(2,[0],[1.0])|(1,[0],[1.0])|(2,[0],[1.0])|[22.0,1.0,0.0,7.2...|\n",
              "|       1|     1|female|38.0|    1|    0|71.2833|       C|    1.0| 1.0|      1.0|(2,[1],[1.0])|    (1,[],[])|(2,[1],[1.0])|[38.0,1.0,0.0,71....|\n",
              "|       1|     3|female|26.0|    0|    0|  7.925|       S|    0.0| 1.0|      0.0|(2,[0],[1.0])|    (1,[],[])|(2,[0],[1.0])|(9,[0,3,4,7],[26....|\n",
              "|       1|     1|female|35.0|    1|    0|   53.1|       S|    1.0| 1.0|      0.0|(2,[1],[1.0])|    (1,[],[])|(2,[0],[1.0])|[35.0,1.0,0.0,53....|\n",
              "|       0|     3|  male|35.0|    0|    0|   8.05|       S|    0.0| 0.0|      0.0|(2,[0],[1.0])|(1,[0],[1.0])|(2,[0],[1.0])|[35.0,0.0,0.0,8.0...|\n",
              "+--------+------+------+----+-----+-----+-------+--------+-------+----+---------+-------------+-------------+-------------+--------------------+"
            ],
            "text/html": [
              "<table border='1'>\n",
              "<tr><th>Survived</th><th>Pclass</th><th>Sex</th><th>Age</th><th>SibSp</th><th>Parch</th><th>Fare</th><th>Embarked</th><th>Pclass_</th><th>Sex_</th><th>Embarked_</th><th>Pclass_ohe</th><th>Sex_ohe</th><th>Embarked_ohe</th><th>features</th></tr>\n",
              "<tr><td>0</td><td>3</td><td>male</td><td>22.0</td><td>1</td><td>0</td><td>7.25</td><td>S</td><td>0.0</td><td>0.0</td><td>0.0</td><td>(2,[0],[1.0])</td><td>(1,[0],[1.0])</td><td>(2,[0],[1.0])</td><td>[22.0,1.0,0.0,7.2...</td></tr>\n",
              "<tr><td>1</td><td>1</td><td>female</td><td>38.0</td><td>1</td><td>0</td><td>71.2833</td><td>C</td><td>1.0</td><td>1.0</td><td>1.0</td><td>(2,[1],[1.0])</td><td>(1,[],[])</td><td>(2,[1],[1.0])</td><td>[38.0,1.0,0.0,71....</td></tr>\n",
              "<tr><td>1</td><td>3</td><td>female</td><td>26.0</td><td>0</td><td>0</td><td>7.925</td><td>S</td><td>0.0</td><td>1.0</td><td>0.0</td><td>(2,[0],[1.0])</td><td>(1,[],[])</td><td>(2,[0],[1.0])</td><td>(9,[0,3,4,7],[26....</td></tr>\n",
              "<tr><td>1</td><td>1</td><td>female</td><td>35.0</td><td>1</td><td>0</td><td>53.1</td><td>S</td><td>1.0</td><td>1.0</td><td>0.0</td><td>(2,[1],[1.0])</td><td>(1,[],[])</td><td>(2,[0],[1.0])</td><td>[35.0,1.0,0.0,53....</td></tr>\n",
              "<tr><td>0</td><td>3</td><td>male</td><td>35.0</td><td>0</td><td>0</td><td>8.05</td><td>S</td><td>0.0</td><td>0.0</td><td>0.0</td><td>(2,[0],[1.0])</td><td>(1,[0],[1.0])</td><td>(2,[0],[1.0])</td><td>[35.0,0.0,0.0,8.0...</td></tr>\n",
              "</table>\n"
            ]
          },
          "metadata": {},
          "execution_count": 26
        }
      ],
      "source": [
        "## 벡터 특징(Vector Feature) 생성\n",
        "from pyspark.ml.feature import VectorAssembler\n",
        "\n",
        "#  여러 개의 입력 컬럼을 하나의 벡터로 결합하여 머신러닝 모델에서 사용할 수 있는 형식으로 변환\n",
        "# - inputCols: 벡터로 결합할 입력 컬럼들의 리스트\n",
        "# - outputCol: 결합된 벡터를 저장할 출력 컬럼의 이름\n",
        "assembler = VectorAssembler(\n",
        "    inputCols=[\"Age\", \"SibSp\", \"Parch\", \"Fare\", \"Pclass_ohe\", \"Sex_ohe\", \"Embarked_ohe\"],\n",
        "    outputCol=\"features\"\n",
        ")\n",
        "\n",
        "# 학습된 VectorAssembler를 사용하여 데이터프레임(df_ohe)에 변환을 적용\n",
        "output = assembler.transform(df_ohe)\n",
        "output.limit(5)"
      ]
    },
    {
      "cell_type": "code",
      "source": [
        "output.first()"
      ],
      "metadata": {
        "colab": {
          "base_uri": "https://localhost:8080/"
        },
        "id": "Ru8CpjTuU5HQ",
        "outputId": "e4cbcdce-8ac2-49fd-a814-02d0245530bc"
      },
      "id": "Ru8CpjTuU5HQ",
      "execution_count": 27,
      "outputs": [
        {
          "output_type": "execute_result",
          "data": {
            "text/plain": [
              "Row(Survived=0, Pclass=3, Sex='male', Age=22.0, SibSp=1, Parch=0, Fare=7.25, Embarked='S', Pclass_=0.0, Sex_=0.0, Embarked_=0.0, Pclass_ohe=SparseVector(2, {0: 1.0}), Sex_ohe=SparseVector(1, {0: 1.0}), Embarked_ohe=SparseVector(2, {0: 1.0}), features=DenseVector([22.0, 1.0, 0.0, 7.25, 1.0, 0.0, 1.0, 1.0, 0.0]))"
            ]
          },
          "metadata": {},
          "execution_count": 27
        }
      ]
    },
    {
      "cell_type": "markdown",
      "id": "1afd1bc2",
      "metadata": {
        "id": "1afd1bc2"
      },
      "source": [
        "이제 모든 열이 단일 기능 벡터로 변환되었으므로 Feature Scaling을 합니다."
      ]
    },
    {
      "cell_type": "code",
      "execution_count": 28,
      "id": "edbf5bc3",
      "metadata": {
        "colab": {
          "base_uri": "https://localhost:8080/"
        },
        "id": "edbf5bc3",
        "outputId": "cb38ac72-e514-44a2-8378-47df3fac7f51"
      },
      "outputs": [
        {
          "output_type": "stream",
          "name": "stdout",
          "text": [
            "+--------+------+------+-----------------+-----+-----+-------+--------+-------+----+---------+-------------+-------------+-------------+------------------------------------------------+---------------------------------------------------------------------------------------------------------------------------------------------+\n",
            "|Survived|Pclass|Sex   |Age              |SibSp|Parch|Fare   |Embarked|Pclass_|Sex_|Embarked_|Pclass_ohe   |Sex_ohe      |Embarked_ohe |features                                        |standardized                                                                                                                                 |\n",
            "+--------+------+------+-----------------+-----+-----+-------+--------+-------+----+---------+-------------+-------------+-------------+------------------------------------------------+---------------------------------------------------------------------------------------------------------------------------------------------+\n",
            "|0       |3     |male  |22.0             |1    |0    |7.25   |S       |0.0    |0.0 |0.0      |(2,[0],[1.0])|(1,[0],[1.0])|(2,[0],[1.0])|[22.0,1.0,0.0,7.25,1.0,0.0,1.0,1.0,0.0]         |[1.696435732564405,0.9060393064397433,0.0,0.14588257699617724,2.0099029206360277,0.0,2.094074651689162,2.2368218041444443,0.0]               |\n",
            "|1       |1     |female|38.0             |1    |0    |71.2833|C       |1.0    |1.0 |1.0      |(2,[1],[1.0])|(1,[],[])    |(2,[1],[1.0])|[38.0,1.0,0.0,71.2833,0.0,1.0,0.0,0.0,1.0]      |[2.9302071744294267,0.9060393064397433,0.0,1.4343436552816002,0.0,2.337752823939248,0.0,0.0,2.55290756430783]                                |\n",
            "|1       |3     |female|26.0             |0    |0    |7.925  |S       |0.0    |1.0 |0.0      |(2,[0],[1.0])|(1,[],[])    |(2,[0],[1.0])|(9,[0,3,4,7],[26.0,7.925,1.0,1.0])              |(9,[0,3,4,7],[2.0048785930306607,0.15946474795789028,2.0099029206360277,2.2368218041444443])                                                 |\n",
            "|1       |1     |female|35.0             |1    |0    |53.1   |S       |1.0    |1.0 |0.0      |(2,[1],[1.0])|(1,[],[])    |(2,[0],[1.0])|[35.0,1.0,0.0,53.1,0.0,1.0,0.0,1.0,0.0]         |[2.698875029079735,0.9060393064397433,0.0,1.0684641156547603,0.0,2.337752823939248,0.0,2.2368218041444443,0.0]                               |\n",
            "|0       |3     |male  |35.0             |0    |0    |8.05   |S       |0.0    |0.0 |0.0      |(2,[0],[1.0])|(1,[0],[1.0])|(2,[0],[1.0])|[35.0,0.0,0.0,8.05,1.0,0.0,1.0,1.0,0.0]         |[2.698875029079735,0.0,0.0,0.16197996480265198,2.0099029206360277,0.0,2.094074651689162,2.2368218041444443,0.0]                              |\n",
            "|0       |3     |male  |29.69911764705882|0    |0    |8.4583 |Q       |0.0    |0.0 |2.0      |(2,[0],[1.0])|(1,[0],[1.0])|(2,[],[])    |(9,[0,3,4,6],[29.69911764705882,8.4583,1.0,1.0])|(9,[0,3,4,6],[2.290120200095667,0.1701956691043815,2.0099029206360277,2.094074651689162])                                                    |\n",
            "|0       |1     |male  |54.0             |0    |0    |51.8625|S       |1.0    |0.0 |0.0      |(2,[1],[1.0])|(1,[0],[1.0])|(2,[0],[1.0])|[54.0,0.0,0.0,51.8625,0.0,1.0,1.0,1.0,0.0]      |[4.1639786162944485,0.0,0.0,1.0435634688916196,0.0,2.337752823939248,2.094074651689162,2.2368218041444443,0.0]                               |\n",
            "|0       |3     |male  |2.0              |3    |1    |21.075 |S       |0.0    |0.0 |0.0      |(2,[0],[1.0])|(1,[0],[1.0])|(2,[0],[1.0])|[2.0,3.0,1.0,21.075,1.0,0.0,1.0,1.0,0.0]        |[0.15422143023312773,2.71811791931923,1.2395248613615906,0.42406556002681867,2.0099029206360277,0.0,2.094074651689162,2.2368218041444443,0.0]|\n",
            "|1       |3     |female|27.0             |0    |2    |11.1333|S       |0.0    |1.0 |0.0      |(2,[0],[1.0])|(1,[],[])    |(2,[0],[1.0])|[27.0,0.0,2.0,11.1333,1.0,0.0,0.0,1.0,0.0]      |[2.0819893081472243,0.0,2.479049722723181,0.2240213095822814,2.0099029206360277,0.0,0.0,2.2368218041444443,0.0]                              |\n",
            "|1       |2     |female|14.0             |1    |0    |30.0708|C       |2.0    |1.0 |1.0      |(2,[],[])    |(1,[],[])    |(2,[1],[1.0])|(9,[0,1,3,8],[14.0,1.0,30.0708,1.0])            |(9,[0,1,3,8],[1.0795500116318941,0.9060393064397433,0.6050766615636753,2.55290756430783])                                                    |\n",
            "|1       |3     |female|4.0              |1    |1    |16.7   |S       |0.0    |1.0 |0.0      |(2,[0],[1.0])|(1,[],[])    |(2,[0],[1.0])|[4.0,1.0,1.0,16.7,1.0,0.0,0.0,1.0,0.0]          |[0.30844286046625546,0.9060393064397433,1.2395248613615906,0.33603297046016,2.0099029206360277,0.0,0.0,2.2368218041444443,0.0]               |\n",
            "|1       |1     |female|58.0             |0    |0    |26.55  |S       |1.0    |1.0 |0.0      |(2,[1],[1.0])|(1,[],[])    |(2,[0],[1.0])|(9,[0,3,5,7],[58.0,26.55,1.0,1.0])              |(9,[0,3,5,7],[4.4724214767607045,0.5342320578273801,2.337752823939248,2.2368218041444443])                                                   |\n",
            "|0       |3     |male  |20.0             |0    |0    |8.05   |S       |0.0    |0.0 |0.0      |(2,[0],[1.0])|(1,[0],[1.0])|(2,[0],[1.0])|[20.0,0.0,0.0,8.05,1.0,0.0,1.0,1.0,0.0]         |[1.5422143023312773,0.0,0.0,0.16197996480265198,2.0099029206360277,0.0,2.094074651689162,2.2368218041444443,0.0]                             |\n",
            "|0       |3     |male  |39.0             |1    |5    |31.275 |S       |0.0    |0.0 |0.0      |(2,[0],[1.0])|(1,[0],[1.0])|(2,[0],[1.0])|[39.0,1.0,5.0,31.275,1.0,0.0,1.0,1.0,0.0]       |[3.0073178895459907,0.9060393064397433,6.197624306807953,0.6293072545593714,2.0099029206360277,0.0,2.094074651689162,2.2368218041444443,0.0] |\n",
            "|0       |3     |female|14.0             |0    |0    |7.8542 |S       |0.0    |1.0 |0.0      |(2,[0],[1.0])|(1,[],[])    |(2,[0],[1.0])|(9,[0,3,4,7],[14.0,7.8542,1.0,1.0])             |(9,[0,3,4,7],[1.0795500116318941,0.1580401291370173,2.0099029206360277,2.2368218041444443])                                                  |\n",
            "|1       |2     |female|55.0             |0    |0    |16.0   |S       |2.0    |1.0 |0.0      |(2,[],[])    |(1,[],[])    |(2,[0],[1.0])|(9,[0,3,7],[55.0,16.0,1.0])                     |(9,[0,3,7],[4.241089331411013,0.3219477561294946,2.2368218041444443])                                                                        |\n",
            "|0       |3     |male  |2.0              |4    |1    |29.125 |Q       |0.0    |0.0 |2.0      |(2,[0],[1.0])|(1,[0],[1.0])|(2,[],[])    |[2.0,4.0,1.0,29.125,1.0,0.0,1.0,0.0,0.0]        |[0.15422143023312773,3.624157225758973,1.2395248613615906,0.5860455248294707,2.0099029206360277,0.0,2.094074651689162,0.0,0.0]               |\n",
            "|1       |2     |male  |29.69911764705882|0    |0    |13.0   |S       |2.0    |0.0 |0.0      |(2,[],[])    |(1,[0],[1.0])|(2,[0],[1.0])|(9,[0,3,6,7],[29.69911764705882,13.0,1.0,1.0])  |(9,[0,3,6,7],[2.290120200095667,0.2615825518552144,2.094074651689162,2.2368218041444443])                                                    |\n",
            "|0       |3     |female|31.0             |1    |0    |18.0   |S       |0.0    |1.0 |0.0      |(2,[0],[1.0])|(1,[],[])    |(2,[0],[1.0])|[31.0,1.0,0.0,18.0,1.0,0.0,0.0,1.0,0.0]         |[2.3904321686134797,0.9060393064397433,0.0,0.36219122564568146,2.0099029206360277,0.0,0.0,2.2368218041444443,0.0]                            |\n",
            "|1       |3     |female|29.69911764705882|0    |0    |7.225  |C       |0.0    |1.0 |1.0      |(2,[0],[1.0])|(1,[],[])    |(2,[1],[1.0])|(9,[0,3,4,8],[29.69911764705882,7.225,1.0,1.0]) |(9,[0,3,4,8],[2.290120200095667,0.14537953362722492,2.0099029206360277,2.55290756430783])                                                    |\n",
            "+--------+------+------+-----------------+-----+-----+-------+--------+-------+----+---------+-------------+-------------+-------------+------------------------------------------------+---------------------------------------------------------------------------------------------------------------------------------------------+\n",
            "only showing top 20 rows\n",
            "\n"
          ]
        }
      ],
      "source": [
        "## 특징 스케일링(Feature Scaling)\n",
        "from pyspark.ml.feature import StandardScaler\n",
        "\n",
        "# 데이터를 표준화(Standardization)하여 평균이 0이고 분산이 1이 되도록 변환합니다.\n",
        "scaler = StandardScaler(inputCol='features', outputCol='standardized')\n",
        "\n",
        "data_scaled = scaler.fit(output).transform(output)\n",
        "data_scaled.show(truncate=False)"
      ]
    },
    {
      "cell_type": "code",
      "execution_count": 30,
      "id": "b7a87a1c",
      "metadata": {
        "colab": {
          "base_uri": "https://localhost:8080/",
          "height": 521
        },
        "id": "b7a87a1c",
        "outputId": "db582f50-d4ef-4343-9588-3a00e0e4dee5"
      },
      "outputs": [
        {
          "output_type": "execute_result",
          "data": {
            "text/plain": [
              "+--------------------+--------+\n",
              "|        standardized|Survived|\n",
              "+--------------------+--------+\n",
              "|[1.69643573256440...|       0|\n",
              "|[2.93020717442942...|       1|\n",
              "|(9,[0,3,4,7],[2.0...|       1|\n",
              "|[2.69887502907973...|       1|\n",
              "|[2.69887502907973...|       0|\n",
              "|(9,[0,3,4,6],[2.2...|       0|\n",
              "|[4.16397861629444...|       0|\n",
              "|[0.15422143023312...|       0|\n",
              "|[2.08198930814722...|       1|\n",
              "|(9,[0,1,3,8],[1.0...|       1|\n",
              "|[0.30844286046625...|       1|\n",
              "|(9,[0,3,5,7],[4.4...|       1|\n",
              "|[1.54221430233127...|       0|\n",
              "|[3.00731788954599...|       0|\n",
              "|(9,[0,3,4,7],[1.0...|       0|\n",
              "|(9,[0,3,7],[4.241...|       1|\n",
              "|[0.15422143023312...|       0|\n",
              "|(9,[0,3,6,7],[2.2...|       1|\n",
              "|[2.39043216861347...|       0|\n",
              "|(9,[0,3,4,8],[2.2...|       1|\n",
              "+--------------------+--------+\n",
              "only showing top 20 rows"
            ],
            "text/html": [
              "<table border='1'>\n",
              "<tr><th>standardized</th><th>Survived</th></tr>\n",
              "<tr><td>[1.69643573256440...</td><td>0</td></tr>\n",
              "<tr><td>[2.93020717442942...</td><td>1</td></tr>\n",
              "<tr><td>(9,[0,3,4,7],[2.0...</td><td>1</td></tr>\n",
              "<tr><td>[2.69887502907973...</td><td>1</td></tr>\n",
              "<tr><td>[2.69887502907973...</td><td>0</td></tr>\n",
              "<tr><td>(9,[0,3,4,6],[2.2...</td><td>0</td></tr>\n",
              "<tr><td>[4.16397861629444...</td><td>0</td></tr>\n",
              "<tr><td>[0.15422143023312...</td><td>0</td></tr>\n",
              "<tr><td>[2.08198930814722...</td><td>1</td></tr>\n",
              "<tr><td>(9,[0,1,3,8],[1.0...</td><td>1</td></tr>\n",
              "<tr><td>[0.30844286046625...</td><td>1</td></tr>\n",
              "<tr><td>(9,[0,3,5,7],[4.4...</td><td>1</td></tr>\n",
              "<tr><td>[1.54221430233127...</td><td>0</td></tr>\n",
              "<tr><td>[3.00731788954599...</td><td>0</td></tr>\n",
              "<tr><td>(9,[0,3,4,7],[1.0...</td><td>0</td></tr>\n",
              "<tr><td>(9,[0,3,7],[4.241...</td><td>1</td></tr>\n",
              "<tr><td>[0.15422143023312...</td><td>0</td></tr>\n",
              "<tr><td>(9,[0,3,6,7],[2.2...</td><td>1</td></tr>\n",
              "<tr><td>[2.39043216861347...</td><td>0</td></tr>\n",
              "<tr><td>(9,[0,3,4,8],[2.2...</td><td>1</td></tr>\n",
              "</table>\n",
              "only showing top 20 rows\n"
            ]
          },
          "metadata": {},
          "execution_count": 30
        }
      ],
      "source": [
        "data = data_scaled.select(\"standardized\", \"Survived\")\n",
        "data"
      ]
    },
    {
      "cell_type": "code",
      "execution_count": 32,
      "id": "e4c45513",
      "metadata": {
        "colab": {
          "base_uri": "https://localhost:8080/"
        },
        "id": "e4c45513",
        "outputId": "afd2e0ac-d3af-45bf-a849-359683f92023"
      },
      "outputs": [
        {
          "output_type": "execute_result",
          "data": {
            "text/plain": [
              "(658, 231)"
            ]
          },
          "metadata": {},
          "execution_count": 32
        }
      ],
      "source": [
        "## train/test split\n",
        "train_data, test_data = data.randomSplit([0.75, 0.25])\n",
        "train_data.count(), test_data.count()"
      ]
    },
    {
      "cell_type": "code",
      "execution_count": 33,
      "id": "ca36ce7c",
      "metadata": {
        "id": "ca36ce7c"
      },
      "outputs": [],
      "source": [
        "## 머신러닝 모델 작성 및 학습\n",
        "from pyspark.ml.classification import DecisionTreeClassifier, RandomForestClassifier, GBTClassifier\n",
        "\n",
        "# 1. 의사결정나무(Decision Tree) 분류 모델\n",
        "# - maxDepth: 의사결정나무의 최대 깊이\n",
        "dt = DecisionTreeClassifier(\n",
        "    featuresCol=\"standardized\",\n",
        "    labelCol=\"Survived\",\n",
        "    maxDepth=5,\n",
        "    seed=42\n",
        ").fit(train_data)\n",
        "\n",
        "# 2. 랜덤 포레스트(Random Forest) 분류 모델\n",
        "# - numTrees: 랜덤 포레스트에서 사용할 의사결정나무의 개수 (여기서는 100으로 설정).\n",
        "# - maxDepth: 각 의사결정나무의 최대 깊이\n",
        "rf = RandomForestClassifier(\n",
        "    featuresCol=\"standardized\",\n",
        "    labelCol=\"Survived\",\n",
        "    numTrees=100,\n",
        "    maxDepth=5,\n",
        "    seed=42\n",
        ").fit(train_data)\n",
        "\n",
        "# 3. 그레디언트 부스팅 트리(Gradient-Boosted Tree) 분류 모델\n",
        "gb = GBTClassifier(\n",
        "    featuresCol=\"standardized\",\n",
        "    labelCol=\"Survived\",\n",
        "    seed=42\n",
        ").fit(train_data)"
      ]
    },
    {
      "cell_type": "code",
      "execution_count": 34,
      "id": "b72aeb8a",
      "metadata": {
        "colab": {
          "base_uri": "https://localhost:8080/"
        },
        "id": "b72aeb8a",
        "outputId": "02a60084-f57e-4dd4-fa67-97c989c620a5"
      },
      "outputs": [
        {
          "output_type": "stream",
          "name": "stdout",
          "text": [
            "DT (9,[0,1,2,3,4,5,6,7],[0.12454969107433443,0.06606932774185169,0.016448509719065137,0.053800521805894785,0.14387491143627096,0.04992368108130126,0.530474073165098,0.014859283976183708])\n",
            "RF (9,[0,1,2,3,4,5,6,7,8],[0.11824145521968703,0.05469757753037316,0.03320133173345825,0.12533622018950302,0.11018956316708349,0.06303020824982218,0.46079953109814614,0.022774213042715534,0.01172989976921133])\n",
            "GB (9,[0,1,2,3,4,5,6,7,8],[0.32219084903162115,0.06231933241224164,0.031854524785253725,0.2737107489751033,0.06636352940390587,0.031147178639385136,0.17691718438781712,0.01610782111276195,0.01938883125191011])\n"
          ]
        }
      ],
      "source": [
        "# feature importance -  희소 벡터 형식 출력\n",
        "# 희소 벡터는 (전체 특징 개수, [활성화된 인덱스], [각 특징의 중요도])로 구성\n",
        "print(\"DT\", dt.featureImportances)\n",
        "print(\"RF\", rf.featureImportances)\n",
        "print(\"GB\", gb.featureImportances)"
      ]
    },
    {
      "cell_type": "code",
      "execution_count": 36,
      "id": "de5b1b66",
      "metadata": {
        "colab": {
          "base_uri": "https://localhost:8080/"
        },
        "id": "de5b1b66",
        "outputId": "890f9e94-f6f2-4590-f94b-92de73dad78a"
      },
      "outputs": [
        {
          "output_type": "stream",
          "name": "stdout",
          "text": [
            "+--------------------+--------+-------------+--------------------+----------+\n",
            "|        standardized|Survived|rawPrediction|         probability|prediction|\n",
            "+--------------------+--------+-------------+--------------------+----------+\n",
            "|(9,[0,1,3,4],[2.2...|       1|  [10.0,30.0]|         [0.25,0.75]|       1.0|\n",
            "|(9,[0,1,3,7],[1.8...|       1|  [8.0,110.0]|[0.06779661016949...|       1.0|\n",
            "|(9,[0,1,3,7],[2.1...|       1|  [8.0,110.0]|[0.06779661016949...|       1.0|\n",
            "|(9,[0,1,3,7],[2.2...|       1|  [8.0,110.0]|[0.06779661016949...|       1.0|\n",
            "|(9,[0,2,3,7],[1.0...|       1|  [8.0,110.0]|[0.06779661016949...|       1.0|\n",
            "+--------------------+--------+-------------+--------------------+----------+\n",
            "only showing top 5 rows\n",
            "\n",
            "+--------------------+--------+--------------------+--------------------+----------+\n",
            "|        standardized|Survived|       rawPrediction|         probability|prediction|\n",
            "+--------------------+--------+--------------------+--------------------+----------+\n",
            "|(9,[0,1,3,4],[2.2...|       1|[38.0717954617475...|[0.38071795461747...|       1.0|\n",
            "|(9,[0,1,3,7],[1.8...|       1|[20.4829077267624...|[0.20482907726762...|       1.0|\n",
            "|(9,[0,1,3,7],[2.1...|       1|[23.1797750677657...|[0.23179775067765...|       1.0|\n",
            "|(9,[0,1,3,7],[2.2...|       1|[21.4150358387407...|[0.21415035838740...|       1.0|\n",
            "|(9,[0,2,3,7],[1.0...|       1|[14.7938550669902...|[0.14793855066990...|       1.0|\n",
            "+--------------------+--------+--------------------+--------------------+----------+\n",
            "only showing top 5 rows\n",
            "\n",
            "+--------------------+--------+--------------------+--------------------+----------+\n",
            "|        standardized|Survived|       rawPrediction|         probability|prediction|\n",
            "+--------------------+--------+--------------------+--------------------+----------+\n",
            "|(9,[0,1,3,4],[2.2...|       1|[-0.4816613631344...|[0.27621342317487...|       1.0|\n",
            "|(9,[0,1,3,7],[1.8...|       1|[-0.7745758464904...|[0.17520882382407...|       1.0|\n",
            "|(9,[0,1,3,7],[2.1...|       1|[-0.6515319802208...|[0.21364980904793...|       1.0|\n",
            "|(9,[0,1,3,7],[2.2...|       1|[-0.9473031440335...|[0.13072015495182...|       1.0|\n",
            "|(9,[0,2,3,7],[1.0...|       1|[-1.4003909609519...|[0.05728193693594...|       1.0|\n",
            "+--------------------+--------+--------------------+--------------------+----------+\n",
            "only showing top 5 rows\n",
            "\n"
          ]
        }
      ],
      "source": [
        "## test dataset을 이용한 예측\n",
        "pred_dt = dt.transform(test_data)\n",
        "pred_rf = rf.transform(test_data)\n",
        "pred_gb = gb.transform(test_data)\n",
        "pred_dt.show(5)\n",
        "pred_rf.show(5)\n",
        "pred_gb.show(5)"
      ]
    },
    {
      "cell_type": "markdown",
      "source": [
        "### 각 모델의 성능 측정"
      ],
      "metadata": {
        "id": "zW68TOFtXhMa"
      },
      "id": "zW68TOFtXhMa"
    },
    {
      "cell_type": "code",
      "execution_count": null,
      "id": "936239d7",
      "metadata": {
        "id": "936239d7",
        "outputId": "29c67a5b-8c6a-485b-acab-041cb72b3b8d"
      },
      "outputs": [
        {
          "data": {
            "text/plain": [
              "(0.7330337235228538, 0.8783444816053512, 0.8715510033444811)"
            ]
          },
          "execution_count": 27,
          "metadata": {},
          "output_type": "execute_result"
        }
      ],
      "source": [
        "from pyspark.ml.evaluation import BinaryClassificationEvaluator\n",
        "\n",
        "# 1. 의사결정나무(Decision Tree) 모델의 AUC 점수 계산\n",
        "dt_auc = BinaryClassificationEvaluator(labelCol=\"Survived\").evaluate(pred_dt)\n",
        "\n",
        "# 2. 랜덤 포레스트(Random Forest) 모델의 AUC 점수 계산\n",
        "rf_auc = BinaryClassificationEvaluator(labelCol=\"Survived\").evaluate(pred_rf)\n",
        "\n",
        "# 3. 그레디언트 부스팅 트리(Gradient-Boosted Tree) 모델의 AUC 점수 계산\n",
        "gb_auc = BinaryClassificationEvaluator(labelCol=\"Survived\").evaluate(pred_gb)\n",
        "\n",
        "# 계산된 AUC 점수를 출력\n",
        "dt_auc, rf_auc, gb_auc"
      ]
    },
    {
      "cell_type": "code",
      "execution_count": null,
      "id": "bb653a8f",
      "metadata": {
        "id": "bb653a8f"
      },
      "outputs": [],
      "source": []
    }
  ],
  "metadata": {
    "kernelspec": {
      "display_name": "Python 3 (ipykernel)",
      "language": "python",
      "name": "python3"
    },
    "language_info": {
      "codemirror_mode": {
        "name": "ipython",
        "version": 3
      },
      "file_extension": ".py",
      "mimetype": "text/x-python",
      "name": "python",
      "nbconvert_exporter": "python",
      "pygments_lexer": "ipython3",
      "version": "3.9.16"
    },
    "colab": {
      "provenance": []
    }
  },
  "nbformat": 4,
  "nbformat_minor": 5
}