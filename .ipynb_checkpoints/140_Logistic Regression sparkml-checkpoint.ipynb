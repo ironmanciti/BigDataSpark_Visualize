{
 "cells": [
  {
   "cell_type": "markdown",
   "id": "06ef6457",
   "metadata": {},
   "source": [
    "# Logistic Regression - Spark ML\n",
    "\n",
    "### data: 성별 소득 data 에 따라 특정 구매자의 구매할지 여부를 예측"
   ]
  },
  {
   "cell_type": "code",
   "execution_count": 2,
   "id": "bae9d02f",
   "metadata": {},
   "outputs": [
    {
     "data": {
      "text/html": [
       "\n",
       "            <div>\n",
       "                <p><b>SparkSession - in-memory</b></p>\n",
       "                \n",
       "        <div>\n",
       "            <p><b>SparkContext</b></p>\n",
       "\n",
       "            <p><a href=\"http://DESKTOP-0EMPLS6:4045\">Spark UI</a></p>\n",
       "\n",
       "            <dl>\n",
       "              <dt>Version</dt>\n",
       "                <dd><code>v3.3.1</code></dd>\n",
       "              <dt>Master</dt>\n",
       "                <dd><code>local[*]</code></dd>\n",
       "              <dt>AppName</dt>\n",
       "                <dd><code>DataFrame</code></dd>\n",
       "            </dl>\n",
       "        </div>\n",
       "        \n",
       "            </div>\n",
       "        "
      ],
      "text/plain": [
       "<pyspark.sql.session.SparkSession at 0x1c1df5a45b0>"
      ]
     },
     "execution_count": 2,
     "metadata": {},
     "output_type": "execute_result"
    }
   ],
   "source": [
    "import findspark\n",
    "findspark.init()\n",
    "\n",
    "from pyspark.sql import SparkSession\n",
    "\n",
    "spark = SparkSession.builder.appName(\"DataFrame\").config(\"spark.sql.repl.eagerEval.enabled\", True).getOrCreate()\n",
    "spark"
   ]
  },
  {
   "cell_type": "code",
   "execution_count": 4,
   "id": "7013e12c",
   "metadata": {},
   "outputs": [
    {
     "name": "stdout",
     "output_type": "stream",
     "text": [
      "+--------+------+---+---------------+---------+\n",
      "| User ID|Gender|Age|EstimatedSalary|Purchased|\n",
      "+--------+------+---+---------------+---------+\n",
      "|15624510|  Male| 19|          19000|        0|\n",
      "|15810944|  Male| 35|          20000|        0|\n",
      "|15668575|Female| 26|          43000|        0|\n",
      "|15603246|Female| 27|          57000|        0|\n",
      "|15804002|  Male| 19|          76000|        0|\n",
      "+--------+------+---+---------------+---------+\n",
      "only showing top 5 rows\n",
      "\n"
     ]
    }
   ],
   "source": [
    "df = spark.read.csv(\"datasets/Social_Network_Ads.csv\", header=\"true\", inferSchema=\"true\")\n",
    "df.show(5)"
   ]
  },
  {
   "cell_type": "code",
   "execution_count": 5,
   "id": "65fbc978",
   "metadata": {},
   "outputs": [
    {
     "name": "stdout",
     "output_type": "stream",
     "text": [
      "+--------+------+---+---------------+---------+\n",
      "| User ID|Gender|Age|EstimatedSalary|Purchased|\n",
      "+--------+------+---+---------------+---------+\n",
      "|15691863|Female| 46|          41000|        1|\n",
      "|15706071|  Male| 51|          23000|        1|\n",
      "|15654296|Female| 50|          20000|        1|\n",
      "|15755018|  Male| 36|          33000|        0|\n",
      "|15594041|Female| 49|          36000|        1|\n",
      "+--------+------+---+---------------+---------+\n",
      "\n"
     ]
    }
   ],
   "source": [
    "## last 5 rows\n",
    "spark.createDataFrame(df.tail(5)).show()"
   ]
  },
  {
   "cell_type": "code",
   "execution_count": 6,
   "id": "60b68ea8",
   "metadata": {},
   "outputs": [
    {
     "data": {
      "text/plain": [
       "400"
      ]
     },
     "execution_count": 6,
     "metadata": {},
     "output_type": "execute_result"
    }
   ],
   "source": [
    "## dataset size\n",
    "df.count()"
   ]
  },
  {
   "cell_type": "code",
   "execution_count": 7,
   "id": "531a1c3e",
   "metadata": {},
   "outputs": [
    {
     "name": "stdout",
     "output_type": "stream",
     "text": [
      "+---------+-----+\n",
      "|Purchased|count|\n",
      "+---------+-----+\n",
      "|        1|  143|\n",
      "|        0|  257|\n",
      "+---------+-----+\n",
      "\n"
     ]
    }
   ],
   "source": [
    "## target 변수의 cardinality check\n",
    "df.groupBy('Purchased').count().show()"
   ]
  },
  {
   "cell_type": "code",
   "execution_count": 8,
   "id": "db5dc92e",
   "metadata": {},
   "outputs": [
    {
     "name": "stdout",
     "output_type": "stream",
     "text": [
      "root\n",
      " |-- User ID: integer (nullable = true)\n",
      " |-- Gender: string (nullable = true)\n",
      " |-- Age: integer (nullable = true)\n",
      " |-- EstimatedSalary: integer (nullable = true)\n",
      " |-- Purchased: integer (nullable = true)\n",
      "\n"
     ]
    }
   ],
   "source": [
    "df.printSchema()"
   ]
  },
  {
   "cell_type": "code",
   "execution_count": 9,
   "id": "814c674a",
   "metadata": {},
   "outputs": [
    {
     "name": "stdout",
     "output_type": "stream",
     "text": [
      "+-------+------------------+----------------+\n",
      "|summary|               Age| EstimatedSalary|\n",
      "+-------+------------------+----------------+\n",
      "|  count|               400|             400|\n",
      "|   mean|            37.655|         69742.5|\n",
      "| stddev|10.482876597307927|34096.9602824248|\n",
      "|    min|                18|           15000|\n",
      "|    max|                60|          150000|\n",
      "+-------+------------------+----------------+\n",
      "\n"
     ]
    }
   ],
   "source": [
    "df.select([\"Age\", \"EstimatedSalary\"]).describe().show()"
   ]
  },
  {
   "cell_type": "markdown",
   "id": "1033691c",
   "metadata": {},
   "source": [
    "### 문자열을 One-Hot 벡터로 변환"
   ]
  },
  {
   "cell_type": "code",
   "execution_count": 10,
   "id": "75de6f65",
   "metadata": {},
   "outputs": [
    {
     "name": "stdout",
     "output_type": "stream",
     "text": [
      "+--------+------+---+---------------+---------+-------+\n",
      "| User ID|Gender|Age|EstimatedSalary|Purchased|Gender_|\n",
      "+--------+------+---+---------------+---------+-------+\n",
      "|15624510|  Male| 19|          19000|        0|    1.0|\n",
      "|15810944|  Male| 35|          20000|        0|    1.0|\n",
      "|15668575|Female| 26|          43000|        0|    0.0|\n",
      "|15603246|Female| 27|          57000|        0|    0.0|\n",
      "|15804002|  Male| 19|          76000|        0|    1.0|\n",
      "+--------+------+---+---------------+---------+-------+\n",
      "only showing top 5 rows\n",
      "\n"
     ]
    }
   ],
   "source": [
    "from pyspark.ml.feature import StringIndexer\n",
    "from pyspark.ml.feature import OneHotEncoder\n",
    "from pyspark.ml.feature import VectorAssembler\n",
    "\n",
    "# category data를 index로 변환\n",
    "indexer = StringIndexer(inputCol=\"Gender\", outputCol=\"Gender_\").fit(df)\n",
    "df_r = indexer.transform(df)\n",
    "df_r.show(5)"
   ]
  },
  {
   "cell_type": "code",
   "execution_count": 11,
   "id": "00691631",
   "metadata": {},
   "outputs": [
    {
     "name": "stdout",
     "output_type": "stream",
     "text": [
      "+--------+------+---+---------------+---------+-------+-------------+\n",
      "| User ID|Gender|Age|EstimatedSalary|Purchased|Gender_|   Gender_ohe|\n",
      "+--------+------+---+---------------+---------+-------+-------------+\n",
      "|15624510|  Male| 19|          19000|        0|    1.0|    (1,[],[])|\n",
      "|15810944|  Male| 35|          20000|        0|    1.0|    (1,[],[])|\n",
      "|15668575|Female| 26|          43000|        0|    0.0|(1,[0],[1.0])|\n",
      "|15603246|Female| 27|          57000|        0|    0.0|(1,[0],[1.0])|\n",
      "|15804002|  Male| 19|          76000|        0|    1.0|    (1,[],[])|\n",
      "+--------+------+---+---------------+---------+-------+-------------+\n",
      "only showing top 5 rows\n",
      "\n"
     ]
    }
   ],
   "source": [
    "## OneHot encoding\n",
    "ohe_encoder = OneHotEncoder(inputCols=['Gender_'], outputCols=['Gender_ohe']).fit(df_r)\n",
    "df_r = ohe_encoder.transform(df_r)\n",
    "df_r.show(5)"
   ]
  },
  {
   "cell_type": "code",
   "execution_count": 12,
   "id": "da6bed33",
   "metadata": {},
   "outputs": [
    {
     "name": "stdout",
     "output_type": "stream",
     "text": [
      "+--------+------+---+---------------+---------+-------+-------------+------------------+\n",
      "| User ID|Gender|Age|EstimatedSalary|Purchased|Gender_|   Gender_ohe|          features|\n",
      "+--------+------+---+---------------+---------+-------+-------------+------------------+\n",
      "|15624510|  Male| 19|          19000|        0|    1.0|    (1,[],[])|[19.0,19000.0,0.0]|\n",
      "|15810944|  Male| 35|          20000|        0|    1.0|    (1,[],[])|[35.0,20000.0,0.0]|\n",
      "|15668575|Female| 26|          43000|        0|    0.0|(1,[0],[1.0])|[26.0,43000.0,1.0]|\n",
      "|15603246|Female| 27|          57000|        0|    0.0|(1,[0],[1.0])|[27.0,57000.0,1.0]|\n",
      "|15804002|  Male| 19|          76000|        0|    1.0|    (1,[],[])|[19.0,76000.0,0.0]|\n",
      "+--------+------+---+---------------+---------+-------+-------------+------------------+\n",
      "only showing top 5 rows\n",
      "\n"
     ]
    }
   ],
   "source": [
    "assembler = VectorAssembler(inputCols=['Age', 'EstimatedSalary', 'Gender_ohe'], outputCol='features')\n",
    "\n",
    "output = assembler.transform(df_r)\n",
    "output.show(5)"
   ]
  },
  {
   "cell_type": "code",
   "execution_count": 13,
   "id": "0fedcd30",
   "metadata": {},
   "outputs": [
    {
     "name": "stdout",
     "output_type": "stream",
     "text": [
      "+--------+------+---+---------------+---------+-------+-------------+------------------+--------------------+\n",
      "| User ID|Gender|Age|EstimatedSalary|Purchased|Gender_|   Gender_ohe|          features|        standardized|\n",
      "+--------+------+---+---------------+---------+-------+-------------+------------------+--------------------+\n",
      "|15624510|  Male| 19|          19000|        0|    1.0|    (1,[],[])|[19.0,19000.0,0.0]|[1.81247960172299...|\n",
      "|15810944|  Male| 35|          20000|        0|    1.0|    (1,[],[])|[35.0,20000.0,0.0]|[3.33877821370025...|\n",
      "|15668575|Female| 26|          43000|        0|    0.0|(1,[0],[1.0])|[26.0,43000.0,1.0]|[2.48023524446304...|\n",
      "|15603246|Female| 27|          57000|        0|    0.0|(1,[0],[1.0])|[27.0,57000.0,1.0]|[2.57562890771162...|\n",
      "|15804002|  Male| 19|          76000|        0|    1.0|    (1,[],[])|[19.0,76000.0,0.0]|[1.81247960172299...|\n",
      "+--------+------+---+---------------+---------+-------+-------------+------------------+--------------------+\n",
      "only showing top 5 rows\n",
      "\n"
     ]
    }
   ],
   "source": [
    "## feature scaling\n",
    "from pyspark.ml.feature import StandardScaler\n",
    "\n",
    "scaler = StandardScaler(inputCol='features', outputCol='standardized')\n",
    "data_scaled = scaler.fit(output).transform(output)\n",
    "data_scaled.show(5)"
   ]
  },
  {
   "cell_type": "code",
   "execution_count": 14,
   "id": "85e3ae55",
   "metadata": {},
   "outputs": [
    {
     "name": "stdout",
     "output_type": "stream",
     "text": [
      "+----------------------------------------------------------+---------+\n",
      "|standardized                                              |Purchased|\n",
      "+----------------------------------------------------------+---------+\n",
      "|[1.8124796017229972,0.5572344233217031,0.0]               |0        |\n",
      "|[3.338778213700258,0.5865625508649507,0.0]                |0        |\n",
      "|[2.480235244463049,1.261109484359644,1.9978980551207968]  |0        |\n",
      "|[2.5756289077116277,1.6717032699651093,1.9978980551207968]|0        |\n",
      "|[1.8124796017229972,2.2289376932868126,0.0]               |0        |\n",
      "+----------------------------------------------------------+---------+\n",
      "only showing top 5 rows\n",
      "\n"
     ]
    }
   ],
   "source": [
    "data = data_scaled.select(\"standardized\", \"Purchased\")\n",
    "data.show(5, truncate=False)"
   ]
  },
  {
   "cell_type": "code",
   "execution_count": 15,
   "id": "51fedda8",
   "metadata": {},
   "outputs": [
    {
     "data": {
      "text/plain": [
       "(305, 95)"
      ]
     },
     "execution_count": 15,
     "metadata": {},
     "output_type": "execute_result"
    }
   ],
   "source": [
    "train_data, test_data = data.randomSplit([0.75, 0.25])\n",
    "train_data.count(), test_data.count()"
   ]
  },
  {
   "cell_type": "code",
   "execution_count": 16,
   "id": "0fa181bc",
   "metadata": {},
   "outputs": [
    {
     "data": {
      "text/plain": [
       "LogisticRegressionModel: uid=LogisticRegression_a2d2cb85aeec, numClasses=2, numFeatures=3"
      ]
     },
     "execution_count": 16,
     "metadata": {},
     "output_type": "execute_result"
    }
   ],
   "source": [
    "from pyspark.ml.classification import LogisticRegression\n",
    "\n",
    "log_reg = LogisticRegression(featuresCol=\"standardized\", labelCol=\"Purchased\").fit(train_data)\n",
    "log_reg"
   ]
  },
  {
   "cell_type": "code",
   "execution_count": 17,
   "id": "fc278d4c",
   "metadata": {},
   "outputs": [
    {
     "name": "stdout",
     "output_type": "stream",
     "text": [
      "+--------------------+---------+--------------------+--------------------+----------+\n",
      "|        standardized|Purchased|       rawPrediction|         probability|prediction|\n",
      "+--------------------+---------+--------------------+--------------------+----------+\n",
      "|[1.71708593847441...|        0|[7.05809290286746...|[0.99914032225181...|       0.0|\n",
      "|[1.81247960172299...|        0|[7.40451023043994...|[0.99939186797151...|       0.0|\n",
      "|[1.81247960172299...|        0|[5.31007810209178...|[0.99508275799385...|       0.0|\n",
      "|[1.81247960172299...|        0|[5.01488824266646...|[0.99340540351435...|       0.0|\n",
      "|[1.90787326497157...|        0|[6.83255910646696...|[0.99892306541559...|       0.0|\n",
      "+--------------------+---------+--------------------+--------------------+----------+\n",
      "only showing top 5 rows\n",
      "\n"
     ]
    }
   ],
   "source": [
    "pred = log_reg.transform(test_data)\n",
    "pred.show(5)"
   ]
  },
  {
   "cell_type": "code",
   "execution_count": 18,
   "id": "c1241091",
   "metadata": {},
   "outputs": [
    {
     "name": "stdout",
     "output_type": "stream",
     "text": [
      "+----------+-----+\n",
      "|prediction|count|\n",
      "+----------+-----+\n",
      "|       0.0|   65|\n",
      "|       1.0|   30|\n",
      "+----------+-----+\n",
      "\n"
     ]
    }
   ],
   "source": [
    "pred.groupBy('prediction').count().orderBy('prediction').show()"
   ]
  },
  {
   "cell_type": "code",
   "execution_count": 19,
   "id": "a9f7d66f",
   "metadata": {},
   "outputs": [
    {
     "name": "stdout",
     "output_type": "stream",
     "text": [
      "+---------+-----+\n",
      "|Purchased|count|\n",
      "+---------+-----+\n",
      "|        0|   57|\n",
      "|        1|   38|\n",
      "+---------+-----+\n",
      "\n"
     ]
    }
   ],
   "source": [
    "pred.groupBy('Purchased').count().orderBy('Purchased').show()"
   ]
  },
  {
   "cell_type": "markdown",
   "id": "3a08fa13",
   "metadata": {},
   "source": [
    "### Confustion Matrix 시각화"
   ]
  },
  {
   "cell_type": "code",
   "execution_count": 20,
   "id": "ea0b6d90",
   "metadata": {},
   "outputs": [
    {
     "name": "stdout",
     "output_type": "stream",
     "text": [
      "0.8315789473684211\n",
      "[[53  4]\n",
      " [12 26]]\n"
     ]
    },
    {
     "data": {
      "text/plain": [
       "Text(50.722222222222214, 0.5, 'True')"
      ]
     },
     "execution_count": 20,
     "metadata": {},
     "output_type": "execute_result"
    },
    {
     "data": {
      "image/png": "[encoded data removed]",
      "text/plain": [
       "<Figure size 640x480 with 2 Axes>"
      ]
     },
     "metadata": {},
     "output_type": "display_data"
    }
   ],
   "source": [
    "from sklearn.metrics import confusion_matrix, accuracy_score, f1_score, precision_score, recall_score\n",
    "import seaborn as sns\n",
    "\n",
    "y_true = pred.select(\"Purchased\").collect()\n",
    "y_pred = pred.select(\"prediction\").collect()\n",
    "cm = confusion_matrix(y_true, y_pred)\n",
    "accuracy = accuracy_score(y_true, y_pred)\n",
    "\n",
    "print(accuracy)\n",
    "print(cm)\n",
    "\n",
    "ax = sns.heatmap(cm, annot=True, fmt='d')\n",
    "ax.set_title(\"Confusion Matrix\")\n",
    "ax.set_xlabel(\"Predicted\")\n",
    "ax.set_ylabel(\"True\")"
   ]
  },
  {
   "cell_type": "code",
   "execution_count": 21,
   "id": "48ebee41",
   "metadata": {},
   "outputs": [
    {
     "name": "stdout",
     "output_type": "stream",
     "text": [
      "f1 score\n",
      " 0.7647058823529413\n",
      "\n",
      "Accuracy: 0.83\n",
      "Precision: 0.87\n",
      "Recall: 0.68\n"
     ]
    }
   ],
   "source": [
    "print(\"f1 score\\n\", f1_score(y_true, y_pred))\n",
    "print()\n",
    "print(\"Accuracy: {:.2f}\".format(accuracy_score(y_true, y_pred)))\n",
    "print(\"Precision: {:.2f}\".format(precision_score(y_true, y_pred, labels=[1, 0])))\n",
    "print(\"Recall: {:.2f}\".format(recall_score(y_true, y_pred, labels=[1, 0])))"
   ]
  },
  {
   "cell_type": "code",
   "execution_count": null,
   "id": "a9905101",
   "metadata": {},
   "outputs": [],
   "source": []
  }
 ],
 "metadata": {
  "kernelspec": {
   "display_name": "Python 3 (ipykernel)",
   "language": "python",
   "name": "python3"
  },
  "language_info": {
   "codemirror_mode": {
    "name": "ipython",
    "version": 3
   },
   "file_extension": ".py",
   "mimetype": "text/x-python",
   "name": "python",
   "nbconvert_exporter": "python",
   "pygments_lexer": "ipython3",
   "version": "3.9.16"
  }
 },
 "nbformat": 4,
 "nbformat_minor": 5
}
