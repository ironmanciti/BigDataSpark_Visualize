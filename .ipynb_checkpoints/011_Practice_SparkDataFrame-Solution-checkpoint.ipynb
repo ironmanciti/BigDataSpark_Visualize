{
 "cells": [
  {
   "cell_type": "markdown",
   "metadata": {
    "id": "RZA4Ixd30NCK"
   },
   "source": [
    "# 실습:  PySpark Basic\n",
    "\n",
    "### 1) 기본 Spark 작업"
   ]
  },
  {
   "cell_type": "code",
   "execution_count": 28,
   "metadata": {
    "id": "Oaa5wC_vojaS"
   },
   "outputs": [],
   "source": [
    "# PySpark 모듈 및 필요한 함수들 임포트\n",
    "import pyspark\n",
    "from pyspark.sql import SparkSession\n",
    "from pyspark.sql.functions import *\n",
    "\n",
    "# SparkSession 생성\n",
    "# - builder: SparkSession을 구성하는 빌더 객체를 반환\n",
    "# - appName(\"SparkAPP\"): 애플리케이션 이름 설정\n",
    "# - getOrCreate(): 기존 SparkSession이 없으면 생성, 있으면 반환\n",
    "spark = (SparkSession\n",
    "         .builder\n",
    "         .appName(\"SparkAPP\")\n",
    "         .config(\"spark.sql.repl.eagerEval.enabled\", True)\n",
    "         .getOrCreate())"
   ]
  },
  {
   "cell_type": "code",
   "execution_count": 30,
   "metadata": {
    "id": "CsZPcvPopriz"
   },
   "outputs": [],
   "source": [
    "# CSV 파일 경로 지정\n",
    "csv_file = \"/content/onlinefoods.csv\"\n",
    "\n",
    "# Spark 데이터프레임 생성\n",
    "# - format(\"csv\"): CSV 형식의 파일을 읽도록 설정\n",
    "# - option(\"header\", \"true\"): 첫 번째 줄을 헤더(컬럼 이름)로 사용\n",
    "# - option(\"inferSchema\", \"true\"): 데이터 타입을 자동으로 추론\n",
    "# - load(csv_file): 지정된 경로의 CSV 파일을 로드\n",
    "df = spark.read \\\n",
    "      .format(\"csv\") \\\n",
    "      .option(\"header\", \"true\") \\\n",
    "      .option(\"inferSchema\", \"true\") \\\n",
    "      .load(csv_file)"
   ]
  },
  {
   "cell_type": "code",
   "execution_count": 31,
   "metadata": {
    "colab": {
     "base_uri": "https://localhost:8080/",
     "height": 159
    },
    "id": "VKK9toK8oy74",
    "outputId": "bc130328-8207-4329-90ea-e54bff0f9568"
   },
   "outputs": [
    {
     "data": {
      "text/html": [
       "<table border='1'>\n",
       "<tr><th>Age</th><th>Gender</th><th>Marital Status</th><th>Occupation</th><th>Monthly Income</th><th>Educational Qualifications</th><th>Family size</th><th>latitude</th><th>longitude</th><th>Pin code</th><th>Output</th><th>Feedback</th><th>_c12</th></tr>\n",
       "<tr><td>20</td><td>Female</td><td>Single</td><td>Student</td><td>No Income</td><td>Post Graduate</td><td>4</td><td>12.9766</td><td>77.5993</td><td>560001</td><td>Yes</td><td>Positive</td><td>Yes</td></tr>\n",
       "<tr><td>24</td><td>Female</td><td>Single</td><td>Student</td><td>Below Rs.10000</td><td>Graduate</td><td>3</td><td>12.977</td><td>77.5773</td><td>560009</td><td>Yes</td><td>Positive</td><td>Yes</td></tr>\n",
       "<tr><td>22</td><td>Male</td><td>Single</td><td>Student</td><td>Below Rs.10000</td><td>Post Graduate</td><td>3</td><td>12.9551</td><td>77.6593</td><td>560017</td><td>Yes</td><td>Negative </td><td>Yes</td></tr>\n",
       "<tr><td>22</td><td>Female</td><td>Single</td><td>Student</td><td>No Income</td><td>Graduate</td><td>6</td><td>12.9473</td><td>77.5616</td><td>560019</td><td>Yes</td><td>Positive</td><td>Yes</td></tr>\n",
       "<tr><td>22</td><td>Male</td><td>Single</td><td>Student</td><td>Below Rs.10000</td><td>Post Graduate</td><td>4</td><td>12.985</td><td>77.5533</td><td>560010</td><td>Yes</td><td>Positive</td><td>Yes</td></tr>\n",
       "</table>\n"
      ],
      "text/plain": [
       "+---+------+--------------+----------+--------------+--------------------------+-----------+--------+---------+--------+------+---------+----+\n",
       "|Age|Gender|Marital Status|Occupation|Monthly Income|Educational Qualifications|Family size|latitude|longitude|Pin code|Output| Feedback|_c12|\n",
       "+---+------+--------------+----------+--------------+--------------------------+-----------+--------+---------+--------+------+---------+----+\n",
       "| 20|Female|        Single|   Student|     No Income|             Post Graduate|          4| 12.9766|  77.5993|  560001|   Yes| Positive| Yes|\n",
       "| 24|Female|        Single|   Student|Below Rs.10000|                  Graduate|          3|  12.977|  77.5773|  560009|   Yes| Positive| Yes|\n",
       "| 22|  Male|        Single|   Student|Below Rs.10000|             Post Graduate|          3| 12.9551|  77.6593|  560017|   Yes|Negative | Yes|\n",
       "| 22|Female|        Single|   Student|     No Income|                  Graduate|          6| 12.9473|  77.5616|  560019|   Yes| Positive| Yes|\n",
       "| 22|  Male|        Single|   Student|Below Rs.10000|             Post Graduate|          4|  12.985|  77.5533|  560010|   Yes| Positive| Yes|\n",
       "+---+------+--------------+----------+--------------+--------------------------+-----------+--------+---------+--------+------+---------+----+"
      ]
     },
     "execution_count": 31,
     "metadata": {},
     "output_type": "execute_result"
    }
   ],
   "source": [
    "# 데이터프레임에서 상위 5개 행 조회\n",
    "df.limit(5)"
   ]
  },
  {
   "cell_type": "code",
   "execution_count": 32,
   "metadata": {
    "colab": {
     "base_uri": "https://localhost:8080/",
     "height": 248
    },
    "id": "l3UgVAl_rA0I",
    "outputId": "3656621c-8cde-465b-945e-d9c1e863846c"
   },
   "outputs": [
    {
     "data": {
      "text/html": [
       "<table border='1'>\n",
       "<tr><th>summary</th><th>Age</th><th>Gender</th><th>Marital Status</th><th>Occupation</th><th>Monthly Income</th><th>Educational Qualifications</th><th>Family size</th><th>latitude</th><th>longitude</th><th>Pin code</th><th>Output</th><th>Feedback</th><th>_c12</th></tr>\n",
       "<tr><td>count</td><td>388</td><td>388</td><td>388</td><td>388</td><td>388</td><td>388</td><td>388</td><td>388</td><td>388</td><td>388</td><td>388</td><td>388</td><td>388</td></tr>\n",
       "<tr><td>mean</td><td>24.628865979381445</td><td>NULL</td><td>NULL</td><td>NULL</td><td>NULL</td><td>NULL</td><td>3.2809278350515463</td><td>12.972057989690706</td><td>77.60015953608251</td><td>560040.1134020619</td><td>NULL</td><td>NULL</td><td>NULL</td></tr>\n",
       "<tr><td>stddev</td><td>2.975592660672904</td><td>NULL</td><td>NULL</td><td>NULL</td><td>NULL</td><td>NULL</td><td>1.3510249396453127</td><td>0.044489248628105924</td><td>0.0513539170127217</td><td>31.399608710261372</td><td>NULL</td><td>NULL</td><td>NULL</td></tr>\n",
       "<tr><td>min</td><td>18</td><td>Female</td><td>Married</td><td>Employee</td><td>10001 to 25000</td><td>Graduate</td><td>1</td><td>12.8652</td><td>77.4842</td><td>560001</td><td>No</td><td>Negative </td><td>No</td></tr>\n",
       "<tr><td>max</td><td>33</td><td>Male</td><td>Single</td><td>Student</td><td>No Income</td><td>Uneducated</td><td>6</td><td>13.102</td><td>77.7582</td><td>560109</td><td>Yes</td><td>Positive</td><td>Yes</td></tr>\n",
       "</table>\n"
      ],
      "text/plain": [
       "+-------+------------------+------+--------------+----------+--------------+--------------------------+------------------+--------------------+------------------+------------------+------+---------+----+\n",
       "|summary|               Age|Gender|Marital Status|Occupation|Monthly Income|Educational Qualifications|       Family size|            latitude|         longitude|          Pin code|Output| Feedback|_c12|\n",
       "+-------+------------------+------+--------------+----------+--------------+--------------------------+------------------+--------------------+------------------+------------------+------+---------+----+\n",
       "|  count|               388|   388|           388|       388|           388|                       388|               388|                 388|               388|               388|   388|      388| 388|\n",
       "|   mean|24.628865979381445|  NULL|          NULL|      NULL|          NULL|                      NULL|3.2809278350515463|  12.972057989690706| 77.60015953608251| 560040.1134020619|  NULL|     NULL|NULL|\n",
       "| stddev| 2.975592660672904|  NULL|          NULL|      NULL|          NULL|                      NULL|1.3510249396453127|0.044489248628105924|0.0513539170127217|31.399608710261372|  NULL|     NULL|NULL|\n",
       "|    min|                18|Female|       Married|  Employee|10001 to 25000|                  Graduate|                 1|             12.8652|           77.4842|            560001|    No|Negative |  No|\n",
       "|    max|                33|  Male|        Single|   Student|     No Income|                Uneducated|                 6|              13.102|           77.7582|            560109|   Yes| Positive| Yes|\n",
       "+-------+------------------+------+--------------+----------+--------------+--------------------------+------------------+--------------------+------------------+------------------+------+---------+----+"
      ]
     },
     "execution_count": 32,
     "metadata": {},
     "output_type": "execute_result"
    }
   ],
   "source": [
    "# 데이터프레임의 요약 통계 계산\n",
    "df.describe()"
   ]
  },
  {
   "cell_type": "code",
   "execution_count": 33,
   "metadata": {
    "colab": {
     "base_uri": "https://localhost:8080/"
    },
    "id": "uTgt2eXIr1hw",
    "outputId": "1751564e-774c-416f-fc42-785d39c83a86"
   },
   "outputs": [
    {
     "name": "stdout",
     "output_type": "stream",
     "text": [
      "root\n",
      " |-- Age: integer (nullable = true)\n",
      " |-- Gender: string (nullable = true)\n",
      " |-- Marital Status: string (nullable = true)\n",
      " |-- Occupation: string (nullable = true)\n",
      " |-- Monthly Income: string (nullable = true)\n",
      " |-- Educational Qualifications: string (nullable = true)\n",
      " |-- Family size: integer (nullable = true)\n",
      " |-- latitude: double (nullable = true)\n",
      " |-- longitude: double (nullable = true)\n",
      " |-- Pin code: integer (nullable = true)\n",
      " |-- Output: string (nullable = true)\n",
      " |-- Feedback: string (nullable = true)\n",
      " |-- _c12: string (nullable = true)\n",
      "\n"
     ]
    }
   ],
   "source": [
    "# 데이터프레임의 스키마 출력\n",
    "df.printSchema()"
   ]
  },
  {
   "cell_type": "code",
   "execution_count": 34,
   "metadata": {
    "colab": {
     "base_uri": "https://localhost:8080/"
    },
    "id": "TeM72CLfs-2Q",
    "outputId": "85969ac5-98b3-4564-a490-f7d5fe873d6f"
   },
   "outputs": [
    {
     "data": {
      "text/plain": [
       "False"
      ]
     },
     "execution_count": 34,
     "metadata": {},
     "output_type": "execute_result"
    }
   ],
   "source": [
    "# 데이터프레임이 비어있는지 확인\n",
    "df.isEmpty()"
   ]
  },
  {
   "cell_type": "code",
   "execution_count": 35,
   "metadata": {
    "colab": {
     "base_uri": "https://localhost:8080/"
    },
    "id": "WXgOotJYu1Ov",
    "outputId": "d9f80a3c-b9d2-4d2c-b5ad-1b22c1ab805e"
   },
   "outputs": [
    {
     "data": {
      "text/plain": [
       "['Age',\n",
       " 'Gender',\n",
       " 'Marital Status',\n",
       " 'Occupation',\n",
       " 'Monthly Income',\n",
       " 'Educational Qualifications',\n",
       " 'Family size',\n",
       " 'latitude',\n",
       " 'longitude',\n",
       " 'Pin code',\n",
       " 'Output',\n",
       " 'Feedback',\n",
       " '_c12']"
      ]
     },
     "execution_count": 35,
     "metadata": {},
     "output_type": "execute_result"
    }
   ],
   "source": [
    "# 데이터프레임의 컬럼 이름 리스트 출력\n",
    "df.columns"
   ]
  },
  {
   "cell_type": "code",
   "execution_count": 36,
   "metadata": {
    "colab": {
     "base_uri": "https://localhost:8080/"
    },
    "id": "6NYyK3E5u3Om",
    "outputId": "9ecef4f0-8daa-4923-9909-8ec385227fb0"
   },
   "outputs": [
    {
     "data": {
      "text/plain": [
       "388"
      ]
     },
     "execution_count": 36,
     "metadata": {},
     "output_type": "execute_result"
    }
   ],
   "source": [
    "# 데이터프레임의 전체 행 수 계산\n",
    "df.count()"
   ]
  },
  {
   "cell_type": "markdown",
   "metadata": {
    "id": "-FHGf1_u0hC4"
   },
   "source": [
    "### 2) 선택, 필터링, 집계"
   ]
  },
  {
   "cell_type": "code",
   "execution_count": 37,
   "metadata": {
    "colab": {
     "base_uri": "https://localhost:8080/"
    },
    "id": "dVqwmavgu6eF",
    "outputId": "d1f106a5-8c20-441b-aa9e-68d12960626e"
   },
   "outputs": [
    {
     "name": "stdout",
     "output_type": "stream",
     "text": [
      "+---+--------------+\n",
      "|Age|Monthly Income|\n",
      "+---+--------------+\n",
      "| 20|     No Income|\n",
      "| 24|Below Rs.10000|\n",
      "| 22|Below Rs.10000|\n",
      "| 22|     No Income|\n",
      "| 22|Below Rs.10000|\n",
      "+---+--------------+\n",
      "only showing top 5 rows\n",
      "\n"
     ]
    }
   ],
   "source": [
    "# 특정 컬럼 선택 및 데이터 확인\n",
    "# - select('컬럼1', '컬럼2'): 지정된 컬럼만 선택하여 새로운 데이터프레임 생성\n",
    "# - 'Age', 'Monthly Income': 선택할 컬럼 이름\n",
    "# - show(): 선택된 데이터프레임의 내용을 출력 (기본적으로 상위 20개 행을 표시)\n",
    "new_df = df.select('Age', 'Monthly Income')\n",
    "new_df.show(5)"
   ]
  },
  {
   "cell_type": "code",
   "execution_count": 38,
   "metadata": {
    "colab": {
     "base_uri": "https://localhost:8080/"
    },
    "id": "a0bRV-QgvdbB",
    "outputId": "4e4aab31-c10f-42f5-83d4-2b07946d1e5e"
   },
   "outputs": [
    {
     "name": "stdout",
     "output_type": "stream",
     "text": [
      "Row(Age=20, Gender='Female', Marital Status='Single', Occupation='Student', Monthly Income='No Income', Educational Qualifications='Post Graduate', Family size=4, latitude=12.9766, longitude=77.5993, Pin code=560001, Output='Yes', Feedback='Positive', _c12='Yes')\n",
      "Row(Age=24, Gender='Female', Marital Status='Single', Occupation='Student', Monthly Income='Below Rs.10000', Educational Qualifications='Graduate', Family size=3, latitude=12.977, longitude=77.5773, Pin code=560009, Output='Yes', Feedback='Positive', _c12='Yes')\n"
     ]
    }
   ],
   "source": [
    "#  데이터프레임의 상위 2개 행을 리스트로 반환\n",
    "first_two_rows = df.take(2)\n",
    "\n",
    "# 반환된 행들을 하나씩 순회하며 출력\n",
    "for row in first_two_rows:\n",
    "    print(row)"
   ]
  },
  {
   "cell_type": "code",
   "execution_count": 39,
   "metadata": {
    "colab": {
     "base_uri": "https://localhost:8080/"
    },
    "id": "cQmYR0KvvsTY",
    "outputId": "93997c19-f1f0-48e8-f446-1693f031edea"
   },
   "outputs": [
    {
     "data": {
      "text/plain": [
       "{'Age': 20,\n",
       " 'Gender': 'Female',\n",
       " 'Marital Status': 'Single',\n",
       " 'Occupation': 'Student',\n",
       " 'Monthly Income': 'No Income',\n",
       " 'Educational Qualifications': 'Post Graduate',\n",
       " 'Family size': 4,\n",
       " 'latitude': 12.9766,\n",
       " 'longitude': 77.5993,\n",
       " 'Pin code': 560001,\n",
       " 'Output': 'Yes',\n",
       " 'Feedback': 'Positive',\n",
       " '_c12': 'Yes'}"
      ]
     },
     "execution_count": 39,
     "metadata": {},
     "output_type": "execute_result"
    }
   ],
   "source": [
    "# 데이터프레임에서 첫 번째 행 가져오기\n",
    "first_row = df.first()\n",
    "\n",
    "# Row 객체를 딕셔너리로 변환\n",
    "# - asDict(): Row 객체를 Python 딕셔너리 형태로 변환\n",
    "row_dict = first_row.asDict()\n",
    "row_dict"
   ]
  },
  {
   "cell_type": "code",
   "execution_count": 40,
   "metadata": {
    "colab": {
     "base_uri": "https://localhost:8080/",
     "height": 159
    },
    "id": "LL1NCrNIv0i_",
    "outputId": "d4a23c83-09c8-4f90-826b-326b1b8ea058"
   },
   "outputs": [
    {
     "data": {
      "text/html": [
       "<table border='1'>\n",
       "<tr><th>Age</th><th>Gender</th><th>Marital Status</th><th>Occupation</th><th>Monthly Income</th><th>Educational Qualifications</th><th>Family size</th><th>latitude</th><th>longitude</th><th>Pin code</th><th>Output</th><th>Feedback</th><th>_c12</th><th>Post_Graduate_Customer</th></tr>\n",
       "<tr><td>20</td><td>Female</td><td>Single</td><td>Student</td><td>No Income</td><td>Post Graduate</td><td>4</td><td>12.9766</td><td>77.5993</td><td>560001</td><td>Yes</td><td>Positive</td><td>Yes</td><td>No</td></tr>\n",
       "<tr><td>24</td><td>Female</td><td>Single</td><td>Student</td><td>Below Rs.10000</td><td>Graduate</td><td>3</td><td>12.977</td><td>77.5773</td><td>560009</td><td>Yes</td><td>Positive</td><td>Yes</td><td>No</td></tr>\n",
       "<tr><td>22</td><td>Male</td><td>Single</td><td>Student</td><td>Below Rs.10000</td><td>Post Graduate</td><td>3</td><td>12.9551</td><td>77.6593</td><td>560017</td><td>Yes</td><td>Negative </td><td>Yes</td><td>No</td></tr>\n",
       "<tr><td>22</td><td>Female</td><td>Single</td><td>Student</td><td>No Income</td><td>Graduate</td><td>6</td><td>12.9473</td><td>77.5616</td><td>560019</td><td>Yes</td><td>Positive</td><td>Yes</td><td>No</td></tr>\n",
       "<tr><td>22</td><td>Male</td><td>Single</td><td>Student</td><td>Below Rs.10000</td><td>Post Graduate</td><td>4</td><td>12.985</td><td>77.5533</td><td>560010</td><td>Yes</td><td>Positive</td><td>Yes</td><td>No</td></tr>\n",
       "</table>\n"
      ],
      "text/plain": [
       "+---+------+--------------+----------+--------------+--------------------------+-----------+--------+---------+--------+------+---------+----+----------------------+\n",
       "|Age|Gender|Marital Status|Occupation|Monthly Income|Educational Qualifications|Family size|latitude|longitude|Pin code|Output| Feedback|_c12|Post_Graduate_Customer|\n",
       "+---+------+--------------+----------+--------------+--------------------------+-----------+--------+---------+--------+------+---------+----+----------------------+\n",
       "| 20|Female|        Single|   Student|     No Income|             Post Graduate|          4| 12.9766|  77.5993|  560001|   Yes| Positive| Yes|                    No|\n",
       "| 24|Female|        Single|   Student|Below Rs.10000|                  Graduate|          3|  12.977|  77.5773|  560009|   Yes| Positive| Yes|                    No|\n",
       "| 22|  Male|        Single|   Student|Below Rs.10000|             Post Graduate|          3| 12.9551|  77.6593|  560017|   Yes|Negative | Yes|                    No|\n",
       "| 22|Female|        Single|   Student|     No Income|                  Graduate|          6| 12.9473|  77.5616|  560019|   Yes| Positive| Yes|                    No|\n",
       "| 22|  Male|        Single|   Student|Below Rs.10000|             Post Graduate|          4|  12.985|  77.5533|  560010|   Yes| Positive| Yes|                    No|\n",
       "+---+------+--------------+----------+--------------+--------------------------+-----------+--------+---------+--------+------+---------+----+----------------------+"
      ]
     },
     "execution_count": 40,
     "metadata": {},
     "output_type": "execute_result"
    }
   ],
   "source": [
    "# 다음 조건에 따라 새로운 \"Post_Graduate_Customer\" 컬럼을 데이터프레임에 추가\n",
    "# \"Educational Qualifications\" 값이 \"Post_Graduate\"이면 \"Yes\" 그 외의 값이면 \"No\"\n",
    "df = df.withColumn(\"Post_Graduate_Customer\", when(df[\"Educational Qualifications\"] == \"Post_Graduate\", \"Yes\").otherwise(\"No\"))\n",
    "\n",
    "df.limit(5)"
   ]
  },
  {
   "cell_type": "code",
   "execution_count": 41,
   "metadata": {
    "colab": {
     "base_uri": "https://localhost:8080/",
     "height": 159
    },
    "id": "00SNEH3dwT0g",
    "outputId": "4adc5f85-8d33-4900-929b-874b83937667"
   },
   "outputs": [
    {
     "data": {
      "text/html": [
       "<table border='1'>\n",
       "<tr><th>Age</th><th>Gender</th><th>Marital Status</th><th>Job Status</th><th>Monthly Income</th><th>Educational Qualifications</th><th>Family size</th><th>latitude</th><th>longitude</th><th>Pin code</th><th>Output</th><th>Feedback</th><th>_c12</th><th>Post_Graduate_Customer</th></tr>\n",
       "<tr><td>20</td><td>Female</td><td>Single</td><td>Student</td><td>No Income</td><td>Post Graduate</td><td>4</td><td>12.9766</td><td>77.5993</td><td>560001</td><td>Yes</td><td>Positive</td><td>Yes</td><td>No</td></tr>\n",
       "<tr><td>24</td><td>Female</td><td>Single</td><td>Student</td><td>Below Rs.10000</td><td>Graduate</td><td>3</td><td>12.977</td><td>77.5773</td><td>560009</td><td>Yes</td><td>Positive</td><td>Yes</td><td>No</td></tr>\n",
       "<tr><td>22</td><td>Male</td><td>Single</td><td>Student</td><td>Below Rs.10000</td><td>Post Graduate</td><td>3</td><td>12.9551</td><td>77.6593</td><td>560017</td><td>Yes</td><td>Negative </td><td>Yes</td><td>No</td></tr>\n",
       "<tr><td>22</td><td>Female</td><td>Single</td><td>Student</td><td>No Income</td><td>Graduate</td><td>6</td><td>12.9473</td><td>77.5616</td><td>560019</td><td>Yes</td><td>Positive</td><td>Yes</td><td>No</td></tr>\n",
       "<tr><td>22</td><td>Male</td><td>Single</td><td>Student</td><td>Below Rs.10000</td><td>Post Graduate</td><td>4</td><td>12.985</td><td>77.5533</td><td>560010</td><td>Yes</td><td>Positive</td><td>Yes</td><td>No</td></tr>\n",
       "</table>\n"
      ],
      "text/plain": [
       "+---+------+--------------+----------+--------------+--------------------------+-----------+--------+---------+--------+------+---------+----+----------------------+\n",
       "|Age|Gender|Marital Status|Job Status|Monthly Income|Educational Qualifications|Family size|latitude|longitude|Pin code|Output| Feedback|_c12|Post_Graduate_Customer|\n",
       "+---+------+--------------+----------+--------------+--------------------------+-----------+--------+---------+--------+------+---------+----+----------------------+\n",
       "| 20|Female|        Single|   Student|     No Income|             Post Graduate|          4| 12.9766|  77.5993|  560001|   Yes| Positive| Yes|                    No|\n",
       "| 24|Female|        Single|   Student|Below Rs.10000|                  Graduate|          3|  12.977|  77.5773|  560009|   Yes| Positive| Yes|                    No|\n",
       "| 22|  Male|        Single|   Student|Below Rs.10000|             Post Graduate|          3| 12.9551|  77.6593|  560017|   Yes|Negative | Yes|                    No|\n",
       "| 22|Female|        Single|   Student|     No Income|                  Graduate|          6| 12.9473|  77.5616|  560019|   Yes| Positive| Yes|                    No|\n",
       "| 22|  Male|        Single|   Student|Below Rs.10000|             Post Graduate|          4|  12.985|  77.5533|  560010|   Yes| Positive| Yes|                    No|\n",
       "+---+------+--------------+----------+--------------+--------------------------+-----------+--------+---------+--------+------+---------+----+----------------------+"
      ]
     },
     "execution_count": 41,
     "metadata": {},
     "output_type": "execute_result"
    }
   ],
   "source": [
    "# 컬럼 이름 변경: \"Occupation\" -> \"Job Status\"\n",
    "# - withColumnRenamed(\"기존 컬럼명\", \"새 컬럼명\"): 지정한 기존 컬럼의 이름을 새로운 이름으로 변경\n",
    "df = df.withColumnRenamed(\"Occupation\", \"Job Status\")\n",
    "\n",
    "df.limit(5)"
   ]
  },
  {
   "cell_type": "code",
   "execution_count": 42,
   "metadata": {
    "colab": {
     "base_uri": "https://localhost:8080/",
     "height": 113
    },
    "id": "4Q5qbbecwqz4",
    "outputId": "0336bfd4-dfef-4007-a896-7f545362d5de"
   },
   "outputs": [
    {
     "data": {
      "text/html": [
       "<table border='1'>\n",
       "<tr><th>Age</th><th>Gender</th><th>Marital Status</th><th>Job Status</th><th>Monthly Income</th><th>Educational Qualifications</th><th>Family size</th><th>latitude</th><th>longitude</th><th>Pin code</th><th>Output</th><th>Feedback</th><th>_c12</th></tr>\n",
       "<tr><td>20</td><td>Female</td><td>Single</td><td>Student</td><td>No Income</td><td>Post Graduate</td><td>4</td><td>12.9766</td><td>77.5993</td><td>560001</td><td>Yes</td><td>Positive</td><td>Yes</td></tr>\n",
       "<tr><td>24</td><td>Female</td><td>Single</td><td>Student</td><td>Below Rs.10000</td><td>Graduate</td><td>3</td><td>12.977</td><td>77.5773</td><td>560009</td><td>Yes</td><td>Positive</td><td>Yes</td></tr>\n",
       "<tr><td>22</td><td>Male</td><td>Single</td><td>Student</td><td>Below Rs.10000</td><td>Post Graduate</td><td>3</td><td>12.9551</td><td>77.6593</td><td>560017</td><td>Yes</td><td>Negative </td><td>Yes</td></tr>\n",
       "</table>\n"
      ],
      "text/plain": [
       "+---+------+--------------+----------+--------------+--------------------------+-----------+--------+---------+--------+------+---------+----+\n",
       "|Age|Gender|Marital Status|Job Status|Monthly Income|Educational Qualifications|Family size|latitude|longitude|Pin code|Output| Feedback|_c12|\n",
       "+---+------+--------------+----------+--------------+--------------------------+-----------+--------+---------+--------+------+---------+----+\n",
       "| 20|Female|        Single|   Student|     No Income|             Post Graduate|          4| 12.9766|  77.5993|  560001|   Yes| Positive| Yes|\n",
       "| 24|Female|        Single|   Student|Below Rs.10000|                  Graduate|          3|  12.977|  77.5773|  560009|   Yes| Positive| Yes|\n",
       "| 22|  Male|        Single|   Student|Below Rs.10000|             Post Graduate|          3| 12.9551|  77.6593|  560017|   Yes|Negative | Yes|\n",
       "+---+------+--------------+----------+--------------+--------------------------+-----------+--------+---------+--------+------+---------+----+"
      ]
     },
     "execution_count": 42,
     "metadata": {},
     "output_type": "execute_result"
    }
   ],
   "source": [
    "# 특정 컬럼 삭제: \"Post_Graduate_Customer\"\n",
    "df = df.drop(\"Post_Graduate_Customer\")\n",
    "df.limit(3)"
   ]
  },
  {
   "cell_type": "code",
   "execution_count": 43,
   "metadata": {
    "colab": {
     "base_uri": "https://localhost:8080/",
     "height": 159
    },
    "id": "6Hdzjmh7w-Q4",
    "outputId": "323ef10f-43f8-4bc9-da01-8e8b7627f0b6"
   },
   "outputs": [
    {
     "data": {
      "text/html": [
       "<table border='1'>\n",
       "<tr><th>Age</th><th>Gender</th><th>Marital Status</th><th>Job Status</th><th>Monthly Income</th><th>Educational Qualifications</th><th>Family size</th><th>latitude</th><th>longitude</th><th>Pin code</th><th>Output</th><th>Feedback</th><th>_c12</th></tr>\n",
       "<tr><td>21</td><td>Male</td><td>Single</td><td>Student</td><td>No Income</td><td>Post Graduate</td><td>4</td><td>12.977</td><td>77.5773</td><td>560009</td><td>Yes</td><td>Positive</td><td>Yes</td></tr>\n",
       "<tr><td>31</td><td>Male</td><td>Married</td><td>Employee</td><td>More than 50000</td><td>Ph.D</td><td>5</td><td>12.9119</td><td>77.6446</td><td>560102</td><td>Yes</td><td>Positive</td><td>Yes</td></tr>\n",
       "<tr><td>32</td><td>Male</td><td>Married</td><td>Employee</td><td>More than 50000</td><td>Ph.D</td><td>5</td><td>12.9635</td><td>77.5821</td><td>560002</td><td>Yes</td><td>Negative </td><td>Yes</td></tr>\n",
       "<tr><td>25</td><td>Male</td><td>Single</td><td>Student</td><td>No Income</td><td>Post Graduate</td><td>6</td><td>13.0012</td><td>77.5995</td><td>560046</td><td>Yes</td><td>Positive</td><td>Yes</td></tr>\n",
       "<tr><td>21</td><td>Female</td><td>Single</td><td>Employee</td><td>Below Rs.10000</td><td>Graduate</td><td>2</td><td>12.9925</td><td>77.5633</td><td>560021</td><td>No</td><td>Negative </td><td>No</td></tr>\n",
       "</table>\n"
      ],
      "text/plain": [
       "+---+------+--------------+----------+---------------+--------------------------+-----------+--------+---------+--------+------+---------+----+\n",
       "|Age|Gender|Marital Status|Job Status| Monthly Income|Educational Qualifications|Family size|latitude|longitude|Pin code|Output| Feedback|_c12|\n",
       "+---+------+--------------+----------+---------------+--------------------------+-----------+--------+---------+--------+------+---------+----+\n",
       "| 21|  Male|        Single|   Student|      No Income|             Post Graduate|          4|  12.977|  77.5773|  560009|   Yes| Positive| Yes|\n",
       "| 31|  Male|       Married|  Employee|More than 50000|                      Ph.D|          5| 12.9119|  77.6446|  560102|   Yes| Positive| Yes|\n",
       "| 32|  Male|       Married|  Employee|More than 50000|                      Ph.D|          5| 12.9635|  77.5821|  560002|   Yes|Negative | Yes|\n",
       "| 25|  Male|        Single|   Student|      No Income|             Post Graduate|          6| 13.0012|  77.5995|  560046|   Yes| Positive| Yes|\n",
       "| 21|Female|        Single|  Employee| Below Rs.10000|                  Graduate|          2| 12.9925|  77.5633|  560021|    No|Negative |  No|\n",
       "+---+------+--------------+----------+---------------+--------------------------+-----------+--------+---------+--------+------+---------+----+"
      ]
     },
     "execution_count": 43,
     "metadata": {},
     "output_type": "execute_result"
    }
   ],
   "source": [
    "# 데이터프레임에서 중복된 행을 제거하고 고유한 행들만 포함한 새로운 데이터프레임 반환\n",
    "distinct_df = df.distinct()\n",
    "distinct_df.limit(5)"
   ]
  },
  {
   "cell_type": "code",
   "execution_count": 47,
   "metadata": {
    "colab": {
     "base_uri": "https://localhost:8080/"
    },
    "id": "gF-ZdFQJx3gv",
    "outputId": "4c3effa4-b4e8-4416-aae7-23b617803011"
   },
   "outputs": [
    {
     "name": "stdout",
     "output_type": "stream",
     "text": [
      "[('Age', 'int'), ('Gender', 'string'), ('Marital Status', 'string'), ('Job Status', 'string'), ('Monthly Income', 'string'), ('Educational Qualifications', 'string'), ('Family size', 'int'), ('latitude', 'double'), ('longitude', 'double'), ('Pin code', 'int'), ('Output', 'string'), ('Feedback', 'string'), ('_c12', 'string')]\n"
     ]
    }
   ],
   "source": [
    "# 데이터프레임의 각 열의 데이터 유형 출력\n",
    "print(distinct_df.dtypes)"
   ]
  },
  {
   "cell_type": "code",
   "execution_count": 48,
   "metadata": {
    "colab": {
     "base_uri": "https://localhost:8080/",
     "height": 90
    },
    "id": "toCLBCGYx77o",
    "outputId": "459664f2-98b8-4568-fe8c-48b0ee542e1b"
   },
   "outputs": [
    {
     "data": {
      "text/html": [
       "<table border='1'>\n",
       "<tr><th>Age</th><th>Gender</th><th>Marital Status</th><th>Job Status</th><th>Monthly Income</th><th>Educational Qualifications</th><th>Family size</th><th>latitude</th><th>longitude</th><th>Pin code</th><th>Output</th><th>Feedback</th><th>_c12</th></tr>\n",
       "<tr><td>29</td><td>Male</td><td>Single</td><td>Self Employeed</td><td>More than 50000</td><td>Graduate</td><td>6</td><td>12.8845</td><td>77.6036</td><td>560076</td><td>Yes</td><td>Positive</td><td>Yes</td></tr>\n",
       "<tr><td>29</td><td>Male</td><td>Single</td><td>Employee</td><td>25001 to 50000</td><td>Graduate</td><td>3</td><td>13.0641</td><td>77.5931</td><td>560092</td><td>No</td><td>Negative </td><td>No</td></tr>\n",
       "</table>\n"
      ],
      "text/plain": [
       "+---+------+--------------+--------------+---------------+--------------------------+-----------+--------+---------+--------+------+---------+----+\n",
       "|Age|Gender|Marital Status|    Job Status| Monthly Income|Educational Qualifications|Family size|latitude|longitude|Pin code|Output| Feedback|_c12|\n",
       "+---+------+--------------+--------------+---------------+--------------------------+-----------+--------+---------+--------+------+---------+----+\n",
       "| 29|  Male|        Single|Self Employeed|More than 50000|                  Graduate|          6| 12.8845|  77.6036|  560076|   Yes| Positive| Yes|\n",
       "| 29|  Male|        Single|      Employee| 25001 to 50000|                  Graduate|          3| 13.0641|  77.5931|  560092|    No|Negative |  No|\n",
       "+---+------+--------------+--------------+---------------+--------------------------+-----------+--------+---------+--------+------+---------+----+"
      ]
     },
     "execution_count": 48,
     "metadata": {},
     "output_type": "execute_result"
    }
   ],
   "source": [
    "# 나이가 28보다 크고 결혼 상태가 \"Single\"인 데이터를 필터링합니다.\n",
    "filtered_df = distinct_df.filter((col(\"Age\") > 28) & (col(\"Marital Status\") == \"Single\"))\n",
    "\n",
    "filtered_df.limit(5)"
   ]
  },
  {
   "cell_type": "code",
   "execution_count": 49,
   "metadata": {
    "colab": {
     "base_uri": "https://localhost:8080/"
    },
    "id": "GfqXZTURySn4",
    "outputId": "cb162afe-25dc-46e3-828d-dd99661e471c"
   },
   "outputs": [
    {
     "data": {
      "text/plain": [
       "[Row(Name='Alice', Age=34, Marital Status='Single'),\n",
       " Row(Name='Bob', Age=28, Marital Status='Married'),\n",
       " Row(Name='Charlie', Age=31, Marital Status='Divorced')]"
      ]
     },
     "execution_count": 49,
     "metadata": {},
     "output_type": "execute_result"
    }
   ],
   "source": [
    "# PySpark 데이터프레임의 모든 데이터를 수집하여 Python 리스트로 반환\n",
    "collected_data = df.collect()\n",
    "\n",
    "collected_data"
   ]
  },
  {
   "cell_type": "markdown",
   "metadata": {
    "id": "KufF_z7z0mSp"
   },
   "source": []
  }
 ],
 "metadata": {
  "colab": {
   "provenance": []
  },
  "kernelspec": {
   "display_name": "Python 3 (ipykernel)",
   "language": "python",
   "name": "python3"
  },
  "language_info": {
   "codemirror_mode": {
    "name": "ipython",
    "version": 3
   },
   "file_extension": ".py",
   "mimetype": "text/x-python",
   "name": "python",
   "nbconvert_exporter": "python",
   "pygments_lexer": "ipython3",
   "version": "3.9.16"
  }
 },
 "nbformat": 4,
 "nbformat_minor": 4
}
