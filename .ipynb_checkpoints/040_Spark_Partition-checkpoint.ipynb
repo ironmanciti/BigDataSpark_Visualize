{
  "nbformat": 4,
  "nbformat_minor": 0,
  "metadata": {
    "colab": {
      "provenance": []
    },
    "kernelspec": {
      "name": "python3",
      "display_name": "Python 3"
    },
    "language_info": {
      "name": "python"
    }
  },
  "cells": [
    {
      "cell_type": "markdown",
      "source": [
        "# Spark Partition이란?\n",
        "- Spark Partition은 데이터를 물리적, 논리적으로 분리하여 병렬 처리가 가능하도록 만드는 단위입니다.\n",
        "- 클러스터의 각 워커 노드에서 각 Partition이 개별적으로 처리되며, 효율적인 분산 처리를 가능하게 합니다.\n",
        "\n",
        "Spark에서 Partition이 자동으로 설정되기 때문에 소규모 데이터의 경우는 사용자가 신경 쓸 필요 없지만, 대규모 데이터 처리의 경우는 사용자가 Partition에 신경을 써야 합니다. Partition은 Spark 작업의 성능 최적화와 리소스 효율성에 큰 영향을 미치기 때문입니다.\n"
      ],
      "metadata": {
        "id": "N7Oo2PmxGsdZ"
      }
    },
    {
      "cell_type": "code",
      "source": [
        "from pyspark.sql import SparkSession\n",
        "\n",
        "spark = SparkSession.builder \\\n",
        "    .appName(\"EDA Session\") \\\n",
        "    .config(\"spark.sql.repl.eagerEval.enabled\", True) \\\n",
        "    .getOrCreate()\n",
        "\n",
        "spark"
      ],
      "metadata": {
        "colab": {
          "base_uri": "https://localhost:8080/",
          "height": 224
        },
        "id": "1mfOqlFxTgyn",
        "outputId": "d98719be-42a2-4f74-c55a-54131e726907"
      },
      "execution_count": 66,
      "outputs": [
        {
          "output_type": "execute_result",
          "data": {
            "text/plain": [
              "<pyspark.sql.session.SparkSession at 0x78aee31d5540>"
            ],
            "text/html": [
              "\n",
              "            <div>\n",
              "                <p><b>SparkSession - in-memory</b></p>\n",
              "                \n",
              "        <div>\n",
              "            <p><b>SparkContext</b></p>\n",
              "\n",
              "            <p><a href=\"http://99faff7427a6:4040\">Spark UI</a></p>\n",
              "\n",
              "            <dl>\n",
              "              <dt>Version</dt>\n",
              "                <dd><code>v3.5.4</code></dd>\n",
              "              <dt>Master</dt>\n",
              "                <dd><code>local[*]</code></dd>\n",
              "              <dt>AppName</dt>\n",
              "                <dd><code>New EDA Session</code></dd>\n",
              "            </dl>\n",
              "        </div>\n",
              "        \n",
              "            </div>\n",
              "        "
            ]
          },
          "metadata": {},
          "execution_count": 66
        }
      ]
    },
    {
      "cell_type": "code",
      "execution_count": 67,
      "metadata": {
        "colab": {
          "base_uri": "https://localhost:8080/"
        },
        "id": "0zUPb8uGGdfS",
        "outputId": "9cbc5f47-1233-41c4-f73c-047593bd7c86"
      },
      "outputs": [
        {
          "output_type": "stream",
          "name": "stdout",
          "text": [
            "Drive already mounted at /content/drive; to attempt to forcibly remount, call drive.mount(\"/content/drive\", force_remount=True).\n"
          ]
        }
      ],
      "source": [
        "from google.colab import drive\n",
        "\n",
        "# Google Drive 마운트\n",
        "drive.mount('/content/drive')"
      ]
    },
    {
      "cell_type": "markdown",
      "source": [
        "- 이 테이블에는 사용자가 제출한 2천만 개가 조금 넘는 영화 등급 레코드가 포함되어 있습니다. 타임스탬프는 UTC 시간으로 기록된 integer 값입니다."
      ],
      "metadata": {
        "id": "KVp8fz_WByn4"
      }
    },
    {
      "cell_type": "code",
      "source": [
        "# DROP TABLE 실행\n",
        "# movieRatings 테이블이 이미 존재하면 삭제\n",
        "spark.sql(\"\"\"\n",
        "DROP TABLE IF EXISTS movieRatings\n",
        "\"\"\")\n",
        "\n",
        "# CREATE TABLE 실행\n",
        "# ratings.csv 파일을 기반으로 movieRatings 테이블 생성\n",
        "spark.sql(\"\"\"\n",
        "CREATE TABLE movieRatings (\n",
        "  userId INT,\n",
        "  movieId INT,\n",
        "  rating FLOAT,\n",
        "  timeRecorded INT\n",
        ")\n",
        "USING csv\n",
        "OPTIONS (\n",
        "  path '/content/drive/Othercomputers/내 컴퓨터/BigDataDatasets/ratings.csv',\n",
        "  header 'true'\n",
        ")\n",
        "\"\"\")"
      ],
      "metadata": {
        "colab": {
          "base_uri": "https://localhost:8080/",
          "height": 25
        },
        "id": "vSEcKhgASmih",
        "outputId": "e963286c-c119-4223-c7da-7c987a126fc2"
      },
      "execution_count": 68,
      "outputs": [
        {
          "output_type": "execute_result",
          "data": {
            "text/plain": [
              "++\n",
              "||\n",
              "++\n",
              "++"
            ],
            "text/html": [
              "<table border='1'>\n",
              "<tr><th></th></tr>\n",
              "</table>\n"
            ]
          },
          "metadata": {},
          "execution_count": 68
        }
      ]
    },
    {
      "cell_type": "code",
      "source": [
        "# Spark SQL의 기본 데이터베이스 및 테이블의 물리적 저장 경로 확인\n",
        "spark.conf.get(\"spark.sql.warehouse.dir\")"
      ],
      "metadata": {
        "colab": {
          "base_uri": "https://localhost:8080/",
          "height": 36
        },
        "id": "dTPbxCktwG9C",
        "outputId": "88831058-39a9-4401-d3ee-31cbac396304"
      },
      "execution_count": 69,
      "outputs": [
        {
          "output_type": "execute_result",
          "data": {
            "text/plain": [
              "'file:/content/spark-warehouse'"
            ],
            "application/vnd.google.colaboratory.intrinsic+json": {
              "type": "string"
            }
          },
          "metadata": {},
          "execution_count": 69
        }
      ]
    },
    {
      "cell_type": "code",
      "source": [
        "# movieRatings 테이블을 DataFrame으로 로드\n",
        "movie_ratings_df = spark.table(\"movieRatings\")\n",
        "\n",
        "# Partition 개수 확인\n",
        "print(f\"Default Partition Count: {movie_ratings_df.rdd.getNumPartitions()}\")"
      ],
      "metadata": {
        "colab": {
          "base_uri": "https://localhost:8080/"
        },
        "id": "g3U2Y-BOTa6r",
        "outputId": "2915b009-8bc0-478a-8adc-2c913b0e1ea4"
      },
      "execution_count": 70,
      "outputs": [
        {
          "output_type": "stream",
          "name": "stdout",
          "text": [
            "Default Partition Count: 6\n"
          ]
        }
      ]
    },
    {
      "cell_type": "markdown",
      "source": [
        "## 2. Partition 조정\n",
        "Partition 개수를 조정하여 데이터 처리를 최적화할 수 있습니다.\n",
        "\n",
        "- Repartition: Partition 개수를 늘리거나 줄임 (Shuffle 발생).\n",
        "- Coalesce: Partition 개수를 줄일 때 사용 (Shuffle 없이 처리)."
      ],
      "metadata": {
        "id": "dAWZQJq8ZS9R"
      }
    },
    {
      "cell_type": "code",
      "source": [
        "# Partition 개수를 10으로 변경 (Repartition)\n",
        "repartitioned_df = movie_ratings_df.repartition(10)\n",
        "print(f\"Repartitioned Partition Count: {repartitioned_df.rdd.getNumPartitions()}\")\n",
        "\n",
        "# Partition 개수를 2로 줄임 (Coalesce)\n",
        "coalesced_df = movie_ratings_df.coalesce(2)\n",
        "print(f\"Coalesced Partition Count: {coalesced_df.rdd.getNumPartitions()}\")"
      ],
      "metadata": {
        "colab": {
          "base_uri": "https://localhost:8080/"
        },
        "id": "McltjQ3JT0Pb",
        "outputId": "83fc36cd-274a-4e4c-b3c8-9214b67a22f2"
      },
      "execution_count": 71,
      "outputs": [
        {
          "output_type": "stream",
          "name": "stdout",
          "text": [
            "Repartitioned Partition Count: 10\n",
            "Coalesced Partition Count: 2\n"
          ]
        }
      ]
    },
    {
      "cell_type": "markdown",
      "source": [
        "##3. Partition을 활용한 데이터 처리\n",
        "Partition을 활용하면 데이터를 병렬로 처리할 수 있습니다.\n",
        "\n",
        "예를 들어 ratings.csv의 평균 평점을 각 Partition에서 병렬로 계산할 수 있습니다.  \n",
        "\n",
        "아래의 compute_partition_avg 함수가 각 Partition에 독립적으로 실행됩니다."
      ],
      "metadata": {
        "id": "je8G1a85ZiE5"
      }
    },
    {
      "cell_type": "code",
      "source": [
        "# 각 Partition에서 평균 평점 계산\n",
        "def compute_partition_avg(iterator):\n",
        "    total = 0\n",
        "    count = 0\n",
        "    for row in iterator:\n",
        "        total += row['rating']\n",
        "        count += 1\n",
        "    yield total / count if count > 0 else 0\n",
        "\n",
        "# RDD를 사용하여 Partition별 평균 계산\n",
        "# movie_ratings_df.rdd는 movie_ratings_df DataFrame을 RDD로 변환\n",
        "# mapPartitions는 각 Partition에 대해 독립적으로 작업을 수행\n",
        "partition_avg = movie_ratings_df.rdd.mapPartitions(compute_partition_avg).collect()\n",
        "print(f\"**Partition별 평균 평점**: {partition_avg}\")"
      ],
      "metadata": {
        "colab": {
          "base_uri": "https://localhost:8080/"
        },
        "id": "zc_VmH7OZdB9",
        "outputId": "9fa26a5d-b169-4a50-87f4-3c69a39bacb6"
      },
      "execution_count": 72,
      "outputs": [
        {
          "output_type": "stream",
          "name": "stdout",
          "text": [
            "**Partition별 평균 평점**: [3.5263380240022877, 3.5265608123587704, 3.531131160679831, 3.5275173966835704, 3.526652612278908, 3.536409580786592]\n"
          ]
        }
      ]
    },
    {
      "cell_type": "markdown",
      "source": [
        "## 4. Partition 조정을 통한 성능 비교\n",
        "\n",
        "- Partition이 너무 적음: 작업이 병렬화되지 않아 처리 속도가 느려짐.\n",
        "- Partition이 너무 많음: 네트워크 및 메모리 오버헤드 증가."
      ],
      "metadata": {
        "id": "1eUUODwZZvfw"
      }
    },
    {
      "cell_type": "code",
      "source": [
        "import time\n",
        "\n",
        "# Default Partition 처리 시간 측정\n",
        "start_time = time.time()\n",
        "default_partition_result = movie_ratings_df.groupBy(\"movieId\").avg(\"rating\").count()\n",
        "default_time = time.time() - start_time\n",
        "print(f\"Default Partition Count: {movie_ratings_df.rdd.getNumPartitions()}\")\n",
        "print(f\"Default Partition Execution Time: {default_time:.2f} seconds\")\n",
        "print(f\"Default Partition Result: {default_partition_result}\")\n",
        "print()\n",
        "\n",
        "# Repartition 후 처리 시간 측정\n",
        "start_time = time.time()\n",
        "optimized_df = movie_ratings_df.repartition(10)\n",
        "optimized_result = optimized_df.groupBy(\"movieId\").avg(\"rating\").count()\n",
        "optimized_time = time.time() - start_time\n",
        "print(f\"Repartitioned Partition Count: {repartitioned_df.rdd.getNumPartitions()}\")\n",
        "print(f\"Repartitioned Execution Time: {optimized_time:.2f} seconds\")\n",
        "print(f\"Optimized Partition Result: {optimized_result}\")"
      ],
      "metadata": {
        "colab": {
          "base_uri": "https://localhost:8080/"
        },
        "id": "VmdSxQWOyKuu",
        "outputId": "24ccb0bb-6b76-4ac2-c37f-f399119d02d4"
      },
      "execution_count": 75,
      "outputs": [
        {
          "output_type": "stream",
          "name": "stdout",
          "text": [
            "Default Partition Count: 6\n",
            "Default Partition Execution Time: 37.84 seconds\n",
            "Default Partition Result: 45115\n",
            "\n",
            "Repartitioned Partition Count: 10\n",
            "Repartitioned Execution Time: 84.05 seconds\n",
            "Optimized Partition Result: 45115\n"
          ]
        }
      ]
    },
    {
      "cell_type": "markdown",
      "source": [
        "## 테이블 생성\n",
        "`outdoorProducts`라는 새 테이블을 만듭니다."
      ],
      "metadata": {
        "id": "QKqwNpdua8Vs"
      }
    },
    {
      "cell_type": "code",
      "source": [
        "# DROP TABLE 실행: 기존에 outdoorProducts 테이블이 존재하면 삭제\n",
        "spark.sql(\"\"\"\n",
        "DROP TABLE IF EXISTS outdoorProducts\n",
        "\"\"\")\n",
        "\n",
        "# CREATE TABLE 실행: 수정된 스키마를 사용하여 outdoorProducts 테이블 생성\n",
        "spark.sql(\"\"\"\n",
        "CREATE TABLE outdoorProducts (\n",
        "    InvoiceNo INT,                 -- 청구 번호\n",
        "    StockCode STRING,       -- 제품 코드\n",
        "    Description STRING,      -- 제품 설명\n",
        "    Quantity INT,                    -- 수량\n",
        "    invoiceDate TIMESTAMP,  -- 청구 날짜와 시간 (TIMESTAMP 타입으로 변경)\n",
        "    UnitPrice DOUBLE,          -- 단가\n",
        "    CustomerID INT,               -- 고객 ID\n",
        "    Country STRING              -- 국가 이름 (컬럼 이름 수정)\n",
        ")\n",
        "USING csv\n",
        "OPTIONS (\n",
        "    path '/content/drive/Othercomputers/내 컴퓨터/BigDataDatasets/OnlineRetail.csv',\n",
        "    header 'true'           -- 데이터에 헤더가 포함되어 있음을 지정\n",
        ")\n",
        "\"\"\")"
      ],
      "metadata": {
        "colab": {
          "base_uri": "https://localhost:8080/",
          "height": 25
        },
        "id": "ZYrXCbilZ6yM",
        "outputId": "640498ae-199d-48ef-a723-9fe3bdbbad7c"
      },
      "execution_count": 76,
      "outputs": [
        {
          "output_type": "execute_result",
          "data": {
            "text/plain": [
              "++\n",
              "||\n",
              "++\n",
              "++"
            ],
            "text/html": [
              "<table border='1'>\n",
              "<tr><th></th></tr>\n",
              "</table>\n"
            ]
          },
          "metadata": {},
          "execution_count": 76
        }
      ]
    },
    {
      "cell_type": "code",
      "source": [
        "spark.sql(\"SELECT * FROM outdoorProducts;\").limit(5)"
      ],
      "metadata": {
        "colab": {
          "base_uri": "https://localhost:8080/",
          "height": 156
        },
        "id": "SP4ldM8vcIA-",
        "outputId": "5be94f83-7e29-4b4c-cf5f-e9241852ba93"
      },
      "execution_count": 77,
      "outputs": [
        {
          "output_type": "execute_result",
          "data": {
            "text/plain": [
              "+---------+---------+--------------------+--------+-----------+---------+----------+--------------+\n",
              "|InvoiceNo|StockCode|         Description|Quantity|invoiceDate|UnitPrice|CustomerID|       Country|\n",
              "+---------+---------+--------------------+--------+-----------+---------+----------+--------------+\n",
              "|   536365|   85123A|WHITE HANGING HEA...|       6|       NULL|     2.55|     17850|United Kingdom|\n",
              "|   536365|    71053| WHITE METAL LANTERN|       6|       NULL|     3.39|     17850|United Kingdom|\n",
              "|   536365|   84406B|CREAM CUPID HEART...|       8|       NULL|     2.75|     17850|United Kingdom|\n",
              "|   536365|   84029G|KNITTED UNION FLA...|       6|       NULL|     3.39|     17850|United Kingdom|\n",
              "|   536365|   84029E|RED WOOLLY HOTTIE...|       6|       NULL|     3.39|     17850|United Kingdom|\n",
              "+---------+---------+--------------------+--------+-----------+---------+----------+--------------+"
            ],
            "text/html": [
              "<table border='1'>\n",
              "<tr><th>InvoiceNo</th><th>StockCode</th><th>Description</th><th>Quantity</th><th>invoiceDate</th><th>UnitPrice</th><th>CustomerID</th><th>Country</th></tr>\n",
              "<tr><td>536365</td><td>85123A</td><td>WHITE HANGING HEA...</td><td>6</td><td>NULL</td><td>2.55</td><td>17850</td><td>United Kingdom</td></tr>\n",
              "<tr><td>536365</td><td>71053</td><td>WHITE METAL LANTERN</td><td>6</td><td>NULL</td><td>3.39</td><td>17850</td><td>United Kingdom</td></tr>\n",
              "<tr><td>536365</td><td>84406B</td><td>CREAM CUPID HEART...</td><td>8</td><td>NULL</td><td>2.75</td><td>17850</td><td>United Kingdom</td></tr>\n",
              "<tr><td>536365</td><td>84029G</td><td>KNITTED UNION FLA...</td><td>6</td><td>NULL</td><td>3.39</td><td>17850</td><td>United Kingdom</td></tr>\n",
              "<tr><td>536365</td><td>84029E</td><td>RED WOOLLY HOTTIE...</td><td>6</td><td>NULL</td><td>3.39</td><td>17850</td><td>United Kingdom</td></tr>\n",
              "</table>\n"
            ]
          },
          "metadata": {},
          "execution_count": 77
        }
      ]
    },
    {
      "cell_type": "markdown",
      "source": [
        "## 5. 실전 활용: outdoorProducts 테이블로 Partition\n",
        "outdoorProducts 테이블을 국가(countryName)를 기준으로 Partition하여 각 국가별 데이터를 병렬로 처리합니다."
      ],
      "metadata": {
        "id": "RsOeQTsprYRL"
      }
    },
    {
      "cell_type": "code",
      "source": [
        "# outdoorProducts 테이블을 DataFrame으로 로드\n",
        "outdoor_products_df = spark.table(\"outdoorProducts\")\n",
        "\n",
        "# countryName을 기준으로 Partition 생성\n",
        "partitioned_df = outdoor_products_df.repartition(\"Country\")\n",
        "print(f\"Partition Count After Repartition: {partitioned_df.rdd.getNumPartitions()}\")"
      ],
      "metadata": {
        "colab": {
          "base_uri": "https://localhost:8080/"
        },
        "id": "IVbdGCaR0j1j",
        "outputId": "5c426bb9-2001-4714-ad65-0ecd6a404b68"
      },
      "execution_count": 82,
      "outputs": [
        {
          "output_type": "stream",
          "name": "stdout",
          "text": [
            "Partition Count After Repartition: 2\n"
          ]
        }
      ]
    },
    {
      "cell_type": "code",
      "source": [
        "# 국가별 총 판매량 계산\n",
        "result = partitioned_df.groupBy(\"Country\").sum(\"quantity\")\n",
        "result"
      ],
      "metadata": {
        "id": "LasZyNimcZyD",
        "colab": {
          "base_uri": "https://localhost:8080/",
          "height": 511
        },
        "outputId": "305c5d73-0804-4e3b-86b0-3917c25226b6"
      },
      "execution_count": 83,
      "outputs": [
        {
          "output_type": "execute_result",
          "data": {
            "text/plain": [
              "+------------------+-------------+\n",
              "|           Country|sum(quantity)|\n",
              "+------------------+-------------+\n",
              "|            Sweden|        35637|\n",
              "|         Singapore|         5234|\n",
              "|           Germany|       117448|\n",
              "|            France|       110480|\n",
              "|            Greece|         1556|\n",
              "|European Community|          497|\n",
              "|           Belgium|        23152|\n",
              "|           Finland|        10666|\n",
              "|             Malta|          944|\n",
              "|       Unspecified|         3300|\n",
              "|             Italy|         7999|\n",
              "|              EIRE|       142637|\n",
              "|         Lithuania|          652|\n",
              "|            Norway|        19247|\n",
              "|             Spain|        26824|\n",
              "|           Denmark|         8188|\n",
              "|         Hong Kong|         4769|\n",
              "|           Iceland|         2458|\n",
              "|            Israel|         4353|\n",
              "|   Channel Islands|         9479|\n",
              "+------------------+-------------+\n",
              "only showing top 20 rows"
            ],
            "text/html": [
              "<table border='1'>\n",
              "<tr><th>Country</th><th>sum(quantity)</th></tr>\n",
              "<tr><td>Sweden</td><td>35637</td></tr>\n",
              "<tr><td>Singapore</td><td>5234</td></tr>\n",
              "<tr><td>Germany</td><td>117448</td></tr>\n",
              "<tr><td>France</td><td>110480</td></tr>\n",
              "<tr><td>Greece</td><td>1556</td></tr>\n",
              "<tr><td>European Community</td><td>497</td></tr>\n",
              "<tr><td>Belgium</td><td>23152</td></tr>\n",
              "<tr><td>Finland</td><td>10666</td></tr>\n",
              "<tr><td>Malta</td><td>944</td></tr>\n",
              "<tr><td>Unspecified</td><td>3300</td></tr>\n",
              "<tr><td>Italy</td><td>7999</td></tr>\n",
              "<tr><td>EIRE</td><td>142637</td></tr>\n",
              "<tr><td>Lithuania</td><td>652</td></tr>\n",
              "<tr><td>Norway</td><td>19247</td></tr>\n",
              "<tr><td>Spain</td><td>26824</td></tr>\n",
              "<tr><td>Denmark</td><td>8188</td></tr>\n",
              "<tr><td>Hong Kong</td><td>4769</td></tr>\n",
              "<tr><td>Iceland</td><td>2458</td></tr>\n",
              "<tr><td>Israel</td><td>4353</td></tr>\n",
              "<tr><td>Channel Islands</td><td>9479</td></tr>\n",
              "</table>\n",
              "only showing top 20 rows\n"
            ]
          },
          "metadata": {},
          "execution_count": 83
        }
      ]
    },
    {
      "cell_type": "code",
      "source": [],
      "metadata": {
        "id": "4H5Rq3fvDcc4"
      },
      "execution_count": null,
      "outputs": []
    }
  ]
}