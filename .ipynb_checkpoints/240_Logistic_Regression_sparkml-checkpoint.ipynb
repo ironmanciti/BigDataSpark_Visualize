{
  "cells": [
    {
      "cell_type": "markdown",
      "id": "06ef6457",
      "metadata": {
        "id": "06ef6457"
      },
      "source": [
        "# Logistic Regression - Spark ML\n",
        "\n",
        "### data: 성별 소득 data 에 따라 특정 구매자의 구매할지 여부를 예측"
      ]
    },
    {
      "cell_type": "code",
      "execution_count": 1,
      "id": "bae9d02f",
      "metadata": {
        "id": "bae9d02f"
      },
      "outputs": [],
      "source": [
        "from pyspark.sql import SparkSession\n",
        "\n",
        "spark = SparkSession.builder.appName(\"SparkML\").config(\"spark.sql.repl.eagerEval.enabled\", True).getOrCreate()"
      ]
    },
    {
      "cell_type": "code",
      "source": [
        "from google.colab import drive\n",
        "\n",
        "# Google Drive 마운트\n",
        "drive.mount('/content/drive')"
      ],
      "metadata": {
        "colab": {
          "base_uri": "https://localhost:8080/"
        },
        "id": "SmupQMv25WBI",
        "outputId": "e60d98fb-2602-46b7-abaa-ff53499fdf8a"
      },
      "id": "SmupQMv25WBI",
      "execution_count": 2,
      "outputs": [
        {
          "output_type": "stream",
          "name": "stdout",
          "text": [
            "Mounted at /content/drive\n"
          ]
        }
      ]
    },
    {
      "cell_type": "code",
      "execution_count": 3,
      "id": "7013e12c",
      "metadata": {
        "colab": {
          "base_uri": "https://localhost:8080/",
          "height": 159
        },
        "id": "7013e12c",
        "outputId": "2fee03e9-6126-4b89-dfd2-2cf0a8947788"
      },
      "outputs": [
        {
          "output_type": "execute_result",
          "data": {
            "text/plain": [
              "+--------+------+---+---------------+---------+\n",
              "| User ID|Gender|Age|EstimatedSalary|Purchased|\n",
              "+--------+------+---+---------------+---------+\n",
              "|15624510|  Male| 19|          19000|        0|\n",
              "|15810944|  Male| 35|          20000|        0|\n",
              "|15668575|Female| 26|          43000|        0|\n",
              "|15603246|Female| 27|          57000|        0|\n",
              "|15804002|  Male| 19|          76000|        0|\n",
              "+--------+------+---+---------------+---------+"
            ],
            "text/html": [
              "<table border='1'>\n",
              "<tr><th>User ID</th><th>Gender</th><th>Age</th><th>EstimatedSalary</th><th>Purchased</th></tr>\n",
              "<tr><td>15624510</td><td>Male</td><td>19</td><td>19000</td><td>0</td></tr>\n",
              "<tr><td>15810944</td><td>Male</td><td>35</td><td>20000</td><td>0</td></tr>\n",
              "<tr><td>15668575</td><td>Female</td><td>26</td><td>43000</td><td>0</td></tr>\n",
              "<tr><td>15603246</td><td>Female</td><td>27</td><td>57000</td><td>0</td></tr>\n",
              "<tr><td>15804002</td><td>Male</td><td>19</td><td>76000</td><td>0</td></tr>\n",
              "</table>\n"
            ]
          },
          "metadata": {},
          "execution_count": 3
        }
      ],
      "source": [
        "df = spark.read.csv(\"/content/drive/Othercomputers/내 컴퓨터/BigDataDatasets/Social_Network_Ads.csv\", header=\"true\", inferSchema=\"true\")\n",
        "df.limit(5)"
      ]
    },
    {
      "cell_type": "code",
      "execution_count": 4,
      "id": "60b68ea8",
      "metadata": {
        "colab": {
          "base_uri": "https://localhost:8080/"
        },
        "id": "60b68ea8",
        "outputId": "b24ee18f-114e-4f5a-f10f-173e50f10661"
      },
      "outputs": [
        {
          "output_type": "execute_result",
          "data": {
            "text/plain": [
              "400"
            ]
          },
          "metadata": {},
          "execution_count": 4
        }
      ],
      "source": [
        "## dataset size\n",
        "df.count()"
      ]
    },
    {
      "cell_type": "code",
      "execution_count": 5,
      "id": "531a1c3e",
      "metadata": {
        "colab": {
          "base_uri": "https://localhost:8080/"
        },
        "id": "531a1c3e",
        "outputId": "42555173-35d5-49e8-ce57-f41fb1cf8048"
      },
      "outputs": [
        {
          "output_type": "stream",
          "name": "stdout",
          "text": [
            "+---------+-----+\n",
            "|Purchased|count|\n",
            "+---------+-----+\n",
            "|        1|  143|\n",
            "|        0|  257|\n",
            "+---------+-----+\n",
            "\n"
          ]
        }
      ],
      "source": [
        "## target 변수의 cardinality check\n",
        "df.groupBy('Purchased').count().show()"
      ]
    },
    {
      "cell_type": "code",
      "execution_count": null,
      "id": "db5dc92e",
      "metadata": {
        "id": "db5dc92e",
        "outputId": "482de8c8-899f-451b-e0c0-307980f62622"
      },
      "outputs": [
        {
          "name": "stdout",
          "output_type": "stream",
          "text": [
            "root\n",
            " |-- User ID: integer (nullable = true)\n",
            " |-- Gender: string (nullable = true)\n",
            " |-- Age: integer (nullable = true)\n",
            " |-- EstimatedSalary: integer (nullable = true)\n",
            " |-- Purchased: integer (nullable = true)\n",
            "\n"
          ]
        }
      ],
      "source": [
        "# Spark 데이터프레임의 스키마(schema)\n",
        "df.printSchema()"
      ]
    },
    {
      "cell_type": "code",
      "execution_count": 6,
      "id": "814c674a",
      "metadata": {
        "colab": {
          "base_uri": "https://localhost:8080/",
          "height": 159
        },
        "id": "814c674a",
        "outputId": "5378376e-0d0a-49ee-9268-3af4e55e3a19"
      },
      "outputs": [
        {
          "output_type": "execute_result",
          "data": {
            "text/plain": [
              "+-------+------------------+----------------+\n",
              "|summary|               Age| EstimatedSalary|\n",
              "+-------+------------------+----------------+\n",
              "|  count|               400|             400|\n",
              "|   mean|            37.655|         69742.5|\n",
              "| stddev|10.482876597307927|34096.9602824248|\n",
              "|    min|                18|           15000|\n",
              "|    max|                60|          150000|\n",
              "+-------+------------------+----------------+"
            ],
            "text/html": [
              "<table border='1'>\n",
              "<tr><th>summary</th><th>Age</th><th>EstimatedSalary</th></tr>\n",
              "<tr><td>count</td><td>400</td><td>400</td></tr>\n",
              "<tr><td>mean</td><td>37.655</td><td>69742.5</td></tr>\n",
              "<tr><td>stddev</td><td>10.482876597307927</td><td>34096.9602824248</td></tr>\n",
              "<tr><td>min</td><td>18</td><td>15000</td></tr>\n",
              "<tr><td>max</td><td>60</td><td>150000</td></tr>\n",
              "</table>\n"
            ]
          },
          "metadata": {},
          "execution_count": 6
        }
      ],
      "source": [
        "# 데이터프레임에서 특정 컬럼(\"Age\", \"EstimatedSalary\")을 선택한 후, 요약 통계 출력\n",
        "df.select([\"Age\", \"EstimatedSalary\"]).describe()"
      ]
    },
    {
      "cell_type": "markdown",
      "id": "1033691c",
      "metadata": {
        "id": "1033691c"
      },
      "source": [
        "### 문자열을 One-Hot 벡터로 변환\n",
        "- `Gender` 컬럼이 범주형이므로 one hot encoding"
      ]
    },
    {
      "cell_type": "code",
      "execution_count": 7,
      "id": "75de6f65",
      "metadata": {
        "colab": {
          "base_uri": "https://localhost:8080/",
          "height": 159
        },
        "id": "75de6f65",
        "outputId": "d24ff8ee-a067-4a69-b2e4-33c449d9b32f"
      },
      "outputs": [
        {
          "output_type": "execute_result",
          "data": {
            "text/plain": [
              "+--------+------+---+---------------+---------+-------+\n",
              "| User ID|Gender|Age|EstimatedSalary|Purchased|Gender_|\n",
              "+--------+------+---+---------------+---------+-------+\n",
              "|15624510|  Male| 19|          19000|        0|    1.0|\n",
              "|15810944|  Male| 35|          20000|        0|    1.0|\n",
              "|15668575|Female| 26|          43000|        0|    0.0|\n",
              "|15603246|Female| 27|          57000|        0|    0.0|\n",
              "|15804002|  Male| 19|          76000|        0|    1.0|\n",
              "+--------+------+---+---------------+---------+-------+"
            ],
            "text/html": [
              "<table border='1'>\n",
              "<tr><th>User ID</th><th>Gender</th><th>Age</th><th>EstimatedSalary</th><th>Purchased</th><th>Gender_</th></tr>\n",
              "<tr><td>15624510</td><td>Male</td><td>19</td><td>19000</td><td>0</td><td>1.0</td></tr>\n",
              "<tr><td>15810944</td><td>Male</td><td>35</td><td>20000</td><td>0</td><td>1.0</td></tr>\n",
              "<tr><td>15668575</td><td>Female</td><td>26</td><td>43000</td><td>0</td><td>0.0</td></tr>\n",
              "<tr><td>15603246</td><td>Female</td><td>27</td><td>57000</td><td>0</td><td>0.0</td></tr>\n",
              "<tr><td>15804002</td><td>Male</td><td>19</td><td>76000</td><td>0</td><td>1.0</td></tr>\n",
              "</table>\n"
            ]
          },
          "metadata": {},
          "execution_count": 7
        }
      ],
      "source": [
        "from pyspark.ml.feature import StringIndexer\n",
        "from pyspark.ml.feature import OneHotEncoder\n",
        "\n",
        "# 범주형 데이터를 숫자형 인덱스로 변환\n",
        "indexer = StringIndexer(inputCol=\"Gender\", outputCol=\"Gender_\").fit(df)\n",
        "df_r = indexer.transform(df)\n",
        "\n",
        "df_r.limit(5)"
      ]
    },
    {
      "cell_type": "code",
      "execution_count": 9,
      "id": "00691631",
      "metadata": {
        "colab": {
          "base_uri": "https://localhost:8080/",
          "height": 159
        },
        "id": "00691631",
        "outputId": "ee31bb4a-9510-4a13-df05-5c00c9c666bc"
      },
      "outputs": [
        {
          "output_type": "execute_result",
          "data": {
            "text/plain": [
              "+--------+------+---+---------------+---------+-------+-------------+\n",
              "| User ID|Gender|Age|EstimatedSalary|Purchased|Gender_|   Gender_ohe|\n",
              "+--------+------+---+---------------+---------+-------+-------------+\n",
              "|15624510|  Male| 19|          19000|        0|    1.0|    (1,[],[])|\n",
              "|15810944|  Male| 35|          20000|        0|    1.0|    (1,[],[])|\n",
              "|15668575|Female| 26|          43000|        0|    0.0|(1,[0],[1.0])|\n",
              "|15603246|Female| 27|          57000|        0|    0.0|(1,[0],[1.0])|\n",
              "|15804002|  Male| 19|          76000|        0|    1.0|    (1,[],[])|\n",
              "+--------+------+---+---------------+---------+-------+-------------+"
            ],
            "text/html": [
              "<table border='1'>\n",
              "<tr><th>User ID</th><th>Gender</th><th>Age</th><th>EstimatedSalary</th><th>Purchased</th><th>Gender_</th><th>Gender_ohe</th></tr>\n",
              "<tr><td>15624510</td><td>Male</td><td>19</td><td>19000</td><td>0</td><td>1.0</td><td>(1,[],[])</td></tr>\n",
              "<tr><td>15810944</td><td>Male</td><td>35</td><td>20000</td><td>0</td><td>1.0</td><td>(1,[],[])</td></tr>\n",
              "<tr><td>15668575</td><td>Female</td><td>26</td><td>43000</td><td>0</td><td>0.0</td><td>(1,[0],[1.0])</td></tr>\n",
              "<tr><td>15603246</td><td>Female</td><td>27</td><td>57000</td><td>0</td><td>0.0</td><td>(1,[0],[1.0])</td></tr>\n",
              "<tr><td>15804002</td><td>Male</td><td>19</td><td>76000</td><td>0</td><td>1.0</td><td>(1,[],[])</td></tr>\n",
              "</table>\n"
            ]
          },
          "metadata": {},
          "execution_count": 9
        }
      ],
      "source": [
        "# 범주형 데이터를 숫자로 변환한 후, 이를 원-핫 인코딩 형식으로 변환\n",
        "ohe_encoder = OneHotEncoder(inputCols=['Gender_'], outputCols=['Gender_ohe']).fit(df_r)\n",
        "df_r = ohe_encoder.transform(df_r)\n",
        "\n",
        "df_r.limit(5)"
      ]
    },
    {
      "cell_type": "code",
      "execution_count": 10,
      "id": "da6bed33",
      "metadata": {
        "colab": {
          "base_uri": "https://localhost:8080/",
          "height": 159
        },
        "id": "da6bed33",
        "outputId": "047f4f89-bd88-4f8d-f55c-1be2665add2c"
      },
      "outputs": [
        {
          "output_type": "execute_result",
          "data": {
            "text/plain": [
              "+--------+------+---+---------------+---------+-------+-------------+------------------+\n",
              "| User ID|Gender|Age|EstimatedSalary|Purchased|Gender_|   Gender_ohe|          features|\n",
              "+--------+------+---+---------------+---------+-------+-------------+------------------+\n",
              "|15624510|  Male| 19|          19000|        0|    1.0|    (1,[],[])|[19.0,19000.0,0.0]|\n",
              "|15810944|  Male| 35|          20000|        0|    1.0|    (1,[],[])|[35.0,20000.0,0.0]|\n",
              "|15668575|Female| 26|          43000|        0|    0.0|(1,[0],[1.0])|[26.0,43000.0,1.0]|\n",
              "|15603246|Female| 27|          57000|        0|    0.0|(1,[0],[1.0])|[27.0,57000.0,1.0]|\n",
              "|15804002|  Male| 19|          76000|        0|    1.0|    (1,[],[])|[19.0,76000.0,0.0]|\n",
              "+--------+------+---+---------------+---------+-------+-------------+------------------+"
            ],
            "text/html": [
              "<table border='1'>\n",
              "<tr><th>User ID</th><th>Gender</th><th>Age</th><th>EstimatedSalary</th><th>Purchased</th><th>Gender_</th><th>Gender_ohe</th><th>features</th></tr>\n",
              "<tr><td>15624510</td><td>Male</td><td>19</td><td>19000</td><td>0</td><td>1.0</td><td>(1,[],[])</td><td>[19.0,19000.0,0.0]</td></tr>\n",
              "<tr><td>15810944</td><td>Male</td><td>35</td><td>20000</td><td>0</td><td>1.0</td><td>(1,[],[])</td><td>[35.0,20000.0,0.0]</td></tr>\n",
              "<tr><td>15668575</td><td>Female</td><td>26</td><td>43000</td><td>0</td><td>0.0</td><td>(1,[0],[1.0])</td><td>[26.0,43000.0,1.0]</td></tr>\n",
              "<tr><td>15603246</td><td>Female</td><td>27</td><td>57000</td><td>0</td><td>0.0</td><td>(1,[0],[1.0])</td><td>[27.0,57000.0,1.0]</td></tr>\n",
              "<tr><td>15804002</td><td>Male</td><td>19</td><td>76000</td><td>0</td><td>1.0</td><td>(1,[],[])</td><td>[19.0,76000.0,0.0]</td></tr>\n",
              "</table>\n"
            ]
          },
          "metadata": {},
          "execution_count": 10
        }
      ],
      "source": [
        "from pyspark.ml.feature import VectorAssembler\n",
        "\n",
        "# 여러 개의 입력 컬럼을 하나의 벡터로 결합하여 머신러닝 모델에서 사용할 수 있는 형식으로 변환\n",
        "assembler = VectorAssembler(\n",
        "    inputCols=['Age', 'EstimatedSalary', 'Gender_ohe'],\n",
        "    outputCol='features'\n",
        ")\n",
        "\n",
        "output = assembler.transform(df_r)\n",
        "output.limit(5)\n"
      ]
    },
    {
      "cell_type": "code",
      "execution_count": 11,
      "id": "0fedcd30",
      "metadata": {
        "colab": {
          "base_uri": "https://localhost:8080/",
          "height": 159
        },
        "id": "0fedcd30",
        "outputId": "d88d5247-cc31-41b6-ee36-6d917247d7f4"
      },
      "outputs": [
        {
          "output_type": "execute_result",
          "data": {
            "text/plain": [
              "+--------+------+---+---------------+---------+-------+-------------+------------------+--------------------+\n",
              "| User ID|Gender|Age|EstimatedSalary|Purchased|Gender_|   Gender_ohe|          features|        standardized|\n",
              "+--------+------+---+---------------+---------+-------+-------------+------------------+--------------------+\n",
              "|15624510|  Male| 19|          19000|        0|    1.0|    (1,[],[])|[19.0,19000.0,0.0]|[1.81247960172299...|\n",
              "|15810944|  Male| 35|          20000|        0|    1.0|    (1,[],[])|[35.0,20000.0,0.0]|[3.33877821370025...|\n",
              "|15668575|Female| 26|          43000|        0|    0.0|(1,[0],[1.0])|[26.0,43000.0,1.0]|[2.48023524446304...|\n",
              "|15603246|Female| 27|          57000|        0|    0.0|(1,[0],[1.0])|[27.0,57000.0,1.0]|[2.57562890771162...|\n",
              "|15804002|  Male| 19|          76000|        0|    1.0|    (1,[],[])|[19.0,76000.0,0.0]|[1.81247960172299...|\n",
              "+--------+------+---+---------------+---------+-------+-------------+------------------+--------------------+"
            ],
            "text/html": [
              "<table border='1'>\n",
              "<tr><th>User ID</th><th>Gender</th><th>Age</th><th>EstimatedSalary</th><th>Purchased</th><th>Gender_</th><th>Gender_ohe</th><th>features</th><th>standardized</th></tr>\n",
              "<tr><td>15624510</td><td>Male</td><td>19</td><td>19000</td><td>0</td><td>1.0</td><td>(1,[],[])</td><td>[19.0,19000.0,0.0]</td><td>[1.81247960172299...</td></tr>\n",
              "<tr><td>15810944</td><td>Male</td><td>35</td><td>20000</td><td>0</td><td>1.0</td><td>(1,[],[])</td><td>[35.0,20000.0,0.0]</td><td>[3.33877821370025...</td></tr>\n",
              "<tr><td>15668575</td><td>Female</td><td>26</td><td>43000</td><td>0</td><td>0.0</td><td>(1,[0],[1.0])</td><td>[26.0,43000.0,1.0]</td><td>[2.48023524446304...</td></tr>\n",
              "<tr><td>15603246</td><td>Female</td><td>27</td><td>57000</td><td>0</td><td>0.0</td><td>(1,[0],[1.0])</td><td>[27.0,57000.0,1.0]</td><td>[2.57562890771162...</td></tr>\n",
              "<tr><td>15804002</td><td>Male</td><td>19</td><td>76000</td><td>0</td><td>1.0</td><td>(1,[],[])</td><td>[19.0,76000.0,0.0]</td><td>[1.81247960172299...</td></tr>\n",
              "</table>\n"
            ]
          },
          "metadata": {},
          "execution_count": 11
        }
      ],
      "source": [
        "from pyspark.ml.feature import StandardScaler\n",
        "\n",
        "# 데이터를 표준화(Standardization)하여 평균이 0이고, 분산이 1이 되도록 변환\n",
        "scaler = StandardScaler(inputCol='features', outputCol='standardized')\n",
        "\n",
        "data_scaled = scaler.fit(output).transform(output)\n",
        "data_scaled.limit(5)"
      ]
    },
    {
      "cell_type": "code",
      "execution_count": 12,
      "id": "85e3ae55",
      "metadata": {
        "colab": {
          "base_uri": "https://localhost:8080/"
        },
        "id": "85e3ae55",
        "outputId": "f3d4716a-ccee-4e54-a024-7a998ae55c69"
      },
      "outputs": [
        {
          "output_type": "stream",
          "name": "stdout",
          "text": [
            "+----------------------------------------------------------+---------+\n",
            "|standardized                                              |Purchased|\n",
            "+----------------------------------------------------------+---------+\n",
            "|[1.8124796017229972,0.5572344233217031,0.0]               |0        |\n",
            "|[3.338778213700258,0.5865625508649507,0.0]                |0        |\n",
            "|[2.480235244463049,1.261109484359644,1.9978980551207968]  |0        |\n",
            "|[2.5756289077116277,1.6717032699651093,1.9978980551207968]|0        |\n",
            "|[1.8124796017229972,2.2289376932868126,0.0]               |0        |\n",
            "+----------------------------------------------------------+---------+\n",
            "only showing top 5 rows\n",
            "\n"
          ]
        }
      ],
      "source": [
        "# 표준화된 데이터와 타겟 변수를 선택하여 새로운 데이터프레임 생성\n",
        "# - select: 특정 컬럼(\"standardized\", \"Purchased\")만 선택\n",
        "# - \"standardized\": 표준화된 특징 벡터 컬럼\n",
        "# - \"Purchased\": 타겟 변수 컬럼\n",
        "data = data_scaled.select(\"standardized\", \"Purchased\")\n",
        "\n",
        "data.show(5, truncate=False)"
      ]
    },
    {
      "cell_type": "code",
      "execution_count": 13,
      "id": "51fedda8",
      "metadata": {
        "colab": {
          "base_uri": "https://localhost:8080/"
        },
        "id": "51fedda8",
        "outputId": "7add74dc-a64d-49e7-a43c-5ea625625471"
      },
      "outputs": [
        {
          "output_type": "execute_result",
          "data": {
            "text/plain": [
              "(298, 102)"
            ]
          },
          "metadata": {},
          "execution_count": 13
        }
      ],
      "source": [
        "# 데이터를 학습용(train)과 테스트용(test)으로 랜덤하게 분할\n",
        "train_data, test_data = data.randomSplit([0.75, 0.25])\n",
        "\n",
        "train_data.count(), test_data.count()"
      ]
    },
    {
      "cell_type": "code",
      "execution_count": 14,
      "id": "0fa181bc",
      "metadata": {
        "colab": {
          "base_uri": "https://localhost:8080/"
        },
        "id": "0fa181bc",
        "outputId": "4a29f98e-a013-469c-ad34-5845efb8f54e"
      },
      "outputs": [
        {
          "output_type": "execute_result",
          "data": {
            "text/plain": [
              "LogisticRegressionModel: uid=LogisticRegression_8cf61cdaeeb4, numClasses=2, numFeatures=3"
            ]
          },
          "metadata": {},
          "execution_count": 14
        }
      ],
      "source": [
        "from pyspark.ml.classification import LogisticRegression\n",
        "\n",
        "# 로지스틱 회귀(Logistic Regression) 모델을 생성하고 학습\n",
        "log_reg = LogisticRegression(featuresCol=\"standardized\", labelCol=\"Purchased\").fit(train_data)\n",
        "log_reg"
      ]
    },
    {
      "cell_type": "code",
      "execution_count": 17,
      "id": "fc278d4c",
      "metadata": {
        "colab": {
          "base_uri": "https://localhost:8080/"
        },
        "id": "fc278d4c",
        "outputId": "8888b146-83ca-4f1d-ef37-b9874e512e3a"
      },
      "outputs": [
        {
          "output_type": "stream",
          "name": "stdout",
          "text": [
            "+----------------------------------------------------------+---------+--------------------------------------+------------------------------------------+----------+\n",
            "|standardized                                              |Purchased|rawPrediction                         |probability                               |prediction|\n",
            "+----------------------------------------------------------+---------+--------------------------------------+------------------------------------------+----------+\n",
            "|[1.8124796017229972,0.6158906784081982,1.9978980551207968]|0        |[7.403339214052574,-7.403339214052574]|[0.9993911558556515,6.088441443484749E-4] |0.0       |\n",
            "|[1.8124796017229972,0.7332031885811884,0.0]               |0        |[6.580013288516158,-6.580013288516158]|[0.9986140925526136,0.0013859074473864252]|0.0       |\n",
            "|[1.8124796017229972,0.7625313161244359,1.9978980551207968]|0        |[7.242161525443423,-7.242161525443423]|[0.99928474900317,7.15250996830008E-4]    |0.0       |\n",
            "|[1.8124796017229972,2.0529689280273273,0.0]               |0        |[5.129414091033803,-5.129414091033803]|[0.9941148124203254,0.0058851875796746]   |0.0       |\n",
            "|[1.907873264971576,0.6745469334946933,1.9978980551207968] |0        |[7.106386854643815,-7.106386854643815]|[0.9991808197154172,8.191802845828322E-4] |0.0       |\n",
            "+----------------------------------------------------------+---------+--------------------------------------+------------------------------------------+----------+\n",
            "only showing top 5 rows\n",
            "\n"
          ]
        }
      ],
      "source": [
        "# 학습된 로지스틱 회귀 모델(log_reg)을 사용하여 테스트 데이터(test_data)에 대한 예측 수행\n",
        "# 결과에는 원본 데이터와 함께 예측 확률(probability), 예측 레이블(prediction), 그리고 각 클래스별 확률이 포함됩니다.\n",
        "pred = log_reg.transform(test_data)\n",
        "pred.show(5, truncate=False)"
      ]
    },
    {
      "cell_type": "code",
      "source": [
        "pred.first()"
      ],
      "metadata": {
        "colab": {
          "base_uri": "https://localhost:8080/"
        },
        "id": "-BkCeYGA-4vp",
        "outputId": "91e2a8b7-45d3-48e0-9bfa-cdcd3664378f"
      },
      "id": "-BkCeYGA-4vp",
      "execution_count": 21,
      "outputs": [
        {
          "output_type": "execute_result",
          "data": {
            "text/plain": [
              "Row(standardized=DenseVector([1.8125, 0.6159, 1.9979]), Purchased=0, rawPrediction=DenseVector([7.4033, -7.4033]), probability=DenseVector([0.9994, 0.0006]), prediction=0.0)"
            ]
          },
          "metadata": {},
          "execution_count": 21
        }
      ]
    },
    {
      "cell_type": "code",
      "execution_count": 22,
      "id": "c1241091",
      "metadata": {
        "colab": {
          "base_uri": "https://localhost:8080/"
        },
        "id": "c1241091",
        "outputId": "cc7a9907-7e07-406f-a9c9-582e3967487a"
      },
      "outputs": [
        {
          "output_type": "stream",
          "name": "stdout",
          "text": [
            "+----------+-----+\n",
            "|prediction|count|\n",
            "+----------+-----+\n",
            "|       0.0|   68|\n",
            "|       1.0|   34|\n",
            "+----------+-----+\n",
            "\n"
          ]
        }
      ],
      "source": [
        "# 예측 결과(prediction)를 기준으로 그룹화하여 각 예측 클래스별 개수 계산\n",
        "pred.groupBy('prediction').count().orderBy('prediction').show()"
      ]
    },
    {
      "cell_type": "code",
      "execution_count": 23,
      "id": "a9f7d66f",
      "metadata": {
        "colab": {
          "base_uri": "https://localhost:8080/"
        },
        "id": "a9f7d66f",
        "outputId": "29d0b842-e084-4338-b618-91dd2f68e5df"
      },
      "outputs": [
        {
          "output_type": "stream",
          "name": "stdout",
          "text": [
            "+---------+-----+\n",
            "|Purchased|count|\n",
            "+---------+-----+\n",
            "|        0|   62|\n",
            "|        1|   40|\n",
            "+---------+-----+\n",
            "\n"
          ]
        }
      ],
      "source": [
        "# 실제 값(Purchased)을 기준으로 그룹화하여 각 클래스별 데이터 개수 계산\n",
        "pred.groupBy('Purchased').count().orderBy('Purchased').show()"
      ]
    },
    {
      "cell_type": "markdown",
      "id": "3a08fa13",
      "metadata": {
        "id": "3a08fa13"
      },
      "source": [
        "### Confustion Matrix 시각화"
      ]
    },
    {
      "cell_type": "code",
      "execution_count": 25,
      "id": "ea0b6d90",
      "metadata": {
        "colab": {
          "base_uri": "https://localhost:8080/",
          "height": 527
        },
        "id": "ea0b6d90",
        "outputId": "47e1377a-8353-487f-c04e-f8a6a33e385b"
      },
      "outputs": [
        {
          "output_type": "stream",
          "name": "stdout",
          "text": [
            "0.8823529411764706\n",
            "[[59  3]\n",
            " [ 9 31]]\n"
          ]
        },
        {
          "output_type": "display_data",
          "data": {
            "text/plain": [
              "<Figure size 640x480 with 2 Axes>"
            ],
            "image/png": "[encoded data removed]"
          },
          "metadata": {}
        }
      ],
      "source": [
        "from sklearn.metrics import confusion_matrix, accuracy_score, f1_score, precision_score, recall_score\n",
        "import seaborn as sns\n",
        "\n",
        "# 예측 결과(pred)에서 실제 값과 예측 값을 리스트로 변환\n",
        "y_true = pred.select(\"Purchased\").collect()  # 실제 값\n",
        "y_pred = pred.select(\"prediction\").collect()  # 예측 값\n",
        "\n",
        "# 혼동 행렬(Confusion Matrix) 계산\n",
        "cm = confusion_matrix(y_true, y_pred)\n",
        "\n",
        "# 정확도(Accuracy) 계산\n",
        "accuracy = accuracy_score(y_true, y_pred)\n",
        "\n",
        "# 정확도 및 혼동 행렬 출력\n",
        "print(accuracy)\n",
        "print(cm)\n",
        "\n",
        "# 혼동 행렬을 히트맵으로 시각화\n",
        "ax = sns.heatmap(cm, annot=True, fmt='d')\n",
        "ax.set_title(\"Confusion Matrix\")  # 히트맵 제목 설정\n",
        "ax.set_xlabel(\"Predicted\")        # x축 레이블 (예측값)\n",
        "ax.set_ylabel(\"True\")             # y축 레이블 (실제값)\n",
        "None"
      ]
    },
    {
      "cell_type": "code",
      "execution_count": null,
      "id": "a9905101",
      "metadata": {
        "id": "a9905101"
      },
      "outputs": [],
      "source": []
    }
  ],
  "metadata": {
    "kernelspec": {
      "display_name": "Python 3 (ipykernel)",
      "language": "python",
      "name": "python3"
    },
    "language_info": {
      "codemirror_mode": {
        "name": "ipython",
        "version": 3
      },
      "file_extension": ".py",
      "mimetype": "text/x-python",
      "name": "python",
      "nbconvert_exporter": "python",
      "pygments_lexer": "ipython3",
      "version": "3.9.16"
    },
    "colab": {
      "provenance": []
    }
  },
  "nbformat": 4,
  "nbformat_minor": 5
}