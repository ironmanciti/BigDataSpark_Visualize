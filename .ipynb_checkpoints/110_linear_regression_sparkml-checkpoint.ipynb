{
 "cells": [
  {
   "cell_type": "code",
   "execution_count": 1,
   "id": "36120faa",
   "metadata": {},
   "outputs": [],
   "source": [
    "import findspark\n",
    "findspark.init()"
   ]
  },
  {
   "cell_type": "code",
   "execution_count": 2,
   "id": "f24909b8",
   "metadata": {},
   "outputs": [
    {
     "data": {
      "text/html": [
       "\n",
       "            <div>\n",
       "                <p><b>SparkSession - in-memory</b></p>\n",
       "                \n",
       "        <div>\n",
       "            <p><b>SparkContext</b></p>\n",
       "\n",
       "            <p><a href=\"http://DESKTOP-0EMPLS6:4040\">Spark UI</a></p>\n",
       "\n",
       "            <dl>\n",
       "              <dt>Version</dt>\n",
       "                <dd><code>v3.3.1</code></dd>\n",
       "              <dt>Master</dt>\n",
       "                <dd><code>local[*]</code></dd>\n",
       "              <dt>AppName</dt>\n",
       "                <dd><code>DataFrame</code></dd>\n",
       "            </dl>\n",
       "        </div>\n",
       "        \n",
       "            </div>\n",
       "        "
      ],
      "text/plain": [
       "<pyspark.sql.session.SparkSession at 0x192a468ba90>"
      ]
     },
     "execution_count": 2,
     "metadata": {},
     "output_type": "execute_result"
    }
   ],
   "source": [
    "from pyspark.sql import SparkSession\n",
    "\n",
    "spark = SparkSession.builder.appName(\"DataFrame\").config(\"spark.sql.repl.eagerEval.enabled\", True).getOrCreate()\n",
    "spark"
   ]
  },
  {
   "cell_type": "code",
   "execution_count": 3,
   "id": "e6b4ce5e",
   "metadata": {},
   "outputs": [
    {
     "data": {
      "text/html": [
       "<div>\n",
       "<style scoped>\n",
       "    .dataframe tbody tr th:only-of-type {\n",
       "        vertical-align: middle;\n",
       "    }\n",
       "\n",
       "    .dataframe tbody tr th {\n",
       "        vertical-align: top;\n",
       "    }\n",
       "\n",
       "    .dataframe thead th {\n",
       "        text-align: right;\n",
       "    }\n",
       "</style>\n",
       "<table border=\"1\" class=\"dataframe\">\n",
       "  <thead>\n",
       "    <tr style=\"text-align: right;\">\n",
       "      <th></th>\n",
       "      <th>MedInc</th>\n",
       "      <th>HouseAge</th>\n",
       "      <th>AveRooms</th>\n",
       "      <th>AveBedrms</th>\n",
       "      <th>Population</th>\n",
       "      <th>AveOccup</th>\n",
       "      <th>Latitude</th>\n",
       "      <th>Longitude</th>\n",
       "    </tr>\n",
       "  </thead>\n",
       "  <tbody>\n",
       "    <tr>\n",
       "      <th>0</th>\n",
       "      <td>8.3252</td>\n",
       "      <td>41.0</td>\n",
       "      <td>6.984127</td>\n",
       "      <td>1.023810</td>\n",
       "      <td>322.0</td>\n",
       "      <td>2.555556</td>\n",
       "      <td>37.88</td>\n",
       "      <td>-122.23</td>\n",
       "    </tr>\n",
       "    <tr>\n",
       "      <th>1</th>\n",
       "      <td>8.3014</td>\n",
       "      <td>21.0</td>\n",
       "      <td>6.238137</td>\n",
       "      <td>0.971880</td>\n",
       "      <td>2401.0</td>\n",
       "      <td>2.109842</td>\n",
       "      <td>37.86</td>\n",
       "      <td>-122.22</td>\n",
       "    </tr>\n",
       "    <tr>\n",
       "      <th>2</th>\n",
       "      <td>7.2574</td>\n",
       "      <td>52.0</td>\n",
       "      <td>8.288136</td>\n",
       "      <td>1.073446</td>\n",
       "      <td>496.0</td>\n",
       "      <td>2.802260</td>\n",
       "      <td>37.85</td>\n",
       "      <td>-122.24</td>\n",
       "    </tr>\n",
       "    <tr>\n",
       "      <th>3</th>\n",
       "      <td>5.6431</td>\n",
       "      <td>52.0</td>\n",
       "      <td>5.817352</td>\n",
       "      <td>1.073059</td>\n",
       "      <td>558.0</td>\n",
       "      <td>2.547945</td>\n",
       "      <td>37.85</td>\n",
       "      <td>-122.25</td>\n",
       "    </tr>\n",
       "    <tr>\n",
       "      <th>4</th>\n",
       "      <td>3.8462</td>\n",
       "      <td>52.0</td>\n",
       "      <td>6.281853</td>\n",
       "      <td>1.081081</td>\n",
       "      <td>565.0</td>\n",
       "      <td>2.181467</td>\n",
       "      <td>37.85</td>\n",
       "      <td>-122.25</td>\n",
       "    </tr>\n",
       "  </tbody>\n",
       "</table>\n",
       "</div>"
      ],
      "text/plain": [
       "   MedInc  HouseAge  AveRooms  AveBedrms  Population  AveOccup  Latitude  \\\n",
       "0  8.3252      41.0  6.984127   1.023810       322.0  2.555556     37.88   \n",
       "1  8.3014      21.0  6.238137   0.971880      2401.0  2.109842     37.86   \n",
       "2  7.2574      52.0  8.288136   1.073446       496.0  2.802260     37.85   \n",
       "3  5.6431      52.0  5.817352   1.073059       558.0  2.547945     37.85   \n",
       "4  3.8462      52.0  6.281853   1.081081       565.0  2.181467     37.85   \n",
       "\n",
       "   Longitude  \n",
       "0    -122.23  \n",
       "1    -122.22  \n",
       "2    -122.24  \n",
       "3    -122.25  \n",
       "4    -122.25  "
      ]
     },
     "execution_count": 3,
     "metadata": {},
     "output_type": "execute_result"
    }
   ],
   "source": [
    "from sklearn.datasets import fetch_california_housing\n",
    "import pandas as pd\n",
    "import numpy as np\n",
    "from pyspark.ml.regression import LinearRegression\n",
    "from pyspark.ml.feature import StringIndexer\n",
    "from pyspark.ml.feature import VectorAssembler\n",
    "import warnings\n",
    "warnings.filterwarnings('ignore')\n",
    "\n",
    "housing = fetch_california_housing()\n",
    "df = pd.DataFrame(data=housing.data, columns=housing.feature_names)\n",
    "df.head()"
   ]
  },
  {
   "cell_type": "code",
   "execution_count": 4,
   "id": "e7d9a4b7",
   "metadata": {},
   "outputs": [
    {
     "data": {
      "text/html": [
       "<div>\n",
       "<style scoped>\n",
       "    .dataframe tbody tr th:only-of-type {\n",
       "        vertical-align: middle;\n",
       "    }\n",
       "\n",
       "    .dataframe tbody tr th {\n",
       "        vertical-align: top;\n",
       "    }\n",
       "\n",
       "    .dataframe thead th {\n",
       "        text-align: right;\n",
       "    }\n",
       "</style>\n",
       "<table border=\"1\" class=\"dataframe\">\n",
       "  <thead>\n",
       "    <tr style=\"text-align: right;\">\n",
       "      <th></th>\n",
       "      <th>MedInc</th>\n",
       "      <th>HouseAge</th>\n",
       "      <th>AveRooms</th>\n",
       "      <th>AveBedrms</th>\n",
       "      <th>Population</th>\n",
       "      <th>AveOccup</th>\n",
       "      <th>Latitude</th>\n",
       "      <th>Longitude</th>\n",
       "      <th>PRICE</th>\n",
       "    </tr>\n",
       "  </thead>\n",
       "  <tbody>\n",
       "    <tr>\n",
       "      <th>0</th>\n",
       "      <td>8.3252</td>\n",
       "      <td>41.0</td>\n",
       "      <td>6.984127</td>\n",
       "      <td>1.023810</td>\n",
       "      <td>322.0</td>\n",
       "      <td>2.555556</td>\n",
       "      <td>37.88</td>\n",
       "      <td>-122.23</td>\n",
       "      <td>4.526</td>\n",
       "    </tr>\n",
       "    <tr>\n",
       "      <th>1</th>\n",
       "      <td>8.3014</td>\n",
       "      <td>21.0</td>\n",
       "      <td>6.238137</td>\n",
       "      <td>0.971880</td>\n",
       "      <td>2401.0</td>\n",
       "      <td>2.109842</td>\n",
       "      <td>37.86</td>\n",
       "      <td>-122.22</td>\n",
       "      <td>3.585</td>\n",
       "    </tr>\n",
       "    <tr>\n",
       "      <th>2</th>\n",
       "      <td>7.2574</td>\n",
       "      <td>52.0</td>\n",
       "      <td>8.288136</td>\n",
       "      <td>1.073446</td>\n",
       "      <td>496.0</td>\n",
       "      <td>2.802260</td>\n",
       "      <td>37.85</td>\n",
       "      <td>-122.24</td>\n",
       "      <td>3.521</td>\n",
       "    </tr>\n",
       "    <tr>\n",
       "      <th>3</th>\n",
       "      <td>5.6431</td>\n",
       "      <td>52.0</td>\n",
       "      <td>5.817352</td>\n",
       "      <td>1.073059</td>\n",
       "      <td>558.0</td>\n",
       "      <td>2.547945</td>\n",
       "      <td>37.85</td>\n",
       "      <td>-122.25</td>\n",
       "      <td>3.413</td>\n",
       "    </tr>\n",
       "    <tr>\n",
       "      <th>4</th>\n",
       "      <td>3.8462</td>\n",
       "      <td>52.0</td>\n",
       "      <td>6.281853</td>\n",
       "      <td>1.081081</td>\n",
       "      <td>565.0</td>\n",
       "      <td>2.181467</td>\n",
       "      <td>37.85</td>\n",
       "      <td>-122.25</td>\n",
       "      <td>3.422</td>\n",
       "    </tr>\n",
       "  </tbody>\n",
       "</table>\n",
       "</div>"
      ],
      "text/plain": [
       "   MedInc  HouseAge  AveRooms  AveBedrms  Population  AveOccup  Latitude  \\\n",
       "0  8.3252      41.0  6.984127   1.023810       322.0  2.555556     37.88   \n",
       "1  8.3014      21.0  6.238137   0.971880      2401.0  2.109842     37.86   \n",
       "2  7.2574      52.0  8.288136   1.073446       496.0  2.802260     37.85   \n",
       "3  5.6431      52.0  5.817352   1.073059       558.0  2.547945     37.85   \n",
       "4  3.8462      52.0  6.281853   1.081081       565.0  2.181467     37.85   \n",
       "\n",
       "   Longitude  PRICE  \n",
       "0    -122.23  4.526  \n",
       "1    -122.22  3.585  \n",
       "2    -122.24  3.521  \n",
       "3    -122.25  3.413  \n",
       "4    -122.25  3.422  "
      ]
     },
     "execution_count": 4,
     "metadata": {},
     "output_type": "execute_result"
    }
   ],
   "source": [
    "df['PRICE'] = housing.target\n",
    "\n",
    "df.head()"
   ]
  },
  {
   "cell_type": "code",
   "execution_count": 5,
   "id": "68a8fe74",
   "metadata": {},
   "outputs": [
    {
     "data": {
      "text/html": [
       "<table border='1'>\n",
       "<tr><th>MedInc</th><th>HouseAge</th><th>AveRooms</th><th>AveBedrms</th><th>Population</th><th>AveOccup</th><th>Latitude</th><th>Longitude</th><th>PRICE</th></tr>\n",
       "<tr><td>8.3252</td><td>41.0</td><td>6.984126984126984</td><td>1.0238095238095237</td><td>322.0</td><td>2.5555555555555554</td><td>37.88</td><td>-122.23</td><td>4.526</td></tr>\n",
       "<tr><td>8.3014</td><td>21.0</td><td>6.238137082601054</td><td>0.9718804920913884</td><td>2401.0</td><td>2.109841827768014</td><td>37.86</td><td>-122.22</td><td>3.585</td></tr>\n",
       "<tr><td>7.2574</td><td>52.0</td><td>8.288135593220339</td><td>1.073446327683616</td><td>496.0</td><td>2.8022598870056497</td><td>37.85</td><td>-122.24</td><td>3.521</td></tr>\n",
       "<tr><td>5.6431</td><td>52.0</td><td>5.8173515981735155</td><td>1.0730593607305936</td><td>558.0</td><td>2.547945205479452</td><td>37.85</td><td>-122.25</td><td>3.413</td></tr>\n",
       "<tr><td>3.8462</td><td>52.0</td><td>6.281853281853282</td><td>1.0810810810810811</td><td>565.0</td><td>2.1814671814671813</td><td>37.85</td><td>-122.25</td><td>3.422</td></tr>\n",
       "</table>\n"
      ],
      "text/plain": [
       "+------+--------+------------------+------------------+----------+------------------+--------+---------+-----+\n",
       "|MedInc|HouseAge|          AveRooms|         AveBedrms|Population|          AveOccup|Latitude|Longitude|PRICE|\n",
       "+------+--------+------------------+------------------+----------+------------------+--------+---------+-----+\n",
       "|8.3252|    41.0| 6.984126984126984|1.0238095238095237|     322.0|2.5555555555555554|   37.88|  -122.23|4.526|\n",
       "|8.3014|    21.0| 6.238137082601054|0.9718804920913884|    2401.0| 2.109841827768014|   37.86|  -122.22|3.585|\n",
       "|7.2574|    52.0| 8.288135593220339| 1.073446327683616|     496.0|2.8022598870056497|   37.85|  -122.24|3.521|\n",
       "|5.6431|    52.0|5.8173515981735155|1.0730593607305936|     558.0| 2.547945205479452|   37.85|  -122.25|3.413|\n",
       "|3.8462|    52.0| 6.281853281853282|1.0810810810810811|     565.0|2.1814671814671813|   37.85|  -122.25|3.422|\n",
       "+------+--------+------------------+------------------+----------+------------------+--------+---------+-----+"
      ]
     },
     "execution_count": 5,
     "metadata": {},
     "output_type": "execute_result"
    }
   ],
   "source": [
    "## Pandas DataFrame을 Spark DataFrame으로 변환\n",
    "spark_df = spark.createDataFrame(df)\n",
    "spark_df.limit(5)"
   ]
  },
  {
   "cell_type": "code",
   "execution_count": 6,
   "id": "e64401b2",
   "metadata": {},
   "outputs": [
    {
     "name": "stdout",
     "output_type": "stream",
     "text": [
      "['MedInc', 'HouseAge', 'AveRooms', 'AveBedrms', 'Population', 'AveOccup', 'Latitude', 'Longitude']\n"
     ]
    }
   ],
   "source": [
    "print(spark_df.columns[:-1])"
   ]
  },
  {
   "cell_type": "code",
   "execution_count": 9,
   "id": "cc2c9720",
   "metadata": {},
   "outputs": [
    {
     "data": {
      "text/html": [
       "<table border='1'>\n",
       "<tr><th>MedInc</th><th>HouseAge</th><th>AveRooms</th><th>AveBedrms</th><th>Population</th><th>AveOccup</th><th>Latitude</th><th>Longitude</th><th>PRICE</th><th>features</th></tr>\n",
       "<tr><td>8.3252</td><td>41.0</td><td>6.984126984126984</td><td>1.0238095238095237</td><td>322.0</td><td>2.5555555555555554</td><td>37.88</td><td>-122.23</td><td>4.526</td><td>[8.3252,41.0,6.98...</td></tr>\n",
       "<tr><td>8.3014</td><td>21.0</td><td>6.238137082601054</td><td>0.9718804920913884</td><td>2401.0</td><td>2.109841827768014</td><td>37.86</td><td>-122.22</td><td>3.585</td><td>[8.3014,21.0,6.23...</td></tr>\n",
       "<tr><td>7.2574</td><td>52.0</td><td>8.288135593220339</td><td>1.073446327683616</td><td>496.0</td><td>2.8022598870056497</td><td>37.85</td><td>-122.24</td><td>3.521</td><td>[7.2574,52.0,8.28...</td></tr>\n",
       "<tr><td>5.6431</td><td>52.0</td><td>5.8173515981735155</td><td>1.0730593607305936</td><td>558.0</td><td>2.547945205479452</td><td>37.85</td><td>-122.25</td><td>3.413</td><td>[5.6431,52.0,5.81...</td></tr>\n",
       "<tr><td>3.8462</td><td>52.0</td><td>6.281853281853282</td><td>1.0810810810810811</td><td>565.0</td><td>2.1814671814671813</td><td>37.85</td><td>-122.25</td><td>3.422</td><td>[3.8462,52.0,6.28...</td></tr>\n",
       "</table>\n"
      ],
      "text/plain": [
       "+------+--------+------------------+------------------+----------+------------------+--------+---------+-----+--------------------+\n",
       "|MedInc|HouseAge|          AveRooms|         AveBedrms|Population|          AveOccup|Latitude|Longitude|PRICE|            features|\n",
       "+------+--------+------------------+------------------+----------+------------------+--------+---------+-----+--------------------+\n",
       "|8.3252|    41.0| 6.984126984126984|1.0238095238095237|     322.0|2.5555555555555554|   37.88|  -122.23|4.526|[8.3252,41.0,6.98...|\n",
       "|8.3014|    21.0| 6.238137082601054|0.9718804920913884|    2401.0| 2.109841827768014|   37.86|  -122.22|3.585|[8.3014,21.0,6.23...|\n",
       "|7.2574|    52.0| 8.288135593220339| 1.073446327683616|     496.0|2.8022598870056497|   37.85|  -122.24|3.521|[7.2574,52.0,8.28...|\n",
       "|5.6431|    52.0|5.8173515981735155|1.0730593607305936|     558.0| 2.547945205479452|   37.85|  -122.25|3.413|[5.6431,52.0,5.81...|\n",
       "|3.8462|    52.0| 6.281853281853282|1.0810810810810811|     565.0|2.1814671814671813|   37.85|  -122.25|3.422|[3.8462,52.0,6.28...|\n",
       "+------+--------+------------------+------------------+----------+------------------+--------+---------+-----+--------------------+"
      ]
     },
     "execution_count": 9,
     "metadata": {},
     "output_type": "execute_result"
    }
   ],
   "source": [
    "featureAssembler = VectorAssembler(inputCols=spark_df.columns[:-1], outputCol=\"features\")\n",
    "output = featureAssembler.transform(spark_df)\n",
    "output.limit(5)"
   ]
  },
  {
   "cell_type": "code",
   "execution_count": 10,
   "id": "bd8af592",
   "metadata": {},
   "outputs": [
    {
     "name": "stdout",
     "output_type": "stream",
     "text": [
      "+------+--------+------------------+------------------+----------+------------------+--------+---------+-----+--------------------+--------------------+\n",
      "|MedInc|HouseAge|          AveRooms|         AveBedrms|Population|          AveOccup|Latitude|Longitude|PRICE|            features|        standardized|\n",
      "+------+--------+------------------+------------------+----------+------------------+--------+---------+-----+--------------------+--------------------+\n",
      "|8.3252|    41.0| 6.984126984126984|1.0238095238095237|     322.0|2.5555555555555554|   37.88|  -122.23|4.526|[8.3252,41.0,6.98...|[4.38209539419521...|\n",
      "|8.3014|    21.0| 6.238137082601054|0.9718804920913884|    2401.0| 2.109841827768014|   37.86|  -122.22|3.585|[8.3014,21.0,6.23...|[4.36956790291790...|\n",
      "|7.2574|    52.0| 8.288135593220339| 1.073446327683616|     496.0|2.8022598870056497|   37.85|  -122.24|3.521|[7.2574,52.0,8.28...|[3.82004265529144...|\n",
      "|5.6431|    52.0|5.8173515981735155|1.0730593607305936|     558.0| 2.547945205479452|   37.85|  -122.25|3.413|[5.6431,52.0,5.81...|[2.97033134567133...|\n",
      "|3.8462|    52.0| 6.281853281853282|1.0810810810810811|     565.0|2.1814671814671813|   37.85|  -122.25|3.422|[3.8462,52.0,6.28...|[2.02450575423456...|\n",
      "+------+--------+------------------+------------------+----------+------------------+--------+---------+-----+--------------------+--------------------+\n",
      "only showing top 5 rows\n",
      "\n"
     ]
    }
   ],
   "source": [
    "## feature scaling\n",
    "from pyspark.ml.feature import StandardScaler\n",
    "\n",
    "scaler = StandardScaler(inputCol=\"features\", outputCol=\"standardized\")\n",
    "data_scaled = scaler.fit(output).transform(output)\n",
    "data_scaled.show(5)"
   ]
  },
  {
   "cell_type": "code",
   "execution_count": 11,
   "id": "393bdf9c",
   "metadata": {},
   "outputs": [
    {
     "name": "stdout",
     "output_type": "stream",
     "text": [
      "+--------------------------------------------------------------------------------------------------------------------------------------------------------+-----+\n",
      "|standardized                                                                                                                                            |PRICE|\n",
      "+--------------------------------------------------------------------------------------------------------------------------------------------------------+-----+\n",
      "|[4.382095394195214,3.257702301608302,2.8228125480951687,2.160341990754154,0.2843362208866197,0.246056553095331,17.734477624640416,-61.00726959606983]   |4.526|\n",
      "|[4.369567902917905,1.6685792276530327,2.521301756615352,2.050766464104957,2.120159212263273,0.20314189867185023,17.72511412008675,-61.002278409814735]  |3.585|\n",
      "|[3.8200426552914455,4.1317199922837,3.349860792340827,2.265080684038648,0.4379837439744204,0.269809986002839,17.720432367809916,-61.01226078232493]     |3.521|\n",
      "|[2.9703313456713363,4.1317199922837,2.3512306012371775,2.2642641444986196,0.49273171197122295,0.24532380576628002,17.720432367809916,-61.01725196858003]|3.413|\n",
      "|[2.0245057542345686,4.1317199922837,2.5389707703782283,2.2811907884770455,0.49891293416441035,0.21003820253311367,17.720432367809916,-61.01725196858003]|3.422|\n",
      "+--------------------------------------------------------------------------------------------------------------------------------------------------------+-----+\n",
      "only showing top 5 rows\n",
      "\n"
     ]
    }
   ],
   "source": [
    "## final data\n",
    "ml_data = data_scaled.select(\"standardized\", \"PRICE\")\n",
    "ml_data.show(5, truncate=False)"
   ]
  },
  {
   "cell_type": "code",
   "execution_count": 12,
   "id": "35ae2b92",
   "metadata": {},
   "outputs": [
    {
     "data": {
      "text/plain": [
       "(15592, 5048)"
      ]
     },
     "execution_count": 12,
     "metadata": {},
     "output_type": "execute_result"
    }
   ],
   "source": [
    "# train/test split\n",
    "train_data, test_data = ml_data.randomSplit([0.75, 0.25])\n",
    "train_data.count(), test_data.count()"
   ]
  },
  {
   "cell_type": "code",
   "execution_count": 13,
   "id": "d1f63938",
   "metadata": {},
   "outputs": [],
   "source": [
    "# pyspark.ml 을 이용한 선형회귀\n",
    "regressor = LinearRegression(featuresCol=\"standardized\", labelCol='PRICE')\n",
    "model = regressor.fit(train_data)"
   ]
  },
  {
   "cell_type": "code",
   "execution_count": 14,
   "id": "65e8ac1d",
   "metadata": {},
   "outputs": [
    {
     "data": {
      "text/plain": [
       "-36.57716042470901"
      ]
     },
     "execution_count": 14,
     "metadata": {},
     "output_type": "execute_result"
    }
   ],
   "source": [
    "model.intercept"
   ]
  },
  {
   "cell_type": "code",
   "execution_count": 15,
   "id": "26e8a9f1",
   "metadata": {},
   "outputs": [
    {
     "name": "stdout",
     "output_type": "stream",
     "text": [
      "+--------------------+-----+------------------+\n",
      "|        standardized|PRICE|        prediction|\n",
      "+--------------------+-----+------------------+\n",
      "|[0.42172378199072...|0.818|1.0389370471856125|\n",
      "|[0.42246069324233...|1.125|0.9844144050449941|\n",
      "|[0.42503988262295...|1.375|1.5149826648179925|\n",
      "|[0.47430766344463...|0.861|1.4602404938952702|\n",
      "|[0.50036273984072...|1.875| 1.396282995398714|\n",
      "+--------------------+-----+------------------+\n",
      "only showing top 5 rows\n",
      "\n"
     ]
    }
   ],
   "source": [
    "# Prediction\n",
    "pred = model.transform(test_data)\n",
    "pred.show(5)"
   ]
  },
  {
   "cell_type": "code",
   "execution_count": 16,
   "id": "a83e0bf1",
   "metadata": {},
   "outputs": [
    {
     "data": {
      "text/plain": [
       "(0.5326023721765731, 0.5255341830480305, 0.6053519350315231)"
      ]
     },
     "execution_count": 16,
     "metadata": {},
     "output_type": "execute_result"
    }
   ],
   "source": [
    "model.summary.meanAbsoluteError, model.summary.meanSquaredError, model.summary.r2"
   ]
  },
  {
   "cell_type": "code",
   "execution_count": 17,
   "id": "ccf73c37",
   "metadata": {},
   "outputs": [],
   "source": [
    "## spark DataFrame을 numpy array로 변경\n",
    "y_test = np.array(test_data.select('PRICE').collect())\n",
    "y_pred = np.array(pred.select('prediction').collect())"
   ]
  },
  {
   "cell_type": "code",
   "execution_count": 19,
   "id": "c0a3c41a",
   "metadata": {},
   "outputs": [
    {
     "name": "stdout",
     "output_type": "stream",
     "text": [
      "결정계수: 0.60\n"
     ]
    }
   ],
   "source": [
    "from sklearn.metrics import r2_score\n",
    "# R2 계산 \n",
    "print(\"결정계수: {:.2f}\".format(r2_score(y_test, y_pred)))"
   ]
  },
  {
   "cell_type": "markdown",
   "id": "9553436d",
   "metadata": {},
   "source": [
    "## 2. Linear Regression - Tip 금액 예측\n",
    "- computing -> cluster -> library 에서 `seaborn` install"
   ]
  },
  {
   "cell_type": "code",
   "execution_count": 22,
   "id": "ea4d4d27",
   "metadata": {},
   "outputs": [
    {
     "data": {
      "text/html": [
       "<div>\n",
       "<style scoped>\n",
       "    .dataframe tbody tr th:only-of-type {\n",
       "        vertical-align: middle;\n",
       "    }\n",
       "\n",
       "    .dataframe tbody tr th {\n",
       "        vertical-align: top;\n",
       "    }\n",
       "\n",
       "    .dataframe thead th {\n",
       "        text-align: right;\n",
       "    }\n",
       "</style>\n",
       "<table border=\"1\" class=\"dataframe\">\n",
       "  <thead>\n",
       "    <tr style=\"text-align: right;\">\n",
       "      <th></th>\n",
       "      <th>total_bill</th>\n",
       "      <th>tip</th>\n",
       "      <th>sex</th>\n",
       "      <th>smoker</th>\n",
       "      <th>day</th>\n",
       "      <th>time</th>\n",
       "      <th>size</th>\n",
       "    </tr>\n",
       "  </thead>\n",
       "  <tbody>\n",
       "    <tr>\n",
       "      <th>0</th>\n",
       "      <td>16.99</td>\n",
       "      <td>1.01</td>\n",
       "      <td>Female</td>\n",
       "      <td>No</td>\n",
       "      <td>Sun</td>\n",
       "      <td>Dinner</td>\n",
       "      <td>2</td>\n",
       "    </tr>\n",
       "    <tr>\n",
       "      <th>1</th>\n",
       "      <td>10.34</td>\n",
       "      <td>1.66</td>\n",
       "      <td>Male</td>\n",
       "      <td>No</td>\n",
       "      <td>Sun</td>\n",
       "      <td>Dinner</td>\n",
       "      <td>3</td>\n",
       "    </tr>\n",
       "    <tr>\n",
       "      <th>2</th>\n",
       "      <td>21.01</td>\n",
       "      <td>3.50</td>\n",
       "      <td>Male</td>\n",
       "      <td>No</td>\n",
       "      <td>Sun</td>\n",
       "      <td>Dinner</td>\n",
       "      <td>3</td>\n",
       "    </tr>\n",
       "    <tr>\n",
       "      <th>3</th>\n",
       "      <td>23.68</td>\n",
       "      <td>3.31</td>\n",
       "      <td>Male</td>\n",
       "      <td>No</td>\n",
       "      <td>Sun</td>\n",
       "      <td>Dinner</td>\n",
       "      <td>2</td>\n",
       "    </tr>\n",
       "    <tr>\n",
       "      <th>4</th>\n",
       "      <td>24.59</td>\n",
       "      <td>3.61</td>\n",
       "      <td>Female</td>\n",
       "      <td>No</td>\n",
       "      <td>Sun</td>\n",
       "      <td>Dinner</td>\n",
       "      <td>4</td>\n",
       "    </tr>\n",
       "  </tbody>\n",
       "</table>\n",
       "</div>"
      ],
      "text/plain": [
       "   total_bill   tip     sex smoker  day    time  size\n",
       "0       16.99  1.01  Female     No  Sun  Dinner     2\n",
       "1       10.34  1.66    Male     No  Sun  Dinner     3\n",
       "2       21.01  3.50    Male     No  Sun  Dinner     3\n",
       "3       23.68  3.31    Male     No  Sun  Dinner     2\n",
       "4       24.59  3.61  Female     No  Sun  Dinner     4"
      ]
     },
     "execution_count": 22,
     "metadata": {},
     "output_type": "execute_result"
    }
   ],
   "source": [
    "import seaborn as sns\n",
    "tips = sns.load_dataset(\"tips\")\n",
    "tips.head()"
   ]
  },
  {
   "cell_type": "code",
   "execution_count": 23,
   "id": "5772de52",
   "metadata": {},
   "outputs": [
    {
     "name": "stdout",
     "output_type": "stream",
     "text": [
      "+----------+----+------+------+---+------+----+\n",
      "|total_bill| tip|   sex|smoker|day|  time|size|\n",
      "+----------+----+------+------+---+------+----+\n",
      "|     16.99|1.01|Female|    No|Sun|Dinner|   2|\n",
      "|     10.34|1.66|  Male|    No|Sun|Dinner|   3|\n",
      "|     21.01| 3.5|  Male|    No|Sun|Dinner|   3|\n",
      "|     23.68|3.31|  Male|    No|Sun|Dinner|   2|\n",
      "|     24.59|3.61|Female|    No|Sun|Dinner|   4|\n",
      "+----------+----+------+------+---+------+----+\n",
      "only showing top 5 rows\n",
      "\n"
     ]
    }
   ],
   "source": [
    "## spark dataframe으로 변환\n",
    "df = spark.createDataFrame(tips)\n",
    "df.show(5)"
   ]
  },
  {
   "cell_type": "code",
   "execution_count": 24,
   "id": "23d908f1",
   "metadata": {},
   "outputs": [
    {
     "name": "stdout",
     "output_type": "stream",
     "text": [
      "+------+-----+\n",
      "|  time|count|\n",
      "+------+-----+\n",
      "|Dinner|  176|\n",
      "| Lunch|   68|\n",
      "+------+-----+\n",
      "\n",
      "+------+-----+\n",
      "|smoker|count|\n",
      "+------+-----+\n",
      "|    No|  151|\n",
      "|   Yes|   93|\n",
      "+------+-----+\n",
      "\n",
      "+----+-----+\n",
      "| day|count|\n",
      "+----+-----+\n",
      "| Sun|   76|\n",
      "| Sat|   87|\n",
      "|Thur|   62|\n",
      "| Fri|   19|\n",
      "+----+-----+\n",
      "\n",
      "+------+-----+\n",
      "|  time|count|\n",
      "+------+-----+\n",
      "|Dinner|  176|\n",
      "| Lunch|   68|\n",
      "+------+-----+\n",
      "\n"
     ]
    }
   ],
   "source": [
    "df.groupBy('time').count().show()\n",
    "df.groupBy('smoker').count().show()\n",
    "df.groupBy('day').count().show()\n",
    "df.groupBy('time').count().show()"
   ]
  },
  {
   "cell_type": "markdown",
   "id": "cc9b21e5",
   "metadata": {},
   "source": [
    "### Categorical Feature를 One-Hot 벡터로 변환"
   ]
  },
  {
   "cell_type": "code",
   "execution_count": 25,
   "id": "182d1389",
   "metadata": {
    "scrolled": true
   },
   "outputs": [
    {
     "name": "stdout",
     "output_type": "stream",
     "text": [
      "+----------+----+------+------+----+------+----+----+-------+----+-----+\n",
      "|total_bill| tip|   sex|smoker| day|  time|size|sex_|smoker_|day_|time_|\n",
      "+----------+----+------+------+----+------+----+----+-------+----+-----+\n",
      "|     16.99|1.01|Female|    No| Sun|Dinner|   2| 1.0|    0.0| 1.0|  0.0|\n",
      "|     10.34|1.66|  Male|    No| Sun|Dinner|   3| 0.0|    0.0| 1.0|  0.0|\n",
      "|     21.01| 3.5|  Male|    No| Sun|Dinner|   3| 0.0|    0.0| 1.0|  0.0|\n",
      "|     23.68|3.31|  Male|    No| Sun|Dinner|   2| 0.0|    0.0| 1.0|  0.0|\n",
      "|     24.59|3.61|Female|    No| Sun|Dinner|   4| 1.0|    0.0| 1.0|  0.0|\n",
      "|     25.29|4.71|  Male|    No| Sun|Dinner|   4| 0.0|    0.0| 1.0|  0.0|\n",
      "|      8.77| 2.0|  Male|    No| Sun|Dinner|   2| 0.0|    0.0| 1.0|  0.0|\n",
      "|     26.88|3.12|  Male|    No| Sun|Dinner|   4| 0.0|    0.0| 1.0|  0.0|\n",
      "|     15.04|1.96|  Male|    No| Sun|Dinner|   2| 0.0|    0.0| 1.0|  0.0|\n",
      "|     14.78|3.23|  Male|    No| Sun|Dinner|   2| 0.0|    0.0| 1.0|  0.0|\n",
      "|     10.27|1.71|  Male|    No| Sun|Dinner|   2| 0.0|    0.0| 1.0|  0.0|\n",
      "|     35.26| 5.0|Female|    No| Sun|Dinner|   4| 1.0|    0.0| 1.0|  0.0|\n",
      "|     15.42|1.57|  Male|    No| Sun|Dinner|   2| 0.0|    0.0| 1.0|  0.0|\n",
      "|     18.43| 3.0|  Male|    No| Sun|Dinner|   4| 0.0|    0.0| 1.0|  0.0|\n",
      "|     14.83|3.02|Female|    No| Sun|Dinner|   2| 1.0|    0.0| 1.0|  0.0|\n",
      "|     21.58|3.92|  Male|    No| Sun|Dinner|   2| 0.0|    0.0| 1.0|  0.0|\n",
      "|     10.33|1.67|Female|    No| Sun|Dinner|   3| 1.0|    0.0| 1.0|  0.0|\n",
      "|     16.29|3.71|  Male|    No| Sun|Dinner|   3| 0.0|    0.0| 1.0|  0.0|\n",
      "|     16.97| 3.5|Female|    No| Sun|Dinner|   3| 1.0|    0.0| 1.0|  0.0|\n",
      "|     20.65|3.35|  Male|    No| Sat|Dinner|   3| 0.0|    0.0| 0.0|  0.0|\n",
      "|     17.92|4.08|  Male|    No| Sat|Dinner|   2| 0.0|    0.0| 0.0|  0.0|\n",
      "|     20.29|2.75|Female|    No| Sat|Dinner|   2| 1.0|    0.0| 0.0|  0.0|\n",
      "|     15.77|2.23|Female|    No| Sat|Dinner|   2| 1.0|    0.0| 0.0|  0.0|\n",
      "|     39.42|7.58|  Male|    No| Sat|Dinner|   4| 0.0|    0.0| 0.0|  0.0|\n",
      "|     19.82|3.18|  Male|    No| Sat|Dinner|   2| 0.0|    0.0| 0.0|  0.0|\n",
      "|     17.81|2.34|  Male|    No| Sat|Dinner|   4| 0.0|    0.0| 0.0|  0.0|\n",
      "|     13.37| 2.0|  Male|    No| Sat|Dinner|   2| 0.0|    0.0| 0.0|  0.0|\n",
      "|     12.69| 2.0|  Male|    No| Sat|Dinner|   2| 0.0|    0.0| 0.0|  0.0|\n",
      "|      21.7| 4.3|  Male|    No| Sat|Dinner|   2| 0.0|    0.0| 0.0|  0.0|\n",
      "|     19.65| 3.0|Female|    No| Sat|Dinner|   2| 1.0|    0.0| 0.0|  0.0|\n",
      "|      9.55|1.45|  Male|    No| Sat|Dinner|   2| 0.0|    0.0| 0.0|  0.0|\n",
      "|     18.35| 2.5|  Male|    No| Sat|Dinner|   4| 0.0|    0.0| 0.0|  0.0|\n",
      "|     15.06| 3.0|Female|    No| Sat|Dinner|   2| 1.0|    0.0| 0.0|  0.0|\n",
      "|     20.69|2.45|Female|    No| Sat|Dinner|   4| 1.0|    0.0| 0.0|  0.0|\n",
      "|     17.78|3.27|  Male|    No| Sat|Dinner|   2| 0.0|    0.0| 0.0|  0.0|\n",
      "|     24.06| 3.6|  Male|    No| Sat|Dinner|   3| 0.0|    0.0| 0.0|  0.0|\n",
      "|     16.31| 2.0|  Male|    No| Sat|Dinner|   3| 0.0|    0.0| 0.0|  0.0|\n",
      "|     16.93|3.07|Female|    No| Sat|Dinner|   3| 1.0|    0.0| 0.0|  0.0|\n",
      "|     18.69|2.31|  Male|    No| Sat|Dinner|   3| 0.0|    0.0| 0.0|  0.0|\n",
      "|     31.27| 5.0|  Male|    No| Sat|Dinner|   3| 0.0|    0.0| 0.0|  0.0|\n",
      "|     16.04|2.24|  Male|    No| Sat|Dinner|   3| 0.0|    0.0| 0.0|  0.0|\n",
      "|     17.46|2.54|  Male|    No| Sun|Dinner|   2| 0.0|    0.0| 1.0|  0.0|\n",
      "|     13.94|3.06|  Male|    No| Sun|Dinner|   2| 0.0|    0.0| 1.0|  0.0|\n",
      "|      9.68|1.32|  Male|    No| Sun|Dinner|   2| 0.0|    0.0| 1.0|  0.0|\n",
      "|      30.4| 5.6|  Male|    No| Sun|Dinner|   4| 0.0|    0.0| 1.0|  0.0|\n",
      "|     18.29| 3.0|  Male|    No| Sun|Dinner|   2| 0.0|    0.0| 1.0|  0.0|\n",
      "|     22.23| 5.0|  Male|    No| Sun|Dinner|   2| 0.0|    0.0| 1.0|  0.0|\n",
      "|      32.4| 6.0|  Male|    No| Sun|Dinner|   4| 0.0|    0.0| 1.0|  0.0|\n",
      "|     28.55|2.05|  Male|    No| Sun|Dinner|   3| 0.0|    0.0| 1.0|  0.0|\n",
      "|     18.04| 3.0|  Male|    No| Sun|Dinner|   2| 0.0|    0.0| 1.0|  0.0|\n",
      "|     12.54| 2.5|  Male|    No| Sun|Dinner|   2| 0.0|    0.0| 1.0|  0.0|\n",
      "|     10.29| 2.6|Female|    No| Sun|Dinner|   2| 1.0|    0.0| 1.0|  0.0|\n",
      "|     34.81| 5.2|Female|    No| Sun|Dinner|   4| 1.0|    0.0| 1.0|  0.0|\n",
      "|      9.94|1.56|  Male|    No| Sun|Dinner|   2| 0.0|    0.0| 1.0|  0.0|\n",
      "|     25.56|4.34|  Male|    No| Sun|Dinner|   4| 0.0|    0.0| 1.0|  0.0|\n",
      "|     19.49|3.51|  Male|    No| Sun|Dinner|   2| 0.0|    0.0| 1.0|  0.0|\n",
      "|     38.01| 3.0|  Male|   Yes| Sat|Dinner|   4| 0.0|    1.0| 0.0|  0.0|\n",
      "|     26.41| 1.5|Female|    No| Sat|Dinner|   2| 1.0|    0.0| 0.0|  0.0|\n",
      "|     11.24|1.76|  Male|   Yes| Sat|Dinner|   2| 0.0|    1.0| 0.0|  0.0|\n",
      "|     48.27|6.73|  Male|    No| Sat|Dinner|   4| 0.0|    0.0| 0.0|  0.0|\n",
      "|     20.29|3.21|  Male|   Yes| Sat|Dinner|   2| 0.0|    1.0| 0.0|  0.0|\n",
      "|     13.81| 2.0|  Male|   Yes| Sat|Dinner|   2| 0.0|    1.0| 0.0|  0.0|\n",
      "|     11.02|1.98|  Male|   Yes| Sat|Dinner|   2| 0.0|    1.0| 0.0|  0.0|\n",
      "|     18.29|3.76|  Male|   Yes| Sat|Dinner|   4| 0.0|    1.0| 0.0|  0.0|\n",
      "|     17.59|2.64|  Male|    No| Sat|Dinner|   3| 0.0|    0.0| 0.0|  0.0|\n",
      "|     20.08|3.15|  Male|    No| Sat|Dinner|   3| 0.0|    0.0| 0.0|  0.0|\n",
      "|     16.45|2.47|Female|    No| Sat|Dinner|   2| 1.0|    0.0| 0.0|  0.0|\n",
      "|      3.07| 1.0|Female|   Yes| Sat|Dinner|   1| 1.0|    1.0| 0.0|  0.0|\n",
      "|     20.23|2.01|  Male|    No| Sat|Dinner|   2| 0.0|    0.0| 0.0|  0.0|\n",
      "|     15.01|2.09|  Male|   Yes| Sat|Dinner|   2| 0.0|    1.0| 0.0|  0.0|\n",
      "|     12.02|1.97|  Male|    No| Sat|Dinner|   2| 0.0|    0.0| 0.0|  0.0|\n",
      "|     17.07| 3.0|Female|    No| Sat|Dinner|   3| 1.0|    0.0| 0.0|  0.0|\n",
      "|     26.86|3.14|Female|   Yes| Sat|Dinner|   2| 1.0|    1.0| 0.0|  0.0|\n",
      "|     25.28| 5.0|Female|   Yes| Sat|Dinner|   2| 1.0|    1.0| 0.0|  0.0|\n",
      "|     14.73| 2.2|Female|    No| Sat|Dinner|   2| 1.0|    0.0| 0.0|  0.0|\n",
      "|     10.51|1.25|  Male|    No| Sat|Dinner|   2| 0.0|    0.0| 0.0|  0.0|\n",
      "|     17.92|3.08|  Male|   Yes| Sat|Dinner|   2| 0.0|    1.0| 0.0|  0.0|\n",
      "|      27.2| 4.0|  Male|    No|Thur| Lunch|   4| 0.0|    0.0| 2.0|  1.0|\n",
      "|     22.76| 3.0|  Male|    No|Thur| Lunch|   2| 0.0|    0.0| 2.0|  1.0|\n",
      "|     17.29|2.71|  Male|    No|Thur| Lunch|   2| 0.0|    0.0| 2.0|  1.0|\n",
      "|     19.44| 3.0|  Male|   Yes|Thur| Lunch|   2| 0.0|    1.0| 2.0|  1.0|\n",
      "|     16.66| 3.4|  Male|    No|Thur| Lunch|   2| 0.0|    0.0| 2.0|  1.0|\n",
      "|     10.07|1.83|Female|    No|Thur| Lunch|   1| 1.0|    0.0| 2.0|  1.0|\n",
      "|     32.68| 5.0|  Male|   Yes|Thur| Lunch|   2| 0.0|    1.0| 2.0|  1.0|\n",
      "|     15.98|2.03|  Male|    No|Thur| Lunch|   2| 0.0|    0.0| 2.0|  1.0|\n",
      "|     34.83|5.17|Female|    No|Thur| Lunch|   4| 1.0|    0.0| 2.0|  1.0|\n",
      "|     13.03| 2.0|  Male|    No|Thur| Lunch|   2| 0.0|    0.0| 2.0|  1.0|\n",
      "|     18.28| 4.0|  Male|    No|Thur| Lunch|   2| 0.0|    0.0| 2.0|  1.0|\n",
      "|     24.71|5.85|  Male|    No|Thur| Lunch|   2| 0.0|    0.0| 2.0|  1.0|\n",
      "|     21.16| 3.0|  Male|    No|Thur| Lunch|   2| 0.0|    0.0| 2.0|  1.0|\n",
      "|     28.97| 3.0|  Male|   Yes| Fri|Dinner|   2| 0.0|    1.0| 3.0|  0.0|\n",
      "|     22.49| 3.5|  Male|    No| Fri|Dinner|   2| 0.0|    0.0| 3.0|  0.0|\n",
      "|      5.75| 1.0|Female|   Yes| Fri|Dinner|   2| 1.0|    1.0| 3.0|  0.0|\n",
      "|     16.32| 4.3|Female|   Yes| Fri|Dinner|   2| 1.0|    1.0| 3.0|  0.0|\n",
      "|     22.75|3.25|Female|    No| Fri|Dinner|   2| 1.0|    0.0| 3.0|  0.0|\n",
      "|     40.17|4.73|  Male|   Yes| Fri|Dinner|   4| 0.0|    1.0| 3.0|  0.0|\n",
      "|     27.28| 4.0|  Male|   Yes| Fri|Dinner|   2| 0.0|    1.0| 3.0|  0.0|\n",
      "|     12.03| 1.5|  Male|   Yes| Fri|Dinner|   2| 0.0|    1.0| 3.0|  0.0|\n",
      "|     21.01| 3.0|  Male|   Yes| Fri|Dinner|   2| 0.0|    1.0| 3.0|  0.0|\n",
      "|     12.46| 1.5|  Male|    No| Fri|Dinner|   2| 0.0|    0.0| 3.0|  0.0|\n",
      "+----------+----+------+------+----+------+----+----+-------+----+-----+\n",
      "only showing top 100 rows\n",
      "\n"
     ]
    }
   ],
   "source": [
    "## 여러개의 feature를 한번에 index 변환\n",
    "indexer = StringIndexer(inputCols=['sex', 'smoker', 'day', 'time'], outputCols=['sex_', 'smoker_', 'day_', 'time_']).fit(df)\n",
    "df_r = indexer.transform(df)\n",
    "df_r.show(n=100)"
   ]
  },
  {
   "cell_type": "code",
   "execution_count": 26,
   "id": "2cae001e",
   "metadata": {},
   "outputs": [
    {
     "name": "stdout",
     "output_type": "stream",
     "text": [
      "+----+\n",
      "|sex_|\n",
      "+----+\n",
      "| 0.0|\n",
      "| 1.0|\n",
      "+----+\n",
      "\n",
      "+-------+\n",
      "|smoker_|\n",
      "+-------+\n",
      "|    0.0|\n",
      "|    1.0|\n",
      "+-------+\n",
      "\n",
      "+----+\n",
      "|day_|\n",
      "+----+\n",
      "| 1.0|\n",
      "| 0.0|\n",
      "| 2.0|\n",
      "| 3.0|\n",
      "+----+\n",
      "\n",
      "+-----+\n",
      "|time_|\n",
      "+-----+\n",
      "|  0.0|\n",
      "|  1.0|\n",
      "+-----+\n",
      "\n"
     ]
    }
   ],
   "source": [
    "df_r.select(['sex_']).distinct().show()\n",
    "df_r.select(['smoker_']).distinct().show()\n",
    "df_r.select(['day_']).distinct().show()\n",
    "df_r.select(['time_']).distinct().show()"
   ]
  },
  {
   "cell_type": "code",
   "execution_count": 27,
   "id": "87381e53",
   "metadata": {},
   "outputs": [
    {
     "name": "stdout",
     "output_type": "stream",
     "text": [
      "['total_bill', 'tip', 'sex', 'smoker', 'day', 'time', 'size', 'sex_', 'smoker_', 'day_', 'time_']\n"
     ]
    }
   ],
   "source": [
    "print(df_r.columns)"
   ]
  },
  {
   "cell_type": "code",
   "execution_count": 28,
   "id": "a6902688",
   "metadata": {},
   "outputs": [
    {
     "name": "stdout",
     "output_type": "stream",
     "text": [
      "+----------+----+------+------+---+------+----+----+-------+----+-----+-------------+-------------+-------------+-------------+\n",
      "|total_bill| tip|   sex|smoker|day|  time|size|sex_|smoker_|day_|time_|      sex_ohe|   smoker_ohe|      day_ohe|     time_ohe|\n",
      "+----------+----+------+------+---+------+----+----+-------+----+-----+-------------+-------------+-------------+-------------+\n",
      "|     16.99|1.01|Female|    No|Sun|Dinner|   2| 1.0|    0.0| 1.0|  0.0|    (1,[],[])|(1,[0],[1.0])|(3,[1],[1.0])|(1,[0],[1.0])|\n",
      "|     10.34|1.66|  Male|    No|Sun|Dinner|   3| 0.0|    0.0| 1.0|  0.0|(1,[0],[1.0])|(1,[0],[1.0])|(3,[1],[1.0])|(1,[0],[1.0])|\n",
      "|     21.01| 3.5|  Male|    No|Sun|Dinner|   3| 0.0|    0.0| 1.0|  0.0|(1,[0],[1.0])|(1,[0],[1.0])|(3,[1],[1.0])|(1,[0],[1.0])|\n",
      "|     23.68|3.31|  Male|    No|Sun|Dinner|   2| 0.0|    0.0| 1.0|  0.0|(1,[0],[1.0])|(1,[0],[1.0])|(3,[1],[1.0])|(1,[0],[1.0])|\n",
      "|     24.59|3.61|Female|    No|Sun|Dinner|   4| 1.0|    0.0| 1.0|  0.0|    (1,[],[])|(1,[0],[1.0])|(3,[1],[1.0])|(1,[0],[1.0])|\n",
      "+----------+----+------+------+---+------+----+----+-------+----+-----+-------------+-------------+-------------+-------------+\n",
      "only showing top 5 rows\n",
      "\n"
     ]
    }
   ],
   "source": [
    "from pyspark.ml.feature import OneHotEncoder\n",
    "\n",
    "## OneHot encoding\n",
    "ohe_encoder = OneHotEncoder(inputCols=['sex_', 'smoker_', 'day_', 'time_'], outputCols=['sex_ohe', 'smoker_ohe', 'day_ohe', 'time_ohe']).fit(df_r)\n",
    "df_ohe = ohe_encoder.transform(df_r)\n",
    "df_ohe.show(5)"
   ]
  },
  {
   "cell_type": "code",
   "execution_count": 29,
   "id": "1fbf3158",
   "metadata": {},
   "outputs": [
    {
     "name": "stdout",
     "output_type": "stream",
     "text": [
      "+----------+----+------+------+---+------+----+----+-------+----+-----+-------------+-------------+-------------+-------------+--------------------+\n",
      "|total_bill| tip|   sex|smoker|day|  time|size|sex_|smoker_|day_|time_|      sex_ohe|   smoker_ohe|      day_ohe|     time_ohe|            features|\n",
      "+----------+----+------+------+---+------+----+----+-------+----+-----+-------------+-------------+-------------+-------------+--------------------+\n",
      "|     16.99|1.01|Female|    No|Sun|Dinner|   2| 1.0|    0.0| 1.0|  0.0|    (1,[],[])|(1,[0],[1.0])|(3,[1],[1.0])|(1,[0],[1.0])|[16.99,2.0,0.0,1....|\n",
      "|     10.34|1.66|  Male|    No|Sun|Dinner|   3| 0.0|    0.0| 1.0|  0.0|(1,[0],[1.0])|(1,[0],[1.0])|(3,[1],[1.0])|(1,[0],[1.0])|[10.34,3.0,1.0,1....|\n",
      "|     21.01| 3.5|  Male|    No|Sun|Dinner|   3| 0.0|    0.0| 1.0|  0.0|(1,[0],[1.0])|(1,[0],[1.0])|(3,[1],[1.0])|(1,[0],[1.0])|[21.01,3.0,1.0,1....|\n",
      "|     23.68|3.31|  Male|    No|Sun|Dinner|   2| 0.0|    0.0| 1.0|  0.0|(1,[0],[1.0])|(1,[0],[1.0])|(3,[1],[1.0])|(1,[0],[1.0])|[23.68,2.0,1.0,1....|\n",
      "|     24.59|3.61|Female|    No|Sun|Dinner|   4| 1.0|    0.0| 1.0|  0.0|    (1,[],[])|(1,[0],[1.0])|(3,[1],[1.0])|(1,[0],[1.0])|[24.59,4.0,0.0,1....|\n",
      "|     25.29|4.71|  Male|    No|Sun|Dinner|   4| 0.0|    0.0| 1.0|  0.0|(1,[0],[1.0])|(1,[0],[1.0])|(3,[1],[1.0])|(1,[0],[1.0])|[25.29,4.0,1.0,1....|\n",
      "|      8.77| 2.0|  Male|    No|Sun|Dinner|   2| 0.0|    0.0| 1.0|  0.0|(1,[0],[1.0])|(1,[0],[1.0])|(3,[1],[1.0])|(1,[0],[1.0])|[8.77,2.0,1.0,1.0...|\n",
      "|     26.88|3.12|  Male|    No|Sun|Dinner|   4| 0.0|    0.0| 1.0|  0.0|(1,[0],[1.0])|(1,[0],[1.0])|(3,[1],[1.0])|(1,[0],[1.0])|[26.88,4.0,1.0,1....|\n",
      "|     15.04|1.96|  Male|    No|Sun|Dinner|   2| 0.0|    0.0| 1.0|  0.0|(1,[0],[1.0])|(1,[0],[1.0])|(3,[1],[1.0])|(1,[0],[1.0])|[15.04,2.0,1.0,1....|\n",
      "|     14.78|3.23|  Male|    No|Sun|Dinner|   2| 0.0|    0.0| 1.0|  0.0|(1,[0],[1.0])|(1,[0],[1.0])|(3,[1],[1.0])|(1,[0],[1.0])|[14.78,2.0,1.0,1....|\n",
      "|     10.27|1.71|  Male|    No|Sun|Dinner|   2| 0.0|    0.0| 1.0|  0.0|(1,[0],[1.0])|(1,[0],[1.0])|(3,[1],[1.0])|(1,[0],[1.0])|[10.27,2.0,1.0,1....|\n",
      "|     35.26| 5.0|Female|    No|Sun|Dinner|   4| 1.0|    0.0| 1.0|  0.0|    (1,[],[])|(1,[0],[1.0])|(3,[1],[1.0])|(1,[0],[1.0])|[35.26,4.0,0.0,1....|\n",
      "|     15.42|1.57|  Male|    No|Sun|Dinner|   2| 0.0|    0.0| 1.0|  0.0|(1,[0],[1.0])|(1,[0],[1.0])|(3,[1],[1.0])|(1,[0],[1.0])|[15.42,2.0,1.0,1....|\n",
      "|     18.43| 3.0|  Male|    No|Sun|Dinner|   4| 0.0|    0.0| 1.0|  0.0|(1,[0],[1.0])|(1,[0],[1.0])|(3,[1],[1.0])|(1,[0],[1.0])|[18.43,4.0,1.0,1....|\n",
      "|     14.83|3.02|Female|    No|Sun|Dinner|   2| 1.0|    0.0| 1.0|  0.0|    (1,[],[])|(1,[0],[1.0])|(3,[1],[1.0])|(1,[0],[1.0])|[14.83,2.0,0.0,1....|\n",
      "|     21.58|3.92|  Male|    No|Sun|Dinner|   2| 0.0|    0.0| 1.0|  0.0|(1,[0],[1.0])|(1,[0],[1.0])|(3,[1],[1.0])|(1,[0],[1.0])|[21.58,2.0,1.0,1....|\n",
      "|     10.33|1.67|Female|    No|Sun|Dinner|   3| 1.0|    0.0| 1.0|  0.0|    (1,[],[])|(1,[0],[1.0])|(3,[1],[1.0])|(1,[0],[1.0])|[10.33,3.0,0.0,1....|\n",
      "|     16.29|3.71|  Male|    No|Sun|Dinner|   3| 0.0|    0.0| 1.0|  0.0|(1,[0],[1.0])|(1,[0],[1.0])|(3,[1],[1.0])|(1,[0],[1.0])|[16.29,3.0,1.0,1....|\n",
      "|     16.97| 3.5|Female|    No|Sun|Dinner|   3| 1.0|    0.0| 1.0|  0.0|    (1,[],[])|(1,[0],[1.0])|(3,[1],[1.0])|(1,[0],[1.0])|[16.97,3.0,0.0,1....|\n",
      "|     20.65|3.35|  Male|    No|Sat|Dinner|   3| 0.0|    0.0| 0.0|  0.0|(1,[0],[1.0])|(1,[0],[1.0])|(3,[0],[1.0])|(1,[0],[1.0])|[20.65,3.0,1.0,1....|\n",
      "+----------+----+------+------+---+------+----+----+-------+----+-----+-------------+-------------+-------------+-------------+--------------------+\n",
      "only showing top 20 rows\n",
      "\n"
     ]
    }
   ],
   "source": [
    "## feature vector화\n",
    "feature_Assembler = VectorAssembler(inputCols=['total_bill', 'size', 'sex_ohe', 'smoker_ohe', 'day_ohe', 'time_ohe'], outputCol='features')\n",
    "output = feature_Assembler.transform(df_ohe)\n",
    "output.show()"
   ]
  },
  {
   "cell_type": "code",
   "execution_count": 30,
   "id": "2b368898",
   "metadata": {},
   "outputs": [
    {
     "name": "stdout",
     "output_type": "stream",
     "text": [
      "+----------+----+------+------+---+------+----+----+-------+----+-----+-------------+-------------+-------------+-------------+--------------------+--------------------+\n",
      "|total_bill| tip|   sex|smoker|day|  time|size|sex_|smoker_|day_|time_|      sex_ohe|   smoker_ohe|      day_ohe|     time_ohe|            features|        standardized|\n",
      "+----------+----+------+------+---+------+----+----+-------+----+-----+-------------+-------------+-------------+-------------+--------------------+--------------------+\n",
      "|     16.99|1.01|Female|    No|Sun|Dinner|   2| 1.0|    0.0| 1.0|  0.0|    (1,[],[])|(1,[0],[1.0])|(3,[1],[1.0])|(1,[0],[1.0])|[16.99,2.0,0.0,1....|[1.90847155648990...|\n",
      "|     10.34|1.66|  Male|    No|Sun|Dinner|   3| 0.0|    0.0| 1.0|  0.0|(1,[0],[1.0])|(1,[0],[1.0])|(3,[1],[1.0])|(1,[0],[1.0])|[10.34,3.0,1.0,1....|[1.16148298376136...|\n",
      "|     21.01| 3.5|  Male|    No|Sun|Dinner|   3| 0.0|    0.0| 1.0|  0.0|(1,[0],[1.0])|(1,[0],[1.0])|(3,[1],[1.0])|(1,[0],[1.0])|[21.01,3.0,1.0,1....|[2.36003457338745...|\n",
      "|     23.68|3.31|  Male|    No|Sun|Dinner|   2| 0.0|    0.0| 1.0|  0.0|(1,[0],[1.0])|(1,[0],[1.0])|(3,[1],[1.0])|(1,[0],[1.0])|[23.68,2.0,1.0,1....|[2.65995329356568...|\n",
      "|     24.59|3.61|Female|    No|Sun|Dinner|   4| 1.0|    0.0| 1.0|  0.0|    (1,[],[])|(1,[0],[1.0])|(3,[1],[1.0])|(1,[0],[1.0])|[24.59,4.0,0.0,1....|[2.76217278246537...|\n",
      "+----------+----+------+------+---+------+----+----+-------+----+-----+-------------+-------------+-------------+-------------+--------------------+--------------------+\n",
      "only showing top 5 rows\n",
      "\n"
     ]
    }
   ],
   "source": [
    "## feature scaling\n",
    "scaler = StandardScaler(inputCol=\"features\", outputCol=\"standardized\")\n",
    "data_scaled = scaler.fit(output).transform(output)\n",
    "data_scaled.show(5)"
   ]
  },
  {
   "cell_type": "code",
   "execution_count": 31,
   "id": "2326c425",
   "metadata": {},
   "outputs": [
    {
     "name": "stdout",
     "output_type": "stream",
     "text": [
      "+------------------------------------------------------------------------------------------------------------------------+----+\n",
      "|standardized                                                                                                            |tip |\n",
      "+------------------------------------------------------------------------------------------------------------------------+----+\n",
      "|[1.9084715564899046,2.102828735795046,0.0,2.0547931158599058,0.0,2.1549470973741336,0.0,2.225805748475487]              |1.01|\n",
      "|[1.1614829837613665,3.154243103692569,2.083476457489454,2.0547931158599058,0.0,2.1549470973741336,0.0,2.225805748475487]|1.66|\n",
      "|[2.3600345733874573,3.154243103692569,2.083476457489454,2.0547931158599058,0.0,2.1549470973741336,0.0,2.225805748475487]|3.5 |\n",
      "|[2.659953293565682,2.102828735795046,2.083476457489454,2.0547931158599058,0.0,2.1549470973741336,0.0,2.225805748475487] |3.31|\n",
      "|[2.762172782465377,4.205657471590092,0.0,2.0547931158599058,0.0,2.1549470973741336,0.0,2.225805748475487]               |3.61|\n",
      "+------------------------------------------------------------------------------------------------------------------------+----+\n",
      "only showing top 5 rows\n",
      "\n"
     ]
    }
   ],
   "source": [
    "data = data_scaled.select(\"standardized\", \"tip\")\n",
    "data.show(5, truncate=False)"
   ]
  },
  {
   "cell_type": "code",
   "execution_count": 32,
   "id": "96ab96bc",
   "metadata": {},
   "outputs": [
    {
     "data": {
      "text/plain": [
       "(181, 63)"
      ]
     },
     "execution_count": 32,
     "metadata": {},
     "output_type": "execute_result"
    }
   ],
   "source": [
    "# train/test split\n",
    "train_data, test_data = data.randomSplit([0.75, 0.25])\n",
    "train_data.count(), test_data.count()"
   ]
  },
  {
   "cell_type": "code",
   "execution_count": 33,
   "id": "e591d184",
   "metadata": {},
   "outputs": [],
   "source": [
    "## Linear Regression\n",
    "regressor = LinearRegression(featuresCol=\"standardized\", labelCol='tip')\n",
    "model = regressor.fit(train_data)"
   ]
  },
  {
   "cell_type": "code",
   "execution_count": 34,
   "id": "57241de0",
   "metadata": {},
   "outputs": [
    {
     "data": {
      "text/plain": [
       "(DenseVector([0.9666, 0.1016, -0.0959, 0.0355, -0.0526, -0.0302, -0.0832, -0.0445]),\n",
       " 0.8926421380188156)"
      ]
     },
     "execution_count": 34,
     "metadata": {},
     "output_type": "execute_result"
    }
   ],
   "source": [
    "model.coefficients, model.intercept"
   ]
  },
  {
   "cell_type": "code",
   "execution_count": 35,
   "id": "b1c39582",
   "metadata": {},
   "outputs": [
    {
     "name": "stdout",
     "output_type": "stream",
     "text": [
      "+--------------------+----+------------------+\n",
      "|        standardized| tip|        prediction|\n",
      "+--------------------+----+------------------+\n",
      "|[1.73211485586076...|1.57|2.4893981825009464|\n",
      "|[2.07022547299052...| 3.0|3.0299263105497456|\n",
      "|[1.16035969267455...|1.67| 2.243339174029719|\n",
      "|[2.01293762756321...|4.08|2.7163570220486433|\n",
      "|[2.20726698558132...| 3.0| 3.103934214498545|\n",
      "+--------------------+----+------------------+\n",
      "only showing top 5 rows\n",
      "\n"
     ]
    }
   ],
   "source": [
    "### prediction\n",
    "pred = model.transform(test_data)\n",
    "pred.show(5)"
   ]
  },
  {
   "cell_type": "code",
   "execution_count": 36,
   "id": "7560fcef",
   "metadata": {},
   "outputs": [
    {
     "data": {
      "text/plain": [
       "(1.014077828741951, 0.7345702090253423, 0.49354727285377686)"
      ]
     },
     "execution_count": 36,
     "metadata": {},
     "output_type": "execute_result"
    }
   ],
   "source": [
    "model.summary.meanSquaredError, model.summary.meanAbsoluteError, model.summary.r2"
   ]
  },
  {
   "cell_type": "code",
   "execution_count": null,
   "id": "e8805be0",
   "metadata": {},
   "outputs": [],
   "source": []
  }
 ],
 "metadata": {
  "kernelspec": {
   "display_name": "Python 3 (ipykernel)",
   "language": "python",
   "name": "python3"
  },
  "language_info": {
   "codemirror_mode": {
    "name": "ipython",
    "version": 3
   },
   "file_extension": ".py",
   "mimetype": "text/x-python",
   "name": "python",
   "nbconvert_exporter": "python",
   "pygments_lexer": "ipython3",
   "version": "3.9.16"
  }
 },
 "nbformat": 4,
 "nbformat_minor": 5
}
