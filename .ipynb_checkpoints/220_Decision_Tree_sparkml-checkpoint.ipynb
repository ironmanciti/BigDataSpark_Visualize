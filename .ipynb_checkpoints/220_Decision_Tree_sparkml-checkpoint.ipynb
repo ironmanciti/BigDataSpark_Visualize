{
 "cells": [
  {
   "cell_type": "markdown",
   "id": "4a1cef42",
   "metadata": {
    "id": "4a1cef42"
   },
   "source": [
    "# Decision Tree\n",
    "\n",
    "### iris dataset\n",
    "\n",
    "iris.feature_names :\n",
    "\n",
    "Sepal Length : 꽃받침 길이  \n",
    "Sepal Width  : 꽃받침 너비   \n",
    "Petal Length  : 꽃잎 길이  \n",
    "Petal Width   :  꽃잎 너비\n",
    "\n",
    "Species (꽃의 종류) :  setosa / versicolor / virginica 의 3종류로 구분된다.\n",
    "\n",
    "**위 feature 를 모두 가지고 Decision Tree 알고리즘을 이용하여 꽃의 종류 분류**"
   ]
  },
  {
   "cell_type": "code",
   "execution_count": 1,
   "id": "1e71f863",
   "metadata": {
    "id": "1e71f863"
   },
   "outputs": [],
   "source": [
    "from pyspark.sql import SparkSession\n",
    "\n",
    "spark = SparkSession.builder.appName(\"SparkML\").config(\"spark.sql.repl.eagerEval.enabled\", True).getOrCreate()"
   ]
  },
  {
   "cell_type": "code",
   "execution_count": 6,
   "id": "63aba17f",
   "metadata": {
    "colab": {
     "base_uri": "https://localhost:8080/",
     "height": 206
    },
    "id": "63aba17f",
    "outputId": "383ae537-14bc-48cc-c8fa-f7bcc55f0716"
   },
   "outputs": [
    {
     "data": {
      "application/vnd.google.colaboratory.intrinsic+json": {
       "summary": "{\n  \"name\": \"df_iris\",\n  \"rows\": 150,\n  \"fields\": [\n    {\n      \"column\": \"sepal length (cm)\",\n      \"properties\": {\n        \"dtype\": \"number\",\n        \"std\": 0.8280661279778629,\n        \"min\": 4.3,\n        \"max\": 7.9,\n        \"num_unique_values\": 35,\n        \"samples\": [\n          6.2,\n          4.5,\n          5.6\n        ],\n        \"semantic_type\": \"\",\n        \"description\": \"\"\n      }\n    },\n    {\n      \"column\": \"sepal width (cm)\",\n      \"properties\": {\n        \"dtype\": \"number\",\n        \"std\": 0.435866284936698,\n        \"min\": 2.0,\n        \"max\": 4.4,\n        \"num_unique_values\": 23,\n        \"samples\": [\n          2.3,\n          4.0,\n          3.5\n        ],\n        \"semantic_type\": \"\",\n        \"description\": \"\"\n      }\n    },\n    {\n      \"column\": \"petal length (cm)\",\n      \"properties\": {\n        \"dtype\": \"number\",\n        \"std\": 1.7652982332594667,\n        \"min\": 1.0,\n        \"max\": 6.9,\n        \"num_unique_values\": 43,\n        \"samples\": [\n          6.7,\n          3.8,\n          3.7\n        ],\n        \"semantic_type\": \"\",\n        \"description\": \"\"\n      }\n    },\n    {\n      \"column\": \"petal width (cm)\",\n      \"properties\": {\n        \"dtype\": \"number\",\n        \"std\": 0.7622376689603465,\n        \"min\": 0.1,\n        \"max\": 2.5,\n        \"num_unique_values\": 22,\n        \"samples\": [\n          0.2,\n          1.2,\n          1.3\n        ],\n        \"semantic_type\": \"\",\n        \"description\": \"\"\n      }\n    }\n  ]\n}",
       "type": "dataframe",
       "variable_name": "df_iris"
      },
      "text/html": [
       "\n",
       "  <div id=\"df-a25a4fbc-80be-42e6-837a-22a4915ab43c\" class=\"colab-df-container\">\n",
       "    <div>\n",
       "<style scoped>\n",
       "    .dataframe tbody tr th:only-of-type {\n",
       "        vertical-align: middle;\n",
       "    }\n",
       "\n",
       "    .dataframe tbody tr th {\n",
       "        vertical-align: top;\n",
       "    }\n",
       "\n",
       "    .dataframe thead th {\n",
       "        text-align: right;\n",
       "    }\n",
       "</style>\n",
       "<table border=\"1\" class=\"dataframe\">\n",
       "  <thead>\n",
       "    <tr style=\"text-align: right;\">\n",
       "      <th></th>\n",
       "      <th>sepal length (cm)</th>\n",
       "      <th>sepal width (cm)</th>\n",
       "      <th>petal length (cm)</th>\n",
       "      <th>petal width (cm)</th>\n",
       "    </tr>\n",
       "  </thead>\n",
       "  <tbody>\n",
       "    <tr>\n",
       "      <th>0</th>\n",
       "      <td>5.1</td>\n",
       "      <td>3.5</td>\n",
       "      <td>1.4</td>\n",
       "      <td>0.2</td>\n",
       "    </tr>\n",
       "    <tr>\n",
       "      <th>1</th>\n",
       "      <td>4.9</td>\n",
       "      <td>3.0</td>\n",
       "      <td>1.4</td>\n",
       "      <td>0.2</td>\n",
       "    </tr>\n",
       "    <tr>\n",
       "      <th>2</th>\n",
       "      <td>4.7</td>\n",
       "      <td>3.2</td>\n",
       "      <td>1.3</td>\n",
       "      <td>0.2</td>\n",
       "    </tr>\n",
       "    <tr>\n",
       "      <th>3</th>\n",
       "      <td>4.6</td>\n",
       "      <td>3.1</td>\n",
       "      <td>1.5</td>\n",
       "      <td>0.2</td>\n",
       "    </tr>\n",
       "    <tr>\n",
       "      <th>4</th>\n",
       "      <td>5.0</td>\n",
       "      <td>3.6</td>\n",
       "      <td>1.4</td>\n",
       "      <td>0.2</td>\n",
       "    </tr>\n",
       "  </tbody>\n",
       "</table>\n",
       "</div>\n",
       "    <div class=\"colab-df-buttons\">\n",
       "\n",
       "  <div class=\"colab-df-container\">\n",
       "    <button class=\"colab-df-convert\" onclick=\"convertToInteractive('df-a25a4fbc-80be-42e6-837a-22a4915ab43c')\"\n",
       "            title=\"Convert this dataframe to an interactive table.\"\n",
       "            style=\"display:none;\">\n",
       "\n",
       "  <svg xmlns=\"http://www.w3.org/2000/svg\" height=\"24px\" viewBox=\"0 -960 960 960\">\n",
       "    <path d=\"M120-120v-720h720v720H120Zm60-500h600v-160H180v160Zm220 220h160v-160H400v160Zm0 220h160v-160H400v160ZM180-400h160v-160H180v160Zm440 0h160v-160H620v160ZM180-180h160v-160H180v160Zm440 0h160v-160H620v160Z\"/>\n",
       "  </svg>\n",
       "    </button>\n",
       "\n",
       "  <style>\n",
       "    .colab-df-container {\n",
       "      display:flex;\n",
       "      gap: 12px;\n",
       "    }\n",
       "\n",
       "    .colab-df-convert {\n",
       "      background-color: #E8F0FE;\n",
       "      border: none;\n",
       "      border-radius: 50%;\n",
       "      cursor: pointer;\n",
       "      display: none;\n",
       "      fill: #1967D2;\n",
       "      height: 32px;\n",
       "      padding: 0 0 0 0;\n",
       "      width: 32px;\n",
       "    }\n",
       "\n",
       "    .colab-df-convert:hover {\n",
       "      background-color: #E2EBFA;\n",
       "      box-shadow: 0px 1px 2px rgba(60, 64, 67, 0.3), 0px 1px 3px 1px rgba(60, 64, 67, 0.15);\n",
       "      fill: #174EA6;\n",
       "    }\n",
       "\n",
       "    .colab-df-buttons div {\n",
       "      margin-bottom: 4px;\n",
       "    }\n",
       "\n",
       "    [theme=dark] .colab-df-convert {\n",
       "      background-color: #3B4455;\n",
       "      fill: #D2E3FC;\n",
       "    }\n",
       "\n",
       "    [theme=dark] .colab-df-convert:hover {\n",
       "      background-color: #434B5C;\n",
       "      box-shadow: 0px 1px 3px 1px rgba(0, 0, 0, 0.15);\n",
       "      filter: drop-shadow(0px 1px 2px rgba(0, 0, 0, 0.3));\n",
       "      fill: #FFFFFF;\n",
       "    }\n",
       "  </style>\n",
       "\n",
       "    <script>\n",
       "      const buttonEl =\n",
       "        document.querySelector('#df-a25a4fbc-80be-42e6-837a-22a4915ab43c button.colab-df-convert');\n",
       "      buttonEl.style.display =\n",
       "        google.colab.kernel.accessAllowed ? 'block' : 'none';\n",
       "\n",
       "      async function convertToInteractive(key) {\n",
       "        const element = document.querySelector('#df-a25a4fbc-80be-42e6-837a-22a4915ab43c');\n",
       "        const dataTable =\n",
       "          await google.colab.kernel.invokeFunction('convertToInteractive',\n",
       "                                                    [key], {});\n",
       "        if (!dataTable) return;\n",
       "\n",
       "        const docLinkHtml = 'Like what you see? Visit the ' +\n",
       "          '<a target=\"_blank\" href=https://colab.research.google.com/notebooks/data_table.ipynb>data table notebook</a>'\n",
       "          + ' to learn more about interactive tables.';\n",
       "        element.innerHTML = '';\n",
       "        dataTable['output_type'] = 'display_data';\n",
       "        await google.colab.output.renderOutput(dataTable, element);\n",
       "        const docLink = document.createElement('div');\n",
       "        docLink.innerHTML = docLinkHtml;\n",
       "        element.appendChild(docLink);\n",
       "      }\n",
       "    </script>\n",
       "  </div>\n",
       "\n",
       "\n",
       "<div id=\"df-b3e93efa-1bcb-4b8c-bddf-1af95cfd84be\">\n",
       "  <button class=\"colab-df-quickchart\" onclick=\"quickchart('df-b3e93efa-1bcb-4b8c-bddf-1af95cfd84be')\"\n",
       "            title=\"Suggest charts\"\n",
       "            style=\"display:none;\">\n",
       "\n",
       "<svg xmlns=\"http://www.w3.org/2000/svg\" height=\"24px\"viewBox=\"0 0 24 24\"\n",
       "     width=\"24px\">\n",
       "    <g>\n",
       "        <path d=\"M19 3H5c-1.1 0-2 .9-2 2v14c0 1.1.9 2 2 2h14c1.1 0 2-.9 2-2V5c0-1.1-.9-2-2-2zM9 17H7v-7h2v7zm4 0h-2V7h2v10zm4 0h-2v-4h2v4z\"/>\n",
       "    </g>\n",
       "</svg>\n",
       "  </button>\n",
       "\n",
       "<style>\n",
       "  .colab-df-quickchart {\n",
       "      --bg-color: #E8F0FE;\n",
       "      --fill-color: #1967D2;\n",
       "      --hover-bg-color: #E2EBFA;\n",
       "      --hover-fill-color: #174EA6;\n",
       "      --disabled-fill-color: #AAA;\n",
       "      --disabled-bg-color: #DDD;\n",
       "  }\n",
       "\n",
       "  [theme=dark] .colab-df-quickchart {\n",
       "      --bg-color: #3B4455;\n",
       "      --fill-color: #D2E3FC;\n",
       "      --hover-bg-color: #434B5C;\n",
       "      --hover-fill-color: #FFFFFF;\n",
       "      --disabled-bg-color: #3B4455;\n",
       "      --disabled-fill-color: #666;\n",
       "  }\n",
       "\n",
       "  .colab-df-quickchart {\n",
       "    background-color: var(--bg-color);\n",
       "    border: none;\n",
       "    border-radius: 50%;\n",
       "    cursor: pointer;\n",
       "    display: none;\n",
       "    fill: var(--fill-color);\n",
       "    height: 32px;\n",
       "    padding: 0;\n",
       "    width: 32px;\n",
       "  }\n",
       "\n",
       "  .colab-df-quickchart:hover {\n",
       "    background-color: var(--hover-bg-color);\n",
       "    box-shadow: 0 1px 2px rgba(60, 64, 67, 0.3), 0 1px 3px 1px rgba(60, 64, 67, 0.15);\n",
       "    fill: var(--button-hover-fill-color);\n",
       "  }\n",
       "\n",
       "  .colab-df-quickchart-complete:disabled,\n",
       "  .colab-df-quickchart-complete:disabled:hover {\n",
       "    background-color: var(--disabled-bg-color);\n",
       "    fill: var(--disabled-fill-color);\n",
       "    box-shadow: none;\n",
       "  }\n",
       "\n",
       "  .colab-df-spinner {\n",
       "    border: 2px solid var(--fill-color);\n",
       "    border-color: transparent;\n",
       "    border-bottom-color: var(--fill-color);\n",
       "    animation:\n",
       "      spin 1s steps(1) infinite;\n",
       "  }\n",
       "\n",
       "  @keyframes spin {\n",
       "    0% {\n",
       "      border-color: transparent;\n",
       "      border-bottom-color: var(--fill-color);\n",
       "      border-left-color: var(--fill-color);\n",
       "    }\n",
       "    20% {\n",
       "      border-color: transparent;\n",
       "      border-left-color: var(--fill-color);\n",
       "      border-top-color: var(--fill-color);\n",
       "    }\n",
       "    30% {\n",
       "      border-color: transparent;\n",
       "      border-left-color: var(--fill-color);\n",
       "      border-top-color: var(--fill-color);\n",
       "      border-right-color: var(--fill-color);\n",
       "    }\n",
       "    40% {\n",
       "      border-color: transparent;\n",
       "      border-right-color: var(--fill-color);\n",
       "      border-top-color: var(--fill-color);\n",
       "    }\n",
       "    60% {\n",
       "      border-color: transparent;\n",
       "      border-right-color: var(--fill-color);\n",
       "    }\n",
       "    80% {\n",
       "      border-color: transparent;\n",
       "      border-right-color: var(--fill-color);\n",
       "      border-bottom-color: var(--fill-color);\n",
       "    }\n",
       "    90% {\n",
       "      border-color: transparent;\n",
       "      border-bottom-color: var(--fill-color);\n",
       "    }\n",
       "  }\n",
       "</style>\n",
       "\n",
       "  <script>\n",
       "    async function quickchart(key) {\n",
       "      const quickchartButtonEl =\n",
       "        document.querySelector('#' + key + ' button');\n",
       "      quickchartButtonEl.disabled = true;  // To prevent multiple clicks.\n",
       "      quickchartButtonEl.classList.add('colab-df-spinner');\n",
       "      try {\n",
       "        const charts = await google.colab.kernel.invokeFunction(\n",
       "            'suggestCharts', [key], {});\n",
       "      } catch (error) {\n",
       "        console.error('Error during call to suggestCharts:', error);\n",
       "      }\n",
       "      quickchartButtonEl.classList.remove('colab-df-spinner');\n",
       "      quickchartButtonEl.classList.add('colab-df-quickchart-complete');\n",
       "    }\n",
       "    (() => {\n",
       "      let quickchartButtonEl =\n",
       "        document.querySelector('#df-b3e93efa-1bcb-4b8c-bddf-1af95cfd84be button');\n",
       "      quickchartButtonEl.style.display =\n",
       "        google.colab.kernel.accessAllowed ? 'block' : 'none';\n",
       "    })();\n",
       "  </script>\n",
       "</div>\n",
       "\n",
       "    </div>\n",
       "  </div>\n"
      ],
      "text/plain": [
       "   sepal length (cm)  sepal width (cm)  petal length (cm)  petal width (cm)\n",
       "0                5.1               3.5                1.4               0.2\n",
       "1                4.9               3.0                1.4               0.2\n",
       "2                4.7               3.2                1.3               0.2\n",
       "3                4.6               3.1                1.5               0.2\n",
       "4                5.0               3.6                1.4               0.2"
      ]
     },
     "execution_count": 6,
     "metadata": {},
     "output_type": "execute_result"
    }
   ],
   "source": [
    "from sklearn.datasets import load_iris\n",
    "import pandas as pd\n",
    "import warnings\n",
    "warnings.filterwarnings('ignore')\n",
    "\n",
    "# 사이킷런에서 Iris 데이터셋 로드\n",
    "iris = load_iris()\n",
    "\n",
    "# Iris 데이터셋을 Pandas 데이터프레임으로 변환\n",
    "df_iris = pd.DataFrame(data=iris.data, columns=iris.feature_names)\n",
    "\n",
    "df_iris.head()"
   ]
  },
  {
   "cell_type": "code",
   "execution_count": 7,
   "id": "ca981195",
   "metadata": {
    "colab": {
     "base_uri": "https://localhost:8080/",
     "height": 206
    },
    "id": "ca981195",
    "outputId": "9a9c5923-a4a6-40c3-efad-76ce47b56275"
   },
   "outputs": [
    {
     "data": {
      "application/vnd.google.colaboratory.intrinsic+json": {
       "summary": "{\n  \"name\": \"df_iris\",\n  \"rows\": 150,\n  \"fields\": [\n    {\n      \"column\": \"sepal length (cm)\",\n      \"properties\": {\n        \"dtype\": \"number\",\n        \"std\": 0.8280661279778629,\n        \"min\": 4.3,\n        \"max\": 7.9,\n        \"num_unique_values\": 35,\n        \"samples\": [\n          6.2,\n          4.5,\n          5.6\n        ],\n        \"semantic_type\": \"\",\n        \"description\": \"\"\n      }\n    },\n    {\n      \"column\": \"sepal width (cm)\",\n      \"properties\": {\n        \"dtype\": \"number\",\n        \"std\": 0.435866284936698,\n        \"min\": 2.0,\n        \"max\": 4.4,\n        \"num_unique_values\": 23,\n        \"samples\": [\n          2.3,\n          4.0,\n          3.5\n        ],\n        \"semantic_type\": \"\",\n        \"description\": \"\"\n      }\n    },\n    {\n      \"column\": \"petal length (cm)\",\n      \"properties\": {\n        \"dtype\": \"number\",\n        \"std\": 1.7652982332594667,\n        \"min\": 1.0,\n        \"max\": 6.9,\n        \"num_unique_values\": 43,\n        \"samples\": [\n          6.7,\n          3.8,\n          3.7\n        ],\n        \"semantic_type\": \"\",\n        \"description\": \"\"\n      }\n    },\n    {\n      \"column\": \"petal width (cm)\",\n      \"properties\": {\n        \"dtype\": \"number\",\n        \"std\": 0.7622376689603465,\n        \"min\": 0.1,\n        \"max\": 2.5,\n        \"num_unique_values\": 22,\n        \"samples\": [\n          0.2,\n          1.2,\n          1.3\n        ],\n        \"semantic_type\": \"\",\n        \"description\": \"\"\n      }\n    },\n    {\n      \"column\": \"Species\",\n      \"properties\": {\n        \"dtype\": \"number\",\n        \"std\": 0,\n        \"min\": 0,\n        \"max\": 2,\n        \"num_unique_values\": 3,\n        \"samples\": [\n          0,\n          1,\n          2\n        ],\n        \"semantic_type\": \"\",\n        \"description\": \"\"\n      }\n    }\n  ]\n}",
       "type": "dataframe",
       "variable_name": "df_iris"
      },
      "text/html": [
       "\n",
       "  <div id=\"df-fb61f62a-24ef-4f8d-a51c-ae4f17d3300c\" class=\"colab-df-container\">\n",
       "    <div>\n",
       "<style scoped>\n",
       "    .dataframe tbody tr th:only-of-type {\n",
       "        vertical-align: middle;\n",
       "    }\n",
       "\n",
       "    .dataframe tbody tr th {\n",
       "        vertical-align: top;\n",
       "    }\n",
       "\n",
       "    .dataframe thead th {\n",
       "        text-align: right;\n",
       "    }\n",
       "</style>\n",
       "<table border=\"1\" class=\"dataframe\">\n",
       "  <thead>\n",
       "    <tr style=\"text-align: right;\">\n",
       "      <th></th>\n",
       "      <th>sepal length (cm)</th>\n",
       "      <th>sepal width (cm)</th>\n",
       "      <th>petal length (cm)</th>\n",
       "      <th>petal width (cm)</th>\n",
       "      <th>Species</th>\n",
       "    </tr>\n",
       "  </thead>\n",
       "  <tbody>\n",
       "    <tr>\n",
       "      <th>0</th>\n",
       "      <td>5.1</td>\n",
       "      <td>3.5</td>\n",
       "      <td>1.4</td>\n",
       "      <td>0.2</td>\n",
       "      <td>0</td>\n",
       "    </tr>\n",
       "    <tr>\n",
       "      <th>1</th>\n",
       "      <td>4.9</td>\n",
       "      <td>3.0</td>\n",
       "      <td>1.4</td>\n",
       "      <td>0.2</td>\n",
       "      <td>0</td>\n",
       "    </tr>\n",
       "    <tr>\n",
       "      <th>2</th>\n",
       "      <td>4.7</td>\n",
       "      <td>3.2</td>\n",
       "      <td>1.3</td>\n",
       "      <td>0.2</td>\n",
       "      <td>0</td>\n",
       "    </tr>\n",
       "    <tr>\n",
       "      <th>3</th>\n",
       "      <td>4.6</td>\n",
       "      <td>3.1</td>\n",
       "      <td>1.5</td>\n",
       "      <td>0.2</td>\n",
       "      <td>0</td>\n",
       "    </tr>\n",
       "    <tr>\n",
       "      <th>4</th>\n",
       "      <td>5.0</td>\n",
       "      <td>3.6</td>\n",
       "      <td>1.4</td>\n",
       "      <td>0.2</td>\n",
       "      <td>0</td>\n",
       "    </tr>\n",
       "  </tbody>\n",
       "</table>\n",
       "</div>\n",
       "    <div class=\"colab-df-buttons\">\n",
       "\n",
       "  <div class=\"colab-df-container\">\n",
       "    <button class=\"colab-df-convert\" onclick=\"convertToInteractive('df-fb61f62a-24ef-4f8d-a51c-ae4f17d3300c')\"\n",
       "            title=\"Convert this dataframe to an interactive table.\"\n",
       "            style=\"display:none;\">\n",
       "\n",
       "  <svg xmlns=\"http://www.w3.org/2000/svg\" height=\"24px\" viewBox=\"0 -960 960 960\">\n",
       "    <path d=\"M120-120v-720h720v720H120Zm60-500h600v-160H180v160Zm220 220h160v-160H400v160Zm0 220h160v-160H400v160ZM180-400h160v-160H180v160Zm440 0h160v-160H620v160ZM180-180h160v-160H180v160Zm440 0h160v-160H620v160Z\"/>\n",
       "  </svg>\n",
       "    </button>\n",
       "\n",
       "  <style>\n",
       "    .colab-df-container {\n",
       "      display:flex;\n",
       "      gap: 12px;\n",
       "    }\n",
       "\n",
       "    .colab-df-convert {\n",
       "      background-color: #E8F0FE;\n",
       "      border: none;\n",
       "      border-radius: 50%;\n",
       "      cursor: pointer;\n",
       "      display: none;\n",
       "      fill: #1967D2;\n",
       "      height: 32px;\n",
       "      padding: 0 0 0 0;\n",
       "      width: 32px;\n",
       "    }\n",
       "\n",
       "    .colab-df-convert:hover {\n",
       "      background-color: #E2EBFA;\n",
       "      box-shadow: 0px 1px 2px rgba(60, 64, 67, 0.3), 0px 1px 3px 1px rgba(60, 64, 67, 0.15);\n",
       "      fill: #174EA6;\n",
       "    }\n",
       "\n",
       "    .colab-df-buttons div {\n",
       "      margin-bottom: 4px;\n",
       "    }\n",
       "\n",
       "    [theme=dark] .colab-df-convert {\n",
       "      background-color: #3B4455;\n",
       "      fill: #D2E3FC;\n",
       "    }\n",
       "\n",
       "    [theme=dark] .colab-df-convert:hover {\n",
       "      background-color: #434B5C;\n",
       "      box-shadow: 0px 1px 3px 1px rgba(0, 0, 0, 0.15);\n",
       "      filter: drop-shadow(0px 1px 2px rgba(0, 0, 0, 0.3));\n",
       "      fill: #FFFFFF;\n",
       "    }\n",
       "  </style>\n",
       "\n",
       "    <script>\n",
       "      const buttonEl =\n",
       "        document.querySelector('#df-fb61f62a-24ef-4f8d-a51c-ae4f17d3300c button.colab-df-convert');\n",
       "      buttonEl.style.display =\n",
       "        google.colab.kernel.accessAllowed ? 'block' : 'none';\n",
       "\n",
       "      async function convertToInteractive(key) {\n",
       "        const element = document.querySelector('#df-fb61f62a-24ef-4f8d-a51c-ae4f17d3300c');\n",
       "        const dataTable =\n",
       "          await google.colab.kernel.invokeFunction('convertToInteractive',\n",
       "                                                    [key], {});\n",
       "        if (!dataTable) return;\n",
       "\n",
       "        const docLinkHtml = 'Like what you see? Visit the ' +\n",
       "          '<a target=\"_blank\" href=https://colab.research.google.com/notebooks/data_table.ipynb>data table notebook</a>'\n",
       "          + ' to learn more about interactive tables.';\n",
       "        element.innerHTML = '';\n",
       "        dataTable['output_type'] = 'display_data';\n",
       "        await google.colab.output.renderOutput(dataTable, element);\n",
       "        const docLink = document.createElement('div');\n",
       "        docLink.innerHTML = docLinkHtml;\n",
       "        element.appendChild(docLink);\n",
       "      }\n",
       "    </script>\n",
       "  </div>\n",
       "\n",
       "\n",
       "<div id=\"df-27897df5-683e-4e31-ae89-8e5d768b8790\">\n",
       "  <button class=\"colab-df-quickchart\" onclick=\"quickchart('df-27897df5-683e-4e31-ae89-8e5d768b8790')\"\n",
       "            title=\"Suggest charts\"\n",
       "            style=\"display:none;\">\n",
       "\n",
       "<svg xmlns=\"http://www.w3.org/2000/svg\" height=\"24px\"viewBox=\"0 0 24 24\"\n",
       "     width=\"24px\">\n",
       "    <g>\n",
       "        <path d=\"M19 3H5c-1.1 0-2 .9-2 2v14c0 1.1.9 2 2 2h14c1.1 0 2-.9 2-2V5c0-1.1-.9-2-2-2zM9 17H7v-7h2v7zm4 0h-2V7h2v10zm4 0h-2v-4h2v4z\"/>\n",
       "    </g>\n",
       "</svg>\n",
       "  </button>\n",
       "\n",
       "<style>\n",
       "  .colab-df-quickchart {\n",
       "      --bg-color: #E8F0FE;\n",
       "      --fill-color: #1967D2;\n",
       "      --hover-bg-color: #E2EBFA;\n",
       "      --hover-fill-color: #174EA6;\n",
       "      --disabled-fill-color: #AAA;\n",
       "      --disabled-bg-color: #DDD;\n",
       "  }\n",
       "\n",
       "  [theme=dark] .colab-df-quickchart {\n",
       "      --bg-color: #3B4455;\n",
       "      --fill-color: #D2E3FC;\n",
       "      --hover-bg-color: #434B5C;\n",
       "      --hover-fill-color: #FFFFFF;\n",
       "      --disabled-bg-color: #3B4455;\n",
       "      --disabled-fill-color: #666;\n",
       "  }\n",
       "\n",
       "  .colab-df-quickchart {\n",
       "    background-color: var(--bg-color);\n",
       "    border: none;\n",
       "    border-radius: 50%;\n",
       "    cursor: pointer;\n",
       "    display: none;\n",
       "    fill: var(--fill-color);\n",
       "    height: 32px;\n",
       "    padding: 0;\n",
       "    width: 32px;\n",
       "  }\n",
       "\n",
       "  .colab-df-quickchart:hover {\n",
       "    background-color: var(--hover-bg-color);\n",
       "    box-shadow: 0 1px 2px rgba(60, 64, 67, 0.3), 0 1px 3px 1px rgba(60, 64, 67, 0.15);\n",
       "    fill: var(--button-hover-fill-color);\n",
       "  }\n",
       "\n",
       "  .colab-df-quickchart-complete:disabled,\n",
       "  .colab-df-quickchart-complete:disabled:hover {\n",
       "    background-color: var(--disabled-bg-color);\n",
       "    fill: var(--disabled-fill-color);\n",
       "    box-shadow: none;\n",
       "  }\n",
       "\n",
       "  .colab-df-spinner {\n",
       "    border: 2px solid var(--fill-color);\n",
       "    border-color: transparent;\n",
       "    border-bottom-color: var(--fill-color);\n",
       "    animation:\n",
       "      spin 1s steps(1) infinite;\n",
       "  }\n",
       "\n",
       "  @keyframes spin {\n",
       "    0% {\n",
       "      border-color: transparent;\n",
       "      border-bottom-color: var(--fill-color);\n",
       "      border-left-color: var(--fill-color);\n",
       "    }\n",
       "    20% {\n",
       "      border-color: transparent;\n",
       "      border-left-color: var(--fill-color);\n",
       "      border-top-color: var(--fill-color);\n",
       "    }\n",
       "    30% {\n",
       "      border-color: transparent;\n",
       "      border-left-color: var(--fill-color);\n",
       "      border-top-color: var(--fill-color);\n",
       "      border-right-color: var(--fill-color);\n",
       "    }\n",
       "    40% {\n",
       "      border-color: transparent;\n",
       "      border-right-color: var(--fill-color);\n",
       "      border-top-color: var(--fill-color);\n",
       "    }\n",
       "    60% {\n",
       "      border-color: transparent;\n",
       "      border-right-color: var(--fill-color);\n",
       "    }\n",
       "    80% {\n",
       "      border-color: transparent;\n",
       "      border-right-color: var(--fill-color);\n",
       "      border-bottom-color: var(--fill-color);\n",
       "    }\n",
       "    90% {\n",
       "      border-color: transparent;\n",
       "      border-bottom-color: var(--fill-color);\n",
       "    }\n",
       "  }\n",
       "</style>\n",
       "\n",
       "  <script>\n",
       "    async function quickchart(key) {\n",
       "      const quickchartButtonEl =\n",
       "        document.querySelector('#' + key + ' button');\n",
       "      quickchartButtonEl.disabled = true;  // To prevent multiple clicks.\n",
       "      quickchartButtonEl.classList.add('colab-df-spinner');\n",
       "      try {\n",
       "        const charts = await google.colab.kernel.invokeFunction(\n",
       "            'suggestCharts', [key], {});\n",
       "      } catch (error) {\n",
       "        console.error('Error during call to suggestCharts:', error);\n",
       "      }\n",
       "      quickchartButtonEl.classList.remove('colab-df-spinner');\n",
       "      quickchartButtonEl.classList.add('colab-df-quickchart-complete');\n",
       "    }\n",
       "    (() => {\n",
       "      let quickchartButtonEl =\n",
       "        document.querySelector('#df-27897df5-683e-4e31-ae89-8e5d768b8790 button');\n",
       "      quickchartButtonEl.style.display =\n",
       "        google.colab.kernel.accessAllowed ? 'block' : 'none';\n",
       "    })();\n",
       "  </script>\n",
       "</div>\n",
       "\n",
       "    </div>\n",
       "  </div>\n"
      ],
      "text/plain": [
       "   sepal length (cm)  sepal width (cm)  petal length (cm)  petal width (cm)  \\\n",
       "0                5.1               3.5                1.4               0.2   \n",
       "1                4.9               3.0                1.4               0.2   \n",
       "2                4.7               3.2                1.3               0.2   \n",
       "3                4.6               3.1                1.5               0.2   \n",
       "4                5.0               3.6                1.4               0.2   \n",
       "\n",
       "   Species  \n",
       "0        0  \n",
       "1        0  \n",
       "2        0  \n",
       "3        0  \n",
       "4        0  "
      ]
     },
     "execution_count": 7,
     "metadata": {},
     "output_type": "execute_result"
    }
   ],
   "source": [
    "# Iris 데이터셋의 타겟값(target)을 데이터프레임(df_iris)에 새로운 열로 추가\n",
    "df_iris['Species'] = iris.target\n",
    "\n",
    "df_iris.head()"
   ]
  },
  {
   "cell_type": "code",
   "execution_count": 8,
   "id": "8be5214c",
   "metadata": {
    "colab": {
     "base_uri": "https://localhost:8080/"
    },
    "id": "8be5214c",
    "outputId": "bbef76f6-6fde-4416-e34c-1a1bfb563d1d"
   },
   "outputs": [
    {
     "name": "stdout",
     "output_type": "stream",
     "text": [
      "+-----------------+----------------+-----------------+----------------+-------+\n",
      "|sepal length (cm)|sepal width (cm)|petal length (cm)|petal width (cm)|Species|\n",
      "+-----------------+----------------+-----------------+----------------+-------+\n",
      "|              5.1|             3.5|              1.4|             0.2|      0|\n",
      "|              4.9|             3.0|              1.4|             0.2|      0|\n",
      "|              4.7|             3.2|              1.3|             0.2|      0|\n",
      "|              4.6|             3.1|              1.5|             0.2|      0|\n",
      "|              5.0|             3.6|              1.4|             0.2|      0|\n",
      "+-----------------+----------------+-----------------+----------------+-------+\n",
      "only showing top 5 rows\n",
      "\n"
     ]
    }
   ],
   "source": [
    "# Spark ML을 사용하기 위해 Pandas 데이터프레임을 Spark 데이터프레임 형식으로 변환합니다.\n",
    "df_iris = spark.createDataFrame(df_iris)\n",
    "\n",
    "df_iris.show(5)"
   ]
  },
  {
   "cell_type": "code",
   "execution_count": 10,
   "id": "2e54deb8",
   "metadata": {
    "colab": {
     "base_uri": "https://localhost:8080/",
     "height": 159
    },
    "id": "2e54deb8",
    "outputId": "d5e34705-b5a1-46f5-dc7b-70c0ab7ce36c"
   },
   "outputs": [
    {
     "data": {
      "text/html": [
       "<table border='1'>\n",
       "<tr><th>sepal_length</th><th>sepal_width</th><th>potal_length</th><th>petal_width</th><th>Species</th></tr>\n",
       "<tr><td>5.1</td><td>3.5</td><td>1.4</td><td>0.2</td><td>0</td></tr>\n",
       "<tr><td>4.9</td><td>3.0</td><td>1.4</td><td>0.2</td><td>0</td></tr>\n",
       "<tr><td>4.7</td><td>3.2</td><td>1.3</td><td>0.2</td><td>0</td></tr>\n",
       "<tr><td>4.6</td><td>3.1</td><td>1.5</td><td>0.2</td><td>0</td></tr>\n",
       "<tr><td>5.0</td><td>3.6</td><td>1.4</td><td>0.2</td><td>0</td></tr>\n",
       "</table>\n"
      ],
      "text/plain": [
       "+------------+-----------+------------+-----------+-------+\n",
       "|sepal_length|sepal_width|potal_length|petal_width|Species|\n",
       "+------------+-----------+------------+-----------+-------+\n",
       "|         5.1|        3.5|         1.4|        0.2|      0|\n",
       "|         4.9|        3.0|         1.4|        0.2|      0|\n",
       "|         4.7|        3.2|         1.3|        0.2|      0|\n",
       "|         4.6|        3.1|         1.5|        0.2|      0|\n",
       "|         5.0|        3.6|         1.4|        0.2|      0|\n",
       "+------------+-----------+------------+-----------+-------+"
      ]
     },
     "execution_count": 10,
     "metadata": {},
     "output_type": "execute_result"
    }
   ],
   "source": [
    "from pyspark.sql.functions import col\n",
    "\n",
    "# Spark 데이터프레임(df_iris)에서 필요한 컬럼을 선택하고, 일부 컬럼의 이름을 변경하여 새로운 데이터프레임(df)을 생성\n",
    "# - select: 특정 컬럼만 선택\n",
    "# - col: 컬럼을 선택하는 함수\n",
    "# - alias: 선택한 컬럼의 이름을 새롭게 지정\n",
    "\n",
    "df = df_iris.select(\n",
    "    col(\"sepal length (cm)\").alias(\"sepal_length\"),  # \"sepal length (cm)\" → \"sepal_length\"\n",
    "    col(\"sepal width (cm)\").alias(\"sepal_width\"),     # \"sepal width (cm)\" → \"sepal_width\"\n",
    "    col(\"petal length (cm)\").alias(\"potal_length\"),    # \"petal length (cm)\" → \"potal_length\"\n",
    "    col(\"petal width (cm)\").alias(\"petal_width\"),      # \"petal width (cm)\" → \"petal_width\"\n",
    "    \"Species\"                                                         # Species 컬럼은 이름 변경 없이 선택\n",
    ")\n",
    "\n",
    "df.limit(5)"
   ]
  },
  {
   "cell_type": "code",
   "execution_count": 11,
   "id": "2c3426dd",
   "metadata": {
    "colab": {
     "base_uri": "https://localhost:8080/"
    },
    "id": "2c3426dd",
    "outputId": "72d38db7-e8c9-47bd-af89-966646d42e26"
   },
   "outputs": [
    {
     "name": "stdout",
     "output_type": "stream",
     "text": [
      "root\n",
      " |-- sepal_length: double (nullable = true)\n",
      " |-- sepal_width: double (nullable = true)\n",
      " |-- potal_length: double (nullable = true)\n",
      " |-- petal_width: double (nullable = true)\n",
      " |-- Species: long (nullable = true)\n",
      "\n"
     ]
    }
   ],
   "source": [
    "df.printSchema()"
   ]
  },
  {
   "cell_type": "code",
   "execution_count": 12,
   "id": "2805681c",
   "metadata": {
    "colab": {
     "base_uri": "https://localhost:8080/",
     "height": 159
    },
    "id": "2805681c",
    "outputId": "a2595eb4-e57a-4683-ae87-626dec9b8e2f"
   },
   "outputs": [
    {
     "data": {
      "text/html": [
       "<table border='1'>\n",
       "<tr><th>sepal_length</th><th>sepal_width</th><th>potal_length</th><th>petal_width</th><th>Species</th><th>features</th></tr>\n",
       "<tr><td>5.1</td><td>3.5</td><td>1.4</td><td>0.2</td><td>0</td><td>[5.1,3.5,1.4,0.2]</td></tr>\n",
       "<tr><td>4.9</td><td>3.0</td><td>1.4</td><td>0.2</td><td>0</td><td>[4.9,3.0,1.4,0.2]</td></tr>\n",
       "<tr><td>4.7</td><td>3.2</td><td>1.3</td><td>0.2</td><td>0</td><td>[4.7,3.2,1.3,0.2]</td></tr>\n",
       "<tr><td>4.6</td><td>3.1</td><td>1.5</td><td>0.2</td><td>0</td><td>[4.6,3.1,1.5,0.2]</td></tr>\n",
       "<tr><td>5.0</td><td>3.6</td><td>1.4</td><td>0.2</td><td>0</td><td>[5.0,3.6,1.4,0.2]</td></tr>\n",
       "</table>\n"
      ],
      "text/plain": [
       "+------------+-----------+------------+-----------+-------+-----------------+\n",
       "|sepal_length|sepal_width|potal_length|petal_width|Species|         features|\n",
       "+------------+-----------+------------+-----------+-------+-----------------+\n",
       "|         5.1|        3.5|         1.4|        0.2|      0|[5.1,3.5,1.4,0.2]|\n",
       "|         4.9|        3.0|         1.4|        0.2|      0|[4.9,3.0,1.4,0.2]|\n",
       "|         4.7|        3.2|         1.3|        0.2|      0|[4.7,3.2,1.3,0.2]|\n",
       "|         4.6|        3.1|         1.5|        0.2|      0|[4.6,3.1,1.5,0.2]|\n",
       "|         5.0|        3.6|         1.4|        0.2|      0|[5.0,3.6,1.4,0.2]|\n",
       "+------------+-----------+------------+-----------+-------+-----------------+"
      ]
     },
     "execution_count": 12,
     "metadata": {},
     "output_type": "execute_result"
    }
   ],
   "source": [
    "# VectorAssembler는 여러 개의 입력 컬럼을 하나의 벡터로 결합하여 머신러닝 모델에 사용할 수 있는 형식으로 변환\n",
    "from pyspark.ml.feature import VectorAssembler\n",
    "\n",
    "# inputCols: 벡터로 결합할 입력 컬럼들의 리스트 (여기서는 타겟 컬럼 'Species'를 제외한 모든 컬럼)\n",
    "# outputCol: 결합된 벡터를 저장할 출력 컬럼의 이름 (여기서는 \"features\")\n",
    "assembler = VectorAssembler(inputCols=df.columns[:-1], outputCol=\"features\")\n",
    "\n",
    "# VectorAssembler를 사용하여 데이터프레임(df)에 변환을 적용\n",
    "data = assembler.transform(df)\n",
    "\n",
    "data.limit(5)"
   ]
  },
  {
   "cell_type": "markdown",
   "id": "e4485ed2",
   "metadata": {
    "id": "e4485ed2"
   },
   "source": [
    "### train / test split & accuracy check"
   ]
  },
  {
   "cell_type": "code",
   "execution_count": 13,
   "id": "4a4fd641",
   "metadata": {
    "colab": {
     "base_uri": "https://localhost:8080/"
    },
    "id": "4a4fd641",
    "outputId": "408c7c2b-9293-4b88-e45e-15f2773c275a"
   },
   "outputs": [
    {
     "data": {
      "text/plain": [
       "(111, 39)"
      ]
     },
     "execution_count": 13,
     "metadata": {},
     "output_type": "execute_result"
    }
   ],
   "source": [
    "# 지정된 비율에 따라 랜덤하게 분할\n",
    "# 전체 데이터의 80%는 학습 데이터로, 20%는 테스트 데이터로 사용.\n",
    "train_data, test_data = data.randomSplit([0.8, 0.2])\n",
    "\n",
    "# 분할된 데이터의 개수 출력\n",
    "train_data.count(), test_data.count()"
   ]
  },
  {
   "cell_type": "code",
   "execution_count": 14,
   "id": "81e9c1d3",
   "metadata": {
    "colab": {
     "base_uri": "https://localhost:8080/"
    },
    "id": "81e9c1d3",
    "outputId": "c9758e60-f42f-4395-aef7-712a131c5399"
   },
   "outputs": [
    {
     "data": {
      "text/plain": [
       "DecisionTreeClassificationModel: uid=DecisionTreeClassifier_6c6b45138d90, depth=4, numNodes=13, numClasses=3, numFeatures=4"
      ]
     },
     "execution_count": 14,
     "metadata": {},
     "output_type": "execute_result"
    }
   ],
   "source": [
    "from pyspark.ml.classification import DecisionTreeClassifier\n",
    "\n",
    "# 의사결정나무(Decision Tree) 분류 모델을 생성하고 학습.\n",
    "# - labelCol: 타겟 변수(라벨) 컬럼 이름\n",
    "# - maxDepth: 의사결정나무의 최대 깊이\n",
    "dt = DecisionTreeClassifier(labelCol=\"Species\", maxDepth=5).fit(train_data)\n",
    "dt"
   ]
  },
  {
   "cell_type": "code",
   "execution_count": 15,
   "id": "8c6394f3",
   "metadata": {
    "colab": {
     "base_uri": "https://localhost:8080/"
    },
    "id": "8c6394f3",
    "outputId": "07752828-7fe2-435a-9675-939b5120a3a5"
   },
   "outputs": [
    {
     "name": "stdout",
     "output_type": "stream",
     "text": [
      "(4,[0,2,3],[0.018128368446839786,0.5167701302164739,0.46510150133668643])\n"
     ]
    }
   ],
   "source": [
    "# 학습된 의사결정나무 모델에서 각 특징(feature)의 중요도를 출력.\n",
    "# featureImportances 속성은 모델 학습 과정에서 계산된 각 특징의 상대적 중요도를 반환\n",
    "# 값이 클수록 해당 특징이 분류 작업에 더 중요한 역할을 했음을 의미\n",
    "print(dt.featureImportances)"
   ]
  },
  {
   "cell_type": "markdown",
   "id": "VkCA2wcVzYfJ",
   "metadata": {
    "id": "VkCA2wcVzYfJ"
   },
   "source": [
    "`(4, [0, 2, 3], [0.018128368446839786, 0.5167701302164739, 0.46510150133668643])` -->  **희소 벡터(Sparse Vector)** 형식 표현 (0이 아닌 값만 저장하여 메모리 효율성을 높입니다.)\n",
    "\n",
    "---\n",
    "1. **`4`**: 벡터의 길이 (전체 특징 수).\n",
    "   - 예를 들어, 데이터에 4개의 특징(`sepal_length`, `sepal_width`, `petal_length`, `petal_width`)이 있다면, 벡터의 크기는 4입니다.\n",
    "\n",
    "2. **`[0, 2, 3]`**: 활성화된 인덱스 (값이 0이 아닌 위치).\n",
    "   - 의사결정나무 모델이 중요하다고 판단한 특징의 인덱스입니다.\n",
    "   - 여기서는 0번, 2번, 3번 특징이 중요도로 계산되었습니다.\n",
    "\n",
    "3. **`[0.018128368446839786, 0.5167701302164739, 0.46510150133668643]`**:\n",
    "   - 각 활성화된 특징의 중요도 값 (특정 특징이 의사결정나무에서 얼마나 자주 분할(split)에 사용되었는지를 나타냅니다.)\n",
    "   - 0번 특징의 중요도는 `0.0181`, 2번 특징의 중요도는 `0.5168`, 3번 특징의 중요도는 `0.4651`입니다.\n",
    "\n",
    "---\n",
    "Iris 데이터셋의 특징 인덱스와 중요도를 매핑하면 다음과 같습니다:\n",
    "\n",
    "| 특징 인덱스 | 특징 이름         | 중요도                 |\n",
    "|-------------|-------------------|------------------------|\n",
    "| 0           | `sepal_length`   | `0.0181` (낮음)       |\n",
    "| 1           | `sepal_width`    | `0.0` (무시됨)        |\n",
    "| 2           | `petal_length`   | `0.5168` (높음)       |\n",
    "| 3           | `petal_width`    | `0.4651` (높음)       |\n"
   ]
  },
  {
   "cell_type": "code",
   "execution_count": 16,
   "id": "b6ff8102",
   "metadata": {
    "colab": {
     "base_uri": "https://localhost:8080/",
     "height": 159
    },
    "id": "b6ff8102",
    "outputId": "7bb9bc1c-786a-43e5-c628-d0b77e1bc702"
   },
   "outputs": [
    {
     "data": {
      "text/html": [
       "<table border='1'>\n",
       "<tr><th>sepal_length</th><th>sepal_width</th><th>potal_length</th><th>petal_width</th><th>Species</th><th>features</th><th>rawPrediction</th><th>probability</th><th>prediction</th></tr>\n",
       "<tr><td>4.4</td><td>3.2</td><td>1.3</td><td>0.2</td><td>0</td><td>[4.4,3.2,1.3,0.2]</td><td>[32.0,0.0,0.0]</td><td>[1.0,0.0,0.0]</td><td>0.0</td></tr>\n",
       "<tr><td>4.6</td><td>3.2</td><td>1.4</td><td>0.2</td><td>0</td><td>[4.6,3.2,1.4,0.2]</td><td>[32.0,0.0,0.0]</td><td>[1.0,0.0,0.0]</td><td>0.0</td></tr>\n",
       "<tr><td>4.8</td><td>3.0</td><td>1.4</td><td>0.1</td><td>0</td><td>[4.8,3.0,1.4,0.1]</td><td>[32.0,0.0,0.0]</td><td>[1.0,0.0,0.0]</td><td>0.0</td></tr>\n",
       "<tr><td>4.8</td><td>3.4</td><td>1.9</td><td>0.2</td><td>0</td><td>[4.8,3.4,1.9,0.2]</td><td>[32.0,0.0,0.0]</td><td>[1.0,0.0,0.0]</td><td>0.0</td></tr>\n",
       "<tr><td>4.9</td><td>3.1</td><td>1.5</td><td>0.2</td><td>0</td><td>[4.9,3.1,1.5,0.2]</td><td>[32.0,0.0,0.0]</td><td>[1.0,0.0,0.0]</td><td>0.0</td></tr>\n",
       "</table>\n"
      ],
      "text/plain": [
       "+------------+-----------+------------+-----------+-------+-----------------+--------------+-------------+----------+\n",
       "|sepal_length|sepal_width|potal_length|petal_width|Species|         features| rawPrediction|  probability|prediction|\n",
       "+------------+-----------+------------+-----------+-------+-----------------+--------------+-------------+----------+\n",
       "|         4.4|        3.2|         1.3|        0.2|      0|[4.4,3.2,1.3,0.2]|[32.0,0.0,0.0]|[1.0,0.0,0.0]|       0.0|\n",
       "|         4.6|        3.2|         1.4|        0.2|      0|[4.6,3.2,1.4,0.2]|[32.0,0.0,0.0]|[1.0,0.0,0.0]|       0.0|\n",
       "|         4.8|        3.0|         1.4|        0.1|      0|[4.8,3.0,1.4,0.1]|[32.0,0.0,0.0]|[1.0,0.0,0.0]|       0.0|\n",
       "|         4.8|        3.4|         1.9|        0.2|      0|[4.8,3.4,1.9,0.2]|[32.0,0.0,0.0]|[1.0,0.0,0.0]|       0.0|\n",
       "|         4.9|        3.1|         1.5|        0.2|      0|[4.9,3.1,1.5,0.2]|[32.0,0.0,0.0]|[1.0,0.0,0.0]|       0.0|\n",
       "+------------+-----------+------------+-----------+-------+-----------------+--------------+-------------+----------+"
      ]
     },
     "execution_count": 16,
     "metadata": {},
     "output_type": "execute_result"
    }
   ],
   "source": [
    "# 학습된 의사결정나무 모델(dt)을 사용하여 테스트 데이터(test_data)에 대한 예측 수행\n",
    "# transform 메서드는 테스트 데이터셋(test_data)을 입력으로 받아 각 샘플에 대해 예측값을 계산\n",
    "pred = dt.transform(test_data)\n",
    "\n",
    "pred.limit(5)"
   ]
  },
  {
   "cell_type": "code",
   "execution_count": 21,
   "id": "DiyVE7n01zuL",
   "metadata": {
    "colab": {
     "base_uri": "https://localhost:8080/",
     "height": 159
    },
    "id": "DiyVE7n01zuL",
    "outputId": "bd164407-9208-49a3-c799-8f1244d8f65a"
   },
   "outputs": [
    {
     "data": {
      "text/html": [
       "<table border='1'>\n",
       "<tr><th>sepal_length</th><th>sepal_width</th><th>potal_length</th><th>petal_width</th><th>Species</th><th>features</th><th>rawPrediction</th><th>probability</th><th>prediction</th></tr>\n",
       "<tr><td>7.2</td><td>3.0</td><td>5.8</td><td>1.6</td><td>2</td><td>[7.2,3.0,5.8,1.6]</td><td>[0.0,2.0,0.0]</td><td>[0.0,1.0,0.0]</td><td>1.0</td></tr>\n",
       "<tr><td>7.4</td><td>2.8</td><td>6.1</td><td>1.9</td><td>2</td><td>[7.4,2.8,6.1,1.9]</td><td>[0.0,0.0,32.0]</td><td>[0.0,0.0,1.0]</td><td>2.0</td></tr>\n",
       "<tr><td>7.7</td><td>2.6</td><td>6.9</td><td>2.3</td><td>2</td><td>[7.7,2.6,6.9,2.3]</td><td>[0.0,0.0,32.0]</td><td>[0.0,0.0,1.0]</td><td>2.0</td></tr>\n",
       "<tr><td>7.7</td><td>2.8</td><td>6.7</td><td>2.0</td><td>2</td><td>[7.7,2.8,6.7,2.0]</td><td>[0.0,0.0,32.0]</td><td>[0.0,0.0,1.0]</td><td>2.0</td></tr>\n",
       "<tr><td>7.9</td><td>3.8</td><td>6.4</td><td>2.0</td><td>2</td><td>[7.9,3.8,6.4,2.0]</td><td>[0.0,0.0,32.0]</td><td>[0.0,0.0,1.0]</td><td>2.0</td></tr>\n",
       "</table>\n"
      ],
      "text/plain": [
       "+------------+-----------+------------+-----------+-------+-----------------+--------------+-------------+----------+\n",
       "|sepal_length|sepal_width|potal_length|petal_width|Species|         features| rawPrediction|  probability|prediction|\n",
       "+------------+-----------+------------+-----------+-------+-----------------+--------------+-------------+----------+\n",
       "|         7.2|        3.0|         5.8|        1.6|      2|[7.2,3.0,5.8,1.6]| [0.0,2.0,0.0]|[0.0,1.0,0.0]|       1.0|\n",
       "|         7.4|        2.8|         6.1|        1.9|      2|[7.4,2.8,6.1,1.9]|[0.0,0.0,32.0]|[0.0,0.0,1.0]|       2.0|\n",
       "|         7.7|        2.6|         6.9|        2.3|      2|[7.7,2.6,6.9,2.3]|[0.0,0.0,32.0]|[0.0,0.0,1.0]|       2.0|\n",
       "|         7.7|        2.8|         6.7|        2.0|      2|[7.7,2.8,6.7,2.0]|[0.0,0.0,32.0]|[0.0,0.0,1.0]|       2.0|\n",
       "|         7.9|        3.8|         6.4|        2.0|      2|[7.9,3.8,6.4,2.0]|[0.0,0.0,32.0]|[0.0,0.0,1.0]|       2.0|\n",
       "+------------+-----------+------------+-----------+-------+-----------------+--------------+-------------+----------+"
      ]
     },
     "execution_count": 21,
     "metadata": {},
     "output_type": "execute_result"
    }
   ],
   "source": [
    "# 데이터프레임(pred)을 리스트로 변환하여 마지막 5개 행 선택\n",
    "last_rows = pred.collect()[-5:]\n",
    "spark.createDataFrame(last_rows)"
   ]
  },
  {
   "cell_type": "code",
   "execution_count": 22,
   "id": "d29b4aaa",
   "metadata": {
    "colab": {
     "base_uri": "https://localhost:8080/"
    },
    "id": "d29b4aaa",
    "outputId": "02b26528-a175-4229-e13f-1982aaf9ce40"
   },
   "outputs": [
    {
     "data": {
      "text/plain": [
       "0.9494301994301995"
      ]
     },
     "execution_count": 22,
     "metadata": {},
     "output_type": "execute_result"
    }
   ],
   "source": [
    "from pyspark.ml.evaluation import MulticlassClassificationEvaluator\n",
    "\n",
    "# 학습된 의사결정나무 모델의 성능 평가\n",
    "# MulticlassClassificationEvaluator는 다중 클래스 분류 모델의 성능을 평가하는 데 사용\n",
    "# - labelCol: 타겟 변수(실제 값)가 저장된 컬럼의 이름 (여기서는 \"Species\").\n",
    "# - evaluate(pred): 평가 점수(f1-score) 계산\n",
    "dt_auc = MulticlassClassificationEvaluator(labelCol=\"Species\").evaluate(pred)\n",
    "dt_auc"
   ]
  },
  {
   "cell_type": "code",
   "execution_count": null,
   "id": "1f4ae8f0",
   "metadata": {
    "id": "1f4ae8f0"
   },
   "outputs": [],
   "source": []
  }
 ],
 "metadata": {
  "colab": {
   "provenance": []
  },
  "kernelspec": {
   "display_name": "Python 3 (ipykernel)",
   "language": "python",
   "name": "python3"
  },
  "language_info": {
   "codemirror_mode": {
    "name": "ipython",
    "version": 3
   },
   "file_extension": ".py",
   "mimetype": "text/x-python",
   "name": "python",
   "nbconvert_exporter": "python",
   "pygments_lexer": "ipython3",
   "version": "3.9.16"
  }
 },
 "nbformat": 4,
 "nbformat_minor": 5
}
