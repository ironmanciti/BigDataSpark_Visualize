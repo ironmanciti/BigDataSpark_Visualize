{
  "nbformat": 4,
  "nbformat_minor": 0,
  "metadata": {
    "colab": {
      "provenance": []
    },
    "kernelspec": {
      "name": "python3",
      "display_name": "Python 3"
    },
    "language_info": {
      "name": "python"
    }
  },
  "cells": [
    {
      "cell_type": "markdown",
      "source": [
        "# Spark SQL\n",
        "- Spark SQL 구문 및 패턴은 다른 최신 데이터베이스 시스템에서 사용하는 SQL과 동일"
      ],
      "metadata": {
        "id": "pSxugzbzT2Kl"
      }
    },
    {
      "cell_type": "code",
      "execution_count": 1,
      "metadata": {
        "colab": {
          "base_uri": "https://localhost:8080/",
          "height": 224
        },
        "id": "Z-JCFmohTnz7",
        "outputId": "f7190a6d-e09f-4376-c69f-bf623743fccb"
      },
      "outputs": [
        {
          "output_type": "execute_result",
          "data": {
            "text/plain": [
              "<pyspark.sql.session.SparkSession at 0x78c674357be0>"
            ],
            "text/html": [
              "\n",
              "            <div>\n",
              "                <p><b>SparkSession - in-memory</b></p>\n",
              "                \n",
              "        <div>\n",
              "            <p><b>SparkContext</b></p>\n",
              "\n",
              "            <p><a href=\"http://5dc4ea3e7d00:4040\">Spark UI</a></p>\n",
              "\n",
              "            <dl>\n",
              "              <dt>Version</dt>\n",
              "                <dd><code>v3.5.4</code></dd>\n",
              "              <dt>Master</dt>\n",
              "                <dd><code>local[*]</code></dd>\n",
              "              <dt>AppName</dt>\n",
              "                <dd><code>DataFrame</code></dd>\n",
              "            </dl>\n",
              "        </div>\n",
              "        \n",
              "            </div>\n",
              "        "
            ]
          },
          "metadata": {},
          "execution_count": 1
        }
      ],
      "source": [
        "from pyspark.sql import SparkSession\n",
        "\n",
        "# SparkSession은 PySpark 애플리케이션의 진입점으로,\n",
        "# 데이터프레임 생성, 데이터 읽기/쓰기, SQL 작업 등을 수행할 수 있게 해줍니다.\n",
        "spark = SparkSession.builder \\\n",
        "    .appName(\"DataFrame\") \\\n",
        "    .config(\"spark.sql.repl.eagerEval.enabled\", True) \\\n",
        "    .getOrCreate()\n",
        "\n",
        "spark"
      ]
    },
    {
      "cell_type": "code",
      "source": [
        "from google.colab import drive\n",
        "\n",
        "# Google Drive 마운트\n",
        "drive.mount('/content/drive')"
      ],
      "metadata": {
        "colab": {
          "base_uri": "https://localhost:8080/"
        },
        "id": "GG2XJxusgSjq",
        "outputId": "ddff29a8-1443-4dd1-99de-070b9daa0821"
      },
      "execution_count": 2,
      "outputs": [
        {
          "output_type": "stream",
          "name": "stdout",
          "text": [
            "Drive already mounted at /content/drive; to attempt to forcibly remount, call drive.mount(\"/content/drive\", force_remount=True).\n"
          ]
        }
      ]
    },
    {
      "cell_type": "markdown",
      "source": [
        "## 테이블 만들기\n",
        "\n",
        "이 과정에서 다양한 파일(및 파일 형식)로 작업할 것입니다. SQL 인터페이스를 통해 데이터에 액세스하기 위해 가장 먼저 해야 할 일은 해당 데이터에서 **테이블**을 생성하는 것입니다.\n",
        "\n",
        " Spark SQL을 사용하여 테이블을 쿼리할 것입니다. 이 테이블에는 이름과 성, 생년월일, 급여 등과 같은 사람에 대한 사실을 담고 있는 가상 레코드가 포함되어 있습니다. 우리는 많은 빅 데이터 워크로드에서 일반적으로 사용된는 `Parquet` 파일 형식을 사용합니다."
      ],
      "metadata": {
        "id": "2la1GkOiUYka"
      }
    },
    {
      "cell_type": "code",
      "source": [
        "# Google Drive에서 파일 경로 지정\n",
        "file_path = \"/content/drive/Othercomputers/내 컴퓨터/BigDataDatasets/people_10M.parquet\"\n",
        "\n",
        "# SQL 명령 실행\n",
        "# 1. 기존 테이블 삭제\n",
        "spark.sql(\"DROP TABLE IF EXISTS People10M\")\n",
        "\n",
        "# 2. 새로운 테이블 생성 및 Parquet 데이터 로드\n",
        "create_table_query = f\"\"\"\n",
        "CREATE TABLE People10M\n",
        "USING parquet\n",
        "OPTIONS (\n",
        "  path '{file_path}',\n",
        "  header 'true'\n",
        ")\n",
        "\"\"\"\n",
        "spark.sql(create_table_query)\n",
        "\n",
        "# 테이블 내용 확인\n",
        "spark.sql(\"SELECT * FROM People10M LIMIT 5\")"
      ],
      "metadata": {
        "id": "25tSaE0ZUZv_",
        "colab": {
          "base_uri": "https://localhost:8080/",
          "height": 156
        },
        "outputId": "eb47353b-cce5-42ab-eb65-fc93563a3d9c"
      },
      "execution_count": 3,
      "outputs": [
        {
          "output_type": "execute_result",
          "data": {
            "text/plain": [
              "+---+---------+----------+----------+------+-------------------+-----------+------+\n",
              "| id|firstName|middleName|  lastName|gender|          birthDate|        ssn|salary|\n",
              "+---+---------+----------+----------+------+-------------------+-----------+------+\n",
              "|  1|   Pennie|     Carry|Hirschmann|     F|1955-07-02 04:00:00|981-43-9345| 56172|\n",
              "|  2|       An|     Amira|    Cowper|     F|1992-02-08 05:00:00|978-97-8086| 40203|\n",
              "|  3|    Quyen|    Marlen|      Dome|     F|1970-10-11 04:00:00|957-57-8246| 53417|\n",
              "|  4|  Coralie|  Antonina|   Marshal|     F|1990-04-11 04:00:00|963-39-4885| 94727|\n",
              "|  5|   Terrie|      Wava|     Bonar|     F|1980-01-16 05:00:00|964-49-8051| 79908|\n",
              "+---+---------+----------+----------+------+-------------------+-----------+------+"
            ],
            "text/html": [
              "<table border='1'>\n",
              "<tr><th>id</th><th>firstName</th><th>middleName</th><th>lastName</th><th>gender</th><th>birthDate</th><th>ssn</th><th>salary</th></tr>\n",
              "<tr><td>1</td><td>Pennie</td><td>Carry</td><td>Hirschmann</td><td>F</td><td>1955-07-02 04:00:00</td><td>981-43-9345</td><td>56172</td></tr>\n",
              "<tr><td>2</td><td>An</td><td>Amira</td><td>Cowper</td><td>F</td><td>1992-02-08 05:00:00</td><td>978-97-8086</td><td>40203</td></tr>\n",
              "<tr><td>3</td><td>Quyen</td><td>Marlen</td><td>Dome</td><td>F</td><td>1970-10-11 04:00:00</td><td>957-57-8246</td><td>53417</td></tr>\n",
              "<tr><td>4</td><td>Coralie</td><td>Antonina</td><td>Marshal</td><td>F</td><td>1990-04-11 04:00:00</td><td>963-39-4885</td><td>94727</td></tr>\n",
              "<tr><td>5</td><td>Terrie</td><td>Wava</td><td>Bonar</td><td>F</td><td>1980-01-16 05:00:00</td><td>964-49-8051</td><td>79908</td></tr>\n",
              "</table>\n"
            ]
          },
          "metadata": {},
          "execution_count": 3
        }
      ]
    },
    {
      "cell_type": "code",
      "source": [
        "# People10M 테이블의 전체 행(row) 수를 계산\n",
        "spark.sql(\"SELECT count(*) FROM People10M\")"
      ],
      "metadata": {
        "colab": {
          "base_uri": "https://localhost:8080/",
          "height": 65
        },
        "id": "c_omlLqIqJp5",
        "outputId": "e25fee39-7426-4cbc-f597-e1861d1f51be"
      },
      "execution_count": 4,
      "outputs": [
        {
          "output_type": "execute_result",
          "data": {
            "text/plain": [
              "+--------+\n",
              "|count(1)|\n",
              "+--------+\n",
              "|    1000|\n",
              "+--------+"
            ],
            "text/html": [
              "<table border='1'>\n",
              "<tr><th>count(1)</th></tr>\n",
              "<tr><td>1000</td></tr>\n",
              "</table>\n"
            ]
          },
          "metadata": {},
          "execution_count": 4
        }
      ]
    },
    {
      "cell_type": "code",
      "source": [
        "# People10M 테이블에서 lastName 컬럼의 데이터를 상위 5개 행만 조회\n",
        "spark.sql(\"SELECT lastName FROM People10M LIMIT 5\")"
      ],
      "metadata": {
        "colab": {
          "base_uri": "https://localhost:8080/",
          "height": 156
        },
        "id": "ixP-QiRRs0xy",
        "outputId": "766a3ae7-ce53-405b-9cfa-9c299ea534af"
      },
      "execution_count": 5,
      "outputs": [
        {
          "output_type": "execute_result",
          "data": {
            "text/plain": [
              "+----------+\n",
              "|  lastName|\n",
              "+----------+\n",
              "|Hirschmann|\n",
              "|    Cowper|\n",
              "|      Dome|\n",
              "|   Marshal|\n",
              "|     Bonar|\n",
              "+----------+"
            ],
            "text/html": [
              "<table border='1'>\n",
              "<tr><th>lastName</th></tr>\n",
              "<tr><td>Hirschmann</td></tr>\n",
              "<tr><td>Cowper</td></tr>\n",
              "<tr><td>Dome</td></tr>\n",
              "<tr><td>Marshal</td></tr>\n",
              "<tr><td>Bonar</td></tr>\n",
              "</table>\n"
            ]
          },
          "metadata": {},
          "execution_count": 5
        }
      ]
    },
    {
      "cell_type": "markdown",
      "source": [
        "`DESCRIBE` 명령을 사용하여 이 테이블의 스키마를 볼 수 있습니다.\n",
        "\n",
        "**스키마**는 테이블의 열과 해당 열 내의 데이터 유형을 정의하는 목록입니다."
      ],
      "metadata": {
        "id": "q5_7EgPVtOrR"
      }
    },
    {
      "cell_type": "code",
      "source": [
        "# People10M 테이블의 스키마 정보를 조회\n",
        "spark.sql(\"DESCRIBE People10M\")"
      ],
      "metadata": {
        "colab": {
          "base_uri": "https://localhost:8080/",
          "height": 223
        },
        "id": "s_8x3vKztKYJ",
        "outputId": "66f60f22-21fc-4a9f-fc56-d70dde224965"
      },
      "execution_count": 6,
      "outputs": [
        {
          "output_type": "execute_result",
          "data": {
            "text/plain": [
              "+----------+---------+-------+\n",
              "|  col_name|data_type|comment|\n",
              "+----------+---------+-------+\n",
              "|        id|      int|   NULL|\n",
              "| firstName|   string|   NULL|\n",
              "|middleName|   string|   NULL|\n",
              "|  lastName|   string|   NULL|\n",
              "|    gender|   string|   NULL|\n",
              "| birthDate|timestamp|   NULL|\n",
              "|       ssn|   string|   NULL|\n",
              "|    salary|      int|   NULL|\n",
              "+----------+---------+-------+"
            ],
            "text/html": [
              "<table border='1'>\n",
              "<tr><th>col_name</th><th>data_type</th><th>comment</th></tr>\n",
              "<tr><td>id</td><td>int</td><td>NULL</td></tr>\n",
              "<tr><td>firstName</td><td>string</td><td>NULL</td></tr>\n",
              "<tr><td>middleName</td><td>string</td><td>NULL</td></tr>\n",
              "<tr><td>lastName</td><td>string</td><td>NULL</td></tr>\n",
              "<tr><td>gender</td><td>string</td><td>NULL</td></tr>\n",
              "<tr><td>birthDate</td><td>timestamp</td><td>NULL</td></tr>\n",
              "<tr><td>ssn</td><td>string</td><td>NULL</td></tr>\n",
              "<tr><td>salary</td><td>int</td><td>NULL</td></tr>\n",
              "</table>\n"
            ]
          },
          "metadata": {},
          "execution_count": 6
        }
      ]
    },
    {
      "cell_type": "markdown",
      "source": [
        "## 쿼리 결과 표시\n",
        "\n",
        "`SELECT` 문으로 시작하는 쿼리는 자동으로 아래 결과를 표시합니다. 'WHERE' 절을 사용하여 주어진 조건이나 조건 집합을 충족하는 결과로 결과를 제한할 수 있습니다.\n",
        "\n",
        "다음 쿼리의 경우 결과 열을 `firstName`, `middleName`, `lastName` 및 `birthdate`로 제한합니다. 마지막에 'WHERE' 절을 사용하여 성별이 'F'로 나열된 1990년 이후에 태어난 사람들로 결과 집합을 제한 합니다.\n",
        "\n",
        "`birthDate`는 타임스탬프 유형이므로 `YEAR()` 함수를 사용하여 생년월일을 추출할 수 있습니다."
      ],
      "metadata": {
        "id": "pRM4kJ_JtjJq"
      }
    },
    {
      "cell_type": "code",
      "source": [
        "# People10M 테이블에서 gender가 'F'(여성)인 데이터를 조회\n",
        "spark.sql(\n",
        "    \"\"\"\n",
        "    SELECT firstName, middleName, lastName, birthdate, gender\n",
        "    FROM People10M\n",
        "    WHERE gender == 'F'\n",
        "    \"\"\"\n",
        ")"
      ],
      "metadata": {
        "colab": {
          "base_uri": "https://localhost:8080/",
          "height": 511
        },
        "id": "tBB7SxVGtfaZ",
        "outputId": "58b04ab8-685d-46a5-e190-0962b67c6b07"
      },
      "execution_count": 7,
      "outputs": [
        {
          "output_type": "execute_result",
          "data": {
            "text/plain": [
              "+----------+----------+-------------+-------------------+------+\n",
              "| firstName|middleName|     lastName|          birthdate|gender|\n",
              "+----------+----------+-------------+-------------------+------+\n",
              "|    Pennie|     Carry|   Hirschmann|1955-07-02 04:00:00|     F|\n",
              "|        An|     Amira|       Cowper|1992-02-08 05:00:00|     F|\n",
              "|     Quyen|    Marlen|         Dome|1970-10-11 04:00:00|     F|\n",
              "|   Coralie|  Antonina|      Marshal|1990-04-11 04:00:00|     F|\n",
              "|    Terrie|      Wava|        Bonar|1980-01-16 05:00:00|     F|\n",
              "|  Chassidy|Concepcion|Bourthouloume|1990-11-24 05:00:00|     F|\n",
              "|      Geri|    Tambra|        Mosby|1970-12-19 05:00:00|     F|\n",
              "|    Patria|     Nancy|      Arstall|1985-01-02 05:00:00|     F|\n",
              "|    Terese|  Alfredia|       Tocque|1967-11-17 05:00:00|     F|\n",
              "|      Wava|   Lyndsey|      Jeandon|1963-12-30 05:00:00|     F|\n",
              "|    Sophie|   Emerita|        Hearn|1979-09-17 04:00:00|     F|\n",
              "|     Jodie|   Tabetha|      Laneham|1959-01-31 05:00:00|     F|\n",
              "|  Marietta|     Mandi|      Yansons|1974-02-19 04:00:00|     F|\n",
              "|   Caridad|     Maire|       Snelle|1960-09-26 04:00:00|     F|\n",
              "|   Yasmine|       Meg|    Edworthye|1960-01-29 05:00:00|     F|\n",
              "|      Chan|      Jani|       Hartas|1986-12-05 05:00:00|     F|\n",
              "|Evangeline|   Wanetta|    Casserley|1961-09-29 04:00:00|     F|\n",
              "|    Elnora|     Kecia|       Lipman|1980-02-14 05:00:00|     F|\n",
              "|    Adelle|   Kathyrn|    Grigoriev|1978-11-14 05:00:00|     F|\n",
              "|      Mica|    Zandra|     Challens|1973-11-24 05:00:00|     F|\n",
              "+----------+----------+-------------+-------------------+------+\n",
              "only showing top 20 rows"
            ],
            "text/html": [
              "<table border='1'>\n",
              "<tr><th>firstName</th><th>middleName</th><th>lastName</th><th>birthdate</th><th>gender</th></tr>\n",
              "<tr><td>Pennie</td><td>Carry</td><td>Hirschmann</td><td>1955-07-02 04:00:00</td><td>F</td></tr>\n",
              "<tr><td>An</td><td>Amira</td><td>Cowper</td><td>1992-02-08 05:00:00</td><td>F</td></tr>\n",
              "<tr><td>Quyen</td><td>Marlen</td><td>Dome</td><td>1970-10-11 04:00:00</td><td>F</td></tr>\n",
              "<tr><td>Coralie</td><td>Antonina</td><td>Marshal</td><td>1990-04-11 04:00:00</td><td>F</td></tr>\n",
              "<tr><td>Terrie</td><td>Wava</td><td>Bonar</td><td>1980-01-16 05:00:00</td><td>F</td></tr>\n",
              "<tr><td>Chassidy</td><td>Concepcion</td><td>Bourthouloume</td><td>1990-11-24 05:00:00</td><td>F</td></tr>\n",
              "<tr><td>Geri</td><td>Tambra</td><td>Mosby</td><td>1970-12-19 05:00:00</td><td>F</td></tr>\n",
              "<tr><td>Patria</td><td>Nancy</td><td>Arstall</td><td>1985-01-02 05:00:00</td><td>F</td></tr>\n",
              "<tr><td>Terese</td><td>Alfredia</td><td>Tocque</td><td>1967-11-17 05:00:00</td><td>F</td></tr>\n",
              "<tr><td>Wava</td><td>Lyndsey</td><td>Jeandon</td><td>1963-12-30 05:00:00</td><td>F</td></tr>\n",
              "<tr><td>Sophie</td><td>Emerita</td><td>Hearn</td><td>1979-09-17 04:00:00</td><td>F</td></tr>\n",
              "<tr><td>Jodie</td><td>Tabetha</td><td>Laneham</td><td>1959-01-31 05:00:00</td><td>F</td></tr>\n",
              "<tr><td>Marietta</td><td>Mandi</td><td>Yansons</td><td>1974-02-19 04:00:00</td><td>F</td></tr>\n",
              "<tr><td>Caridad</td><td>Maire</td><td>Snelle</td><td>1960-09-26 04:00:00</td><td>F</td></tr>\n",
              "<tr><td>Yasmine</td><td>Meg</td><td>Edworthye</td><td>1960-01-29 05:00:00</td><td>F</td></tr>\n",
              "<tr><td>Chan</td><td>Jani</td><td>Hartas</td><td>1986-12-05 05:00:00</td><td>F</td></tr>\n",
              "<tr><td>Evangeline</td><td>Wanetta</td><td>Casserley</td><td>1961-09-29 04:00:00</td><td>F</td></tr>\n",
              "<tr><td>Elnora</td><td>Kecia</td><td>Lipman</td><td>1980-02-14 05:00:00</td><td>F</td></tr>\n",
              "<tr><td>Adelle</td><td>Kathyrn</td><td>Grigoriev</td><td>1978-11-14 05:00:00</td><td>F</td></tr>\n",
              "<tr><td>Mica</td><td>Zandra</td><td>Challens</td><td>1973-11-24 05:00:00</td><td>F</td></tr>\n",
              "</table>\n",
              "only showing top 20 rows\n"
            ]
          },
          "metadata": {},
          "execution_count": 7
        }
      ]
    },
    {
      "cell_type": "markdown",
      "source": [
        "## 수치 계산\n",
        "\n",
        "Spark SQL에는 표준 SQL에서도 사용되는 많은 기본 제공 함수가 포함되어 있습니다. 이를 사용하여 규칙에 따라 새 열을 만들 수 있습니다. 여기서는 간단한 수학 함수를 사용하여 salary의 20%를 계산합니다. 키워드 'AS'를 사용하여 새 열을 'savings'로 이름을 바꿉니다."
      ],
      "metadata": {
        "id": "7I0O2jOAuX8Z"
      }
    },
    {
      "cell_type": "code",
      "source": [
        "# People10M 테이블에서 데이터를 조회하며, 급여(salary)의 20%를 계산한 새로운 컬럼(savings)을 추가\n",
        "result = spark.sql(\"\"\"\n",
        "SELECT\n",
        "    id,                 -- 개인 식별 ID\n",
        "    firstName,          -- 이름\n",
        "    middleName,         -- 중간 이름\n",
        "    lastName,           -- 성\n",
        "    gender,             -- 성별\n",
        "    birthDate,          -- 생년월일\n",
        "    ssn,                -- 사회보장번호\n",
        "    salary,             -- 급여\n",
        "    (salary * 0.2) AS savings -- 급여의 20%를 계산한 새로운 컬럼 (savings)\n",
        "FROM People10M\n",
        "\"\"\")\n",
        "\n",
        "# 상위 5개 행만 결과 출력\n",
        "result.limit(5).show()"
      ],
      "metadata": {
        "colab": {
          "base_uri": "https://localhost:8080/"
        },
        "id": "EASOhrO2uPJI",
        "outputId": "167f34da-2e36-47a2-d972-04415d3f7919"
      },
      "execution_count": 8,
      "outputs": [
        {
          "output_type": "stream",
          "name": "stdout",
          "text": [
            "+---+---------+----------+----------+------+-------------------+-----------+------+-------+\n",
            "| id|firstName|middleName|  lastName|gender|          birthDate|        ssn|salary|savings|\n",
            "+---+---------+----------+----------+------+-------------------+-----------+------+-------+\n",
            "|  1|   Pennie|     Carry|Hirschmann|     F|1955-07-02 04:00:00|981-43-9345| 56172|11234.4|\n",
            "|  2|       An|     Amira|    Cowper|     F|1992-02-08 05:00:00|978-97-8086| 40203| 8040.6|\n",
            "|  3|    Quyen|    Marlen|      Dome|     F|1970-10-11 04:00:00|957-57-8246| 53417|10683.4|\n",
            "|  4|  Coralie|  Antonina|   Marshal|     F|1990-04-11 04:00:00|963-39-4885| 94727|18945.4|\n",
            "|  5|   Terrie|      Wava|     Bonar|     F|1980-01-16 05:00:00|964-49-8051| 79908|15981.6|\n",
            "+---+---------+----------+----------+------+-------------------+-----------+------+-------+\n",
            "\n"
          ]
        }
      ]
    },
    {
      "cell_type": "markdown",
      "source": [
        "## Temporary View 생성\n",
        "\n",
        "**temporary view**는 데이터 탐색에 유용합니다. 아래 셀에서 마지막 쿼리의 모든 정보를 포함하는 temporary view를 만들고 또 다른 새 column인 `birthYear`를 추가합니다."
      ],
      "metadata": {
        "id": "TjrOeSpTvNRE"
      }
    },
    {
      "cell_type": "code",
      "source": [
        "# People10M 테이블에서 데이터를 조회하며, birthDate 컬럼에서 연도를 추출하여 birthYear라는 새로운 컬럼을 추가하고,\n",
        "# 결과를 PeopleSavings라는 임시 뷰(Temporary View)로 생성 또는 대체\n",
        "result = spark.sql(\"\"\"\n",
        "CREATE OR REPLACE TEMPORARY VIEW PeopleSavings AS\n",
        "SELECT\n",
        "    id,                 -- 개인 식별 ID\n",
        "    firstName,          -- 이름\n",
        "    middleName,         -- 중간 이름\n",
        "    lastName,           -- 성\n",
        "    gender,             -- 성별\n",
        "    birthDate,          -- 생년월일\n",
        "    ssn,                -- 사회보장번호\n",
        "    salary,             -- 급여\n",
        "    YEAR(birthDate) AS birthYear -- 생년월일에서 연도를 추출하여 birthYear 컬럼 추가\n",
        "FROM People10M\n",
        "\"\"\")"
      ],
      "metadata": {
        "id": "RPQ5UoIZu7SY"
      },
      "execution_count": 9,
      "outputs": []
    },
    {
      "cell_type": "code",
      "source": [
        "spark.sql(\"SELECT * FROM PeopleSavings limit 5;\")"
      ],
      "metadata": {
        "colab": {
          "base_uri": "https://localhost:8080/",
          "height": 156
        },
        "id": "uiSiif3Jv3di",
        "outputId": "d0301292-b762-44b7-b6d7-c2c2e211cb4f"
      },
      "execution_count": 10,
      "outputs": [
        {
          "output_type": "execute_result",
          "data": {
            "text/plain": [
              "+---+---------+----------+----------+------+-------------------+-----------+------+---------+\n",
              "| id|firstName|middleName|  lastName|gender|          birthDate|        ssn|salary|birthYear|\n",
              "+---+---------+----------+----------+------+-------------------+-----------+------+---------+\n",
              "|  1|   Pennie|     Carry|Hirschmann|     F|1955-07-02 04:00:00|981-43-9345| 56172|     1955|\n",
              "|  2|       An|     Amira|    Cowper|     F|1992-02-08 05:00:00|978-97-8086| 40203|     1992|\n",
              "|  3|    Quyen|    Marlen|      Dome|     F|1970-10-11 04:00:00|957-57-8246| 53417|     1970|\n",
              "|  4|  Coralie|  Antonina|   Marshal|     F|1990-04-11 04:00:00|963-39-4885| 94727|     1990|\n",
              "|  5|   Terrie|      Wava|     Bonar|     F|1980-01-16 05:00:00|964-49-8051| 79908|     1980|\n",
              "+---+---------+----------+----------+------+-------------------+-----------+------+---------+"
            ],
            "text/html": [
              "<table border='1'>\n",
              "<tr><th>id</th><th>firstName</th><th>middleName</th><th>lastName</th><th>gender</th><th>birthDate</th><th>ssn</th><th>salary</th><th>birthYear</th></tr>\n",
              "<tr><td>1</td><td>Pennie</td><td>Carry</td><td>Hirschmann</td><td>F</td><td>1955-07-02 04:00:00</td><td>981-43-9345</td><td>56172</td><td>1955</td></tr>\n",
              "<tr><td>2</td><td>An</td><td>Amira</td><td>Cowper</td><td>F</td><td>1992-02-08 05:00:00</td><td>978-97-8086</td><td>40203</td><td>1992</td></tr>\n",
              "<tr><td>3</td><td>Quyen</td><td>Marlen</td><td>Dome</td><td>F</td><td>1970-10-11 04:00:00</td><td>957-57-8246</td><td>53417</td><td>1970</td></tr>\n",
              "<tr><td>4</td><td>Coralie</td><td>Antonina</td><td>Marshal</td><td>F</td><td>1990-04-11 04:00:00</td><td>963-39-4885</td><td>94727</td><td>1990</td></tr>\n",
              "<tr><td>5</td><td>Terrie</td><td>Wava</td><td>Bonar</td><td>F</td><td>1980-01-16 05:00:00</td><td>964-49-8051</td><td>79908</td><td>1980</td></tr>\n",
              "</table>\n"
            ]
          },
          "metadata": {},
          "execution_count": 10
        }
      ]
    },
    {
      "cell_type": "markdown",
      "source": [
        "## Query Views\n",
        "\n",
        "대부분의 경우 테이블을 쿼리하는 것과 똑같이 뷰를 쿼리할 수 있습니다. 아래 쿼리는 내장 함수 `AVG()`를 사용하여 `birthYear`로 **grouped by** 된 `avgSalary`를 계산합니다. 이것은 집계 함수로, 일련의 값에 대해 계산을 수행한다는 의미입니다. 요약하려는 값의 하위 집합을 식별하려면 'GROUP BY' 절을 포함해야 합니다.\n",
        "\n",
        "마지막 절인 `ORDER BY`는 행이 나타나는 순서를 제어할 열을 선언하고 키워드 `DESC`는 행이 내림차순으로 나타남을 의미합니다.\n",
        "\n",
        "`AVG()` 주위에 `ROUND()` 함수를 사용하여 가장 가까운 센트로 반올림합니다."
      ],
      "metadata": {
        "id": "5QTKe2pTxhAH"
      }
    },
    {
      "cell_type": "code",
      "source": [
        "# PeopleSavings 임시 뷰에서 birthYear(출생 연도)별로 평균 급여(salary)를 계산하여\n",
        "# 평균 급여가 높은 순서로 정렬하는 쿼리\n",
        "result = spark.sql(\n",
        "    \"\"\"\n",
        "    SELECT\n",
        "        birthYear,                    -- 출생 연도\n",
        "        ROUND(AVG(salary), 2) AS avgSalary   -- 평균 급여를 소수점 둘째 자리로 반올림하여 avgSalary로 이름 지정\n",
        "    FROM PeopleSavings               -- 데이터를 조회할 임시 뷰\n",
        "    GROUP BY birthYear               -- 출생 연도를 기준으로 그룹화\n",
        "    ORDER BY avgSalary DESC;         -- 평균 급여(avgSalary)가 높은 순서로 정렬\n",
        "    \"\"\"\n",
        ")\n",
        "\n",
        "result.limit(5)"
      ],
      "metadata": {
        "colab": {
          "base_uri": "https://localhost:8080/",
          "height": 156
        },
        "id": "PvMsumzWxYLL",
        "outputId": "f294e4c2-3e94-4eec-a811-2ca11ca4181d"
      },
      "execution_count": 13,
      "outputs": [
        {
          "output_type": "execute_result",
          "data": {
            "text/plain": [
              "+---------+---------+\n",
              "|birthYear|avgSalary|\n",
              "+---------+---------+\n",
              "|     2000| 83845.33|\n",
              "|     1981| 83722.41|\n",
              "|     1988| 80691.93|\n",
              "|     1961| 78703.44|\n",
              "|     1974| 78628.71|\n",
              "+---------+---------+"
            ],
            "text/html": [
              "<table border='1'>\n",
              "<tr><th>birthYear</th><th>avgSalary</th></tr>\n",
              "<tr><td>2000</td><td>83845.33</td></tr>\n",
              "<tr><td>1981</td><td>83722.41</td></tr>\n",
              "<tr><td>1988</td><td>80691.93</td></tr>\n",
              "<tr><td>1961</td><td>78703.44</td></tr>\n",
              "<tr><td>1974</td><td>78628.71</td></tr>\n",
              "</table>\n"
            ]
          },
          "metadata": {},
          "execution_count": 13
        }
      ]
    },
    {
      "cell_type": "markdown",
      "source": [
        "## 새 테이블 정의\n",
        "\n",
        "이제 Parquet을 사용하여 테이블을 만드는 방법을 보여드리겠습니다. Parquet는 오픈 소스 열 기반(column-based) 파일 형식입니다. Apache Spark는 다양한 파일 형식을 지원합니다. `USING` 키워드로 테이블을 작성하는 방법을 지정할 수 있습니다.\n",
        "\n",
        "\n",
        "지금은 새 테이블을 만드는 데 사용할 명령에 중점을 둘 것입니다.\n",
        "\n",
        "이 데이터에는 1880년부터 2016년까지 연도별로 미국에서 이름의 상대적인 인기도에 대한 정보가 포함되어 있습니다.\n",
        "\n",
        "`Line 1`: 테이블은 고유한 이름을 가져야 합니다. `DROP TABLE IF EXISTS` 명령을 포함하면 이 테이블이 이미 생성된 경우에도 다음 행(`CREATE TABLE`)이 성공적으로 실행될 수 있습니다. 줄 끝에 있는 세미콜론을 사용하면 동일한 셀에서 다른 명령을 실행할 수 있습니다.\n",
        "\n",
        "`Line 2`: `ssaNames`라는 테이블을 생성하고 데이터 소스 유형(`parquet`)을 정의하며 따라야 할 몇 가지 선택적 매개변수가 있음을 나타냅니다..\n",
        "\n",
        "`Line 3`: 오브젝트 스토리지의 파일 경로를 식별합니다.\n",
        "\n",
        "`Line 4`: 테이블의 첫 번째 줄이 헤더로 처리되어야 함을 나타냅니다."
      ],
      "metadata": {
        "id": "yuLvX80WyH3P"
      }
    },
    {
      "cell_type": "code",
      "source": [
        "# 기존에 ssaNames라는 테이블이 존재하면 삭제\n",
        "spark.sql(\"\"\"\n",
        "    DROP TABLE IF EXISTS ssaNames\n",
        "\"\"\")\n",
        "\n",
        "# ssaNames라는 새로운 테이블 생성\n",
        "# 테이블은 csv 파일을 데이터 소스로 사용하며, 해당 테이블의 메타데이터는 스파크의 카탈로그에 저장됩니다.\n",
        "spark.sql(\"\"\"\n",
        "    CREATE TABLE ssaNames\n",
        "    USING csv                -- csv 파일 형식을 사용\n",
        "    OPTIONS (                -- csv 파일 관련 옵션 지정\n",
        "        path '/content/drive/Othercomputers/내 컴퓨터/BigDataDatasets/babyNamesUSYOB-mostpopular.csv',\n",
        "        header 'true'        -- 첫 번째 행을 컬럼 헤더로 사용\n",
        "    )\n",
        "\"\"\")"
      ],
      "metadata": {
        "colab": {
          "base_uri": "https://localhost:8080/",
          "height": 25
        },
        "id": "OzztcotR2W9o",
        "outputId": "9aaf0d55-d5e5-4891-fcc0-27286823114c"
      },
      "execution_count": 14,
      "outputs": [
        {
          "output_type": "execute_result",
          "data": {
            "text/plain": [
              "++\n",
              "||\n",
              "++\n",
              "++"
            ],
            "text/html": [
              "<table border='1'>\n",
              "<tr><th></th></tr>\n",
              "</table>\n"
            ]
          },
          "metadata": {},
          "execution_count": 14
        }
      ]
    },
    {
      "cell_type": "code",
      "source": [
        "spark.sql(\"SELECT * FROM ssaNames LIMIT 5\")"
      ],
      "metadata": {
        "colab": {
          "base_uri": "https://localhost:8080/",
          "height": 156
        },
        "id": "0R9SDE4K0zZY",
        "outputId": "b0945cb5-ab82-40d0-b231-93448eb77d06"
      },
      "execution_count": 15,
      "outputs": [
        {
          "output_type": "execute_result",
          "data": {
            "text/plain": [
              "+-----+-----------+---------+---+------+\n",
              "|index|YearOfBirth|     Name|Sex|Number|\n",
              "+-----+-----------+---------+---+------+\n",
              "|    0|       1880|     Mary|  F|  7065|\n",
              "|    1|       1880|     Anna|  F|  2604|\n",
              "|    2|       1880|     Emma|  F|  2003|\n",
              "|    3|       1880|Elizabeth|  F|  1939|\n",
              "|    4|       1880|   Minnie|  F|  1746|\n",
              "+-----+-----------+---------+---+------+"
            ],
            "text/html": [
              "<table border='1'>\n",
              "<tr><th>index</th><th>YearOfBirth</th><th>Name</th><th>Sex</th><th>Number</th></tr>\n",
              "<tr><td>0</td><td>1880</td><td>Mary</td><td>F</td><td>7065</td></tr>\n",
              "<tr><td>1</td><td>1880</td><td>Anna</td><td>F</td><td>2604</td></tr>\n",
              "<tr><td>2</td><td>1880</td><td>Emma</td><td>F</td><td>2003</td></tr>\n",
              "<tr><td>3</td><td>1880</td><td>Elizabeth</td><td>F</td><td>1939</td></tr>\n",
              "<tr><td>4</td><td>1880</td><td>Minnie</td><td>F</td><td>1746</td></tr>\n",
              "</table>\n"
            ]
          },
          "metadata": {},
          "execution_count": 15
        }
      ]
    },
    {
      "cell_type": "markdown",
      "source": [
        "## 두 테이블 join\n",
        "\n",
        "테이들블을 결합하여 데이터가 어떻게 관련되어 있는지 파악할 수 있습니다. 예를 들어, 다음과 같은 내용이 궁금할 수 있습니다.\n",
        "> 이름과 성, 생년월일, 급여 등이 저장된 `People10M` 데이터 세트에 얼마나 많은 흔한 이름이 나타납니까?\n",
        "\n",
        "join을 사용하여 이 질문에 답할 것입니다. 다음 일련의 단계로 join을 수행합니다.\n",
        "- 인기 있는 이름이 저장된 `ssaNames` table에서 중복이 제거된 이름으로 구성된 temporary view 생성\n",
        "- `People10M` table에서 중목이 제거된 이름으로 구성된 temporary view 생성  \n",
        "- 두개의 temporary view에 대해 join 실행"
      ],
      "metadata": {
        "id": "o7bp7Kxh3sKU"
      }
    },
    {
      "cell_type": "code",
      "source": [
        "# ssaNames 테이블에서 중복이 제거된 이름(Name)으로 구성된 임시 뷰(Temporary View) 생성\n",
        "# 결과는 UniqueNames라는 임시 뷰에 저장됩니다.\n",
        "spark.sql(\"\"\"\n",
        "CREATE OR REPLACE TEMP VIEW UniqueNames AS\n",
        "    SELECT DISTINCT Name   -- Name 컬럼에서 중복을 제거한 고유 값만 선택\n",
        "    FROM ssaNames                -- 데이터를 조회할 원본 테이블\n",
        "\"\"\")\n"
      ],
      "metadata": {
        "colab": {
          "base_uri": "https://localhost:8080/",
          "height": 25
        },
        "id": "ux7_5KS14q0W",
        "outputId": "f5f94e80-04fc-4ce8-dd73-83f05fd4ca1a"
      },
      "execution_count": 16,
      "outputs": [
        {
          "output_type": "execute_result",
          "data": {
            "text/plain": [
              "++\n",
              "||\n",
              "++\n",
              "++"
            ],
            "text/html": [
              "<table border='1'>\n",
              "<tr><th></th></tr>\n",
              "</table>\n"
            ]
          },
          "metadata": {},
          "execution_count": 16
        }
      ]
    },
    {
      "cell_type": "code",
      "source": [
        "# People10M 테이블에서 중복이 제거된 이름(firstName)으로 구성된 임시 뷰(Temporary View) 생성\n",
        "# 컬럼 이름을 Name으로 변경하여 고유한 값만 선택합니다.\n",
        "# 결과는 UniquePeople10M라는 임시 뷰에 저장됩니다.\n",
        "spark.sql(\"\"\"\n",
        "CREATE OR REPLACE TEMP VIEW UniquePeople10M AS\n",
        "    SELECT DISTINCT firstName AS Name    -- firstName 컬럼에서 중복을 제거하고 컬럼 이름을 Name으로 변경\n",
        "    FROM People10M                     -- 데이터를 조회할 원본 테이블\n",
        "\"\"\")"
      ],
      "metadata": {
        "colab": {
          "base_uri": "https://localhost:8080/",
          "height": 25
        },
        "id": "oqczY4N-5iKi",
        "outputId": "15cbe9b0-f988-42a9-edd2-298da482d320"
      },
      "execution_count": 18,
      "outputs": [
        {
          "output_type": "execute_result",
          "data": {
            "text/plain": [
              "++\n",
              "||\n",
              "++\n",
              "++"
            ],
            "text/html": [
              "<table border='1'>\n",
              "<tr><th></th></tr>\n",
              "</table>\n"
            ]
          },
          "metadata": {},
          "execution_count": 18
        }
      ]
    },
    {
      "cell_type": "code",
      "source": [
        "# 두 개의 임시 뷰를 조인하여 공통된 이름의 수를 계산하고\n",
        "# 결과를 common_name_count라는 컬럼 이름으로 반환합니다.\n",
        "# \"JOIN\"을 사용하여 UniquePeople10M과 UniqueNames 임시 뷰를 Name 컬럼을 기준으로 조인합니다.\n",
        "result = spark.sql(\"\"\"\n",
        "SELECT COUNT(*) AS common_name_count     -- 조인된 결과에서 공통된 이름의 수를 계산\n",
        "FROM UniquePeople10M p               -- UniquePeople10M 임시 뷰\n",
        "JOIN UniqueNames s                         -- UniqueNames 임시 뷰\n",
        "ON p.Name = s.Name                        -- 두 뷰에서 Name 컬럼을 기준으로 조인\n",
        "\"\"\")\n",
        "\n",
        "# 결과 출력\n",
        "# 공통된 이름의 수를 출력\n",
        "result.show()"
      ],
      "metadata": {
        "colab": {
          "base_uri": "https://localhost:8080/"
        },
        "id": "7VDVcK9f3oyK",
        "outputId": "97c2b595-3771-4f9f-b1ea-4445fe7bf9c4"
      },
      "execution_count": 19,
      "outputs": [
        {
          "output_type": "stream",
          "name": "stdout",
          "text": [
            "+-----------------+\n",
            "|common_name_count|\n",
            "+-----------------+\n",
            "|              570|\n",
            "+-----------------+\n",
            "\n"
          ]
        }
      ]
    },
    {
      "cell_type": "markdown",
      "source": [
        "## temporary view 생성\n",
        "\n",
        "다음으로 실제 join을 쉽게 읽고 쓸 수 있도록 두 개의 temporary view 를 생성합니다."
      ],
      "metadata": {
        "id": "1_Bqtwho7sNb"
      }
    },
    {
      "cell_type": "code",
      "source": [
        "# ssaNames 테이블에서 Name 컬럼의 고유한 값(DISTINCT)을 선택하여 UniqueNames라는 임시 뷰 생성\n",
        "spark.sql(\"\"\"\n",
        "CREATE OR REPLACE TEMP VIEW UniqueNames AS\n",
        "    SELECT DISTINCT Name       -- Name 컬럼의 중복을 제거한 고유 값만 선택\n",
        "    FROM ssaNames              -- 데이터를 가져올 원본 테이블\n",
        "\"\"\")\n",
        "\n",
        "# People10M 테이블에서 firstName 컬럼의 고유한 값(DISTINCT)을 선택하여 PeopleDistinctNames라는 임시 뷰 생성\n",
        "spark.sql(\"\"\"\n",
        "CREATE OR REPLACE TEMPORARY VIEW PeopleDistinctNames AS\n",
        "  SELECT DISTINCT firstName   -- firstName 컬럼의 중복을 제거한 고유 값만 선택\n",
        "  FROM People10M              -- 데이터를 가져올 원본 테이블\n",
        "\"\"\")"
      ],
      "metadata": {
        "colab": {
          "base_uri": "https://localhost:8080/",
          "height": 25
        },
        "id": "sbcbPQQ337Lt",
        "outputId": "2a33b22c-46a7-4d5f-db6e-3e38ff7f0931"
      },
      "execution_count": 20,
      "outputs": [
        {
          "output_type": "execute_result",
          "data": {
            "text/plain": [
              "++\n",
              "||\n",
              "++\n",
              "++"
            ],
            "text/html": [
              "<table border='1'>\n",
              "<tr><th></th></tr>\n",
              "</table>\n"
            ]
          },
          "metadata": {},
          "execution_count": 20
        }
      ]
    },
    {
      "cell_type": "markdown",
      "source": [
        "## join 실행\n",
        "\n",
        "이제 temporary view를 사용하여 두 데이터 세트를 **join**할 수 있습니다.\n",
        "\n",
        "default로 여기에 표시된 조인 유형은 'INNER'입니다. 즉, 결과에는 두 세트의 교집합이 포함되며 두 세트에 없는 이름은 표시되지 않습니다. 기본값이므로 join 유형을 지정하지 않았습니다."
      ],
      "metadata": {
        "id": "n-FbNERh8wDy"
      }
    },
    {
      "cell_type": "code",
      "source": [
        "# PeopleDistinctNames 임시 뷰와 UniqueNames 임시 뷰를 조인하여 공통된 이름(firstName)을 조회하는 쿼리\n",
        "spark.sql(\"\"\"\n",
        "SELECT firstName                      -- 결과로 반환할 컬럼: PeopleDistinctNames 뷰의 firstName 컬럼\n",
        "FROM PeopleDistinctNames              -- 첫 번째 데이터 소스: PeopleDistinctNames 임시 뷰\n",
        "JOIN UniqueNames ON firstName = Name  -- 두 번째 데이터 소스: UniqueNames 임시 뷰\n",
        "                                       -- 조인 조건: PeopleDistinctNames의 firstName과 UniqueNames의 Name 컬럼이 같은 경우\n",
        "\"\"\")"
      ],
      "metadata": {
        "colab": {
          "base_uri": "https://localhost:8080/",
          "height": 511
        },
        "id": "AQP38dGO8wuw",
        "outputId": "d4bfb05f-da91-4582-ba94-090c77789e5e"
      },
      "execution_count": 21,
      "outputs": [
        {
          "output_type": "execute_result",
          "data": {
            "text/plain": [
              "+---------+\n",
              "|firstName|\n",
              "+---------+\n",
              "|     Faye|\n",
              "|   Alayna|\n",
              "|  Carolyn|\n",
              "| Angelina|\n",
              "| Samantha|\n",
              "|    Elvia|\n",
              "|   Halley|\n",
              "|    Grace|\n",
              "| Pearline|\n",
              "|     Kaci|\n",
              "|   Katina|\n",
              "|  Adeline|\n",
              "|     Elma|\n",
              "|     Nola|\n",
              "|   Goldie|\n",
              "|    Dovie|\n",
              "|   Andrea|\n",
              "| Christal|\n",
              "|   Eloise|\n",
              "|  Elouise|\n",
              "+---------+\n",
              "only showing top 20 rows"
            ],
            "text/html": [
              "<table border='1'>\n",
              "<tr><th>firstName</th></tr>\n",
              "<tr><td>Faye</td></tr>\n",
              "<tr><td>Alayna</td></tr>\n",
              "<tr><td>Carolyn</td></tr>\n",
              "<tr><td>Angelina</td></tr>\n",
              "<tr><td>Samantha</td></tr>\n",
              "<tr><td>Elvia</td></tr>\n",
              "<tr><td>Halley</td></tr>\n",
              "<tr><td>Grace</td></tr>\n",
              "<tr><td>Pearline</td></tr>\n",
              "<tr><td>Kaci</td></tr>\n",
              "<tr><td>Katina</td></tr>\n",
              "<tr><td>Adeline</td></tr>\n",
              "<tr><td>Elma</td></tr>\n",
              "<tr><td>Nola</td></tr>\n",
              "<tr><td>Goldie</td></tr>\n",
              "<tr><td>Dovie</td></tr>\n",
              "<tr><td>Andrea</td></tr>\n",
              "<tr><td>Christal</td></tr>\n",
              "<tr><td>Eloise</td></tr>\n",
              "<tr><td>Elouise</td></tr>\n",
              "</table>\n",
              "only showing top 20 rows\n"
            ]
          },
          "metadata": {},
          "execution_count": 21
        }
      ]
    },
    {
      "cell_type": "markdown",
      "source": [
        "## How many names?\n",
        "\n",
        "이 질문에 답하기 위해 이 조인을 수행하고 결과에 레코드 수를 포함할 수 있습니다."
      ],
      "metadata": {
        "id": "9gHfhCwp9LD5"
      }
    },
    {
      "cell_type": "code",
      "source": [
        "# PeopleDistinctNames 임시 뷰와 UniqueNames 임시 뷰를 조인하여 공통된 이름의 수를 계산\n",
        "spark.sql(\"\"\"\n",
        "SELECT count(*)                     -- 조인 결과의 전체 행 수(공통된 이름의 개수)를 계산\n",
        "FROM PeopleDistinctNames            -- 첫 번째 데이터 소스: PeopleDistinctNames 임시 뷰\n",
        "JOIN UniqueNames ON firstName = Name     -- 두 번째 데이터 소스: UniqueNames 임시 뷰\n",
        "                                      -- 조인 조건: PeopleDistinctNames의 firstName과 UniqueNames의 Name 컬럼이 동일한 경우\n",
        "\"\"\")"
      ],
      "metadata": {
        "colab": {
          "base_uri": "https://localhost:8080/",
          "height": 65
        },
        "id": "i0WhK2Bb9C6r",
        "outputId": "d4130d54-1d4b-402a-c0a3-f95ca66680cd"
      },
      "execution_count": 22,
      "outputs": [
        {
          "output_type": "execute_result",
          "data": {
            "text/plain": [
              "+--------+\n",
              "|count(1)|\n",
              "+--------+\n",
              "|     570|\n",
              "+--------+"
            ],
            "text/html": [
              "<table border='1'>\n",
              "<tr><th>count(1)</th></tr>\n",
              "<tr><td>570</td></tr>\n",
              "</table>\n"
            ]
          },
          "metadata": {},
          "execution_count": 22
        }
      ]
    },
    {
      "cell_type": "code",
      "source": [],
      "metadata": {
        "id": "EMzLFBQf9Uux"
      },
      "execution_count": null,
      "outputs": []
    }
  ]
}