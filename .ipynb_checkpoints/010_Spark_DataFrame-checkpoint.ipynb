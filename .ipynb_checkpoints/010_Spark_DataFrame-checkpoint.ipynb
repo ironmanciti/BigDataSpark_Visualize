{
 "cells": [
  {
   "cell_type": "markdown",
   "id": "54abee10",
   "metadata": {
    "id": "54abee10"
   },
   "source": [
    "# PySpark DataFrame\n",
    "\n",
    "- Colab 에서 실행"
   ]
  },
  {
   "cell_type": "code",
   "execution_count": 1,
   "id": "-nSLjvb_r1HD",
   "metadata": {
    "colab": {
     "base_uri": "https://localhost:8080/",
     "height": 224
    },
    "id": "-nSLjvb_r1HD",
    "outputId": "0b76bbbd-2beb-44d9-bd9d-f7affa448ae6"
   },
   "outputs": [
    {
     "data": {
      "text/html": [
       "\n",
       "            <div>\n",
       "                <p><b>SparkSession - in-memory</b></p>\n",
       "                \n",
       "        <div>\n",
       "            <p><b>SparkContext</b></p>\n",
       "\n",
       "            <p><a href=\"http://10ca59f588e0:4040\">Spark UI</a></p>\n",
       "\n",
       "            <dl>\n",
       "              <dt>Version</dt>\n",
       "                <dd><code>v3.5.4</code></dd>\n",
       "              <dt>Master</dt>\n",
       "                <dd><code>local[*]</code></dd>\n",
       "              <dt>AppName</dt>\n",
       "                <dd><code>DataFrame</code></dd>\n",
       "            </dl>\n",
       "        </div>\n",
       "        \n",
       "            </div>\n",
       "        "
      ],
      "text/plain": [
       "<pyspark.sql.session.SparkSession at 0x7db87e924430>"
      ]
     },
     "execution_count": 1,
     "metadata": {},
     "output_type": "execute_result"
    }
   ],
   "source": [
    "from pyspark.sql import SparkSession\n",
    "\n",
    "# SparkSession은 PySpark 애플리케이션의 진입점으로,\n",
    "# 데이터프레임 생성, 데이터 읽기/쓰기, SQL 작업 등을 수행할 수 있게 해줍니다.\n",
    "spark = SparkSession.builder \\\n",
    "    .appName(\"DataFrame\") \\\n",
    "    .config(\"spark.sql.repl.eagerEval.enabled\", True) \\\n",
    "    .getOrCreate()\n",
    "\n",
    "spark"
   ]
  },
  {
   "cell_type": "markdown",
   "id": "4841a395",
   "metadata": {
    "id": "4841a395"
   },
   "source": [
    "### 데이터셋 읽기"
   ]
  },
  {
   "cell_type": "code",
   "execution_count": 2,
   "id": "hW31gpBmEhQc",
   "metadata": {
    "colab": {
     "base_uri": "https://localhost:8080/"
    },
    "id": "hW31gpBmEhQc",
    "outputId": "d2835189-2059-41c2-e3ba-a713dc2870f6"
   },
   "outputs": [
    {
     "name": "stdout",
     "output_type": "stream",
     "text": [
      "Mounted at /content/drive\n"
     ]
    }
   ],
   "source": [
    "from google.colab import drive\n",
    "\n",
    "# Google Drive 마운트\n",
    "drive.mount('/content/drive')"
   ]
  },
  {
   "cell_type": "code",
   "execution_count": 3,
   "id": "0b56980f",
   "metadata": {
    "colab": {
     "base_uri": "https://localhost:8080/",
     "height": 156
    },
    "id": "0b56980f",
    "outputId": "d3e03250-84a0-43c0-940e-c8e27f0e55e7"
   },
   "outputs": [
    {
     "data": {
      "text/html": [
       "<table border='1'>\n",
       "<tr><th>PassengerId</th><th>Survived</th><th>Pclass</th><th>Name</th><th>Sex</th><th>Age</th><th>SibSp</th><th>Parch</th><th>Ticket</th><th>Fare</th><th>Cabin</th><th>Embarked</th></tr>\n",
       "<tr><td>1</td><td>0</td><td>3</td><td>Braund, Mr. Owen ...</td><td>male</td><td>22.0</td><td>1</td><td>0</td><td>A/5 21171</td><td>7.25</td><td>NULL</td><td>S</td></tr>\n",
       "<tr><td>2</td><td>1</td><td>1</td><td>Cumings, Mrs. Joh...</td><td>female</td><td>38.0</td><td>1</td><td>0</td><td>PC 17599</td><td>71.2833</td><td>C85</td><td>C</td></tr>\n",
       "<tr><td>3</td><td>1</td><td>3</td><td>Heikkinen, Miss. ...</td><td>female</td><td>26.0</td><td>0</td><td>0</td><td>STON/O2. 3101282</td><td>7.925</td><td>NULL</td><td>S</td></tr>\n",
       "<tr><td>4</td><td>1</td><td>1</td><td>Futrelle, Mrs. Ja...</td><td>female</td><td>35.0</td><td>1</td><td>0</td><td>113803</td><td>53.1</td><td>C123</td><td>S</td></tr>\n",
       "<tr><td>5</td><td>0</td><td>3</td><td>Allen, Mr. Willia...</td><td>male</td><td>35.0</td><td>0</td><td>0</td><td>373450</td><td>8.05</td><td>NULL</td><td>S</td></tr>\n",
       "</table>\n"
      ],
      "text/plain": [
       "+-----------+--------+------+--------------------+------+----+-----+-----+----------------+-------+-----+--------+\n",
       "|PassengerId|Survived|Pclass|                Name|   Sex| Age|SibSp|Parch|          Ticket|   Fare|Cabin|Embarked|\n",
       "+-----------+--------+------+--------------------+------+----+-----+-----+----------------+-------+-----+--------+\n",
       "|          1|       0|     3|Braund, Mr. Owen ...|  male|22.0|    1|    0|       A/5 21171|   7.25| NULL|       S|\n",
       "|          2|       1|     1|Cumings, Mrs. Joh...|female|38.0|    1|    0|        PC 17599|71.2833|  C85|       C|\n",
       "|          3|       1|     3|Heikkinen, Miss. ...|female|26.0|    0|    0|STON/O2. 3101282|  7.925| NULL|       S|\n",
       "|          4|       1|     1|Futrelle, Mrs. Ja...|female|35.0|    1|    0|          113803|   53.1| C123|       S|\n",
       "|          5|       0|     3|Allen, Mr. Willia...|  male|35.0|    0|    0|          373450|   8.05| NULL|       S|\n",
       "+-----------+--------+------+--------------------+------+----+-----+-----+----------------+-------+-----+--------+"
      ]
     },
     "execution_count": 3,
     "metadata": {},
     "output_type": "execute_result"
    }
   ],
   "source": [
    " # Titanic 데이터셋 CSV 파일 경로\n",
    "file_location = \"/content/drive/MyDrive/Colab Notebooks/BigData/datasets/titanic.csv\"\n",
    "file_type = \"csv\"  # 파일 형식을 CSV로 지정\n",
    "\n",
    "# CSV 파일 옵션 설정\n",
    "infer_schema = \"true\"  # 스키마를 자동으로 추론\n",
    "first_row_is_header = \"true\"  # 첫 번째 행을 헤더로 간주\n",
    "delimiter = \",\"  # 필드 구분자를 쉼표(,)로 설정\n",
    "\n",
    "# 지정한 옵션을 사용하여 CSV 파일을 읽어 DataFrame 생성\n",
    "df = spark.read.format(file_type) \\\n",
    "  .option(\"inferSchema\", infer_schema) \\\n",
    "  .option(\"header\", first_row_is_header) \\\n",
    "  .option(\"sep\", delimiter) \\\n",
    "  .load(file_location)  # 파일 경로 지정 후 데이터 읽기\n",
    "\n",
    "# 상위 5개 행만 확인\n",
    "df.limit(5)"
   ]
  },
  {
   "cell_type": "code",
   "execution_count": 4,
   "id": "a3545748",
   "metadata": {
    "colab": {
     "base_uri": "https://localhost:8080/"
    },
    "id": "a3545748",
    "outputId": "02acfb21-dee3-43f6-ada4-de73895512fc"
   },
   "outputs": [
    {
     "name": "stdout",
     "output_type": "stream",
     "text": [
      "root\n",
      " |-- PassengerId: integer (nullable = true)\n",
      " |-- Survived: integer (nullable = true)\n",
      " |-- Pclass: integer (nullable = true)\n",
      " |-- Name: string (nullable = true)\n",
      " |-- Sex: string (nullable = true)\n",
      " |-- Age: double (nullable = true)\n",
      " |-- SibSp: integer (nullable = true)\n",
      " |-- Parch: integer (nullable = true)\n",
      " |-- Ticket: string (nullable = true)\n",
      " |-- Fare: double (nullable = true)\n",
      " |-- Cabin: string (nullable = true)\n",
      " |-- Embarked: string (nullable = true)\n",
      "\n"
     ]
    }
   ],
   "source": [
    "# 스키마 확인\n",
    "df.printSchema()"
   ]
  },
  {
   "cell_type": "code",
   "execution_count": 5,
   "id": "7be4a992",
   "metadata": {
    "colab": {
     "base_uri": "https://localhost:8080/",
     "height": 186
    },
    "id": "7be4a992",
    "outputId": "ab9e4155-9d14-4899-c68b-1e17a11a1ba8"
   },
   "outputs": [
    {
     "data": {
      "text/html": [
       "<div style=\"max-width:800px; border: 1px solid var(--colab-border-color);\"><style>\n",
       "      pre.function-repr-contents {\n",
       "        overflow-x: auto;\n",
       "        padding: 8px 12px;\n",
       "        max-height: 500px;\n",
       "      }\n",
       "\n",
       "      pre.function-repr-contents.function-repr-contents-collapsed {\n",
       "        cursor: pointer;\n",
       "        max-height: 100px;\n",
       "      }\n",
       "    </style>\n",
       "    <pre style=\"white-space: initial; background:\n",
       "         var(--colab-secondary-surface-color); padding: 8px 12px;\n",
       "         border-bottom: 1px solid var(--colab-border-color);\"><b>pyspark.sql.dataframe.DataFrame</b><br/>def __init__(jdf: JavaObject, sql_ctx: Union[&#x27;SQLContext&#x27;, &#x27;SparkSession&#x27;])</pre><pre class=\"function-repr-contents function-repr-contents-collapsed\" style=\"\"><a class=\"filepath\" style=\"display:none\" href=\"#\">/usr/local/lib/python3.10/dist-packages/pyspark/sql/dataframe.py</a>A distributed collection of data grouped into named columns.\n",
       "\n",
       ".. versionadded:: 1.3.0\n",
       "\n",
       ".. versionchanged:: 3.4.0\n",
       "    Supports Spark Connect.\n",
       "\n",
       "Examples\n",
       "--------\n",
       "A :class:`DataFrame` is equivalent to a relational table in Spark SQL,\n",
       "and can be created using various functions in :class:`SparkSession`:\n",
       "\n",
       "&gt;&gt;&gt; people = spark.createDataFrame([\n",
       "...     {&quot;deptId&quot;: 1, &quot;age&quot;: 40, &quot;name&quot;: &quot;Hyukjin Kwon&quot;, &quot;gender&quot;: &quot;M&quot;, &quot;salary&quot;: 50},\n",
       "...     {&quot;deptId&quot;: 1, &quot;age&quot;: 50, &quot;name&quot;: &quot;Takuya Ueshin&quot;, &quot;gender&quot;: &quot;M&quot;, &quot;salary&quot;: 100},\n",
       "...     {&quot;deptId&quot;: 2, &quot;age&quot;: 60, &quot;name&quot;: &quot;Xinrong Meng&quot;, &quot;gender&quot;: &quot;F&quot;, &quot;salary&quot;: 150},\n",
       "...     {&quot;deptId&quot;: 3, &quot;age&quot;: 20, &quot;name&quot;: &quot;Haejoon Lee&quot;, &quot;gender&quot;: &quot;M&quot;, &quot;salary&quot;: 200}\n",
       "... ])\n",
       "\n",
       "Once created, it can be manipulated using the various domain-specific-language\n",
       "(DSL) functions defined in: :class:`DataFrame`, :class:`Column`.\n",
       "\n",
       "To select a column from the :class:`DataFrame`, use the apply method:\n",
       "\n",
       "&gt;&gt;&gt; age_col = people.age\n",
       "\n",
       "A more concrete example:\n",
       "\n",
       "&gt;&gt;&gt; # To create DataFrame using SparkSession\n",
       "... department = spark.createDataFrame([\n",
       "...     {&quot;id&quot;: 1, &quot;name&quot;: &quot;PySpark&quot;},\n",
       "...     {&quot;id&quot;: 2, &quot;name&quot;: &quot;ML&quot;},\n",
       "...     {&quot;id&quot;: 3, &quot;name&quot;: &quot;Spark SQL&quot;}\n",
       "... ])\n",
       "\n",
       "&gt;&gt;&gt; people.filter(people.age &gt; 30).join(\n",
       "...     department, people.deptId == department.id).groupBy(\n",
       "...     department.name, &quot;gender&quot;).agg({&quot;salary&quot;: &quot;avg&quot;, &quot;age&quot;: &quot;max&quot;}).show()\n",
       "+-------+------+-----------+--------+\n",
       "|   name|gender|avg(salary)|max(age)|\n",
       "+-------+------+-----------+--------+\n",
       "|     ML|     F|      150.0|      60|\n",
       "|PySpark|     M|       75.0|      50|\n",
       "+-------+------+-----------+--------+\n",
       "\n",
       "Notes\n",
       "-----\n",
       "A DataFrame should only be created as described above. It should not be directly\n",
       "created via using the constructor.</pre>\n",
       "      <script>\n",
       "      if (google.colab.kernel.accessAllowed && google.colab.files && google.colab.files.view) {\n",
       "        for (const element of document.querySelectorAll('.filepath')) {\n",
       "          element.style.display = 'block'\n",
       "          element.onclick = (event) => {\n",
       "            event.preventDefault();\n",
       "            event.stopPropagation();\n",
       "            google.colab.files.view(element.textContent, 80);\n",
       "          };\n",
       "        }\n",
       "      }\n",
       "      for (const element of document.querySelectorAll('.function-repr-contents')) {\n",
       "        element.onclick = (event) => {\n",
       "          event.preventDefault();\n",
       "          event.stopPropagation();\n",
       "          element.classList.toggle('function-repr-contents-collapsed');\n",
       "        };\n",
       "      }\n",
       "      </script>\n",
       "      </div>"
      ],
      "text/plain": [
       "pyspark.sql.dataframe.DataFrame"
      ]
     },
     "execution_count": 5,
     "metadata": {},
     "output_type": "execute_result"
    }
   ],
   "source": [
    "type(df)"
   ]
  },
  {
   "cell_type": "code",
   "execution_count": 6,
   "id": "db0e3e93",
   "metadata": {
    "colab": {
     "base_uri": "https://localhost:8080/"
    },
    "id": "db0e3e93",
    "outputId": "63a3efd8-f895-467e-ca2b-72921a7095f5"
   },
   "outputs": [
    {
     "name": "stdout",
     "output_type": "stream",
     "text": [
      "['PassengerId', 'Survived', 'Pclass', 'Name', 'Sex', 'Age', 'SibSp', 'Parch', 'Ticket', 'Fare', 'Cabin', 'Embarked']\n"
     ]
    }
   ],
   "source": [
    "# DataFrame의 컬럼 이름 출력\n",
    "print(df.columns)"
   ]
  },
  {
   "cell_type": "code",
   "execution_count": 7,
   "id": "1d2e783d",
   "metadata": {
    "colab": {
     "base_uri": "https://localhost:8080/"
    },
    "id": "1d2e783d",
    "outputId": "4a312dcc-ed21-4650-9b1f-7ea343f28af0"
   },
   "outputs": [
    {
     "data": {
      "text/plain": [
       "[Row(PassengerId=1, Survived=0, Pclass=3, Name='Braund, Mr. Owen Harris', Sex='male', Age=22.0, SibSp=1, Parch=0, Ticket='A/5 21171', Fare=7.25, Cabin=None, Embarked='S'),\n",
       " Row(PassengerId=2, Survived=1, Pclass=1, Name='Cumings, Mrs. John Bradley (Florence Briggs Thayer)', Sex='female', Age=38.0, SibSp=1, Parch=0, Ticket='PC 17599', Fare=71.2833, Cabin='C85', Embarked='C'),\n",
       " Row(PassengerId=3, Survived=1, Pclass=3, Name='Heikkinen, Miss. Laina', Sex='female', Age=26.0, SibSp=0, Parch=0, Ticket='STON/O2. 3101282', Fare=7.925, Cabin=None, Embarked='S')]"
      ]
     },
     "execution_count": 7,
     "metadata": {},
     "output_type": "execute_result"
    }
   ],
   "source": [
    "# DataFrame의 상위 3개 행을 Row 객체 리스트로 반환\n",
    "df.head(3)"
   ]
  },
  {
   "cell_type": "code",
   "execution_count": 8,
   "id": "f7800727",
   "metadata": {
    "colab": {
     "base_uri": "https://localhost:8080/"
    },
    "id": "f7800727",
    "outputId": "ca355f2b-97b0-41d3-8825-3eab10124340"
   },
   "outputs": [
    {
     "name": "stdout",
     "output_type": "stream",
     "text": [
      "+-----------+--------+------+--------------------+------+----+-----+-----+----------------+-------+-----+--------+\n",
      "|PassengerId|Survived|Pclass|                Name|   Sex| Age|SibSp|Parch|          Ticket|   Fare|Cabin|Embarked|\n",
      "+-----------+--------+------+--------------------+------+----+-----+-----+----------------+-------+-----+--------+\n",
      "|          1|       0|     3|Braund, Mr. Owen ...|  male|22.0|    1|    0|       A/5 21171|   7.25| NULL|       S|\n",
      "|          2|       1|     1|Cumings, Mrs. Joh...|female|38.0|    1|    0|        PC 17599|71.2833|  C85|       C|\n",
      "|          3|       1|     3|Heikkinen, Miss. ...|female|26.0|    0|    0|STON/O2. 3101282|  7.925| NULL|       S|\n",
      "+-----------+--------+------+--------------------+------+----+-----+-----+----------------+-------+-----+--------+\n",
      "only showing top 3 rows\n",
      "\n"
     ]
    }
   ],
   "source": [
    "# DataFrame의 상위 3개 행을 표 형태로 출력\n",
    "df.show(3)"
   ]
  },
  {
   "cell_type": "code",
   "execution_count": 9,
   "id": "0342cf82",
   "metadata": {
    "colab": {
     "base_uri": "https://localhost:8080/",
     "height": 156
    },
    "id": "0342cf82",
    "outputId": "17e5c4d9-25eb-42e9-bc0c-c5252668b05b"
   },
   "outputs": [
    {
     "data": {
      "text/html": [
       "<table border='1'>\n",
       "<tr><th>Name</th></tr>\n",
       "<tr><td>Braund, Mr. Owen ...</td></tr>\n",
       "<tr><td>Cumings, Mrs. Joh...</td></tr>\n",
       "<tr><td>Heikkinen, Miss. ...</td></tr>\n",
       "<tr><td>Futrelle, Mrs. Ja...</td></tr>\n",
       "<tr><td>Allen, Mr. Willia...</td></tr>\n",
       "</table>\n"
      ],
      "text/plain": [
       "+--------------------+\n",
       "|                Name|\n",
       "+--------------------+\n",
       "|Braund, Mr. Owen ...|\n",
       "|Cumings, Mrs. Joh...|\n",
       "|Heikkinen, Miss. ...|\n",
       "|Futrelle, Mrs. Ja...|\n",
       "|Allen, Mr. Willia...|\n",
       "+--------------------+"
      ]
     },
     "execution_count": 9,
     "metadata": {},
     "output_type": "execute_result"
    }
   ],
   "source": [
    "# 'Name' 컬럼만 선택하여 상위 5개 행을 가져오기\n",
    "df.select('Name').limit(5)"
   ]
  },
  {
   "cell_type": "code",
   "execution_count": 10,
   "id": "673e6f22",
   "metadata": {
    "colab": {
     "base_uri": "https://localhost:8080/",
     "height": 156
    },
    "id": "673e6f22",
    "outputId": "b04ed7cd-37fa-4c11-8cef-d677e3776b17"
   },
   "outputs": [
    {
     "data": {
      "text/html": [
       "<table border='1'>\n",
       "<tr><th>Name</th><th>Age</th></tr>\n",
       "<tr><td>Braund, Mr. Owen ...</td><td>22.0</td></tr>\n",
       "<tr><td>Cumings, Mrs. Joh...</td><td>38.0</td></tr>\n",
       "<tr><td>Heikkinen, Miss. ...</td><td>26.0</td></tr>\n",
       "<tr><td>Futrelle, Mrs. Ja...</td><td>35.0</td></tr>\n",
       "<tr><td>Allen, Mr. Willia...</td><td>35.0</td></tr>\n",
       "</table>\n"
      ],
      "text/plain": [
       "+--------------------+----+\n",
       "|                Name| Age|\n",
       "+--------------------+----+\n",
       "|Braund, Mr. Owen ...|22.0|\n",
       "|Cumings, Mrs. Joh...|38.0|\n",
       "|Heikkinen, Miss. ...|26.0|\n",
       "|Futrelle, Mrs. Ja...|35.0|\n",
       "|Allen, Mr. Willia...|35.0|\n",
       "+--------------------+----+"
      ]
     },
     "execution_count": 10,
     "metadata": {},
     "output_type": "execute_result"
    }
   ],
   "source": [
    "# 'Name'과 'Age' 컬럼을 선택하여 상위 5개 행을 가져오기\n",
    "df.select(['Name', 'Age']).limit(5)"
   ]
  },
  {
   "cell_type": "code",
   "execution_count": 11,
   "id": "83160562",
   "metadata": {
    "colab": {
     "base_uri": "https://localhost:8080/"
    },
    "id": "83160562",
    "outputId": "c09c6e5b-6154-4408-bca8-013d4f285253"
   },
   "outputs": [
    {
     "data": {
      "text/plain": [
       "[('PassengerId', 'int'),\n",
       " ('Survived', 'int'),\n",
       " ('Pclass', 'int'),\n",
       " ('Name', 'string'),\n",
       " ('Sex', 'string'),\n",
       " ('Age', 'double'),\n",
       " ('SibSp', 'int'),\n",
       " ('Parch', 'int'),\n",
       " ('Ticket', 'string'),\n",
       " ('Fare', 'double'),\n",
       " ('Cabin', 'string'),\n",
       " ('Embarked', 'string')]"
      ]
     },
     "execution_count": 11,
     "metadata": {},
     "output_type": "execute_result"
    }
   ],
   "source": [
    "# DataFrame의 모든 컬럼 이름과 해당 데이터 타입을 튜플의 리스트 형태로 반환\n",
    "df.dtypes"
   ]
  },
  {
   "cell_type": "code",
   "execution_count": 12,
   "id": "739e6f0c",
   "metadata": {
    "colab": {
     "base_uri": "https://localhost:8080/",
     "height": 228
    },
    "id": "739e6f0c",
    "outputId": "cf856f8f-ae87-4915-ec6e-304bf09277fb"
   },
   "outputs": [
    {
     "data": {
      "text/html": [
       "<table border='1'>\n",
       "<tr><th>summary</th><th>PassengerId</th><th>Survived</th><th>Pclass</th><th>Name</th><th>Sex</th><th>Age</th><th>SibSp</th><th>Parch</th><th>Ticket</th><th>Fare</th><th>Cabin</th><th>Embarked</th></tr>\n",
       "<tr><td>count</td><td>891</td><td>891</td><td>891</td><td>891</td><td>891</td><td>714</td><td>891</td><td>891</td><td>891</td><td>891</td><td>204</td><td>889</td></tr>\n",
       "<tr><td>mean</td><td>446.0</td><td>0.3838383838383838</td><td>2.308641975308642</td><td>NULL</td><td>NULL</td><td>29.69911764705882</td><td>0.5230078563411896</td><td>0.38159371492704824</td><td>260318.54916792738</td><td>32.2042079685746</td><td>NULL</td><td>NULL</td></tr>\n",
       "<tr><td>stddev</td><td>257.3538420152301</td><td>0.48659245426485753</td><td>0.8360712409770491</td><td>NULL</td><td>NULL</td><td>14.526497332334035</td><td>1.1027434322934315</td><td>0.8060572211299488</td><td>471609.26868834975</td><td>49.69342859718089</td><td>NULL</td><td>NULL</td></tr>\n",
       "<tr><td>min</td><td>1</td><td>0</td><td>1</td><td>&quot;Andersson, Mr. A...</td><td>female</td><td>0.42</td><td>0</td><td>0</td><td>110152</td><td>0.0</td><td>A10</td><td>C</td></tr>\n",
       "<tr><td>max</td><td>891</td><td>1</td><td>3</td><td>van Melkebeke, Mr...</td><td>male</td><td>80.0</td><td>8</td><td>6</td><td>WE/P 5735</td><td>512.3292</td><td>T</td><td>S</td></tr>\n",
       "</table>\n"
      ],
      "text/plain": [
       "+-------+-----------------+-------------------+------------------+--------------------+------+------------------+------------------+-------------------+------------------+-----------------+-----+--------+\n",
       "|summary|      PassengerId|           Survived|            Pclass|                Name|   Sex|               Age|             SibSp|              Parch|            Ticket|             Fare|Cabin|Embarked|\n",
       "+-------+-----------------+-------------------+------------------+--------------------+------+------------------+------------------+-------------------+------------------+-----------------+-----+--------+\n",
       "|  count|              891|                891|               891|                 891|   891|               714|               891|                891|               891|              891|  204|     889|\n",
       "|   mean|            446.0| 0.3838383838383838| 2.308641975308642|                NULL|  NULL| 29.69911764705882|0.5230078563411896|0.38159371492704824|260318.54916792738| 32.2042079685746| NULL|    NULL|\n",
       "| stddev|257.3538420152301|0.48659245426485753|0.8360712409770491|                NULL|  NULL|14.526497332334035|1.1027434322934315| 0.8060572211299488|471609.26868834975|49.69342859718089| NULL|    NULL|\n",
       "|    min|                1|                  0|                 1|\"Andersson, Mr. A...|female|              0.42|                 0|                  0|            110152|              0.0|  A10|       C|\n",
       "|    max|              891|                  1|                 3|van Melkebeke, Mr...|  male|              80.0|                 8|                  6|         WE/P 5735|         512.3292|    T|       S|\n",
       "+-------+-----------------+-------------------+------------------+--------------------+------+------------------+------------------+-------------------+------------------+-----------------+-----+--------+"
      ]
     },
     "execution_count": 12,
     "metadata": {},
     "output_type": "execute_result"
    }
   ],
   "source": [
    "# DataFrame의 수치형 컬럼에 대해 기초 통계 정보를 계산\n",
    "df.describe()"
   ]
  },
  {
   "cell_type": "code",
   "execution_count": 13,
   "id": "1220f59a",
   "metadata": {
    "colab": {
     "base_uri": "https://localhost:8080/",
     "height": 156
    },
    "id": "1220f59a",
    "outputId": "db4c17cb-309a-440b-9f17-6e512be3a953"
   },
   "outputs": [
    {
     "data": {
      "text/html": [
       "<table border='1'>\n",
       "<tr><th>PassengerId</th><th>Survived</th><th>Pclass</th><th>Name</th><th>Sex</th><th>Age</th><th>SibSp</th><th>Parch</th><th>Ticket</th><th>Fare</th><th>Cabin</th><th>Embarked</th><th>Age Over 30</th></tr>\n",
       "<tr><td>1</td><td>0</td><td>3</td><td>Braund, Mr. Owen ...</td><td>male</td><td>22.0</td><td>1</td><td>0</td><td>A/5 21171</td><td>7.25</td><td>NULL</td><td>S</td><td>false</td></tr>\n",
       "<tr><td>2</td><td>1</td><td>1</td><td>Cumings, Mrs. Joh...</td><td>female</td><td>38.0</td><td>1</td><td>0</td><td>PC 17599</td><td>71.2833</td><td>C85</td><td>C</td><td>true</td></tr>\n",
       "<tr><td>3</td><td>1</td><td>3</td><td>Heikkinen, Miss. ...</td><td>female</td><td>26.0</td><td>0</td><td>0</td><td>STON/O2. 3101282</td><td>7.925</td><td>NULL</td><td>S</td><td>false</td></tr>\n",
       "<tr><td>4</td><td>1</td><td>1</td><td>Futrelle, Mrs. Ja...</td><td>female</td><td>35.0</td><td>1</td><td>0</td><td>113803</td><td>53.1</td><td>C123</td><td>S</td><td>true</td></tr>\n",
       "<tr><td>5</td><td>0</td><td>3</td><td>Allen, Mr. Willia...</td><td>male</td><td>35.0</td><td>0</td><td>0</td><td>373450</td><td>8.05</td><td>NULL</td><td>S</td><td>true</td></tr>\n",
       "</table>\n"
      ],
      "text/plain": [
       "+-----------+--------+------+--------------------+------+----+-----+-----+----------------+-------+-----+--------+-----------+\n",
       "|PassengerId|Survived|Pclass|                Name|   Sex| Age|SibSp|Parch|          Ticket|   Fare|Cabin|Embarked|Age Over 30|\n",
       "+-----------+--------+------+--------------------+------+----+-----+-----+----------------+-------+-----+--------+-----------+\n",
       "|          1|       0|     3|Braund, Mr. Owen ...|  male|22.0|    1|    0|       A/5 21171|   7.25| NULL|       S|      false|\n",
       "|          2|       1|     1|Cumings, Mrs. Joh...|female|38.0|    1|    0|        PC 17599|71.2833|  C85|       C|       true|\n",
       "|          3|       1|     3|Heikkinen, Miss. ...|female|26.0|    0|    0|STON/O2. 3101282|  7.925| NULL|       S|      false|\n",
       "|          4|       1|     1|Futrelle, Mrs. Ja...|female|35.0|    1|    0|          113803|   53.1| C123|       S|       true|\n",
       "|          5|       0|     3|Allen, Mr. Willia...|  male|35.0|    0|    0|          373450|   8.05| NULL|       S|       true|\n",
       "+-----------+--------+------+--------------------+------+----+-----+-----+----------------+-------+-----+--------+-----------+"
      ]
     },
     "execution_count": 13,
     "metadata": {},
     "output_type": "execute_result"
    }
   ],
   "source": [
    "# 'Age' 컬럼의 값이 30보다 큰지(True/False) 여부를 나타내는 새로운 컬럼 'Age Over 30'을 DataFrame에 추가\n",
    "df = df.withColumn('Age Over 30', df['Age'] > 30)  # 새로운 DataFrame으로 업데이트\n",
    "\n",
    "df.limit(5)"
   ]
  },
  {
   "cell_type": "code",
   "execution_count": 14,
   "id": "a89443c3",
   "metadata": {
    "colab": {
     "base_uri": "https://localhost:8080/",
     "height": 156
    },
    "id": "a89443c3",
    "outputId": "9b624ec3-acaf-4a4a-fe55-01fc3a2999a3"
   },
   "outputs": [
    {
     "data": {
      "text/html": [
       "<table border='1'>\n",
       "<tr><th>PassengerId</th><th>Survived</th><th>Pclass</th><th>Name</th><th>Sex</th><th>Age</th><th>SibSp</th><th>Parch</th><th>Ticket</th><th>Fare</th><th>Cabin</th><th>Embarked</th></tr>\n",
       "<tr><td>1</td><td>0</td><td>3</td><td>Braund, Mr. Owen ...</td><td>male</td><td>22.0</td><td>1</td><td>0</td><td>A/5 21171</td><td>7.25</td><td>NULL</td><td>S</td></tr>\n",
       "<tr><td>2</td><td>1</td><td>1</td><td>Cumings, Mrs. Joh...</td><td>female</td><td>38.0</td><td>1</td><td>0</td><td>PC 17599</td><td>71.2833</td><td>C85</td><td>C</td></tr>\n",
       "<tr><td>3</td><td>1</td><td>3</td><td>Heikkinen, Miss. ...</td><td>female</td><td>26.0</td><td>0</td><td>0</td><td>STON/O2. 3101282</td><td>7.925</td><td>NULL</td><td>S</td></tr>\n",
       "<tr><td>4</td><td>1</td><td>1</td><td>Futrelle, Mrs. Ja...</td><td>female</td><td>35.0</td><td>1</td><td>0</td><td>113803</td><td>53.1</td><td>C123</td><td>S</td></tr>\n",
       "<tr><td>5</td><td>0</td><td>3</td><td>Allen, Mr. Willia...</td><td>male</td><td>35.0</td><td>0</td><td>0</td><td>373450</td><td>8.05</td><td>NULL</td><td>S</td></tr>\n",
       "</table>\n"
      ],
      "text/plain": [
       "+-----------+--------+------+--------------------+------+----+-----+-----+----------------+-------+-----+--------+\n",
       "|PassengerId|Survived|Pclass|                Name|   Sex| Age|SibSp|Parch|          Ticket|   Fare|Cabin|Embarked|\n",
       "+-----------+--------+------+--------------------+------+----+-----+-----+----------------+-------+-----+--------+\n",
       "|          1|       0|     3|Braund, Mr. Owen ...|  male|22.0|    1|    0|       A/5 21171|   7.25| NULL|       S|\n",
       "|          2|       1|     1|Cumings, Mrs. Joh...|female|38.0|    1|    0|        PC 17599|71.2833|  C85|       C|\n",
       "|          3|       1|     3|Heikkinen, Miss. ...|female|26.0|    0|    0|STON/O2. 3101282|  7.925| NULL|       S|\n",
       "|          4|       1|     1|Futrelle, Mrs. Ja...|female|35.0|    1|    0|          113803|   53.1| C123|       S|\n",
       "|          5|       0|     3|Allen, Mr. Willia...|  male|35.0|    0|    0|          373450|   8.05| NULL|       S|\n",
       "+-----------+--------+------+--------------------+------+----+-----+-----+----------------+-------+-----+--------+"
      ]
     },
     "execution_count": 14,
     "metadata": {},
     "output_type": "execute_result"
    }
   ],
   "source": [
    "# Column 삭제\n",
    "df = df.drop(\"Age Over 30\")\n",
    "df.limit(5)"
   ]
  },
  {
   "cell_type": "code",
   "execution_count": 15,
   "id": "05997343",
   "metadata": {
    "colab": {
     "base_uri": "https://localhost:8080/",
     "height": 156
    },
    "id": "05997343",
    "outputId": "cadde0d9-a169-4613-e9d1-2a4dd8857a5b"
   },
   "outputs": [
    {
     "data": {
      "text/html": [
       "<table border='1'>\n",
       "<tr><th>PassengerId</th><th>Survived</th><th>Pclass</th><th>Name</th><th>Sex</th><th>Age</th><th>SibSp</th><th>Parch</th><th>Ticket</th><th>Fare</th><th>Cabin</th><th>Port</th></tr>\n",
       "<tr><td>1</td><td>0</td><td>3</td><td>Braund, Mr. Owen ...</td><td>male</td><td>22.0</td><td>1</td><td>0</td><td>A/5 21171</td><td>7.25</td><td>NULL</td><td>S</td></tr>\n",
       "<tr><td>2</td><td>1</td><td>1</td><td>Cumings, Mrs. Joh...</td><td>female</td><td>38.0</td><td>1</td><td>0</td><td>PC 17599</td><td>71.2833</td><td>C85</td><td>C</td></tr>\n",
       "<tr><td>3</td><td>1</td><td>3</td><td>Heikkinen, Miss. ...</td><td>female</td><td>26.0</td><td>0</td><td>0</td><td>STON/O2. 3101282</td><td>7.925</td><td>NULL</td><td>S</td></tr>\n",
       "<tr><td>4</td><td>1</td><td>1</td><td>Futrelle, Mrs. Ja...</td><td>female</td><td>35.0</td><td>1</td><td>0</td><td>113803</td><td>53.1</td><td>C123</td><td>S</td></tr>\n",
       "<tr><td>5</td><td>0</td><td>3</td><td>Allen, Mr. Willia...</td><td>male</td><td>35.0</td><td>0</td><td>0</td><td>373450</td><td>8.05</td><td>NULL</td><td>S</td></tr>\n",
       "</table>\n"
      ],
      "text/plain": [
       "+-----------+--------+------+--------------------+------+----+-----+-----+----------------+-------+-----+----+\n",
       "|PassengerId|Survived|Pclass|                Name|   Sex| Age|SibSp|Parch|          Ticket|   Fare|Cabin|Port|\n",
       "+-----------+--------+------+--------------------+------+----+-----+-----+----------------+-------+-----+----+\n",
       "|          1|       0|     3|Braund, Mr. Owen ...|  male|22.0|    1|    0|       A/5 21171|   7.25| NULL|   S|\n",
       "|          2|       1|     1|Cumings, Mrs. Joh...|female|38.0|    1|    0|        PC 17599|71.2833|  C85|   C|\n",
       "|          3|       1|     3|Heikkinen, Miss. ...|female|26.0|    0|    0|STON/O2. 3101282|  7.925| NULL|   S|\n",
       "|          4|       1|     1|Futrelle, Mrs. Ja...|female|35.0|    1|    0|          113803|   53.1| C123|   S|\n",
       "|          5|       0|     3|Allen, Mr. Willia...|  male|35.0|    0|    0|          373450|   8.05| NULL|   S|\n",
       "+-----------+--------+------+--------------------+------+----+-----+-----+----------------+-------+-----+----+"
      ]
     },
     "execution_count": 15,
     "metadata": {},
     "output_type": "execute_result"
    }
   ],
   "source": [
    "## 컬럼명 변경\n",
    "df = df.withColumnRenamed('Embarked', 'Port')\n",
    "df.limit(5)"
   ]
  },
  {
   "cell_type": "markdown",
   "id": "zphKzIGmF9_n",
   "metadata": {
    "id": "zphKzIGmF9_n"
   },
   "source": [
    "### Missing Value 처리"
   ]
  },
  {
   "cell_type": "code",
   "execution_count": 16,
   "id": "nIGwa-IIkzRJ",
   "metadata": {
    "colab": {
     "base_uri": "https://localhost:8080/",
     "height": 65
    },
    "id": "nIGwa-IIkzRJ",
    "outputId": "89b78c1a-13cd-4708-ce29-b5c7672afd14"
   },
   "outputs": [
    {
     "data": {
      "text/html": [
       "<table border='1'>\n",
       "<tr><th>PassengerId</th><th>Survived</th><th>Pclass</th><th>Name</th><th>Sex</th><th>Age</th><th>SibSp</th><th>Parch</th><th>Ticket</th><th>Fare</th><th>Cabin</th><th>Port</th></tr>\n",
       "<tr><td>0</td><td>0</td><td>0</td><td>0</td><td>0</td><td>177</td><td>0</td><td>0</td><td>0</td><td>0</td><td>687</td><td>2</td></tr>\n",
       "</table>\n"
      ],
      "text/plain": [
       "+-----------+--------+------+----+---+---+-----+-----+------+----+-----+----+\n",
       "|PassengerId|Survived|Pclass|Name|Sex|Age|SibSp|Parch|Ticket|Fare|Cabin|Port|\n",
       "+-----------+--------+------+----+---+---+-----+-----+------+----+-----+----+\n",
       "|          0|       0|     0|   0|  0|177|    0|    0|     0|   0|  687|   2|\n",
       "+-----------+--------+------+----+---+---+-----+-----+------+----+-----+----+"
      ]
     },
     "execution_count": 16,
     "metadata": {},
     "output_type": "execute_result"
    }
   ],
   "source": [
    "from pyspark.sql.functions import col, sum\n",
    "\n",
    "# 각 컬럼의 null 값 개수 확인\n",
    "df.select([sum(col(c).isNull().cast(\"int\")).alias(c) for c in df.columns])"
   ]
  },
  {
   "cell_type": "code",
   "execution_count": 17,
   "id": "AKPsxZIJpjEC",
   "metadata": {
    "id": "AKPsxZIJpjEC"
   },
   "outputs": [],
   "source": [
    "from pyspark.ml.feature import Imputer\n",
    "\n",
    "# Age가 null인 경우 평균으로 채움\n",
    "imputer = Imputer(\n",
    "  inputCols = ['Age'],\n",
    "  outputCols = ['Age_imputed']\n",
    ").setStrategy('mean')"
   ]
  },
  {
   "cell_type": "code",
   "execution_count": 30,
   "id": "G9YPQrkgqHpl",
   "metadata": {
    "colab": {
     "base_uri": "https://localhost:8080/",
     "height": 156
    },
    "id": "G9YPQrkgqHpl",
    "outputId": "b4dddf46-f34e-4b9f-9472-ebfedb975856"
   },
   "outputs": [
    {
     "data": {
      "text/html": [
       "<table border='1'>\n",
       "<tr><th>PassengerId</th><th>Survived</th><th>Pclass</th><th>Name</th><th>Sex</th><th>Age</th><th>SibSp</th><th>Parch</th><th>Ticket</th><th>Fare</th><th>Cabin</th><th>Port</th><th>Age_imputed</th></tr>\n",
       "<tr><td>1</td><td>0</td><td>3</td><td>Braund, Mr. Owen ...</td><td>male</td><td>22.0</td><td>1</td><td>0</td><td>A/5 21171</td><td>7.25</td><td>NULL</td><td>S</td><td>22.0</td></tr>\n",
       "<tr><td>2</td><td>1</td><td>1</td><td>Cumings, Mrs. Joh...</td><td>female</td><td>38.0</td><td>1</td><td>0</td><td>PC 17599</td><td>71.2833</td><td>C85</td><td>C</td><td>38.0</td></tr>\n",
       "<tr><td>3</td><td>1</td><td>3</td><td>Heikkinen, Miss. ...</td><td>female</td><td>26.0</td><td>0</td><td>0</td><td>STON/O2. 3101282</td><td>7.925</td><td>NULL</td><td>S</td><td>26.0</td></tr>\n",
       "<tr><td>4</td><td>1</td><td>1</td><td>Futrelle, Mrs. Ja...</td><td>female</td><td>35.0</td><td>1</td><td>0</td><td>113803</td><td>53.1</td><td>C123</td><td>S</td><td>35.0</td></tr>\n",
       "<tr><td>5</td><td>0</td><td>3</td><td>Allen, Mr. Willia...</td><td>male</td><td>35.0</td><td>0</td><td>0</td><td>373450</td><td>8.05</td><td>NULL</td><td>S</td><td>35.0</td></tr>\n",
       "</table>\n"
      ],
      "text/plain": [
       "+-----------+--------+------+--------------------+------+----+-----+-----+----------------+-------+-----+----+-----------+\n",
       "|PassengerId|Survived|Pclass|                Name|   Sex| Age|SibSp|Parch|          Ticket|   Fare|Cabin|Port|Age_imputed|\n",
       "+-----------+--------+------+--------------------+------+----+-----+-----+----------------+-------+-----+----+-----------+\n",
       "|          1|       0|     3|Braund, Mr. Owen ...|  male|22.0|    1|    0|       A/5 21171|   7.25| NULL|   S|       22.0|\n",
       "|          2|       1|     1|Cumings, Mrs. Joh...|female|38.0|    1|    0|        PC 17599|71.2833|  C85|   C|       38.0|\n",
       "|          3|       1|     3|Heikkinen, Miss. ...|female|26.0|    0|    0|STON/O2. 3101282|  7.925| NULL|   S|       26.0|\n",
       "|          4|       1|     1|Futrelle, Mrs. Ja...|female|35.0|    1|    0|          113803|   53.1| C123|   S|       35.0|\n",
       "|          5|       0|     3|Allen, Mr. Willia...|  male|35.0|    0|    0|          373450|   8.05| NULL|   S|       35.0|\n",
       "+-----------+--------+------+--------------------+------+----+-----+-----+----------------+-------+-----+----+-----------+"
      ]
     },
     "execution_count": 30,
     "metadata": {},
     "output_type": "execute_result"
    }
   ],
   "source": [
    "df = imputer.fit(df).transform(df)\n",
    "df.limit(5)"
   ]
  },
  {
   "cell_type": "markdown",
   "id": "fQXdoszXGOab",
   "metadata": {
    "id": "fQXdoszXGOab"
   },
   "source": [
    "## Filtering"
   ]
  },
  {
   "cell_type": "markdown",
   "id": "c2v3M_VNHKgt",
   "metadata": {
    "id": "c2v3M_VNHKgt"
   },
   "source": [
    "- SQL 스타일의 문자열 표현식으로 조건을 지정합니다.\n",
    "\"Age < 30\"는 SQL 쿼리의 WHERE 절처럼 동작"
   ]
  },
  {
   "cell_type": "code",
   "execution_count": 20,
   "id": "OQzWzPdYq5Tx",
   "metadata": {
    "colab": {
     "base_uri": "https://localhost:8080/",
     "height": 156
    },
    "id": "OQzWzPdYq5Tx",
    "outputId": "63780b80-d6ec-4710-86f9-c6db74bc7b7e"
   },
   "outputs": [
    {
     "data": {
      "text/html": [
       "<table border='1'>\n",
       "<tr><th>PassengerId</th><th>Survived</th><th>Pclass</th><th>Name</th><th>Sex</th><th>Age</th><th>SibSp</th><th>Parch</th><th>Ticket</th><th>Fare</th><th>Cabin</th><th>Port</th><th>Age_imputed</th></tr>\n",
       "<tr><td>1</td><td>0</td><td>3</td><td>Braund, Mr. Owen ...</td><td>male</td><td>22.0</td><td>1</td><td>0</td><td>A/5 21171</td><td>7.25</td><td>NULL</td><td>S</td><td>22.0</td></tr>\n",
       "<tr><td>3</td><td>1</td><td>3</td><td>Heikkinen, Miss. ...</td><td>female</td><td>26.0</td><td>0</td><td>0</td><td>STON/O2. 3101282</td><td>7.925</td><td>NULL</td><td>S</td><td>26.0</td></tr>\n",
       "<tr><td>8</td><td>0</td><td>3</td><td>Palsson, Master. ...</td><td>male</td><td>2.0</td><td>3</td><td>1</td><td>349909</td><td>21.075</td><td>NULL</td><td>S</td><td>2.0</td></tr>\n",
       "<tr><td>9</td><td>1</td><td>3</td><td>Johnson, Mrs. Osc...</td><td>female</td><td>27.0</td><td>0</td><td>2</td><td>347742</td><td>11.1333</td><td>NULL</td><td>S</td><td>27.0</td></tr>\n",
       "<tr><td>10</td><td>1</td><td>2</td><td>Nasser, Mrs. Nich...</td><td>female</td><td>14.0</td><td>1</td><td>0</td><td>237736</td><td>30.0708</td><td>NULL</td><td>C</td><td>14.0</td></tr>\n",
       "</table>\n"
      ],
      "text/plain": [
       "+-----------+--------+------+--------------------+------+----+-----+-----+----------------+-------+-----+----+-----------+\n",
       "|PassengerId|Survived|Pclass|                Name|   Sex| Age|SibSp|Parch|          Ticket|   Fare|Cabin|Port|Age_imputed|\n",
       "+-----------+--------+------+--------------------+------+----+-----+-----+----------------+-------+-----+----+-----------+\n",
       "|          1|       0|     3|Braund, Mr. Owen ...|  male|22.0|    1|    0|       A/5 21171|   7.25| NULL|   S|       22.0|\n",
       "|          3|       1|     3|Heikkinen, Miss. ...|female|26.0|    0|    0|STON/O2. 3101282|  7.925| NULL|   S|       26.0|\n",
       "|          8|       0|     3|Palsson, Master. ...|  male| 2.0|    3|    1|          349909| 21.075| NULL|   S|        2.0|\n",
       "|          9|       1|     3|Johnson, Mrs. Osc...|female|27.0|    0|    2|          347742|11.1333| NULL|   S|       27.0|\n",
       "|         10|       1|     2|Nasser, Mrs. Nich...|female|14.0|    1|    0|          237736|30.0708| NULL|   C|       14.0|\n",
       "+-----------+--------+------+--------------------+------+----+-----+-----+----------------+-------+-----+----+-----------+"
      ]
     },
     "execution_count": 20,
     "metadata": {},
     "output_type": "execute_result"
    }
   ],
   "source": [
    "## Age 가 30 아래인 사람만 filtering\n",
    "df.filter(\"Age < 30\").limit(5)"
   ]
  },
  {
   "cell_type": "markdown",
   "id": "s1TTWE30HUOp",
   "metadata": {
    "id": "s1TTWE30HUOp"
   },
   "source": [
    "- PySpark의 DataFrame API를 사용하여 조건을 지정합니다.\n",
    "df[\"Age\"] < 30은 PySpark의 컬럼 객체를 사용해 조건을 작성"
   ]
  },
  {
   "cell_type": "code",
   "execution_count": 21,
   "id": "R_GoRuG0GWBo",
   "metadata": {
    "colab": {
     "base_uri": "https://localhost:8080/",
     "height": 156
    },
    "id": "R_GoRuG0GWBo",
    "outputId": "55c912e4-0c86-4474-8c11-649647bb2d8b"
   },
   "outputs": [
    {
     "data": {
      "text/html": [
       "<table border='1'>\n",
       "<tr><th>PassengerId</th><th>Survived</th><th>Pclass</th><th>Name</th><th>Sex</th><th>Age</th><th>SibSp</th><th>Parch</th><th>Ticket</th><th>Fare</th><th>Cabin</th><th>Port</th><th>Age_imputed</th></tr>\n",
       "<tr><td>1</td><td>0</td><td>3</td><td>Braund, Mr. Owen ...</td><td>male</td><td>22.0</td><td>1</td><td>0</td><td>A/5 21171</td><td>7.25</td><td>NULL</td><td>S</td><td>22.0</td></tr>\n",
       "<tr><td>3</td><td>1</td><td>3</td><td>Heikkinen, Miss. ...</td><td>female</td><td>26.0</td><td>0</td><td>0</td><td>STON/O2. 3101282</td><td>7.925</td><td>NULL</td><td>S</td><td>26.0</td></tr>\n",
       "<tr><td>8</td><td>0</td><td>3</td><td>Palsson, Master. ...</td><td>male</td><td>2.0</td><td>3</td><td>1</td><td>349909</td><td>21.075</td><td>NULL</td><td>S</td><td>2.0</td></tr>\n",
       "<tr><td>9</td><td>1</td><td>3</td><td>Johnson, Mrs. Osc...</td><td>female</td><td>27.0</td><td>0</td><td>2</td><td>347742</td><td>11.1333</td><td>NULL</td><td>S</td><td>27.0</td></tr>\n",
       "<tr><td>10</td><td>1</td><td>2</td><td>Nasser, Mrs. Nich...</td><td>female</td><td>14.0</td><td>1</td><td>0</td><td>237736</td><td>30.0708</td><td>NULL</td><td>C</td><td>14.0</td></tr>\n",
       "</table>\n"
      ],
      "text/plain": [
       "+-----------+--------+------+--------------------+------+----+-----+-----+----------------+-------+-----+----+-----------+\n",
       "|PassengerId|Survived|Pclass|                Name|   Sex| Age|SibSp|Parch|          Ticket|   Fare|Cabin|Port|Age_imputed|\n",
       "+-----------+--------+------+--------------------+------+----+-----+-----+----------------+-------+-----+----+-----------+\n",
       "|          1|       0|     3|Braund, Mr. Owen ...|  male|22.0|    1|    0|       A/5 21171|   7.25| NULL|   S|       22.0|\n",
       "|          3|       1|     3|Heikkinen, Miss. ...|female|26.0|    0|    0|STON/O2. 3101282|  7.925| NULL|   S|       26.0|\n",
       "|          8|       0|     3|Palsson, Master. ...|  male| 2.0|    3|    1|          349909| 21.075| NULL|   S|        2.0|\n",
       "|          9|       1|     3|Johnson, Mrs. Osc...|female|27.0|    0|    2|          347742|11.1333| NULL|   S|       27.0|\n",
       "|         10|       1|     2|Nasser, Mrs. Nich...|female|14.0|    1|    0|          237736|30.0708| NULL|   C|       14.0|\n",
       "+-----------+--------+------+--------------------+------+----+-----+-----+----------------+-------+-----+----+-----------+"
      ]
     },
     "execution_count": 21,
     "metadata": {},
     "output_type": "execute_result"
    }
   ],
   "source": [
    "df.filter(df[\"Age\"] < 30).limit(5)"
   ]
  },
  {
   "cell_type": "code",
   "execution_count": 22,
   "id": "XLA1VJxwG18t",
   "metadata": {
    "colab": {
     "base_uri": "https://localhost:8080/",
     "height": 156
    },
    "id": "XLA1VJxwG18t",
    "outputId": "9d9b58f5-f4b0-4b9d-b1fb-e11f6d081b04"
   },
   "outputs": [
    {
     "data": {
      "text/html": [
       "<table border='1'>\n",
       "<tr><th>Pclass</th><th>Name</th><th>Age</th></tr>\n",
       "<tr><td>3</td><td>Braund, Mr. Owen ...</td><td>22.0</td></tr>\n",
       "<tr><td>3</td><td>Heikkinen, Miss. ...</td><td>26.0</td></tr>\n",
       "<tr><td>3</td><td>Palsson, Master. ...</td><td>2.0</td></tr>\n",
       "<tr><td>3</td><td>Johnson, Mrs. Osc...</td><td>27.0</td></tr>\n",
       "<tr><td>2</td><td>Nasser, Mrs. Nich...</td><td>14.0</td></tr>\n",
       "</table>\n"
      ],
      "text/plain": [
       "+------+--------------------+----+\n",
       "|Pclass|                Name| Age|\n",
       "+------+--------------------+----+\n",
       "|     3|Braund, Mr. Owen ...|22.0|\n",
       "|     3|Heikkinen, Miss. ...|26.0|\n",
       "|     3|Palsson, Master. ...| 2.0|\n",
       "|     3|Johnson, Mrs. Osc...|27.0|\n",
       "|     2|Nasser, Mrs. Nich...|14.0|\n",
       "+------+--------------------+----+"
      ]
     },
     "execution_count": 22,
     "metadata": {},
     "output_type": "execute_result"
    }
   ],
   "source": [
    "## 특정 column 만 filtering\n",
    "df.filter(\"Age < 30\").select([\"Pclass\", \"Name\", \"Age\"]).limit(5)"
   ]
  },
  {
   "cell_type": "code",
   "execution_count": 23,
   "id": "HGYlTlfwHiyW",
   "metadata": {
    "colab": {
     "base_uri": "https://localhost:8080/",
     "height": 156
    },
    "id": "HGYlTlfwHiyW",
    "outputId": "4bb74cb3-0d15-4f5c-9554-ddc89d2d72f9"
   },
   "outputs": [
    {
     "data": {
      "text/html": [
       "<table border='1'>\n",
       "<tr><th>PassengerId</th><th>Survived</th><th>Pclass</th><th>Name</th><th>Sex</th><th>Age</th><th>SibSp</th><th>Parch</th><th>Ticket</th><th>Fare</th><th>Cabin</th><th>Port</th><th>Age_imputed</th></tr>\n",
       "<tr><td>8</td><td>0</td><td>3</td><td>Palsson, Master. ...</td><td>male</td><td>2.0</td><td>3</td><td>1</td><td>349909</td><td>21.075</td><td>NULL</td><td>S</td><td>2.0</td></tr>\n",
       "<tr><td>17</td><td>0</td><td>3</td><td>Rice, Master. Eugene</td><td>male</td><td>2.0</td><td>4</td><td>1</td><td>382652</td><td>29.125</td><td>NULL</td><td>Q</td><td>2.0</td></tr>\n",
       "<tr><td>28</td><td>0</td><td>1</td><td>Fortune, Mr. Char...</td><td>male</td><td>19.0</td><td>3</td><td>2</td><td>19950</td><td>263.0</td><td>C23 C25 C27</td><td>S</td><td>19.0</td></tr>\n",
       "<tr><td>34</td><td>0</td><td>2</td><td>Wheadon, Mr. Edwa...</td><td>male</td><td>66.0</td><td>0</td><td>0</td><td>C.A. 24579</td><td>10.5</td><td>NULL</td><td>S</td><td>66.0</td></tr>\n",
       "<tr><td>51</td><td>0</td><td>3</td><td>Panula, Master. J...</td><td>male</td><td>7.0</td><td>4</td><td>1</td><td>3101295</td><td>39.6875</td><td>NULL</td><td>S</td><td>7.0</td></tr>\n",
       "</table>\n"
      ],
      "text/plain": [
       "+-----------+--------+------+--------------------+----+----+-----+-----+----------+-------+-----------+----+-----------+\n",
       "|PassengerId|Survived|Pclass|                Name| Sex| Age|SibSp|Parch|    Ticket|   Fare|      Cabin|Port|Age_imputed|\n",
       "+-----------+--------+------+--------------------+----+----+-----+-----+----------+-------+-----------+----+-----------+\n",
       "|          8|       0|     3|Palsson, Master. ...|male| 2.0|    3|    1|    349909| 21.075|       NULL|   S|        2.0|\n",
       "|         17|       0|     3|Rice, Master. Eugene|male| 2.0|    4|    1|    382652| 29.125|       NULL|   Q|        2.0|\n",
       "|         28|       0|     1|Fortune, Mr. Char...|male|19.0|    3|    2|     19950|  263.0|C23 C25 C27|   S|       19.0|\n",
       "|         34|       0|     2|Wheadon, Mr. Edwa...|male|66.0|    0|    0|C.A. 24579|   10.5|       NULL|   S|       66.0|\n",
       "|         51|       0|     3|Panula, Master. J...|male| 7.0|    4|    1|   3101295|39.6875|       NULL|   S|        7.0|\n",
       "+-----------+--------+------+--------------------+----+----+-----+-----+----------+-------+-----------+----+-----------+"
      ]
     },
     "execution_count": 23,
     "metadata": {},
     "output_type": "execute_result"
    }
   ],
   "source": [
    "## AND, OR 조건 추가 - 나이가 20보다 어리거나 60보다 크면서 남성인 사람\n",
    "df.filter(((df['Age'] < 20) | (df['Age'] > 60)) & (df['Sex'] == 'male')).limit(5)"
   ]
  },
  {
   "cell_type": "code",
   "execution_count": 24,
   "id": "cZe46G9-HoVd",
   "metadata": {
    "colab": {
     "base_uri": "https://localhost:8080/",
     "height": 156
    },
    "id": "cZe46G9-HoVd",
    "outputId": "7e913947-c4b3-4ea2-e6fd-61e3a1762413"
   },
   "outputs": [
    {
     "data": {
      "text/html": [
       "<table border='1'>\n",
       "<tr><th>PassengerId</th><th>Survived</th><th>Pclass</th><th>Name</th><th>Sex</th><th>Age</th><th>SibSp</th><th>Parch</th><th>Ticket</th><th>Fare</th><th>Cabin</th><th>Port</th><th>Age_imputed</th></tr>\n",
       "<tr><td>34</td><td>0</td><td>2</td><td>Wheadon, Mr. Edwa...</td><td>male</td><td>66.0</td><td>0</td><td>0</td><td>C.A. 24579</td><td>10.5</td><td>NULL</td><td>S</td><td>66.0</td></tr>\n",
       "<tr><td>55</td><td>0</td><td>1</td><td>Ostby, Mr. Engelh...</td><td>male</td><td>65.0</td><td>0</td><td>1</td><td>113509</td><td>61.9792</td><td>B30</td><td>C</td><td>65.0</td></tr>\n",
       "<tr><td>97</td><td>0</td><td>1</td><td>Goldschmidt, Mr. ...</td><td>male</td><td>71.0</td><td>0</td><td>0</td><td>PC 17754</td><td>34.6542</td><td>A5</td><td>C</td><td>71.0</td></tr>\n",
       "<tr><td>117</td><td>0</td><td>3</td><td>Connors, Mr. Patrick</td><td>male</td><td>70.5</td><td>0</td><td>0</td><td>370369</td><td>7.75</td><td>NULL</td><td>Q</td><td>70.5</td></tr>\n",
       "<tr><td>171</td><td>0</td><td>1</td><td>Van der hoef, Mr....</td><td>male</td><td>61.0</td><td>0</td><td>0</td><td>111240</td><td>33.5</td><td>B19</td><td>S</td><td>61.0</td></tr>\n",
       "</table>\n"
      ],
      "text/plain": [
       "+-----------+--------+------+--------------------+----+----+-----+-----+----------+-------+-----+----+-----------+\n",
       "|PassengerId|Survived|Pclass|                Name| Sex| Age|SibSp|Parch|    Ticket|   Fare|Cabin|Port|Age_imputed|\n",
       "+-----------+--------+------+--------------------+----+----+-----+-----+----------+-------+-----+----+-----------+\n",
       "|         34|       0|     2|Wheadon, Mr. Edwa...|male|66.0|    0|    0|C.A. 24579|   10.5| NULL|   S|       66.0|\n",
       "|         55|       0|     1|Ostby, Mr. Engelh...|male|65.0|    0|    1|    113509|61.9792|  B30|   C|       65.0|\n",
       "|         97|       0|     1|Goldschmidt, Mr. ...|male|71.0|    0|    0|  PC 17754|34.6542|   A5|   C|       71.0|\n",
       "|        117|       0|     3|Connors, Mr. Patrick|male|70.5|    0|    0|    370369|   7.75| NULL|   Q|       70.5|\n",
       "|        171|       0|     1|Van der hoef, Mr....|male|61.0|    0|    0|    111240|   33.5|  B19|   S|       61.0|\n",
       "+-----------+--------+------+--------------------+----+----+-----+-----+----------+-------+-----+----+-----------+"
      ]
     },
     "execution_count": 24,
     "metadata": {},
     "output_type": "execute_result"
    }
   ],
   "source": [
    "## Not condition\n",
    "df.filter(~(df['Age'] < 60)).limit(5)"
   ]
  },
  {
   "cell_type": "markdown",
   "id": "1MLWZXg3Hwu2",
   "metadata": {
    "id": "1MLWZXg3Hwu2"
   },
   "source": [
    "## GroupBy 와 Aggregation Function (집합 함수)"
   ]
  },
  {
   "cell_type": "code",
   "execution_count": 25,
   "id": "28Wm7TIZHsyg",
   "metadata": {
    "colab": {
     "base_uri": "https://localhost:8080/",
     "height": 88
    },
    "id": "28Wm7TIZHsyg",
    "outputId": "6d2eec21-85d9-4fd0-f1fc-b6205c3a3ace"
   },
   "outputs": [
    {
     "data": {
      "text/html": [
       "<table border='1'>\n",
       "<tr><th>Sex</th><th>avg(Age)</th></tr>\n",
       "<tr><td>female</td><td>27.915708812260537</td></tr>\n",
       "<tr><td>male</td><td>30.72664459161148</td></tr>\n",
       "</table>\n"
      ],
      "text/plain": [
       "+------+------------------+\n",
       "|   Sex|          avg(Age)|\n",
       "+------+------------------+\n",
       "|female|27.915708812260537|\n",
       "|  male| 30.72664459161148|\n",
       "+------+------------------+"
      ]
     },
     "execution_count": 25,
     "metadata": {},
     "output_type": "execute_result"
    }
   ],
   "source": [
    "# 'Sex' 컬럼을 기준으로 그룹화 후, 각 그룹에서 모든 수치형 컬럼의 평균 계산\n",
    "# 특정 column 만 선택\n",
    "df.groupBy('Sex').mean().select(['Sex', 'avg(Age)'])"
   ]
  },
  {
   "cell_type": "code",
   "execution_count": 26,
   "id": "yKxxGMjVH0O4",
   "metadata": {
    "colab": {
     "base_uri": "https://localhost:8080/",
     "height": 88
    },
    "id": "yKxxGMjVH0O4",
    "outputId": "1d16ca09-5ef2-4063-e4df-125b47601684"
   },
   "outputs": [
    {
     "data": {
      "text/html": [
       "<table border='1'>\n",
       "<tr><th>Sex</th><th>avg(Age)</th></tr>\n",
       "<tr><td>female</td><td>27.915708812260537</td></tr>\n",
       "<tr><td>male</td><td>30.72664459161148</td></tr>\n",
       "</table>\n"
      ],
      "text/plain": [
       "+------+------------------+\n",
       "|   Sex|          avg(Age)|\n",
       "+------+------------------+\n",
       "|female|27.915708812260537|\n",
       "|  male| 30.72664459161148|\n",
       "+------+------------------+"
      ]
     },
     "execution_count": 26,
     "metadata": {},
     "output_type": "execute_result"
    }
   ],
   "source": [
    "# 특정 컬럼만 선택 후 그룹화\n",
    "df[['Sex', 'Age']].groupBy('Sex').mean()"
   ]
  },
  {
   "cell_type": "code",
   "execution_count": 27,
   "id": "YeYGPxhXIdrQ",
   "metadata": {
    "colab": {
     "base_uri": "https://localhost:8080/",
     "height": 88
    },
    "id": "YeYGPxhXIdrQ",
    "outputId": "bb8af7f2-f33e-4a44-9772-b74a0fae4d2a"
   },
   "outputs": [
    {
     "data": {
      "text/html": [
       "<table border='1'>\n",
       "<tr><th>Sex</th><th>max(Age)</th></tr>\n",
       "<tr><td>female</td><td>63.0</td></tr>\n",
       "<tr><td>male</td><td>80.0</td></tr>\n",
       "</table>\n"
      ],
      "text/plain": [
       "+------+--------+\n",
       "|   Sex|max(Age)|\n",
       "+------+--------+\n",
       "|female|    63.0|\n",
       "|  male|    80.0|\n",
       "+------+--------+"
      ]
     },
     "execution_count": 27,
     "metadata": {},
     "output_type": "execute_result"
    }
   ],
   "source": [
    "# 성별 최고령자\n",
    "df[['Sex', 'Age']].groupBy('Sex').max()"
   ]
  },
  {
   "cell_type": "code",
   "execution_count": 28,
   "id": "KEKjgbhgLov_",
   "metadata": {
    "colab": {
     "base_uri": "https://localhost:8080/",
     "height": 133
    },
    "id": "KEKjgbhgLov_",
    "outputId": "ae9ce61a-c43b-435f-c592-a9c29242727d"
   },
   "outputs": [
    {
     "data": {
      "text/html": [
       "<table border='1'>\n",
       "<tr><th>Port</th><th>count</th></tr>\n",
       "<tr><td>Q</td><td>77</td></tr>\n",
       "<tr><td>NULL</td><td>2</td></tr>\n",
       "<tr><td>C</td><td>168</td></tr>\n",
       "<tr><td>S</td><td>644</td></tr>\n",
       "</table>\n"
      ],
      "text/plain": [
       "+----+-----+\n",
       "|Port|count|\n",
       "+----+-----+\n",
       "|   Q|   77|\n",
       "|NULL|    2|\n",
       "|   C|  168|\n",
       "|   S|  644|\n",
       "+----+-----+"
      ]
     },
     "execution_count": 28,
     "metadata": {},
     "output_type": "execute_result"
    }
   ],
   "source": [
    "# 출항 항구별 탑승객 수\n",
    "df.groupBy('Port').count()"
   ]
  },
  {
   "cell_type": "markdown",
   "id": "GWi4VCm6MJxF",
   "metadata": {
    "id": "GWi4VCm6MJxF"
   },
   "source": [
    "- PySpark DataFrame의 여러 컬럼에 대해 집계(aggregation) 연산을 동시에 수행"
   ]
  },
  {
   "cell_type": "code",
   "execution_count": 29,
   "id": "RMQXqOkBLtZS",
   "metadata": {
    "colab": {
     "base_uri": "https://localhost:8080/",
     "height": 65
    },
    "id": "RMQXqOkBLtZS",
    "outputId": "3472c5d3-f469-49f6-f55d-59a0d7a77462"
   },
   "outputs": [
    {
     "data": {
      "text/html": [
       "<table border='1'>\n",
       "<tr><th>max(SibSp)</th><th>avg(Age)</th><th>max(Fare)</th></tr>\n",
       "<tr><td>8</td><td>29.69911764705882</td><td>512.3292</td></tr>\n",
       "</table>\n"
      ],
      "text/plain": [
       "+----------+-----------------+---------+\n",
       "|max(SibSp)|         avg(Age)|max(Fare)|\n",
       "+----------+-----------------+---------+\n",
       "|         8|29.69911764705882| 512.3292|\n",
       "+----------+-----------------+---------+"
      ]
     },
     "execution_count": 29,
     "metadata": {},
     "output_type": "execute_result"
    }
   ],
   "source": [
    "# agg 함수 이용 (group by 내포)\n",
    "df.agg({\"Age\": \"mean\", \"Fare\": \"max\", \"SibSp\": \"max\"})"
   ]
  },
  {
   "cell_type": "markdown",
   "id": "ZlXZINEbaXcw",
   "metadata": {
    "id": "ZlXZINEbaXcw"
   },
   "source": [
    "### Parquet 데이터셋 읽기\n",
    "Parquet는 Apache Hadoop에서 널리 사용되는 컬럼 기반 저장 포맷으로, 대규모 데이터를 효율적으로 저장하고 분석하기 위해 설계되었습니다. "
   ]
  },
  {
   "cell_type": "code",
   "execution_count": null,
   "id": "g9gnOynEYw5i",
   "metadata": {
    "id": "g9gnOynEYw5i"
   },
   "outputs": [],
   "source": [
    "# Parquet 파일 경로 지정\n",
    "# Python 관련 질문과 답변을 포함한 작은 parqeut 파일\n",
    "file_path = \"/content/drive/MyDrive/Colab Notebooks/BigData/datasets/0000.parquet\"\n",
    "\n",
    "# Parquet 파일 로드\n",
    "df = spark.read.parquet(file_path)"
   ]
  },
  {
   "cell_type": "code",
   "execution_count": 33,
   "id": "VX8d5M73Y0Kf",
   "metadata": {
    "colab": {
     "base_uri": "https://localhost:8080/",
     "height": 156
    },
    "id": "VX8d5M73Y0Kf",
    "outputId": "fc2db5b3-2159-4646-ec69-eab7e9c3083e"
   },
   "outputs": [
    {
     "data": {
      "text/html": [
       "<table border='1'>\n",
       "<tr><th>output</th><th>text</th><th>input</th><th>instruction</th></tr>\n",
       "<tr><td>```python\\ntasks ...</td><td>Help me set up my...</td><td>Setting up your d...</td><td>Help me set up my...</td></tr>\n",
       "<tr><td>```python\\nshoppi...</td><td>Create a shopping...</td><td>Creating a shoppi...</td><td>Create a shopping...</td></tr>\n",
       "<tr><td>```python\\ntotal_...</td><td>Calculate how muc...</td><td>Calculating weekl...</td><td>Calculate how muc...</td></tr>\n",
       "<tr><td>```python\\ntotal_...</td><td>Help me split the...</td><td>Splitting the bil...</td><td>Help me split the...</td></tr>\n",
       "<tr><td>```python\\nmovie_...</td><td>Organize my movie...</td><td>Organizing your m...</td><td>Organize my movie...</td></tr>\n",
       "</table>\n"
      ],
      "text/plain": [
       "+--------------------+--------------------+--------------------+--------------------+\n",
       "|              output|                text|               input|         instruction|\n",
       "+--------------------+--------------------+--------------------+--------------------+\n",
       "|```python\\ntasks ...|Help me set up my...|Setting up your d...|Help me set up my...|\n",
       "|```python\\nshoppi...|Create a shopping...|Creating a shoppi...|Create a shopping...|\n",
       "|```python\\ntotal_...|Calculate how muc...|Calculating weekl...|Calculate how muc...|\n",
       "|```python\\ntotal_...|Help me split the...|Splitting the bil...|Help me split the...|\n",
       "|```python\\nmovie_...|Organize my movie...|Organizing your m...|Organize my movie...|\n",
       "+--------------------+--------------------+--------------------+--------------------+"
      ]
     },
     "execution_count": 33,
     "metadata": {},
     "output_type": "execute_result"
    }
   ],
   "source": [
    "# 데이터 확인\n",
    "df.limit(5)  # 상위 5개 행 출력"
   ]
  },
  {
   "cell_type": "code",
   "execution_count": 34,
   "id": "GN3JECCeL87x",
   "metadata": {
    "colab": {
     "base_uri": "https://localhost:8080/"
    },
    "id": "GN3JECCeL87x",
    "outputId": "9c3d1683-b512-4e14-f9fd-c9a8002b65e9"
   },
   "outputs": [
    {
     "name": "stdout",
     "output_type": "stream",
     "text": [
      "root\n",
      " |-- output: string (nullable = true)\n",
      " |-- text: string (nullable = true)\n",
      " |-- input: string (nullable = true)\n",
      " |-- instruction: string (nullable = true)\n",
      "\n"
     ]
    }
   ],
   "source": [
    "df.printSchema()  # 데이터 스키마 출력"
   ]
  },
  {
   "cell_type": "code",
   "execution_count": 46,
   "id": "m3J9KRfDZaWe",
   "metadata": {
    "colab": {
     "base_uri": "https://localhost:8080/"
    },
    "id": "m3J9KRfDZaWe",
    "outputId": "5c61ba65-7489-4b80-ce6f-f7deb13e562a"
   },
   "outputs": [
    {
     "name": "stdout",
     "output_type": "stream",
     "text": [
      "instruction: Help me set up my daily to-do list!\n",
      "\n",
      "input: Setting up your daily to-do list...\n",
      "\n",
      "output: ```python\n",
      "tasks = []\n",
      "while True:\n",
      "    task = input('Enter a task or type 'done' to finish: ')\n",
      "    if task == 'done': break\n",
      "    tasks.append(task)\n",
      "print(f'Your to-do list for today: {tasks}')\n",
      "```\n"
     ]
    }
   ],
   "source": [
    "# 첫 번째 행 가져오기\n",
    "first_row = df.first()\n",
    "\n",
    "# 각 컬럼의 값 출력\n",
    "print(\"instruction:\", first_row.instruction)\n",
    "print()\n",
    "print(\"input:\", first_row.input)\n",
    "print()\n",
    "print(\"output:\", first_row.output)"
   ]
  },
  {
   "cell_type": "code",
   "execution_count": null,
   "id": "TYfDZ0zVZbk-",
   "metadata": {
    "id": "TYfDZ0zVZbk-"
   },
   "outputs": [],
   "source": []
  }
 ],
 "metadata": {
  "colab": {
   "provenance": []
  },
  "kernelspec": {
   "display_name": "Python 3 (ipykernel)",
   "language": "python",
   "name": "python3"
  },
  "language_info": {
   "codemirror_mode": {
    "name": "ipython",
    "version": 3
   },
   "file_extension": ".py",
   "mimetype": "text/x-python",
   "name": "python",
   "nbconvert_exporter": "python",
   "pygments_lexer": "ipython3",
   "version": "3.9.16"
  }
 },
 "nbformat": 4,
 "nbformat_minor": 5
}
