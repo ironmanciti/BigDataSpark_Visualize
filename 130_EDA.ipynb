{
 "cells": [
  {
   "cell_type": "markdown",
   "metadata": {
    "id": "N7Oo2PmxGsdZ"
   },
   "source": [
    "# 탐색적 데이터 분석 (Exploratory Data Analysis)\n",
    "\n",
    "* 테이블 생성\n",
    "* temporary view 만들기\n",
    "* 데이터를 탐색, 조작 및 제시하기 위한 기본 SQL 쿼리 작성\n",
    "* 두 개의 view를 결합하고 결과를 시각화합니다."
   ]
  },
  {
   "cell_type": "markdown",
   "metadata": {
    "id": "oOlgbjuAG0UW"
   },
   "source": [
    "## 테이블 생성\n",
    "\n",
    "데이터 소스에서 직접 읽고 **스키마**를 지정하여 테이블을 생성합니다. 스키마는 데이터 구조를 설명합니다. 여기에는 열 이름과 각 열의 데이터 유형이 포함됩니다. 모든 테이블에는 연결된 스키마가 있어야 합니다. 명시적으로 정의하지 않으면 Spark에서 이를 유추할 수 있습니다.\n",
    "\n",
    "아래 셀에서 테이블을 만들 때 스키마를 정의합니다. 이 데이터에는 다음과 같은 스키마가 있습니다.\n",
    "\n",
    "|Column Name | Type |\n",
    "| ---------- | ---- |\n",
    "| userId | INT|\n",
    "| movieId | INT|\n",
    "| rating | FLOAT|\n",
    "| timeRecorded | INT|"
   ]
  },
  {
   "cell_type": "code",
   "execution_count": 1,
   "metadata": {
    "colab": {
     "base_uri": "https://localhost:8080/",
     "height": 224
    },
    "id": "1mfOqlFxTgyn",
    "outputId": "5b69d069-bad4-46a4-c367-5f3ab960599d"
   },
   "outputs": [
    {
     "data": {
      "text/html": [
       "\n",
       "            <div>\n",
       "                <p><b>SparkSession - in-memory</b></p>\n",
       "                \n",
       "        <div>\n",
       "            <p><b>SparkContext</b></p>\n",
       "\n",
       "            <p><a href=\"http://aeeabe0dc2f1:4040\">Spark UI</a></p>\n",
       "\n",
       "            <dl>\n",
       "              <dt>Version</dt>\n",
       "                <dd><code>v3.5.5</code></dd>\n",
       "              <dt>Master</dt>\n",
       "                <dd><code>local[*]</code></dd>\n",
       "              <dt>AppName</dt>\n",
       "                <dd><code>EDA Session</code></dd>\n",
       "            </dl>\n",
       "        </div>\n",
       "        \n",
       "            </div>\n",
       "        "
      ],
      "text/plain": [
       "<pyspark.sql.session.SparkSession at 0x7b341d63c550>"
      ]
     },
     "execution_count": 1,
     "metadata": {},
     "output_type": "execute_result"
    }
   ],
   "source": [
    "from pyspark.sql import SparkSession\n",
    "\n",
    "# SparkSession은 PySpark 애플리케이션의 진입점으로,\n",
    "# 데이터프레임 생성, 데이터 읽기/쓰기, SQL 작업 등을 수행할 수 있게 해줍니다.\n",
    "spark = SparkSession.builder \\\n",
    "    .appName(\"EDA Session\") \\\n",
    "    .config(\"spark.sql.repl.eagerEval.enabled\", True) \\\n",
    "    .getOrCreate()\n",
    "\n",
    "spark"
   ]
  },
  {
   "cell_type": "markdown",
   "metadata": {
    "id": "KVp8fz_WByn4"
   },
   "source": [
    "- 이 테이블에는 사용자가 제출한 2천만 개가 조금 넘는 영화 등급 레코드가 포함되어 있습니다. 타임스탬프는 UTC 시간으로 기록된 integer 값입니다."
   ]
  },
  {
   "cell_type": "code",
   "execution_count": 3,
   "metadata": {
    "colab": {
     "base_uri": "https://localhost:8080/"
    },
    "id": "_1HwBTgQYktU",
    "outputId": "35788545-49a5-4b41-bbdc-027b44f09b55"
   },
   "outputs": [
    {
     "name": "stderr",
     "output_type": "stream",
     "text": [
      "Downloading...\n",
      "From (original): https://drive.google.com/uc?id=1qq6l62PWQa9FMdSmWyqyqPxqUBN_7Teo\n",
      "From (redirected): https://drive.google.com/uc?id=1qq6l62PWQa9FMdSmWyqyqPxqUBN_7Teo&confirm=t&uuid=4a2acc8a-0c83-43db-8fac-26e932518fdd\n",
      "To: /content/data.zip\n",
      "100%|██████████| 176M/176M [00:02<00:00, 77.2MB/s]\n"
     ]
    },
    {
     "name": "stdout",
     "output_type": "stream",
     "text": [
      "압축이 'unzipped_data' 폴더에 풀렸습니다.\n"
     ]
    }
   ],
   "source": [
    "import gdown\n",
    "import zipfile\n",
    "import os\n",
    "\n",
    "# 파일 ID와 저장 파일명 설정\n",
    "file_id = \"1qq6l62PWQa9FMdSmWyqyqPxqUBN_7Teo\"\n",
    "zip_filename = \"data.zip\"\n",
    "extract_dir = \"unzipped_data\"\n",
    "\n",
    "# ZIP 파일 다운로드\n",
    "gdown.download(f\"https://drive.google.com/uc?id={file_id}\", zip_filename, quiet=False)\n",
    "\n",
    "# 압축 해제\n",
    "with zipfile.ZipFile(zip_filename, 'r') as zip_ref:\n",
    "    zip_ref.extractall(extract_dir)\n",
    "\n",
    "print(f\"압축이 '{extract_dir}' 폴더에 풀렸습니다.\")"
   ]
  },
  {
   "cell_type": "code",
   "execution_count": 4,
   "metadata": {
    "colab": {
     "base_uri": "https://localhost:8080/",
     "height": 25
    },
    "id": "vSEcKhgASmih",
    "outputId": "dfb08041-fb47-42f9-e387-274ccc8e5c62"
   },
   "outputs": [
    {
     "data": {
      "text/html": [
       "<table border='1'>\n",
       "<tr><th></th></tr>\n",
       "</table>\n"
      ],
      "text/plain": [
       "++\n",
       "||\n",
       "++\n",
       "++"
      ]
     },
     "execution_count": 4,
     "metadata": {},
     "output_type": "execute_result"
    }
   ],
   "source": [
    "# DROP TABLE 실행\n",
    "# movieRatings 테이블이 이미 존재하면 삭제\n",
    "spark.sql(\"\"\"\n",
    "DROP TABLE IF EXISTS movieRatings\n",
    "\"\"\")\n",
    "\n",
    "# CREATE TABLE 실행\n",
    "# ratings.csv 파일을 기반으로 movieRatings 테이블 생성\n",
    "spark.sql(\"\"\"\n",
    "CREATE TABLE movieRatings (\n",
    "  userId INT,\n",
    "  movieId INT,\n",
    "  rating FLOAT,\n",
    "  timeRecorded INT\n",
    ")\n",
    "USING csv\n",
    "OPTIONS (\n",
    "  path '/content/unzipped_data/ratings.csv',\n",
    "  header 'true'\n",
    ")\n",
    "\"\"\")"
   ]
  },
  {
   "cell_type": "code",
   "execution_count": 5,
   "metadata": {
    "colab": {
     "base_uri": "https://localhost:8080/",
     "height": 36
    },
    "id": "dTPbxCktwG9C",
    "outputId": "de97b6fc-b9ab-4b1d-b75e-cf9700056c26"
   },
   "outputs": [
    {
     "data": {
      "application/vnd.google.colaboratory.intrinsic+json": {
       "type": "string"
      },
      "text/plain": [
       "'file:/content/spark-warehouse'"
      ]
     },
     "execution_count": 5,
     "metadata": {},
     "output_type": "execute_result"
    }
   ],
   "source": [
    "# Spark SQL의 기본 데이터베이스 및 테이블의 물리적 저장 경로 확인\n",
    "spark.conf.get(\"spark.sql.warehouse.dir\")"
   ]
  },
  {
   "cell_type": "code",
   "execution_count": 6,
   "metadata": {
    "colab": {
     "base_uri": "https://localhost:8080/",
     "height": 156
    },
    "id": "g3U2Y-BOTa6r",
    "outputId": "0a2b52a7-11ee-4466-b68b-8f4576f6921f"
   },
   "outputs": [
    {
     "data": {
      "text/html": [
       "<table border='1'>\n",
       "<tr><th>userId</th><th>movieId</th><th>rating</th><th>timeRecorded</th></tr>\n",
       "<tr><td>1</td><td>110</td><td>1.0</td><td>1425941529</td></tr>\n",
       "<tr><td>1</td><td>147</td><td>4.5</td><td>1425942435</td></tr>\n",
       "<tr><td>1</td><td>858</td><td>5.0</td><td>1425941523</td></tr>\n",
       "<tr><td>1</td><td>1221</td><td>5.0</td><td>1425941546</td></tr>\n",
       "<tr><td>1</td><td>1246</td><td>5.0</td><td>1425941556</td></tr>\n",
       "</table>\n"
      ],
      "text/plain": [
       "+------+-------+------+------------+\n",
       "|userId|movieId|rating|timeRecorded|\n",
       "+------+-------+------+------------+\n",
       "|     1|    110|   1.0|  1425941529|\n",
       "|     1|    147|   4.5|  1425942435|\n",
       "|     1|    858|   5.0|  1425941523|\n",
       "|     1|   1221|   5.0|  1425941546|\n",
       "|     1|   1246|   5.0|  1425941556|\n",
       "+------+-------+------+------------+"
      ]
     },
     "execution_count": 6,
     "metadata": {},
     "output_type": "execute_result"
    }
   ],
   "source": [
    "# movieRatings 테이블의 모든 데이터를 조회\n",
    "result = spark.sql(\"SELECT * FROM movieRatings\")\n",
    "\n",
    "# 결과 출력\n",
    "result.limit(5)"
   ]
  },
  {
   "cell_type": "code",
   "execution_count": 7,
   "metadata": {
    "colab": {
     "base_uri": "https://localhost:8080/",
     "height": 65
    },
    "id": "Vk-1oaSYl2-w",
    "outputId": "175494ca-529a-4def-9a22-815ba4d76183"
   },
   "outputs": [
    {
     "data": {
      "text/html": [
       "<table border='1'>\n",
       "<tr><th>count(1)</th></tr>\n",
       "<tr><td>26024289</td></tr>\n",
       "</table>\n"
      ],
      "text/plain": [
       "+--------+\n",
       "|count(1)|\n",
       "+--------+\n",
       "|26024289|\n",
       "+--------+"
      ]
     },
     "execution_count": 7,
     "metadata": {},
     "output_type": "execute_result"
    }
   ],
   "source": [
    "# movieRatings 테이블의 전체 레코드 수\n",
    "spark.sql(\"SELECT COUNT(*) FROM movieRatings\")"
   ]
  },
  {
   "cell_type": "markdown",
   "metadata": {
    "id": "dAWZQJq8ZS9R"
   },
   "source": [
    "## Cast as timestamp\n",
    "\n",
    "타임스탬프를 사람이 읽을 수 있는 시간과 날짜로 표시하기 위해 `CAST()` 함수를 사용합니다."
   ]
  },
  {
   "cell_type": "code",
   "execution_count": 8,
   "metadata": {
    "colab": {
     "base_uri": "https://localhost:8080/",
     "height": 133
    },
    "id": "McltjQ3JT0Pb",
    "outputId": "f1f452cc-8072-4d4e-bcb4-173c62343eb3"
   },
   "outputs": [
    {
     "data": {
      "text/html": [
       "<table border='1'>\n",
       "<tr><th>rating</th><th>timeRecorded</th></tr>\n",
       "<tr><td>1.0</td><td>2015-03-09 22:52:09</td></tr>\n",
       "<tr><td>4.5</td><td>2015-03-09 23:07:15</td></tr>\n",
       "<tr><td>5.0</td><td>2015-03-09 22:52:03</td></tr>\n",
       "<tr><td>5.0</td><td>2015-03-09 22:52:26</td></tr>\n",
       "</table>\n"
      ],
      "text/plain": [
       "+------+-------------------+\n",
       "|rating|       timeRecorded|\n",
       "+------+-------------------+\n",
       "|   1.0|2015-03-09 22:52:09|\n",
       "|   4.5|2015-03-09 23:07:15|\n",
       "|   5.0|2015-03-09 22:52:03|\n",
       "|   5.0|2015-03-09 22:52:26|\n",
       "+------+-------------------+"
      ]
     },
     "execution_count": 8,
     "metadata": {},
     "output_type": "execute_result"
    }
   ],
   "source": [
    "# Spark SQL 쿼리 실행\n",
    "result = spark.sql(\"\"\"\n",
    "SELECT\n",
    "    rating,                            -- 평점\n",
    "    CAST(timeRecorded AS timestamp)    -- timeRecorded를 timestamp 형식으로 변환\n",
    "FROM movieRatings                      -- movieRatings 테이블에서 데이터 조회\n",
    "\"\"\")\n",
    "\n",
    "# 결과 출력\n",
    "result.limit(4)"
   ]
  },
  {
   "cell_type": "markdown",
   "metadata": {
    "id": "je8G1a85ZiE5"
   },
   "source": [
    "## temporary view 생성\n",
    "\n",
    "시각화에 포함하려는 데이터를 쉽게 참조할 수 있는 temporary view 를 생성합니다. 이 데이터의 경우 월별로 그룹화할 때 등급에 패턴이 있는지 조사할 수 있습니다. 이를 위해 `ROUND()` 및 `AVG()` 함수를 사용하여 평균 평점을 계산하고 소수점 이하 3자리로 제한합니다. 그런 다음 타임스탬프로 캐스팅한 후 `timeRecorded` 열에서 월을 추출합니다. `AVG()`는 `GROUP BY` 절에 지정된 대로 한 달 단위로 계산됩니다."
   ]
  },
  {
   "cell_type": "code",
   "execution_count": 9,
   "metadata": {
    "colab": {
     "base_uri": "https://localhost:8080/",
     "height": 25
    },
    "id": "zc_VmH7OZdB9",
    "outputId": "fc73ff6a-a2e4-4e86-d556-efcfdd0eb334"
   },
   "outputs": [
    {
     "data": {
      "text/html": [
       "<table border='1'>\n",
       "<tr><th></th></tr>\n",
       "</table>\n"
      ],
      "text/plain": [
       "++\n",
       "||\n",
       "++\n",
       "++"
      ]
     },
     "execution_count": 9,
     "metadata": {},
     "output_type": "execute_result"
    }
   ],
   "source": [
    "# Spark SQL을 사용하여 ratingsByMonth 임시 뷰 생성\n",
    "spark.sql(\"\"\"\n",
    "CREATE OR REPLACE TEMPORARY VIEW ratingsByMonth AS\n",
    "SELECT\n",
    "  ROUND(AVG(rating), 3) AS avgRating,                     -- 평점의 평균을 소수점 3자리로 반올림\n",
    "  MONTH(CAST(timeRecorded AS timestamp)) AS month         -- timeRecorded를 timestamp로 변환 후 월 추출\n",
    "FROM movieRatings                                         -- movieRatings 테이블에서 데이터 조회\n",
    "GROUP BY month                                            -- 월(month)별로 그룹화\n",
    "\"\"\")"
   ]
  },
  {
   "cell_type": "markdown",
   "metadata": {
    "id": "1eUUODwZZvfw"
   },
   "source": [
    "## 데이터 시각화\n",
    "\n",
    "다음 셀을 실행하여 'avgRating'에 의해 오름 차순으로 정렬된 방금 정의한 view를 확인합니다. 결과는 table로 나타납니다."
   ]
  },
  {
   "cell_type": "code",
   "execution_count": 10,
   "metadata": {
    "colab": {
     "base_uri": "https://localhost:8080/",
     "height": 156
    },
    "id": "wX4hmi3JZsUM",
    "outputId": "03a7edfe-dfc0-4121-91ca-f408735fc7be"
   },
   "outputs": [
    {
     "data": {
      "text/html": [
       "<table border='1'>\n",
       "<tr><th>avgRating</th><th>month</th></tr>\n",
       "<tr><td>3.492</td><td>3</td></tr>\n",
       "<tr><td>3.504</td><td>6</td></tr>\n",
       "<tr><td>3.519</td><td>1</td></tr>\n",
       "<tr><td>3.519</td><td>8</td></tr>\n",
       "<tr><td>3.521</td><td>5</td></tr>\n",
       "</table>\n"
      ],
      "text/plain": [
       "+---------+-----+\n",
       "|avgRating|month|\n",
       "+---------+-----+\n",
       "|    3.492|    3|\n",
       "|    3.504|    6|\n",
       "|    3.519|    1|\n",
       "|    3.519|    8|\n",
       "|    3.521|    5|\n",
       "+---------+-----+"
      ]
     },
     "execution_count": 10,
     "metadata": {},
     "output_type": "execute_result"
    }
   ],
   "source": [
    "# Spark SQL을 사용하여 ratingsByMonth 뷰에서 데이터를 avgRating 기준으로 정렬하여 조회\n",
    "result = spark.sql(\"\"\"\n",
    "SELECT *\n",
    "FROM ratingsByMonth\n",
    "ORDER BY avgRating\n",
    "\"\"\")\n",
    "\n",
    "# 결과 출력\n",
    "result.limit(5)"
   ]
  },
  {
   "cell_type": "markdown",
   "metadata": {
    "id": "l0gzeMquptQd"
   },
   "source": [
    "movieRatings 테이블은 영화 평점 데이터에 관한 정보를 담고 있어, 다양한 시각화 분석을 통해 유용한 인사이트를 도출할 수 있습니다.\n",
    "\n",
    "1. 평점 분포 - 전체 평점이 어떻게 분포되어 있는가를 히스토그램으로 시각화\n"
   ]
  },
  {
   "cell_type": "code",
   "execution_count": 11,
   "metadata": {
    "colab": {
     "base_uri": "https://localhost:8080/",
     "height": 65
    },
    "id": "pos8PrWuxjV4",
    "outputId": "48593e6b-b1b6-4f84-8689-9083fd9126a4"
   },
   "outputs": [
    {
     "data": {
      "text/html": [
       "<table border='1'>\n",
       "<tr><th>count</th></tr>\n",
       "<tr><td>26024289</td></tr>\n",
       "</table>\n"
      ],
      "text/plain": [
       "+--------+\n",
       "|   count|\n",
       "+--------+\n",
       "|26024289|\n",
       "+--------+"
      ]
     },
     "execution_count": 11,
     "metadata": {},
     "output_type": "execute_result"
    }
   ],
   "source": [
    "df = spark.sql(\"SELECT COUNT(*) AS count FROM movieRatings\")\n",
    "df"
   ]
  },
  {
   "cell_type": "code",
   "execution_count": 12,
   "metadata": {
    "colab": {
     "base_uri": "https://localhost:8080/"
    },
    "id": "4E0mX6W9v2oX",
    "outputId": "4aa94bfc-5ac7-406b-c3d5-b9ec5bc318ba"
   },
   "outputs": [
    {
     "data": {
      "text/plain": [
       "260242"
      ]
     },
     "execution_count": 12,
     "metadata": {},
     "output_type": "execute_result"
    }
   ],
   "source": [
    "# movieRatings 테이블의 전체 레코드 수를 계산합니다.\n",
    "total_count = spark.sql(\"SELECT COUNT(*) AS count FROM movieRatings\").collect()[0]['count']\n",
    "\n",
    "# 1% 레코드 수를 계산합니다.\n",
    "percent_count = int(total_count * 0.01)\n",
    "percent_count"
   ]
  },
  {
   "cell_type": "code",
   "execution_count": 13,
   "metadata": {
    "colab": {
     "base_uri": "https://localhost:8080/",
     "height": 156
    },
    "id": "cQ5dl1kQvPMl",
    "outputId": "678af25e-6358-42f7-ba31-40bdeb83e45c"
   },
   "outputs": [
    {
     "data": {
      "text/html": [
       "<table border='1'>\n",
       "<tr><th>rating</th></tr>\n",
       "<tr><td>4.0</td></tr>\n",
       "<tr><td>4.0</td></tr>\n",
       "<tr><td>2.5</td></tr>\n",
       "<tr><td>4.0</td></tr>\n",
       "<tr><td>5.0</td></tr>\n",
       "</table>\n"
      ],
      "text/plain": [
       "+------+\n",
       "|rating|\n",
       "+------+\n",
       "|   4.0|\n",
       "|   4.0|\n",
       "|   2.5|\n",
       "|   4.0|\n",
       "|   5.0|\n",
       "+------+"
      ]
     },
     "execution_count": 13,
     "metadata": {},
     "output_type": "execute_result"
    }
   ],
   "source": [
    "from pyspark.sql.functions import rand\n",
    "\n",
    "# 전체 레코드의 1%를 무작위로 추출\n",
    "result = spark.sql(\"SELECT rating FROM movieRatings\").orderBy(rand()).limit(percent_count)\n",
    "\n",
    "result.limit(5)"
   ]
  },
  {
   "cell_type": "code",
   "execution_count": 14,
   "metadata": {
    "colab": {
     "base_uri": "https://localhost:8080/",
     "height": 472
    },
    "id": "SEDtuVaappBr",
    "outputId": "b5b38f52-a791-47f4-a680-a70706b50e18"
   },
   "outputs": [
    {
     "data": {
      "image/png": "[encoded data removed]",
      "text/plain": [
       "<Figure size 640x480 with 1 Axes>"
      ]
     },
     "metadata": {},
     "output_type": "display_data"
    }
   ],
   "source": [
    "import matplotlib.pyplot as plt\n",
    "\n",
    "# PySpark DataFrame을 Pandas DataFrame으로 변환\n",
    "pandas_df = result.toPandas()\n",
    "\n",
    "# rating 컬럼의 데이터를 히스토그램으로 시각화\n",
    "plt.hist(pandas_df['rating'], bins=10, color='blue', alpha=0.7)\n",
    "plt.title('Distribution of Ratings')\n",
    "plt.xlabel('Rating')\n",
    "plt.ylabel('Frequency')\n",
    "plt.show()"
   ]
  },
  {
   "cell_type": "markdown",
   "metadata": {
    "id": "8gQ3ink-aERb"
   },
   "source": [
    "## 소매 데이터 작업\n",
    "- 우리는 온라인 소매 거래를 위해 수집된 데이터를 분석하기 위해 새로운 데이터 세트로 작업할 것입니다.  "
   ]
  },
  {
   "cell_type": "code",
   "execution_count": 15,
   "metadata": {
    "id": "5TGsJrik6xPQ"
   },
   "outputs": [],
   "source": [
    "# Spark 세션 정리 및 종료\n",
    "spark.stop()\n",
    "\n",
    "# 새로운 Spark 세션 시작\n",
    "from pyspark.sql import SparkSession\n",
    "spark = SparkSession.builder.appName(\"New EDA Session\").getOrCreate()"
   ]
  },
  {
   "cell_type": "markdown",
   "metadata": {
    "id": "QKqwNpdua8Vs"
   },
   "source": [
    "## 테이블 생성\n",
    "다음 스키마를 사용하여 `outdoorProducts`라는 새 테이블을 만듭니다.\n",
    "\n",
    "|Column Name | Type |\n",
    "| ---------- | ---- |\n",
    "|invoiceNo   | STRING |\n",
    "|stockCode   | STRING |\n",
    "|description | STRING |\n",
    "|quantity    | INT |\n",
    "|invoiceDate | STRING|\n",
    "|unitPrice  | DOUBLE |\n",
    "|customerID  | INT |\n",
    "|countryName | STRING|\n",
    "\n",
    "작성 단계:\n",
    "* 이름이 `outdoorProducts`인 테이블을 삭제.\n",
    "* 지정된 데이터 소스로 `csv` 사용\n",
    "* 위에 제공된 경로를 사용하여 데이터에 액세스하십시오.\n",
    "* 이 데이터에는 헤더가 포함되어 있습니다. 테이블 생성 문에 포함하십시오."
   ]
  },
  {
   "cell_type": "code",
   "execution_count": 16,
   "metadata": {
    "colab": {
     "base_uri": "https://localhost:8080/",
     "height": 25
    },
    "id": "ZYrXCbilZ6yM",
    "outputId": "2ee67acc-e10e-4edc-e597-43db3078e9fa"
   },
   "outputs": [
    {
     "data": {
      "text/html": [
       "<table border='1'>\n",
       "<tr><th></th></tr>\n",
       "</table>\n"
      ],
      "text/plain": [
       "++\n",
       "||\n",
       "++\n",
       "++"
      ]
     },
     "execution_count": 16,
     "metadata": {},
     "output_type": "execute_result"
    }
   ],
   "source": [
    "# DROP TABLE 실행: 기존에 outdoorProducts 테이블이 존재하면 삭제\n",
    "spark.sql(\"\"\"\n",
    "DROP TABLE IF EXISTS outdoorProducts\n",
    "\"\"\")\n",
    "\n",
    "# CREATE TABLE 실행: 수정된 스키마를 사용하여 outdoorProducts 테이블 생성\n",
    "spark.sql(\"\"\"\n",
    "CREATE TABLE outdoorProducts (\n",
    "    InvoiceNo INT,                 -- 청구 번호\n",
    "    StockCode STRING,       -- 제품 코드\n",
    "    Description STRING,      -- 제품 설명\n",
    "    Quantity INT,                    -- 수량\n",
    "    invoiceDate TIMESTAMP,  -- 청구 날짜와 시간 (TIMESTAMP 타입으로 변경)\n",
    "    UnitPrice DOUBLE,          -- 단가\n",
    "    CustomerID INT,               -- 고객 ID\n",
    "    Country STRING              -- 국가 이름 (컬럼 이름 수정)\n",
    ")\n",
    "USING csv\n",
    "OPTIONS (\n",
    "    path '/content/OnlineRetail.csv',\n",
    "    header 'true'           -- 데이터에 헤더가 포함되어 있음을 지정\n",
    ")\n",
    "\"\"\")"
   ]
  },
  {
   "cell_type": "code",
   "execution_count": 17,
   "metadata": {
    "colab": {
     "base_uri": "https://localhost:8080/",
     "height": 156
    },
    "id": "SP4ldM8vcIA-",
    "outputId": "175a7b4e-a459-464b-e9d3-5b5bdc982b2f"
   },
   "outputs": [
    {
     "data": {
      "text/html": [
       "<table border='1'>\n",
       "<tr><th>InvoiceNo</th><th>StockCode</th><th>Description</th><th>Quantity</th><th>invoiceDate</th><th>UnitPrice</th><th>CustomerID</th><th>Country</th></tr>\n",
       "<tr><td>536365</td><td>85123A</td><td>WHITE HANGING HEA...</td><td>6</td><td>NULL</td><td>2.55</td><td>17850</td><td>United Kingdom</td></tr>\n",
       "<tr><td>536365</td><td>71053</td><td>WHITE METAL LANTERN</td><td>6</td><td>NULL</td><td>3.39</td><td>17850</td><td>United Kingdom</td></tr>\n",
       "<tr><td>536365</td><td>84406B</td><td>CREAM CUPID HEART...</td><td>8</td><td>NULL</td><td>2.75</td><td>17850</td><td>United Kingdom</td></tr>\n",
       "<tr><td>536365</td><td>84029G</td><td>KNITTED UNION FLA...</td><td>6</td><td>NULL</td><td>3.39</td><td>17850</td><td>United Kingdom</td></tr>\n",
       "<tr><td>536365</td><td>84029E</td><td>RED WOOLLY HOTTIE...</td><td>6</td><td>NULL</td><td>3.39</td><td>17850</td><td>United Kingdom</td></tr>\n",
       "</table>\n"
      ],
      "text/plain": [
       "+---------+---------+--------------------+--------+-----------+---------+----------+--------------+\n",
       "|InvoiceNo|StockCode|         Description|Quantity|invoiceDate|UnitPrice|CustomerID|       Country|\n",
       "+---------+---------+--------------------+--------+-----------+---------+----------+--------------+\n",
       "|   536365|   85123A|WHITE HANGING HEA...|       6|       NULL|     2.55|     17850|United Kingdom|\n",
       "|   536365|    71053| WHITE METAL LANTERN|       6|       NULL|     3.39|     17850|United Kingdom|\n",
       "|   536365|   84406B|CREAM CUPID HEART...|       8|       NULL|     2.75|     17850|United Kingdom|\n",
       "|   536365|   84029G|KNITTED UNION FLA...|       6|       NULL|     3.39|     17850|United Kingdom|\n",
       "|   536365|   84029E|RED WOOLLY HOTTIE...|       6|       NULL|     3.39|     17850|United Kingdom|\n",
       "+---------+---------+--------------------+--------+-----------+---------+----------+--------------+"
      ]
     },
     "execution_count": 17,
     "metadata": {},
     "output_type": "execute_result"
    }
   ],
   "source": [
    "spark.sql(\"SELECT * FROM outdoorProducts;\").limit(5)"
   ]
  },
  {
   "cell_type": "code",
   "execution_count": 18,
   "metadata": {
    "colab": {
     "base_uri": "https://localhost:8080/",
     "height": 65
    },
    "id": "fwGusfharuiy",
    "outputId": "b7b36da5-833d-43f0-ac3d-4de0278978af"
   },
   "outputs": [
    {
     "data": {
      "text/html": [
       "<table border='1'>\n",
       "<tr><th>count(1)</th></tr>\n",
       "<tr><td>541909</td></tr>\n",
       "</table>\n"
      ],
      "text/plain": [
       "+--------+\n",
       "|count(1)|\n",
       "+--------+\n",
       "|  541909|\n",
       "+--------+"
      ]
     },
     "execution_count": 18,
     "metadata": {},
     "output_type": "execute_result"
    }
   ],
   "source": [
    "spark.sql(\"SELECT COUNT(*) FROM outdoorProducts;\")"
   ]
  },
  {
   "cell_type": "markdown",
   "metadata": {
    "id": "RsOeQTsprYRL"
   },
   "source": [
    "## 데이터 탐색\n",
    "\n",
    "`quantity`가 음수인 항목의 수를 계산합니다.\n",
    "\n",
    "이 테이블은 반품을 포함한 온라인 거래를 추적합니다. `quantity` 열의 일부 수량은 음수로 표시됩니다. `quantity` 열에서 음수 값의 수를 세는 쿼리를 실행합니다.\n",
    "\n",
    "* `quantity` 열에서 0보다 작은 값의 수를 보고하는 쿼리를 작성합니다."
   ]
  },
  {
   "cell_type": "code",
   "execution_count": 19,
   "metadata": {
    "colab": {
     "base_uri": "https://localhost:8080/"
    },
    "id": "LasZyNimcZyD",
    "outputId": "c2af0a17-d1fb-45b2-81dc-e444d6540489"
   },
   "outputs": [
    {
     "data": {
      "text/plain": [
       "10624"
      ]
     },
     "execution_count": 19,
     "metadata": {},
     "output_type": "execute_result"
    }
   ],
   "source": [
    "# Spark SQL 쿼리 실행: quantity가 0보다 작은 행의 수 계산\n",
    "result = spark.sql(\"\"\"\n",
    "SELECT COUNT(quantity) AS negative_quantity_count\n",
    "FROM outdoorProducts\n",
    "WHERE quantity < 0\n",
    "\"\"\")\n",
    "\n",
    "# 결과 출력\n",
    "result.collect()[0]['negative_quantity_count']"
   ]
  },
  {
   "cell_type": "markdown",
   "metadata": {
    "id": "CMpXeuSKsA_I"
   },
   "source": [
    "## temporary view 생성\n",
    "\n",
    "지정된 열과 행만 포함하고 수학 계산을 사용하여 새 열을 만드는 temporary view를 만듭니다.\n",
    "\n",
    "**view 생성 조건:**\n",
    "* `sales`라는 이름의 temporary view를 만듭니다.\n",
    "* `quantity`와 `unitPrice`를 곱하고 가장 가까운 센트로 반올림하여 새 열 `totalAmount`를 만듭니다.\n",
    "* 포함 열: `stockCode`, `quantity`, `unitPrice`, `country` as `countryName`, quantity * unitPrice as `totalAmount`,\n",
    "* `수량`이 0보다 큰 행만 포함"
   ]
  },
  {
   "cell_type": "code",
   "execution_count": 20,
   "metadata": {
    "colab": {
     "base_uri": "https://localhost:8080/",
     "height": 25
    },
    "id": "z1zdOGdar7IF",
    "outputId": "27b34760-e01a-4236-c5e9-7b30c30c291b"
   },
   "outputs": [
    {
     "data": {
      "text/html": [
       "<table border='1'>\n",
       "<tr><th></th></tr>\n",
       "</table>\n"
      ],
      "text/plain": [
       "++\n",
       "||\n",
       "++\n",
       "++"
      ]
     },
     "execution_count": 20,
     "metadata": {},
     "output_type": "execute_result"
    }
   ],
   "source": [
    "# Spark SQL을 사용하여 sales라는 임시 뷰 생성\n",
    "spark.sql(\"\"\"\n",
    "CREATE OR REPLACE TEMPORARY VIEW sales AS\n",
    "SELECT stockCode, quantity, unitPrice,\n",
    "  country AS countryName,        -- 국가 이름 (컬럼 이름 country로 수정된 경우를 반영)\n",
    "  ROUND(quantity * unitPrice, 2) AS totalAmount  -- 수량과 단가를 곱한 값으로 totalAmount 계산\n",
    "FROM outdoorProducts             -- 데이터를 조회할 테이블\n",
    "WHERE quantity > 0               -- 수량이 0보다 큰 데이터만 선택\n",
    "\"\"\")"
   ]
  },
  {
   "cell_type": "markdown",
   "metadata": {
    "id": "F3ZVIZUjsdrp"
   },
   "source": [
    "## ordered view 표시\n",
    "\n",
    "* `sales` view 에서 모든 열을 선택하고 `totalAmount` 열을 내림차순으로 정렬하는 query 실행"
   ]
  },
  {
   "cell_type": "code",
   "execution_count": 21,
   "metadata": {
    "colab": {
     "base_uri": "https://localhost:8080/",
     "height": 511
    },
    "id": "WTD4BVvVsZ5v",
    "outputId": "4db44069-07fe-4d43-cd4e-4515274bca5a"
   },
   "outputs": [
    {
     "data": {
      "text/html": [
       "<table border='1'>\n",
       "<tr><th>stockCode</th><th>quantity</th><th>unitPrice</th><th>countryName</th><th>totalAmount</th></tr>\n",
       "<tr><td>23843</td><td>80995</td><td>2.08</td><td>United Kingdom</td><td>168469.6</td></tr>\n",
       "<tr><td>23166</td><td>74215</td><td>1.04</td><td>United Kingdom</td><td>77183.6</td></tr>\n",
       "<tr><td>22502</td><td>60</td><td>649.5</td><td>United Kingdom</td><td>38970.0</td></tr>\n",
       "<tr><td>AMAZONFEE</td><td>1</td><td>13541.33</td><td>United Kingdom</td><td>13541.33</td></tr>\n",
       "<tr><td>B</td><td>1</td><td>11062.06</td><td>United Kingdom</td><td>11062.06</td></tr>\n",
       "<tr><td>POST</td><td>1</td><td>8142.75</td><td>United Kingdom</td><td>8142.75</td></tr>\n",
       "<tr><td>23243</td><td>1412</td><td>5.06</td><td>United Kingdom</td><td>7144.72</td></tr>\n",
       "<tr><td>21108</td><td>3114</td><td>2.1</td><td>United Kingdom</td><td>6539.4</td></tr>\n",
       "<tr><td>21108</td><td>3114</td><td>2.1</td><td>United Kingdom</td><td>6539.4</td></tr>\n",
       "<tr><td>23084</td><td>2400</td><td>2.08</td><td>Netherlands</td><td>4992.0</td></tr>\n",
       "<tr><td>85123A</td><td>1930</td><td>2.55</td><td>United Kingdom</td><td>4921.5</td></tr>\n",
       "<tr><td>22086</td><td>688</td><td>6.95</td><td>United Kingdom</td><td>4781.6</td></tr>\n",
       "<tr><td>85123A</td><td>1930</td><td>2.4</td><td>United Kingdom</td><td>4632.0</td></tr>\n",
       "<tr><td>48185</td><td>670</td><td>6.75</td><td>United Kingdom</td><td>4522.5</td></tr>\n",
       "<tr><td>DOT</td><td>1</td><td>4505.17</td><td>United Kingdom</td><td>4505.17</td></tr>\n",
       "<tr><td>23173</td><td>540</td><td>8.15</td><td>United Kingdom</td><td>4401.0</td></tr>\n",
       "<tr><td>M</td><td>1</td><td>4287.63</td><td>United Kingdom</td><td>4287.63</td></tr>\n",
       "<tr><td>48185</td><td>670</td><td>6.35</td><td>United Kingdom</td><td>4254.5</td></tr>\n",
       "<tr><td>84879</td><td>2880</td><td>1.45</td><td>United Kingdom</td><td>4176.0</td></tr>\n",
       "<tr><td>M</td><td>1</td><td>4161.06</td><td>France</td><td>4161.06</td></tr>\n",
       "</table>\n",
       "only showing top 20 rows\n"
      ],
      "text/plain": [
       "+---------+--------+---------+--------------+-----------+\n",
       "|stockCode|quantity|unitPrice|   countryName|totalAmount|\n",
       "+---------+--------+---------+--------------+-----------+\n",
       "|    23843|   80995|     2.08|United Kingdom|   168469.6|\n",
       "|    23166|   74215|     1.04|United Kingdom|    77183.6|\n",
       "|    22502|      60|    649.5|United Kingdom|    38970.0|\n",
       "|AMAZONFEE|       1| 13541.33|United Kingdom|   13541.33|\n",
       "|        B|       1| 11062.06|United Kingdom|   11062.06|\n",
       "|     POST|       1|  8142.75|United Kingdom|    8142.75|\n",
       "|    23243|    1412|     5.06|United Kingdom|    7144.72|\n",
       "|    21108|    3114|      2.1|United Kingdom|     6539.4|\n",
       "|    21108|    3114|      2.1|United Kingdom|     6539.4|\n",
       "|    23084|    2400|     2.08|   Netherlands|     4992.0|\n",
       "|   85123A|    1930|     2.55|United Kingdom|     4921.5|\n",
       "|    22086|     688|     6.95|United Kingdom|     4781.6|\n",
       "|   85123A|    1930|      2.4|United Kingdom|     4632.0|\n",
       "|    48185|     670|     6.75|United Kingdom|     4522.5|\n",
       "|      DOT|       1|  4505.17|United Kingdom|    4505.17|\n",
       "|    23173|     540|     8.15|United Kingdom|     4401.0|\n",
       "|        M|       1|  4287.63|United Kingdom|    4287.63|\n",
       "|    48185|     670|     6.35|United Kingdom|     4254.5|\n",
       "|    84879|    2880|     1.45|United Kingdom|     4176.0|\n",
       "|        M|       1|  4161.06|        France|    4161.06|\n",
       "+---------+--------+---------+--------------+-----------+\n",
       "only showing top 20 rows"
      ]
     },
     "execution_count": 21,
     "metadata": {},
     "output_type": "execute_result"
    }
   ],
   "source": [
    "# sales 테이블에서 totalAmount 컬럼을 기준으로 내림차순(DESC) 정렬하여 모든 데이터를 조회합니다.\n",
    "spark.sql(\"SELECT * FROM sales ORDER BY totalAmount DESC;\")"
   ]
  },
  {
   "cell_type": "markdown",
   "metadata": {
    "id": "rvXu_oUisrD5"
   },
   "source": [
    "* `sales` 뷰에서 고유한 (distinct) `countryName` 값만 반환하는 쿼리 작성"
   ]
  },
  {
   "cell_type": "code",
   "execution_count": 22,
   "metadata": {
    "colab": {
     "base_uri": "https://localhost:8080/",
     "height": 511
    },
    "id": "dWlZGdOcsiMO",
    "outputId": "3f0607b3-27c4-4d6a-ca2f-6d29cd00db47"
   },
   "outputs": [
    {
     "data": {
      "text/html": [
       "<table border='1'>\n",
       "<tr><th>countryName</th></tr>\n",
       "<tr><td>Sweden</td></tr>\n",
       "<tr><td>Singapore</td></tr>\n",
       "<tr><td>Germany</td></tr>\n",
       "<tr><td>France</td></tr>\n",
       "<tr><td>Greece</td></tr>\n",
       "<tr><td>European Community</td></tr>\n",
       "<tr><td>Belgium</td></tr>\n",
       "<tr><td>Finland</td></tr>\n",
       "<tr><td>Malta</td></tr>\n",
       "<tr><td>Unspecified</td></tr>\n",
       "<tr><td>Italy</td></tr>\n",
       "<tr><td>EIRE</td></tr>\n",
       "<tr><td>Lithuania</td></tr>\n",
       "<tr><td>Norway</td></tr>\n",
       "<tr><td>Spain</td></tr>\n",
       "<tr><td>Denmark</td></tr>\n",
       "<tr><td>Hong Kong</td></tr>\n",
       "<tr><td>Iceland</td></tr>\n",
       "<tr><td>Israel</td></tr>\n",
       "<tr><td>Channel Islands</td></tr>\n",
       "</table>\n",
       "only showing top 20 rows\n"
      ],
      "text/plain": [
       "+------------------+\n",
       "|       countryName|\n",
       "+------------------+\n",
       "|            Sweden|\n",
       "|         Singapore|\n",
       "|           Germany|\n",
       "|            France|\n",
       "|            Greece|\n",
       "|European Community|\n",
       "|           Belgium|\n",
       "|           Finland|\n",
       "|             Malta|\n",
       "|       Unspecified|\n",
       "|             Italy|\n",
       "|              EIRE|\n",
       "|         Lithuania|\n",
       "|            Norway|\n",
       "|             Spain|\n",
       "|           Denmark|\n",
       "|         Hong Kong|\n",
       "|           Iceland|\n",
       "|            Israel|\n",
       "|   Channel Islands|\n",
       "+------------------+\n",
       "only showing top 20 rows"
      ]
     },
     "execution_count": 22,
     "metadata": {},
     "output_type": "execute_result"
    }
   ],
   "source": [
    "spark.sql(\"SELECT DISTINCT countryName FROM sales;\")"
   ]
  },
  {
   "cell_type": "markdown",
   "metadata": {
    "id": "CmGtsOWYsxkW"
   },
   "source": [
    "## temporary view 생성: `salesQuants`\n",
    "outdoorProducts 테이블로 부터 각 `countryName`에서 구매한 항목의 총 `quantity`를 표시하는 temporary view를 만듭니다.\n",
    "\n",
    "* `salesQuants`라는 temporary view를 만듭니다.\n",
    "* `countryName`으로 그룹화된 모든 `quantity` 값의 합계를 표시합니다. 해당 열의 이름을 `totalQuantity`로 지정합니다.\n",
    "* `totalQuantity`를 기준으로 내림차순으로  view를 정렬합니다."
   ]
  },
  {
   "cell_type": "code",
   "execution_count": 23,
   "metadata": {
    "colab": {
     "base_uri": "https://localhost:8080/",
     "height": 25
    },
    "id": "K3ZiZ32_tTYI",
    "outputId": "da1e0ea9-cedd-4ab2-c2f5-705a3fe9fe07"
   },
   "outputs": [
    {
     "data": {
      "text/html": [
       "<table border='1'>\n",
       "<tr><th></th></tr>\n",
       "</table>\n"
      ],
      "text/plain": [
       "++\n",
       "||\n",
       "++\n",
       "++"
      ]
     },
     "execution_count": 23,
     "metadata": {},
     "output_type": "execute_result"
    }
   ],
   "source": [
    "# Spark SQL을 사용하여 salesQuants라는 임시 뷰 생성\n",
    "spark.sql(\"\"\"\n",
    "CREATE OR REPLACE TEMPORARY VIEW salesQuants AS\n",
    "SELECT\n",
    "  country AS countryName,            -- 국가 이름\n",
    "  SUM(quantity) AS totalQuantity   -- 수량의 총합을 계산하여 totalQuantity로 명명\n",
    "FROM outdoorProducts                 -- 데이터를 조회할 테이블\n",
    "GROUP BY country                       -- country(국가 이름)을 기준으로 그룹화\n",
    "ORDER BY totalQuantity DESC       -- totalQuantity(총 수량)를 기준으로 내림차순 정렬\n",
    "\"\"\")"
   ]
  },
  {
   "cell_type": "code",
   "execution_count": 24,
   "metadata": {
    "colab": {
     "base_uri": "https://localhost:8080/",
     "height": 156
    },
    "id": "Pol9TdUOs8EA",
    "outputId": "8a554eaf-3b6e-4657-bfe7-23507d990d3e"
   },
   "outputs": [
    {
     "data": {
      "text/html": [
       "<table border='1'>\n",
       "<tr><th>countryName</th><th>totalQuantity</th></tr>\n",
       "<tr><td>United Kingdom</td><td>4263829</td></tr>\n",
       "<tr><td>Netherlands</td><td>200128</td></tr>\n",
       "<tr><td>EIRE</td><td>142637</td></tr>\n",
       "<tr><td>Germany</td><td>117448</td></tr>\n",
       "<tr><td>France</td><td>110480</td></tr>\n",
       "</table>\n"
      ],
      "text/plain": [
       "+--------------+-------------+\n",
       "|   countryName|totalQuantity|\n",
       "+--------------+-------------+\n",
       "|United Kingdom|      4263829|\n",
       "|   Netherlands|       200128|\n",
       "|          EIRE|       142637|\n",
       "|       Germany|       117448|\n",
       "|        France|       110480|\n",
       "+--------------+-------------+"
      ]
     },
     "execution_count": 24,
     "metadata": {},
     "output_type": "execute_result"
    }
   ],
   "source": [
    "# 국가별 판매량 view 를 조회 합니다.\n",
    "spark.sql(\"SELECT * FROM salesQuants;\").limit(5)"
   ]
  },
  {
   "cell_type": "markdown",
   "metadata": {
    "id": "AO4GfpJyu24t"
   },
   "source": [
    "`countryCodes`라는 새 테이블을 만듭니다.  테이블의 각 컬럼은 다음과 같은 정보를 담고 있습니다:  \n",
    "\n",
    "- iso2: 각 국가를 두 글자의 영문자로 표현한 코드입니다. 예를 들어, 대한민국은 'KR', 미국은 'US'로 표기됩니다.  \n",
    "- iso3: 각 국가를 세 글자의 영문자로 표현한 코드입니다. 예를 들어, 대한민국은 'KOR', 미국은 'USA'로 표기됩니다.   \n",
    "- iso_num:  각 국가를 세 자리 숫자로 표현한 코드입니다. 예를 들어, 대한민국은 '410', 미국은 '840'으로 표기됩니다.   \n",
    "- country: 국가의 공식 영어 명칭을 나타냅니다. 예를 들어, 'Republic of Korea'는 대한민국을, 'United States of America'는 미국을 의미합니다.  \n",
    "- country_common: 일반적으로 통용되는 국가의 영어 명칭을 나타냅니다. 예를 들어, 'South Korea'는 대한민국을, 'United States'는 미국을 의미합니다.  \n",
    "\n",
    "이러한 컬럼들은 국제적으로 통용되는 ISO 3166 표준에 따라 각 국가를 식별하고 분류하는 데 사용됩니다"
   ]
  },
  {
   "cell_type": "code",
   "execution_count": 25,
   "metadata": {
    "colab": {
     "base_uri": "https://localhost:8080/",
     "height": 25
    },
    "id": "XonHIJUCuv_F",
    "outputId": "e1e1027e-25c1-4f0b-f961-8c2f781d72e0"
   },
   "outputs": [
    {
     "data": {
      "text/html": [
       "<table border='1'>\n",
       "<tr><th></th></tr>\n",
       "</table>\n"
      ],
      "text/plain": [
       "++\n",
       "||\n",
       "++\n",
       "++"
      ]
     },
     "execution_count": 25,
     "metadata": {},
     "output_type": "execute_result"
    }
   ],
   "source": [
    "# DROP TABLE 실행: 기존에 countryCodes 테이블이 존재하면 삭제\n",
    "spark.sql(\"\"\"\n",
    "DROP TABLE IF EXISTS countryCodes\n",
    "\"\"\")\n",
    "\n",
    "# CREATE TABLE 실행: countryCodes 테이블 생성\n",
    "spark.sql(\"\"\"\n",
    "CREATE TABLE countryCodes\n",
    "USING csv\n",
    "OPTIONS (\n",
    "  path '/content/countries_iso3166b.csv',\n",
    "  header 'true'\n",
    ")\n",
    "\"\"\")"
   ]
  },
  {
   "cell_type": "markdown",
   "metadata": {
    "id": "DhOlxL-rw68R"
   },
   "source": [
    "## metadata 조회\n",
    "\n",
    "* `DESCRIBE` 명령을 사용하여 모든 열 이름과 해당 데이터 유형을 표시합니다."
   ]
  },
  {
   "cell_type": "code",
   "execution_count": 26,
   "metadata": {
    "colab": {
     "base_uri": "https://localhost:8080/",
     "height": 156
    },
    "id": "hK9nGFSTwoXG",
    "outputId": "0e7c542e-33a4-4e60-9a5b-f586c82da500"
   },
   "outputs": [
    {
     "data": {
      "text/html": [
       "<table border='1'>\n",
       "<tr><th>col_name</th><th>data_type</th><th>comment</th></tr>\n",
       "<tr><td>iso2</td><td>string</td><td>NULL</td></tr>\n",
       "<tr><td>iso3</td><td>string</td><td>NULL</td></tr>\n",
       "<tr><td>iso_num</td><td>string</td><td>NULL</td></tr>\n",
       "<tr><td>country</td><td>string</td><td>NULL</td></tr>\n",
       "<tr><td>country_common</td><td>string</td><td>NULL</td></tr>\n",
       "</table>\n"
      ],
      "text/plain": [
       "+--------------+---------+-------+\n",
       "|      col_name|data_type|comment|\n",
       "+--------------+---------+-------+\n",
       "|          iso2|   string|   NULL|\n",
       "|          iso3|   string|   NULL|\n",
       "|       iso_num|   string|   NULL|\n",
       "|       country|   string|   NULL|\n",
       "|country_common|   string|   NULL|\n",
       "+--------------+---------+-------+"
      ]
     },
     "execution_count": 26,
     "metadata": {},
     "output_type": "execute_result"
    }
   ],
   "source": [
    "# countryCodes 테이블의 메타데이터(구조)를 확인\n",
    "spark.sql(\"DESC countryCodes;\")"
   ]
  },
  {
   "cell_type": "code",
   "execution_count": 27,
   "metadata": {
    "colab": {
     "base_uri": "https://localhost:8080/",
     "height": 156
    },
    "id": "ZOz2AueEw-51",
    "outputId": "6b3d5cbf-7a24-4e02-8325-600d85af342a"
   },
   "outputs": [
    {
     "data": {
      "text/html": [
       "<table border='1'>\n",
       "<tr><th>iso2</th><th>iso3</th><th>iso_num</th><th>country</th><th>country_common</th></tr>\n",
       "<tr><td>AF</td><td>AFG</td><td>004</td><td>Afghanistan</td><td>Afghanistan</td></tr>\n",
       "<tr><td>AX</td><td>ALA</td><td>248</td><td>Aland Islands</td><td>Aland Islands</td></tr>\n",
       "<tr><td>AL</td><td>ALB</td><td>008</td><td>Albania</td><td>Albania</td></tr>\n",
       "<tr><td>DZ</td><td>DZA</td><td>012</td><td>Algeria</td><td>Algeria</td></tr>\n",
       "<tr><td>AS</td><td>ASM</td><td>016</td><td>American Samoa</td><td>American Samoa</td></tr>\n",
       "</table>\n"
      ],
      "text/plain": [
       "+----+----+-------+--------------+--------------+\n",
       "|iso2|iso3|iso_num|       country|country_common|\n",
       "+----+----+-------+--------------+--------------+\n",
       "|  AF| AFG|    004|   Afghanistan|   Afghanistan|\n",
       "|  AX| ALA|    248| Aland Islands| Aland Islands|\n",
       "|  AL| ALB|    008|       Albania|       Albania|\n",
       "|  DZ| DZA|    012|       Algeria|       Algeria|\n",
       "|  AS| ASM|    016|American Samoa|American Samoa|\n",
       "+----+----+-------+--------------+--------------+"
      ]
     },
     "execution_count": 27,
     "metadata": {},
     "output_type": "execute_result"
    }
   ],
   "source": [
    "spark.sql(\"SELECT * FROM countryCodes;\").limit(5)"
   ]
  },
  {
   "cell_type": "markdown",
   "metadata": {
    "id": "6NgU3IXsxG1c"
   },
   "source": [
    "## Join and Visualize\n",
    "\n",
    "`salesQuants` view 및 `countryCodes` TABLE을 사용하여 국가별 total sales를 표시하고 3글자 ID로 국가를 식별하는 원형 차트를 표시합니다.\n",
    "\n",
    "* `salesQuants`로 부터 `totalQuantity`와 `countryCodes`로 부터 `alpha3Code`라는 두 개의 열을 생성하는 쿼리를 작성합니다.\n",
    "* 각 테이블에 나열된 국가 이름에 대해서 `salesQuants`와 `countryCodes`를 join 합니다.  \n",
    "* 각 국가의 판매 비율을 보여주는 파이 차트로 결과를 시각화합니다."
   ]
  },
  {
   "cell_type": "code",
   "execution_count": 28,
   "metadata": {
    "colab": {
     "base_uri": "https://localhost:8080/",
     "height": 156
    },
    "id": "7bywSzTgxN_k",
    "outputId": "7dfbdb9d-4713-4ac3-f543-74a9f30625d9"
   },
   "outputs": [
    {
     "data": {
      "text/html": [
       "<table border='1'>\n",
       "<tr><th>col_name</th><th>data_type</th><th>comment</th></tr>\n",
       "<tr><td>iso2</td><td>string</td><td>NULL</td></tr>\n",
       "<tr><td>iso3</td><td>string</td><td>NULL</td></tr>\n",
       "<tr><td>iso_num</td><td>string</td><td>NULL</td></tr>\n",
       "<tr><td>country</td><td>string</td><td>NULL</td></tr>\n",
       "<tr><td>country_common</td><td>string</td><td>NULL</td></tr>\n",
       "</table>\n"
      ],
      "text/plain": [
       "+--------------+---------+-------+\n",
       "|      col_name|data_type|comment|\n",
       "+--------------+---------+-------+\n",
       "|          iso2|   string|   NULL|\n",
       "|          iso3|   string|   NULL|\n",
       "|       iso_num|   string|   NULL|\n",
       "|       country|   string|   NULL|\n",
       "|country_common|   string|   NULL|\n",
       "+--------------+---------+-------+"
      ]
     },
     "execution_count": 28,
     "metadata": {},
     "output_type": "execute_result"
    }
   ],
   "source": [
    "spark.sql(\"DESC countryCodes;\")"
   ]
  },
  {
   "cell_type": "code",
   "execution_count": 29,
   "metadata": {
    "colab": {
     "base_uri": "https://localhost:8080/",
     "height": 88
    },
    "id": "L4dX7aqBxDJV",
    "outputId": "4056f80a-41d5-4ea5-a951-4c31dc5b1c22"
   },
   "outputs": [
    {
     "data": {
      "text/html": [
       "<table border='1'>\n",
       "<tr><th>col_name</th><th>data_type</th><th>comment</th></tr>\n",
       "<tr><td>countryName</td><td>string</td><td>NULL</td></tr>\n",
       "<tr><td>totalQuantity</td><td>bigint</td><td>NULL</td></tr>\n",
       "</table>\n"
      ],
      "text/plain": [
       "+-------------+---------+-------+\n",
       "|     col_name|data_type|comment|\n",
       "+-------------+---------+-------+\n",
       "|  countryName|   string|   NULL|\n",
       "|totalQuantity|   bigint|   NULL|\n",
       "+-------------+---------+-------+"
      ]
     },
     "execution_count": 29,
     "metadata": {},
     "output_type": "execute_result"
    }
   ],
   "source": [
    "spark.sql(\"DESC salesQuants;\")"
   ]
  },
  {
   "cell_type": "code",
   "execution_count": 30,
   "metadata": {
    "colab": {
     "base_uri": "https://localhost:8080/",
     "height": 156
    },
    "id": "NpMPLL-xAGg3",
    "outputId": "b324f3e2-0329-44ce-c66f-3647dbaf1e26"
   },
   "outputs": [
    {
     "data": {
      "text/html": [
       "<table border='1'>\n",
       "<tr><th>countryName</th><th>totalQuantity</th><th>alpha3Code</th></tr>\n",
       "<tr><td>United Kingdom</td><td>4263829</td><td>GBR</td></tr>\n",
       "<tr><td>Netherlands</td><td>200128</td><td>NLD</td></tr>\n",
       "<tr><td>Germany</td><td>117448</td><td>DEU</td></tr>\n",
       "<tr><td>France</td><td>110480</td><td>FRA</td></tr>\n",
       "<tr><td>Australia</td><td>83653</td><td>AUS</td></tr>\n",
       "</table>\n"
      ],
      "text/plain": [
       "+--------------+-------------+----------+\n",
       "|   countryName|totalQuantity|alpha3Code|\n",
       "+--------------+-------------+----------+\n",
       "|United Kingdom|      4263829|       GBR|\n",
       "|   Netherlands|       200128|       NLD|\n",
       "|       Germany|       117448|       DEU|\n",
       "|        France|       110480|       FRA|\n",
       "|     Australia|        83653|       AUS|\n",
       "+--------------+-------------+----------+"
      ]
     },
     "execution_count": 30,
     "metadata": {},
     "output_type": "execute_result"
    }
   ],
   "source": [
    "# Spark SQL 쿼리 실행: 국가별 총 판매량과 ISO 3글자 코드 조회\n",
    "result = spark.sql(\"\"\"\n",
    "SELECT\n",
    "    sq.countryName AS countryName,    -- 국가 이름\n",
    "    sq.totalQuantity AS totalQuantity,       -- 총 판매량\n",
    "    cc.iso3 AS alpha3Code                      -- ISO 3글자 코드\n",
    "FROM salesQuants sq\n",
    "JOIN countryCodes cc\n",
    "  ON sq.countryName = cc.country_common       -- 국가 이름을 기준으로 조인\n",
    "ORDER BY totalQuantity DESC\n",
    "\"\"\")\n",
    "\n",
    "# 결과 출력\n",
    "result.limit(5)"
   ]
  },
  {
   "cell_type": "markdown",
   "metadata": {
    "id": "MWicJ3FvFne9"
   },
   "source": [
    "plt.pie()는 Matplotlib에서 **원형 차트(Pie Chart)**를 그리는 함수입니다.\n",
    "\n",
    "- sizes - 원형 차트를 구성하는 각 항목의 비율을 나타냅니다.  \n",
    "예: [30, 20, 50]이면, 총합(100) 기준으로 각각 30%, 20%, 50%를 나타냅니다.  \n",
    "\n",
    "- labels - 각 조각에 표시할 레이블(항목 이름)입니다.   \n",
    "예: ['Category A', 'Category B', 'Category C'].  \n",
    "\n",
    "- autopct='%1.1f%%' - 각 조각의 비율(%)을 자동으로 표시합니다.  \n",
    "문자열 형식 지정자로 표시 형식을 설정합니다:  \n",
    "\n",
    "- startangle=140 - 원형 차트의 시작 각도를 설정합니다.  start 기준 0 은 3시 방향 지점입니다.    \n",
    "예: startangle=140이면, 140도 회전하여 시작하며, 첫 번째 조각이 7~8시 방향에서 시작됩니다.\n",
    "\n",
    "- explode=explode - 각 조각을 중심에서 얼마나 떨어뜨릴지 정의합니다. 값이 클수록 조각이 더 많이 떨어집니다.  \n",
    "예: [0, 0.1, 0.2, 0]이면, 두 번째 조각은 약간 떨어지고, 세 번째 조각은 더 많이 떨어집니다.\n",
    "\n",
    "- labeldistance=1.2 - 레이블을 차트 중심에서 얼마나 떨어진 위치에 표시할지 설정합니다. 기본값은 1.1이며, 값이 클수록 레이블이 차트 밖으로 더 멀리 표시됩니다.  \n",
    "예: labeldistance=1.5이면 레이블이 차트 밖으로 많이 떨어져 표시됩니다."
   ]
  },
  {
   "cell_type": "code",
   "execution_count": 31,
   "metadata": {
    "id": "4bFIyijKIzVT"
   },
   "outputs": [],
   "source": [
    "import matplotlib.pyplot as plt\n",
    "\n",
    "# result를 Pandas로 변환하여 시각화 준비\n",
    "pandas_df = result.toPandas()\n",
    "\n",
    "# 데이터 준비\n",
    "labels = pandas_df['alpha3Code']       # ISO 3글자 코드 (alpha3Code)\n",
    "sizes = pandas_df['totalQuantity']       # 총 판매량 (totalQuantity)"
   ]
  },
  {
   "cell_type": "code",
   "execution_count": 32,
   "metadata": {
    "colab": {
     "base_uri": "https://localhost:8080/",
     "height": 444
    },
    "id": "V4zA8-Vcx27L",
    "outputId": "17814e5d-4218-4bcf-f1e5-de369e9cdd08"
   },
   "outputs": [
    {
     "data": {
      "image/png": "[encoded data removed]",
      "text/plain": [
       "<Figure size 500x500 with 1 Axes>"
      ]
     },
     "metadata": {},
     "output_type": "display_data"
    }
   ],
   "source": [
    "# 원형 차트 생성\n",
    "plt.figure(figsize=(5, 5))\n",
    "plt.pie(sizes, labels=labels, autopct='%1.1f%%')\n",
    "plt.title('Total Sales by Country (3-letter ISO ID)')\n",
    "plt.axis('equal')  # 원형 비율 유지\n",
    "plt.show()"
   ]
  },
  {
   "cell_type": "markdown",
   "metadata": {
    "id": "oJmAxFKsG_8k"
   },
   "source": [
    "- 국가 코드가 겹치지 않도록 파이 조각을 분리하고 비율 1% 이하의 국가는 `Others`로 합쳐서 시각화 합니다."
   ]
  },
  {
   "cell_type": "code",
   "execution_count": 33,
   "metadata": {
    "colab": {
     "base_uri": "https://localhost:8080/"
    },
    "id": "OUGgoDMkHftX",
    "outputId": "36009757-793f-4ef5-b54e-989c1ec970d3"
   },
   "outputs": [
    {
     "name": "stdout",
     "output_type": "stream",
     "text": [
      "['GBR', 'NLD', 'DEU', 'FRA', 'AUS', 'Others']\n",
      "[4263829, 200128, 117448, 110480, 83653, 243021]\n"
     ]
    }
   ],
   "source": [
    "# 전체 데이터 합계\n",
    "total = sizes.sum()\n",
    "\n",
    "# 1% 기준 값\n",
    "threshold = total * 0.01\n",
    "\n",
    "# \"기타\"로 묶기\n",
    "new_labels = []\n",
    "new_sizes = []\n",
    "\n",
    "# 1% 이하 데이터를 \"기타\"로 합산\n",
    "others_size = 0\n",
    "for label, size in zip(labels, sizes):\n",
    "    if size < threshold:\n",
    "        others_size += size\n",
    "    else:\n",
    "        new_labels.append(label)\n",
    "        new_sizes.append(size)\n",
    "\n",
    "# \"기타\" 추가\n",
    "if others_size > 0:\n",
    "    new_labels.append(\"Others\")\n",
    "    new_sizes.append(others_size)\n",
    "\n",
    "print(new_labels)\n",
    "print(new_sizes)"
   ]
  },
  {
   "cell_type": "code",
   "execution_count": 34,
   "metadata": {
    "colab": {
     "base_uri": "https://localhost:8080/",
     "height": 507
    },
    "id": "hGwbeLADDN6X",
    "outputId": "666cadb9-8a4b-40b1-f242-d6901647def7"
   },
   "outputs": [
    {
     "data": {
      "image/png": "[encoded data removed]",
      "text/plain": [
       "<Figure size 500x500 with 1 Axes>"
      ]
     },
     "metadata": {},
     "output_type": "display_data"
    }
   ],
   "source": [
    "# 원형 차트 생성\n",
    "plt.figure(figsize=(5, 5))\n",
    "explode = [0.05] * len(new_labels)  # 모든 조각을 약간씩 분리\n",
    "\n",
    "# 차트 생성\n",
    "wedges, texts, autotexts = plt.pie(\n",
    "    new_sizes,\n",
    "    labels=new_labels,\n",
    "    autopct='%1.1f%%',\n",
    "    explode=explode,\n",
    "    labeldistance=1.2\n",
    ")\n",
    "\n",
    "# 텍스트 스타일 설정\n",
    "for text in texts:\n",
    "    text.set_fontsize(10)  # 레이블 크기 조정\n",
    "for autotext in autotexts:\n",
    "    autotext.set_fontsize(9)  # 퍼센트 텍스트 크기 조정\n",
    "\n",
    "# 차트 제목 및 비율 유지\n",
    "plt.title('Total Sales by Country (Including \"Others\")', fontsize=14)\n",
    "plt.axis('equal')  # 원형 비율 유지\n",
    "plt.tight_layout()  # 여백 조정\n",
    "plt.show()"
   ]
  },
  {
   "cell_type": "code",
   "execution_count": null,
   "metadata": {
    "id": "4H5Rq3fvDcc4"
   },
   "outputs": [],
   "source": []
  }
 ],
 "metadata": {
  "colab": {
   "provenance": []
  },
  "kernelspec": {
   "display_name": "Python 3 (ipykernel)",
   "language": "python",
   "name": "python3"
  },
  "language_info": {
   "codemirror_mode": {
    "name": "ipython",
    "version": 3
   },
   "file_extension": ".py",
   "mimetype": "text/x-python",
   "name": "python",
   "nbconvert_exporter": "python",
   "pygments_lexer": "ipython3",
   "version": "3.9.16"
  }
 },
 "nbformat": 4,
 "nbformat_minor": 4
}
