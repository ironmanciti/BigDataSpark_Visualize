{
  "cells": [
    {
      "cell_type": "markdown",
      "id": "9e37546f",
      "metadata": {
        "id": "9e37546f"
      },
      "source": [
        "# One-hot encoding in PySpark\n",
        "\n",
        "PySpark에서 원-핫 인코딩을 수행하려면 다음을 수행해야 합니다.\n",
        "1. StringIndexer를 사용하여 범주 열을 숫자 열(0, 1, ...)로 변환\n",
        "2. OneHotEncoder를 사용하여 숫자 열을 원-핫 인코딩 열로 변환"
      ]
    },
    {
      "cell_type": "code",
      "execution_count": 1,
      "id": "066fc5d0",
      "metadata": {
        "id": "066fc5d0"
      },
      "outputs": [],
      "source": [
        "from pyspark.sql import SparkSession\n",
        "\n",
        "spark = SparkSession.builder.appName(\"DataFrame\").config(\"spark.sql.repl.eagerEval.enabled\", True).getOrCreate()"
      ]
    },
    {
      "cell_type": "code",
      "execution_count": 2,
      "id": "5fa79719",
      "metadata": {
        "colab": {
          "base_uri": "https://localhost:8080/",
          "height": 159
        },
        "id": "5fa79719",
        "outputId": "3dce6339-4f4a-4829-f442-6117282aa9b8"
      },
      "outputs": [
        {
          "output_type": "execute_result",
          "data": {
            "text/plain": [
              "+-----+-----+\n",
              "| name|class|\n",
              "+-----+-----+\n",
              "| Alex|    B|\n",
              "|  Bob|    A|\n",
              "|Cathy|    B|\n",
              "| Dave|    C|\n",
              "| Eric|    D|\n",
              "+-----+-----+"
            ],
            "text/html": [
              "<table border='1'>\n",
              "<tr><th>name</th><th>class</th></tr>\n",
              "<tr><td>Alex</td><td>B</td></tr>\n",
              "<tr><td>Bob</td><td>A</td></tr>\n",
              "<tr><td>Cathy</td><td>B</td></tr>\n",
              "<tr><td>Dave</td><td>C</td></tr>\n",
              "<tr><td>Eric</td><td>D</td></tr>\n",
              "</table>\n"
            ]
          },
          "metadata": {},
          "execution_count": 2
        }
      ],
      "source": [
        "# 데이터를 데이터프레임으로 변환합니다.\n",
        "rows = [['Alex', 'B'], ['Bob', 'A'], ['Cathy', 'B'], ['Dave', 'C'], ['Eric', 'D']]\n",
        "\n",
        "df = spark.createDataFrame(rows, ['name', 'class'])\n",
        "df"
      ]
    },
    {
      "cell_type": "markdown",
      "id": "83927c74",
      "metadata": {
        "id": "83927c74"
      },
      "source": [
        "## class 를 One Hot Encoding\n",
        "### 1 단계 - StringIndexer를 사용하여 클래스 열을 숫자 열로 변환\n",
        "\n",
        "- PySpark의 StringIndexer는 문자열로 된 범주형 데이터를 숫자형으로 변환할 때, **각 범주의 빈도수(Frequency)**를 기준으로 인덱스를 부여. 가장 빈도가 높은 값에 0을 부여하고, 그다음 빈도에 1, 2 등의 순서로 인덱스를 부여"
      ]
    },
    {
      "cell_type": "code",
      "execution_count": 3,
      "id": "a477a31a",
      "metadata": {
        "colab": {
          "base_uri": "https://localhost:8080/",
          "height": 159
        },
        "id": "a477a31a",
        "outputId": "3be1cc88-8cf7-4075-c826-c56540a39471"
      },
      "outputs": [
        {
          "output_type": "execute_result",
          "data": {
            "text/plain": [
              "+-----+-----+------+\n",
              "| name|class|class_|\n",
              "+-----+-----+------+\n",
              "| Alex|    B|   0.0|\n",
              "|  Bob|    A|   1.0|\n",
              "|Cathy|    B|   0.0|\n",
              "| Dave|    C|   2.0|\n",
              "| Eric|    D|   3.0|\n",
              "+-----+-----+------+"
            ],
            "text/html": [
              "<table border='1'>\n",
              "<tr><th>name</th><th>class</th><th>class_</th></tr>\n",
              "<tr><td>Alex</td><td>B</td><td>0.0</td></tr>\n",
              "<tr><td>Bob</td><td>A</td><td>1.0</td></tr>\n",
              "<tr><td>Cathy</td><td>B</td><td>0.0</td></tr>\n",
              "<tr><td>Dave</td><td>C</td><td>2.0</td></tr>\n",
              "<tr><td>Eric</td><td>D</td><td>3.0</td></tr>\n",
              "</table>\n"
            ]
          },
          "metadata": {},
          "execution_count": 3
        }
      ],
      "source": [
        "# 문자열 데이터를 숫자로 인덱싱\n",
        "from pyspark.ml.feature import StringIndexer\n",
        "\n",
        "# StringIndexer는 문자열로 이루어진 컬럼을 숫자형 인덱스로 변환\n",
        "# inputCol: 인덱싱할 입력 컬럼\n",
        "# outputCol: 변환된 인덱스를 저장할 출력 컬럼\n",
        "# 데이터프레임(df)을 기반으로 StringIndexer 모델을 학습시킵니다.\n",
        "indexer = StringIndexer(inputCol='class', outputCol='class_').fit(df)\n",
        "\n",
        "# 학습된 StringIndexer 모델을 사용하여 원본 데이터프레임(df)에 변환을 적용\n",
        "df_r = indexer.transform(df)\n",
        "df_r"
      ]
    },
    {
      "cell_type": "code",
      "execution_count": 4,
      "id": "fe0c0d63",
      "metadata": {
        "colab": {
          "base_uri": "https://localhost:8080/"
        },
        "id": "fe0c0d63",
        "outputId": "0b2ef2b6-c2b8-4b94-f3ef-8d1a23c53a34"
      },
      "outputs": [
        {
          "output_type": "execute_result",
          "data": {
            "text/plain": [
              "['B', 'A', 'C', 'D']"
            ]
          },
          "metadata": {},
          "execution_count": 4
        }
      ],
      "source": [
        "indexer.labels"
      ]
    },
    {
      "cell_type": "code",
      "source": [
        "df_r.groupBy('class').count().show()"
      ],
      "metadata": {
        "colab": {
          "base_uri": "https://localhost:8080/"
        },
        "id": "Dgku1Z8jfQyx",
        "outputId": "7761264d-ac8a-481f-dcea-7917e186f7eb"
      },
      "id": "Dgku1Z8jfQyx",
      "execution_count": 5,
      "outputs": [
        {
          "output_type": "stream",
          "name": "stdout",
          "text": [
            "+-----+-----+\n",
            "|class|count|\n",
            "+-----+-----+\n",
            "|    B|    2|\n",
            "|    A|    1|\n",
            "|    D|    1|\n",
            "|    C|    1|\n",
            "+-----+-----+\n",
            "\n"
          ]
        }
      ]
    },
    {
      "cell_type": "markdown",
      "id": "c187d207",
      "metadata": {
        "id": "c187d207"
      },
      "source": [
        "### 2 단계 : One-Hot Encoding\n",
        "\n",
        "희소 벡터는 다음 세 가지 값으로 정의됩니다.\n",
        "\n",
        "    - size: 벡터의 크기(카테고리 수에서 1을 뺀 값)  \n",
        "    - 인덱스: 값을 보유하는 벡터의 인덱스  \n",
        "    - 값: 인덱스에 있는 값  \n",
        "\n",
        "4개의 고유한 범주(A,B,C,D) 를 예를 들면 하나의 범주가 기본 범주로 사용되기 때문에 벡터의 크기는 3입니다.  \n",
        "```\n",
        "A → [1, 0, 0] → (3, [0], [1.0])\n",
        "B → [0, 1, 0] → (3, [1], [1.0])\n",
        "C → [0, 0, 1] → (3, [2], [1.0])\n",
        "D → [0, 0, 0] → (3, [], [])\n",
        "```\n",
        "벡터 (3,[0],[1.0])를 예로 들면, 두번째 값 [0]과 세 번째 값 [1.0]은 벡터에서 인덱스 위치 0을 1.0으로 채워야 함을 의미합니다. 희소 벡터의 다른 모든 값은 0으로 채워집니다.  \n",
        "\n",
        "원-핫 인코딩된 벡터(3,[],[])의 두 번째 및 세 번째 값은 모두 비어 있습니다. 이것은 벡터가 0으로 채워져 있음을 의미합니다. 즉, 범주 D가 기본 범주로 취급됩니다. 이것이 크기 3의 벡터로 4개의 고유 범주를 나타낼 수 있는 비결입니다."
      ]
    },
    {
      "cell_type": "code",
      "execution_count": 6,
      "id": "617e7384",
      "metadata": {
        "colab": {
          "base_uri": "https://localhost:8080/",
          "height": 159
        },
        "id": "617e7384",
        "outputId": "117d4870-7b5c-4cac-fe3d-f6edb3f2240f"
      },
      "outputs": [
        {
          "output_type": "execute_result",
          "data": {
            "text/plain": [
              "+-----+-----+------+-------------+\n",
              "| name|class|class_|    class_ohe|\n",
              "+-----+-----+------+-------------+\n",
              "| Alex|    B|   0.0|(3,[0],[1.0])|\n",
              "|  Bob|    A|   1.0|(3,[1],[1.0])|\n",
              "|Cathy|    B|   0.0|(3,[0],[1.0])|\n",
              "| Dave|    C|   2.0|(3,[2],[1.0])|\n",
              "| Eric|    D|   3.0|    (3,[],[])|\n",
              "+-----+-----+------+-------------+"
            ],
            "text/html": [
              "<table border='1'>\n",
              "<tr><th>name</th><th>class</th><th>class_</th><th>class_ohe</th></tr>\n",
              "<tr><td>Alex</td><td>B</td><td>0.0</td><td>(3,[0],[1.0])</td></tr>\n",
              "<tr><td>Bob</td><td>A</td><td>1.0</td><td>(3,[1],[1.0])</td></tr>\n",
              "<tr><td>Cathy</td><td>B</td><td>0.0</td><td>(3,[0],[1.0])</td></tr>\n",
              "<tr><td>Dave</td><td>C</td><td>2.0</td><td>(3,[2],[1.0])</td></tr>\n",
              "<tr><td>Eric</td><td>D</td><td>3.0</td><td>(3,[],[])</td></tr>\n",
              "</table>\n"
            ]
          },
          "metadata": {},
          "execution_count": 6
        }
      ],
      "source": [
        "# OneHotEncoder는 숫자형 인덱스를 희소 벡터(Sparse Vector)로 변환\n",
        "from pyspark.ml.feature import OneHotEncoder\n",
        "\n",
        "# inputCols: 원-핫 인코딩을 적용할 입력 컬럼\n",
        "# outputCols: 변환된 원-핫 벡터를 저장할 출력 컬럼\n",
        "# fit: 데이터프레임(df_r)을 기반으로 원-핫 인코딩 모델을 학습\n",
        "encoder = OneHotEncoder(inputCols=['class_'], outputCols=['class_ohe']).fit(df_r)\n",
        "\n",
        "# 학습된 원-핫 인코딩 모델을 사용하여 데이터를 변환합니다.\n",
        "df_onehot = encoder.transform(df_r)\n",
        "df_onehot"
      ]
    },
    {
      "cell_type": "code",
      "execution_count": 7,
      "id": "9248c0e7",
      "metadata": {
        "colab": {
          "base_uri": "https://localhost:8080/"
        },
        "id": "9248c0e7",
        "outputId": "72f2d749-4c58-427b-e88a-3dbbdb2ec3f8"
      },
      "outputs": [
        {
          "output_type": "execute_result",
          "data": {
            "text/plain": [
              "[Row(name='Alex', class='B', class_=0.0, class_ohe=SparseVector(3, {0: 1.0})),\n",
              " Row(name='Bob', class='A', class_=1.0, class_ohe=SparseVector(3, {1: 1.0})),\n",
              " Row(name='Cathy', class='B', class_=0.0, class_ohe=SparseVector(3, {0: 1.0})),\n",
              " Row(name='Dave', class='C', class_=2.0, class_ohe=SparseVector(3, {2: 1.0})),\n",
              " Row(name='Eric', class='D', class_=3.0, class_ohe=SparseVector(3, {}))]"
            ]
          },
          "metadata": {},
          "execution_count": 7
        }
      ],
      "source": [
        "# 데이터프레임(df_onehot)에서 상위 5개의 행을 리스트로 반환\n",
        "df_onehot.head(5)"
      ]
    },
    {
      "cell_type": "code",
      "execution_count": 8,
      "id": "01c1e0f8",
      "metadata": {
        "colab": {
          "base_uri": "https://localhost:8080/"
        },
        "id": "01c1e0f8",
        "outputId": "63e86f1e-06bf-4915-e747-2fbd50cd5014"
      },
      "outputs": [
        {
          "output_type": "stream",
          "name": "stdout",
          "text": [
            "root\n",
            " |-- name: string (nullable = true)\n",
            " |-- class: string (nullable = true)\n",
            " |-- class_: double (nullable = false)\n",
            " |-- class_ohe: vector (nullable = true)\n",
            "\n"
          ]
        }
      ],
      "source": [
        "# 데이터프레임(df_onehot)의 스키마(schema) 출력\n",
        "df_onehot.printSchema()"
      ]
    },
    {
      "cell_type": "markdown",
      "source": [
        "### VectorAssembler는 머신러닝 모델에서 사용할 특징(feature) 벡터 생성\n",
        "- 여러 개의 입력 컬럼을 하나의 벡터로 결합"
      ],
      "metadata": {
        "id": "knY_UrYbpbje"
      },
      "id": "knY_UrYbpbje"
    },
    {
      "cell_type": "code",
      "execution_count": 9,
      "id": "64abcc86",
      "metadata": {
        "colab": {
          "base_uri": "https://localhost:8080/",
          "height": 159
        },
        "id": "64abcc86",
        "outputId": "d5ccedeb-170e-4adc-d0c9-7615fe9e17a4"
      },
      "outputs": [
        {
          "output_type": "execute_result",
          "data": {
            "text/plain": [
              "+-----+-----+------+-------------+-------------+\n",
              "| name|class|class_|    class_ohe|     features|\n",
              "+-----+-----+------+-------------+-------------+\n",
              "| Alex|    B|   0.0|(3,[0],[1.0])|[1.0,0.0,0.0]|\n",
              "|  Bob|    A|   1.0|(3,[1],[1.0])|[0.0,1.0,0.0]|\n",
              "|Cathy|    B|   0.0|(3,[0],[1.0])|[1.0,0.0,0.0]|\n",
              "| Dave|    C|   2.0|(3,[2],[1.0])|[0.0,0.0,1.0]|\n",
              "| Eric|    D|   3.0|    (3,[],[])|    (3,[],[])|\n",
              "+-----+-----+------+-------------+-------------+"
            ],
            "text/html": [
              "<table border='1'>\n",
              "<tr><th>name</th><th>class</th><th>class_</th><th>class_ohe</th><th>features</th></tr>\n",
              "<tr><td>Alex</td><td>B</td><td>0.0</td><td>(3,[0],[1.0])</td><td>[1.0,0.0,0.0]</td></tr>\n",
              "<tr><td>Bob</td><td>A</td><td>1.0</td><td>(3,[1],[1.0])</td><td>[0.0,1.0,0.0]</td></tr>\n",
              "<tr><td>Cathy</td><td>B</td><td>0.0</td><td>(3,[0],[1.0])</td><td>[1.0,0.0,0.0]</td></tr>\n",
              "<tr><td>Dave</td><td>C</td><td>2.0</td><td>(3,[2],[1.0])</td><td>[0.0,0.0,1.0]</td></tr>\n",
              "<tr><td>Eric</td><td>D</td><td>3.0</td><td>(3,[],[])</td><td>(3,[],[])</td></tr>\n",
              "</table>\n"
            ]
          },
          "metadata": {},
          "execution_count": 9
        }
      ],
      "source": [
        "from pyspark.ml.feature import VectorAssembler\n",
        "\n",
        "# inputCols: 벡터로 결합할 입력 컬럼들의 리스트\n",
        "# outputCol: 결합된 벡터를 저장할 출력 컬럼\n",
        "assembler = VectorAssembler(inputCols=['class_ohe'], outputCol='features')\n",
        "\n",
        "# 학습된 VectorAssembler를 사용하여 데이터프레임(df_onehot)에 변환을 적용\n",
        "output = assembler.transform(df_onehot)\n",
        "output"
      ]
    },
    {
      "cell_type": "code",
      "execution_count": 11,
      "id": "d62279ef",
      "metadata": {
        "colab": {
          "base_uri": "https://localhost:8080/",
          "height": 159
        },
        "id": "d62279ef",
        "outputId": "6c7761f6-4809-4552-8682-209009fa1cfd"
      },
      "outputs": [
        {
          "output_type": "execute_result",
          "data": {
            "text/plain": [
              "+-------------+\n",
              "|     features|\n",
              "+-------------+\n",
              "|[1.0,0.0,0.0]|\n",
              "|[0.0,1.0,0.0]|\n",
              "|[1.0,0.0,0.0]|\n",
              "|[0.0,0.0,1.0]|\n",
              "|    (3,[],[])|\n",
              "+-------------+"
            ],
            "text/html": [
              "<table border='1'>\n",
              "<tr><th>features</th></tr>\n",
              "<tr><td>[1.0,0.0,0.0]</td></tr>\n",
              "<tr><td>[0.0,1.0,0.0]</td></tr>\n",
              "<tr><td>[1.0,0.0,0.0]</td></tr>\n",
              "<tr><td>[0.0,0.0,1.0]</td></tr>\n",
              "<tr><td>(3,[],[])</td></tr>\n",
              "</table>\n"
            ]
          },
          "metadata": {},
          "execution_count": 11
        }
      ],
      "source": [
        "output.select(\"features\")"
      ]
    },
    {
      "cell_type": "code",
      "execution_count": null,
      "id": "1b01640d",
      "metadata": {
        "id": "1b01640d"
      },
      "outputs": [],
      "source": []
    }
  ],
  "metadata": {
    "kernelspec": {
      "display_name": "Python 3 (ipykernel)",
      "language": "python",
      "name": "python3"
    },
    "language_info": {
      "codemirror_mode": {
        "name": "ipython",
        "version": 3
      },
      "file_extension": ".py",
      "mimetype": "text/x-python",
      "name": "python",
      "nbconvert_exporter": "python",
      "pygments_lexer": "ipython3",
      "version": "3.9.16"
    },
    "colab": {
      "provenance": []
    }
  },
  "nbformat": 4,
  "nbformat_minor": 5
}