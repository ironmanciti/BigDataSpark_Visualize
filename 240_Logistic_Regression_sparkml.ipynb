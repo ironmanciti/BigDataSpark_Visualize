{
  "cells": [
    {
      "cell_type": "markdown",
      "id": "06ef6457",
      "metadata": {
        "id": "06ef6457"
      },
      "source": [
        "# Logistic Regression - Spark ML\n",
        "\n",
        "### data: 성별 소득 data 에 따라 특정 구매자의 구매할지 여부를 예측"
      ]
    },
    {
      "cell_type": "code",
      "execution_count": 2,
      "id": "bae9d02f",
      "metadata": {
        "id": "bae9d02f",
        "colab": {
          "base_uri": "https://localhost:8080/",
          "height": 224
        },
        "outputId": "00b252e2-038a-421d-b3f1-7ac42babbec7"
      },
      "outputs": [
        {
          "output_type": "execute_result",
          "data": {
            "text/plain": [
              "<pyspark.sql.session.SparkSession at 0x7ab97873e610>"
            ],
            "text/html": [
              "\n",
              "            <div>\n",
              "                <p><b>SparkSession - in-memory</b></p>\n",
              "                \n",
              "        <div>\n",
              "            <p><b>SparkContext</b></p>\n",
              "\n",
              "            <p><a href=\"http://686bf65a8411:4040\">Spark UI</a></p>\n",
              "\n",
              "            <dl>\n",
              "              <dt>Version</dt>\n",
              "                <dd><code>v3.5.5</code></dd>\n",
              "              <dt>Master</dt>\n",
              "                <dd><code>local[*]</code></dd>\n",
              "              <dt>AppName</dt>\n",
              "                <dd><code>SparkML</code></dd>\n",
              "            </dl>\n",
              "        </div>\n",
              "        \n",
              "            </div>\n",
              "        "
            ]
          },
          "metadata": {},
          "execution_count": 2
        }
      ],
      "source": [
        "from pyspark.sql import SparkSession\n",
        "\n",
        "spark = SparkSession.builder.appName(\"SparkML\") \\\n",
        "             .config(\"spark.sql.repl.eagerEval.enabled\", True) \\\n",
        "             .getOrCreate()\n",
        "spark"
      ]
    },
    {
      "cell_type": "code",
      "execution_count": 4,
      "id": "7013e12c",
      "metadata": {
        "colab": {
          "base_uri": "https://localhost:8080/",
          "height": 156
        },
        "id": "7013e12c",
        "outputId": "70a450b0-07e0-495b-bdda-ebf1d8a13a75"
      },
      "outputs": [
        {
          "output_type": "execute_result",
          "data": {
            "text/plain": [
              "+--------+------+---+---------------+---------+\n",
              "| User ID|Gender|Age|EstimatedSalary|Purchased|\n",
              "+--------+------+---+---------------+---------+\n",
              "|15624510|  Male| 19|          19000|        0|\n",
              "|15810944|  Male| 35|          20000|        0|\n",
              "|15668575|Female| 26|          43000|        0|\n",
              "|15603246|Female| 27|          57000|        0|\n",
              "|15804002|  Male| 19|          76000|        0|\n",
              "+--------+------+---+---------------+---------+"
            ],
            "text/html": [
              "<table border='1'>\n",
              "<tr><th>User ID</th><th>Gender</th><th>Age</th><th>EstimatedSalary</th><th>Purchased</th></tr>\n",
              "<tr><td>15624510</td><td>Male</td><td>19</td><td>19000</td><td>0</td></tr>\n",
              "<tr><td>15810944</td><td>Male</td><td>35</td><td>20000</td><td>0</td></tr>\n",
              "<tr><td>15668575</td><td>Female</td><td>26</td><td>43000</td><td>0</td></tr>\n",
              "<tr><td>15603246</td><td>Female</td><td>27</td><td>57000</td><td>0</td></tr>\n",
              "<tr><td>15804002</td><td>Male</td><td>19</td><td>76000</td><td>0</td></tr>\n",
              "</table>\n"
            ]
          },
          "metadata": {},
          "execution_count": 4
        }
      ],
      "source": [
        "df = spark.read.csv(\"/content/Social_Network_Ads.csv\", header=\"true\", inferSchema=\"true\")\n",
        "df.limit(5)"
      ]
    },
    {
      "cell_type": "code",
      "execution_count": 5,
      "id": "60b68ea8",
      "metadata": {
        "colab": {
          "base_uri": "https://localhost:8080/"
        },
        "id": "60b68ea8",
        "outputId": "8a42037b-ba5e-43b0-d23e-0840f8f547b9"
      },
      "outputs": [
        {
          "output_type": "execute_result",
          "data": {
            "text/plain": [
              "400"
            ]
          },
          "metadata": {},
          "execution_count": 5
        }
      ],
      "source": [
        "## dataset size\n",
        "df.count()"
      ]
    },
    {
      "cell_type": "code",
      "execution_count": 6,
      "id": "531a1c3e",
      "metadata": {
        "colab": {
          "base_uri": "https://localhost:8080/"
        },
        "id": "531a1c3e",
        "outputId": "7280dfaf-2fe5-4070-998c-adc49bc974ae"
      },
      "outputs": [
        {
          "output_type": "stream",
          "name": "stdout",
          "text": [
            "+---------+-----+\n",
            "|Purchased|count|\n",
            "+---------+-----+\n",
            "|        1|  143|\n",
            "|        0|  257|\n",
            "+---------+-----+\n",
            "\n"
          ]
        }
      ],
      "source": [
        "## target 변수의 cardinality check\n",
        "df.groupBy('Purchased').count().show()"
      ]
    },
    {
      "cell_type": "code",
      "execution_count": 7,
      "id": "db5dc92e",
      "metadata": {
        "id": "db5dc92e",
        "outputId": "166fe81c-9f95-4898-eed8-77026b7e0d97",
        "colab": {
          "base_uri": "https://localhost:8080/"
        }
      },
      "outputs": [
        {
          "output_type": "stream",
          "name": "stdout",
          "text": [
            "root\n",
            " |-- User ID: integer (nullable = true)\n",
            " |-- Gender: string (nullable = true)\n",
            " |-- Age: integer (nullable = true)\n",
            " |-- EstimatedSalary: integer (nullable = true)\n",
            " |-- Purchased: integer (nullable = true)\n",
            "\n"
          ]
        }
      ],
      "source": [
        "# Spark 데이터프레임의 스키마(schema)\n",
        "df.printSchema()"
      ]
    },
    {
      "cell_type": "code",
      "execution_count": 8,
      "id": "814c674a",
      "metadata": {
        "colab": {
          "base_uri": "https://localhost:8080/",
          "height": 156
        },
        "id": "814c674a",
        "outputId": "ba492940-22a4-417a-d8de-f9ec82d58eda"
      },
      "outputs": [
        {
          "output_type": "execute_result",
          "data": {
            "text/plain": [
              "+-------+------------------+----------------+\n",
              "|summary|               Age| EstimatedSalary|\n",
              "+-------+------------------+----------------+\n",
              "|  count|               400|             400|\n",
              "|   mean|            37.655|         69742.5|\n",
              "| stddev|10.482876597307927|34096.9602824248|\n",
              "|    min|                18|           15000|\n",
              "|    max|                60|          150000|\n",
              "+-------+------------------+----------------+"
            ],
            "text/html": [
              "<table border='1'>\n",
              "<tr><th>summary</th><th>Age</th><th>EstimatedSalary</th></tr>\n",
              "<tr><td>count</td><td>400</td><td>400</td></tr>\n",
              "<tr><td>mean</td><td>37.655</td><td>69742.5</td></tr>\n",
              "<tr><td>stddev</td><td>10.482876597307927</td><td>34096.9602824248</td></tr>\n",
              "<tr><td>min</td><td>18</td><td>15000</td></tr>\n",
              "<tr><td>max</td><td>60</td><td>150000</td></tr>\n",
              "</table>\n"
            ]
          },
          "metadata": {},
          "execution_count": 8
        }
      ],
      "source": [
        "# 데이터프레임에서 특정 컬럼(\"Age\", \"EstimatedSalary\")을 선택한 후, 요약 통계 출력\n",
        "df.select([\"Age\", \"EstimatedSalary\"]).describe()"
      ]
    },
    {
      "cell_type": "markdown",
      "id": "1033691c",
      "metadata": {
        "id": "1033691c"
      },
      "source": [
        "### 문자열을 One-Hot 벡터로 변환\n",
        "- `Gender` 컬럼이 범주형이므로 one hot encoding"
      ]
    },
    {
      "cell_type": "code",
      "execution_count": 9,
      "id": "75de6f65",
      "metadata": {
        "colab": {
          "base_uri": "https://localhost:8080/",
          "height": 156
        },
        "id": "75de6f65",
        "outputId": "e0e3149e-7b10-49eb-eb70-1213ca6350d8"
      },
      "outputs": [
        {
          "output_type": "execute_result",
          "data": {
            "text/plain": [
              "+--------+------+---+---------------+---------+-------+\n",
              "| User ID|Gender|Age|EstimatedSalary|Purchased|Gender_|\n",
              "+--------+------+---+---------------+---------+-------+\n",
              "|15624510|  Male| 19|          19000|        0|    1.0|\n",
              "|15810944|  Male| 35|          20000|        0|    1.0|\n",
              "|15668575|Female| 26|          43000|        0|    0.0|\n",
              "|15603246|Female| 27|          57000|        0|    0.0|\n",
              "|15804002|  Male| 19|          76000|        0|    1.0|\n",
              "+--------+------+---+---------------+---------+-------+"
            ],
            "text/html": [
              "<table border='1'>\n",
              "<tr><th>User ID</th><th>Gender</th><th>Age</th><th>EstimatedSalary</th><th>Purchased</th><th>Gender_</th></tr>\n",
              "<tr><td>15624510</td><td>Male</td><td>19</td><td>19000</td><td>0</td><td>1.0</td></tr>\n",
              "<tr><td>15810944</td><td>Male</td><td>35</td><td>20000</td><td>0</td><td>1.0</td></tr>\n",
              "<tr><td>15668575</td><td>Female</td><td>26</td><td>43000</td><td>0</td><td>0.0</td></tr>\n",
              "<tr><td>15603246</td><td>Female</td><td>27</td><td>57000</td><td>0</td><td>0.0</td></tr>\n",
              "<tr><td>15804002</td><td>Male</td><td>19</td><td>76000</td><td>0</td><td>1.0</td></tr>\n",
              "</table>\n"
            ]
          },
          "metadata": {},
          "execution_count": 9
        }
      ],
      "source": [
        "from pyspark.ml.feature import StringIndexer\n",
        "from pyspark.ml.feature import OneHotEncoder\n",
        "\n",
        "# 범주형 데이터를 숫자형 인덱스로 변환\n",
        "indexer = StringIndexer(inputCol=\"Gender\", outputCol=\"Gender_\").fit(df)\n",
        "df_r = indexer.transform(df)\n",
        "\n",
        "df_r.limit(5)"
      ]
    },
    {
      "cell_type": "code",
      "execution_count": 10,
      "id": "00691631",
      "metadata": {
        "colab": {
          "base_uri": "https://localhost:8080/",
          "height": 156
        },
        "id": "00691631",
        "outputId": "c13848a3-14be-4263-dc17-46301fd378cb"
      },
      "outputs": [
        {
          "output_type": "execute_result",
          "data": {
            "text/plain": [
              "+--------+------+---+---------------+---------+-------+-------------+\n",
              "| User ID|Gender|Age|EstimatedSalary|Purchased|Gender_|   Gender_ohe|\n",
              "+--------+------+---+---------------+---------+-------+-------------+\n",
              "|15624510|  Male| 19|          19000|        0|    1.0|    (1,[],[])|\n",
              "|15810944|  Male| 35|          20000|        0|    1.0|    (1,[],[])|\n",
              "|15668575|Female| 26|          43000|        0|    0.0|(1,[0],[1.0])|\n",
              "|15603246|Female| 27|          57000|        0|    0.0|(1,[0],[1.0])|\n",
              "|15804002|  Male| 19|          76000|        0|    1.0|    (1,[],[])|\n",
              "+--------+------+---+---------------+---------+-------+-------------+"
            ],
            "text/html": [
              "<table border='1'>\n",
              "<tr><th>User ID</th><th>Gender</th><th>Age</th><th>EstimatedSalary</th><th>Purchased</th><th>Gender_</th><th>Gender_ohe</th></tr>\n",
              "<tr><td>15624510</td><td>Male</td><td>19</td><td>19000</td><td>0</td><td>1.0</td><td>(1,[],[])</td></tr>\n",
              "<tr><td>15810944</td><td>Male</td><td>35</td><td>20000</td><td>0</td><td>1.0</td><td>(1,[],[])</td></tr>\n",
              "<tr><td>15668575</td><td>Female</td><td>26</td><td>43000</td><td>0</td><td>0.0</td><td>(1,[0],[1.0])</td></tr>\n",
              "<tr><td>15603246</td><td>Female</td><td>27</td><td>57000</td><td>0</td><td>0.0</td><td>(1,[0],[1.0])</td></tr>\n",
              "<tr><td>15804002</td><td>Male</td><td>19</td><td>76000</td><td>0</td><td>1.0</td><td>(1,[],[])</td></tr>\n",
              "</table>\n"
            ]
          },
          "metadata": {},
          "execution_count": 10
        }
      ],
      "source": [
        "# 범주형 데이터를 숫자로 변환한 후, 이를 원-핫 인코딩 형식으로 변환\n",
        "ohe_encoder = OneHotEncoder(inputCols=['Gender_'], outputCols=['Gender_ohe']).fit(df_r)\n",
        "df_r = ohe_encoder.transform(df_r)\n",
        "\n",
        "df_r.limit(5)"
      ]
    },
    {
      "cell_type": "code",
      "execution_count": 11,
      "id": "da6bed33",
      "metadata": {
        "colab": {
          "base_uri": "https://localhost:8080/",
          "height": 156
        },
        "id": "da6bed33",
        "outputId": "41eaab11-1b43-440f-8544-fa5daf5b4805"
      },
      "outputs": [
        {
          "output_type": "execute_result",
          "data": {
            "text/plain": [
              "+--------+------+---+---------------+---------+-------+-------------+------------------+\n",
              "| User ID|Gender|Age|EstimatedSalary|Purchased|Gender_|   Gender_ohe|          features|\n",
              "+--------+------+---+---------------+---------+-------+-------------+------------------+\n",
              "|15624510|  Male| 19|          19000|        0|    1.0|    (1,[],[])|[19.0,19000.0,0.0]|\n",
              "|15810944|  Male| 35|          20000|        0|    1.0|    (1,[],[])|[35.0,20000.0,0.0]|\n",
              "|15668575|Female| 26|          43000|        0|    0.0|(1,[0],[1.0])|[26.0,43000.0,1.0]|\n",
              "|15603246|Female| 27|          57000|        0|    0.0|(1,[0],[1.0])|[27.0,57000.0,1.0]|\n",
              "|15804002|  Male| 19|          76000|        0|    1.0|    (1,[],[])|[19.0,76000.0,0.0]|\n",
              "+--------+------+---+---------------+---------+-------+-------------+------------------+"
            ],
            "text/html": [
              "<table border='1'>\n",
              "<tr><th>User ID</th><th>Gender</th><th>Age</th><th>EstimatedSalary</th><th>Purchased</th><th>Gender_</th><th>Gender_ohe</th><th>features</th></tr>\n",
              "<tr><td>15624510</td><td>Male</td><td>19</td><td>19000</td><td>0</td><td>1.0</td><td>(1,[],[])</td><td>[19.0,19000.0,0.0]</td></tr>\n",
              "<tr><td>15810944</td><td>Male</td><td>35</td><td>20000</td><td>0</td><td>1.0</td><td>(1,[],[])</td><td>[35.0,20000.0,0.0]</td></tr>\n",
              "<tr><td>15668575</td><td>Female</td><td>26</td><td>43000</td><td>0</td><td>0.0</td><td>(1,[0],[1.0])</td><td>[26.0,43000.0,1.0]</td></tr>\n",
              "<tr><td>15603246</td><td>Female</td><td>27</td><td>57000</td><td>0</td><td>0.0</td><td>(1,[0],[1.0])</td><td>[27.0,57000.0,1.0]</td></tr>\n",
              "<tr><td>15804002</td><td>Male</td><td>19</td><td>76000</td><td>0</td><td>1.0</td><td>(1,[],[])</td><td>[19.0,76000.0,0.0]</td></tr>\n",
              "</table>\n"
            ]
          },
          "metadata": {},
          "execution_count": 11
        }
      ],
      "source": [
        "from pyspark.ml.feature import VectorAssembler\n",
        "\n",
        "# 여러 개의 입력 컬럼을 하나의 벡터로 결합하여 머신러닝 모델에서 사용할 수 있는 형식으로 변환\n",
        "assembler = VectorAssembler(\n",
        "    inputCols=['Age', 'EstimatedSalary', 'Gender_ohe'],\n",
        "    outputCol='features'\n",
        ")\n",
        "\n",
        "output = assembler.transform(df_r)\n",
        "output.limit(5)\n"
      ]
    },
    {
      "cell_type": "code",
      "execution_count": 12,
      "id": "0fedcd30",
      "metadata": {
        "colab": {
          "base_uri": "https://localhost:8080/",
          "height": 156
        },
        "id": "0fedcd30",
        "outputId": "66f1d57a-95f3-458c-eefa-9d926576ab04"
      },
      "outputs": [
        {
          "output_type": "execute_result",
          "data": {
            "text/plain": [
              "+--------+------+---+---------------+---------+-------+-------------+------------------+--------------------+\n",
              "| User ID|Gender|Age|EstimatedSalary|Purchased|Gender_|   Gender_ohe|          features|        standardized|\n",
              "+--------+------+---+---------------+---------+-------+-------------+------------------+--------------------+\n",
              "|15624510|  Male| 19|          19000|        0|    1.0|    (1,[],[])|[19.0,19000.0,0.0]|[1.81247960172299...|\n",
              "|15810944|  Male| 35|          20000|        0|    1.0|    (1,[],[])|[35.0,20000.0,0.0]|[3.33877821370025...|\n",
              "|15668575|Female| 26|          43000|        0|    0.0|(1,[0],[1.0])|[26.0,43000.0,1.0]|[2.48023524446304...|\n",
              "|15603246|Female| 27|          57000|        0|    0.0|(1,[0],[1.0])|[27.0,57000.0,1.0]|[2.57562890771162...|\n",
              "|15804002|  Male| 19|          76000|        0|    1.0|    (1,[],[])|[19.0,76000.0,0.0]|[1.81247960172299...|\n",
              "+--------+------+---+---------------+---------+-------+-------------+------------------+--------------------+"
            ],
            "text/html": [
              "<table border='1'>\n",
              "<tr><th>User ID</th><th>Gender</th><th>Age</th><th>EstimatedSalary</th><th>Purchased</th><th>Gender_</th><th>Gender_ohe</th><th>features</th><th>standardized</th></tr>\n",
              "<tr><td>15624510</td><td>Male</td><td>19</td><td>19000</td><td>0</td><td>1.0</td><td>(1,[],[])</td><td>[19.0,19000.0,0.0]</td><td>[1.81247960172299...</td></tr>\n",
              "<tr><td>15810944</td><td>Male</td><td>35</td><td>20000</td><td>0</td><td>1.0</td><td>(1,[],[])</td><td>[35.0,20000.0,0.0]</td><td>[3.33877821370025...</td></tr>\n",
              "<tr><td>15668575</td><td>Female</td><td>26</td><td>43000</td><td>0</td><td>0.0</td><td>(1,[0],[1.0])</td><td>[26.0,43000.0,1.0]</td><td>[2.48023524446304...</td></tr>\n",
              "<tr><td>15603246</td><td>Female</td><td>27</td><td>57000</td><td>0</td><td>0.0</td><td>(1,[0],[1.0])</td><td>[27.0,57000.0,1.0]</td><td>[2.57562890771162...</td></tr>\n",
              "<tr><td>15804002</td><td>Male</td><td>19</td><td>76000</td><td>0</td><td>1.0</td><td>(1,[],[])</td><td>[19.0,76000.0,0.0]</td><td>[1.81247960172299...</td></tr>\n",
              "</table>\n"
            ]
          },
          "metadata": {},
          "execution_count": 12
        }
      ],
      "source": [
        "from pyspark.ml.feature import StandardScaler\n",
        "\n",
        "# 데이터를 표준화(Standardization)하여 평균이 0이고, 분산이 1이 되도록 변환\n",
        "scaler = StandardScaler(inputCol='features', outputCol='standardized')\n",
        "\n",
        "data_scaled = scaler.fit(output).transform(output)\n",
        "data_scaled.limit(5)"
      ]
    },
    {
      "cell_type": "code",
      "execution_count": 13,
      "id": "85e3ae55",
      "metadata": {
        "colab": {
          "base_uri": "https://localhost:8080/"
        },
        "id": "85e3ae55",
        "outputId": "740391ed-243a-4a41-d020-fd313a77e0f4"
      },
      "outputs": [
        {
          "output_type": "stream",
          "name": "stdout",
          "text": [
            "+----------------------------------------------------------+---------+\n",
            "|standardized                                              |Purchased|\n",
            "+----------------------------------------------------------+---------+\n",
            "|[1.8124796017229972,0.5572344233217031,0.0]               |0        |\n",
            "|[3.338778213700258,0.5865625508649507,0.0]                |0        |\n",
            "|[2.480235244463049,1.261109484359644,1.9978980551207968]  |0        |\n",
            "|[2.5756289077116277,1.6717032699651093,1.9978980551207968]|0        |\n",
            "|[1.8124796017229972,2.2289376932868126,0.0]               |0        |\n",
            "+----------------------------------------------------------+---------+\n",
            "only showing top 5 rows\n",
            "\n"
          ]
        }
      ],
      "source": [
        "# 표준화된 데이터와 타겟 변수를 선택하여 새로운 데이터프레임 생성\n",
        "# - select: 특정 컬럼(\"standardized\", \"Purchased\")만 선택\n",
        "# - \"standardized\": 표준화된 특징 벡터 컬럼\n",
        "# - \"Purchased\": 타겟 변수 컬럼\n",
        "data = data_scaled.select(\"standardized\", \"Purchased\")\n",
        "\n",
        "data.show(5, truncate=False)"
      ]
    },
    {
      "cell_type": "code",
      "execution_count": 14,
      "id": "51fedda8",
      "metadata": {
        "colab": {
          "base_uri": "https://localhost:8080/"
        },
        "id": "51fedda8",
        "outputId": "2a214dc0-ffba-4190-b5a8-ede63ffd2754"
      },
      "outputs": [
        {
          "output_type": "execute_result",
          "data": {
            "text/plain": [
              "(285, 115)"
            ]
          },
          "metadata": {},
          "execution_count": 14
        }
      ],
      "source": [
        "# 데이터를 학습용(train)과 테스트용(test)으로 랜덤하게 분할\n",
        "train_data, test_data = data.randomSplit([0.75, 0.25])\n",
        "\n",
        "train_data.count(), test_data.count()"
      ]
    },
    {
      "cell_type": "code",
      "execution_count": 15,
      "id": "0fa181bc",
      "metadata": {
        "colab": {
          "base_uri": "https://localhost:8080/"
        },
        "id": "0fa181bc",
        "outputId": "8288f1d7-8190-4560-ce02-5420e4144f80"
      },
      "outputs": [
        {
          "output_type": "execute_result",
          "data": {
            "text/plain": [
              "LogisticRegressionModel: uid=LogisticRegression_43545403fc4d, numClasses=2, numFeatures=3"
            ]
          },
          "metadata": {},
          "execution_count": 15
        }
      ],
      "source": [
        "from pyspark.ml.classification import LogisticRegression\n",
        "\n",
        "# 로지스틱 회귀(Logistic Regression) 모델을 생성하고 학습\n",
        "log_reg = LogisticRegression(featuresCol=\"standardized\", labelCol=\"Purchased\").fit(train_data)\n",
        "log_reg"
      ]
    },
    {
      "cell_type": "code",
      "execution_count": 16,
      "id": "fc278d4c",
      "metadata": {
        "colab": {
          "base_uri": "https://localhost:8080/"
        },
        "id": "fc278d4c",
        "outputId": "deb01ae9-eb6c-408f-cc60-a357c63dbd11"
      },
      "outputs": [
        {
          "output_type": "stream",
          "name": "stdout",
          "text": [
            "+----------------------------------------------------------+---------+----------------------------------------+------------------------------------------+----------+\n",
            "|standardized                                              |Purchased|rawPrediction                           |probability                               |prediction|\n",
            "+----------------------------------------------------------+---------+----------------------------------------+------------------------------------------+----------+\n",
            "|[1.7170859384744184,1.5250626322488718,0.0]               |0        |[6.078450019359277,-6.078450019359277]  |[0.9977135139671036,0.0022864860328963843]|0.0       |\n",
            "|[1.7170859384744184,1.9943126729408323,1.9978980551207968]|0        |[6.0556576478479425,-6.0556576478479425]|[0.9976609243835741,0.0023390756164258786]|0.0       |\n",
            "|[1.7170859384744184,2.522218968719288,1.9978980551207968] |0        |[5.289054130376265,-5.289054130376265]  |[0.994978808238073,0.005021191761926946]  |0.0       |\n",
            "|[1.8124796017229972,0.7625313161244359,1.9978980551207968]|0        |[7.618464713276933,-7.618464713276933]  |[0.9995089457208745,4.910542791255468E-4] |0.0       |\n",
            "|[1.8124796017229972,2.2289376932868126,0.0]               |0        |[4.830377520725449,-4.830377520725449]  |[0.9920797248127714,0.007920275187228598] |0.0       |\n",
            "+----------------------------------------------------------+---------+----------------------------------------+------------------------------------------+----------+\n",
            "only showing top 5 rows\n",
            "\n"
          ]
        }
      ],
      "source": [
        "# 학습된 로지스틱 회귀 모델(log_reg)을 사용하여 테스트 데이터(test_data)에 대한 예측 수행\n",
        "# 결과에는 원본 데이터와 함께 예측 확률(probability), 예측 레이블(prediction), 그리고 각 클래스별 확률이 포함됩니다.\n",
        "pred = log_reg.transform(test_data)\n",
        "pred.show(5, truncate=False)"
      ]
    },
    {
      "cell_type": "code",
      "source": [
        "pred.first()"
      ],
      "metadata": {
        "colab": {
          "base_uri": "https://localhost:8080/"
        },
        "id": "-BkCeYGA-4vp",
        "outputId": "2fae947b-e6f9-48f1-8436-6e7398736f35"
      },
      "id": "-BkCeYGA-4vp",
      "execution_count": 17,
      "outputs": [
        {
          "output_type": "execute_result",
          "data": {
            "text/plain": [
              "Row(standardized=DenseVector([1.7171, 1.5251, 0.0]), Purchased=0, rawPrediction=DenseVector([6.0785, -6.0785]), probability=DenseVector([0.9977, 0.0023]), prediction=0.0)"
            ]
          },
          "metadata": {},
          "execution_count": 17
        }
      ]
    },
    {
      "cell_type": "code",
      "execution_count": 18,
      "id": "c1241091",
      "metadata": {
        "colab": {
          "base_uri": "https://localhost:8080/"
        },
        "id": "c1241091",
        "outputId": "e63c251d-6828-4b92-a1ab-69d932d5aaf4"
      },
      "outputs": [
        {
          "output_type": "stream",
          "name": "stdout",
          "text": [
            "+----------+-----+\n",
            "|prediction|count|\n",
            "+----------+-----+\n",
            "|       0.0|   82|\n",
            "|       1.0|   33|\n",
            "+----------+-----+\n",
            "\n"
          ]
        }
      ],
      "source": [
        "# 예측 결과(prediction)를 기준으로 그룹화하여 각 예측 클래스별 개수 계산\n",
        "pred.groupBy('prediction').count().orderBy('prediction').show()"
      ]
    },
    {
      "cell_type": "code",
      "execution_count": 19,
      "id": "a9f7d66f",
      "metadata": {
        "colab": {
          "base_uri": "https://localhost:8080/"
        },
        "id": "a9f7d66f",
        "outputId": "c511db6a-8760-4e3c-a876-a6bd38bc8976"
      },
      "outputs": [
        {
          "output_type": "stream",
          "name": "stdout",
          "text": [
            "+---------+-----+\n",
            "|Purchased|count|\n",
            "+---------+-----+\n",
            "|        0|   71|\n",
            "|        1|   44|\n",
            "+---------+-----+\n",
            "\n"
          ]
        }
      ],
      "source": [
        "# 실제 값(Purchased)을 기준으로 그룹화하여 각 클래스별 데이터 개수 계산\n",
        "pred.groupBy('Purchased').count().orderBy('Purchased').show()"
      ]
    },
    {
      "cell_type": "markdown",
      "id": "3a08fa13",
      "metadata": {
        "id": "3a08fa13"
      },
      "source": [
        "### Confustion Matrix 시각화"
      ]
    },
    {
      "cell_type": "code",
      "execution_count": 20,
      "id": "ea0b6d90",
      "metadata": {
        "colab": {
          "base_uri": "https://localhost:8080/",
          "height": 529
        },
        "id": "ea0b6d90",
        "outputId": "12bde8a3-e1a9-40f9-e5cd-f06ef68a843c"
      },
      "outputs": [
        {
          "output_type": "stream",
          "name": "stdout",
          "text": [
            "0.782608695652174\n",
            "[[64  7]\n",
            " [18 26]]\n"
          ]
        },
        {
          "output_type": "display_data",
          "data": {
            "text/plain": [
              "<Figure size 640x480 with 2 Axes>"
            ],
            "image/png": "[encoded data removed]"
          },
          "metadata": {}
        }
      ],
      "source": [
        "from sklearn.metrics import confusion_matrix, accuracy_score, f1_score, precision_score, recall_score\n",
        "import seaborn as sns\n",
        "\n",
        "# 예측 결과(pred)에서 실제 값과 예측 값을 리스트로 변환\n",
        "y_true = pred.select(\"Purchased\").collect()  # 실제 값\n",
        "y_pred = pred.select(\"prediction\").collect()  # 예측 값\n",
        "\n",
        "# 혼동 행렬(Confusion Matrix) 계산\n",
        "cm = confusion_matrix(y_true, y_pred)\n",
        "\n",
        "# 정확도(Accuracy) 계산\n",
        "accuracy = accuracy_score(y_true, y_pred)\n",
        "\n",
        "# 정확도 및 혼동 행렬 출력\n",
        "print(accuracy)\n",
        "print(cm)\n",
        "\n",
        "# 혼동 행렬을 히트맵으로 시각화\n",
        "ax = sns.heatmap(cm, annot=True, fmt='d')\n",
        "ax.set_title(\"Confusion Matrix\")  # 히트맵 제목 설정\n",
        "ax.set_xlabel(\"Predicted\")        # x축 레이블 (예측값)\n",
        "ax.set_ylabel(\"True\")             # y축 레이블 (실제값)\n",
        "None"
      ]
    },
    {
      "cell_type": "code",
      "execution_count": null,
      "id": "a9905101",
      "metadata": {
        "id": "a9905101"
      },
      "outputs": [],
      "source": []
    }
  ],
  "metadata": {
    "kernelspec": {
      "display_name": "Python 3 (ipykernel)",
      "language": "python",
      "name": "python3"
    },
    "language_info": {
      "codemirror_mode": {
        "name": "ipython",
        "version": 3
      },
      "file_extension": ".py",
      "mimetype": "text/x-python",
      "name": "python",
      "nbconvert_exporter": "python",
      "pygments_lexer": "ipython3",
      "version": "3.9.16"
    },
    "colab": {
      "provenance": []
    }
  },
  "nbformat": 4,
  "nbformat_minor": 5
}