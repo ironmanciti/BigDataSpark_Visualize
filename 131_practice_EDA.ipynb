{
 "cells": [
  {
   "cell_type": "markdown",
   "metadata": {
    "id": "b5DYGoXeBYa8"
   },
   "source": [
    "**문제 정의** -  \n",
    "PySpark를 사용하여 고객 거래 데이터를 포함한 데이터셋에 대해 종합적인 데이터 분석을 수행하세요.\n",
    "\n",
    "1. 가장 많이 판매된 상품 카테고리를 찾으세요.  \n",
    "2. 가장 높은 매출을 생성한 상품 카테고리를 찾으세요.  \n",
    "3. 가장 가치 있는 고객 상위 10명을 선정하세요.  \n",
    "4. 각 성별이 어떤 상품 카테고리를 가장 많이 구매하는지 확인하세요.  \n",
    "5. 연령대와 매출 간의 관계를 보여주는 차트를 만드세요.  \n"
   ]
  },
  {
   "cell_type": "code",
   "execution_count": 1,
   "metadata": {
    "id": "txcN79sw-bXS"
   },
   "outputs": [],
   "source": [
    "import pyspark\n",
    "from pyspark.sql import SparkSession"
   ]
  },
  {
   "cell_type": "code",
   "execution_count": 5,
   "metadata": {
    "id": "6OAeXtJQ-oF7"
   },
   "outputs": [],
   "source": [
    "# PySpark의 SparkSession 객체 생성\n",
    "spark = SparkSession.builder.appName('PySpark_Practice').config(\"spark.sql.repl.eagerEval.enabled\", True).getOrCreate()"
   ]
  },
  {
   "cell_type": "code",
   "execution_count": 6,
   "metadata": {
    "colab": {
     "base_uri": "https://localhost:8080/",
     "height": 159
    },
    "id": "VyMMGyJN_7TF",
    "outputId": "9c68e273-29c9-487e-f815-a484a664800c"
   },
   "outputs": [
    {
     "data": {
      "text/html": [
       "<table border='1'>\n",
       "<tr><th>Transaction ID</th><th>Date</th><th>Customer ID</th><th>Gender</th><th>Age</th><th>Product Category</th><th>Quantity</th><th>Price per Unit</th><th>Total Amount</th></tr>\n",
       "<tr><td>1</td><td>2023-11-24</td><td>CUST001</td><td>Male</td><td>34</td><td>Beauty</td><td>3</td><td>50</td><td>150</td></tr>\n",
       "<tr><td>2</td><td>2023-02-27</td><td>CUST002</td><td>Female</td><td>26</td><td>Clothing</td><td>2</td><td>500</td><td>1000</td></tr>\n",
       "<tr><td>3</td><td>2023-01-13</td><td>CUST003</td><td>Male</td><td>50</td><td>Electronics</td><td>1</td><td>30</td><td>30</td></tr>\n",
       "<tr><td>4</td><td>2023-05-21</td><td>CUST004</td><td>Male</td><td>37</td><td>Clothing</td><td>1</td><td>500</td><td>500</td></tr>\n",
       "<tr><td>5</td><td>2023-05-06</td><td>CUST005</td><td>Male</td><td>30</td><td>Beauty</td><td>2</td><td>50</td><td>100</td></tr>\n",
       "</table>\n"
      ],
      "text/plain": [
       "+--------------+----------+-----------+------+---+----------------+--------+--------------+------------+\n",
       "|Transaction ID|      Date|Customer ID|Gender|Age|Product Category|Quantity|Price per Unit|Total Amount|\n",
       "+--------------+----------+-----------+------+---+----------------+--------+--------------+------------+\n",
       "|             1|2023-11-24|    CUST001|  Male| 34|          Beauty|       3|            50|         150|\n",
       "|             2|2023-02-27|    CUST002|Female| 26|        Clothing|       2|           500|        1000|\n",
       "|             3|2023-01-13|    CUST003|  Male| 50|     Electronics|       1|            30|          30|\n",
       "|             4|2023-05-21|    CUST004|  Male| 37|        Clothing|       1|           500|         500|\n",
       "|             5|2023-05-06|    CUST005|  Male| 30|          Beauty|       2|            50|         100|\n",
       "+--------------+----------+-----------+------+---+----------------+--------+--------------+------------+"
      ]
     },
     "execution_count": 6,
     "metadata": {},
     "output_type": "execute_result"
    }
   ],
   "source": [
    "# CSV 파일 경로 설정\n",
    "csv_file = \"/content/retail_sales_dataset.csv\"\n",
    "\n",
    "# PySpark 데이터프레임 생성\n"
   ]
  },
  {
   "cell_type": "code",
   "execution_count": 7,
   "metadata": {
    "id": "fZu0ARjIAbOC"
   },
   "outputs": [],
   "source": [
    "# \"u\"라는 이름의 임시 뷰를 생성\n"
   ]
  },
  {
   "cell_type": "code",
   "execution_count": 9,
   "metadata": {
    "colab": {
     "base_uri": "https://localhost:8080/"
    },
    "id": "IYzPBlf5ArLG",
    "outputId": "091d0310-b95e-439b-e792-10f290e915e2"
   },
   "outputs": [
    {
     "name": "stdout",
     "output_type": "stream",
     "text": [
      "+---+--------+\n",
      "|Age|Quantity|\n",
      "+---+--------+\n",
      "| 34|       3|\n",
      "| 26|       2|\n",
      "| 50|       1|\n",
      "| 37|       1|\n",
      "| 30|       2|\n",
      "| 45|       1|\n",
      "| 46|       2|\n",
      "| 30|       4|\n",
      "| 63|       2|\n",
      "| 52|       4|\n",
      "| 23|       2|\n",
      "| 35|       3|\n",
      "| 22|       3|\n",
      "| 64|       4|\n",
      "| 42|       4|\n",
      "| 19|       3|\n",
      "| 27|       4|\n",
      "| 47|       2|\n",
      "| 62|       2|\n",
      "| 22|       3|\n",
      "+---+--------+\n",
      "only showing top 20 rows\n",
      "\n"
     ]
    }
   ],
   "source": [
    "# Spark SQL로 임시 뷰 \"u\"에서 Age, Quantity를 쿼리\n"
   ]
  },
  {
   "cell_type": "markdown",
   "metadata": {
    "id": "aLwoavlyB4Ek"
   },
   "source": [
    "1. 가장 많이 판매된 상품 카테고리를 찾으세요.  "
   ]
  },
  {
   "cell_type": "code",
   "execution_count": 11,
   "metadata": {
    "colab": {
     "base_uri": "https://localhost:8080/"
    },
    "id": "pyx70h-MAs24",
    "outputId": "b6731b2e-6d46-4566-cdbc-cb55ee1f6d9c"
   },
   "outputs": [
    {
     "name": "stdout",
     "output_type": "stream",
     "text": [
      "+----------------+-------------------+\n",
      "|Product Category|Total Quantity Sold|\n",
      "+----------------+-------------------+\n",
      "|        Clothing|                894|\n",
      "|     Electronics|                849|\n",
      "|          Beauty|                771|\n",
      "+----------------+-------------------+\n",
      "\n"
     ]
    }
   ],
   "source": [
    "from pyspark.sql.functions import sum\n",
    "\n",
    "# 상품 카테고리별 판매량 집계\n",
    "# \"Product Category\" 열을 기준으로 데이터를 그룹화합니다.\n",
    "# 각 카테고리의 \"Quantity\" 합계를 계산하고, 결과를 열 이름 \"Total Quantity Sold\"로 지정합니다.\n",
    "\n",
    "# 판매량 기준으로 내림차순 정렬\n",
    "# \"Total Quantity Sold\"를 기준으로 내림차순으로 정렬합니다.\n"
   ]
  },
  {
   "cell_type": "code",
   "execution_count": 12,
   "metadata": {
    "colab": {
     "base_uri": "https://localhost:8080/"
    },
    "id": "GAhCgb05Co14",
    "outputId": "ee7ad702-bc5a-4cda-8a50-df2db66dd884"
   },
   "outputs": [
    {
     "name": "stdout",
     "output_type": "stream",
     "text": [
      "+----------------+-------------------+\n",
      "|Product Category|Total Quantity Sold|\n",
      "+----------------+-------------------+\n",
      "|        Clothing|                894|\n",
      "+----------------+-------------------+\n",
      "\n"
     ]
    }
   ],
   "source": [
    "# 판매량 기준으로 내림차순 정렬 후 가장 많이 판매된 카테고리를 추출\n",
    "# \"Total Quantity Sold\"를 기준으로 내림차순으로 정렬합니다.\n"
   ]
  },
  {
   "cell_type": "markdown",
   "metadata": {
    "id": "tNW_k8P0DIvj"
   },
   "source": [
    "2. 가장 높은 매출을 생성한 상품 카테고리를 찾으세요.  "
   ]
  },
  {
   "cell_type": "code",
   "execution_count": 15,
   "metadata": {
    "colab": {
     "base_uri": "https://localhost:8080/"
    },
    "id": "uTY-5uvIDBAn",
    "outputId": "bbf0f2ed-4456-43f9-8f4f-d80c48b24c38"
   },
   "outputs": [
    {
     "name": "stdout",
     "output_type": "stream",
     "text": [
      "+----------------+-------------+\n",
      "|Product Category|Total Revenue|\n",
      "+----------------+-------------+\n",
      "|     Electronics|       156905|\n",
      "|        Clothing|       155580|\n",
      "|          Beauty|       143515|\n",
      "+----------------+-------------+\n",
      "\n",
      "+----------------+-------------+\n",
      "|Product Category|Total Revenue|\n",
      "+----------------+-------------+\n",
      "|     Electronics|       156905|\n",
      "+----------------+-------------+\n",
      "\n"
     ]
    }
   ],
   "source": [
    "# 상품 카테고리별 매출 집계\n",
    "# \"Product Category\" 열을 기준으로 데이터를 그룹화합니다.\n",
    "# 각 카테고리의 \"Total Amount\" 합계를 계산하고, 결과를 열 이름 \"Total Revenue\"로 지정합니다.\n",
    "\n",
    "# 매출 기준으로 내림차순 정렬\n",
    "# \"Total Revenue\"를 기준으로 내림차순으로 정렬합니다.\n",
    "\n",
    "# 가장 높은 매출을 생성한 row를 반환합니다.\n"
   ]
  },
  {
   "cell_type": "markdown",
   "metadata": {
    "id": "JR5H5etZF0Gn"
   },
   "source": [
    "3. 각 성별이 어떤 상품 카테고리를 가장 많이 구매하는지 확인하세요.  "
   ]
  },
  {
   "cell_type": "code",
   "execution_count": 18,
   "metadata": {
    "colab": {
     "base_uri": "https://localhost:8080/",
     "height": 182
    },
    "id": "XBLIkslPF1rp",
    "outputId": "3953f299-d262-4e5e-a60e-a78216923b35"
   },
   "outputs": [
    {
     "data": {
      "text/html": [
       "<table border='1'>\n",
       "<tr><th>Gender</th><th>Product Category</th><th>count</th></tr>\n",
       "<tr><td>Male</td><td>Clothing</td><td>177</td></tr>\n",
       "<tr><td>Female</td><td>Clothing</td><td>174</td></tr>\n",
       "<tr><td>Male</td><td>Electronics</td><td>172</td></tr>\n",
       "<tr><td>Female</td><td>Beauty</td><td>166</td></tr>\n",
       "<tr><td>Male</td><td>Beauty</td><td>141</td></tr>\n",
       "<tr><td>Female</td><td>Electronics</td><td>170</td></tr>\n",
       "</table>\n"
      ],
      "text/plain": [
       "+------+----------------+-----+\n",
       "|Gender|Product Category|count|\n",
       "+------+----------------+-----+\n",
       "|  Male|        Clothing|  177|\n",
       "|Female|        Clothing|  174|\n",
       "|  Male|     Electronics|  172|\n",
       "|Female|          Beauty|  166|\n",
       "|  Male|          Beauty|  141|\n",
       "|Female|     Electronics|  170|\n",
       "+------+----------------+-----+"
      ]
     },
     "execution_count": 18,
     "metadata": {},
     "output_type": "execute_result"
    }
   ],
   "source": [
    "# 성별(Gender) 및 상품 카테고리(Product Category)별 데이터 개수 집계\n",
    "# \"Gender\"와 \"Product Category\"를 기준으로 데이터를 그룹화합니다.\n",
    "# 각 그룹에 속한 데이터의 개수를 계산합니다.\n"
   ]
  },
  {
   "cell_type": "code",
   "execution_count": null,
   "metadata": {
    "id": "efTlx1-YK_Sj"
   },
   "outputs": [],
   "source": []
  }
 ],
 "metadata": {
  "colab": {
   "provenance": []
  },
  "kernelspec": {
   "display_name": "Python 3 (ipykernel)",
   "language": "python",
   "name": "python3"
  },
  "language_info": {
   "codemirror_mode": {
    "name": "ipython",
    "version": 3
   },
   "file_extension": ".py",
   "mimetype": "text/x-python",
   "name": "python",
   "nbconvert_exporter": "python",
   "pygments_lexer": "ipython3",
   "version": "3.9.16"
  }
 },
 "nbformat": 4,
 "nbformat_minor": 4
}
